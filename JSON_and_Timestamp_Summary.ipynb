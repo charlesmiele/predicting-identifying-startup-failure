{
 "cells": [
  {
   "cell_type": "code",
   "execution_count": 1,
   "id": "6cdc5347",
   "metadata": {},
   "outputs": [],
   "source": [
    "import pandas as pd\n",
    "import os"
   ]
  },
  {
   "cell_type": "code",
   "execution_count": 2,
   "id": "bde6212e",
   "metadata": {},
   "outputs": [],
   "source": [
    "url_list = pd.read_csv('data/startup_url_list.csv')"
   ]
  },
  {
   "cell_type": "code",
   "execution_count": 3,
   "id": "c71166fd",
   "metadata": {},
   "outputs": [],
   "source": [
    "downloaded_jsons = os.listdir('data/raw-json')\n",
    "downloaded_jsons = [int(file[:-4]) for file in downloaded_jsons]"
   ]
  },
  {
   "cell_type": "markdown",
   "id": "9c8df0a4",
   "metadata": {},
   "source": [
    "#### How many JSONs did we not download?"
   ]
  },
  {
   "cell_type": "code",
   "execution_count": 4,
   "id": "245f9b4d",
   "metadata": {},
   "outputs": [
    {
     "data": {
      "text/plain": [
       "405"
      ]
     },
     "execution_count": 4,
     "metadata": {},
     "output_type": "execute_result"
    }
   ],
   "source": [
    "missed_jsons = url_list[url_list.entityid.isin(downloaded_jsons) == False]\n",
    "len(missed_jsons.index)"
   ]
  },
  {
   "cell_type": "markdown",
   "id": "206d5325",
   "metadata": {},
   "source": [
    "#### Why couldn't we download them?"
   ]
  },
  {
   "cell_type": "code",
   "execution_count": 5,
   "id": "740b1766",
   "metadata": {},
   "outputs": [
    {
     "data": {
      "text/plain": [
       "NoJSON                                                                                                                204\n",
       "ConnectionError                                                                                                       118\n",
       "403 Client Error: FORBIDDEN for url: https://web.archive.org/web/timemap/json?url=www.parting.com/                      1\n",
       "403 Client Error: FORBIDDEN for url: https://web.archive.org/web/timemap/json?url=www.shadowbox.com/                    1\n",
       "403 Client Error: FORBIDDEN for url: https://web.archive.org/web/timemap/json?url=www.dock.io/                          1\n",
       "                                                                                                                     ... \n",
       "403 Client Error: FORBIDDEN for url: https://web.archive.org/web/timemap/json?url=www.handy.com/                        1\n",
       "403 Client Error: FORBIDDEN for url: https://web.archive.org/web/timemap/json?url=www.confection.io/                    1\n",
       "429 Client Error: Too Many Requests for url: https://web.archive.org/web/timemap/json?url=thawdigital.com/              1\n",
       "429 Client Error: Too Many Requests for url: https://web.archive.org/web/timemap/json?url=www.reach.security/home/      1\n",
       "403 Client Error: FORBIDDEN for url: https://web.archive.org/web/timemap/json?url=www.kodiaknetworks.com/               1\n",
       "Name: reason_for_failure, Length: 85, dtype: int64"
      ]
     },
     "execution_count": 5,
     "metadata": {},
     "output_type": "execute_result"
    }
   ],
   "source": [
    "json_log_report = pd.read_csv('log-reports/archive/json-log-report.csv')\n",
    "missed_json_reason = json_log_report[json_log_report.entityid.isin(missed_jsons.entityid)].reason_for_failure\n",
    "missed_json_reason.value_counts()"
   ]
  },
  {
   "cell_type": "markdown",
   "id": "70a25037",
   "metadata": {},
   "source": [
    "#### How may timestamps have we not calculate (that we can calculate)?"
   ]
  },
  {
   "cell_type": "code",
   "execution_count": 6,
   "id": "e3ba0522",
   "metadata": {},
   "outputs": [
    {
     "data": {
      "text/html": [
       "<div>\n",
       "<style scoped>\n",
       "    .dataframe tbody tr th:only-of-type {\n",
       "        vertical-align: middle;\n",
       "    }\n",
       "\n",
       "    .dataframe tbody tr th {\n",
       "        vertical-align: top;\n",
       "    }\n",
       "\n",
       "    .dataframe thead th {\n",
       "        text-align: right;\n",
       "    }\n",
       "</style>\n",
       "<table border=\"1\" class=\"dataframe\">\n",
       "  <thead>\n",
       "    <tr style=\"text-align: right;\">\n",
       "      <th></th>\n",
       "      <th>entityid</th>\n",
       "      <th>weburl</th>\n",
       "      <th>pb_companyid</th>\n",
       "      <th>startdate</th>\n",
       "      <th>lastVC</th>\n",
       "      <th>ownershipstatus</th>\n",
       "      <th>exit_date</th>\n",
       "    </tr>\n",
       "  </thead>\n",
       "  <tbody>\n",
       "    <tr>\n",
       "      <th>3</th>\n",
       "      <td>53140</td>\n",
       "      <td>www.gmswireless.com</td>\n",
       "      <td>NaN</td>\n",
       "      <td>1997-08-01</td>\n",
       "      <td>2000-04-12</td>\n",
       "      <td>Acquired/Merged</td>\n",
       "      <td>2000-04-12</td>\n",
       "    </tr>\n",
       "    <tr>\n",
       "      <th>4</th>\n",
       "      <td>53141</td>\n",
       "      <td>www.motion-inc.com</td>\n",
       "      <td>NaN</td>\n",
       "      <td>1997-11-01</td>\n",
       "      <td>2000-02-10</td>\n",
       "      <td>Acquired/Merged</td>\n",
       "      <td>2000-02-10</td>\n",
       "    </tr>\n",
       "    <tr>\n",
       "      <th>6</th>\n",
       "      <td>53144</td>\n",
       "      <td>www.atoutcome.com</td>\n",
       "      <td>NaN</td>\n",
       "      <td>1997-01-01</td>\n",
       "      <td>1999-06-23</td>\n",
       "      <td>Out of Business</td>\n",
       "      <td>NaN</td>\n",
       "    </tr>\n",
       "    <tr>\n",
       "      <th>7</th>\n",
       "      <td>53146</td>\n",
       "      <td>www.atroad.com</td>\n",
       "      <td>NaN</td>\n",
       "      <td>1996-07-01</td>\n",
       "      <td>2000-09-29</td>\n",
       "      <td>Publicly-held</td>\n",
       "      <td>2000-09-29</td>\n",
       "    </tr>\n",
       "    <tr>\n",
       "      <th>14</th>\n",
       "      <td>53165</td>\n",
       "      <td>www.10charge.com</td>\n",
       "      <td>NaN</td>\n",
       "      <td>2004-01-01</td>\n",
       "      <td>2008-12-31</td>\n",
       "      <td>Acquired/Merged</td>\n",
       "      <td>2008-12-31</td>\n",
       "    </tr>\n",
       "    <tr>\n",
       "      <th>...</th>\n",
       "      <td>...</td>\n",
       "      <td>...</td>\n",
       "      <td>...</td>\n",
       "      <td>...</td>\n",
       "      <td>...</td>\n",
       "      <td>...</td>\n",
       "      <td>...</td>\n",
       "    </tr>\n",
       "    <tr>\n",
       "      <th>78321</th>\n",
       "      <td>1052271875</td>\n",
       "      <td>www.xyonetx.com</td>\n",
       "      <td>NaN</td>\n",
       "      <td>2021-01-01</td>\n",
       "      <td>2022-10-01</td>\n",
       "      <td>Private &amp; Independent</td>\n",
       "      <td>NaN</td>\n",
       "    </tr>\n",
       "    <tr>\n",
       "      <th>78323</th>\n",
       "      <td>1052274143</td>\n",
       "      <td>www.digitalex.io</td>\n",
       "      <td>NaN</td>\n",
       "      <td>NaN</td>\n",
       "      <td>2023-04-04</td>\n",
       "      <td>Private &amp; Independent</td>\n",
       "      <td>NaN</td>\n",
       "    </tr>\n",
       "    <tr>\n",
       "      <th>78324</th>\n",
       "      <td>1052276555</td>\n",
       "      <td>www.solmslanding.com</td>\n",
       "      <td>NaN</td>\n",
       "      <td>2019-01-14</td>\n",
       "      <td>2023-03-30</td>\n",
       "      <td>Private &amp; Independent</td>\n",
       "      <td>NaN</td>\n",
       "    </tr>\n",
       "    <tr>\n",
       "      <th>78327</th>\n",
       "      <td>1052277599</td>\n",
       "      <td>www.cammie.com</td>\n",
       "      <td>NaN</td>\n",
       "      <td>NaN</td>\n",
       "      <td>2023-01-01</td>\n",
       "      <td>Private &amp; Independent</td>\n",
       "      <td>NaN</td>\n",
       "    </tr>\n",
       "    <tr>\n",
       "      <th>78329</th>\n",
       "      <td>1052277806</td>\n",
       "      <td>www.innlabserv.com</td>\n",
       "      <td>NaN</td>\n",
       "      <td>2014-01-01</td>\n",
       "      <td>2023-04-04</td>\n",
       "      <td>Private &amp; Independent</td>\n",
       "      <td>NaN</td>\n",
       "    </tr>\n",
       "  </tbody>\n",
       "</table>\n",
       "<p>10632 rows × 7 columns</p>\n",
       "</div>"
      ],
      "text/plain": [
       "         entityid                weburl pb_companyid   startdate      lastVC  \\\n",
       "3           53140   www.gmswireless.com          NaN  1997-08-01  2000-04-12   \n",
       "4           53141    www.motion-inc.com          NaN  1997-11-01  2000-02-10   \n",
       "6           53144     www.atoutcome.com          NaN  1997-01-01  1999-06-23   \n",
       "7           53146        www.atroad.com          NaN  1996-07-01  2000-09-29   \n",
       "14          53165      www.10charge.com          NaN  2004-01-01  2008-12-31   \n",
       "...           ...                   ...          ...         ...         ...   \n",
       "78321  1052271875       www.xyonetx.com          NaN  2021-01-01  2022-10-01   \n",
       "78323  1052274143      www.digitalex.io          NaN         NaN  2023-04-04   \n",
       "78324  1052276555  www.solmslanding.com          NaN  2019-01-14  2023-03-30   \n",
       "78327  1052277599        www.cammie.com          NaN         NaN  2023-01-01   \n",
       "78329  1052277806    www.innlabserv.com          NaN  2014-01-01  2023-04-04   \n",
       "\n",
       "             ownershipstatus   exit_date  \n",
       "3            Acquired/Merged  2000-04-12  \n",
       "4            Acquired/Merged  2000-02-10  \n",
       "6            Out of Business         NaN  \n",
       "7              Publicly-held  2000-09-29  \n",
       "14           Acquired/Merged  2008-12-31  \n",
       "...                      ...         ...  \n",
       "78321  Private & Independent         NaN  \n",
       "78323  Private & Independent         NaN  \n",
       "78324  Private & Independent         NaN  \n",
       "78327  Private & Independent         NaN  \n",
       "78329  Private & Independent         NaN  \n",
       "\n",
       "[10632 rows x 7 columns]"
      ]
     },
     "execution_count": 6,
     "metadata": {},
     "output_type": "execute_result"
    }
   ],
   "source": [
    "downloaded_timestamps = os.listdir('data/optimal-timestamps')\n",
    "downloaded_timestamps = [int(file[:-15]) for file in downloaded_timestamps]\n",
    "missed_timestamps = url_list[url_list.entityid.isin(downloaded_timestamps) == False]\n",
    "missed_timestamps"
   ]
  },
  {
   "cell_type": "code",
   "execution_count": 7,
   "id": "e76b3b26",
   "metadata": {
    "scrolled": false
   },
   "outputs": [
    {
     "data": {
      "text/html": [
       "<div>\n",
       "<style scoped>\n",
       "    .dataframe tbody tr th:only-of-type {\n",
       "        vertical-align: middle;\n",
       "    }\n",
       "\n",
       "    .dataframe tbody tr th {\n",
       "        vertical-align: top;\n",
       "    }\n",
       "\n",
       "    .dataframe thead th {\n",
       "        text-align: right;\n",
       "    }\n",
       "</style>\n",
       "<table border=\"1\" class=\"dataframe\">\n",
       "  <thead>\n",
       "    <tr style=\"text-align: right;\">\n",
       "      <th></th>\n",
       "      <th>entityid</th>\n",
       "      <th>domain</th>\n",
       "      <th>time_of_run</th>\n",
       "      <th>earliest_screenshot</th>\n",
       "      <th>start_date_with_buffer</th>\n",
       "      <th>latest_screenshot</th>\n",
       "      <th>end_date_with_buffer</th>\n",
       "      <th>file_path</th>\n",
       "      <th>failed</th>\n",
       "      <th>reason_for_failure</th>\n",
       "    </tr>\n",
       "  </thead>\n",
       "  <tbody>\n",
       "    <tr>\n",
       "      <th>3</th>\n",
       "      <td>53140</td>\n",
       "      <td>www.gmswireless.com</td>\n",
       "      <td>2023-06-13 03:13:01</td>\n",
       "      <td>NaN</td>\n",
       "      <td>1997-02-02 00:00:00</td>\n",
       "      <td>NaN</td>\n",
       "      <td>2000-10-09 00:00:00</td>\n",
       "      <td>NaN</td>\n",
       "      <td>1</td>\n",
       "      <td>No timestamps within company life span</td>\n",
       "    </tr>\n",
       "    <tr>\n",
       "      <th>4</th>\n",
       "      <td>53141</td>\n",
       "      <td>www.motion-inc.com</td>\n",
       "      <td>2023-06-13 03:13:01</td>\n",
       "      <td>NaN</td>\n",
       "      <td>1997-05-05 00:00:00</td>\n",
       "      <td>NaN</td>\n",
       "      <td>2000-08-08 00:00:00</td>\n",
       "      <td>NaN</td>\n",
       "      <td>1</td>\n",
       "      <td>No timestamps within company life span</td>\n",
       "    </tr>\n",
       "    <tr>\n",
       "      <th>6</th>\n",
       "      <td>53144</td>\n",
       "      <td>www.atoutcome.com</td>\n",
       "      <td>2023-06-13 03:13:01</td>\n",
       "      <td>NaN</td>\n",
       "      <td>1996-07-05 00:00:00</td>\n",
       "      <td>NaN</td>\n",
       "      <td>2023-06-06 00:00:00</td>\n",
       "      <td>NaN</td>\n",
       "      <td>1</td>\n",
       "      <td>No timestamps within company life span</td>\n",
       "    </tr>\n",
       "    <tr>\n",
       "      <th>7</th>\n",
       "      <td>53146</td>\n",
       "      <td>www.atroad.com</td>\n",
       "      <td>2023-06-13 03:13:01</td>\n",
       "      <td>NaN</td>\n",
       "      <td>1996-01-03 00:00:00</td>\n",
       "      <td>NaN</td>\n",
       "      <td>2001-03-28 00:00:00</td>\n",
       "      <td>NaN</td>\n",
       "      <td>1</td>\n",
       "      <td>No timestamps within company life span</td>\n",
       "    </tr>\n",
       "    <tr>\n",
       "      <th>14</th>\n",
       "      <td>53165</td>\n",
       "      <td>www.10charge.com</td>\n",
       "      <td>2023-06-13 03:13:01</td>\n",
       "      <td>NaN</td>\n",
       "      <td>2003-07-05 00:00:00</td>\n",
       "      <td>NaN</td>\n",
       "      <td>2009-06-29 00:00:00</td>\n",
       "      <td>NaN</td>\n",
       "      <td>1</td>\n",
       "      <td>No timestamps within company life span</td>\n",
       "    </tr>\n",
       "    <tr>\n",
       "      <th>...</th>\n",
       "      <td>...</td>\n",
       "      <td>...</td>\n",
       "      <td>...</td>\n",
       "      <td>...</td>\n",
       "      <td>...</td>\n",
       "      <td>...</td>\n",
       "      <td>...</td>\n",
       "      <td>...</td>\n",
       "      <td>...</td>\n",
       "      <td>...</td>\n",
       "    </tr>\n",
       "    <tr>\n",
       "      <th>78321</th>\n",
       "      <td>1052271875</td>\n",
       "      <td>www.xyonetx.com</td>\n",
       "      <td>2023-06-13 04:17:32</td>\n",
       "      <td>NaN</td>\n",
       "      <td>2021-01-01</td>\n",
       "      <td>NaN</td>\n",
       "      <td>NaN</td>\n",
       "      <td>NaN</td>\n",
       "      <td>1</td>\n",
       "      <td>No JSON data</td>\n",
       "    </tr>\n",
       "    <tr>\n",
       "      <th>78323</th>\n",
       "      <td>1052274143</td>\n",
       "      <td>www.digitalex.io</td>\n",
       "      <td>2023-06-13 04:17:32</td>\n",
       "      <td>NaN</td>\n",
       "      <td>NaN</td>\n",
       "      <td>NaN</td>\n",
       "      <td>NaN</td>\n",
       "      <td>NaN</td>\n",
       "      <td>1</td>\n",
       "      <td>No JSON data</td>\n",
       "    </tr>\n",
       "    <tr>\n",
       "      <th>78324</th>\n",
       "      <td>1052276555</td>\n",
       "      <td>www.solmslanding.com</td>\n",
       "      <td>2023-06-13 04:17:32</td>\n",
       "      <td>NaN</td>\n",
       "      <td>2019-01-14</td>\n",
       "      <td>NaN</td>\n",
       "      <td>NaN</td>\n",
       "      <td>NaN</td>\n",
       "      <td>1</td>\n",
       "      <td>No JSON data</td>\n",
       "    </tr>\n",
       "    <tr>\n",
       "      <th>78327</th>\n",
       "      <td>1052277599</td>\n",
       "      <td>www.cammie.com</td>\n",
       "      <td>2023-06-13 04:17:32</td>\n",
       "      <td>NaN</td>\n",
       "      <td>NaN</td>\n",
       "      <td>NaN</td>\n",
       "      <td>NaN</td>\n",
       "      <td>NaN</td>\n",
       "      <td>1</td>\n",
       "      <td>No JSON data</td>\n",
       "    </tr>\n",
       "    <tr>\n",
       "      <th>78329</th>\n",
       "      <td>1052277806</td>\n",
       "      <td>www.innlabserv.com</td>\n",
       "      <td>2023-06-13 04:17:32</td>\n",
       "      <td>NaN</td>\n",
       "      <td>2014-01-01</td>\n",
       "      <td>NaN</td>\n",
       "      <td>NaN</td>\n",
       "      <td>NaN</td>\n",
       "      <td>1</td>\n",
       "      <td>No JSON data</td>\n",
       "    </tr>\n",
       "  </tbody>\n",
       "</table>\n",
       "<p>10632 rows × 10 columns</p>\n",
       "</div>"
      ],
      "text/plain": [
       "         entityid                domain          time_of_run  \\\n",
       "3           53140   www.gmswireless.com  2023-06-13 03:13:01   \n",
       "4           53141    www.motion-inc.com  2023-06-13 03:13:01   \n",
       "6           53144     www.atoutcome.com  2023-06-13 03:13:01   \n",
       "7           53146        www.atroad.com  2023-06-13 03:13:01   \n",
       "14          53165      www.10charge.com  2023-06-13 03:13:01   \n",
       "...           ...                   ...                  ...   \n",
       "78321  1052271875       www.xyonetx.com  2023-06-13 04:17:32   \n",
       "78323  1052274143      www.digitalex.io  2023-06-13 04:17:32   \n",
       "78324  1052276555  www.solmslanding.com  2023-06-13 04:17:32   \n",
       "78327  1052277599        www.cammie.com  2023-06-13 04:17:32   \n",
       "78329  1052277806    www.innlabserv.com  2023-06-13 04:17:32   \n",
       "\n",
       "      earliest_screenshot start_date_with_buffer latest_screenshot  \\\n",
       "3                     NaN    1997-02-02 00:00:00               NaN   \n",
       "4                     NaN    1997-05-05 00:00:00               NaN   \n",
       "6                     NaN    1996-07-05 00:00:00               NaN   \n",
       "7                     NaN    1996-01-03 00:00:00               NaN   \n",
       "14                    NaN    2003-07-05 00:00:00               NaN   \n",
       "...                   ...                    ...               ...   \n",
       "78321                 NaN             2021-01-01               NaN   \n",
       "78323                 NaN                    NaN               NaN   \n",
       "78324                 NaN             2019-01-14               NaN   \n",
       "78327                 NaN                    NaN               NaN   \n",
       "78329                 NaN             2014-01-01               NaN   \n",
       "\n",
       "      end_date_with_buffer file_path  failed  \\\n",
       "3      2000-10-09 00:00:00       NaN       1   \n",
       "4      2000-08-08 00:00:00       NaN       1   \n",
       "6      2023-06-06 00:00:00       NaN       1   \n",
       "7      2001-03-28 00:00:00       NaN       1   \n",
       "14     2009-06-29 00:00:00       NaN       1   \n",
       "...                    ...       ...     ...   \n",
       "78321                  NaN       NaN       1   \n",
       "78323                  NaN       NaN       1   \n",
       "78324                  NaN       NaN       1   \n",
       "78327                  NaN       NaN       1   \n",
       "78329                  NaN       NaN       1   \n",
       "\n",
       "                           reason_for_failure  \n",
       "3      No timestamps within company life span  \n",
       "4      No timestamps within company life span  \n",
       "6      No timestamps within company life span  \n",
       "7      No timestamps within company life span  \n",
       "14     No timestamps within company life span  \n",
       "...                                       ...  \n",
       "78321                            No JSON data  \n",
       "78323                            No JSON data  \n",
       "78324                            No JSON data  \n",
       "78327                            No JSON data  \n",
       "78329                            No JSON data  \n",
       "\n",
       "[10632 rows x 10 columns]"
      ]
     },
     "execution_count": 7,
     "metadata": {},
     "output_type": "execute_result"
    }
   ],
   "source": [
    "timestamp_log_report = pd.read_csv('log-reports/archive/optimal_timestamp_log_report_6-13.csv')\n",
    "timestamp_log_report = timestamp_log_report[timestamp_log_report.entityid.isin(missed_timestamps.entityid)]\n",
    "timestamp_log_report"
   ]
  },
  {
   "cell_type": "markdown",
   "id": "38d55bf5",
   "metadata": {},
   "source": [
    "All 10,808 companies with missed timestamps have logs, which is good.\n",
    "\n",
    "Let's see why we couldn't get their timestamps:"
   ]
  },
  {
   "cell_type": "code",
   "execution_count": 8,
   "id": "a2c33f48",
   "metadata": {
    "scrolled": true
   },
   "outputs": [
    {
     "data": {
      "text/plain": [
       "No timestamps within company life span    8667\n",
       "No JSON data                              1484\n",
       "Missing start date                         481\n",
       "Name: reason_for_failure, dtype: int64"
      ]
     },
     "execution_count": 8,
     "metadata": {},
     "output_type": "execute_result"
    }
   ],
   "source": [
    "timestamp_log_report.reason_for_failure.value_counts()"
   ]
  },
  {
   "cell_type": "markdown",
   "id": "0bba1a2c",
   "metadata": {},
   "source": [
    "...this was run a few days ago, so we now have more JSON files. Let's see how many of those _now_ have JSON files"
   ]
  },
  {
   "cell_type": "code",
   "execution_count": 9,
   "id": "26674d5a",
   "metadata": {},
   "outputs": [
    {
     "data": {
      "text/plain": [
       "162           53739\n",
       "282           54072\n",
       "347           54274\n",
       "451           54640\n",
       "754           55716\n",
       "            ...    \n",
       "78321    1052271875\n",
       "78323    1052274143\n",
       "78324    1052276555\n",
       "78327    1052277599\n",
       "78329    1052277806\n",
       "Name: entityid, Length: 1484, dtype: int64"
      ]
     },
     "execution_count": 9,
     "metadata": {},
     "output_type": "execute_result"
    }
   ],
   "source": [
    "missing_jsons = timestamp_log_report[timestamp_log_report.reason_for_failure == \"No JSON data\"].entityid\n",
    "missing_jsons_executable = missing_jsons[missing_jsons.isin(downloaded_jsons)]\n",
    "missing_jsons"
   ]
  },
  {
   "cell_type": "markdown",
   "id": "10ac28be",
   "metadata": {},
   "source": [
    "We can also add the JSONs with missing start dates since we can use their LastVC date as a start date"
   ]
  },
  {
   "cell_type": "code",
   "execution_count": 10,
   "id": "0d32b54d",
   "metadata": {},
   "outputs": [],
   "source": [
    "missing_jsons_executable = missing_jsons_executable.append(timestamp_log_report[timestamp_log_report.reason_for_failure == \"Missing start date\"].entityid)"
   ]
  },
  {
   "cell_type": "code",
   "execution_count": 11,
   "id": "a34bf8fa",
   "metadata": {},
   "outputs": [],
   "source": [
    "missing_jsons_executable_urls = url_list[url_list.entityid.isin(missing_jsons_executable)]\n",
    "missing_jsons_executable_urls.to_csv('data/missing_jsons_executable.csv', index=False)"
   ]
  },
  {
   "cell_type": "markdown",
   "id": "45b54a49",
   "metadata": {},
   "source": [
    "Ok, just ran missing_jsons_executable_urls into a timestamp. Let's look at the log report"
   ]
  },
  {
   "cell_type": "code",
   "execution_count": 28,
   "id": "0ad071a8",
   "metadata": {},
   "outputs": [],
   "source": [
    "msje_le = pd.read_csv('log-reports/optimal_timestamp_log_report_6-14.csv')\n",
    "msje_le_f = msje_le[msje_le.failed == 1]"
   ]
  },
  {
   "cell_type": "markdown",
   "id": "91497541",
   "metadata": {},
   "source": [
    "We can add these, as well as the previously failed, to a list that we can call msjne (\"missing jsons *not* executable\")\n",
    "\n",
    "So first we filter timestamp_log_report to have only \"No timestamps within company life span\""
   ]
  },
  {
   "cell_type": "code",
   "execution_count": 29,
   "id": "2d1e6d6d",
   "metadata": {},
   "outputs": [],
   "source": [
    "mjne = timestamp_log_report[timestamp_log_report.reason_for_failure == \"No timestamps within company life span\"]"
   ]
  },
  {
   "cell_type": "markdown",
   "id": "bf6c7995",
   "metadata": {},
   "source": [
    "Merge with most recent log report failed co's (all failed b/c no timestamps within company life span)"
   ]
  },
  {
   "cell_type": "code",
   "execution_count": 30,
   "id": "9e09239a",
   "metadata": {},
   "outputs": [
    {
     "data": {
      "text/html": [
       "<div>\n",
       "<style scoped>\n",
       "    .dataframe tbody tr th:only-of-type {\n",
       "        vertical-align: middle;\n",
       "    }\n",
       "\n",
       "    .dataframe tbody tr th {\n",
       "        vertical-align: top;\n",
       "    }\n",
       "\n",
       "    .dataframe thead th {\n",
       "        text-align: right;\n",
       "    }\n",
       "</style>\n",
       "<table border=\"1\" class=\"dataframe\">\n",
       "  <thead>\n",
       "    <tr style=\"text-align: right;\">\n",
       "      <th></th>\n",
       "      <th>entityid</th>\n",
       "      <th>domain</th>\n",
       "      <th>time_of_run</th>\n",
       "      <th>earliest_screenshot</th>\n",
       "      <th>start_date_with_buffer</th>\n",
       "      <th>latest_screenshot</th>\n",
       "      <th>end_date_with_buffer</th>\n",
       "      <th>file_path</th>\n",
       "      <th>failed</th>\n",
       "      <th>reason_for_failure</th>\n",
       "    </tr>\n",
       "  </thead>\n",
       "  <tbody>\n",
       "    <tr>\n",
       "      <th>3</th>\n",
       "      <td>53140</td>\n",
       "      <td>www.gmswireless.com</td>\n",
       "      <td>2023-06-13 03:13:01</td>\n",
       "      <td>NaN</td>\n",
       "      <td>1997-02-02 00:00:00</td>\n",
       "      <td>NaN</td>\n",
       "      <td>2000-10-09 00:00:00</td>\n",
       "      <td>NaN</td>\n",
       "      <td>1</td>\n",
       "      <td>No timestamps within company life span</td>\n",
       "    </tr>\n",
       "    <tr>\n",
       "      <th>4</th>\n",
       "      <td>53141</td>\n",
       "      <td>www.motion-inc.com</td>\n",
       "      <td>2023-06-13 03:13:01</td>\n",
       "      <td>NaN</td>\n",
       "      <td>1997-05-05 00:00:00</td>\n",
       "      <td>NaN</td>\n",
       "      <td>2000-08-08 00:00:00</td>\n",
       "      <td>NaN</td>\n",
       "      <td>1</td>\n",
       "      <td>No timestamps within company life span</td>\n",
       "    </tr>\n",
       "    <tr>\n",
       "      <th>6</th>\n",
       "      <td>53144</td>\n",
       "      <td>www.atoutcome.com</td>\n",
       "      <td>2023-06-13 03:13:01</td>\n",
       "      <td>NaN</td>\n",
       "      <td>1996-07-05 00:00:00</td>\n",
       "      <td>NaN</td>\n",
       "      <td>2023-06-06 00:00:00</td>\n",
       "      <td>NaN</td>\n",
       "      <td>1</td>\n",
       "      <td>No timestamps within company life span</td>\n",
       "    </tr>\n",
       "    <tr>\n",
       "      <th>7</th>\n",
       "      <td>53146</td>\n",
       "      <td>www.atroad.com</td>\n",
       "      <td>2023-06-13 03:13:01</td>\n",
       "      <td>NaN</td>\n",
       "      <td>1996-01-03 00:00:00</td>\n",
       "      <td>NaN</td>\n",
       "      <td>2001-03-28 00:00:00</td>\n",
       "      <td>NaN</td>\n",
       "      <td>1</td>\n",
       "      <td>No timestamps within company life span</td>\n",
       "    </tr>\n",
       "    <tr>\n",
       "      <th>14</th>\n",
       "      <td>53165</td>\n",
       "      <td>www.10charge.com</td>\n",
       "      <td>2023-06-13 03:13:01</td>\n",
       "      <td>NaN</td>\n",
       "      <td>2003-07-05 00:00:00</td>\n",
       "      <td>NaN</td>\n",
       "      <td>2009-06-29 00:00:00</td>\n",
       "      <td>NaN</td>\n",
       "      <td>1</td>\n",
       "      <td>No timestamps within company life span</td>\n",
       "    </tr>\n",
       "    <tr>\n",
       "      <th>...</th>\n",
       "      <td>...</td>\n",
       "      <td>...</td>\n",
       "      <td>...</td>\n",
       "      <td>...</td>\n",
       "      <td>...</td>\n",
       "      <td>...</td>\n",
       "      <td>...</td>\n",
       "      <td>...</td>\n",
       "      <td>...</td>\n",
       "      <td>...</td>\n",
       "    </tr>\n",
       "    <tr>\n",
       "      <th>1731</th>\n",
       "      <td>1052271875</td>\n",
       "      <td>www.xyonetx.com</td>\n",
       "      <td>2023-06-14 14:57:21</td>\n",
       "      <td>NaN</td>\n",
       "      <td>2020-07-05</td>\n",
       "      <td>NaN</td>\n",
       "      <td>2023-06-06</td>\n",
       "      <td>NaN</td>\n",
       "      <td>1</td>\n",
       "      <td>No timestamps within company life span</td>\n",
       "    </tr>\n",
       "    <tr>\n",
       "      <th>1732</th>\n",
       "      <td>1052274143</td>\n",
       "      <td>www.digitalex.io</td>\n",
       "      <td>2023-06-14 14:57:21</td>\n",
       "      <td>NaN</td>\n",
       "      <td>2022-10-06</td>\n",
       "      <td>NaN</td>\n",
       "      <td>2023-06-06</td>\n",
       "      <td>NaN</td>\n",
       "      <td>1</td>\n",
       "      <td>No timestamps within company life span</td>\n",
       "    </tr>\n",
       "    <tr>\n",
       "      <th>1733</th>\n",
       "      <td>1052276555</td>\n",
       "      <td>www.solmslanding.com</td>\n",
       "      <td>2023-06-14 14:57:21</td>\n",
       "      <td>NaN</td>\n",
       "      <td>2018-07-18</td>\n",
       "      <td>NaN</td>\n",
       "      <td>2023-06-06</td>\n",
       "      <td>NaN</td>\n",
       "      <td>1</td>\n",
       "      <td>No timestamps within company life span</td>\n",
       "    </tr>\n",
       "    <tr>\n",
       "      <th>1734</th>\n",
       "      <td>1052277599</td>\n",
       "      <td>www.cammie.com</td>\n",
       "      <td>2023-06-14 14:57:21</td>\n",
       "      <td>NaN</td>\n",
       "      <td>2022-07-05</td>\n",
       "      <td>NaN</td>\n",
       "      <td>2023-06-06</td>\n",
       "      <td>NaN</td>\n",
       "      <td>1</td>\n",
       "      <td>No timestamps within company life span</td>\n",
       "    </tr>\n",
       "    <tr>\n",
       "      <th>1735</th>\n",
       "      <td>1052277806</td>\n",
       "      <td>www.innlabserv.com</td>\n",
       "      <td>2023-06-14 14:57:21</td>\n",
       "      <td>NaN</td>\n",
       "      <td>2013-07-05</td>\n",
       "      <td>NaN</td>\n",
       "      <td>2023-06-06</td>\n",
       "      <td>NaN</td>\n",
       "      <td>1</td>\n",
       "      <td>No timestamps within company life span</td>\n",
       "    </tr>\n",
       "  </tbody>\n",
       "</table>\n",
       "<p>10227 rows × 10 columns</p>\n",
       "</div>"
      ],
      "text/plain": [
       "        entityid                domain          time_of_run  \\\n",
       "3          53140   www.gmswireless.com  2023-06-13 03:13:01   \n",
       "4          53141    www.motion-inc.com  2023-06-13 03:13:01   \n",
       "6          53144     www.atoutcome.com  2023-06-13 03:13:01   \n",
       "7          53146        www.atroad.com  2023-06-13 03:13:01   \n",
       "14         53165      www.10charge.com  2023-06-13 03:13:01   \n",
       "...          ...                   ...                  ...   \n",
       "1731  1052271875       www.xyonetx.com  2023-06-14 14:57:21   \n",
       "1732  1052274143      www.digitalex.io  2023-06-14 14:57:21   \n",
       "1733  1052276555  www.solmslanding.com  2023-06-14 14:57:21   \n",
       "1734  1052277599        www.cammie.com  2023-06-14 14:57:21   \n",
       "1735  1052277806    www.innlabserv.com  2023-06-14 14:57:21   \n",
       "\n",
       "     earliest_screenshot start_date_with_buffer latest_screenshot  \\\n",
       "3                    NaN    1997-02-02 00:00:00               NaN   \n",
       "4                    NaN    1997-05-05 00:00:00               NaN   \n",
       "6                    NaN    1996-07-05 00:00:00               NaN   \n",
       "7                    NaN    1996-01-03 00:00:00               NaN   \n",
       "14                   NaN    2003-07-05 00:00:00               NaN   \n",
       "...                  ...                    ...               ...   \n",
       "1731                 NaN             2020-07-05               NaN   \n",
       "1732                 NaN             2022-10-06               NaN   \n",
       "1733                 NaN             2018-07-18               NaN   \n",
       "1734                 NaN             2022-07-05               NaN   \n",
       "1735                 NaN             2013-07-05               NaN   \n",
       "\n",
       "     end_date_with_buffer file_path  failed  \\\n",
       "3     2000-10-09 00:00:00       NaN       1   \n",
       "4     2000-08-08 00:00:00       NaN       1   \n",
       "6     2023-06-06 00:00:00       NaN       1   \n",
       "7     2001-03-28 00:00:00       NaN       1   \n",
       "14    2009-06-29 00:00:00       NaN       1   \n",
       "...                   ...       ...     ...   \n",
       "1731           2023-06-06       NaN       1   \n",
       "1732           2023-06-06       NaN       1   \n",
       "1733           2023-06-06       NaN       1   \n",
       "1734           2023-06-06       NaN       1   \n",
       "1735           2023-06-06       NaN       1   \n",
       "\n",
       "                          reason_for_failure  \n",
       "3     No timestamps within company life span  \n",
       "4     No timestamps within company life span  \n",
       "6     No timestamps within company life span  \n",
       "7     No timestamps within company life span  \n",
       "14    No timestamps within company life span  \n",
       "...                                      ...  \n",
       "1731  No timestamps within company life span  \n",
       "1732  No timestamps within company life span  \n",
       "1733  No timestamps within company life span  \n",
       "1734  No timestamps within company life span  \n",
       "1735  No timestamps within company life span  \n",
       "\n",
       "[10227 rows x 10 columns]"
      ]
     },
     "execution_count": 30,
     "metadata": {},
     "output_type": "execute_result"
    }
   ],
   "source": [
    "mjne = pd.concat([mjne, msje_le_f], axis=0)\n",
    "mjne"
   ]
  },
  {
   "cell_type": "markdown",
   "id": "0fc40370",
   "metadata": {},
   "source": [
    "Make sure all this stuff checks out."
   ]
  },
  {
   "cell_type": "markdown",
   "id": "eba6f432",
   "metadata": {},
   "source": [
    "No duplicates?"
   ]
  },
  {
   "cell_type": "code",
   "execution_count": 32,
   "id": "a415d9b8",
   "metadata": {},
   "outputs": [
    {
     "data": {
      "text/plain": [
       "10227"
      ]
     },
     "execution_count": 32,
     "metadata": {},
     "output_type": "execute_result"
    }
   ],
   "source": [
    "len(pd.unique(mjne.entityid))\n",
    "len(mjne.index)"
   ]
  },
  {
   "cell_type": "markdown",
   "id": "6637c7fc",
   "metadata": {},
   "source": [
    "Does len(mjne.index) + number of timestamps = number of jsons?"
   ]
  },
  {
   "cell_type": "code",
   "execution_count": 34,
   "id": "8dc0ad63",
   "metadata": {},
   "outputs": [
    {
     "data": {
      "text/plain": [
       "True"
      ]
     },
     "execution_count": 34,
     "metadata": {},
     "output_type": "execute_result"
    }
   ],
   "source": [
    "len(mjne.index) + len(downloaded_timestamps) == len(downloaded_jsons)"
   ]
  },
  {
   "cell_type": "markdown",
   "id": "af2fd7eb",
   "metadata": {},
   "source": [
    "Add in all of the Output this to a CSV in \"data\". Add \"reason_for_failure\" to the CSV"
   ]
  },
  {
   "cell_type": "code",
   "execution_count": 44,
   "id": "870bc8a2",
   "metadata": {},
   "outputs": [],
   "source": [
    "mjne_cos = url_list[url_list.entityid.isin(mjne.entityid)]\n",
    "mjne_cos = mjne_cos.merge(mjne[['entityid', 'reason_for_failure']], on='entityid', how='left')\n",
    "mjne_cos.to_csv(\"data/failed_cos/no_timestamps.csv\", index=False)"
   ]
  },
  {
   "cell_type": "markdown",
   "id": "544f15a7",
   "metadata": {},
   "source": [
    "Now do the same for the missing jsons"
   ]
  },
  {
   "cell_type": "code",
   "execution_count": 57,
   "id": "fba824ff",
   "metadata": {},
   "outputs": [],
   "source": [
    "missed_jsons = url_list[url_list.entityid.isin(downloaded_jsons) == False]\n",
    "missed_json_reason = json_log_report[json_log_report.entityid.isin(missed_jsons.entityid)]\n",
    "missed_jsons = missed_jsons.merge(missed_json_reason[['entityid', 'reason_for_failure']], on='entityid', how='left')\n",
    "missed_jsons.to_csv(\"data/failed_cos/no_json.csv\", index=False)"
   ]
  }
 ],
 "metadata": {
  "kernelspec": {
   "display_name": "Python 3 (ipykernel)",
   "language": "python",
   "name": "python3"
  },
  "language_info": {
   "codemirror_mode": {
    "name": "ipython",
    "version": 3
   },
   "file_extension": ".py",
   "mimetype": "text/x-python",
   "name": "python",
   "nbconvert_exporter": "python",
   "pygments_lexer": "ipython3",
   "version": "3.9.2"
  }
 },
 "nbformat": 4,
 "nbformat_minor": 5
}
