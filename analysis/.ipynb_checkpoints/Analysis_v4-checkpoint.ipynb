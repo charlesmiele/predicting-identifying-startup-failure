{
 "cells": [
  {
   "cell_type": "code",
   "execution_count": 431,
   "id": "7a7a0115",
   "metadata": {},
   "outputs": [],
   "source": [
    "import pandas as pd\n",
    "import os\n",
    "import matplotlib.pyplot as plt"
   ]
  },
  {
   "cell_type": "markdown",
   "id": "02ccfc92",
   "metadata": {},
   "source": [
    "1. [Load Data](#1-Load-data)\n",
    "2. [Fix year from start dates](#2-Fix-yr_from_start)\n",
    "3. [Create growth metrics](#3-Create-growth-metrics)  \n",
    "      1. [img count](#3.1-img-count-growth)\n",
    "      2. [publicity count](#3.2-Publicity-growth)\n",
    "4. [Run regressions on subset data](#4-Subset-data-and-run-regressions)"
   ]
  },
  {
   "cell_type": "markdown",
   "id": "cb196f00",
   "metadata": {},
   "source": [
    "# 1-Load data"
   ]
  },
  {
   "cell_type": "code",
   "execution_count": 368,
   "id": "96f79540",
   "metadata": {},
   "outputs": [],
   "source": [
    "in_file = pd.read_csv('../data/startup_url_list.csv')"
   ]
  },
  {
   "cell_type": "code",
   "execution_count": 369,
   "id": "648d7ff1",
   "metadata": {},
   "outputs": [],
   "source": [
    "html = pd.read_csv('../data/3_final_webpage_metadata.csv')"
   ]
  },
  {
   "cell_type": "code",
   "execution_count": 370,
   "id": "95809ba0",
   "metadata": {},
   "outputs": [],
   "source": [
    "html = html.merge(in_file, on='entityid')"
   ]
  },
  {
   "cell_type": "code",
   "execution_count": 371,
   "id": "fdd0f64f",
   "metadata": {},
   "outputs": [],
   "source": [
    "html.drop(['Unnamed: 0'], axis='columns', inplace=True)"
   ]
  },
  {
   "cell_type": "code",
   "execution_count": 372,
   "id": "e4a1b0a1",
   "metadata": {},
   "outputs": [
    {
     "data": {
      "text/html": [
       "<div>\n",
       "<style scoped>\n",
       "    .dataframe tbody tr th:only-of-type {\n",
       "        vertical-align: middle;\n",
       "    }\n",
       "\n",
       "    .dataframe tbody tr th {\n",
       "        vertical-align: top;\n",
       "    }\n",
       "\n",
       "    .dataframe thead th {\n",
       "        text-align: right;\n",
       "    }\n",
       "</style>\n",
       "<table border=\"1\" class=\"dataframe\">\n",
       "  <thead>\n",
       "    <tr style=\"text-align: right;\">\n",
       "      <th></th>\n",
       "      <th>entityid</th>\n",
       "      <th>yr_from_start</th>\n",
       "      <th>capture_yr</th>\n",
       "      <th>capture_m</th>\n",
       "      <th>file_path</th>\n",
       "      <th>file_exists</th>\n",
       "      <th>website_size_kb</th>\n",
       "      <th>careers</th>\n",
       "      <th>blog</th>\n",
       "      <th>login</th>\n",
       "      <th>...</th>\n",
       "      <th>script_count</th>\n",
       "      <th>entityname</th>\n",
       "      <th>new_industrygroup</th>\n",
       "      <th>state</th>\n",
       "      <th>weburl</th>\n",
       "      <th>pb_companyid</th>\n",
       "      <th>startdate</th>\n",
       "      <th>lastVC</th>\n",
       "      <th>ownershipstatus</th>\n",
       "      <th>exit_date</th>\n",
       "    </tr>\n",
       "  </thead>\n",
       "  <tbody>\n",
       "    <tr>\n",
       "      <th>0</th>\n",
       "      <td>100035</td>\n",
       "      <td>5</td>\n",
       "      <td>2001</td>\n",
       "      <td>9</td>\n",
       "      <td>data/html/100035/2001/09/index.html</td>\n",
       "      <td>1</td>\n",
       "      <td>1.793945</td>\n",
       "      <td>0</td>\n",
       "      <td>0</td>\n",
       "      <td>0</td>\n",
       "      <td>...</td>\n",
       "      <td>4</td>\n",
       "      <td>Tesaria</td>\n",
       "      <td>Information Technology</td>\n",
       "      <td>CA</td>\n",
       "      <td>www.tesaria.com</td>\n",
       "      <td>NaN</td>\n",
       "      <td>1997-02-01</td>\n",
       "      <td>2000-06-30</td>\n",
       "      <td>Out of Business</td>\n",
       "      <td>NaN</td>\n",
       "    </tr>\n",
       "    <tr>\n",
       "      <th>1</th>\n",
       "      <td>100035</td>\n",
       "      <td>5</td>\n",
       "      <td>2002</td>\n",
       "      <td>1</td>\n",
       "      <td>data/html/100035/2002/01/index.html</td>\n",
       "      <td>1</td>\n",
       "      <td>1.791016</td>\n",
       "      <td>0</td>\n",
       "      <td>0</td>\n",
       "      <td>0</td>\n",
       "      <td>...</td>\n",
       "      <td>4</td>\n",
       "      <td>Tesaria</td>\n",
       "      <td>Information Technology</td>\n",
       "      <td>CA</td>\n",
       "      <td>www.tesaria.com</td>\n",
       "      <td>NaN</td>\n",
       "      <td>1997-02-01</td>\n",
       "      <td>2000-06-30</td>\n",
       "      <td>Out of Business</td>\n",
       "      <td>NaN</td>\n",
       "    </tr>\n",
       "    <tr>\n",
       "      <th>2</th>\n",
       "      <td>100035</td>\n",
       "      <td>5</td>\n",
       "      <td>2002</td>\n",
       "      <td>7</td>\n",
       "      <td>data/html/100035/2002/07/index.html</td>\n",
       "      <td>1</td>\n",
       "      <td>9.054688</td>\n",
       "      <td>1</td>\n",
       "      <td>0</td>\n",
       "      <td>0</td>\n",
       "      <td>...</td>\n",
       "      <td>3</td>\n",
       "      <td>Tesaria</td>\n",
       "      <td>Information Technology</td>\n",
       "      <td>CA</td>\n",
       "      <td>www.tesaria.com</td>\n",
       "      <td>NaN</td>\n",
       "      <td>1997-02-01</td>\n",
       "      <td>2000-06-30</td>\n",
       "      <td>Out of Business</td>\n",
       "      <td>NaN</td>\n",
       "    </tr>\n",
       "    <tr>\n",
       "      <th>3</th>\n",
       "      <td>100035</td>\n",
       "      <td>6</td>\n",
       "      <td>2002</td>\n",
       "      <td>9</td>\n",
       "      <td>data/html/100035/2002/09/index.html</td>\n",
       "      <td>1</td>\n",
       "      <td>9.054688</td>\n",
       "      <td>1</td>\n",
       "      <td>0</td>\n",
       "      <td>0</td>\n",
       "      <td>...</td>\n",
       "      <td>3</td>\n",
       "      <td>Tesaria</td>\n",
       "      <td>Information Technology</td>\n",
       "      <td>CA</td>\n",
       "      <td>www.tesaria.com</td>\n",
       "      <td>NaN</td>\n",
       "      <td>1997-02-01</td>\n",
       "      <td>2000-06-30</td>\n",
       "      <td>Out of Business</td>\n",
       "      <td>NaN</td>\n",
       "    </tr>\n",
       "    <tr>\n",
       "      <th>4</th>\n",
       "      <td>100035</td>\n",
       "      <td>16</td>\n",
       "      <td>2012</td>\n",
       "      <td>8</td>\n",
       "      <td>data/html/100035/2012/08/index.html</td>\n",
       "      <td>1</td>\n",
       "      <td>0.032227</td>\n",
       "      <td>1</td>\n",
       "      <td>0</td>\n",
       "      <td>0</td>\n",
       "      <td>...</td>\n",
       "      <td>0</td>\n",
       "      <td>Tesaria</td>\n",
       "      <td>Information Technology</td>\n",
       "      <td>CA</td>\n",
       "      <td>www.tesaria.com</td>\n",
       "      <td>NaN</td>\n",
       "      <td>1997-02-01</td>\n",
       "      <td>2000-06-30</td>\n",
       "      <td>Out of Business</td>\n",
       "      <td>NaN</td>\n",
       "    </tr>\n",
       "  </tbody>\n",
       "</table>\n",
       "<p>5 rows × 36 columns</p>\n",
       "</div>"
      ],
      "text/plain": [
       "   entityid  yr_from_start  capture_yr  capture_m  \\\n",
       "0    100035              5        2001          9   \n",
       "1    100035              5        2002          1   \n",
       "2    100035              5        2002          7   \n",
       "3    100035              6        2002          9   \n",
       "4    100035             16        2012          8   \n",
       "\n",
       "                             file_path  file_exists  website_size_kb  careers  \\\n",
       "0  data/html/100035/2001/09/index.html            1         1.793945        0   \n",
       "1  data/html/100035/2002/01/index.html            1         1.791016        0   \n",
       "2  data/html/100035/2002/07/index.html            1         9.054688        1   \n",
       "3  data/html/100035/2002/09/index.html            1         9.054688        1   \n",
       "4  data/html/100035/2012/08/index.html            1         0.032227        1   \n",
       "\n",
       "   blog  login  ...  script_count  entityname       new_industrygroup  state  \\\n",
       "0     0      0  ...             4     Tesaria  Information Technology     CA   \n",
       "1     0      0  ...             4     Tesaria  Information Technology     CA   \n",
       "2     0      0  ...             3     Tesaria  Information Technology     CA   \n",
       "3     0      0  ...             3     Tesaria  Information Technology     CA   \n",
       "4     0      0  ...             0     Tesaria  Information Technology     CA   \n",
       "\n",
       "            weburl  pb_companyid   startdate      lastVC  ownershipstatus  \\\n",
       "0  www.tesaria.com           NaN  1997-02-01  2000-06-30  Out of Business   \n",
       "1  www.tesaria.com           NaN  1997-02-01  2000-06-30  Out of Business   \n",
       "2  www.tesaria.com           NaN  1997-02-01  2000-06-30  Out of Business   \n",
       "3  www.tesaria.com           NaN  1997-02-01  2000-06-30  Out of Business   \n",
       "4  www.tesaria.com           NaN  1997-02-01  2000-06-30  Out of Business   \n",
       "\n",
       "   exit_date  \n",
       "0        NaN  \n",
       "1        NaN  \n",
       "2        NaN  \n",
       "3        NaN  \n",
       "4        NaN  \n",
       "\n",
       "[5 rows x 36 columns]"
      ]
     },
     "execution_count": 372,
     "metadata": {},
     "output_type": "execute_result"
    }
   ],
   "source": [
    "html.head()"
   ]
  },
  {
   "cell_type": "markdown",
   "id": "6a1c5039",
   "metadata": {},
   "source": [
    "# 2-Fix `yr_from_start`"
   ]
  },
  {
   "cell_type": "code",
   "execution_count": 373,
   "id": "e871d70f",
   "metadata": {},
   "outputs": [],
   "source": [
    "def redo_yfs(x):\n",
    "    startyr = str(x.startdate)[:4]\n",
    "    startm = str(x.startdate)[4:6]\n",
    "    if startyr == \"nan\":\n",
    "        startyr = str(x.lastVC)[:4]\n",
    "        startm = str(x.lastVC)[4:6]\n",
    "    yfs = (int(x.capture_yr) - int(startyr)) + ((int(x.capture_m) - int(startm)) / 12)\n",
    "    \n",
    "    return (round(yfs * 2) / 2)"
   ]
  },
  {
   "cell_type": "code",
   "execution_count": 374,
   "id": "57adcb03",
   "metadata": {},
   "outputs": [],
   "source": [
    "html['yr_from_start'] = html.apply(redo_yfs, axis=1)"
   ]
  },
  {
   "cell_type": "markdown",
   "id": "50784dcc",
   "metadata": {},
   "source": [
    "# 3-Create growth metrics"
   ]
  },
  {
   "cell_type": "markdown",
   "id": "b3389f81",
   "metadata": {},
   "source": [
    "Prep - split our dataframe into groups by `entityid`"
   ]
  },
  {
   "cell_type": "code",
   "execution_count": 375,
   "id": "90ad80b3",
   "metadata": {},
   "outputs": [],
   "source": [
    "company_groups = html.groupby('entityid')"
   ]
  },
  {
   "cell_type": "markdown",
   "id": "492f2a20",
   "metadata": {},
   "source": [
    "Define a general function that will be able to calculate growth rates given a group (df), beginning time, end time, and metric..."
   ]
  },
  {
   "cell_type": "code",
   "execution_count": 376,
   "id": "8b2b266e",
   "metadata": {},
   "outputs": [],
   "source": [
    "def calculate_metric(cg, start, end, metric):\n",
    "    start_id = cg['yr_from_start'].sub(start).abs().idxmin()\n",
    "    start_yr = cg.loc[start_id, 'yr_from_start']\n",
    "    start_val = cg.loc[start_id][metric]\n",
    "    end_id = cg['yr_from_start'].sub(end).abs().idxmin()\n",
    "    if start_id == end_id:\n",
    "        return None\n",
    "    end_val = cg.loc[end_id, metric]\n",
    "    return (end_val - start_val)"
   ]
  },
  {
   "cell_type": "markdown",
   "id": "756c218b",
   "metadata": {},
   "source": [
    "Define new dataframe that we'll use for regression"
   ]
  },
  {
   "cell_type": "code",
   "execution_count": 377,
   "id": "2e1562d1",
   "metadata": {},
   "outputs": [],
   "source": [
    "regression_df = pd.DataFrame()"
   ]
  },
  {
   "cell_type": "code",
   "execution_count": 378,
   "id": "97ac6ca9",
   "metadata": {},
   "outputs": [],
   "source": [
    "regression_df['entityid'] = html.entityid.unique()\n",
    "regression_df = regression_df.set_index('entityid')"
   ]
  },
  {
   "cell_type": "markdown",
   "id": "41de4b14",
   "metadata": {},
   "source": [
    "### 3.1-`img` count growth"
   ]
  },
  {
   "cell_type": "markdown",
   "id": "1179e31c",
   "metadata": {},
   "source": [
    "Growth rate in number of images from year 0 to 3"
   ]
  },
  {
   "cell_type": "code",
   "execution_count": 379,
   "id": "6a26d176",
   "metadata": {
    "scrolled": true
   },
   "outputs": [
    {
     "name": "stdout",
     "output_type": "stream",
     "text": [
      "0\n",
      "10000\n",
      "20000\n",
      "30000\n",
      "40000\n",
      "50000\n",
      "60000\n"
     ]
    }
   ],
   "source": [
    "count = 0\n",
    "for name, group in company_groups:\n",
    "    if count % 10000 == 0:\n",
    "        print(count)\n",
    "    count += 1\n",
    "    if len(group.index) == 1:\n",
    "        continue\n",
    "    regression_df.loc[name, 'img_growth'] = calculate_metric(group, 0, 3, 'img_count')\n",
    "    "
   ]
  },
  {
   "cell_type": "code",
   "execution_count": 380,
   "id": "3387b243",
   "metadata": {},
   "outputs": [
    {
     "data": {
      "text/html": [
       "<div>\n",
       "<style scoped>\n",
       "    .dataframe tbody tr th:only-of-type {\n",
       "        vertical-align: middle;\n",
       "    }\n",
       "\n",
       "    .dataframe tbody tr th {\n",
       "        vertical-align: top;\n",
       "    }\n",
       "\n",
       "    .dataframe thead th {\n",
       "        text-align: right;\n",
       "    }\n",
       "</style>\n",
       "<table border=\"1\" class=\"dataframe\">\n",
       "  <thead>\n",
       "    <tr style=\"text-align: right;\">\n",
       "      <th></th>\n",
       "      <th>img_growth</th>\n",
       "    </tr>\n",
       "    <tr>\n",
       "      <th>entityid</th>\n",
       "      <th></th>\n",
       "    </tr>\n",
       "  </thead>\n",
       "  <tbody>\n",
       "    <tr>\n",
       "      <th>100035</th>\n",
       "      <td>NaN</td>\n",
       "    </tr>\n",
       "    <tr>\n",
       "      <th>100065</th>\n",
       "      <td>-3.0</td>\n",
       "    </tr>\n",
       "    <tr>\n",
       "      <th>1001046863</th>\n",
       "      <td>NaN</td>\n",
       "    </tr>\n",
       "    <tr>\n",
       "      <th>100105</th>\n",
       "      <td>4.0</td>\n",
       "    </tr>\n",
       "    <tr>\n",
       "      <th>1001057618</th>\n",
       "      <td>NaN</td>\n",
       "    </tr>\n",
       "    <tr>\n",
       "      <th>...</th>\n",
       "      <td>...</td>\n",
       "    </tr>\n",
       "    <tr>\n",
       "      <th>1052276600</th>\n",
       "      <td>NaN</td>\n",
       "    </tr>\n",
       "    <tr>\n",
       "      <th>1052278175</th>\n",
       "      <td>NaN</td>\n",
       "    </tr>\n",
       "    <tr>\n",
       "      <th>714044</th>\n",
       "      <td>NaN</td>\n",
       "    </tr>\n",
       "    <tr>\n",
       "      <th>725874</th>\n",
       "      <td>13.0</td>\n",
       "    </tr>\n",
       "    <tr>\n",
       "      <th>728936</th>\n",
       "      <td>-7.0</td>\n",
       "    </tr>\n",
       "  </tbody>\n",
       "</table>\n",
       "<p>63112 rows × 1 columns</p>\n",
       "</div>"
      ],
      "text/plain": [
       "            img_growth\n",
       "entityid              \n",
       "100035             NaN\n",
       "100065            -3.0\n",
       "1001046863         NaN\n",
       "100105             4.0\n",
       "1001057618         NaN\n",
       "...                ...\n",
       "1052276600         NaN\n",
       "1052278175         NaN\n",
       "714044             NaN\n",
       "725874            13.0\n",
       "728936            -7.0\n",
       "\n",
       "[63112 rows x 1 columns]"
      ]
     },
     "execution_count": 380,
     "metadata": {},
     "output_type": "execute_result"
    }
   ],
   "source": [
    "regression_df"
   ]
  },
  {
   "cell_type": "markdown",
   "id": "f067eb2c",
   "metadata": {},
   "source": [
    "### 3.2-*Publicity* growth"
   ]
  },
  {
   "cell_type": "markdown",
   "id": "bbdd6255",
   "metadata": {},
   "source": [
    "\"Publicity\" measures of the sum of links the HTML page has that relate to the firm's oppenness. The list includes `careers, blog, contact, team, about, news, faq, call_to_action, testimonial`. As you can imagine, a web-page that has links for *all* of these pages is considered to be quite open, and vice-versa."
   ]
  },
  {
   "cell_type": "code",
   "execution_count": 381,
   "id": "6f051d7e",
   "metadata": {},
   "outputs": [
    {
     "data": {
      "text/plain": [
       "Index(['entityid', 'yr_from_start', 'capture_yr', 'capture_m', 'file_path',\n",
       "       'file_exists', 'website_size_kb', 'careers', 'blog', 'login', 'contact',\n",
       "       'team', 'about', 'news', 'faq', 'call_to_action', 'testimonial',\n",
       "       'title', 'description', 'keywords', 'p_count', 'h_count', 'img_count',\n",
       "       'a_count', 'table_count', 'form_count', 'script_count', 'entityname',\n",
       "       'new_industrygroup', 'state', 'weburl', 'pb_companyid', 'startdate',\n",
       "       'lastVC', 'ownershipstatus', 'exit_date'],\n",
       "      dtype='object')"
      ]
     },
     "execution_count": 381,
     "metadata": {},
     "output_type": "execute_result"
    }
   ],
   "source": [
    "html.columns"
   ]
  },
  {
   "cell_type": "code",
   "execution_count": 382,
   "id": "705874fb",
   "metadata": {},
   "outputs": [],
   "source": [
    "def calculate_publicity_score(cg, start, end):\n",
    "    pub_list = ['careers', 'blog', 'contact', 'team', 'about', 'news', 'faq', 'call_to_action', 'testimonial']\n",
    "    start_id = cg['yr_from_start'].sub(start).abs().idxmin()\n",
    "    start_val = cg.loc[start_id, pub_list].sum()\n",
    "    end_id = cg['yr_from_start'].sub(end).abs().idxmin()\n",
    "    if start_id == end_id:\n",
    "        return None\n",
    "    end_val = cg.loc[end_id, pub_list].sum()\n",
    "    return (end_val - start_val)"
   ]
  },
  {
   "cell_type": "code",
   "execution_count": 383,
   "id": "0e56cbba",
   "metadata": {},
   "outputs": [
    {
     "name": "stdout",
     "output_type": "stream",
     "text": [
      "0\n",
      "10000\n",
      "20000\n",
      "30000\n",
      "40000\n",
      "50000\n",
      "60000\n"
     ]
    }
   ],
   "source": [
    "count = 0\n",
    "for name, group in company_groups:\n",
    "    if count % 10000 == 0:\n",
    "        print(count)\n",
    "    count += 1\n",
    "    if len(group.index) == 1:\n",
    "        continue\n",
    "    regression_df.loc[name, 'publicity_growth'] = calculate_publicity_score(group, 0, 3)"
   ]
  },
  {
   "cell_type": "code",
   "execution_count": 385,
   "id": "2a33d8b6",
   "metadata": {},
   "outputs": [
    {
     "data": {
      "text/plain": [
       "count    49681.000000\n",
       "mean         0.611562\n",
       "std          1.755953\n",
       "min         -8.000000\n",
       "25%          0.000000\n",
       "50%          0.000000\n",
       "75%          1.000000\n",
       "max          9.000000\n",
       "Name: publicity_growth, dtype: float64"
      ]
     },
     "execution_count": 385,
     "metadata": {},
     "output_type": "execute_result"
    }
   ],
   "source": [
    "regression_df.publicity_growth.describe()"
   ]
  },
  {
   "cell_type": "markdown",
   "id": "dca74adb",
   "metadata": {},
   "source": [
    "# 4-Subset data and run regressions"
   ]
  },
  {
   "cell_type": "markdown",
   "id": "c9c248fc",
   "metadata": {},
   "source": [
    "*Add company lifespan (in years)*"
   ]
  },
  {
   "cell_type": "code",
   "execution_count": 393,
   "id": "d88333cb",
   "metadata": {},
   "outputs": [],
   "source": [
    "html[\"has_exit\"] = (html[\"exit_date\"].isna() == False).astype('int8')\n",
    "html[\"end_yr\"] = html[\"exit_date\"].str.slice(start=0, stop=4).astype('float' ,errors='ignore').fillna(2023)\n",
    "html[\"start_yr\"] = html[\"startdate\"].str.slice(start=0, stop=4).fillna(html[\"lastVC\"].str.slice(start=0, stop=4)).astype('float', errors='ignore')\n",
    "html[\"lifespan\"] = html[\"end_yr\"] - html[\"start_yr\"]"
   ]
  },
  {
   "cell_type": "markdown",
   "id": "bec33fb8",
   "metadata": {},
   "source": [
    "Exited via acquisition or IPO in 7 years."
   ]
  },
  {
   "cell_type": "code",
   "execution_count": 394,
   "id": "61638131",
   "metadata": {},
   "outputs": [
    {
     "data": {
      "text/plain": [
       "Private & Independent    0.695786\n",
       "Acquired/Merged          0.170996\n",
       "Out of Business          0.106580\n",
       "Publicly-held            0.018914\n",
       "Assets Acquired          0.006000\n",
       "In Bankruptcy            0.001061\n",
       "In IPO Registration      0.000663\n",
       "Name: ownershipstatus, dtype: float64"
      ]
     },
     "execution_count": 394,
     "metadata": {},
     "output_type": "execute_result"
    }
   ],
   "source": [
    "html.ownershipstatus.value_counts(normalize=True)"
   ]
  },
  {
   "cell_type": "code",
   "execution_count": 395,
   "id": "cab219eb",
   "metadata": {},
   "outputs": [
    {
     "data": {
      "text/plain": [
       "Index(['entityid', 'yr_from_start', 'capture_yr', 'capture_m', 'file_path',\n",
       "       'file_exists', 'website_size_kb', 'careers', 'blog', 'login', 'contact',\n",
       "       'team', 'about', 'news', 'faq', 'call_to_action', 'testimonial',\n",
       "       'title', 'description', 'keywords', 'p_count', 'h_count', 'img_count',\n",
       "       'a_count', 'table_count', 'form_count', 'script_count', 'entityname',\n",
       "       'new_industrygroup', 'state', 'weburl', 'pb_companyid', 'startdate',\n",
       "       'lastVC', 'ownershipstatus', 'exit_date', 'has_exit', 'end_yr',\n",
       "       'start_yr', 'lifespan'],\n",
       "      dtype='object')"
      ]
     },
     "execution_count": 395,
     "metadata": {},
     "output_type": "execute_result"
    }
   ],
   "source": [
    "html.columns"
   ]
  },
  {
   "cell_type": "markdown",
   "id": "841ce2d2",
   "metadata": {},
   "source": [
    "## Scatter plots"
   ]
  },
  {
   "cell_type": "code",
   "execution_count": 429,
   "id": "a9597a95",
   "metadata": {},
   "outputs": [],
   "source": [
    "def subset_data(data, acq, time):\n",
    "    data = data[(data.ownershipstatus.isin(acq)) & (data.lifespan == time)]\n",
    "    return data"
   ]
  },
  {
   "cell_type": "code",
   "execution_count": 430,
   "id": "8edd486a",
   "metadata": {},
   "outputs": [],
   "source": [
    "acq_7 = subset_data(html, ['Acquired/Merged', 'Publicly-held'], 7)"
   ]
  },
  {
   "cell_type": "code",
   "execution_count": 434,
   "id": "6e722dda",
   "metadata": {},
   "outputs": [
    {
     "data": {
      "image/png": "[encoded data removed]",
      "text/plain": [
       "<Figure size 640x480 with 1 Axes>"
      ]
     },
     "metadata": {},
     "output_type": "display_data"
    }
   ],
   "source": [
    "plt.scatter(acq_7.yr_from_start, acq_7.img_count)\n",
    "plt.show()"
   ]
  },
  {
   "cell_type": "code",
   "execution_count": 420,
   "id": "a6843465",
   "metadata": {},
   "outputs": [],
   "source": [
    "acq_7_reg = regression_df[regression_df.index.isin(acq_7)]"
   ]
  },
  {
   "cell_type": "code",
   "execution_count": 427,
   "id": "b7c7f014",
   "metadata": {},
   "outputs": [
    {
     "data": {
      "text/plain": [
       "205"
      ]
     },
     "execution_count": 427,
     "metadata": {},
     "output_type": "execute_result"
    }
   ],
   "source": [
    "acq_7_reg.publicity_growth.isna().sum()"
   ]
  },
  {
   "cell_type": "code",
   "execution_count": 400,
   "id": "661658b4",
   "metadata": {},
   "outputs": [
    {
     "data": {
      "text/plain": [
       "count    830497.000000\n",
       "mean         12.142305\n",
       "std           6.672575\n",
       "min           0.000000\n",
       "25%           7.000000\n",
       "50%          11.000000\n",
       "75%          17.000000\n",
       "max          27.000000\n",
       "Name: lifespan, dtype: float64"
      ]
     },
     "execution_count": 400,
     "metadata": {},
     "output_type": "execute_result"
    }
   ],
   "source": [
    "html.lifespan.describe()"
   ]
  },
  {
   "cell_type": "code",
   "execution_count": 392,
   "id": "d380ccd5",
   "metadata": {},
   "outputs": [
    {
     "data": {
      "text/plain": [
       "830497"
      ]
     },
     "execution_count": 392,
     "metadata": {},
     "output_type": "execute_result"
    }
   ],
   "source": [
    "len(html.index)"
   ]
  }
 ],
 "metadata": {
  "kernelspec": {
   "display_name": "Python 3 (ipykernel)",
   "language": "python",
   "name": "python3"
  },
  "language_info": {
   "codemirror_mode": {
    "name": "ipython",
    "version": 3
   },
   "file_extension": ".py",
   "mimetype": "text/x-python",
   "name": "python",
   "nbconvert_exporter": "python",
   "pygments_lexer": "ipython3",
   "version": "3.9.2"
  }
 },
 "nbformat": 4,
 "nbformat_minor": 5
}
