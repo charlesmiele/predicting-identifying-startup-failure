{
 "cells": [
  {
   "cell_type": "code",
   "execution_count": 5,
   "id": "1efc897a",
   "metadata": {},
   "outputs": [],
   "source": [
    "import pandas as pd\n",
    "import seaborn as sns\n",
    "import matplotlib.pyplot as plt\n",
    "import statsmodels.api as sm\n",
    "from statsmodels.formula.api import probit\n",
    "import numpy as np\n",
    "\n",
    "pd.set_option('max_columns', 200)\n",
    "plt.style.use('ggplot')"
   ]
  },
  {
   "cell_type": "markdown",
   "id": "c6310fd7",
   "metadata": {},
   "source": [
    "## Read Data"
   ]
  },
  {
   "cell_type": "code",
   "execution_count": 6,
   "id": "0927c8e4",
   "metadata": {},
   "outputs": [],
   "source": [
    "html = pd.read_csv('../data/4_final_webpage_metadata.csv')"
   ]
  },
  {
   "cell_type": "code",
   "execution_count": 7,
   "id": "3224891c",
   "metadata": {},
   "outputs": [],
   "source": [
    "# Filter only clear successes and failures\n",
    "html = html[html.ownershipstatus.isin([\"Out of Business\", \"Publicly-held\", \"Acquired/Merged\"])]\n",
    "# Remove all webpages with size 0\n",
    "html = html[html['website_size_kb'] != 0]"
   ]
  },
  {
   "cell_type": "code",
   "execution_count": 8,
   "id": "28956cbf",
   "metadata": {},
   "outputs": [],
   "source": [
    "html[\"Failed\"] = (html.ownershipstatus == \"Out of Business\").astype(int)"
   ]
  },
  {
   "cell_type": "markdown",
   "id": "880f5567",
   "metadata": {},
   "source": [
    "## Define Supporting Functions"
   ]
  },
  {
   "cell_type": "code",
   "execution_count": 9,
   "id": "a2ce58cc",
   "metadata": {},
   "outputs": [],
   "source": [
    "def plot_reg(x, y, data, controlfor=None):\n",
    "    \n",
    "    # Do most basic OLS\n",
    "    if x == 'Failed':\n",
    "        sns.regplot(x=x, y=y, data=data, x_estimator=np.mean, color='g', label='Base OLS')\n",
    "        plt.xticks([0, 1]);\n",
    "    else:\n",
    "        sns.regplot(x=x, y=y, data=data, x_estimator=np.mean, color='g', label='Base OLS')\n",
    "    if controlfor == None:\n",
    "        return\n",
    "    if controlfor != \"industry\":\n",
    "        sns.regplot(x=x, y=y, data=data, x_estimator=np.mean, y_partial=controlfor, color='b', label=f'Controlling for {controlfor}');\n",
    "        plt.legend()\n",
    "    else:\n",
    "        ind_groups = data.groupby('new_industrygroup')\n",
    "\n",
    "        for name, group in ind_groups:\n",
    "            # We're gonna ignore these industries for now\n",
    "            ind_ignore = [\"To Be Assigned\", \"Energy and Utilities\", \"Industrial Goods and Materials\"]\n",
    "            if name not in ind_ignore:\n",
    "                sns.regplot(x=x, y=y, data=group, x_estimator=np.mean, label=name);\n",
    "        plt.legend(bbox_to_anchor=(1.05, 1), loc='upper left');"
   ]
  },
  {
   "cell_type": "markdown",
   "id": "6599f0a2",
   "metadata": {},
   "source": [
    "## Cross-Sectional Regressions"
   ]
  },
  {
   "cell_type": "markdown",
   "id": "dc48c064",
   "metadata": {},
   "source": [
    "### Does final screenshot include a login?"
   ]
  },
  {
   "cell_type": "code",
   "execution_count": 10,
   "id": "e08dd1f8",
   "metadata": {},
   "outputs": [],
   "source": [
    "data = html.groupby('entityid').last()[['Failed', 'login', 'end_yr']]"
   ]
  },
  {
   "cell_type": "code",
   "execution_count": 11,
   "id": "f5434596",
   "metadata": {},
   "outputs": [],
   "source": [
    "Y = data['Failed']\n",
    "X = data['login']\n",
    "X = sm.add_constant(X)"
   ]
  },
  {
   "cell_type": "code",
   "execution_count": 12,
   "id": "16f486b7",
   "metadata": {},
   "outputs": [
    {
     "name": "stdout",
     "output_type": "stream",
     "text": [
      "                            OLS Regression Results                            \n",
      "==============================================================================\n",
      "Dep. Variable:                 Failed   R-squared:                       0.001\n",
      "Model:                            OLS   Adj. R-squared:                  0.001\n",
      "Method:                 Least Squares   F-statistic:                     13.31\n",
      "Date:                Wed, 12 Jul 2023   Prob (F-statistic):           0.000265\n",
      "Time:                        13:57:05   Log-Likelihood:                -10359.\n",
      "No. Observations:               16795   AIC:                         2.072e+04\n",
      "Df Residuals:                   16793   BIC:                         2.074e+04\n",
      "Df Model:                           1                                         \n",
      "Covariance Type:            nonrobust                                         \n",
      "==============================================================================\n",
      "                 coef    std err          t      P>|t|      [0.025      0.975]\n",
      "------------------------------------------------------------------------------\n",
      "const          0.2864      0.004     71.619      0.000       0.279       0.294\n",
      "login         -0.0291      0.008     -3.648      0.000      -0.045      -0.013\n",
      "==============================================================================\n",
      "Omnibus:                     6427.884   Durbin-Watson:                   1.922\n",
      "Prob(Omnibus):                  0.000   Jarque-Bera (JB):             3449.298\n",
      "Skew:                           0.984   Prob(JB):                         0.00\n",
      "Kurtosis:                       1.972   Cond. No.                         2.48\n",
      "==============================================================================\n",
      "\n",
      "Notes:\n",
      "[1] Standard Errors assume that the covariance matrix of the errors is correctly specified.\n"
     ]
    }
   ],
   "source": [
    "model = sm.OLS(Y, X)\n",
    "results = model.fit()\n",
    "print(results.summary())"
   ]
  },
  {
   "cell_type": "markdown",
   "id": "7a298328",
   "metadata": {},
   "source": [
    "* Huge t-statistic\n",
    "* Tiny p-value\n",
    "* POSITIVE coefficient\n",
    "* Really low R-squared"
   ]
  },
  {
   "cell_type": "markdown",
   "id": "1d058838",
   "metadata": {},
   "source": [
    "**Controlling for end year**"
   ]
  },
  {
   "cell_type": "code",
   "execution_count": 14,
   "id": "264eb170",
   "metadata": {},
   "outputs": [
    {
     "name": "stdout",
     "output_type": "stream",
     "text": [
      "                            OLS Regression Results                            \n",
      "==============================================================================\n",
      "Dep. Variable:                 Failed   R-squared:                       0.560\n",
      "Model:                            OLS   Adj. R-squared:                  0.559\n",
      "Method:                 Least Squares   F-statistic:                     789.9\n",
      "Date:                Wed, 12 Jul 2023   Prob (F-statistic):               0.00\n",
      "Time:                        13:57:43   Log-Likelihood:                -3474.4\n",
      "No. Observations:               16795   AIC:                             7005.\n",
      "Df Residuals:                   16767   BIC:                             7221.\n",
      "Df Model:                          27                                         \n",
      "Covariance Type:            nonrobust                                         \n",
      "===============================================================================\n",
      "                  coef    std err          t      P>|t|      [0.025      0.975]\n",
      "-------------------------------------------------------------------------------\n",
      "const       -1.596e-14      0.133   -1.2e-13      1.000      -0.261       0.261\n",
      "login          -0.0467      0.005     -8.656      0.000      -0.057      -0.036\n",
      "year_1998.0     0.0049      0.150      0.033      0.974      -0.289       0.298\n",
      "year_1999.0     0.0007      0.136      0.005      0.996      -0.265       0.266\n",
      "year_2000.0     0.0019      0.135      0.014      0.989      -0.262       0.266\n",
      "year_2001.0     0.0029      0.135      0.021      0.983      -0.261       0.267\n",
      "year_2002.0     0.0027      0.135      0.020      0.984      -0.261       0.267\n",
      "year_2003.0     0.0066      0.135      0.049      0.961      -0.258       0.271\n",
      "year_2004.0     0.0018      0.134      0.014      0.989      -0.261       0.265\n",
      "year_2005.0     0.0063      0.134      0.047      0.963      -0.257       0.270\n",
      "year_2006.0     0.0069      0.134      0.052      0.959      -0.256       0.270\n",
      "year_2007.0     0.0095      0.134      0.071      0.944      -0.253       0.272\n",
      "year_2008.0     0.0238      0.134      0.177      0.859      -0.240       0.287\n",
      "year_2009.0     0.0121      0.134      0.090      0.928      -0.251       0.275\n",
      "year_2010.0     0.0142      0.134      0.106      0.916      -0.248       0.277\n",
      "year_2011.0     0.0142      0.134      0.106      0.915      -0.248       0.277\n",
      "year_2012.0     0.0137      0.134      0.102      0.918      -0.249       0.276\n",
      "year_2013.0     0.0172      0.134      0.129      0.898      -0.245       0.279\n",
      "year_2014.0     0.0152      0.134      0.114      0.909      -0.247       0.277\n",
      "year_2015.0     0.0155      0.134      0.116      0.908      -0.247       0.278\n",
      "year_2016.0     0.0174      0.134      0.130      0.897      -0.245       0.280\n",
      "year_2017.0     0.0158      0.134      0.118      0.906      -0.246       0.278\n",
      "year_2018.0     0.0138      0.134      0.103      0.918      -0.248       0.276\n",
      "year_2019.0     0.0147      0.134      0.110      0.913      -0.247       0.277\n",
      "year_2020.0     0.0788      0.141      0.561      0.575      -0.197       0.354\n",
      "year_2021.0     0.0275      0.134      0.205      0.838      -0.236       0.291\n",
      "year_2022.0     0.0398      0.134      0.296      0.767      -0.223       0.303\n",
      "year_2023.0     0.6975      0.133      5.235      0.000       0.436       0.959\n",
      "==============================================================================\n",
      "Omnibus:                     2809.866   Durbin-Watson:                   1.611\n",
      "Prob(Omnibus):                  0.000   Jarque-Bera (JB):             4537.773\n",
      "Skew:                          -1.151   Prob(JB):                         0.00\n",
      "Kurtosis:                       4.089   Cond. No.                         342.\n",
      "==============================================================================\n",
      "\n",
      "Notes:\n",
      "[1] Standard Errors assume that the covariance matrix of the errors is correctly specified.\n"
     ]
    }
   ],
   "source": [
    "year_dummies = pd.get_dummies(data['end_yr'], prefix='year', drop_first=True)\n",
    "data = pd.concat([data, year_dummies], axis=1)\n",
    "X = data.drop(['Failed', 'end_yr'], axis=1)\n",
    "X = sm.add_constant(X)\n",
    "model = sm.OLS(Y, X) \n",
    "results = model.fit()\n",
    "summary_cols = ['login']\n",
    "print(results.summary())"
   ]
  },
  {
   "cell_type": "code",
   "execution_count": 15,
   "id": "fd05581e",
   "metadata": {},
   "outputs": [
    {
     "data": {
      "image/png": "[encoded data removed]",
      "text/plain": [
       "<Figure size 640x480 with 1 Axes>"
      ]
     },
     "metadata": {},
     "output_type": "display_data"
    }
   ],
   "source": [
    "plot_reg('login', 'Failed', data=data, controlfor='end_yr')"
   ]
  },
  {
   "cell_type": "markdown",
   "id": "28aa213e",
   "metadata": {},
   "source": [
    "* Much better r-squared (10x)\n",
    "* P-Value REMAINS tiny, but T-Stat has gone down a lot...\n",
    "* NEGATIVE coefficient now"
   ]
  },
  {
   "cell_type": "markdown",
   "id": "f2b17b04",
   "metadata": {},
   "source": [
    "**Probit model (controlling for end year)**"
   ]
  },
  {
   "cell_type": "code",
   "execution_count": null,
   "id": "15121859",
   "metadata": {},
   "outputs": [],
   "source": [
    "model = sm.Probit(Y, X)\n",
    "results = model.fit()\n",
    "print(results.summary())"
   ]
  },
  {
   "cell_type": "markdown",
   "id": "28c727db",
   "metadata": {},
   "source": [
    "* Much lower coefficient (-0.28 vs -0.046)\n",
    "* All the dummy variables have p-values of 1??\n",
    "* Still a p-value of 0??\n",
    "* Pseudo(??) R-Squared goes down a bit"
   ]
  },
  {
   "cell_type": "code",
   "execution_count": null,
   "id": "74c93697",
   "metadata": {},
   "outputs": [],
   "source": [
    "results.pvalues"
   ]
  },
  {
   "cell_type": "markdown",
   "id": "4f4a0882",
   "metadata": {},
   "source": [
    "**Simple Probit**"
   ]
  },
  {
   "cell_type": "code",
   "execution_count": null,
   "id": "4de51e0f",
   "metadata": {},
   "outputs": [],
   "source": [
    "model = sm.Probit(Y, data['login'])\n",
    "results = model.fit()\n",
    "print(results.summary())"
   ]
  },
  {
   "cell_type": "markdown",
   "id": "fa39ef09",
   "metadata": {},
   "source": [
    "* VERY low coefficient\n",
    "* Pseudo R-Squared goes down a lot (to a negative number??)\n",
    "* P-Value remains at zero"
   ]
  },
  {
   "cell_type": "markdown",
   "id": "095496bb",
   "metadata": {},
   "source": [
    "## Does final screenshot include a careers page?"
   ]
  },
  {
   "cell_type": "code",
   "execution_count": null,
   "id": "3c7d5e9e",
   "metadata": {},
   "outputs": [],
   "source": [
    "data = html.groupby('entityid').last()[['Failed', 'careers', 'end_yr', 'new_industrygroup']]"
   ]
  },
  {
   "cell_type": "code",
   "execution_count": null,
   "id": "5fdacc3b",
   "metadata": {},
   "outputs": [],
   "source": [
    "Y = data['Failed']\n",
    "X = data['careers']\n",
    "X = sm.add_constant(X)"
   ]
  },
  {
   "cell_type": "code",
   "execution_count": null,
   "id": "d6f5686f",
   "metadata": {},
   "outputs": [],
   "source": [
    "model = sm.OLS(Y, X)\n",
    "results = model.fit()\n",
    "print(results.summary())"
   ]
  },
  {
   "cell_type": "markdown",
   "id": "2e880425",
   "metadata": {},
   "source": [
    "**Controlling for end year**"
   ]
  },
  {
   "cell_type": "code",
   "execution_count": null,
   "id": "87270627",
   "metadata": {},
   "outputs": [],
   "source": [
    "year_dummies = pd.get_dummies(data['end_yr'], prefix='year', drop_first=True)\n",
    "data = pd.concat([data, year_dummies], axis=1)\n",
    "X = data.drop(['Failed', 'end_yr'], axis=1)\n",
    "X = sm.add_constant(X)\n",
    "model = sm.OLS(Y, X)\n",
    "results = model.fit()\n",
    "summary_cols = ['login']\n",
    "print(results.summary())"
   ]
  },
  {
   "cell_type": "markdown",
   "id": "60d9d6cc",
   "metadata": {},
   "source": [
    "**Plot**"
   ]
  },
  {
   "cell_type": "code",
   "execution_count": null,
   "id": "6a1dab5b",
   "metadata": {},
   "outputs": [],
   "source": [
    "sns.regplot(x='Failed', y='careers', data=data, x_estimator=np.mean, color='g', label='Simple OLS');\n",
    "sns.regplot(x='Failed', y='careers', data=data, x_estimator=np.mean, y_partial='end_yr', color='b', label='Controlling for end year');\n",
    "plt.legend()\n",
    "plt.ylabel(\"Prob(Careers page)\")\n",
    "plt.xticks([0, 1]);"
   ]
  },
  {
   "cell_type": "markdown",
   "id": "0384026a",
   "metadata": {},
   "source": [
    "**Plot for industry**"
   ]
  },
  {
   "cell_type": "code",
   "execution_count": null,
   "id": "20a18f1f",
   "metadata": {},
   "outputs": [],
   "source": [
    "ind_groups = data.groupby('new_industrygroup')\n",
    "\n",
    "for name, group in ind_groups:\n",
    "    # We're gonna ignore these industries for now\n",
    "    ind_ignore = [\"To Be Assigned\", \"Energy and Utilities\", \"Industrial Goods and Materials\"]\n",
    "    if name not in ind_ignore:\n",
    "        sns.regplot(x='Failed', y='careers', data=group, x_estimator=np.mean, label=name);\n",
    "plt.xticks([0, 1])\n",
    "plt.legend(bbox_to_anchor=(1.05, 1), loc='upper left');"
   ]
  },
  {
   "cell_type": "markdown",
   "id": "91e46f99",
   "metadata": {},
   "source": [
    "**Plot for industry, controlling for end year**"
   ]
  },
  {
   "cell_type": "code",
   "execution_count": null,
   "id": "4247f47a",
   "metadata": {},
   "outputs": [],
   "source": [
    "for name, group in ind_groups:\n",
    "    # We're gonna ignore these industries for now\n",
    "    ind_ignore = [\"To Be Assigned\", \"Energy and Utilities\", \"Industrial Goods and Materials\"]\n",
    "    if name not in ind_ignore:\n",
    "        sns.regplot(x='Failed', y='careers', data=group, x_estimator=np.mean, y_partial='end_yr', label=name);\n",
    "plt.xticks([0, 1])\n",
    "plt.legend(bbox_to_anchor=(1.05, 1), loc='upper left');"
   ]
  },
  {
   "cell_type": "markdown",
   "id": "f733cf2c",
   "metadata": {},
   "source": [
    "## What's the size of the final screenshot?"
   ]
  },
  {
   "cell_type": "markdown",
   "id": "b02d87b8",
   "metadata": {},
   "source": [
    "Setup"
   ]
  },
  {
   "cell_type": "code",
   "execution_count": null,
   "id": "1433414b",
   "metadata": {},
   "outputs": [],
   "source": [
    "data = html.groupby('entityid').last()[['Failed', 'website_size_kb', 'new_industrygroup', 'capture_yr']] # Select relevant columns\n",
    "data['websize_log'] = np.log(data['website_size_kb']) # Convert to log website size"
   ]
  },
  {
   "cell_type": "code",
   "execution_count": null,
   "id": "21ca505a",
   "metadata": {
    "scrolled": false
   },
   "outputs": [],
   "source": [
    "# Check out distribution\n",
    "sns.kdeplot(data['websize_log'], color='b', fill='b');"
   ]
  },
  {
   "cell_type": "markdown",
   "id": "27bb0f91",
   "metadata": {},
   "source": [
    "**OLS Regression**"
   ]
  },
  {
   "cell_type": "code",
   "execution_count": null,
   "id": "b43e5ba4",
   "metadata": {},
   "outputs": [],
   "source": [
    "X = data['capture_yr']\n",
    "X = sm.add_constant(X)\n",
    "mod = sm.OLS(data['websize_log'], X).fit()\n",
    "print(mod.summary())"
   ]
  },
  {
   "cell_type": "markdown",
   "id": "130a8730",
   "metadata": {},
   "source": [
    "**Control for year**"
   ]
  },
  {
   "cell_type": "code",
   "execution_count": null,
   "id": "4246af6d",
   "metadata": {
    "scrolled": true
   },
   "outputs": [],
   "source": [
    "year_dummies = pd.get_dummies(data['capture_yr'], prefix='year', drop_first=True)\n",
    "data_yr = pd.concat([data, year_dummies], axis=1)\n",
    "X = data_yr.drop(['Failed', 'new_industrygroup', 'capture_yr', 'website_size_kb'], axis=1)\n",
    "X = sm.add_constant(X)\n",
    "mod = sm.OLS(data_yr['websize_log'], X).fit()\n",
    "print(mod.summary())"
   ]
  },
  {
   "cell_type": "markdown",
   "id": "1c29c94c",
   "metadata": {},
   "source": [
    "**Control for industry**"
   ]
  },
  {
   "cell_type": "code",
   "execution_count": null,
   "id": "1fe87b79",
   "metadata": {},
   "outputs": [],
   "source": [
    "ind_dummies = pd.get_dummies(data['new_industrygroup'], prefix='industry', drop_first=True)\n",
    "data_id = pd.concat([data, ind_dummies], axis=1)\n",
    "X = data_id.drop(['Failed', 'new_industrygroup', 'capture_yr', 'website_size_kb'], axis=1)\n",
    "X = sm.add_constant(X)\n",
    "mod = sm.OLS(data_id['websize_log'], X).fit()\n",
    "print(mod.summary())"
   ]
  },
  {
   "cell_type": "markdown",
   "id": "50131ad5",
   "metadata": {},
   "source": [
    "**Plot, controlling for end year**"
   ]
  },
  {
   "cell_type": "code",
   "execution_count": null,
   "id": "5b85e5ec",
   "metadata": {},
   "outputs": [],
   "source": [
    "sns.regplot(x='Failed', y='websize_log', data=data, x_estimator=np.mean, color='g', label='Simple OLS');\n",
    "sns.regplot(x='Failed', y='websize_log', data=data, x_estimator=np.mean, y_partial='capture_yr', color='b', label='Controlling for end year');\n",
    "plt.legend()\n",
    "plt.ylabel(\"Prob(Careers page)\")\n",
    "plt.xticks([0, 1]);"
   ]
  },
  {
   "cell_type": "markdown",
   "id": "826599db",
   "metadata": {},
   "source": [
    "**Industry Plot**"
   ]
  },
  {
   "cell_type": "code",
   "execution_count": null,
   "id": "0ff0d18d",
   "metadata": {},
   "outputs": [],
   "source": [
    "ind_groups = data.groupby('new_industrygroup')\n",
    "\n",
    "for name, group in ind_groups:\n",
    "    # We're gonna ignore these industries for now\n",
    "    ind_ignore = [\"To Be Assigned\", \"Energy and Utilities\", \"Industrial Goods and Materials\"]\n",
    "    if name not in ind_ignore:\n",
    "        sns.regplot(x='Failed', y='websize_log', data=group, x_estimator=np.mean, label=name);\n",
    "plt.xticks([0, 1])\n",
    "plt.legend(bbox_to_anchor=(1.05, 1), loc='upper left');"
   ]
  },
  {
   "cell_type": "markdown",
   "id": "10c2b137",
   "metadata": {},
   "source": [
    "**Plot for industry, controlling for capture year**"
   ]
  },
  {
   "cell_type": "code",
   "execution_count": null,
   "id": "73f4c261",
   "metadata": {
    "scrolled": false
   },
   "outputs": [],
   "source": [
    "for name, group in ind_groups:\n",
    "    # We're gonna ignore these industries for now\n",
    "    ind_ignore = [\"To Be Assigned\", \"Energy and Utilities\", \"Industrial Goods and Materials\"]\n",
    "    if name not in ind_ignore:\n",
    "        sns.regplot(x='Failed', y='websize_log', data=group, x_estimator=np.mean, y_partial='capture_yr', label=name);\n",
    "plt.xticks([0, 1])\n",
    "plt.legend(bbox_to_anchor=(1.05, 1), loc='upper left');"
   ]
  }
 ],
 "metadata": {
  "kernelspec": {
   "display_name": "Python 3 (ipykernel)",
   "language": "python",
   "name": "python3"
  },
  "language_info": {
   "codemirror_mode": {
    "name": "ipython",
    "version": 3
   },
   "file_extension": ".py",
   "mimetype": "text/x-python",
   "name": "python",
   "nbconvert_exporter": "python",
   "pygments_lexer": "ipython3",
   "version": "3.9.2"
  }
 },
 "nbformat": 4,
 "nbformat_minor": 5
}
