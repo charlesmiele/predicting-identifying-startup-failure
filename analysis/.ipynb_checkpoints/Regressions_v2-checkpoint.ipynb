{
 "cells": [
  {
   "cell_type": "code",
   "execution_count": 66,
   "id": "1efc897a",
   "metadata": {},
   "outputs": [],
   "source": [
    "import pandas as pd\n",
    "import seaborn as sns\n",
    "import matplotlib.pyplot as plt\n",
    "import statsmodels.api as sm\n",
    "from statsmodels.formula.api import probit\n",
    "import numpy as np\n",
    "\n",
    "pd.set_option('max_columns', 200)\n",
    "pd.set_option('max_rows', 200)\n",
    "plt.style.use('ggplot')"
   ]
  },
  {
   "cell_type": "markdown",
   "id": "e4715883",
   "metadata": {},
   "source": [
    "# Table of Contents"
   ]
  },
  {
   "cell_type": "markdown",
   "id": "555753a9",
   "metadata": {},
   "source": [
    "1. [Read Data](#Read-Data)\n",
    "2. [Define Supporting Functions](#Define-Supporting-Functions)\n",
    "3. [Cross-Sectional Regressions-Final screenshot](#Cross-Sectional-Regressions-Final-screenshot)\n",
    "    1. [Includes Login](#Includes-Login)\n",
    "    2. [Includes Careers Page](#Includes-Careers-Page)\n",
    "    3. [Webpage Size](#Webpage-Size)\n",
    "    4. [Number of A Tags](#Number-of-A-Tags)\n",
    "4. [Difference in final screenshot and end year](#Difference-in-final-screenshot-and-end-year)\n",
    "5. [Cross-Sectional Regression Table](#Cross-Sectional-Regression-Table)\n",
    "6. [Growth regressions](#Growth-Regressions)\n",
    "7. [Time Between Captures](#Time-Between-Captures)\n",
    "8. [Y Dummy Variables](#Y-Dummy-Variables)\n"
   ]
  },
  {
   "cell_type": "code",
   "execution_count": 78,
   "id": "0927c8e4",
   "metadata": {},
   "outputs": [],
   "source": [
    "## Read Data\n",
    "html = pd.read_csv('../data/4_final_webpage_metadata.csv')"
   ]
  },
  {
   "cell_type": "code",
   "execution_count": 80,
   "id": "19f2e4e5",
   "metadata": {},
   "outputs": [],
   "source": [
    "# Filter only clear successes and failures\n",
    "html = html[html.ownershipstatus.isin([\"Out of Business\", \"Publicly-held\", \"Acquired/Merged\"])]\n",
    "\n"
   ]
  },
  {
   "cell_type": "code",
   "execution_count": 81,
   "id": "3224891c",
   "metadata": {},
   "outputs": [],
   "source": [
    "# Remove all webpages with size 0\n",
    "html = html[html['website_size_kb'] != 0]"
   ]
  },
  {
   "cell_type": "code",
   "execution_count": 82,
   "id": "570fe8ae",
   "metadata": {},
   "outputs": [],
   "source": [
    "html[\"Failed\"] = (html.ownershipstatus == \"Out of Business\").astype(int)\n",
    "\n",
    "\n",
    "html[\"end_yr\"] = html[\"exit_date\"].str.slice(start=0, stop=4) \\\n",
    "    .astype('float' ,errors='ignore') # This will have NAs\n",
    "\n",
    "html[\"start_yr\"] = html[\"startdate\"].str.slice(start=0, stop=4). \\\n",
    "    fillna(html[\"lastVC\"].str.slice(start=0, stop=4)) \\\n",
    "    .astype('float', errors='ignore')"
   ]
  },
  {
   "cell_type": "markdown",
   "id": "64581be5",
   "metadata": {},
   "source": [
    "Reset lifespan for Failed"
   ]
  },
  {
   "cell_type": "markdown",
   "id": "01feea01",
   "metadata": {},
   "source": [
    "This is just a prediction, but we're lacking real end dates for failed companies..."
   ]
  },
  {
   "cell_type": "code",
   "execution_count": 83,
   "id": "28956cbf",
   "metadata": {},
   "outputs": [
    {
     "name": "stderr",
     "output_type": "stream",
     "text": [
      "/Library/Frameworks/Python.framework/Versions/3.9/lib/python3.9/site-packages/pandas/core/arraylike.py:358: RuntimeWarning: divide by zero encountered in log\n",
      "  result = getattr(ufunc, method)(*inputs, **kwargs)\n"
     ]
    }
   ],
   "source": [
    "html[\"lifespan\"] = html[\"end_yr\"] - html[\"start_yr\"]\n",
    "html.loc[html['Failed'] == 1, 'lifespan'] = pd.to_datetime(html.query('Failed == 1').lastVC).dt.year \\\n",
    "                                            - html.query('Failed == 1').start_yr + 2\n",
    "# Convert website size and a_count to log format\n",
    "html['websize_log'] = np.log(html['website_size_kb']).replace([-np.inf], 0)\n",
    "html['a_log'] = np.log(html['a_count']).replace([-np.inf], 0)"
   ]
  },
  {
   "cell_type": "markdown",
   "id": "b071691a",
   "metadata": {},
   "source": [
    "Fill NAs for lifespan (these all have Failed == 0)"
   ]
  },
  {
   "cell_type": "code",
   "execution_count": 84,
   "id": "6011e4fe",
   "metadata": {},
   "outputs": [],
   "source": [
    "html.lifespan = html.lifespan.fillna(2023 - html.start_yr)"
   ]
  },
  {
   "cell_type": "markdown",
   "id": "796d284c",
   "metadata": {},
   "source": [
    "#### Add y dummies:"
   ]
  },
  {
   "cell_type": "markdown",
   "id": "bda5ea77",
   "metadata": {},
   "source": [
    "Failed / succeeced *within* year [1-10] columns"
   ]
  },
  {
   "cell_type": "code",
   "execution_count": 85,
   "id": "31f0d24c",
   "metadata": {},
   "outputs": [],
   "source": [
    "for i in range(1, 11):\n",
    "    fColName = f\"f_{i}\"\n",
    "    html[fColName] = ((html.lifespan <= i) & (html.Failed == 1)).astype('int')\n",
    "    \n",
    "for i in range(1, 11):\n",
    "    sColName = f\"s_{i}\"\n",
    "    html[sColName] = ((html.lifespan <= i) & (html.Failed == 0)).astype('int')"
   ]
  },
  {
   "cell_type": "markdown",
   "id": "5289ca54",
   "metadata": {},
   "source": [
    "**The main dataset we'll using for regressions (for now):**"
   ]
  },
  {
   "cell_type": "code",
   "execution_count": 86,
   "id": "2eb7c0aa",
   "metadata": {},
   "outputs": [],
   "source": [
    "data = html.groupby('entityid').last()"
   ]
  },
  {
   "cell_type": "markdown",
   "id": "9e043473",
   "metadata": {},
   "source": [
    "## Define Supporting Functions"
   ]
  },
  {
   "cell_type": "markdown",
   "id": "40cca7ed",
   "metadata": {},
   "source": [
    "This function plots the regressions for us.\n",
    "\n",
    "Takes in an independent variable of interest (this will be plotted on the Y axis for better readbility), a control, and options to plot industry individually and or/save"
   ]
  },
  {
   "cell_type": "code",
   "execution_count": 105,
   "id": "25937b4a",
   "metadata": {},
   "outputs": [],
   "source": [
    "def plot_freg(y, data, control=None, industry=False, save=None):\n",
    "    # Always do most basic OLS\n",
    "    # sns.regplot(x='Failed', y=y, data=data, x_estimator=np.mean, color='g', label='Base OLS')\n",
    "    \n",
    "    if not industry:\n",
    "        sns.regplot(x='Failed', y=y, data=data, x_estimator=np.mean, y_partial=control, \\\n",
    "                    color='b', label=f'Controlling for {control}');\n",
    "        plt.legend()\n",
    "    else:\n",
    "        ind_groups = data.groupby('new_industrygroup')\n",
    "        for name, group in ind_groups:\n",
    "            # We're gonna ignore these industries for now\n",
    "            ind_ignore = [\"To Be Assigned\", \"Energy and Utilities\", \"Industrial Goods and Materials\"]\n",
    "            if name not in ind_ignore:\n",
    "                sns.regplot(x='Failed', y=y, data=group, x_estimator=np.mean, y_partial=control, label=name);\n",
    "        if control:\n",
    "            plt.title(f'Predicting failure on {y} by industry, controlling for {control}')\n",
    "        else:\n",
    "            plt.title(f'Predicting failure on {y} by industry')\n",
    "        plt.legend(bbox_to_anchor=(1.05, 1), loc='upper left');\n",
    "    plt.xticks([0,1])\n",
    "    if save:\n",
    "        plt.savefig(save, dpi=200, bbox_inches='tight')"
   ]
  },
  {
   "cell_type": "code",
   "execution_count": 88,
   "id": "e72a548b",
   "metadata": {},
   "outputs": [],
   "source": [
    "def run_model(x, control=['end_yr', 'new_industrygroup', 'state', 'start_yr'], lifespanControl=None, data=data):\n",
    "    \n",
    "    if lifespanControl is not None:\n",
    "        data.query('lifespan <= @lifespanControl')\n",
    "    \n",
    "    X = data[x]\n",
    "    \n",
    "    \n",
    "    for i in control:\n",
    "        i_dummies = pd.get_dummies(data[i], prefix=i, drop_first=True)\n",
    "        X = pd.concat([X, i_dummies], axis=1)\n",
    "    X = sm.add_constant(X)\n",
    "    mod = sm.OLS(data['Failed'], X).fit()\n",
    "    return mod"
   ]
  },
  {
   "cell_type": "markdown",
   "id": "6599f0a2",
   "metadata": {},
   "source": [
    "## Cross-Sectional Regressions-Final screenshot"
   ]
  },
  {
   "cell_type": "markdown",
   "id": "dc48c064",
   "metadata": {},
   "source": [
    "### Includes Login"
   ]
  },
  {
   "cell_type": "code",
   "execution_count": null,
   "id": "41b82948",
   "metadata": {},
   "outputs": [],
   "source": [
    "run_model('login').summary()"
   ]
  },
  {
   "cell_type": "markdown",
   "id": "1d058838",
   "metadata": {},
   "source": [
    "**Controlling for end year**"
   ]
  },
  {
   "cell_type": "code",
   "execution_count": null,
   "id": "8917f11d",
   "metadata": {},
   "outputs": [],
   "source": [
    "run_model('login', control=['end_yr']).summary()"
   ]
  },
  {
   "cell_type": "code",
   "execution_count": 102,
   "id": "b8032fbd",
   "metadata": {},
   "outputs": [
    {
     "data": {
      "text/plain": [
       "<Axes: xlabel='Failed', ylabel='login'>"
      ]
     },
     "execution_count": 102,
     "metadata": {},
     "output_type": "execute_result"
    },
    {
     "data": {
      "image/png": "[encoded data removed]",
      "text/plain": [
       "<Figure size 640x480 with 1 Axes>"
      ]
     },
     "metadata": {},
     "output_type": "display_data"
    }
   ],
   "source": [
    "sns.regplot(x='Failed', y='login', data=data, x_estimator=np.mean, color='b')"
   ]
  },
  {
   "cell_type": "code",
   "execution_count": 108,
   "id": "815da91d",
   "metadata": {},
   "outputs": [
    {
     "data": {
      "image/png": "[encoded data removed]",
      "text/plain": [
       "<Figure size 640x480 with 1 Axes>"
      ]
     },
     "metadata": {},
     "output_type": "display_data"
    }
   ],
   "source": [
    "plot_freg('login', data=data, control='start_yr', industry=True, save='login_industry.png')"
   ]
  },
  {
   "cell_type": "code",
   "execution_count": 95,
   "id": "78b1d791",
   "metadata": {},
   "outputs": [
    {
     "data": {
      "text/plain": [
       "0.2589197224975223"
      ]
     },
     "execution_count": 95,
     "metadata": {},
     "output_type": "execute_result"
    }
   ],
   "source": [
    "data[data.Failed == 0].login.mean()"
   ]
  },
  {
   "cell_type": "markdown",
   "id": "9c817d76",
   "metadata": {},
   "source": [
    "**Control for industry _and_ end year**"
   ]
  },
  {
   "cell_type": "code",
   "execution_count": null,
   "id": "ea6620a9",
   "metadata": {
    "scrolled": true
   },
   "outputs": [],
   "source": [
    "run_model('login', control=['end_yr', 'new_industrygroup']).summary()"
   ]
  },
  {
   "cell_type": "code",
   "execution_count": null,
   "id": "574ad2df",
   "metadata": {},
   "outputs": [],
   "source": [
    "plot_freg('login', data=data, control='end_yr', industry=True)"
   ]
  },
  {
   "cell_type": "markdown",
   "id": "5b666eda",
   "metadata": {},
   "source": [
    "### Includes Careers Page"
   ]
  },
  {
   "cell_type": "code",
   "execution_count": null,
   "id": "301f650e",
   "metadata": {},
   "outputs": [],
   "source": [
    "run_model('careers').summary()"
   ]
  },
  {
   "cell_type": "markdown",
   "id": "e58ec137",
   "metadata": {},
   "source": [
    "**Controlling for end year**"
   ]
  },
  {
   "cell_type": "code",
   "execution_count": null,
   "id": "1920df73",
   "metadata": {},
   "outputs": [],
   "source": [
    "run_model('careers', control=['end_yr']).summary()"
   ]
  },
  {
   "cell_type": "markdown",
   "id": "bf15ce0c",
   "metadata": {},
   "source": [
    "**Control for end year and industry**"
   ]
  },
  {
   "cell_type": "code",
   "execution_count": null,
   "id": "da87843c",
   "metadata": {},
   "outputs": [],
   "source": [
    "run_model('careers', control=['end_yr']).rsquared"
   ]
  },
  {
   "cell_type": "code",
   "execution_count": null,
   "id": "6fd4aefe",
   "metadata": {},
   "outputs": [],
   "source": [
    "run_model('careers', control=['new_industrygroup', 'end_yr']).summary()"
   ]
  },
  {
   "cell_type": "markdown",
   "id": "6d5c3f82",
   "metadata": {},
   "source": [
    "**Plot**"
   ]
  },
  {
   "cell_type": "code",
   "execution_count": null,
   "id": "f44591a7",
   "metadata": {},
   "outputs": [],
   "source": [
    "plot_freg('careers', data, 'end_yr')"
   ]
  },
  {
   "cell_type": "markdown",
   "id": "aac37e43",
   "metadata": {},
   "source": [
    "**Plot for industry**"
   ]
  },
  {
   "cell_type": "code",
   "execution_count": null,
   "id": "79dad845",
   "metadata": {},
   "outputs": [],
   "source": [
    "plot_freg('careers', data, industry=True, save='industry_graph_simple.png')"
   ]
  },
  {
   "cell_type": "markdown",
   "id": "de55fb60",
   "metadata": {},
   "source": [
    "**Plot for industry, controlling for end year**"
   ]
  },
  {
   "cell_type": "code",
   "execution_count": null,
   "id": "d248d757",
   "metadata": {},
   "outputs": [],
   "source": [
    "plot_freg('careers', data, control='end_yr', industry=True, save='careers_complex.png')"
   ]
  },
  {
   "cell_type": "markdown",
   "id": "f733cf2c",
   "metadata": {},
   "source": [
    "### Webpage Size"
   ]
  },
  {
   "cell_type": "markdown",
   "id": "d16baf94",
   "metadata": {},
   "source": [
    "Setup"
   ]
  },
  {
   "cell_type": "code",
   "execution_count": 68,
   "id": "f8d601b0",
   "metadata": {
    "scrolled": false
   },
   "outputs": [
    {
     "data": {
      "image/png": "[encoded data removed]",
      "text/plain": [
       "<Figure size 640x480 with 1 Axes>"
      ]
     },
     "metadata": {},
     "output_type": "display_data"
    }
   ],
   "source": [
    "# Check out distribution\n",
    "sns.kdeplot(data['websize_log'], color='b', fill='b');"
   ]
  },
  {
   "cell_type": "markdown",
   "id": "0883060a",
   "metadata": {},
   "source": [
    "**OLS Regression**"
   ]
  },
  {
   "cell_type": "code",
   "execution_count": 69,
   "id": "b43e5ba4",
   "metadata": {},
   "outputs": [
    {
     "data": {
      "text/html": [
       "<table class=\"simpletable\">\n",
       "<caption>OLS Regression Results</caption>\n",
       "<tr>\n",
       "  <th>Dep. Variable:</th>         <td>Failed</td>      <th>  R-squared:         </th> <td>   0.637</td>\n",
       "</tr>\n",
       "<tr>\n",
       "  <th>Model:</th>                   <td>OLS</td>       <th>  Adj. R-squared:    </th> <td>   0.635</td>\n",
       "</tr>\n",
       "<tr>\n",
       "  <th>Method:</th>             <td>Least Squares</td>  <th>  F-statistic:       </th> <td>   256.8</td>\n",
       "</tr>\n",
       "<tr>\n",
       "  <th>Date:</th>             <td>Thu, 27 Jul 2023</td> <th>  Prob (F-statistic):</th>  <td>  0.00</td> \n",
       "</tr>\n",
       "<tr>\n",
       "  <th>Time:</th>                 <td>01:21:51</td>     <th>  Log-Likelihood:    </th> <td> -1855.4</td>\n",
       "</tr>\n",
       "<tr>\n",
       "  <th>No. Observations:</th>      <td> 16795</td>      <th>  AIC:               </th> <td>   3941.</td>\n",
       "</tr>\n",
       "<tr>\n",
       "  <th>Df Residuals:</th>          <td> 16680</td>      <th>  BIC:               </th> <td>   4830.</td>\n",
       "</tr>\n",
       "<tr>\n",
       "  <th>Df Model:</th>              <td>   114</td>      <th>                     </th>     <td> </td>   \n",
       "</tr>\n",
       "<tr>\n",
       "  <th>Covariance Type:</th>      <td>nonrobust</td>    <th>                     </th>     <td> </td>   \n",
       "</tr>\n",
       "</table>\n",
       "<table class=\"simpletable\">\n",
       "<tr>\n",
       "                          <td></td>                            <th>coef</th>     <th>std err</th>      <th>t</th>      <th>P>|t|</th>  <th>[0.025</th>    <th>0.975]</th>  \n",
       "</tr>\n",
       "<tr>\n",
       "  <th>const</th>                                            <td>    1.1368</td> <td>    0.067</td> <td>   16.886</td> <td> 0.000</td> <td>    1.005</td> <td>    1.269</td>\n",
       "</tr>\n",
       "<tr>\n",
       "  <th>websize_log</th>                                      <td>   -0.0546</td> <td>    0.002</td> <td>  -35.296</td> <td> 0.000</td> <td>   -0.058</td> <td>   -0.052</td>\n",
       "</tr>\n",
       "<tr>\n",
       "  <th>end_yr_1998.0</th>                                    <td>   -0.8703</td> <td>    0.063</td> <td>  -13.815</td> <td> 0.000</td> <td>   -0.994</td> <td>   -0.747</td>\n",
       "</tr>\n",
       "<tr>\n",
       "  <th>end_yr_1999.0</th>                                    <td>   -0.8756</td> <td>    0.024</td> <td>  -36.188</td> <td> 0.000</td> <td>   -0.923</td> <td>   -0.828</td>\n",
       "</tr>\n",
       "<tr>\n",
       "  <th>end_yr_2000.0</th>                                    <td>   -0.8729</td> <td>    0.018</td> <td>  -47.905</td> <td> 0.000</td> <td>   -0.909</td> <td>   -0.837</td>\n",
       "</tr>\n",
       "<tr>\n",
       "  <th>end_yr_2001.0</th>                                    <td>   -0.8717</td> <td>    0.019</td> <td>  -46.332</td> <td> 0.000</td> <td>   -0.909</td> <td>   -0.835</td>\n",
       "</tr>\n",
       "<tr>\n",
       "  <th>end_yr_2002.0</th>                                    <td>   -0.8545</td> <td>    0.019</td> <td>  -45.250</td> <td> 0.000</td> <td>   -0.892</td> <td>   -0.817</td>\n",
       "</tr>\n",
       "<tr>\n",
       "  <th>end_yr_2003.0</th>                                    <td>   -0.8428</td> <td>    0.020</td> <td>  -43.172</td> <td> 0.000</td> <td>   -0.881</td> <td>   -0.805</td>\n",
       "</tr>\n",
       "<tr>\n",
       "  <th>end_yr_2004.0</th>                                    <td>   -0.8391</td> <td>    0.016</td> <td>  -51.659</td> <td> 0.000</td> <td>   -0.871</td> <td>   -0.807</td>\n",
       "</tr>\n",
       "<tr>\n",
       "  <th>end_yr_2005.0</th>                                    <td>   -0.8233</td> <td>    0.017</td> <td>  -47.803</td> <td> 0.000</td> <td>   -0.857</td> <td>   -0.789</td>\n",
       "</tr>\n",
       "<tr>\n",
       "  <th>end_yr_2006.0</th>                                    <td>   -0.8204</td> <td>    0.015</td> <td>  -53.406</td> <td> 0.000</td> <td>   -0.850</td> <td>   -0.790</td>\n",
       "</tr>\n",
       "<tr>\n",
       "  <th>end_yr_2007.0</th>                                    <td>   -0.8069</td> <td>    0.014</td> <td>  -56.523</td> <td> 0.000</td> <td>   -0.835</td> <td>   -0.779</td>\n",
       "</tr>\n",
       "<tr>\n",
       "  <th>end_yr_2008.0</th>                                    <td>   -0.7818</td> <td>    0.016</td> <td>  -47.703</td> <td> 0.000</td> <td>   -0.814</td> <td>   -0.750</td>\n",
       "</tr>\n",
       "<tr>\n",
       "  <th>end_yr_2009.0</th>                                    <td>   -0.7774</td> <td>    0.016</td> <td>  -48.752</td> <td> 0.000</td> <td>   -0.809</td> <td>   -0.746</td>\n",
       "</tr>\n",
       "<tr>\n",
       "  <th>end_yr_2010.0</th>                                    <td>   -0.7657</td> <td>    0.013</td> <td>  -59.621</td> <td> 0.000</td> <td>   -0.791</td> <td>   -0.741</td>\n",
       "</tr>\n",
       "<tr>\n",
       "  <th>end_yr_2011.0</th>                                    <td>   -0.7483</td> <td>    0.012</td> <td>  -60.017</td> <td> 0.000</td> <td>   -0.773</td> <td>   -0.724</td>\n",
       "</tr>\n",
       "<tr>\n",
       "  <th>end_yr_2012.0</th>                                    <td>   -0.7356</td> <td>    0.012</td> <td>  -60.382</td> <td> 0.000</td> <td>   -0.760</td> <td>   -0.712</td>\n",
       "</tr>\n",
       "<tr>\n",
       "  <th>end_yr_2013.0</th>                                    <td>   -0.7180</td> <td>    0.012</td> <td>  -58.993</td> <td> 0.000</td> <td>   -0.742</td> <td>   -0.694</td>\n",
       "</tr>\n",
       "<tr>\n",
       "  <th>end_yr_2014.0</th>                                    <td>   -0.7028</td> <td>    0.011</td> <td>  -63.328</td> <td> 0.000</td> <td>   -0.725</td> <td>   -0.681</td>\n",
       "</tr>\n",
       "<tr>\n",
       "  <th>end_yr_2015.0</th>                                    <td>   -0.6762</td> <td>    0.012</td> <td>  -57.164</td> <td> 0.000</td> <td>   -0.699</td> <td>   -0.653</td>\n",
       "</tr>\n",
       "<tr>\n",
       "  <th>end_yr_2016.0</th>                                    <td>   -0.6585</td> <td>    0.012</td> <td>  -55.588</td> <td> 0.000</td> <td>   -0.682</td> <td>   -0.635</td>\n",
       "</tr>\n",
       "<tr>\n",
       "  <th>end_yr_2017.0</th>                                    <td>   -0.6419</td> <td>    0.011</td> <td>  -58.134</td> <td> 0.000</td> <td>   -0.664</td> <td>   -0.620</td>\n",
       "</tr>\n",
       "<tr>\n",
       "  <th>end_yr_2018.0</th>                                    <td>   -0.6103</td> <td>    0.010</td> <td>  -58.875</td> <td> 0.000</td> <td>   -0.631</td> <td>   -0.590</td>\n",
       "</tr>\n",
       "<tr>\n",
       "  <th>end_yr_2019.0</th>                                    <td>   -0.5876</td> <td>    0.011</td> <td>  -55.065</td> <td> 0.000</td> <td>   -0.609</td> <td>   -0.567</td>\n",
       "</tr>\n",
       "<tr>\n",
       "  <th>end_yr_2020.0</th>                                    <td>   -0.4562</td> <td>    0.041</td> <td>  -11.056</td> <td> 0.000</td> <td>   -0.537</td> <td>   -0.375</td>\n",
       "</tr>\n",
       "<tr>\n",
       "  <th>end_yr_2021.0</th>                                    <td>   -0.5115</td> <td>    0.018</td> <td>  -29.058</td> <td> 0.000</td> <td>   -0.546</td> <td>   -0.477</td>\n",
       "</tr>\n",
       "<tr>\n",
       "  <th>end_yr_2022.0</th>                                    <td>   -0.5058</td> <td>    0.017</td> <td>  -30.534</td> <td> 0.000</td> <td>   -0.538</td> <td>   -0.473</td>\n",
       "</tr>\n",
       "<tr>\n",
       "  <th>end_yr_2023.0</th>                                    <td>   -0.5151</td> <td>    0.031</td> <td>  -16.735</td> <td> 0.000</td> <td>   -0.575</td> <td>   -0.455</td>\n",
       "</tr>\n",
       "<tr>\n",
       "  <th>new_industrygroup_Consumer Goods</th>                 <td>    0.0147</td> <td>    0.013</td> <td>    1.120</td> <td> 0.263</td> <td>   -0.011</td> <td>    0.040</td>\n",
       "</tr>\n",
       "<tr>\n",
       "  <th>new_industrygroup_Consumer Services</th>              <td>    0.0791</td> <td>    0.007</td> <td>   11.107</td> <td> 0.000</td> <td>    0.065</td> <td>    0.093</td>\n",
       "</tr>\n",
       "<tr>\n",
       "  <th>new_industrygroup_Energy and Utilities</th>           <td>    0.0042</td> <td>    0.019</td> <td>    0.225</td> <td> 0.822</td> <td>   -0.032</td> <td>    0.041</td>\n",
       "</tr>\n",
       "<tr>\n",
       "  <th>new_industrygroup_Healthcare</th>                     <td>   -0.0094</td> <td>    0.007</td> <td>   -1.314</td> <td> 0.189</td> <td>   -0.023</td> <td>    0.005</td>\n",
       "</tr>\n",
       "<tr>\n",
       "  <th>new_industrygroup_Industrial Goods and Materials</th> <td>   -0.0619</td> <td>    0.015</td> <td>   -4.103</td> <td> 0.000</td> <td>   -0.091</td> <td>   -0.032</td>\n",
       "</tr>\n",
       "<tr>\n",
       "  <th>new_industrygroup_Information Technology</th>         <td>    0.0201</td> <td>    0.006</td> <td>    3.473</td> <td> 0.001</td> <td>    0.009</td> <td>    0.031</td>\n",
       "</tr>\n",
       "<tr>\n",
       "  <th>new_industrygroup_To Be Assigned</th>                 <td>    0.1751</td> <td>    0.271</td> <td>    0.645</td> <td> 0.519</td> <td>   -0.357</td> <td>    0.707</td>\n",
       "</tr>\n",
       "<tr>\n",
       "  <th>state_AL</th>                                         <td>   -0.2188</td> <td>    0.076</td> <td>   -2.868</td> <td> 0.004</td> <td>   -0.368</td> <td>   -0.069</td>\n",
       "</tr>\n",
       "<tr>\n",
       "  <th>state_AR</th>                                         <td>   -0.3426</td> <td>    0.098</td> <td>   -3.490</td> <td> 0.000</td> <td>   -0.535</td> <td>   -0.150</td>\n",
       "</tr>\n",
       "<tr>\n",
       "  <th>state_AZ</th>                                         <td>   -0.1935</td> <td>    0.071</td> <td>   -2.739</td> <td> 0.006</td> <td>   -0.332</td> <td>   -0.055</td>\n",
       "</tr>\n",
       "<tr>\n",
       "  <th>state_CA</th>                                         <td>   -0.1661</td> <td>    0.066</td> <td>   -2.511</td> <td> 0.012</td> <td>   -0.296</td> <td>   -0.036</td>\n",
       "</tr>\n",
       "<tr>\n",
       "  <th>state_CO</th>                                         <td>   -0.1950</td> <td>    0.067</td> <td>   -2.892</td> <td> 0.004</td> <td>   -0.327</td> <td>   -0.063</td>\n",
       "</tr>\n",
       "<tr>\n",
       "  <th>state_CT</th>                                         <td>   -0.1783</td> <td>    0.069</td> <td>   -2.571</td> <td> 0.010</td> <td>   -0.314</td> <td>   -0.042</td>\n",
       "</tr>\n",
       "<tr>\n",
       "  <th>state_Ca</th>                                         <td>    0.0009</td> <td>    0.279</td> <td>    0.003</td> <td> 0.997</td> <td>   -0.546</td> <td>    0.548</td>\n",
       "</tr>\n",
       "<tr>\n",
       "  <th>state_DC</th>                                         <td>   -0.2365</td> <td>    0.072</td> <td>   -3.286</td> <td> 0.001</td> <td>   -0.378</td> <td>   -0.095</td>\n",
       "</tr>\n",
       "<tr>\n",
       "  <th>state_DE</th>                                         <td>   -0.1580</td> <td>    0.072</td> <td>   -2.189</td> <td> 0.029</td> <td>   -0.299</td> <td>   -0.017</td>\n",
       "</tr>\n",
       "<tr>\n",
       "  <th>state_FL</th>                                         <td>   -0.2446</td> <td>    0.068</td> <td>   -3.623</td> <td> 0.000</td> <td>   -0.377</td> <td>   -0.112</td>\n",
       "</tr>\n",
       "<tr>\n",
       "  <th>state_GA</th>                                         <td>   -0.2076</td> <td>    0.068</td> <td>   -3.064</td> <td> 0.002</td> <td>   -0.340</td> <td>   -0.075</td>\n",
       "</tr>\n",
       "<tr>\n",
       "  <th>state_HI</th>                                         <td>   -0.1243</td> <td>    0.090</td> <td>   -1.385</td> <td> 0.166</td> <td>   -0.300</td> <td>    0.052</td>\n",
       "</tr>\n",
       "<tr>\n",
       "  <th>state_IA</th>                                         <td>   -0.3124</td> <td>    0.084</td> <td>   -3.734</td> <td> 0.000</td> <td>   -0.476</td> <td>   -0.148</td>\n",
       "</tr>\n",
       "<tr>\n",
       "  <th>state_ID</th>                                         <td>   -0.1837</td> <td>    0.092</td> <td>   -1.995</td> <td> 0.046</td> <td>   -0.364</td> <td>   -0.003</td>\n",
       "</tr>\n",
       "<tr>\n",
       "  <th>state_IL</th>                                         <td>   -0.2216</td> <td>    0.068</td> <td>   -3.279</td> <td> 0.001</td> <td>   -0.354</td> <td>   -0.089</td>\n",
       "</tr>\n",
       "<tr>\n",
       "  <th>state_IN</th>                                         <td>   -0.1922</td> <td>    0.071</td> <td>   -2.689</td> <td> 0.007</td> <td>   -0.332</td> <td>   -0.052</td>\n",
       "</tr>\n",
       "<tr>\n",
       "  <th>state_KS</th>                                         <td>   -0.2088</td> <td>    0.080</td> <td>   -2.617</td> <td> 0.009</td> <td>   -0.365</td> <td>   -0.052</td>\n",
       "</tr>\n",
       "<tr>\n",
       "  <th>state_KY</th>                                         <td>   -0.1477</td> <td>    0.077</td> <td>   -1.927</td> <td> 0.054</td> <td>   -0.298</td> <td>    0.003</td>\n",
       "</tr>\n",
       "<tr>\n",
       "  <th>state_LA</th>                                         <td>   -0.0397</td> <td>    0.088</td> <td>   -0.452</td> <td> 0.651</td> <td>   -0.212</td> <td>    0.132</td>\n",
       "</tr>\n",
       "<tr>\n",
       "  <th>state_MA</th>                                         <td>   -0.1778</td> <td>    0.066</td> <td>   -2.674</td> <td> 0.007</td> <td>   -0.308</td> <td>   -0.047</td>\n",
       "</tr>\n",
       "<tr>\n",
       "  <th>state_MD</th>                                         <td>   -0.2103</td> <td>    0.068</td> <td>   -3.076</td> <td> 0.002</td> <td>   -0.344</td> <td>   -0.076</td>\n",
       "</tr>\n",
       "<tr>\n",
       "  <th>state_ME</th>                                         <td>   -0.2452</td> <td>    0.086</td> <td>   -2.842</td> <td> 0.004</td> <td>   -0.414</td> <td>   -0.076</td>\n",
       "</tr>\n",
       "<tr>\n",
       "  <th>state_MI</th>                                         <td>   -0.2031</td> <td>    0.070</td> <td>   -2.900</td> <td> 0.004</td> <td>   -0.340</td> <td>   -0.066</td>\n",
       "</tr>\n",
       "<tr>\n",
       "  <th>state_MN</th>                                         <td>   -0.2303</td> <td>    0.069</td> <td>   -3.325</td> <td> 0.001</td> <td>   -0.366</td> <td>   -0.095</td>\n",
       "</tr>\n",
       "<tr>\n",
       "  <th>state_MO</th>                                         <td>   -0.1942</td> <td>    0.073</td> <td>   -2.676</td> <td> 0.007</td> <td>   -0.336</td> <td>   -0.052</td>\n",
       "</tr>\n",
       "<tr>\n",
       "  <th>state_MS</th>                                         <td>   -0.0944</td> <td>    0.129</td> <td>   -0.732</td> <td> 0.464</td> <td>   -0.347</td> <td>    0.159</td>\n",
       "</tr>\n",
       "<tr>\n",
       "  <th>state_MT</th>                                         <td>    0.0254</td> <td>    0.122</td> <td>    0.208</td> <td> 0.835</td> <td>   -0.214</td> <td>    0.265</td>\n",
       "</tr>\n",
       "<tr>\n",
       "  <th>state_NC</th>                                         <td>   -0.2166</td> <td>    0.068</td> <td>   -3.185</td> <td> 0.001</td> <td>   -0.350</td> <td>   -0.083</td>\n",
       "</tr>\n",
       "<tr>\n",
       "  <th>state_ND</th>                                         <td>   -0.1999</td> <td>    0.203</td> <td>   -0.983</td> <td> 0.325</td> <td>   -0.598</td> <td>    0.199</td>\n",
       "</tr>\n",
       "<tr>\n",
       "  <th>state_NE</th>                                         <td>   -0.2553</td> <td>    0.086</td> <td>   -2.985</td> <td> 0.003</td> <td>   -0.423</td> <td>   -0.088</td>\n",
       "</tr>\n",
       "<tr>\n",
       "  <th>state_NH</th>                                         <td>   -0.2679</td> <td>    0.075</td> <td>   -3.575</td> <td> 0.000</td> <td>   -0.415</td> <td>   -0.121</td>\n",
       "</tr>\n",
       "<tr>\n",
       "  <th>state_NJ</th>                                         <td>   -0.2206</td> <td>    0.068</td> <td>   -3.250</td> <td> 0.001</td> <td>   -0.354</td> <td>   -0.088</td>\n",
       "</tr>\n",
       "<tr>\n",
       "  <th>state_NM</th>                                         <td>   -0.1970</td> <td>    0.087</td> <td>   -2.263</td> <td> 0.024</td> <td>   -0.368</td> <td>   -0.026</td>\n",
       "</tr>\n",
       "<tr>\n",
       "  <th>state_NV</th>                                         <td>   -0.2427</td> <td>    0.075</td> <td>   -3.255</td> <td> 0.001</td> <td>   -0.389</td> <td>   -0.097</td>\n",
       "</tr>\n",
       "<tr>\n",
       "  <th>state_NY</th>                                         <td>   -0.2049</td> <td>    0.066</td> <td>   -3.085</td> <td> 0.002</td> <td>   -0.335</td> <td>   -0.075</td>\n",
       "</tr>\n",
       "<tr>\n",
       "  <th>state_OH</th>                                         <td>   -0.2389</td> <td>    0.069</td> <td>   -3.443</td> <td> 0.001</td> <td>   -0.375</td> <td>   -0.103</td>\n",
       "</tr>\n",
       "<tr>\n",
       "  <th>state_OK</th>                                         <td>   -0.2409</td> <td>    0.087</td> <td>   -2.768</td> <td> 0.006</td> <td>   -0.412</td> <td>   -0.070</td>\n",
       "</tr>\n",
       "<tr>\n",
       "  <th>state_OR</th>                                         <td>   -0.2056</td> <td>    0.069</td> <td>   -2.965</td> <td> 0.003</td> <td>   -0.341</td> <td>   -0.070</td>\n",
       "</tr>\n",
       "<tr>\n",
       "  <th>state_PA</th>                                         <td>   -0.2117</td> <td>    0.067</td> <td>   -3.145</td> <td> 0.002</td> <td>   -0.344</td> <td>   -0.080</td>\n",
       "</tr>\n",
       "<tr>\n",
       "  <th>state_PR</th>                                         <td>   -0.4519</td> <td>    0.129</td> <td>   -3.501</td> <td> 0.000</td> <td>   -0.705</td> <td>   -0.199</td>\n",
       "</tr>\n",
       "<tr>\n",
       "  <th>state_RI</th>                                         <td>   -0.1965</td> <td>    0.081</td> <td>   -2.431</td> <td> 0.015</td> <td>   -0.355</td> <td>   -0.038</td>\n",
       "</tr>\n",
       "<tr>\n",
       "  <th>state_SC</th>                                         <td>   -0.1497</td> <td>    0.080</td> <td>   -1.868</td> <td> 0.062</td> <td>   -0.307</td> <td>    0.007</td>\n",
       "</tr>\n",
       "<tr>\n",
       "  <th>state_SD</th>                                         <td>   -0.3413</td> <td>    0.151</td> <td>   -2.260</td> <td> 0.024</td> <td>   -0.637</td> <td>   -0.045</td>\n",
       "</tr>\n",
       "<tr>\n",
       "  <th>state_TN</th>                                         <td>   -0.2660</td> <td>    0.071</td> <td>   -3.767</td> <td> 0.000</td> <td>   -0.404</td> <td>   -0.128</td>\n",
       "</tr>\n",
       "<tr>\n",
       "  <th>state_TX</th>                                         <td>   -0.2320</td> <td>    0.067</td> <td>   -3.477</td> <td> 0.001</td> <td>   -0.363</td> <td>   -0.101</td>\n",
       "</tr>\n",
       "<tr>\n",
       "  <th>state_UT</th>                                         <td>   -0.2790</td> <td>    0.069</td> <td>   -4.047</td> <td> 0.000</td> <td>   -0.414</td> <td>   -0.144</td>\n",
       "</tr>\n",
       "<tr>\n",
       "  <th>state_VA</th>                                         <td>   -0.2100</td> <td>    0.068</td> <td>   -3.100</td> <td> 0.002</td> <td>   -0.343</td> <td>   -0.077</td>\n",
       "</tr>\n",
       "<tr>\n",
       "  <th>state_VI</th>                                         <td>   -0.4348</td> <td>    0.203</td> <td>   -2.141</td> <td> 0.032</td> <td>   -0.833</td> <td>   -0.037</td>\n",
       "</tr>\n",
       "<tr>\n",
       "  <th>state_VT</th>                                         <td>   -0.1654</td> <td>    0.086</td> <td>   -1.916</td> <td> 0.055</td> <td>   -0.335</td> <td>    0.004</td>\n",
       "</tr>\n",
       "<tr>\n",
       "  <th>state_WA</th>                                         <td>   -0.1706</td> <td>    0.067</td> <td>   -2.547</td> <td> 0.011</td> <td>   -0.302</td> <td>   -0.039</td>\n",
       "</tr>\n",
       "<tr>\n",
       "  <th>state_WI</th>                                         <td>   -0.2239</td> <td>    0.072</td> <td>   -3.099</td> <td> 0.002</td> <td>   -0.365</td> <td>   -0.082</td>\n",
       "</tr>\n",
       "<tr>\n",
       "  <th>state_WV</th>                                         <td>   -0.4861</td> <td>    0.108</td> <td>   -4.484</td> <td> 0.000</td> <td>   -0.699</td> <td>   -0.274</td>\n",
       "</tr>\n",
       "<tr>\n",
       "  <th>state_WY</th>                                         <td>   -0.3837</td> <td>    0.203</td> <td>   -1.891</td> <td> 0.059</td> <td>   -0.781</td> <td>    0.014</td>\n",
       "</tr>\n",
       "<tr>\n",
       "  <th>start_yr_1997.0</th>                                  <td>    0.0094</td> <td>    0.015</td> <td>    0.644</td> <td> 0.520</td> <td>   -0.019</td> <td>    0.038</td>\n",
       "</tr>\n",
       "<tr>\n",
       "  <th>start_yr_1998.0</th>                                  <td>    0.0055</td> <td>    0.014</td> <td>    0.404</td> <td> 0.686</td> <td>   -0.021</td> <td>    0.032</td>\n",
       "</tr>\n",
       "<tr>\n",
       "  <th>start_yr_1999.0</th>                                  <td>    0.0270</td> <td>    0.013</td> <td>    2.144</td> <td> 0.032</td> <td>    0.002</td> <td>    0.052</td>\n",
       "</tr>\n",
       "<tr>\n",
       "  <th>start_yr_2000.0</th>                                  <td>   -0.0015</td> <td>    0.013</td> <td>   -0.110</td> <td> 0.912</td> <td>   -0.028</td> <td>    0.025</td>\n",
       "</tr>\n",
       "<tr>\n",
       "  <th>start_yr_2001.0</th>                                  <td>   -0.0421</td> <td>    0.016</td> <td>   -2.684</td> <td> 0.007</td> <td>   -0.073</td> <td>   -0.011</td>\n",
       "</tr>\n",
       "<tr>\n",
       "  <th>start_yr_2002.0</th>                                  <td>   -0.0577</td> <td>    0.016</td> <td>   -3.581</td> <td> 0.000</td> <td>   -0.089</td> <td>   -0.026</td>\n",
       "</tr>\n",
       "<tr>\n",
       "  <th>start_yr_2003.0</th>                                  <td>   -0.0658</td> <td>    0.016</td> <td>   -4.130</td> <td> 0.000</td> <td>   -0.097</td> <td>   -0.035</td>\n",
       "</tr>\n",
       "<tr>\n",
       "  <th>start_yr_2004.0</th>                                  <td>   -0.0756</td> <td>    0.016</td> <td>   -4.797</td> <td> 0.000</td> <td>   -0.106</td> <td>   -0.045</td>\n",
       "</tr>\n",
       "<tr>\n",
       "  <th>start_yr_2005.0</th>                                  <td>   -0.0771</td> <td>    0.016</td> <td>   -4.971</td> <td> 0.000</td> <td>   -0.108</td> <td>   -0.047</td>\n",
       "</tr>\n",
       "<tr>\n",
       "  <th>start_yr_2006.0</th>                                  <td>   -0.0824</td> <td>    0.015</td> <td>   -5.393</td> <td> 0.000</td> <td>   -0.112</td> <td>   -0.052</td>\n",
       "</tr>\n",
       "<tr>\n",
       "  <th>start_yr_2007.0</th>                                  <td>   -0.1025</td> <td>    0.015</td> <td>   -6.768</td> <td> 0.000</td> <td>   -0.132</td> <td>   -0.073</td>\n",
       "</tr>\n",
       "<tr>\n",
       "  <th>start_yr_2008.0</th>                                  <td>   -0.1103</td> <td>    0.016</td> <td>   -7.007</td> <td> 0.000</td> <td>   -0.141</td> <td>   -0.079</td>\n",
       "</tr>\n",
       "<tr>\n",
       "  <th>start_yr_2009.0</th>                                  <td>   -0.1384</td> <td>    0.016</td> <td>   -8.745</td> <td> 0.000</td> <td>   -0.169</td> <td>   -0.107</td>\n",
       "</tr>\n",
       "<tr>\n",
       "  <th>start_yr_2010.0</th>                                  <td>   -0.1305</td> <td>    0.015</td> <td>   -8.568</td> <td> 0.000</td> <td>   -0.160</td> <td>   -0.101</td>\n",
       "</tr>\n",
       "<tr>\n",
       "  <th>start_yr_2011.0</th>                                  <td>   -0.1486</td> <td>    0.015</td> <td>   -9.928</td> <td> 0.000</td> <td>   -0.178</td> <td>   -0.119</td>\n",
       "</tr>\n",
       "<tr>\n",
       "  <th>start_yr_2012.0</th>                                  <td>   -0.1476</td> <td>    0.015</td> <td>   -9.864</td> <td> 0.000</td> <td>   -0.177</td> <td>   -0.118</td>\n",
       "</tr>\n",
       "<tr>\n",
       "  <th>start_yr_2013.0</th>                                  <td>   -0.1514</td> <td>    0.016</td> <td>   -9.755</td> <td> 0.000</td> <td>   -0.182</td> <td>   -0.121</td>\n",
       "</tr>\n",
       "<tr>\n",
       "  <th>start_yr_2014.0</th>                                  <td>   -0.1956</td> <td>    0.016</td> <td>  -12.572</td> <td> 0.000</td> <td>   -0.226</td> <td>   -0.165</td>\n",
       "</tr>\n",
       "<tr>\n",
       "  <th>start_yr_2015.0</th>                                  <td>   -0.2248</td> <td>    0.017</td> <td>  -13.574</td> <td> 0.000</td> <td>   -0.257</td> <td>   -0.192</td>\n",
       "</tr>\n",
       "<tr>\n",
       "  <th>start_yr_2016.0</th>                                  <td>   -0.2901</td> <td>    0.018</td> <td>  -15.777</td> <td> 0.000</td> <td>   -0.326</td> <td>   -0.254</td>\n",
       "</tr>\n",
       "<tr>\n",
       "  <th>start_yr_2017.0</th>                                  <td>   -0.2235</td> <td>    0.018</td> <td>  -12.155</td> <td> 0.000</td> <td>   -0.260</td> <td>   -0.187</td>\n",
       "</tr>\n",
       "<tr>\n",
       "  <th>start_yr_2018.0</th>                                  <td>   -0.2006</td> <td>    0.019</td> <td>  -10.529</td> <td> 0.000</td> <td>   -0.238</td> <td>   -0.163</td>\n",
       "</tr>\n",
       "<tr>\n",
       "  <th>start_yr_2019.0</th>                                  <td>   -0.1891</td> <td>    0.020</td> <td>   -9.332</td> <td> 0.000</td> <td>   -0.229</td> <td>   -0.149</td>\n",
       "</tr>\n",
       "<tr>\n",
       "  <th>start_yr_2020.0</th>                                  <td>   -0.1740</td> <td>    0.021</td> <td>   -8.161</td> <td> 0.000</td> <td>   -0.216</td> <td>   -0.132</td>\n",
       "</tr>\n",
       "<tr>\n",
       "  <th>start_yr_2021.0</th>                                  <td>   -0.1200</td> <td>    0.028</td> <td>   -4.300</td> <td> 0.000</td> <td>   -0.175</td> <td>   -0.065</td>\n",
       "</tr>\n",
       "<tr>\n",
       "  <th>start_yr_2022.0</th>                                  <td>   -0.2143</td> <td>    0.054</td> <td>   -4.003</td> <td> 0.000</td> <td>   -0.319</td> <td>   -0.109</td>\n",
       "</tr>\n",
       "<tr>\n",
       "  <th>start_yr_2023.0</th>                                  <td>   -0.2598</td> <td>    0.122</td> <td>   -2.127</td> <td> 0.033</td> <td>   -0.499</td> <td>   -0.020</td>\n",
       "</tr>\n",
       "</table>\n",
       "<table class=\"simpletable\">\n",
       "<tr>\n",
       "  <th>Omnibus:</th>       <td>2148.846</td> <th>  Durbin-Watson:     </th> <td>   1.789</td>\n",
       "</tr>\n",
       "<tr>\n",
       "  <th>Prob(Omnibus):</th>  <td> 0.000</td>  <th>  Jarque-Bera (JB):  </th> <td>3676.434</td>\n",
       "</tr>\n",
       "<tr>\n",
       "  <th>Skew:</th>           <td>-0.866</td>  <th>  Prob(JB):          </th> <td>    0.00</td>\n",
       "</tr>\n",
       "<tr>\n",
       "  <th>Kurtosis:</th>       <td> 4.502</td>  <th>  Cond. No.          </th> <td>    858.</td>\n",
       "</tr>\n",
       "</table><br/><br/>Notes:<br/>[1] Standard Errors assume that the covariance matrix of the errors is correctly specified."
      ],
      "text/latex": [
       "\\begin{center}\n",
       "\\begin{tabular}{lclc}\n",
       "\\toprule\n",
       "\\textbf{Dep. Variable:}                                     &      Failed      & \\textbf{  R-squared:         } &     0.637   \\\\\n",
       "\\textbf{Model:}                                             &       OLS        & \\textbf{  Adj. R-squared:    } &     0.635   \\\\\n",
       "\\textbf{Method:}                                            &  Least Squares   & \\textbf{  F-statistic:       } &     256.8   \\\\\n",
       "\\textbf{Date:}                                              & Thu, 27 Jul 2023 & \\textbf{  Prob (F-statistic):} &     0.00    \\\\\n",
       "\\textbf{Time:}                                              &     01:21:51     & \\textbf{  Log-Likelihood:    } &   -1855.4   \\\\\n",
       "\\textbf{No. Observations:}                                  &       16795      & \\textbf{  AIC:               } &     3941.   \\\\\n",
       "\\textbf{Df Residuals:}                                      &       16680      & \\textbf{  BIC:               } &     4830.   \\\\\n",
       "\\textbf{Df Model:}                                          &         114      & \\textbf{                     } &             \\\\\n",
       "\\textbf{Covariance Type:}                                   &    nonrobust     & \\textbf{                     } &             \\\\\n",
       "\\bottomrule\n",
       "\\end{tabular}\n",
       "\\begin{tabular}{lcccccc}\n",
       "                                                            & \\textbf{coef} & \\textbf{std err} & \\textbf{t} & \\textbf{P$> |$t$|$} & \\textbf{[0.025} & \\textbf{0.975]}  \\\\\n",
       "\\midrule\n",
       "\\textbf{const}                                              &       1.1368  &        0.067     &    16.886  &         0.000        &        1.005    &        1.269     \\\\\n",
       "\\textbf{websize\\_log}                                       &      -0.0546  &        0.002     &   -35.296  &         0.000        &       -0.058    &       -0.052     \\\\\n",
       "\\textbf{end\\_yr\\_1998.0}                                    &      -0.8703  &        0.063     &   -13.815  &         0.000        &       -0.994    &       -0.747     \\\\\n",
       "\\textbf{end\\_yr\\_1999.0}                                    &      -0.8756  &        0.024     &   -36.188  &         0.000        &       -0.923    &       -0.828     \\\\\n",
       "\\textbf{end\\_yr\\_2000.0}                                    &      -0.8729  &        0.018     &   -47.905  &         0.000        &       -0.909    &       -0.837     \\\\\n",
       "\\textbf{end\\_yr\\_2001.0}                                    &      -0.8717  &        0.019     &   -46.332  &         0.000        &       -0.909    &       -0.835     \\\\\n",
       "\\textbf{end\\_yr\\_2002.0}                                    &      -0.8545  &        0.019     &   -45.250  &         0.000        &       -0.892    &       -0.817     \\\\\n",
       "\\textbf{end\\_yr\\_2003.0}                                    &      -0.8428  &        0.020     &   -43.172  &         0.000        &       -0.881    &       -0.805     \\\\\n",
       "\\textbf{end\\_yr\\_2004.0}                                    &      -0.8391  &        0.016     &   -51.659  &         0.000        &       -0.871    &       -0.807     \\\\\n",
       "\\textbf{end\\_yr\\_2005.0}                                    &      -0.8233  &        0.017     &   -47.803  &         0.000        &       -0.857    &       -0.789     \\\\\n",
       "\\textbf{end\\_yr\\_2006.0}                                    &      -0.8204  &        0.015     &   -53.406  &         0.000        &       -0.850    &       -0.790     \\\\\n",
       "\\textbf{end\\_yr\\_2007.0}                                    &      -0.8069  &        0.014     &   -56.523  &         0.000        &       -0.835    &       -0.779     \\\\\n",
       "\\textbf{end\\_yr\\_2008.0}                                    &      -0.7818  &        0.016     &   -47.703  &         0.000        &       -0.814    &       -0.750     \\\\\n",
       "\\textbf{end\\_yr\\_2009.0}                                    &      -0.7774  &        0.016     &   -48.752  &         0.000        &       -0.809    &       -0.746     \\\\\n",
       "\\textbf{end\\_yr\\_2010.0}                                    &      -0.7657  &        0.013     &   -59.621  &         0.000        &       -0.791    &       -0.741     \\\\\n",
       "\\textbf{end\\_yr\\_2011.0}                                    &      -0.7483  &        0.012     &   -60.017  &         0.000        &       -0.773    &       -0.724     \\\\\n",
       "\\textbf{end\\_yr\\_2012.0}                                    &      -0.7356  &        0.012     &   -60.382  &         0.000        &       -0.760    &       -0.712     \\\\\n",
       "\\textbf{end\\_yr\\_2013.0}                                    &      -0.7180  &        0.012     &   -58.993  &         0.000        &       -0.742    &       -0.694     \\\\\n",
       "\\textbf{end\\_yr\\_2014.0}                                    &      -0.7028  &        0.011     &   -63.328  &         0.000        &       -0.725    &       -0.681     \\\\\n",
       "\\textbf{end\\_yr\\_2015.0}                                    &      -0.6762  &        0.012     &   -57.164  &         0.000        &       -0.699    &       -0.653     \\\\\n",
       "\\textbf{end\\_yr\\_2016.0}                                    &      -0.6585  &        0.012     &   -55.588  &         0.000        &       -0.682    &       -0.635     \\\\\n",
       "\\textbf{end\\_yr\\_2017.0}                                    &      -0.6419  &        0.011     &   -58.134  &         0.000        &       -0.664    &       -0.620     \\\\\n",
       "\\textbf{end\\_yr\\_2018.0}                                    &      -0.6103  &        0.010     &   -58.875  &         0.000        &       -0.631    &       -0.590     \\\\\n",
       "\\textbf{end\\_yr\\_2019.0}                                    &      -0.5876  &        0.011     &   -55.065  &         0.000        &       -0.609    &       -0.567     \\\\\n",
       "\\textbf{end\\_yr\\_2020.0}                                    &      -0.4562  &        0.041     &   -11.056  &         0.000        &       -0.537    &       -0.375     \\\\\n",
       "\\textbf{end\\_yr\\_2021.0}                                    &      -0.5115  &        0.018     &   -29.058  &         0.000        &       -0.546    &       -0.477     \\\\\n",
       "\\textbf{end\\_yr\\_2022.0}                                    &      -0.5058  &        0.017     &   -30.534  &         0.000        &       -0.538    &       -0.473     \\\\\n",
       "\\textbf{end\\_yr\\_2023.0}                                    &      -0.5151  &        0.031     &   -16.735  &         0.000        &       -0.575    &       -0.455     \\\\\n",
       "\\textbf{new\\_industrygroup\\_Consumer Goods}                 &       0.0147  &        0.013     &     1.120  &         0.263        &       -0.011    &        0.040     \\\\\n",
       "\\textbf{new\\_industrygroup\\_Consumer Services}              &       0.0791  &        0.007     &    11.107  &         0.000        &        0.065    &        0.093     \\\\\n",
       "\\textbf{new\\_industrygroup\\_Energy and Utilities}           &       0.0042  &        0.019     &     0.225  &         0.822        &       -0.032    &        0.041     \\\\\n",
       "\\textbf{new\\_industrygroup\\_Healthcare}                     &      -0.0094  &        0.007     &    -1.314  &         0.189        &       -0.023    &        0.005     \\\\\n",
       "\\textbf{new\\_industrygroup\\_Industrial Goods and Materials} &      -0.0619  &        0.015     &    -4.103  &         0.000        &       -0.091    &       -0.032     \\\\\n",
       "\\textbf{new\\_industrygroup\\_Information Technology}         &       0.0201  &        0.006     &     3.473  &         0.001        &        0.009    &        0.031     \\\\\n",
       "\\textbf{new\\_industrygroup\\_To Be Assigned}                 &       0.1751  &        0.271     &     0.645  &         0.519        &       -0.357    &        0.707     \\\\\n",
       "\\textbf{state\\_AL}                                          &      -0.2188  &        0.076     &    -2.868  &         0.004        &       -0.368    &       -0.069     \\\\\n",
       "\\textbf{state\\_AR}                                          &      -0.3426  &        0.098     &    -3.490  &         0.000        &       -0.535    &       -0.150     \\\\\n",
       "\\textbf{state\\_AZ}                                          &      -0.1935  &        0.071     &    -2.739  &         0.006        &       -0.332    &       -0.055     \\\\\n",
       "\\textbf{state\\_CA}                                          &      -0.1661  &        0.066     &    -2.511  &         0.012        &       -0.296    &       -0.036     \\\\\n",
       "\\textbf{state\\_CO}                                          &      -0.1950  &        0.067     &    -2.892  &         0.004        &       -0.327    &       -0.063     \\\\\n",
       "\\textbf{state\\_CT}                                          &      -0.1783  &        0.069     &    -2.571  &         0.010        &       -0.314    &       -0.042     \\\\\n",
       "\\textbf{state\\_Ca}                                          &       0.0009  &        0.279     &     0.003  &         0.997        &       -0.546    &        0.548     \\\\\n",
       "\\textbf{state\\_DC}                                          &      -0.2365  &        0.072     &    -3.286  &         0.001        &       -0.378    &       -0.095     \\\\\n",
       "\\textbf{state\\_DE}                                          &      -0.1580  &        0.072     &    -2.189  &         0.029        &       -0.299    &       -0.017     \\\\\n",
       "\\textbf{state\\_FL}                                          &      -0.2446  &        0.068     &    -3.623  &         0.000        &       -0.377    &       -0.112     \\\\\n",
       "\\textbf{state\\_GA}                                          &      -0.2076  &        0.068     &    -3.064  &         0.002        &       -0.340    &       -0.075     \\\\\n",
       "\\textbf{state\\_HI}                                          &      -0.1243  &        0.090     &    -1.385  &         0.166        &       -0.300    &        0.052     \\\\\n",
       "\\textbf{state\\_IA}                                          &      -0.3124  &        0.084     &    -3.734  &         0.000        &       -0.476    &       -0.148     \\\\\n",
       "\\textbf{state\\_ID}                                          &      -0.1837  &        0.092     &    -1.995  &         0.046        &       -0.364    &       -0.003     \\\\\n",
       "\\textbf{state\\_IL}                                          &      -0.2216  &        0.068     &    -3.279  &         0.001        &       -0.354    &       -0.089     \\\\\n",
       "\\textbf{state\\_IN}                                          &      -0.1922  &        0.071     &    -2.689  &         0.007        &       -0.332    &       -0.052     \\\\\n",
       "\\textbf{state\\_KS}                                          &      -0.2088  &        0.080     &    -2.617  &         0.009        &       -0.365    &       -0.052     \\\\\n",
       "\\textbf{state\\_KY}                                          &      -0.1477  &        0.077     &    -1.927  &         0.054        &       -0.298    &        0.003     \\\\\n",
       "\\textbf{state\\_LA}                                          &      -0.0397  &        0.088     &    -0.452  &         0.651        &       -0.212    &        0.132     \\\\\n",
       "\\textbf{state\\_MA}                                          &      -0.1778  &        0.066     &    -2.674  &         0.007        &       -0.308    &       -0.047     \\\\\n",
       "\\textbf{state\\_MD}                                          &      -0.2103  &        0.068     &    -3.076  &         0.002        &       -0.344    &       -0.076     \\\\\n",
       "\\textbf{state\\_ME}                                          &      -0.2452  &        0.086     &    -2.842  &         0.004        &       -0.414    &       -0.076     \\\\\n",
       "\\textbf{state\\_MI}                                          &      -0.2031  &        0.070     &    -2.900  &         0.004        &       -0.340    &       -0.066     \\\\\n",
       "\\textbf{state\\_MN}                                          &      -0.2303  &        0.069     &    -3.325  &         0.001        &       -0.366    &       -0.095     \\\\\n",
       "\\textbf{state\\_MO}                                          &      -0.1942  &        0.073     &    -2.676  &         0.007        &       -0.336    &       -0.052     \\\\\n",
       "\\textbf{state\\_MS}                                          &      -0.0944  &        0.129     &    -0.732  &         0.464        &       -0.347    &        0.159     \\\\\n",
       "\\textbf{state\\_MT}                                          &       0.0254  &        0.122     &     0.208  &         0.835        &       -0.214    &        0.265     \\\\\n",
       "\\textbf{state\\_NC}                                          &      -0.2166  &        0.068     &    -3.185  &         0.001        &       -0.350    &       -0.083     \\\\\n",
       "\\textbf{state\\_ND}                                          &      -0.1999  &        0.203     &    -0.983  &         0.325        &       -0.598    &        0.199     \\\\\n",
       "\\textbf{state\\_NE}                                          &      -0.2553  &        0.086     &    -2.985  &         0.003        &       -0.423    &       -0.088     \\\\\n",
       "\\textbf{state\\_NH}                                          &      -0.2679  &        0.075     &    -3.575  &         0.000        &       -0.415    &       -0.121     \\\\\n",
       "\\textbf{state\\_NJ}                                          &      -0.2206  &        0.068     &    -3.250  &         0.001        &       -0.354    &       -0.088     \\\\\n",
       "\\textbf{state\\_NM}                                          &      -0.1970  &        0.087     &    -2.263  &         0.024        &       -0.368    &       -0.026     \\\\\n",
       "\\textbf{state\\_NV}                                          &      -0.2427  &        0.075     &    -3.255  &         0.001        &       -0.389    &       -0.097     \\\\\n",
       "\\textbf{state\\_NY}                                          &      -0.2049  &        0.066     &    -3.085  &         0.002        &       -0.335    &       -0.075     \\\\\n",
       "\\textbf{state\\_OH}                                          &      -0.2389  &        0.069     &    -3.443  &         0.001        &       -0.375    &       -0.103     \\\\\n",
       "\\textbf{state\\_OK}                                          &      -0.2409  &        0.087     &    -2.768  &         0.006        &       -0.412    &       -0.070     \\\\\n",
       "\\textbf{state\\_OR}                                          &      -0.2056  &        0.069     &    -2.965  &         0.003        &       -0.341    &       -0.070     \\\\\n",
       "\\textbf{state\\_PA}                                          &      -0.2117  &        0.067     &    -3.145  &         0.002        &       -0.344    &       -0.080     \\\\\n",
       "\\textbf{state\\_PR}                                          &      -0.4519  &        0.129     &    -3.501  &         0.000        &       -0.705    &       -0.199     \\\\\n",
       "\\textbf{state\\_RI}                                          &      -0.1965  &        0.081     &    -2.431  &         0.015        &       -0.355    &       -0.038     \\\\\n",
       "\\textbf{state\\_SC}                                          &      -0.1497  &        0.080     &    -1.868  &         0.062        &       -0.307    &        0.007     \\\\\n",
       "\\textbf{state\\_SD}                                          &      -0.3413  &        0.151     &    -2.260  &         0.024        &       -0.637    &       -0.045     \\\\\n",
       "\\textbf{state\\_TN}                                          &      -0.2660  &        0.071     &    -3.767  &         0.000        &       -0.404    &       -0.128     \\\\\n",
       "\\textbf{state\\_TX}                                          &      -0.2320  &        0.067     &    -3.477  &         0.001        &       -0.363    &       -0.101     \\\\\n",
       "\\textbf{state\\_UT}                                          &      -0.2790  &        0.069     &    -4.047  &         0.000        &       -0.414    &       -0.144     \\\\\n",
       "\\textbf{state\\_VA}                                          &      -0.2100  &        0.068     &    -3.100  &         0.002        &       -0.343    &       -0.077     \\\\\n",
       "\\textbf{state\\_VI}                                          &      -0.4348  &        0.203     &    -2.141  &         0.032        &       -0.833    &       -0.037     \\\\\n",
       "\\textbf{state\\_VT}                                          &      -0.1654  &        0.086     &    -1.916  &         0.055        &       -0.335    &        0.004     \\\\\n",
       "\\textbf{state\\_WA}                                          &      -0.1706  &        0.067     &    -2.547  &         0.011        &       -0.302    &       -0.039     \\\\\n",
       "\\textbf{state\\_WI}                                          &      -0.2239  &        0.072     &    -3.099  &         0.002        &       -0.365    &       -0.082     \\\\\n",
       "\\textbf{state\\_WV}                                          &      -0.4861  &        0.108     &    -4.484  &         0.000        &       -0.699    &       -0.274     \\\\\n",
       "\\textbf{state\\_WY}                                          &      -0.3837  &        0.203     &    -1.891  &         0.059        &       -0.781    &        0.014     \\\\\n",
       "\\textbf{start\\_yr\\_1997.0}                                  &       0.0094  &        0.015     &     0.644  &         0.520        &       -0.019    &        0.038     \\\\\n",
       "\\textbf{start\\_yr\\_1998.0}                                  &       0.0055  &        0.014     &     0.404  &         0.686        &       -0.021    &        0.032     \\\\\n",
       "\\textbf{start\\_yr\\_1999.0}                                  &       0.0270  &        0.013     &     2.144  &         0.032        &        0.002    &        0.052     \\\\\n",
       "\\textbf{start\\_yr\\_2000.0}                                  &      -0.0015  &        0.013     &    -0.110  &         0.912        &       -0.028    &        0.025     \\\\\n",
       "\\textbf{start\\_yr\\_2001.0}                                  &      -0.0421  &        0.016     &    -2.684  &         0.007        &       -0.073    &       -0.011     \\\\\n",
       "\\textbf{start\\_yr\\_2002.0}                                  &      -0.0577  &        0.016     &    -3.581  &         0.000        &       -0.089    &       -0.026     \\\\\n",
       "\\textbf{start\\_yr\\_2003.0}                                  &      -0.0658  &        0.016     &    -4.130  &         0.000        &       -0.097    &       -0.035     \\\\\n",
       "\\textbf{start\\_yr\\_2004.0}                                  &      -0.0756  &        0.016     &    -4.797  &         0.000        &       -0.106    &       -0.045     \\\\\n",
       "\\textbf{start\\_yr\\_2005.0}                                  &      -0.0771  &        0.016     &    -4.971  &         0.000        &       -0.108    &       -0.047     \\\\\n",
       "\\textbf{start\\_yr\\_2006.0}                                  &      -0.0824  &        0.015     &    -5.393  &         0.000        &       -0.112    &       -0.052     \\\\\n",
       "\\textbf{start\\_yr\\_2007.0}                                  &      -0.1025  &        0.015     &    -6.768  &         0.000        &       -0.132    &       -0.073     \\\\\n",
       "\\textbf{start\\_yr\\_2008.0}                                  &      -0.1103  &        0.016     &    -7.007  &         0.000        &       -0.141    &       -0.079     \\\\\n",
       "\\textbf{start\\_yr\\_2009.0}                                  &      -0.1384  &        0.016     &    -8.745  &         0.000        &       -0.169    &       -0.107     \\\\\n",
       "\\textbf{start\\_yr\\_2010.0}                                  &      -0.1305  &        0.015     &    -8.568  &         0.000        &       -0.160    &       -0.101     \\\\\n",
       "\\textbf{start\\_yr\\_2011.0}                                  &      -0.1486  &        0.015     &    -9.928  &         0.000        &       -0.178    &       -0.119     \\\\\n",
       "\\textbf{start\\_yr\\_2012.0}                                  &      -0.1476  &        0.015     &    -9.864  &         0.000        &       -0.177    &       -0.118     \\\\\n",
       "\\textbf{start\\_yr\\_2013.0}                                  &      -0.1514  &        0.016     &    -9.755  &         0.000        &       -0.182    &       -0.121     \\\\\n",
       "\\textbf{start\\_yr\\_2014.0}                                  &      -0.1956  &        0.016     &   -12.572  &         0.000        &       -0.226    &       -0.165     \\\\\n",
       "\\textbf{start\\_yr\\_2015.0}                                  &      -0.2248  &        0.017     &   -13.574  &         0.000        &       -0.257    &       -0.192     \\\\\n",
       "\\textbf{start\\_yr\\_2016.0}                                  &      -0.2901  &        0.018     &   -15.777  &         0.000        &       -0.326    &       -0.254     \\\\\n",
       "\\textbf{start\\_yr\\_2017.0}                                  &      -0.2235  &        0.018     &   -12.155  &         0.000        &       -0.260    &       -0.187     \\\\\n",
       "\\textbf{start\\_yr\\_2018.0}                                  &      -0.2006  &        0.019     &   -10.529  &         0.000        &       -0.238    &       -0.163     \\\\\n",
       "\\textbf{start\\_yr\\_2019.0}                                  &      -0.1891  &        0.020     &    -9.332  &         0.000        &       -0.229    &       -0.149     \\\\\n",
       "\\textbf{start\\_yr\\_2020.0}                                  &      -0.1740  &        0.021     &    -8.161  &         0.000        &       -0.216    &       -0.132     \\\\\n",
       "\\textbf{start\\_yr\\_2021.0}                                  &      -0.1200  &        0.028     &    -4.300  &         0.000        &       -0.175    &       -0.065     \\\\\n",
       "\\textbf{start\\_yr\\_2022.0}                                  &      -0.2143  &        0.054     &    -4.003  &         0.000        &       -0.319    &       -0.109     \\\\\n",
       "\\textbf{start\\_yr\\_2023.0}                                  &      -0.2598  &        0.122     &    -2.127  &         0.033        &       -0.499    &       -0.020     \\\\\n",
       "\\bottomrule\n",
       "\\end{tabular}\n",
       "\\begin{tabular}{lclc}\n",
       "\\textbf{Omnibus:}       & 2148.846 & \\textbf{  Durbin-Watson:     } &    1.789  \\\\\n",
       "\\textbf{Prob(Omnibus):} &   0.000  & \\textbf{  Jarque-Bera (JB):  } & 3676.434  \\\\\n",
       "\\textbf{Skew:}          &  -0.866  & \\textbf{  Prob(JB):          } &     0.00  \\\\\n",
       "\\textbf{Kurtosis:}      &   4.502  & \\textbf{  Cond. No.          } &     858.  \\\\\n",
       "\\bottomrule\n",
       "\\end{tabular}\n",
       "%\\caption{OLS Regression Results}\n",
       "\\end{center}\n",
       "\n",
       "Notes: \\newline\n",
       " [1] Standard Errors assume that the covariance matrix of the errors is correctly specified."
      ],
      "text/plain": [
       "<class 'statsmodels.iolib.summary.Summary'>\n",
       "\"\"\"\n",
       "                            OLS Regression Results                            \n",
       "==============================================================================\n",
       "Dep. Variable:                 Failed   R-squared:                       0.637\n",
       "Model:                            OLS   Adj. R-squared:                  0.635\n",
       "Method:                 Least Squares   F-statistic:                     256.8\n",
       "Date:                Thu, 27 Jul 2023   Prob (F-statistic):               0.00\n",
       "Time:                        01:21:51   Log-Likelihood:                -1855.4\n",
       "No. Observations:               16795   AIC:                             3941.\n",
       "Df Residuals:                   16680   BIC:                             4830.\n",
       "Df Model:                         114                                         \n",
       "Covariance Type:            nonrobust                                         \n",
       "====================================================================================================================\n",
       "                                                       coef    std err          t      P>|t|      [0.025      0.975]\n",
       "--------------------------------------------------------------------------------------------------------------------\n",
       "const                                                1.1368      0.067     16.886      0.000       1.005       1.269\n",
       "websize_log                                         -0.0546      0.002    -35.296      0.000      -0.058      -0.052\n",
       "end_yr_1998.0                                       -0.8703      0.063    -13.815      0.000      -0.994      -0.747\n",
       "end_yr_1999.0                                       -0.8756      0.024    -36.188      0.000      -0.923      -0.828\n",
       "end_yr_2000.0                                       -0.8729      0.018    -47.905      0.000      -0.909      -0.837\n",
       "end_yr_2001.0                                       -0.8717      0.019    -46.332      0.000      -0.909      -0.835\n",
       "end_yr_2002.0                                       -0.8545      0.019    -45.250      0.000      -0.892      -0.817\n",
       "end_yr_2003.0                                       -0.8428      0.020    -43.172      0.000      -0.881      -0.805\n",
       "end_yr_2004.0                                       -0.8391      0.016    -51.659      0.000      -0.871      -0.807\n",
       "end_yr_2005.0                                       -0.8233      0.017    -47.803      0.000      -0.857      -0.789\n",
       "end_yr_2006.0                                       -0.8204      0.015    -53.406      0.000      -0.850      -0.790\n",
       "end_yr_2007.0                                       -0.8069      0.014    -56.523      0.000      -0.835      -0.779\n",
       "end_yr_2008.0                                       -0.7818      0.016    -47.703      0.000      -0.814      -0.750\n",
       "end_yr_2009.0                                       -0.7774      0.016    -48.752      0.000      -0.809      -0.746\n",
       "end_yr_2010.0                                       -0.7657      0.013    -59.621      0.000      -0.791      -0.741\n",
       "end_yr_2011.0                                       -0.7483      0.012    -60.017      0.000      -0.773      -0.724\n",
       "end_yr_2012.0                                       -0.7356      0.012    -60.382      0.000      -0.760      -0.712\n",
       "end_yr_2013.0                                       -0.7180      0.012    -58.993      0.000      -0.742      -0.694\n",
       "end_yr_2014.0                                       -0.7028      0.011    -63.328      0.000      -0.725      -0.681\n",
       "end_yr_2015.0                                       -0.6762      0.012    -57.164      0.000      -0.699      -0.653\n",
       "end_yr_2016.0                                       -0.6585      0.012    -55.588      0.000      -0.682      -0.635\n",
       "end_yr_2017.0                                       -0.6419      0.011    -58.134      0.000      -0.664      -0.620\n",
       "end_yr_2018.0                                       -0.6103      0.010    -58.875      0.000      -0.631      -0.590\n",
       "end_yr_2019.0                                       -0.5876      0.011    -55.065      0.000      -0.609      -0.567\n",
       "end_yr_2020.0                                       -0.4562      0.041    -11.056      0.000      -0.537      -0.375\n",
       "end_yr_2021.0                                       -0.5115      0.018    -29.058      0.000      -0.546      -0.477\n",
       "end_yr_2022.0                                       -0.5058      0.017    -30.534      0.000      -0.538      -0.473\n",
       "end_yr_2023.0                                       -0.5151      0.031    -16.735      0.000      -0.575      -0.455\n",
       "new_industrygroup_Consumer Goods                     0.0147      0.013      1.120      0.263      -0.011       0.040\n",
       "new_industrygroup_Consumer Services                  0.0791      0.007     11.107      0.000       0.065       0.093\n",
       "new_industrygroup_Energy and Utilities               0.0042      0.019      0.225      0.822      -0.032       0.041\n",
       "new_industrygroup_Healthcare                        -0.0094      0.007     -1.314      0.189      -0.023       0.005\n",
       "new_industrygroup_Industrial Goods and Materials    -0.0619      0.015     -4.103      0.000      -0.091      -0.032\n",
       "new_industrygroup_Information Technology             0.0201      0.006      3.473      0.001       0.009       0.031\n",
       "new_industrygroup_To Be Assigned                     0.1751      0.271      0.645      0.519      -0.357       0.707\n",
       "state_AL                                            -0.2188      0.076     -2.868      0.004      -0.368      -0.069\n",
       "state_AR                                            -0.3426      0.098     -3.490      0.000      -0.535      -0.150\n",
       "state_AZ                                            -0.1935      0.071     -2.739      0.006      -0.332      -0.055\n",
       "state_CA                                            -0.1661      0.066     -2.511      0.012      -0.296      -0.036\n",
       "state_CO                                            -0.1950      0.067     -2.892      0.004      -0.327      -0.063\n",
       "state_CT                                            -0.1783      0.069     -2.571      0.010      -0.314      -0.042\n",
       "state_Ca                                             0.0009      0.279      0.003      0.997      -0.546       0.548\n",
       "state_DC                                            -0.2365      0.072     -3.286      0.001      -0.378      -0.095\n",
       "state_DE                                            -0.1580      0.072     -2.189      0.029      -0.299      -0.017\n",
       "state_FL                                            -0.2446      0.068     -3.623      0.000      -0.377      -0.112\n",
       "state_GA                                            -0.2076      0.068     -3.064      0.002      -0.340      -0.075\n",
       "state_HI                                            -0.1243      0.090     -1.385      0.166      -0.300       0.052\n",
       "state_IA                                            -0.3124      0.084     -3.734      0.000      -0.476      -0.148\n",
       "state_ID                                            -0.1837      0.092     -1.995      0.046      -0.364      -0.003\n",
       "state_IL                                            -0.2216      0.068     -3.279      0.001      -0.354      -0.089\n",
       "state_IN                                            -0.1922      0.071     -2.689      0.007      -0.332      -0.052\n",
       "state_KS                                            -0.2088      0.080     -2.617      0.009      -0.365      -0.052\n",
       "state_KY                                            -0.1477      0.077     -1.927      0.054      -0.298       0.003\n",
       "state_LA                                            -0.0397      0.088     -0.452      0.651      -0.212       0.132\n",
       "state_MA                                            -0.1778      0.066     -2.674      0.007      -0.308      -0.047\n",
       "state_MD                                            -0.2103      0.068     -3.076      0.002      -0.344      -0.076\n",
       "state_ME                                            -0.2452      0.086     -2.842      0.004      -0.414      -0.076\n",
       "state_MI                                            -0.2031      0.070     -2.900      0.004      -0.340      -0.066\n",
       "state_MN                                            -0.2303      0.069     -3.325      0.001      -0.366      -0.095\n",
       "state_MO                                            -0.1942      0.073     -2.676      0.007      -0.336      -0.052\n",
       "state_MS                                            -0.0944      0.129     -0.732      0.464      -0.347       0.159\n",
       "state_MT                                             0.0254      0.122      0.208      0.835      -0.214       0.265\n",
       "state_NC                                            -0.2166      0.068     -3.185      0.001      -0.350      -0.083\n",
       "state_ND                                            -0.1999      0.203     -0.983      0.325      -0.598       0.199\n",
       "state_NE                                            -0.2553      0.086     -2.985      0.003      -0.423      -0.088\n",
       "state_NH                                            -0.2679      0.075     -3.575      0.000      -0.415      -0.121\n",
       "state_NJ                                            -0.2206      0.068     -3.250      0.001      -0.354      -0.088\n",
       "state_NM                                            -0.1970      0.087     -2.263      0.024      -0.368      -0.026\n",
       "state_NV                                            -0.2427      0.075     -3.255      0.001      -0.389      -0.097\n",
       "state_NY                                            -0.2049      0.066     -3.085      0.002      -0.335      -0.075\n",
       "state_OH                                            -0.2389      0.069     -3.443      0.001      -0.375      -0.103\n",
       "state_OK                                            -0.2409      0.087     -2.768      0.006      -0.412      -0.070\n",
       "state_OR                                            -0.2056      0.069     -2.965      0.003      -0.341      -0.070\n",
       "state_PA                                            -0.2117      0.067     -3.145      0.002      -0.344      -0.080\n",
       "state_PR                                            -0.4519      0.129     -3.501      0.000      -0.705      -0.199\n",
       "state_RI                                            -0.1965      0.081     -2.431      0.015      -0.355      -0.038\n",
       "state_SC                                            -0.1497      0.080     -1.868      0.062      -0.307       0.007\n",
       "state_SD                                            -0.3413      0.151     -2.260      0.024      -0.637      -0.045\n",
       "state_TN                                            -0.2660      0.071     -3.767      0.000      -0.404      -0.128\n",
       "state_TX                                            -0.2320      0.067     -3.477      0.001      -0.363      -0.101\n",
       "state_UT                                            -0.2790      0.069     -4.047      0.000      -0.414      -0.144\n",
       "state_VA                                            -0.2100      0.068     -3.100      0.002      -0.343      -0.077\n",
       "state_VI                                            -0.4348      0.203     -2.141      0.032      -0.833      -0.037\n",
       "state_VT                                            -0.1654      0.086     -1.916      0.055      -0.335       0.004\n",
       "state_WA                                            -0.1706      0.067     -2.547      0.011      -0.302      -0.039\n",
       "state_WI                                            -0.2239      0.072     -3.099      0.002      -0.365      -0.082\n",
       "state_WV                                            -0.4861      0.108     -4.484      0.000      -0.699      -0.274\n",
       "state_WY                                            -0.3837      0.203     -1.891      0.059      -0.781       0.014\n",
       "start_yr_1997.0                                      0.0094      0.015      0.644      0.520      -0.019       0.038\n",
       "start_yr_1998.0                                      0.0055      0.014      0.404      0.686      -0.021       0.032\n",
       "start_yr_1999.0                                      0.0270      0.013      2.144      0.032       0.002       0.052\n",
       "start_yr_2000.0                                     -0.0015      0.013     -0.110      0.912      -0.028       0.025\n",
       "start_yr_2001.0                                     -0.0421      0.016     -2.684      0.007      -0.073      -0.011\n",
       "start_yr_2002.0                                     -0.0577      0.016     -3.581      0.000      -0.089      -0.026\n",
       "start_yr_2003.0                                     -0.0658      0.016     -4.130      0.000      -0.097      -0.035\n",
       "start_yr_2004.0                                     -0.0756      0.016     -4.797      0.000      -0.106      -0.045\n",
       "start_yr_2005.0                                     -0.0771      0.016     -4.971      0.000      -0.108      -0.047\n",
       "start_yr_2006.0                                     -0.0824      0.015     -5.393      0.000      -0.112      -0.052\n",
       "start_yr_2007.0                                     -0.1025      0.015     -6.768      0.000      -0.132      -0.073\n",
       "start_yr_2008.0                                     -0.1103      0.016     -7.007      0.000      -0.141      -0.079\n",
       "start_yr_2009.0                                     -0.1384      0.016     -8.745      0.000      -0.169      -0.107\n",
       "start_yr_2010.0                                     -0.1305      0.015     -8.568      0.000      -0.160      -0.101\n",
       "start_yr_2011.0                                     -0.1486      0.015     -9.928      0.000      -0.178      -0.119\n",
       "start_yr_2012.0                                     -0.1476      0.015     -9.864      0.000      -0.177      -0.118\n",
       "start_yr_2013.0                                     -0.1514      0.016     -9.755      0.000      -0.182      -0.121\n",
       "start_yr_2014.0                                     -0.1956      0.016    -12.572      0.000      -0.226      -0.165\n",
       "start_yr_2015.0                                     -0.2248      0.017    -13.574      0.000      -0.257      -0.192\n",
       "start_yr_2016.0                                     -0.2901      0.018    -15.777      0.000      -0.326      -0.254\n",
       "start_yr_2017.0                                     -0.2235      0.018    -12.155      0.000      -0.260      -0.187\n",
       "start_yr_2018.0                                     -0.2006      0.019    -10.529      0.000      -0.238      -0.163\n",
       "start_yr_2019.0                                     -0.1891      0.020     -9.332      0.000      -0.229      -0.149\n",
       "start_yr_2020.0                                     -0.1740      0.021     -8.161      0.000      -0.216      -0.132\n",
       "start_yr_2021.0                                     -0.1200      0.028     -4.300      0.000      -0.175      -0.065\n",
       "start_yr_2022.0                                     -0.2143      0.054     -4.003      0.000      -0.319      -0.109\n",
       "start_yr_2023.0                                     -0.2598      0.122     -2.127      0.033      -0.499      -0.020\n",
       "==============================================================================\n",
       "Omnibus:                     2148.846   Durbin-Watson:                   1.789\n",
       "Prob(Omnibus):                  0.000   Jarque-Bera (JB):             3676.434\n",
       "Skew:                          -0.866   Prob(JB):                         0.00\n",
       "Kurtosis:                       4.502   Cond. No.                         858.\n",
       "==============================================================================\n",
       "\n",
       "Notes:\n",
       "[1] Standard Errors assume that the covariance matrix of the errors is correctly specified.\n",
       "\"\"\""
      ]
     },
     "execution_count": 69,
     "metadata": {},
     "output_type": "execute_result"
    }
   ],
   "source": [
    "run_model('websize_log').summary()"
   ]
  },
  {
   "cell_type": "markdown",
   "id": "6c1a3f7f",
   "metadata": {},
   "source": [
    "**Control for year**"
   ]
  },
  {
   "cell_type": "code",
   "execution_count": null,
   "id": "92b1998b",
   "metadata": {},
   "outputs": [],
   "source": [
    "run_model('websize_log', control=['capture_yr']).rsquared"
   ]
  },
  {
   "cell_type": "markdown",
   "id": "05780300",
   "metadata": {},
   "source": [
    "**Control for industry**"
   ]
  },
  {
   "cell_type": "code",
   "execution_count": null,
   "id": "2127a982",
   "metadata": {},
   "outputs": [],
   "source": [
    "run_model('websize_log', control=['new_industrygroup']).rsquared"
   ]
  },
  {
   "cell_type": "markdown",
   "id": "4891a4f0",
   "metadata": {},
   "source": [
    "**Plot, controlling for end year**"
   ]
  },
  {
   "cell_type": "code",
   "execution_count": 77,
   "id": "bb2b34f7",
   "metadata": {},
   "outputs": [
    {
     "data": {
      "image/png": "[encoded data removed]",
      "text/plain": [
       "<Figure size 640x480 with 1 Axes>"
      ]
     },
     "metadata": {},
     "output_type": "display_data"
    }
   ],
   "source": [
    "plot_freg('careers', data, control='end_yr')"
   ]
  },
  {
   "cell_type": "markdown",
   "id": "85c0de3e",
   "metadata": {},
   "source": [
    "**Industry Plot**"
   ]
  },
  {
   "cell_type": "code",
   "execution_count": 70,
   "id": "71de28bc",
   "metadata": {},
   "outputs": [
    {
     "data": {
      "image/png": "[encoded data removed]",
      "text/plain": [
       "<Figure size 640x480 with 1 Axes>"
      ]
     },
     "metadata": {},
     "output_type": "display_data"
    }
   ],
   "source": [
    "plot_freg('websize_log', data, industry=True)"
   ]
  },
  {
   "cell_type": "markdown",
   "id": "48dc660b",
   "metadata": {},
   "source": [
    "**Plot for industry, controlling for capture year**"
   ]
  },
  {
   "cell_type": "code",
   "execution_count": null,
   "id": "ab10b55b",
   "metadata": {},
   "outputs": [],
   "source": [
    "plot_freg('websize_log', data, control='capture_yr', industry=True, save='websize_log_ind_ey.png')"
   ]
  },
  {
   "cell_type": "markdown",
   "id": "5b5957d6",
   "metadata": {},
   "source": [
    "### Number of A Tags"
   ]
  },
  {
   "cell_type": "code",
   "execution_count": null,
   "id": "f86e399e",
   "metadata": {},
   "outputs": [],
   "source": [
    "run_model('a_count', control=['end_yr']).summary()"
   ]
  },
  {
   "cell_type": "code",
   "execution_count": 117,
   "id": "9962e3f6",
   "metadata": {},
   "outputs": [
    {
     "name": "stderr",
     "output_type": "stream",
     "text": [
      "/Library/Frameworks/Python.framework/Versions/3.9/lib/python3.9/site-packages/pandas/core/arraylike.py:358: RuntimeWarning: divide by zero encountered in log\n",
      "  result = getattr(ufunc, method)(*inputs, **kwargs)\n",
      "/Library/Frameworks/Python.framework/Versions/3.9/lib/python3.9/site-packages/pandas/core/arraylike.py:358: RuntimeWarning: invalid value encountered in log\n",
      "  result = getattr(ufunc, method)(*inputs, **kwargs)\n"
     ]
    }
   ],
   "source": [
    "html['l2_websize_diff'] = html.groupby('entityid').nth(-2).website_size_kb - html.groupby('entityid').nth(-1).website_size_kb\n",
    "html['l2_log_websize_diff'] = np.log(html['l2_websize_diff']).replace([-np.inf], 0)"
   ]
  },
  {
   "cell_type": "code",
   "execution_count": 141,
   "id": "bba86872",
   "metadata": {},
   "outputs": [],
   "source": [
    "websize_diff = html.groupby('entityid').nth(-2).websize_log - html.groupby('entityid').nth(-1).websize_log\n",
    "html['l2_websize_diff'] = html['entityid'].map(websize_diff)"
   ]
  },
  {
   "cell_type": "code",
   "execution_count": null,
   "id": "04b334f0",
   "metadata": {},
   "outputs": [],
   "source": []
  },
  {
   "cell_type": "code",
   "execution_count": 142,
   "id": "c2501daa",
   "metadata": {},
   "outputs": [
    {
     "data": {
      "image/png": "[encoded data removed]",
      "text/plain": [
       "<Figure size 640x480 with 1 Axes>"
      ]
     },
     "metadata": {},
     "output_type": "display_data"
    }
   ],
   "source": [
    "plot_freg('l2_websize_diff', data=html.groupby('entityid').last(), control='start_yr', save='l2WebDiff.png')"
   ]
  },
  {
   "cell_type": "code",
   "execution_count": 131,
   "id": "a1d38ae0",
   "metadata": {},
   "outputs": [
    {
     "data": {
      "text/html": [
       "<div>\n",
       "<style scoped>\n",
       "    .dataframe tbody tr th:only-of-type {\n",
       "        vertical-align: middle;\n",
       "    }\n",
       "\n",
       "    .dataframe tbody tr th {\n",
       "        vertical-align: top;\n",
       "    }\n",
       "\n",
       "    .dataframe thead th {\n",
       "        text-align: right;\n",
       "    }\n",
       "</style>\n",
       "<table border=\"1\" class=\"dataframe\">\n",
       "  <thead>\n",
       "    <tr style=\"text-align: right;\">\n",
       "      <th></th>\n",
       "      <th>yr_from_start</th>\n",
       "      <th>capture_yr</th>\n",
       "      <th>capture_m</th>\n",
       "      <th>file_path</th>\n",
       "      <th>file_exists</th>\n",
       "      <th>website_size_kb</th>\n",
       "      <th>careers</th>\n",
       "      <th>blog</th>\n",
       "      <th>login</th>\n",
       "      <th>contact</th>\n",
       "      <th>team</th>\n",
       "      <th>about</th>\n",
       "      <th>news</th>\n",
       "      <th>faq</th>\n",
       "      <th>call_to_action</th>\n",
       "      <th>testimonial</th>\n",
       "      <th>title</th>\n",
       "      <th>description</th>\n",
       "      <th>keywords</th>\n",
       "      <th>p_count</th>\n",
       "      <th>h_count</th>\n",
       "      <th>img_count</th>\n",
       "      <th>a_count</th>\n",
       "      <th>table_count</th>\n",
       "      <th>form_count</th>\n",
       "      <th>script_count</th>\n",
       "      <th>entityname</th>\n",
       "      <th>new_industrygroup</th>\n",
       "      <th>state</th>\n",
       "      <th>weburl</th>\n",
       "      <th>pb_companyid</th>\n",
       "      <th>startdate</th>\n",
       "      <th>lastVC</th>\n",
       "      <th>ownershipstatus</th>\n",
       "      <th>exit_date</th>\n",
       "      <th>Failed</th>\n",
       "      <th>end_yr</th>\n",
       "      <th>start_yr</th>\n",
       "      <th>lifespan</th>\n",
       "      <th>websize_log</th>\n",
       "      <th>a_log</th>\n",
       "      <th>f_1</th>\n",
       "      <th>f_2</th>\n",
       "      <th>f_3</th>\n",
       "      <th>f_4</th>\n",
       "      <th>f_5</th>\n",
       "      <th>f_6</th>\n",
       "      <th>f_7</th>\n",
       "      <th>f_8</th>\n",
       "      <th>f_9</th>\n",
       "      <th>f_10</th>\n",
       "      <th>s_1</th>\n",
       "      <th>s_2</th>\n",
       "      <th>s_3</th>\n",
       "      <th>s_4</th>\n",
       "      <th>s_5</th>\n",
       "      <th>s_6</th>\n",
       "      <th>s_7</th>\n",
       "      <th>s_8</th>\n",
       "      <th>s_9</th>\n",
       "      <th>s_10</th>\n",
       "      <th>l2_websize_diff</th>\n",
       "      <th>l2_log_websize_diff</th>\n",
       "      <th>l2_a_diff</th>\n",
       "      <th>l2_log_adiff</th>\n",
       "    </tr>\n",
       "    <tr>\n",
       "      <th>entityid</th>\n",
       "      <th></th>\n",
       "      <th></th>\n",
       "      <th></th>\n",
       "      <th></th>\n",
       "      <th></th>\n",
       "      <th></th>\n",
       "      <th></th>\n",
       "      <th></th>\n",
       "      <th></th>\n",
       "      <th></th>\n",
       "      <th></th>\n",
       "      <th></th>\n",
       "      <th></th>\n",
       "      <th></th>\n",
       "      <th></th>\n",
       "      <th></th>\n",
       "      <th></th>\n",
       "      <th></th>\n",
       "      <th></th>\n",
       "      <th></th>\n",
       "      <th></th>\n",
       "      <th></th>\n",
       "      <th></th>\n",
       "      <th></th>\n",
       "      <th></th>\n",
       "      <th></th>\n",
       "      <th></th>\n",
       "      <th></th>\n",
       "      <th></th>\n",
       "      <th></th>\n",
       "      <th></th>\n",
       "      <th></th>\n",
       "      <th></th>\n",
       "      <th></th>\n",
       "      <th></th>\n",
       "      <th></th>\n",
       "      <th></th>\n",
       "      <th></th>\n",
       "      <th></th>\n",
       "      <th></th>\n",
       "      <th></th>\n",
       "      <th></th>\n",
       "      <th></th>\n",
       "      <th></th>\n",
       "      <th></th>\n",
       "      <th></th>\n",
       "      <th></th>\n",
       "      <th></th>\n",
       "      <th></th>\n",
       "      <th></th>\n",
       "      <th></th>\n",
       "      <th></th>\n",
       "      <th></th>\n",
       "      <th></th>\n",
       "      <th></th>\n",
       "      <th></th>\n",
       "      <th></th>\n",
       "      <th></th>\n",
       "      <th></th>\n",
       "      <th></th>\n",
       "      <th></th>\n",
       "      <th></th>\n",
       "      <th></th>\n",
       "      <th></th>\n",
       "      <th></th>\n",
       "    </tr>\n",
       "  </thead>\n",
       "  <tbody>\n",
       "    <tr>\n",
       "      <th>53131</th>\n",
       "      <td>6.0</td>\n",
       "      <td>2002</td>\n",
       "      <td>11</td>\n",
       "      <td>data/html/53131/2002/11/index.html</td>\n",
       "      <td>1</td>\n",
       "      <td>33.442383</td>\n",
       "      <td>0</td>\n",
       "      <td>0</td>\n",
       "      <td>0</td>\n",
       "      <td>0</td>\n",
       "      <td>0</td>\n",
       "      <td>0</td>\n",
       "      <td>0</td>\n",
       "      <td>0</td>\n",
       "      <td>0</td>\n",
       "      <td>0</td>\n",
       "      <td>1</td>\n",
       "      <td>1</td>\n",
       "      <td>1</td>\n",
       "      <td>5</td>\n",
       "      <td>0</td>\n",
       "      <td>44</td>\n",
       "      <td>36</td>\n",
       "      <td>13</td>\n",
       "      <td>0</td>\n",
       "      <td>17</td>\n",
       "      <td>!hey</td>\n",
       "      <td>Information Technology</td>\n",
       "      <td>MA</td>\n",
       "      <td>www.heyinc.com</td>\n",
       "      <td>None</td>\n",
       "      <td>1997-01-01</td>\n",
       "      <td>2002-09-26</td>\n",
       "      <td>Acquired/Merged</td>\n",
       "      <td>2002-09-26</td>\n",
       "      <td>0</td>\n",
       "      <td>2002.0</td>\n",
       "      <td>1997.0</td>\n",
       "      <td>5.0</td>\n",
       "      <td>3.509824</td>\n",
       "      <td>3.583519</td>\n",
       "      <td>0</td>\n",
       "      <td>0</td>\n",
       "      <td>0</td>\n",
       "      <td>0</td>\n",
       "      <td>0</td>\n",
       "      <td>0</td>\n",
       "      <td>0</td>\n",
       "      <td>0</td>\n",
       "      <td>0</td>\n",
       "      <td>0</td>\n",
       "      <td>0</td>\n",
       "      <td>0</td>\n",
       "      <td>0</td>\n",
       "      <td>0</td>\n",
       "      <td>1</td>\n",
       "      <td>1</td>\n",
       "      <td>1</td>\n",
       "      <td>1</td>\n",
       "      <td>1</td>\n",
       "      <td>1</td>\n",
       "      <td>NaN</td>\n",
       "      <td>NaN</td>\n",
       "      <td>NaN</td>\n",
       "      <td>NaN</td>\n",
       "    </tr>\n",
       "    <tr>\n",
       "      <th>53138</th>\n",
       "      <td>8.0</td>\n",
       "      <td>2006</td>\n",
       "      <td>9</td>\n",
       "      <td>data/html/53138/2006/09/index.html</td>\n",
       "      <td>1</td>\n",
       "      <td>18.113281</td>\n",
       "      <td>0</td>\n",
       "      <td>0</td>\n",
       "      <td>0</td>\n",
       "      <td>1</td>\n",
       "      <td>0</td>\n",
       "      <td>0</td>\n",
       "      <td>0</td>\n",
       "      <td>0</td>\n",
       "      <td>1</td>\n",
       "      <td>0</td>\n",
       "      <td>1</td>\n",
       "      <td>1</td>\n",
       "      <td>1</td>\n",
       "      <td>3</td>\n",
       "      <td>0</td>\n",
       "      <td>11</td>\n",
       "      <td>69</td>\n",
       "      <td>5</td>\n",
       "      <td>1</td>\n",
       "      <td>12</td>\n",
       "      <td>@Last Software</td>\n",
       "      <td>Information Technology</td>\n",
       "      <td>CO</td>\n",
       "      <td>www.sketchup.com</td>\n",
       "      <td>None</td>\n",
       "      <td>1999-10-01</td>\n",
       "      <td>2006-03-09</td>\n",
       "      <td>Acquired/Merged</td>\n",
       "      <td>2006-03-09</td>\n",
       "      <td>0</td>\n",
       "      <td>2006.0</td>\n",
       "      <td>1999.0</td>\n",
       "      <td>7.0</td>\n",
       "      <td>2.896645</td>\n",
       "      <td>4.234107</td>\n",
       "      <td>0</td>\n",
       "      <td>0</td>\n",
       "      <td>0</td>\n",
       "      <td>0</td>\n",
       "      <td>0</td>\n",
       "      <td>0</td>\n",
       "      <td>0</td>\n",
       "      <td>0</td>\n",
       "      <td>0</td>\n",
       "      <td>0</td>\n",
       "      <td>0</td>\n",
       "      <td>0</td>\n",
       "      <td>0</td>\n",
       "      <td>0</td>\n",
       "      <td>0</td>\n",
       "      <td>0</td>\n",
       "      <td>1</td>\n",
       "      <td>1</td>\n",
       "      <td>1</td>\n",
       "      <td>1</td>\n",
       "      <td>3.743164</td>\n",
       "      <td>1.319931</td>\n",
       "      <td>18.0</td>\n",
       "      <td>2.890372</td>\n",
       "    </tr>\n",
       "    <tr>\n",
       "      <th>53139</th>\n",
       "      <td>7.0</td>\n",
       "      <td>2004</td>\n",
       "      <td>3</td>\n",
       "      <td>data/html/53139/2004/03/index.html</td>\n",
       "      <td>1</td>\n",
       "      <td>2.705078</td>\n",
       "      <td>0</td>\n",
       "      <td>0</td>\n",
       "      <td>0</td>\n",
       "      <td>0</td>\n",
       "      <td>0</td>\n",
       "      <td>0</td>\n",
       "      <td>0</td>\n",
       "      <td>0</td>\n",
       "      <td>0</td>\n",
       "      <td>0</td>\n",
       "      <td>1</td>\n",
       "      <td>1</td>\n",
       "      <td>1</td>\n",
       "      <td>2</td>\n",
       "      <td>0</td>\n",
       "      <td>2</td>\n",
       "      <td>0</td>\n",
       "      <td>2</td>\n",
       "      <td>0</td>\n",
       "      <td>3</td>\n",
       "      <td>@link Networks</td>\n",
       "      <td>Information Technology</td>\n",
       "      <td>CO</td>\n",
       "      <td>www.atlinknetworks.com</td>\n",
       "      <td>None</td>\n",
       "      <td>1997-03-01</td>\n",
       "      <td>2000-08-14</td>\n",
       "      <td>Out of Business</td>\n",
       "      <td>None</td>\n",
       "      <td>1</td>\n",
       "      <td>NaN</td>\n",
       "      <td>1997.0</td>\n",
       "      <td>5.0</td>\n",
       "      <td>0.995131</td>\n",
       "      <td>0.000000</td>\n",
       "      <td>0</td>\n",
       "      <td>0</td>\n",
       "      <td>0</td>\n",
       "      <td>0</td>\n",
       "      <td>1</td>\n",
       "      <td>1</td>\n",
       "      <td>1</td>\n",
       "      <td>1</td>\n",
       "      <td>1</td>\n",
       "      <td>1</td>\n",
       "      <td>0</td>\n",
       "      <td>0</td>\n",
       "      <td>0</td>\n",
       "      <td>0</td>\n",
       "      <td>0</td>\n",
       "      <td>0</td>\n",
       "      <td>0</td>\n",
       "      <td>0</td>\n",
       "      <td>0</td>\n",
       "      <td>0</td>\n",
       "      <td>NaN</td>\n",
       "      <td>NaN</td>\n",
       "      <td>NaN</td>\n",
       "      <td>NaN</td>\n",
       "    </tr>\n",
       "    <tr>\n",
       "      <th>53142</th>\n",
       "      <td>7.5</td>\n",
       "      <td>2005</td>\n",
       "      <td>7</td>\n",
       "      <td>data/html/53142/2005/07/index.html</td>\n",
       "      <td>1</td>\n",
       "      <td>30.345703</td>\n",
       "      <td>0</td>\n",
       "      <td>0</td>\n",
       "      <td>0</td>\n",
       "      <td>0</td>\n",
       "      <td>0</td>\n",
       "      <td>0</td>\n",
       "      <td>0</td>\n",
       "      <td>0</td>\n",
       "      <td>0</td>\n",
       "      <td>0</td>\n",
       "      <td>1</td>\n",
       "      <td>1</td>\n",
       "      <td>1</td>\n",
       "      <td>0</td>\n",
       "      <td>0</td>\n",
       "      <td>54</td>\n",
       "      <td>32</td>\n",
       "      <td>12</td>\n",
       "      <td>0</td>\n",
       "      <td>8</td>\n",
       "      <td>@Once</td>\n",
       "      <td>Business and Financial Services</td>\n",
       "      <td>OR</td>\n",
       "      <td>www.once.com</td>\n",
       "      <td>None</td>\n",
       "      <td>1998-05-01</td>\n",
       "      <td>2005-01-31</td>\n",
       "      <td>Acquired/Merged</td>\n",
       "      <td>2005-01-31</td>\n",
       "      <td>0</td>\n",
       "      <td>2005.0</td>\n",
       "      <td>1998.0</td>\n",
       "      <td>7.0</td>\n",
       "      <td>3.412655</td>\n",
       "      <td>3.465736</td>\n",
       "      <td>0</td>\n",
       "      <td>0</td>\n",
       "      <td>0</td>\n",
       "      <td>0</td>\n",
       "      <td>0</td>\n",
       "      <td>0</td>\n",
       "      <td>0</td>\n",
       "      <td>0</td>\n",
       "      <td>0</td>\n",
       "      <td>0</td>\n",
       "      <td>0</td>\n",
       "      <td>0</td>\n",
       "      <td>0</td>\n",
       "      <td>0</td>\n",
       "      <td>0</td>\n",
       "      <td>0</td>\n",
       "      <td>1</td>\n",
       "      <td>1</td>\n",
       "      <td>1</td>\n",
       "      <td>1</td>\n",
       "      <td>-0.008789</td>\n",
       "      <td>-3.217900</td>\n",
       "      <td>0.0</td>\n",
       "      <td>0.000000</td>\n",
       "    </tr>\n",
       "    <tr>\n",
       "      <th>53147</th>\n",
       "      <td>6.5</td>\n",
       "      <td>2005</td>\n",
       "      <td>4</td>\n",
       "      <td>data/html/53147/2005/04/index.html</td>\n",
       "      <td>1</td>\n",
       "      <td>11.865234</td>\n",
       "      <td>0</td>\n",
       "      <td>0</td>\n",
       "      <td>0</td>\n",
       "      <td>1</td>\n",
       "      <td>0</td>\n",
       "      <td>0</td>\n",
       "      <td>1</td>\n",
       "      <td>1</td>\n",
       "      <td>1</td>\n",
       "      <td>0</td>\n",
       "      <td>1</td>\n",
       "      <td>0</td>\n",
       "      <td>0</td>\n",
       "      <td>7</td>\n",
       "      <td>5</td>\n",
       "      <td>10</td>\n",
       "      <td>52</td>\n",
       "      <td>4</td>\n",
       "      <td>0</td>\n",
       "      <td>4</td>\n",
       "      <td>@stake</td>\n",
       "      <td>Business and Financial Services</td>\n",
       "      <td>MA</td>\n",
       "      <td>www.atstake.com</td>\n",
       "      <td>None</td>\n",
       "      <td>1999-07-23</td>\n",
       "      <td>2004-10-07</td>\n",
       "      <td>Acquired/Merged</td>\n",
       "      <td>2004-10-07</td>\n",
       "      <td>0</td>\n",
       "      <td>2004.0</td>\n",
       "      <td>1999.0</td>\n",
       "      <td>5.0</td>\n",
       "      <td>2.473613</td>\n",
       "      <td>3.951244</td>\n",
       "      <td>0</td>\n",
       "      <td>0</td>\n",
       "      <td>0</td>\n",
       "      <td>0</td>\n",
       "      <td>0</td>\n",
       "      <td>0</td>\n",
       "      <td>0</td>\n",
       "      <td>0</td>\n",
       "      <td>0</td>\n",
       "      <td>0</td>\n",
       "      <td>0</td>\n",
       "      <td>0</td>\n",
       "      <td>0</td>\n",
       "      <td>0</td>\n",
       "      <td>1</td>\n",
       "      <td>1</td>\n",
       "      <td>1</td>\n",
       "      <td>1</td>\n",
       "      <td>1</td>\n",
       "      <td>1</td>\n",
       "      <td>NaN</td>\n",
       "      <td>NaN</td>\n",
       "      <td>NaN</td>\n",
       "      <td>NaN</td>\n",
       "    </tr>\n",
       "    <tr>\n",
       "      <th>...</th>\n",
       "      <td>...</td>\n",
       "      <td>...</td>\n",
       "      <td>...</td>\n",
       "      <td>...</td>\n",
       "      <td>...</td>\n",
       "      <td>...</td>\n",
       "      <td>...</td>\n",
       "      <td>...</td>\n",
       "      <td>...</td>\n",
       "      <td>...</td>\n",
       "      <td>...</td>\n",
       "      <td>...</td>\n",
       "      <td>...</td>\n",
       "      <td>...</td>\n",
       "      <td>...</td>\n",
       "      <td>...</td>\n",
       "      <td>...</td>\n",
       "      <td>...</td>\n",
       "      <td>...</td>\n",
       "      <td>...</td>\n",
       "      <td>...</td>\n",
       "      <td>...</td>\n",
       "      <td>...</td>\n",
       "      <td>...</td>\n",
       "      <td>...</td>\n",
       "      <td>...</td>\n",
       "      <td>...</td>\n",
       "      <td>...</td>\n",
       "      <td>...</td>\n",
       "      <td>...</td>\n",
       "      <td>...</td>\n",
       "      <td>...</td>\n",
       "      <td>...</td>\n",
       "      <td>...</td>\n",
       "      <td>...</td>\n",
       "      <td>...</td>\n",
       "      <td>...</td>\n",
       "      <td>...</td>\n",
       "      <td>...</td>\n",
       "      <td>...</td>\n",
       "      <td>...</td>\n",
       "      <td>...</td>\n",
       "      <td>...</td>\n",
       "      <td>...</td>\n",
       "      <td>...</td>\n",
       "      <td>...</td>\n",
       "      <td>...</td>\n",
       "      <td>...</td>\n",
       "      <td>...</td>\n",
       "      <td>...</td>\n",
       "      <td>...</td>\n",
       "      <td>...</td>\n",
       "      <td>...</td>\n",
       "      <td>...</td>\n",
       "      <td>...</td>\n",
       "      <td>...</td>\n",
       "      <td>...</td>\n",
       "      <td>...</td>\n",
       "      <td>...</td>\n",
       "      <td>...</td>\n",
       "      <td>...</td>\n",
       "      <td>...</td>\n",
       "      <td>...</td>\n",
       "      <td>...</td>\n",
       "      <td>...</td>\n",
       "    </tr>\n",
       "    <tr>\n",
       "      <th>1051887269</th>\n",
       "      <td>0.5</td>\n",
       "      <td>2023</td>\n",
       "      <td>5</td>\n",
       "      <td>data/html/1051887269/2023/05/index.html</td>\n",
       "      <td>1</td>\n",
       "      <td>156.389648</td>\n",
       "      <td>0</td>\n",
       "      <td>0</td>\n",
       "      <td>0</td>\n",
       "      <td>0</td>\n",
       "      <td>0</td>\n",
       "      <td>0</td>\n",
       "      <td>0</td>\n",
       "      <td>0</td>\n",
       "      <td>0</td>\n",
       "      <td>0</td>\n",
       "      <td>1</td>\n",
       "      <td>1</td>\n",
       "      <td>1</td>\n",
       "      <td>0</td>\n",
       "      <td>33</td>\n",
       "      <td>7</td>\n",
       "      <td>3</td>\n",
       "      <td>3</td>\n",
       "      <td>0</td>\n",
       "      <td>16</td>\n",
       "      <td>Vibe (Movies, Music and Entertainment)</td>\n",
       "      <td>Consumer Services</td>\n",
       "      <td>CA</td>\n",
       "      <td>www.vibe.xyz</td>\n",
       "      <td>None</td>\n",
       "      <td>None</td>\n",
       "      <td>2023-01-24</td>\n",
       "      <td>Out of Business</td>\n",
       "      <td>None</td>\n",
       "      <td>1</td>\n",
       "      <td>NaN</td>\n",
       "      <td>2023.0</td>\n",
       "      <td>2.0</td>\n",
       "      <td>5.052351</td>\n",
       "      <td>1.098612</td>\n",
       "      <td>0</td>\n",
       "      <td>1</td>\n",
       "      <td>1</td>\n",
       "      <td>1</td>\n",
       "      <td>1</td>\n",
       "      <td>1</td>\n",
       "      <td>1</td>\n",
       "      <td>1</td>\n",
       "      <td>1</td>\n",
       "      <td>1</td>\n",
       "      <td>0</td>\n",
       "      <td>0</td>\n",
       "      <td>0</td>\n",
       "      <td>0</td>\n",
       "      <td>0</td>\n",
       "      <td>0</td>\n",
       "      <td>0</td>\n",
       "      <td>0</td>\n",
       "      <td>0</td>\n",
       "      <td>0</td>\n",
       "      <td>NaN</td>\n",
       "      <td>NaN</td>\n",
       "      <td>NaN</td>\n",
       "      <td>NaN</td>\n",
       "    </tr>\n",
       "    <tr>\n",
       "      <th>1051920263</th>\n",
       "      <td>7.5</td>\n",
       "      <td>2022</td>\n",
       "      <td>3</td>\n",
       "      <td>data/html/1051920263/2022/03/index.html</td>\n",
       "      <td>1</td>\n",
       "      <td>394.521484</td>\n",
       "      <td>0</td>\n",
       "      <td>0</td>\n",
       "      <td>0</td>\n",
       "      <td>1</td>\n",
       "      <td>0</td>\n",
       "      <td>0</td>\n",
       "      <td>0</td>\n",
       "      <td>0</td>\n",
       "      <td>1</td>\n",
       "      <td>0</td>\n",
       "      <td>1</td>\n",
       "      <td>1</td>\n",
       "      <td>0</td>\n",
       "      <td>8</td>\n",
       "      <td>9</td>\n",
       "      <td>15</td>\n",
       "      <td>41</td>\n",
       "      <td>0</td>\n",
       "      <td>1</td>\n",
       "      <td>34</td>\n",
       "      <td>Datorium</td>\n",
       "      <td>Information Technology</td>\n",
       "      <td>CA</td>\n",
       "      <td>www.datorium.com</td>\n",
       "      <td>None</td>\n",
       "      <td>2015-10-01</td>\n",
       "      <td>2022-01-11</td>\n",
       "      <td>Acquired/Merged</td>\n",
       "      <td>None</td>\n",
       "      <td>0</td>\n",
       "      <td>NaN</td>\n",
       "      <td>2015.0</td>\n",
       "      <td>8.0</td>\n",
       "      <td>5.977674</td>\n",
       "      <td>3.713572</td>\n",
       "      <td>0</td>\n",
       "      <td>0</td>\n",
       "      <td>0</td>\n",
       "      <td>0</td>\n",
       "      <td>0</td>\n",
       "      <td>0</td>\n",
       "      <td>0</td>\n",
       "      <td>0</td>\n",
       "      <td>0</td>\n",
       "      <td>0</td>\n",
       "      <td>0</td>\n",
       "      <td>0</td>\n",
       "      <td>0</td>\n",
       "      <td>0</td>\n",
       "      <td>0</td>\n",
       "      <td>0</td>\n",
       "      <td>0</td>\n",
       "      <td>1</td>\n",
       "      <td>1</td>\n",
       "      <td>1</td>\n",
       "      <td>NaN</td>\n",
       "      <td>NaN</td>\n",
       "      <td>NaN</td>\n",
       "      <td>NaN</td>\n",
       "    </tr>\n",
       "    <tr>\n",
       "      <th>1052000966</th>\n",
       "      <td>3.0</td>\n",
       "      <td>2023</td>\n",
       "      <td>1</td>\n",
       "      <td>data/html/1052000966/2023/01/index.html</td>\n",
       "      <td>1</td>\n",
       "      <td>365.631836</td>\n",
       "      <td>1</td>\n",
       "      <td>1</td>\n",
       "      <td>1</td>\n",
       "      <td>1</td>\n",
       "      <td>0</td>\n",
       "      <td>1</td>\n",
       "      <td>0</td>\n",
       "      <td>0</td>\n",
       "      <td>1</td>\n",
       "      <td>0</td>\n",
       "      <td>1</td>\n",
       "      <td>1</td>\n",
       "      <td>0</td>\n",
       "      <td>75</td>\n",
       "      <td>18</td>\n",
       "      <td>8</td>\n",
       "      <td>74</td>\n",
       "      <td>0</td>\n",
       "      <td>0</td>\n",
       "      <td>13</td>\n",
       "      <td>Fluidcoins</td>\n",
       "      <td>Information Technology</td>\n",
       "      <td>DE</td>\n",
       "      <td>fluidcoins.com</td>\n",
       "      <td>None</td>\n",
       "      <td>2020-01-01</td>\n",
       "      <td>2023-02-16</td>\n",
       "      <td>Acquired/Merged</td>\n",
       "      <td>None</td>\n",
       "      <td>0</td>\n",
       "      <td>NaN</td>\n",
       "      <td>2020.0</td>\n",
       "      <td>3.0</td>\n",
       "      <td>5.901627</td>\n",
       "      <td>4.304065</td>\n",
       "      <td>0</td>\n",
       "      <td>0</td>\n",
       "      <td>0</td>\n",
       "      <td>0</td>\n",
       "      <td>0</td>\n",
       "      <td>0</td>\n",
       "      <td>0</td>\n",
       "      <td>0</td>\n",
       "      <td>0</td>\n",
       "      <td>0</td>\n",
       "      <td>0</td>\n",
       "      <td>0</td>\n",
       "      <td>1</td>\n",
       "      <td>1</td>\n",
       "      <td>1</td>\n",
       "      <td>1</td>\n",
       "      <td>1</td>\n",
       "      <td>1</td>\n",
       "      <td>1</td>\n",
       "      <td>1</td>\n",
       "      <td>NaN</td>\n",
       "      <td>NaN</td>\n",
       "      <td>NaN</td>\n",
       "      <td>NaN</td>\n",
       "    </tr>\n",
       "    <tr>\n",
       "      <th>1052193170</th>\n",
       "      <td>1.5</td>\n",
       "      <td>2008</td>\n",
       "      <td>8</td>\n",
       "      <td>data/html/1052193170/2008/08/index.html</td>\n",
       "      <td>1</td>\n",
       "      <td>14.975586</td>\n",
       "      <td>0</td>\n",
       "      <td>0</td>\n",
       "      <td>0</td>\n",
       "      <td>1</td>\n",
       "      <td>0</td>\n",
       "      <td>1</td>\n",
       "      <td>1</td>\n",
       "      <td>0</td>\n",
       "      <td>0</td>\n",
       "      <td>0</td>\n",
       "      <td>1</td>\n",
       "      <td>0</td>\n",
       "      <td>0</td>\n",
       "      <td>2</td>\n",
       "      <td>0</td>\n",
       "      <td>27</td>\n",
       "      <td>11</td>\n",
       "      <td>6</td>\n",
       "      <td>1</td>\n",
       "      <td>7</td>\n",
       "      <td>UpToUs</td>\n",
       "      <td>Business and Financial Services</td>\n",
       "      <td>CA</td>\n",
       "      <td>uptous.com</td>\n",
       "      <td>None</td>\n",
       "      <td>2007-09-01</td>\n",
       "      <td>2021-05-17</td>\n",
       "      <td>Acquired/Merged</td>\n",
       "      <td>None</td>\n",
       "      <td>0</td>\n",
       "      <td>NaN</td>\n",
       "      <td>2007.0</td>\n",
       "      <td>16.0</td>\n",
       "      <td>2.706421</td>\n",
       "      <td>2.397895</td>\n",
       "      <td>0</td>\n",
       "      <td>0</td>\n",
       "      <td>0</td>\n",
       "      <td>0</td>\n",
       "      <td>0</td>\n",
       "      <td>0</td>\n",
       "      <td>0</td>\n",
       "      <td>0</td>\n",
       "      <td>0</td>\n",
       "      <td>0</td>\n",
       "      <td>0</td>\n",
       "      <td>0</td>\n",
       "      <td>0</td>\n",
       "      <td>0</td>\n",
       "      <td>0</td>\n",
       "      <td>0</td>\n",
       "      <td>0</td>\n",
       "      <td>0</td>\n",
       "      <td>0</td>\n",
       "      <td>0</td>\n",
       "      <td>NaN</td>\n",
       "      <td>NaN</td>\n",
       "      <td>NaN</td>\n",
       "      <td>NaN</td>\n",
       "    </tr>\n",
       "    <tr>\n",
       "      <th>1052206355</th>\n",
       "      <td>5.5</td>\n",
       "      <td>2023</td>\n",
       "      <td>6</td>\n",
       "      <td>data/html/1052206355/2023/06/index.html</td>\n",
       "      <td>1</td>\n",
       "      <td>1391.680664</td>\n",
       "      <td>0</td>\n",
       "      <td>1</td>\n",
       "      <td>1</td>\n",
       "      <td>1</td>\n",
       "      <td>0</td>\n",
       "      <td>1</td>\n",
       "      <td>0</td>\n",
       "      <td>0</td>\n",
       "      <td>0</td>\n",
       "      <td>0</td>\n",
       "      <td>1</td>\n",
       "      <td>1</td>\n",
       "      <td>0</td>\n",
       "      <td>3</td>\n",
       "      <td>125</td>\n",
       "      <td>85</td>\n",
       "      <td>643</td>\n",
       "      <td>0</td>\n",
       "      <td>2</td>\n",
       "      <td>98</td>\n",
       "      <td>Pro Football Network</td>\n",
       "      <td>Business and Financial Services</td>\n",
       "      <td>CT</td>\n",
       "      <td>www.profootballnetwork.com</td>\n",
       "      <td>None</td>\n",
       "      <td>2018-01-01</td>\n",
       "      <td>2023-04-04</td>\n",
       "      <td>Acquired/Merged</td>\n",
       "      <td>None</td>\n",
       "      <td>0</td>\n",
       "      <td>NaN</td>\n",
       "      <td>2018.0</td>\n",
       "      <td>5.0</td>\n",
       "      <td>7.238267</td>\n",
       "      <td>6.466145</td>\n",
       "      <td>0</td>\n",
       "      <td>0</td>\n",
       "      <td>0</td>\n",
       "      <td>0</td>\n",
       "      <td>0</td>\n",
       "      <td>0</td>\n",
       "      <td>0</td>\n",
       "      <td>0</td>\n",
       "      <td>0</td>\n",
       "      <td>0</td>\n",
       "      <td>0</td>\n",
       "      <td>0</td>\n",
       "      <td>0</td>\n",
       "      <td>0</td>\n",
       "      <td>1</td>\n",
       "      <td>1</td>\n",
       "      <td>1</td>\n",
       "      <td>1</td>\n",
       "      <td>1</td>\n",
       "      <td>1</td>\n",
       "      <td>NaN</td>\n",
       "      <td>NaN</td>\n",
       "      <td>NaN</td>\n",
       "      <td>NaN</td>\n",
       "    </tr>\n",
       "  </tbody>\n",
       "</table>\n",
       "<p>16795 rows × 65 columns</p>\n",
       "</div>"
      ],
      "text/plain": [
       "            yr_from_start  capture_yr  capture_m  \\\n",
       "entityid                                           \n",
       "53131                 6.0        2002         11   \n",
       "53138                 8.0        2006          9   \n",
       "53139                 7.0        2004          3   \n",
       "53142                 7.5        2005          7   \n",
       "53147                 6.5        2005          4   \n",
       "...                   ...         ...        ...   \n",
       "1051887269            0.5        2023          5   \n",
       "1051920263            7.5        2022          3   \n",
       "1052000966            3.0        2023          1   \n",
       "1052193170            1.5        2008          8   \n",
       "1052206355            5.5        2023          6   \n",
       "\n",
       "                                          file_path  file_exists  \\\n",
       "entityid                                                           \n",
       "53131            data/html/53131/2002/11/index.html            1   \n",
       "53138            data/html/53138/2006/09/index.html            1   \n",
       "53139            data/html/53139/2004/03/index.html            1   \n",
       "53142            data/html/53142/2005/07/index.html            1   \n",
       "53147            data/html/53147/2005/04/index.html            1   \n",
       "...                                             ...          ...   \n",
       "1051887269  data/html/1051887269/2023/05/index.html            1   \n",
       "1051920263  data/html/1051920263/2022/03/index.html            1   \n",
       "1052000966  data/html/1052000966/2023/01/index.html            1   \n",
       "1052193170  data/html/1052193170/2008/08/index.html            1   \n",
       "1052206355  data/html/1052206355/2023/06/index.html            1   \n",
       "\n",
       "            website_size_kb  careers  blog  login  contact  team  about  news  \\\n",
       "entityid                                                                        \n",
       "53131             33.442383        0     0      0        0     0      0     0   \n",
       "53138             18.113281        0     0      0        1     0      0     0   \n",
       "53139              2.705078        0     0      0        0     0      0     0   \n",
       "53142             30.345703        0     0      0        0     0      0     0   \n",
       "53147             11.865234        0     0      0        1     0      0     1   \n",
       "...                     ...      ...   ...    ...      ...   ...    ...   ...   \n",
       "1051887269       156.389648        0     0      0        0     0      0     0   \n",
       "1051920263       394.521484        0     0      0        1     0      0     0   \n",
       "1052000966       365.631836        1     1      1        1     0      1     0   \n",
       "1052193170        14.975586        0     0      0        1     0      1     1   \n",
       "1052206355      1391.680664        0     1      1        1     0      1     0   \n",
       "\n",
       "            faq  call_to_action  testimonial  title  description  keywords  \\\n",
       "entityid                                                                     \n",
       "53131         0               0            0      1            1         1   \n",
       "53138         0               1            0      1            1         1   \n",
       "53139         0               0            0      1            1         1   \n",
       "53142         0               0            0      1            1         1   \n",
       "53147         1               1            0      1            0         0   \n",
       "...         ...             ...          ...    ...          ...       ...   \n",
       "1051887269    0               0            0      1            1         1   \n",
       "1051920263    0               1            0      1            1         0   \n",
       "1052000966    0               1            0      1            1         0   \n",
       "1052193170    0               0            0      1            0         0   \n",
       "1052206355    0               0            0      1            1         0   \n",
       "\n",
       "            p_count  h_count  img_count  a_count  table_count  form_count  \\\n",
       "entityid                                                                    \n",
       "53131             5        0         44       36           13           0   \n",
       "53138             3        0         11       69            5           1   \n",
       "53139             2        0          2        0            2           0   \n",
       "53142             0        0         54       32           12           0   \n",
       "53147             7        5         10       52            4           0   \n",
       "...             ...      ...        ...      ...          ...         ...   \n",
       "1051887269        0       33          7        3            3           0   \n",
       "1051920263        8        9         15       41            0           1   \n",
       "1052000966       75       18          8       74            0           0   \n",
       "1052193170        2        0         27       11            6           1   \n",
       "1052206355        3      125         85      643            0           2   \n",
       "\n",
       "            script_count                              entityname  \\\n",
       "entityid                                                           \n",
       "53131                 17                                    !hey   \n",
       "53138                 12                          @Last Software   \n",
       "53139                  3                          @link Networks   \n",
       "53142                  8                                   @Once   \n",
       "53147                  4                                  @stake   \n",
       "...                  ...                                     ...   \n",
       "1051887269            16  Vibe (Movies, Music and Entertainment)   \n",
       "1051920263            34                                Datorium   \n",
       "1052000966            13                              Fluidcoins   \n",
       "1052193170             7                                  UpToUs   \n",
       "1052206355            98                    Pro Football Network   \n",
       "\n",
       "                          new_industrygroup state                      weburl  \\\n",
       "entityid                                                                        \n",
       "53131                Information Technology    MA              www.heyinc.com   \n",
       "53138                Information Technology    CO            www.sketchup.com   \n",
       "53139                Information Technology    CO      www.atlinknetworks.com   \n",
       "53142       Business and Financial Services    OR                www.once.com   \n",
       "53147       Business and Financial Services    MA             www.atstake.com   \n",
       "...                                     ...   ...                         ...   \n",
       "1051887269                Consumer Services    CA                www.vibe.xyz   \n",
       "1051920263           Information Technology    CA            www.datorium.com   \n",
       "1052000966           Information Technology    DE              fluidcoins.com   \n",
       "1052193170  Business and Financial Services    CA                  uptous.com   \n",
       "1052206355  Business and Financial Services    CT  www.profootballnetwork.com   \n",
       "\n",
       "           pb_companyid   startdate      lastVC  ownershipstatus   exit_date  \\\n",
       "entityid                                                                       \n",
       "53131              None  1997-01-01  2002-09-26  Acquired/Merged  2002-09-26   \n",
       "53138              None  1999-10-01  2006-03-09  Acquired/Merged  2006-03-09   \n",
       "53139              None  1997-03-01  2000-08-14  Out of Business        None   \n",
       "53142              None  1998-05-01  2005-01-31  Acquired/Merged  2005-01-31   \n",
       "53147              None  1999-07-23  2004-10-07  Acquired/Merged  2004-10-07   \n",
       "...                 ...         ...         ...              ...         ...   \n",
       "1051887269         None        None  2023-01-24  Out of Business        None   \n",
       "1051920263         None  2015-10-01  2022-01-11  Acquired/Merged        None   \n",
       "1052000966         None  2020-01-01  2023-02-16  Acquired/Merged        None   \n",
       "1052193170         None  2007-09-01  2021-05-17  Acquired/Merged        None   \n",
       "1052206355         None  2018-01-01  2023-04-04  Acquired/Merged        None   \n",
       "\n",
       "            Failed  end_yr  start_yr  lifespan  websize_log     a_log  f_1  \\\n",
       "entityid                                                                     \n",
       "53131            0  2002.0    1997.0       5.0     3.509824  3.583519    0   \n",
       "53138            0  2006.0    1999.0       7.0     2.896645  4.234107    0   \n",
       "53139            1     NaN    1997.0       5.0     0.995131  0.000000    0   \n",
       "53142            0  2005.0    1998.0       7.0     3.412655  3.465736    0   \n",
       "53147            0  2004.0    1999.0       5.0     2.473613  3.951244    0   \n",
       "...            ...     ...       ...       ...          ...       ...  ...   \n",
       "1051887269       1     NaN    2023.0       2.0     5.052351  1.098612    0   \n",
       "1051920263       0     NaN    2015.0       8.0     5.977674  3.713572    0   \n",
       "1052000966       0     NaN    2020.0       3.0     5.901627  4.304065    0   \n",
       "1052193170       0     NaN    2007.0      16.0     2.706421  2.397895    0   \n",
       "1052206355       0     NaN    2018.0       5.0     7.238267  6.466145    0   \n",
       "\n",
       "            f_2  f_3  f_4  f_5  f_6  f_7  f_8  f_9  f_10  s_1  s_2  s_3  s_4  \\\n",
       "entityid                                                                       \n",
       "53131         0    0    0    0    0    0    0    0     0    0    0    0    0   \n",
       "53138         0    0    0    0    0    0    0    0     0    0    0    0    0   \n",
       "53139         0    0    0    1    1    1    1    1     1    0    0    0    0   \n",
       "53142         0    0    0    0    0    0    0    0     0    0    0    0    0   \n",
       "53147         0    0    0    0    0    0    0    0     0    0    0    0    0   \n",
       "...         ...  ...  ...  ...  ...  ...  ...  ...   ...  ...  ...  ...  ...   \n",
       "1051887269    1    1    1    1    1    1    1    1     1    0    0    0    0   \n",
       "1051920263    0    0    0    0    0    0    0    0     0    0    0    0    0   \n",
       "1052000966    0    0    0    0    0    0    0    0     0    0    0    1    1   \n",
       "1052193170    0    0    0    0    0    0    0    0     0    0    0    0    0   \n",
       "1052206355    0    0    0    0    0    0    0    0     0    0    0    0    0   \n",
       "\n",
       "            s_5  s_6  s_7  s_8  s_9  s_10  l2_websize_diff  \\\n",
       "entityid                                                     \n",
       "53131         1    1    1    1    1     1              NaN   \n",
       "53138         0    0    1    1    1     1         3.743164   \n",
       "53139         0    0    0    0    0     0              NaN   \n",
       "53142         0    0    1    1    1     1        -0.008789   \n",
       "53147         1    1    1    1    1     1              NaN   \n",
       "...         ...  ...  ...  ...  ...   ...              ...   \n",
       "1051887269    0    0    0    0    0     0              NaN   \n",
       "1051920263    0    0    0    1    1     1              NaN   \n",
       "1052000966    1    1    1    1    1     1              NaN   \n",
       "1052193170    0    0    0    0    0     0              NaN   \n",
       "1052206355    1    1    1    1    1     1              NaN   \n",
       "\n",
       "            l2_log_websize_diff  l2_a_diff  l2_log_adiff  \n",
       "entityid                                                  \n",
       "53131                       NaN        NaN           NaN  \n",
       "53138                  1.319931       18.0      2.890372  \n",
       "53139                       NaN        NaN           NaN  \n",
       "53142                 -3.217900        0.0      0.000000  \n",
       "53147                       NaN        NaN           NaN  \n",
       "...                         ...        ...           ...  \n",
       "1051887269                  NaN        NaN           NaN  \n",
       "1051920263                  NaN        NaN           NaN  \n",
       "1052000966                  NaN        NaN           NaN  \n",
       "1052193170                  NaN        NaN           NaN  \n",
       "1052206355                  NaN        NaN           NaN  \n",
       "\n",
       "[16795 rows x 65 columns]"
      ]
     },
     "execution_count": 131,
     "metadata": {},
     "output_type": "execute_result"
    }
   ],
   "source": [
    "html.groupby('entityid').last()"
   ]
  },
  {
   "cell_type": "code",
   "execution_count": 130,
   "id": "b229e82b",
   "metadata": {},
   "outputs": [
    {
     "ename": "MissingDataError",
     "evalue": "exog contains inf or nans",
     "output_type": "error",
     "traceback": [
      "\u001b[0;31m---------------------------------------------------------------------------\u001b[0m",
      "\u001b[0;31mMissingDataError\u001b[0m                          Traceback (most recent call last)",
      "Cell \u001b[0;32mIn[130], line 1\u001b[0m\n\u001b[0;32m----> 1\u001b[0m \u001b[43mrun_model\u001b[49m\u001b[43m(\u001b[49m\u001b[38;5;124;43m'\u001b[39;49m\u001b[38;5;124;43ml2_a_diff\u001b[39;49m\u001b[38;5;124;43m'\u001b[39;49m\u001b[43m,\u001b[49m\u001b[43m \u001b[49m\u001b[43mdata\u001b[49m\u001b[38;5;241;43m=\u001b[39;49m\u001b[43mhtml\u001b[49m\u001b[38;5;241;43m.\u001b[39;49m\u001b[43mgroupby\u001b[49m\u001b[43m(\u001b[49m\u001b[38;5;124;43m'\u001b[39;49m\u001b[38;5;124;43mentityid\u001b[39;49m\u001b[38;5;124;43m'\u001b[39;49m\u001b[43m)\u001b[49m\u001b[38;5;241;43m.\u001b[39;49m\u001b[43mlast\u001b[49m\u001b[43m(\u001b[49m\u001b[43m)\u001b[49m\u001b[43m)\u001b[49m\u001b[38;5;241m.\u001b[39msummary()\n",
      "Cell \u001b[0;32mIn[88], line 13\u001b[0m, in \u001b[0;36mrun_model\u001b[0;34m(x, control, lifespanControl, data)\u001b[0m\n\u001b[1;32m     11\u001b[0m     X \u001b[38;5;241m=\u001b[39m pd\u001b[38;5;241m.\u001b[39mconcat([X, i_dummies], axis\u001b[38;5;241m=\u001b[39m\u001b[38;5;241m1\u001b[39m)\n\u001b[1;32m     12\u001b[0m X \u001b[38;5;241m=\u001b[39m sm\u001b[38;5;241m.\u001b[39madd_constant(X)\n\u001b[0;32m---> 13\u001b[0m mod \u001b[38;5;241m=\u001b[39m \u001b[43msm\u001b[49m\u001b[38;5;241;43m.\u001b[39;49m\u001b[43mOLS\u001b[49m\u001b[43m(\u001b[49m\u001b[43mdata\u001b[49m\u001b[43m[\u001b[49m\u001b[38;5;124;43m'\u001b[39;49m\u001b[38;5;124;43mFailed\u001b[39;49m\u001b[38;5;124;43m'\u001b[39;49m\u001b[43m]\u001b[49m\u001b[43m,\u001b[49m\u001b[43m \u001b[49m\u001b[43mX\u001b[49m\u001b[43m)\u001b[49m\u001b[38;5;241m.\u001b[39mfit()\n\u001b[1;32m     14\u001b[0m \u001b[38;5;28;01mreturn\u001b[39;00m mod\n",
      "File \u001b[0;32m/Library/Frameworks/Python.framework/Versions/3.9/lib/python3.9/site-packages/statsmodels/regression/linear_model.py:922\u001b[0m, in \u001b[0;36mOLS.__init__\u001b[0;34m(self, endog, exog, missing, hasconst, **kwargs)\u001b[0m\n\u001b[1;32m    919\u001b[0m     msg \u001b[38;5;241m=\u001b[39m (\u001b[38;5;124m\"\u001b[39m\u001b[38;5;124mWeights are not supported in OLS and will be ignored\u001b[39m\u001b[38;5;124m\"\u001b[39m\n\u001b[1;32m    920\u001b[0m            \u001b[38;5;124m\"\u001b[39m\u001b[38;5;124mAn exception will be raised in the next version.\u001b[39m\u001b[38;5;124m\"\u001b[39m)\n\u001b[1;32m    921\u001b[0m     warnings\u001b[38;5;241m.\u001b[39mwarn(msg, ValueWarning)\n\u001b[0;32m--> 922\u001b[0m \u001b[38;5;28;43msuper\u001b[39;49m\u001b[43m(\u001b[49m\u001b[43mOLS\u001b[49m\u001b[43m,\u001b[49m\u001b[43m \u001b[49m\u001b[38;5;28;43mself\u001b[39;49m\u001b[43m)\u001b[49m\u001b[38;5;241;43m.\u001b[39;49m\u001b[38;5;21;43m__init__\u001b[39;49m\u001b[43m(\u001b[49m\u001b[43mendog\u001b[49m\u001b[43m,\u001b[49m\u001b[43m \u001b[49m\u001b[43mexog\u001b[49m\u001b[43m,\u001b[49m\u001b[43m \u001b[49m\u001b[43mmissing\u001b[49m\u001b[38;5;241;43m=\u001b[39;49m\u001b[43mmissing\u001b[49m\u001b[43m,\u001b[49m\n\u001b[1;32m    923\u001b[0m \u001b[43m                          \u001b[49m\u001b[43mhasconst\u001b[49m\u001b[38;5;241;43m=\u001b[39;49m\u001b[43mhasconst\u001b[49m\u001b[43m,\u001b[49m\u001b[43m \u001b[49m\u001b[38;5;241;43m*\u001b[39;49m\u001b[38;5;241;43m*\u001b[39;49m\u001b[43mkwargs\u001b[49m\u001b[43m)\u001b[49m\n\u001b[1;32m    924\u001b[0m \u001b[38;5;28;01mif\u001b[39;00m \u001b[38;5;124m\"\u001b[39m\u001b[38;5;124mweights\u001b[39m\u001b[38;5;124m\"\u001b[39m \u001b[38;5;129;01min\u001b[39;00m \u001b[38;5;28mself\u001b[39m\u001b[38;5;241m.\u001b[39m_init_keys:\n\u001b[1;32m    925\u001b[0m     \u001b[38;5;28mself\u001b[39m\u001b[38;5;241m.\u001b[39m_init_keys\u001b[38;5;241m.\u001b[39mremove(\u001b[38;5;124m\"\u001b[39m\u001b[38;5;124mweights\u001b[39m\u001b[38;5;124m\"\u001b[39m)\n",
      "File \u001b[0;32m/Library/Frameworks/Python.framework/Versions/3.9/lib/python3.9/site-packages/statsmodels/regression/linear_model.py:748\u001b[0m, in \u001b[0;36mWLS.__init__\u001b[0;34m(self, endog, exog, weights, missing, hasconst, **kwargs)\u001b[0m\n\u001b[1;32m    746\u001b[0m \u001b[38;5;28;01melse\u001b[39;00m:\n\u001b[1;32m    747\u001b[0m     weights \u001b[38;5;241m=\u001b[39m weights\u001b[38;5;241m.\u001b[39msqueeze()\n\u001b[0;32m--> 748\u001b[0m \u001b[38;5;28;43msuper\u001b[39;49m\u001b[43m(\u001b[49m\u001b[43mWLS\u001b[49m\u001b[43m,\u001b[49m\u001b[43m \u001b[49m\u001b[38;5;28;43mself\u001b[39;49m\u001b[43m)\u001b[49m\u001b[38;5;241;43m.\u001b[39;49m\u001b[38;5;21;43m__init__\u001b[39;49m\u001b[43m(\u001b[49m\u001b[43mendog\u001b[49m\u001b[43m,\u001b[49m\u001b[43m \u001b[49m\u001b[43mexog\u001b[49m\u001b[43m,\u001b[49m\u001b[43m \u001b[49m\u001b[43mmissing\u001b[49m\u001b[38;5;241;43m=\u001b[39;49m\u001b[43mmissing\u001b[49m\u001b[43m,\u001b[49m\n\u001b[1;32m    749\u001b[0m \u001b[43m                          \u001b[49m\u001b[43mweights\u001b[49m\u001b[38;5;241;43m=\u001b[39;49m\u001b[43mweights\u001b[49m\u001b[43m,\u001b[49m\u001b[43m \u001b[49m\u001b[43mhasconst\u001b[49m\u001b[38;5;241;43m=\u001b[39;49m\u001b[43mhasconst\u001b[49m\u001b[43m,\u001b[49m\u001b[43m \u001b[49m\u001b[38;5;241;43m*\u001b[39;49m\u001b[38;5;241;43m*\u001b[39;49m\u001b[43mkwargs\u001b[49m\u001b[43m)\u001b[49m\n\u001b[1;32m    750\u001b[0m nobs \u001b[38;5;241m=\u001b[39m \u001b[38;5;28mself\u001b[39m\u001b[38;5;241m.\u001b[39mexog\u001b[38;5;241m.\u001b[39mshape[\u001b[38;5;241m0\u001b[39m]\n\u001b[1;32m    751\u001b[0m weights \u001b[38;5;241m=\u001b[39m \u001b[38;5;28mself\u001b[39m\u001b[38;5;241m.\u001b[39mweights\n",
      "File \u001b[0;32m/Library/Frameworks/Python.framework/Versions/3.9/lib/python3.9/site-packages/statsmodels/regression/linear_model.py:202\u001b[0m, in \u001b[0;36mRegressionModel.__init__\u001b[0;34m(self, endog, exog, **kwargs)\u001b[0m\n\u001b[1;32m    201\u001b[0m \u001b[38;5;28;01mdef\u001b[39;00m \u001b[38;5;21m__init__\u001b[39m(\u001b[38;5;28mself\u001b[39m, endog, exog, \u001b[38;5;241m*\u001b[39m\u001b[38;5;241m*\u001b[39mkwargs):\n\u001b[0;32m--> 202\u001b[0m     \u001b[38;5;28;43msuper\u001b[39;49m\u001b[43m(\u001b[49m\u001b[43mRegressionModel\u001b[49m\u001b[43m,\u001b[49m\u001b[43m \u001b[49m\u001b[38;5;28;43mself\u001b[39;49m\u001b[43m)\u001b[49m\u001b[38;5;241;43m.\u001b[39;49m\u001b[38;5;21;43m__init__\u001b[39;49m\u001b[43m(\u001b[49m\u001b[43mendog\u001b[49m\u001b[43m,\u001b[49m\u001b[43m \u001b[49m\u001b[43mexog\u001b[49m\u001b[43m,\u001b[49m\u001b[43m \u001b[49m\u001b[38;5;241;43m*\u001b[39;49m\u001b[38;5;241;43m*\u001b[39;49m\u001b[43mkwargs\u001b[49m\u001b[43m)\u001b[49m\n\u001b[1;32m    203\u001b[0m     \u001b[38;5;28mself\u001b[39m\u001b[38;5;241m.\u001b[39mpinv_wexog: Float64Array \u001b[38;5;241m|\u001b[39m \u001b[38;5;28;01mNone\u001b[39;00m \u001b[38;5;241m=\u001b[39m \u001b[38;5;28;01mNone\u001b[39;00m\n\u001b[1;32m    204\u001b[0m     \u001b[38;5;28mself\u001b[39m\u001b[38;5;241m.\u001b[39m_data_attr\u001b[38;5;241m.\u001b[39mextend([\u001b[38;5;124m'\u001b[39m\u001b[38;5;124mpinv_wexog\u001b[39m\u001b[38;5;124m'\u001b[39m, \u001b[38;5;124m'\u001b[39m\u001b[38;5;124mwendog\u001b[39m\u001b[38;5;124m'\u001b[39m, \u001b[38;5;124m'\u001b[39m\u001b[38;5;124mwexog\u001b[39m\u001b[38;5;124m'\u001b[39m, \u001b[38;5;124m'\u001b[39m\u001b[38;5;124mweights\u001b[39m\u001b[38;5;124m'\u001b[39m])\n",
      "File \u001b[0;32m/Library/Frameworks/Python.framework/Versions/3.9/lib/python3.9/site-packages/statsmodels/base/model.py:270\u001b[0m, in \u001b[0;36mLikelihoodModel.__init__\u001b[0;34m(self, endog, exog, **kwargs)\u001b[0m\n\u001b[1;32m    269\u001b[0m \u001b[38;5;28;01mdef\u001b[39;00m \u001b[38;5;21m__init__\u001b[39m(\u001b[38;5;28mself\u001b[39m, endog, exog\u001b[38;5;241m=\u001b[39m\u001b[38;5;28;01mNone\u001b[39;00m, \u001b[38;5;241m*\u001b[39m\u001b[38;5;241m*\u001b[39mkwargs):\n\u001b[0;32m--> 270\u001b[0m     \u001b[38;5;28;43msuper\u001b[39;49m\u001b[43m(\u001b[49m\u001b[43m)\u001b[49m\u001b[38;5;241;43m.\u001b[39;49m\u001b[38;5;21;43m__init__\u001b[39;49m\u001b[43m(\u001b[49m\u001b[43mendog\u001b[49m\u001b[43m,\u001b[49m\u001b[43m \u001b[49m\u001b[43mexog\u001b[49m\u001b[43m,\u001b[49m\u001b[43m \u001b[49m\u001b[38;5;241;43m*\u001b[39;49m\u001b[38;5;241;43m*\u001b[39;49m\u001b[43mkwargs\u001b[49m\u001b[43m)\u001b[49m\n\u001b[1;32m    271\u001b[0m     \u001b[38;5;28mself\u001b[39m\u001b[38;5;241m.\u001b[39minitialize()\n",
      "File \u001b[0;32m/Library/Frameworks/Python.framework/Versions/3.9/lib/python3.9/site-packages/statsmodels/base/model.py:95\u001b[0m, in \u001b[0;36mModel.__init__\u001b[0;34m(self, endog, exog, **kwargs)\u001b[0m\n\u001b[1;32m     93\u001b[0m missing \u001b[38;5;241m=\u001b[39m kwargs\u001b[38;5;241m.\u001b[39mpop(\u001b[38;5;124m'\u001b[39m\u001b[38;5;124mmissing\u001b[39m\u001b[38;5;124m'\u001b[39m, \u001b[38;5;124m'\u001b[39m\u001b[38;5;124mnone\u001b[39m\u001b[38;5;124m'\u001b[39m)\n\u001b[1;32m     94\u001b[0m hasconst \u001b[38;5;241m=\u001b[39m kwargs\u001b[38;5;241m.\u001b[39mpop(\u001b[38;5;124m'\u001b[39m\u001b[38;5;124mhasconst\u001b[39m\u001b[38;5;124m'\u001b[39m, \u001b[38;5;28;01mNone\u001b[39;00m)\n\u001b[0;32m---> 95\u001b[0m \u001b[38;5;28mself\u001b[39m\u001b[38;5;241m.\u001b[39mdata \u001b[38;5;241m=\u001b[39m \u001b[38;5;28;43mself\u001b[39;49m\u001b[38;5;241;43m.\u001b[39;49m\u001b[43m_handle_data\u001b[49m\u001b[43m(\u001b[49m\u001b[43mendog\u001b[49m\u001b[43m,\u001b[49m\u001b[43m \u001b[49m\u001b[43mexog\u001b[49m\u001b[43m,\u001b[49m\u001b[43m \u001b[49m\u001b[43mmissing\u001b[49m\u001b[43m,\u001b[49m\u001b[43m \u001b[49m\u001b[43mhasconst\u001b[49m\u001b[43m,\u001b[49m\n\u001b[1;32m     96\u001b[0m \u001b[43m                              \u001b[49m\u001b[38;5;241;43m*\u001b[39;49m\u001b[38;5;241;43m*\u001b[39;49m\u001b[43mkwargs\u001b[49m\u001b[43m)\u001b[49m\n\u001b[1;32m     97\u001b[0m \u001b[38;5;28mself\u001b[39m\u001b[38;5;241m.\u001b[39mk_constant \u001b[38;5;241m=\u001b[39m \u001b[38;5;28mself\u001b[39m\u001b[38;5;241m.\u001b[39mdata\u001b[38;5;241m.\u001b[39mk_constant\n\u001b[1;32m     98\u001b[0m \u001b[38;5;28mself\u001b[39m\u001b[38;5;241m.\u001b[39mexog \u001b[38;5;241m=\u001b[39m \u001b[38;5;28mself\u001b[39m\u001b[38;5;241m.\u001b[39mdata\u001b[38;5;241m.\u001b[39mexog\n",
      "File \u001b[0;32m/Library/Frameworks/Python.framework/Versions/3.9/lib/python3.9/site-packages/statsmodels/base/model.py:135\u001b[0m, in \u001b[0;36mModel._handle_data\u001b[0;34m(self, endog, exog, missing, hasconst, **kwargs)\u001b[0m\n\u001b[1;32m    134\u001b[0m \u001b[38;5;28;01mdef\u001b[39;00m \u001b[38;5;21m_handle_data\u001b[39m(\u001b[38;5;28mself\u001b[39m, endog, exog, missing, hasconst, \u001b[38;5;241m*\u001b[39m\u001b[38;5;241m*\u001b[39mkwargs):\n\u001b[0;32m--> 135\u001b[0m     data \u001b[38;5;241m=\u001b[39m \u001b[43mhandle_data\u001b[49m\u001b[43m(\u001b[49m\u001b[43mendog\u001b[49m\u001b[43m,\u001b[49m\u001b[43m \u001b[49m\u001b[43mexog\u001b[49m\u001b[43m,\u001b[49m\u001b[43m \u001b[49m\u001b[43mmissing\u001b[49m\u001b[43m,\u001b[49m\u001b[43m \u001b[49m\u001b[43mhasconst\u001b[49m\u001b[43m,\u001b[49m\u001b[43m \u001b[49m\u001b[38;5;241;43m*\u001b[39;49m\u001b[38;5;241;43m*\u001b[39;49m\u001b[43mkwargs\u001b[49m\u001b[43m)\u001b[49m\n\u001b[1;32m    136\u001b[0m     \u001b[38;5;66;03m# kwargs arrays could have changed, easier to just attach here\u001b[39;00m\n\u001b[1;32m    137\u001b[0m     \u001b[38;5;28;01mfor\u001b[39;00m key \u001b[38;5;129;01min\u001b[39;00m kwargs:\n",
      "File \u001b[0;32m/Library/Frameworks/Python.framework/Versions/3.9/lib/python3.9/site-packages/statsmodels/base/data.py:675\u001b[0m, in \u001b[0;36mhandle_data\u001b[0;34m(endog, exog, missing, hasconst, **kwargs)\u001b[0m\n\u001b[1;32m    672\u001b[0m     exog \u001b[38;5;241m=\u001b[39m np\u001b[38;5;241m.\u001b[39masarray(exog)\n\u001b[1;32m    674\u001b[0m klass \u001b[38;5;241m=\u001b[39m handle_data_class_factory(endog, exog)\n\u001b[0;32m--> 675\u001b[0m \u001b[38;5;28;01mreturn\u001b[39;00m \u001b[43mklass\u001b[49m\u001b[43m(\u001b[49m\u001b[43mendog\u001b[49m\u001b[43m,\u001b[49m\u001b[43m \u001b[49m\u001b[43mexog\u001b[49m\u001b[38;5;241;43m=\u001b[39;49m\u001b[43mexog\u001b[49m\u001b[43m,\u001b[49m\u001b[43m \u001b[49m\u001b[43mmissing\u001b[49m\u001b[38;5;241;43m=\u001b[39;49m\u001b[43mmissing\u001b[49m\u001b[43m,\u001b[49m\u001b[43m \u001b[49m\u001b[43mhasconst\u001b[49m\u001b[38;5;241;43m=\u001b[39;49m\u001b[43mhasconst\u001b[49m\u001b[43m,\u001b[49m\n\u001b[1;32m    676\u001b[0m \u001b[43m             \u001b[49m\u001b[38;5;241;43m*\u001b[39;49m\u001b[38;5;241;43m*\u001b[39;49m\u001b[43mkwargs\u001b[49m\u001b[43m)\u001b[49m\n",
      "File \u001b[0;32m/Library/Frameworks/Python.framework/Versions/3.9/lib/python3.9/site-packages/statsmodels/base/data.py:88\u001b[0m, in \u001b[0;36mModelData.__init__\u001b[0;34m(self, endog, exog, missing, hasconst, **kwargs)\u001b[0m\n\u001b[1;32m     86\u001b[0m \u001b[38;5;28mself\u001b[39m\u001b[38;5;241m.\u001b[39mconst_idx \u001b[38;5;241m=\u001b[39m \u001b[38;5;28;01mNone\u001b[39;00m\n\u001b[1;32m     87\u001b[0m \u001b[38;5;28mself\u001b[39m\u001b[38;5;241m.\u001b[39mk_constant \u001b[38;5;241m=\u001b[39m \u001b[38;5;241m0\u001b[39m\n\u001b[0;32m---> 88\u001b[0m \u001b[38;5;28;43mself\u001b[39;49m\u001b[38;5;241;43m.\u001b[39;49m\u001b[43m_handle_constant\u001b[49m\u001b[43m(\u001b[49m\u001b[43mhasconst\u001b[49m\u001b[43m)\u001b[49m\n\u001b[1;32m     89\u001b[0m \u001b[38;5;28mself\u001b[39m\u001b[38;5;241m.\u001b[39m_check_integrity()\n\u001b[1;32m     90\u001b[0m \u001b[38;5;28mself\u001b[39m\u001b[38;5;241m.\u001b[39m_cache \u001b[38;5;241m=\u001b[39m {}\n",
      "File \u001b[0;32m/Library/Frameworks/Python.framework/Versions/3.9/lib/python3.9/site-packages/statsmodels/base/data.py:134\u001b[0m, in \u001b[0;36mModelData._handle_constant\u001b[0;34m(self, hasconst)\u001b[0m\n\u001b[1;32m    132\u001b[0m exog_max \u001b[38;5;241m=\u001b[39m np\u001b[38;5;241m.\u001b[39mmax(\u001b[38;5;28mself\u001b[39m\u001b[38;5;241m.\u001b[39mexog, axis\u001b[38;5;241m=\u001b[39m\u001b[38;5;241m0\u001b[39m)\n\u001b[1;32m    133\u001b[0m \u001b[38;5;28;01mif\u001b[39;00m \u001b[38;5;129;01mnot\u001b[39;00m np\u001b[38;5;241m.\u001b[39misfinite(exog_max)\u001b[38;5;241m.\u001b[39mall():\n\u001b[0;32m--> 134\u001b[0m     \u001b[38;5;28;01mraise\u001b[39;00m MissingDataError(\u001b[38;5;124m'\u001b[39m\u001b[38;5;124mexog contains inf or nans\u001b[39m\u001b[38;5;124m'\u001b[39m)\n\u001b[1;32m    135\u001b[0m exog_min \u001b[38;5;241m=\u001b[39m np\u001b[38;5;241m.\u001b[39mmin(\u001b[38;5;28mself\u001b[39m\u001b[38;5;241m.\u001b[39mexog, axis\u001b[38;5;241m=\u001b[39m\u001b[38;5;241m0\u001b[39m)\n\u001b[1;32m    136\u001b[0m const_idx \u001b[38;5;241m=\u001b[39m np\u001b[38;5;241m.\u001b[39mwhere(exog_max \u001b[38;5;241m==\u001b[39m exog_min)[\u001b[38;5;241m0\u001b[39m]\u001b[38;5;241m.\u001b[39msqueeze()\n",
      "\u001b[0;31mMissingDataError\u001b[0m: exog contains inf or nans"
     ]
    }
   ],
   "source": [
    "run_model('l2_a_diff', data=html.groupby('entityid').last()).summary()"
   ]
  },
  {
   "cell_type": "markdown",
   "id": "8b08c784",
   "metadata": {},
   "source": [
    "## Difference in final screenshot and end year"
   ]
  },
  {
   "cell_type": "markdown",
   "id": "53697bc6",
   "metadata": {},
   "source": [
    "This is somewhat promising...maybe we couldchange this to a more precise number by including month too?"
   ]
  },
  {
   "cell_type": "code",
   "execution_count": null,
   "id": "4570cf18",
   "metadata": {},
   "outputs": [],
   "source": [
    "data['finalsnap_end_diff'] = data['end_yr'] - data['capture_yr']"
   ]
  },
  {
   "cell_type": "code",
   "execution_count": null,
   "id": "76d84a2b",
   "metadata": {},
   "outputs": [],
   "source": [
    "sns.kdeplot(data=data, x='finalsnap_end_diff', hue='Failed', palette=['b', 'r'], fill=True);"
   ]
  },
  {
   "cell_type": "code",
   "execution_count": null,
   "id": "a2f87320",
   "metadata": {},
   "outputs": [],
   "source": [
    "data[data.Failed == 1].finalsnap_end_diff.describe()"
   ]
  },
  {
   "cell_type": "code",
   "execution_count": null,
   "id": "9917eb52",
   "metadata": {},
   "outputs": [],
   "source": [
    "data[data.Failed == 0].finalsnap_end_diff.describe()"
   ]
  },
  {
   "cell_type": "code",
   "execution_count": null,
   "id": "d2d371ea",
   "metadata": {},
   "outputs": [],
   "source": [
    "run_model('finalsnap_end_diff', control=['new_industrygroup']).pvalues"
   ]
  },
  {
   "cell_type": "code",
   "execution_count": null,
   "id": "9b6afd8a",
   "metadata": {},
   "outputs": [],
   "source": [
    "plot_freg('finalsnap_end_diff', data, industry=True, save='endDiff.png')"
   ]
  },
  {
   "cell_type": "markdown",
   "id": "b8533432",
   "metadata": {},
   "source": [
    "## Cross-Sectional Regression Table"
   ]
  },
  {
   "cell_type": "markdown",
   "id": "74478f21",
   "metadata": {},
   "source": [
    "Create empty DataFrame"
   ]
  },
  {
   "cell_type": "code",
   "execution_count": null,
   "id": "ffe1941d",
   "metadata": {},
   "outputs": [],
   "source": [
    "reg_results = pd.DataFrame(columns=['X', 'Y', 'Coefficient', 'Control', 'T', 'PValue', 'RSquared'])"
   ]
  },
  {
   "cell_type": "code",
   "execution_count": null,
   "id": "d3893674",
   "metadata": {
    "scrolled": false
   },
   "outputs": [],
   "source": [
    "data.columns"
   ]
  },
  {
   "cell_type": "markdown",
   "id": "4ff9357c",
   "metadata": {},
   "source": [
    "Define columns to run regressions on"
   ]
  },
  {
   "cell_type": "code",
   "execution_count": null,
   "id": "29461aa3",
   "metadata": {},
   "outputs": [],
   "source": [
    "cols_of_interest = [i for i in data.select_dtypes(include='number') if i not in ['Failed']]"
   ]
  },
  {
   "cell_type": "code",
   "execution_count": null,
   "id": "db7ac7a2",
   "metadata": {},
   "outputs": [],
   "source": [
    "data['a_log'].describe()"
   ]
  },
  {
   "cell_type": "code",
   "execution_count": null,
   "id": "3f5bc258",
   "metadata": {
    "scrolled": true
   },
   "outputs": [],
   "source": [
    "for i in cols_of_interest:\n",
    "    print(i)\n",
    "    mod = run_model(i)\n",
    "    results = {\n",
    "        'X': i,\n",
    "        'Y': 'Failed',\n",
    "        'Coefficient': mod.params[i],\n",
    "        'Control': \"\",\n",
    "        'T': mod.tvalues[i],\n",
    "        'PValue': mod.pvalues[i],\n",
    "        'RSquared': mod.rsquared,\n",
    "    }\n",
    "    reg_results = reg_results.append(results, ignore_index=True)\n",
    "    # Control for end year, industry, state, and start year\n",
    "    mod = run_model(i, control=['end_yr', 'new_industrygroup', 'state', 'start_yr'])\n",
    "    results['Coefficient'] = mod.params[i]\n",
    "    results['PValue'] =  mod.pvalues[i]\n",
    "    results['RSquared'] = mod.rsquared\n",
    "    results['Control'] = 'End Year, Industry, State, Year founded'\n",
    "    reg_results = reg_results.append(results, ignore_index=True)"
   ]
  },
  {
   "cell_type": "markdown",
   "id": "18ce21fc",
   "metadata": {},
   "source": [
    "Convert R-Squared out of scientific notation"
   ]
  },
  {
   "cell_type": "code",
   "execution_count": null,
   "id": "7a74e1e0",
   "metadata": {},
   "outputs": [],
   "source": [
    "reg_results['RSquared'] = reg_results['RSquared'].astype('float64')\n",
    "reg_results['RSquared'] = np.round(reg_results['RSquared'], 4)"
   ]
  },
  {
   "cell_type": "code",
   "execution_count": null,
   "id": "f80e7c7a",
   "metadata": {},
   "outputs": [],
   "source": [
    "reg_results.name = 'Last screenshot cross-sectional regressions'"
   ]
  },
  {
   "cell_type": "markdown",
   "id": "936805a9",
   "metadata": {},
   "source": [
    "Sort by R-Squared"
   ]
  },
  {
   "cell_type": "code",
   "execution_count": null,
   "id": "86d3843e",
   "metadata": {
    "scrolled": false
   },
   "outputs": [],
   "source": [
    "reg_results.sort_values('RSquared', ascending=False).reset_index(drop=True).head(15)"
   ]
  },
  {
   "cell_type": "markdown",
   "id": "4bffc657",
   "metadata": {},
   "source": [
    "## Growth Regressions"
   ]
  },
  {
   "cell_type": "markdown",
   "id": "8de0235e",
   "metadata": {},
   "source": [
    "**Setup**"
   ]
  },
  {
   "cell_type": "markdown",
   "id": "9fb3d559",
   "metadata": {},
   "source": [
    "Add these growth columns for every column that we care about"
   ]
  },
  {
   "cell_type": "code",
   "execution_count": 12,
   "id": "b5bee131",
   "metadata": {},
   "outputs": [],
   "source": [
    "g_cols_of_interest = ['website_size_kb', 'careers', 'blog', 'login', 'contact',\n",
    "       'team', 'about', 'news', 'faq', 'call_to_action', 'testimonial',\n",
    "       'title', 'description', 'keywords', 'p_count', 'h_count', 'img_count',\n",
    "       'a_count', 'table_count', 'form_count', 'script_count']\n",
    "binCols =  ['careers', 'blog', 'login', 'contact',\n",
    "       'team', 'about', 'news', 'faq', 'call_to_action', 'testimonial',\n",
    "       'title', 'description', 'keywords']"
   ]
  },
  {
   "cell_type": "markdown",
   "id": "d9a42f27",
   "metadata": {},
   "source": [
    "Calculate Percentage Difference"
   ]
  },
  {
   "cell_type": "code",
   "execution_count": 13,
   "id": "779b85ab",
   "metadata": {},
   "outputs": [],
   "source": [
    "def find_last_diff(x, col, start, end, isBin):\n",
    "    if len(x.index) > end:\n",
    "        start_val = x.iloc[start][col]\n",
    "        end_val = x.iloc[end][col]\n",
    "        diff = end_val - start_val\n",
    "        if isBin and diff == 1:\n",
    "            diff = 100\n",
    "        if start_val == 0:\n",
    "            diff = (((end_val + 1) - (start_val + 1)) / (start_val + 1)) * 100\n",
    "        else:\n",
    "            diff = ((end_val - start_val) / start_val) * 100\n",
    "        return diff\n",
    "    return None"
   ]
  },
  {
   "cell_type": "markdown",
   "id": "4f1d8901",
   "metadata": {},
   "source": [
    "Add the column to the HTML DataFrame"
   ]
  },
  {
   "cell_type": "code",
   "execution_count": 14,
   "id": "aca06ec7",
   "metadata": {},
   "outputs": [],
   "source": [
    "def add_last_growth_col(col, colName, start, end):\n",
    "    s = html.groupby('entityid').apply(lambda x: find_last_diff(x, col, start, end, isBin=(col in binCols)))\n",
    "    s.name = colName\n",
    "    return html.merge(s, on='entityid')"
   ]
  },
  {
   "cell_type": "markdown",
   "id": "f4aede22",
   "metadata": {},
   "source": [
    "Add ALL of the columns to the HTML DataFrame"
   ]
  },
  {
   "cell_type": "code",
   "execution_count": 15,
   "id": "2fe04fb6",
   "metadata": {},
   "outputs": [],
   "source": [
    "def create_growth_cols(start, end):\n",
    "    global html\n",
    "    for i in g_cols_of_interest:\n",
    "        colName = f\"g{start}{end}_{i}\"\n",
    "        html = add_last_growth_col(col=i, colName=colName, start=0, end=3)"
   ]
  },
  {
   "cell_type": "markdown",
   "id": "1c40eac7",
   "metadata": {},
   "source": [
    "Run regressions on the growth columns and return a table containing all the important info about the regressions"
   ]
  },
  {
   "cell_type": "code",
   "execution_count": 16,
   "id": "5f17c8e5",
   "metadata": {},
   "outputs": [],
   "source": [
    "def growth_reg(start, end, lifespanControl=None):\n",
    "    growth_reg_results = pd.DataFrame(columns=['X', 'Y', 'Coefficient', 'Control', 'T', 'PValue', 'RSquared'])    \n",
    "\n",
    "    for i in g_cols_of_interest:\n",
    "        i = f\"g{start}{end}_{i}\"\n",
    "        \n",
    "        # Control for end year, industry, state, and start year\n",
    "        mod = run_model(i, control=['end_yr', 'new_industrygroup', 'state', 'start_yr'], lifespanControl=lifespanControl)\n",
    "        \n",
    "        results = {\n",
    "            'X': i,\n",
    "            'Y': 'Failed',\n",
    "            'Coefficient': mod.params[i],\n",
    "            'Control': 'End Year, Industry, State, Year founded',\n",
    "            'T': mod.tvalues[i],\n",
    "            'PValue': mod.pvalues[i],\n",
    "            'RSquared': mod.rsquared\n",
    "        }\n",
    "        \n",
    "        growth_reg_results = growth_reg_results.append(results, ignore_index=True)\n",
    "        \n",
    "\n",
    "    # Convert Rsquared to float\n",
    "    growth_reg_results['RSquared'] = growth_reg_results['RSquared'].astype('float64')\n",
    "    growth_reg_results['RSquared'] = np.round(growth_reg_results['RSquared'], 4)\n",
    "    \n",
    "    # Set name\n",
    "    growth_reg_results.set_camption = f\"% Growth from years {start} to {end}\"\n",
    "    \n",
    "    return growth_reg_results"
   ]
  },
  {
   "cell_type": "markdown",
   "id": "8d8582b5",
   "metadata": {},
   "source": [
    "Setup"
   ]
  },
  {
   "cell_type": "code",
   "execution_count": 17,
   "id": "513f17de",
   "metadata": {},
   "outputs": [],
   "source": [
    "start = 1\n",
    "end = 3\n",
    "lifespanControl = 5"
   ]
  },
  {
   "cell_type": "markdown",
   "id": "e7e53191",
   "metadata": {},
   "source": [
    "---"
   ]
  },
  {
   "cell_type": "code",
   "execution_count": 18,
   "id": "2d34fe0e",
   "metadata": {
    "scrolled": true
   },
   "outputs": [],
   "source": [
    "def master_reg(start, end, lifespanControl):\n",
    "    global data\n",
    "    colPrefix = f\"g{start}{end}_\"\n",
    "    \n",
    "    # See if columns exist\n",
    "    columnsExist = set([colPrefix + i for i in g_cols_of_interest]).issubset(html.columns)\n",
    "\n",
    "    if not columnsExist:\n",
    "        # Create columns (takes ~2 minutes)\n",
    "        create_growth_cols(start, end)\n",
    "\n",
    "    # Redefine regression dataset with new growth columns\n",
    "    data = html.groupby('entityid').last()\n",
    "    colPrefix = f\"g{start}{end}_\"\n",
    "\n",
    "    # Drop any rows with NA values for any of the columns we're running regressions on\n",
    "    data = data.dropna(subset=[colPrefix + i for i in g_cols_of_interest]) # Remove NA\n",
    "\n",
    "    # Create regression DF\n",
    "    gr_results = growth_reg(start, end, lifespanControl=lifespanControl)\n",
    "\n",
    "    # Styling\n",
    "    if lifespanControl is not None:\n",
    "        captionTxt = f\"Exited within {lifespanControl} years, Growth from snapshot {start}-{end}\"\n",
    "    else:\n",
    "        captionTxt = f\"Growth from snapshot {start}-{end}\"\n",
    "    return gr_results"
   ]
  },
  {
   "cell_type": "markdown",
   "id": "7c2828c5",
   "metadata": {},
   "source": [
    "Control:\n",
    "    Every company that lasted 3 years the same amount of time for the outcome variable to be 1\n",
    "    "
   ]
  },
  {
   "cell_type": "code",
   "execution_count": null,
   "id": "32506eea",
   "metadata": {
    "scrolled": false
   },
   "outputs": [],
   "source": [
    "master_reg(start=1, end=3, lifespanControl=5)"
   ]
  },
  {
   "cell_type": "markdown",
   "id": "aa4bc595",
   "metadata": {},
   "source": [
    "## Time Between Captures"
   ]
  },
  {
   "cell_type": "markdown",
   "id": "3479eca6",
   "metadata": {},
   "source": [
    "TODO: Why does this matter?"
   ]
  },
  {
   "cell_type": "markdown",
   "id": "e584d1c3",
   "metadata": {},
   "source": [
    "Time b/w snapshots may be a signal that we can free-ride"
   ]
  },
  {
   "cell_type": "markdown",
   "id": "a38b36f6",
   "metadata": {},
   "source": [
    "TODO: Refine this more"
   ]
  },
  {
   "cell_type": "markdown",
   "id": "b2cc49ac",
   "metadata": {},
   "source": [
    "Create empty DataFrame"
   ]
  },
  {
   "cell_type": "code",
   "execution_count": null,
   "id": "fcb031d6",
   "metadata": {},
   "outputs": [],
   "source": [
    "reg_results = pd.DataFrame(columns=['X', 'Y', 'Coefficient', 'Control', 'T', 'PValue', 'RSquared'])"
   ]
  },
  {
   "cell_type": "markdown",
   "id": "48a6689e",
   "metadata": {},
   "source": [
    "Define columns to run regressions on"
   ]
  },
  {
   "cell_type": "code",
   "execution_count": null,
   "id": "c4f3f3d1",
   "metadata": {},
   "outputs": [],
   "source": [
    "cols_of_interest = [i for i in data.select_dtypes(include='number') if i not in ['Failed']]"
   ]
  },
  {
   "cell_type": "code",
   "execution_count": null,
   "id": "273dfe18",
   "metadata": {},
   "outputs": [],
   "source": [
    "data['a_log'].describe()"
   ]
  },
  {
   "cell_type": "code",
   "execution_count": null,
   "id": "815f2deb",
   "metadata": {
    "scrolled": true
   },
   "outputs": [],
   "source": [
    "for i in cols_of_interest:\n",
    "    print(i)\n",
    "    mod = run_model(i)\n",
    "    results = {\n",
    "        'X': i,\n",
    "        'Y': 'Failed',\n",
    "        'Coefficient': mod.params[i],\n",
    "        'Control': \"\",\n",
    "        'T': mod.tvalues[i],\n",
    "        'PValue': mod.pvalues[i],\n",
    "        'RSquared': mod.rsquared,\n",
    "    }\n",
    "    reg_results = reg_results.append(results, ignore_index=True)\n",
    "    # Control for end year, industry, state, and start year\n",
    "    mod = run_model(i, control=['end_yr', 'new_industrygroup', 'state', 'start_yr'])\n",
    "    results['Coefficient'] = mod.params[i]\n",
    "    results['PValue'] =  mod.pvalues[i]\n",
    "    results['RSquared'] = mod.rsquared\n",
    "    results['Control'] = 'End Year, Industry, State, Year founded'\n",
    "    reg_results = reg_results.append(results, ignore_index=True)"
   ]
  },
  {
   "cell_type": "markdown",
   "id": "8ae77fea",
   "metadata": {},
   "source": [
    "Convert R-Squared out of scientific notation"
   ]
  },
  {
   "cell_type": "code",
   "execution_count": null,
   "id": "2524766e",
   "metadata": {},
   "outputs": [],
   "source": [
    "reg_results['RSquared'] = reg_results['RSquared'].astype('float64')\n",
    "reg_results['RSquared'] = np.round(reg_results['RSquared'], 4)"
   ]
  },
  {
   "cell_type": "code",
   "execution_count": null,
   "id": "502c875e",
   "metadata": {},
   "outputs": [],
   "source": [
    "reg_results.name = 'Last screenshot cross-sectional regressions'"
   ]
  },
  {
   "cell_type": "markdown",
   "id": "9c6fe2b8",
   "metadata": {},
   "source": [
    "Sort by R-Squared"
   ]
  },
  {
   "cell_type": "code",
   "execution_count": null,
   "id": "69db42fb",
   "metadata": {
    "scrolled": false
   },
   "outputs": [],
   "source": [
    "reg_results.sort_values('RSquared', ascending=False).reset_index(drop=True).head(15)"
   ]
  },
  {
   "cell_type": "markdown",
   "id": "f83792f1",
   "metadata": {},
   "source": [
    "**Setup**"
   ]
  },
  {
   "cell_type": "code",
   "execution_count": null,
   "id": "dc4d5a4a",
   "metadata": {},
   "outputs": [],
   "source": [
    "html = html.sort_values(['entityid', 'capture_yr', 'capture_m'])"
   ]
  },
  {
   "cell_type": "code",
   "execution_count": null,
   "id": "35df2456",
   "metadata": {},
   "outputs": [],
   "source": [
    "def find_time_diff(x, start, end):\n",
    "    if len(x.index) > max(abs(start), abs(end)):\n",
    "        start_yr = x.iloc[start]['capture_yr'] * 12 # Convert to months\n",
    "        start_m = x.iloc[start]['capture_m']\n",
    "        start_total = start_yr + start_m\n",
    "        \n",
    "        end_yr = x.iloc[end]['capture_yr'] * 12 # Convert to months\n",
    "        end_m = x.iloc[end]['capture_m']\n",
    "        end_total = end_yr + end_m\n",
    "\n",
    "        total_m_diff = end_total - start_total\n",
    "        \n",
    "        return total_m_diff\n",
    "    else:\n",
    "        return None\n",
    "        "
   ]
  },
  {
   "cell_type": "markdown",
   "id": "f55fd258",
   "metadata": {},
   "source": [
    "**What's the difference in time between the first capture and the second capture?**"
   ]
  },
  {
   "cell_type": "markdown",
   "id": "542a8130",
   "metadata": {},
   "source": [
    "Create column"
   ]
  },
  {
   "cell_type": "code",
   "execution_count": null,
   "id": "6cdf86e9",
   "metadata": {},
   "outputs": [],
   "source": [
    "def add_td_col(start, end):\n",
    "    new_td = html.groupby('entityid').apply(lambda x: find_time_diff(x, start, end))\n",
    "    new_td.name = f\"td_{start}{end}\"\n",
    "    return html.merge(new_td, left_on='entityid', right_index=True)"
   ]
  },
  {
   "cell_type": "code",
   "execution_count": null,
   "id": "0afdf1c8",
   "metadata": {},
   "outputs": [],
   "source": [
    "html = add_td_col(4, 5)"
   ]
  },
  {
   "cell_type": "markdown",
   "id": "9a70d1d8",
   "metadata": {},
   "source": [
    "**What's the difference in time betweent the last capture and the second-to-last capture?**"
   ]
  },
  {
   "cell_type": "markdown",
   "id": "a3d906d7",
   "metadata": {},
   "source": [
    "Create column"
   ]
  },
  {
   "cell_type": "code",
   "execution_count": null,
   "id": "befeba38",
   "metadata": {
    "scrolled": true
   },
   "outputs": [],
   "source": [
    "td_last2 = html.groupby('entityid').apply(lambda x: find_time_diff(x, -2, -1))"
   ]
  },
  {
   "cell_type": "code",
   "execution_count": null,
   "id": "f67b58f1",
   "metadata": {},
   "outputs": [],
   "source": [
    "td_last2.name = 'td_last2'\n",
    "html = html.merge(td_last2, left_on='entityid', right_index=True)"
   ]
  },
  {
   "cell_type": "markdown",
   "id": "b9feebcb",
   "metadata": {},
   "source": [
    "**What's the average difference in time (months) between each capture?**"
   ]
  },
  {
   "cell_type": "markdown",
   "id": "ea3f2a5e",
   "metadata": {},
   "source": [
    "Create column. Calculating standard deviation could work here"
   ]
  },
  {
   "cell_type": "code",
   "execution_count": null,
   "id": "a47cafe7",
   "metadata": {},
   "outputs": [],
   "source": [
    "html['total_capture_m'] = html['capture_yr'] * 12 + html['capture_m']\n",
    "td_stdev = html.groupby('entityid')['total_capture_m'].std()"
   ]
  },
  {
   "cell_type": "code",
   "execution_count": null,
   "id": "c346599b",
   "metadata": {},
   "outputs": [],
   "source": [
    "td_stdev.name = 'td_stdev'\n",
    "html = html.merge(td_stdev, left_on='entityid', right_index=True)"
   ]
  },
  {
   "cell_type": "markdown",
   "id": "3a59d9ac",
   "metadata": {},
   "source": [
    "What's the difference in time between the second and third capture?"
   ]
  },
  {
   "cell_type": "code",
   "execution_count": null,
   "id": "35b893b9",
   "metadata": {
    "scrolled": true
   },
   "outputs": [],
   "source": [
    "td_12 = html.groupby('entityid').apply(lambda x: find_time_diff(x, 1, 3))"
   ]
  },
  {
   "cell_type": "code",
   "execution_count": null,
   "id": "c9d69426",
   "metadata": {},
   "outputs": [],
   "source": [
    "td_12.name = 'td_12'\n",
    "html = html.merge(td_12, left_on='entityid', right_index=True)"
   ]
  },
  {
   "cell_type": "code",
   "execution_count": null,
   "id": "fc1b2ba3",
   "metadata": {},
   "outputs": [],
   "source": [
    "data.td_12.describe()"
   ]
  },
  {
   "cell_type": "markdown",
   "id": "4ab2bdf9",
   "metadata": {},
   "source": [
    "**Run regressions**"
   ]
  },
  {
   "cell_type": "code",
   "execution_count": null,
   "id": "a88ac925",
   "metadata": {},
   "outputs": [],
   "source": [
    "cols = ['td_01', 'td_12', 'td_last2', 'td_stdev']"
   ]
  },
  {
   "cell_type": "code",
   "execution_count": null,
   "id": "7f214886",
   "metadata": {},
   "outputs": [],
   "source": [
    "data = html.groupby('entityid').first()\n",
    "data = data.dropna(subset=cols) # Remove NA"
   ]
  },
  {
   "cell_type": "markdown",
   "id": "43f68e6b",
   "metadata": {},
   "source": [
    "Create empty DataFrame"
   ]
  },
  {
   "cell_type": "code",
   "execution_count": null,
   "id": "e0388d21",
   "metadata": {},
   "outputs": [],
   "source": [
    "reg_results = pd.DataFrame(columns=['X', 'Y', 'Coefficient', 'Control', 'T', 'PValue', 'RSquared'])"
   ]
  },
  {
   "cell_type": "code",
   "execution_count": null,
   "id": "724a3ced",
   "metadata": {},
   "outputs": [],
   "source": [
    "for c in cols:\n",
    "    mod = run_model(c, control=['end_yr', 'new_industrygroup', 'state', 'start_yr'])\n",
    "    results = {\n",
    "        'X': c,\n",
    "        'Y': 'Failed',\n",
    "        'Coefficient': mod.params[c],\n",
    "        'Control': 'End year, industry, state, start year',\n",
    "        'T': mod.tvalues[c],\n",
    "        'PValue': mod.pvalues[c],\n",
    "        'RSquared': mod.rsquared,\n",
    "    }\n",
    "    reg_results = reg_results.append(results, ignore_index=True)\n"
   ]
  },
  {
   "cell_type": "code",
   "execution_count": null,
   "id": "52d92cfc",
   "metadata": {
    "scrolled": true
   },
   "outputs": [],
   "source": [
    "reg_results"
   ]
  },
  {
   "cell_type": "markdown",
   "id": "0132f208",
   "metadata": {},
   "source": [
    "## Number of Captures downloaded"
   ]
  },
  {
   "cell_type": "code",
   "execution_count": null,
   "id": "28f160d5",
   "metadata": {},
   "outputs": [],
   "source": [
    "# TODO: Fix the _x thing"
   ]
  },
  {
   "cell_type": "code",
   "execution_count": null,
   "id": "905e41b3",
   "metadata": {},
   "outputs": [],
   "source": [
    "html.groupby('entityid').file_exists.sum()"
   ]
  },
  {
   "cell_type": "code",
   "execution_count": null,
   "id": "8098f477",
   "metadata": {},
   "outputs": [],
   "source": [
    "data = html.groupby('entityid').first()"
   ]
  },
  {
   "cell_type": "code",
   "execution_count": null,
   "id": "b7b82b87",
   "metadata": {},
   "outputs": [],
   "source": [
    "run_model('num_captures', control=['end_yr', 'new_industrygroup', 'state', 'start_yr']).summary()"
   ]
  },
  {
   "cell_type": "code",
   "execution_count": null,
   "id": "07f08fcc",
   "metadata": {},
   "outputs": [],
   "source": [
    "html = html.merge(td_last2, left_on='entityid', right_index=True)"
   ]
  },
  {
   "cell_type": "markdown",
   "id": "4b6bcb3a",
   "metadata": {},
   "source": [
    "---"
   ]
  },
  {
   "cell_type": "markdown",
   "id": "4106fd8f",
   "metadata": {},
   "source": [
    "## Y Dummy Variables"
   ]
  },
  {
   "cell_type": "markdown",
   "id": "319390d6",
   "metadata": {},
   "source": [
    "This is sort-of like a hazard model"
   ]
  },
  {
   "cell_type": "markdown",
   "id": "944f74a2",
   "metadata": {},
   "source": [
    "The columns were added in the setup section [here](#Add-y-dummies:)"
   ]
  },
  {
   "cell_type": "markdown",
   "id": "bf4d4f75",
   "metadata": {},
   "source": [
    "First, let's look at a density plot of the Failed companies, comparing their last VC time and their start date"
   ]
  },
  {
   "cell_type": "code",
   "execution_count": 19,
   "id": "ce2a981a",
   "metadata": {},
   "outputs": [
    {
     "data": {
      "image/png": "[encoded data removed]",
      "text/plain": [
       "<Figure size 640x480 with 1 Axes>"
      ]
     },
     "metadata": {},
     "output_type": "display_data"
    }
   ],
   "source": [
    "sns.kdeplot(pd.to_datetime(data.query('Failed == 1').lastVC) \\\n",
    "    .dt.year, \\\n",
    "    color='b', fill='b', label='last vc (year)');\n",
    "sns.kdeplot(data.query('Failed == 1').start_yr, color='r', fill='b', label='start date(year)');\n",
    "plt.xlabel('Year')\n",
    "plt.legend();"
   ]
  },
  {
   "cell_type": "code",
   "execution_count": 20,
   "id": "cdfa679c",
   "metadata": {},
   "outputs": [
    {
     "data": {
      "text/plain": [
       "count    4687.000000\n",
       "mean        5.946661\n",
       "std         4.104292\n",
       "min         2.000000\n",
       "25%         3.000000\n",
       "50%         5.000000\n",
       "75%         8.000000\n",
       "max        27.000000\n",
       "Name: lifespan, dtype: float64"
      ]
     },
     "execution_count": 20,
     "metadata": {},
     "output_type": "execute_result"
    }
   ],
   "source": [
    "data.loc[data['Failed'] == 1, 'lifespan'].describe()"
   ]
  },
  {
   "cell_type": "markdown",
   "id": "5081be28",
   "metadata": {},
   "source": [
    "**First example:** What predicts whether a company will be failed within in 5 years?\n",
    "\n",
    "*Caveat: many of these predictors require a company to exist for some minimum amount of time (e.g. if we're looking at the third screnshot as a predictor, the company must have been around for at least a year...)*"
   ]
  },
  {
   "cell_type": "markdown",
   "id": "16d30733",
   "metadata": {},
   "source": [
    "**1.1:** Number of images in the third screenshot"
   ]
  },
  {
   "cell_type": "markdown",
   "id": "9db35f6a",
   "metadata": {},
   "source": [
    "*For every additional `<img>` tag, a websites probaility that it has failed or succeeded within `[1-10]` years goes up or decreases by some amount...*"
   ]
  },
  {
   "cell_type": "code",
   "execution_count": null,
   "id": "7b0a9905",
   "metadata": {},
   "outputs": [],
   "source": [
    "Define the "
   ]
  },
  {
   "cell_type": "code",
   "execution_count": 21,
   "id": "f4da059c",
   "metadata": {},
   "outputs": [],
   "source": [
    "data = html.groupby('entityid').nth(3) # Create new dataset"
   ]
  },
  {
   "cell_type": "code",
   "execution_count": 22,
   "id": "594b9b84",
   "metadata": {},
   "outputs": [],
   "source": [
    "control=['new_industrygroup', 'state'] # Controls"
   ]
  },
  {
   "cell_type": "markdown",
   "id": "745ac55f",
   "metadata": {},
   "source": [
    "Define independent variable and covariates:"
   ]
  },
  {
   "cell_type": "code",
   "execution_count": 24,
   "id": "b5c08e91",
   "metadata": {},
   "outputs": [
    {
     "name": "stderr",
     "output_type": "stream",
     "text": [
      "/Library/Frameworks/Python.framework/Versions/3.9/lib/python3.9/site-packages/pandas/core/arraylike.py:358: RuntimeWarning: divide by zero encountered in log\n",
      "  result = getattr(ufunc, method)(*inputs, **kwargs)\n"
     ]
    },
    {
     "data": {
      "text/plain": [
       "Text(0.5, 0, 'lm(img_count)')"
      ]
     },
     "execution_count": 24,
     "metadata": {},
     "output_type": "execute_result"
    },
    {
     "data": {
      "image/png": "[encoded data removed]",
      "text/plain": [
       "<Figure size 640x480 with 1 Axes>"
      ]
     },
     "metadata": {},
     "output_type": "display_data"
    }
   ],
   "source": [
    "sns.kdeplot(np.log(data['img_count']).replace([-np.inf], 0), color='b', fill='b');\n",
    "plt.xlabel('lm(img_count)')"
   ]
  },
  {
   "cell_type": "code",
   "execution_count": 25,
   "id": "c822578d",
   "metadata": {},
   "outputs": [],
   "source": [
    "def f_within_reg(data, colName, y, log=False, control=['new_industrygroup', 'state', 'start_yr']):\n",
    "    # Define ind. var.    \n",
    "    if log:\n",
    "        X = np.log(data[colName]).replace([-np.inf], 0);\n",
    "    else:\n",
    "        X = data[colName]\n",
    "        \n",
    "    # Define covariates\n",
    "    for i in control:\n",
    "        i_dummies = pd.get_dummies(data[i], prefix=i, drop_first=True)\n",
    "    X = sm.add_constant(X)\n",
    "    \n",
    "    # Run regression\n",
    "    mod = sm.OLS(data[y], X).fit()\n",
    "    return mod"
   ]
  },
  {
   "cell_type": "markdown",
   "id": "ed31d865",
   "metadata": {},
   "source": [
    "---"
   ]
  },
  {
   "cell_type": "code",
   "execution_count": 63,
   "id": "5f653db4",
   "metadata": {},
   "outputs": [],
   "source": [
    "f_within_results = pd.DataFrame(columns=['X', 'Y', 'Coefficient', 'P-Value', 'T-Value', 'R-Squared', 'Note'])"
   ]
  },
  {
   "cell_type": "markdown",
   "id": "07a39826",
   "metadata": {},
   "source": [
    "What are we predicting at this time? Failed within 5 years, so:"
   ]
  },
  {
   "cell_type": "code",
   "execution_count": 48,
   "id": "8860292c",
   "metadata": {},
   "outputs": [],
   "source": [
    "y_col = 'f_5'\n",
    "y_yr = 5"
   ]
  },
  {
   "cell_type": "markdown",
   "id": "6f09f57b",
   "metadata": {},
   "source": [
    "Now, we want to exclude any companies that didn't have enough time to fail/survive within {y_yr} years...\n",
    "\n",
    "**Note:** This should only matter for companies we are *testing* (i.e. we don't know the outcome of already...) because for exited / failed companies, they've basically been given enough time, as shown by their outcome?"
   ]
  },
  {
   "cell_type": "markdown",
   "id": "4d30ac6a",
   "metadata": {},
   "source": [
    "Let's just look at a kdeplot of the start years for these companies"
   ]
  },
  {
   "cell_type": "code",
   "execution_count": 46,
   "id": "dd7ec892",
   "metadata": {},
   "outputs": [
    {
     "data": {
      "image/png": "[encoded data removed]",
      "text/plain": [
       "<Figure size 640x480 with 1 Axes>"
      ]
     },
     "metadata": {},
     "output_type": "display_data"
    }
   ],
   "source": [
    "sns.kdeplot(data.query('Failed == 1').start_yr, color='r', fill='b', label='Failed');\n",
    "sns.kdeplot(data.query('Failed == 0').start_yr, color='b', fill='b', label='Exited');\n",
    "plt.ylim([0, 0.1]);\n",
    "plt.legend();"
   ]
  },
  {
   "cell_type": "markdown",
   "id": "d2496e30",
   "metadata": {},
   "source": [
    "List the columns we want to get data for..."
   ]
  },
  {
   "cell_type": "markdown",
   "id": "4560ef44",
   "metadata": {},
   "source": [
    "**Set 1: Binaries**"
   ]
  },
  {
   "cell_type": "code",
   "execution_count": 29,
   "id": "13f1b6a7",
   "metadata": {},
   "outputs": [],
   "source": [
    "fg_cols = [\n",
    "        \"careers\",\n",
    "        \"blog\",\n",
    "        \"login\",\n",
    "        \"contact\",\n",
    "        \"team\",\n",
    "        \"about\",\n",
    "        \"news\",\n",
    "        \"faq\",\n",
    "        \"call_to_action\",\n",
    "        \"testimonial\",\n",
    "        \"title\",\n",
    "        \"description\",\n",
    "        \"keywords\"\n",
    "    ]"
   ]
  },
  {
   "cell_type": "code",
   "execution_count": 64,
   "id": "345eb777",
   "metadata": {},
   "outputs": [],
   "source": [
    "for i in fg_cols:\n",
    "    mod = f_within_reg(data, i, y_col)\n",
    "    ratio_val = np.round(data[i].mean(), 3)\n",
    "    ratio = f\"{ratio_val} of firms in the data have {i}\"\n",
    "    f_within_results.loc[len(f_within_results.index)] = \\\n",
    "        [\"Pr(\" + i + \") at 3rd screenshot\", f'Failed within {y_yr} years', \\\n",
    "         mod.params[i], mod.pvalues[i], mod.tvalues[i], mod.rsquared, ratio]\n",
    "    \n",
    "    "
   ]
  },
  {
   "cell_type": "code",
   "execution_count": 65,
   "id": "0af9aa9e",
   "metadata": {},
   "outputs": [
    {
     "data": {
      "text/html": [
       "<div>\n",
       "<style scoped>\n",
       "    .dataframe tbody tr th:only-of-type {\n",
       "        vertical-align: middle;\n",
       "    }\n",
       "\n",
       "    .dataframe tbody tr th {\n",
       "        vertical-align: top;\n",
       "    }\n",
       "\n",
       "    .dataframe thead th {\n",
       "        text-align: right;\n",
       "    }\n",
       "</style>\n",
       "<table border=\"1\" class=\"dataframe\">\n",
       "  <thead>\n",
       "    <tr style=\"text-align: right;\">\n",
       "      <th></th>\n",
       "      <th>X</th>\n",
       "      <th>Y</th>\n",
       "      <th>Coefficient</th>\n",
       "      <th>P-Value</th>\n",
       "      <th>T-Value</th>\n",
       "      <th>R-Squared</th>\n",
       "      <th>Note</th>\n",
       "    </tr>\n",
       "  </thead>\n",
       "  <tbody>\n",
       "    <tr>\n",
       "      <th>0</th>\n",
       "      <td>Pr(careers) at 3rd screenshot</td>\n",
       "      <td>Failed within 5 years</td>\n",
       "      <td>-0.100055</td>\n",
       "      <td>2.468024e-64</td>\n",
       "      <td>-17.012041</td>\n",
       "      <td>0.017818</td>\n",
       "      <td>0.422 of firms in the data have careers</td>\n",
       "    </tr>\n",
       "    <tr>\n",
       "      <th>1</th>\n",
       "      <td>Pr(blog) at 3rd screenshot</td>\n",
       "      <td>Failed within 5 years</td>\n",
       "      <td>-0.067287</td>\n",
       "      <td>2.926790e-26</td>\n",
       "      <td>-10.620546</td>\n",
       "      <td>0.007021</td>\n",
       "      <td>0.306 of firms in the data have blog</td>\n",
       "    </tr>\n",
       "    <tr>\n",
       "      <th>2</th>\n",
       "      <td>Pr(login) at 3rd screenshot</td>\n",
       "      <td>Failed within 5 years</td>\n",
       "      <td>-0.021196</td>\n",
       "      <td>2.214670e-03</td>\n",
       "      <td>-3.060321</td>\n",
       "      <td>0.000587</td>\n",
       "      <td>0.233 of firms in the data have login</td>\n",
       "    </tr>\n",
       "    <tr>\n",
       "      <th>3</th>\n",
       "      <td>Pr(contact) at 3rd screenshot</td>\n",
       "      <td>Failed within 5 years</td>\n",
       "      <td>-0.086078</td>\n",
       "      <td>1.009831e-44</td>\n",
       "      <td>-14.074435</td>\n",
       "      <td>0.012265</td>\n",
       "      <td>0.652 of firms in the data have contact</td>\n",
       "    </tr>\n",
       "    <tr>\n",
       "      <th>4</th>\n",
       "      <td>Pr(team) at 3rd screenshot</td>\n",
       "      <td>Failed within 5 years</td>\n",
       "      <td>-0.076961</td>\n",
       "      <td>1.758600e-18</td>\n",
       "      <td>-8.782508</td>\n",
       "      <td>0.004812</td>\n",
       "      <td>0.128 of firms in the data have team</td>\n",
       "    </tr>\n",
       "    <tr>\n",
       "      <th>5</th>\n",
       "      <td>Pr(about) at 3rd screenshot</td>\n",
       "      <td>Failed within 5 years</td>\n",
       "      <td>-0.063538</td>\n",
       "      <td>1.997960e-27</td>\n",
       "      <td>-10.870047</td>\n",
       "      <td>0.007352</td>\n",
       "      <td>0.521 of firms in the data have about</td>\n",
       "    </tr>\n",
       "    <tr>\n",
       "      <th>6</th>\n",
       "      <td>Pr(news) at 3rd screenshot</td>\n",
       "      <td>Failed within 5 years</td>\n",
       "      <td>-0.097510</td>\n",
       "      <td>1.747282e-59</td>\n",
       "      <td>-16.332972</td>\n",
       "      <td>0.016447</td>\n",
       "      <td>0.386 of firms in the data have news</td>\n",
       "    </tr>\n",
       "    <tr>\n",
       "      <th>7</th>\n",
       "      <td>Pr(faq) at 3rd screenshot</td>\n",
       "      <td>Failed within 5 years</td>\n",
       "      <td>-0.017492</td>\n",
       "      <td>3.184092e-02</td>\n",
       "      <td>-2.146591</td>\n",
       "      <td>0.000289</td>\n",
       "      <td>0.153 of firms in the data have faq</td>\n",
       "    </tr>\n",
       "    <tr>\n",
       "      <th>8</th>\n",
       "      <td>Pr(call_to_action) at 3rd screenshot</td>\n",
       "      <td>Failed within 5 years</td>\n",
       "      <td>-0.060007</td>\n",
       "      <td>2.450920e-23</td>\n",
       "      <td>-9.968465</td>\n",
       "      <td>0.006190</td>\n",
       "      <td>0.38 of firms in the data have call_to_action</td>\n",
       "    </tr>\n",
       "    <tr>\n",
       "      <th>9</th>\n",
       "      <td>Pr(testimonial) at 3rd screenshot</td>\n",
       "      <td>Failed within 5 years</td>\n",
       "      <td>-0.080535</td>\n",
       "      <td>5.217305e-14</td>\n",
       "      <td>-7.533168</td>\n",
       "      <td>0.003545</td>\n",
       "      <td>0.082 of firms in the data have testimonial</td>\n",
       "    </tr>\n",
       "    <tr>\n",
       "      <th>10</th>\n",
       "      <td>Pr(title) at 3rd screenshot</td>\n",
       "      <td>Failed within 5 years</td>\n",
       "      <td>-0.110204</td>\n",
       "      <td>1.916661e-11</td>\n",
       "      <td>-6.717082</td>\n",
       "      <td>0.002820</td>\n",
       "      <td>0.967 of firms in the data have title</td>\n",
       "    </tr>\n",
       "    <tr>\n",
       "      <th>11</th>\n",
       "      <td>Pr(description) at 3rd screenshot</td>\n",
       "      <td>Failed within 5 years</td>\n",
       "      <td>-0.043679</td>\n",
       "      <td>9.500076e-14</td>\n",
       "      <td>-7.454269</td>\n",
       "      <td>0.003471</td>\n",
       "      <td>0.474 of firms in the data have description</td>\n",
       "    </tr>\n",
       "    <tr>\n",
       "      <th>12</th>\n",
       "      <td>Pr(keywords) at 3rd screenshot</td>\n",
       "      <td>Failed within 5 years</td>\n",
       "      <td>-0.023968</td>\n",
       "      <td>1.328689e-04</td>\n",
       "      <td>-3.822014</td>\n",
       "      <td>0.000915</td>\n",
       "      <td>0.322 of firms in the data have keywords</td>\n",
       "    </tr>\n",
       "  </tbody>\n",
       "</table>\n",
       "</div>"
      ],
      "text/plain": [
       "                                       X                      Y  Coefficient  \\\n",
       "0          Pr(careers) at 3rd screenshot  Failed within 5 years    -0.100055   \n",
       "1             Pr(blog) at 3rd screenshot  Failed within 5 years    -0.067287   \n",
       "2            Pr(login) at 3rd screenshot  Failed within 5 years    -0.021196   \n",
       "3          Pr(contact) at 3rd screenshot  Failed within 5 years    -0.086078   \n",
       "4             Pr(team) at 3rd screenshot  Failed within 5 years    -0.076961   \n",
       "5            Pr(about) at 3rd screenshot  Failed within 5 years    -0.063538   \n",
       "6             Pr(news) at 3rd screenshot  Failed within 5 years    -0.097510   \n",
       "7              Pr(faq) at 3rd screenshot  Failed within 5 years    -0.017492   \n",
       "8   Pr(call_to_action) at 3rd screenshot  Failed within 5 years    -0.060007   \n",
       "9      Pr(testimonial) at 3rd screenshot  Failed within 5 years    -0.080535   \n",
       "10           Pr(title) at 3rd screenshot  Failed within 5 years    -0.110204   \n",
       "11     Pr(description) at 3rd screenshot  Failed within 5 years    -0.043679   \n",
       "12        Pr(keywords) at 3rd screenshot  Failed within 5 years    -0.023968   \n",
       "\n",
       "         P-Value    T-Value  R-Squared  \\\n",
       "0   2.468024e-64 -17.012041   0.017818   \n",
       "1   2.926790e-26 -10.620546   0.007021   \n",
       "2   2.214670e-03  -3.060321   0.000587   \n",
       "3   1.009831e-44 -14.074435   0.012265   \n",
       "4   1.758600e-18  -8.782508   0.004812   \n",
       "5   1.997960e-27 -10.870047   0.007352   \n",
       "6   1.747282e-59 -16.332972   0.016447   \n",
       "7   3.184092e-02  -2.146591   0.000289   \n",
       "8   2.450920e-23  -9.968465   0.006190   \n",
       "9   5.217305e-14  -7.533168   0.003545   \n",
       "10  1.916661e-11  -6.717082   0.002820   \n",
       "11  9.500076e-14  -7.454269   0.003471   \n",
       "12  1.328689e-04  -3.822014   0.000915   \n",
       "\n",
       "                                             Note  \n",
       "0         0.422 of firms in the data have careers  \n",
       "1            0.306 of firms in the data have blog  \n",
       "2           0.233 of firms in the data have login  \n",
       "3         0.652 of firms in the data have contact  \n",
       "4            0.128 of firms in the data have team  \n",
       "5           0.521 of firms in the data have about  \n",
       "6            0.386 of firms in the data have news  \n",
       "7             0.153 of firms in the data have faq  \n",
       "8   0.38 of firms in the data have call_to_action  \n",
       "9     0.082 of firms in the data have testimonial  \n",
       "10          0.967 of firms in the data have title  \n",
       "11    0.474 of firms in the data have description  \n",
       "12       0.322 of firms in the data have keywords  "
      ]
     },
     "execution_count": 65,
     "metadata": {},
     "output_type": "execute_result"
    }
   ],
   "source": [
    "f_within_results"
   ]
  },
  {
   "cell_type": "markdown",
   "id": "b4d762cf",
   "metadata": {},
   "source": [
    "**Set 2: Tag counts (log)**"
   ]
  },
  {
   "cell_type": "code",
   "execution_count": 30,
   "id": "241a61a3",
   "metadata": {},
   "outputs": [],
   "source": [
    "log_cols = [\"p_count\",\n",
    "\"h_count\",\n",
    "\"img_count\",\n",
    "\"a_count\",\n",
    "\"table_count\",\n",
    "\"form_count\",\n",
    "\"script_count\"]"
   ]
  },
  {
   "cell_type": "code",
   "execution_count": 32,
   "id": "ac55de46",
   "metadata": {
    "collapsed": true
   },
   "outputs": [
    {
     "name": "stderr",
     "output_type": "stream",
     "text": [
      "/Library/Frameworks/Python.framework/Versions/3.9/lib/python3.9/site-packages/pandas/core/arraylike.py:358: RuntimeWarning: divide by zero encountered in log\n",
      "  result = getattr(ufunc, method)(*inputs, **kwargs)\n",
      "/Library/Frameworks/Python.framework/Versions/3.9/lib/python3.9/site-packages/pandas/core/arraylike.py:358: RuntimeWarning: divide by zero encountered in log\n",
      "  result = getattr(ufunc, method)(*inputs, **kwargs)\n",
      "/Library/Frameworks/Python.framework/Versions/3.9/lib/python3.9/site-packages/pandas/core/arraylike.py:358: RuntimeWarning: divide by zero encountered in log\n",
      "  result = getattr(ufunc, method)(*inputs, **kwargs)\n",
      "/Library/Frameworks/Python.framework/Versions/3.9/lib/python3.9/site-packages/pandas/core/arraylike.py:358: RuntimeWarning: divide by zero encountered in log\n",
      "  result = getattr(ufunc, method)(*inputs, **kwargs)\n",
      "/Library/Frameworks/Python.framework/Versions/3.9/lib/python3.9/site-packages/pandas/core/arraylike.py:358: RuntimeWarning: divide by zero encountered in log\n",
      "  result = getattr(ufunc, method)(*inputs, **kwargs)\n",
      "/Library/Frameworks/Python.framework/Versions/3.9/lib/python3.9/site-packages/pandas/core/arraylike.py:358: RuntimeWarning: divide by zero encountered in log\n",
      "  result = getattr(ufunc, method)(*inputs, **kwargs)\n",
      "/Library/Frameworks/Python.framework/Versions/3.9/lib/python3.9/site-packages/pandas/core/arraylike.py:358: RuntimeWarning: divide by zero encountered in log\n",
      "  result = getattr(ufunc, method)(*inputs, **kwargs)\n"
     ]
    }
   ],
   "source": [
    "for i in log_cols:\n",
    "    mod = f_within_reg(data, i, y_col, log=True);\n",
    "    f_within_results.loc[len(f_within_results.index)] = \\\n",
    "        [\"lm(\" + i + \") at 3rd screenshot\", f'Failed within {y_yr} years', \\\n",
    "         mod.params[i], mod.pvalues[i], mod.tvalues[i], mod.rsquared]\n",
    "    \n",
    "    "
   ]
  },
  {
   "cell_type": "code",
   "execution_count": 35,
   "id": "02b24a03",
   "metadata": {},
   "outputs": [
    {
     "data": {
      "text/html": [
       "<div>\n",
       "<style scoped>\n",
       "    .dataframe tbody tr th:only-of-type {\n",
       "        vertical-align: middle;\n",
       "    }\n",
       "\n",
       "    .dataframe tbody tr th {\n",
       "        vertical-align: top;\n",
       "    }\n",
       "\n",
       "    .dataframe thead th {\n",
       "        text-align: right;\n",
       "    }\n",
       "</style>\n",
       "<table border=\"1\" class=\"dataframe\">\n",
       "  <thead>\n",
       "    <tr style=\"text-align: right;\">\n",
       "      <th></th>\n",
       "      <th>X</th>\n",
       "      <th>Y</th>\n",
       "      <th>Coefficient</th>\n",
       "      <th>P-Value</th>\n",
       "      <th>T-Value</th>\n",
       "      <th>R-Squared</th>\n",
       "    </tr>\n",
       "  </thead>\n",
       "  <tbody>\n",
       "    <tr>\n",
       "      <th>0</th>\n",
       "      <td>Pr(title) at 3rd screenshot</td>\n",
       "      <td>Failed within 5 years</td>\n",
       "      <td>-0.110204</td>\n",
       "      <td>1.916661e-11</td>\n",
       "      <td>-6.717082</td>\n",
       "      <td>0.002820</td>\n",
       "    </tr>\n",
       "    <tr>\n",
       "      <th>1</th>\n",
       "      <td>Pr(careers) at 3rd screenshot</td>\n",
       "      <td>Failed within 5 years</td>\n",
       "      <td>-0.100055</td>\n",
       "      <td>2.468024e-64</td>\n",
       "      <td>-17.012041</td>\n",
       "      <td>0.017818</td>\n",
       "    </tr>\n",
       "    <tr>\n",
       "      <th>2</th>\n",
       "      <td>Pr(news) at 3rd screenshot</td>\n",
       "      <td>Failed within 5 years</td>\n",
       "      <td>-0.097510</td>\n",
       "      <td>1.747282e-59</td>\n",
       "      <td>-16.332972</td>\n",
       "      <td>0.016447</td>\n",
       "    </tr>\n",
       "    <tr>\n",
       "      <th>3</th>\n",
       "      <td>Pr(contact) at 3rd screenshot</td>\n",
       "      <td>Failed within 5 years</td>\n",
       "      <td>-0.086078</td>\n",
       "      <td>1.009831e-44</td>\n",
       "      <td>-14.074435</td>\n",
       "      <td>0.012265</td>\n",
       "    </tr>\n",
       "    <tr>\n",
       "      <th>4</th>\n",
       "      <td>Pr(testimonial) at 3rd screenshot</td>\n",
       "      <td>Failed within 5 years</td>\n",
       "      <td>-0.080535</td>\n",
       "      <td>5.217305e-14</td>\n",
       "      <td>-7.533168</td>\n",
       "      <td>0.003545</td>\n",
       "    </tr>\n",
       "    <tr>\n",
       "      <th>5</th>\n",
       "      <td>Pr(team) at 3rd screenshot</td>\n",
       "      <td>Failed within 5 years</td>\n",
       "      <td>-0.076961</td>\n",
       "      <td>1.758600e-18</td>\n",
       "      <td>-8.782508</td>\n",
       "      <td>0.004812</td>\n",
       "    </tr>\n",
       "    <tr>\n",
       "      <th>6</th>\n",
       "      <td>Pr(blog) at 3rd screenshot</td>\n",
       "      <td>Failed within 5 years</td>\n",
       "      <td>-0.067287</td>\n",
       "      <td>2.926790e-26</td>\n",
       "      <td>-10.620546</td>\n",
       "      <td>0.007021</td>\n",
       "    </tr>\n",
       "    <tr>\n",
       "      <th>7</th>\n",
       "      <td>Pr(about) at 3rd screenshot</td>\n",
       "      <td>Failed within 5 years</td>\n",
       "      <td>-0.063538</td>\n",
       "      <td>1.997960e-27</td>\n",
       "      <td>-10.870047</td>\n",
       "      <td>0.007352</td>\n",
       "    </tr>\n",
       "    <tr>\n",
       "      <th>8</th>\n",
       "      <td>Pr(call_to_action) at 3rd screenshot</td>\n",
       "      <td>Failed within 5 years</td>\n",
       "      <td>-0.060007</td>\n",
       "      <td>2.450920e-23</td>\n",
       "      <td>-9.968465</td>\n",
       "      <td>0.006190</td>\n",
       "    </tr>\n",
       "    <tr>\n",
       "      <th>9</th>\n",
       "      <td>lm(script_count) at 3rd screenshot</td>\n",
       "      <td>Failed within 5 years</td>\n",
       "      <td>-0.049501</td>\n",
       "      <td>2.974360e-43</td>\n",
       "      <td>-13.830262</td>\n",
       "      <td>0.011848</td>\n",
       "    </tr>\n",
       "    <tr>\n",
       "      <th>10</th>\n",
       "      <td>Pr(description) at 3rd screenshot</td>\n",
       "      <td>Failed within 5 years</td>\n",
       "      <td>-0.043679</td>\n",
       "      <td>9.500076e-14</td>\n",
       "      <td>-7.454269</td>\n",
       "      <td>0.003471</td>\n",
       "    </tr>\n",
       "    <tr>\n",
       "      <th>11</th>\n",
       "      <td>lm(h_count) at 3rd screenshot</td>\n",
       "      <td>Failed within 5 years</td>\n",
       "      <td>-0.034256</td>\n",
       "      <td>2.602882e-45</td>\n",
       "      <td>-14.171152</td>\n",
       "      <td>0.012432</td>\n",
       "    </tr>\n",
       "    <tr>\n",
       "      <th>12</th>\n",
       "      <td>lm(p_count) at 3rd screenshot</td>\n",
       "      <td>Failed within 5 years</td>\n",
       "      <td>-0.032523</td>\n",
       "      <td>7.492116e-44</td>\n",
       "      <td>-13.930280</td>\n",
       "      <td>0.012018</td>\n",
       "    </tr>\n",
       "    <tr>\n",
       "      <th>13</th>\n",
       "      <td>lm(a_count) at 3rd screenshot</td>\n",
       "      <td>Failed within 5 years</td>\n",
       "      <td>-0.030454</td>\n",
       "      <td>1.958514e-53</td>\n",
       "      <td>-15.445914</td>\n",
       "      <td>0.014735</td>\n",
       "    </tr>\n",
       "    <tr>\n",
       "      <th>14</th>\n",
       "      <td>Pr(keywords) at 3rd screenshot</td>\n",
       "      <td>Failed within 5 years</td>\n",
       "      <td>-0.023968</td>\n",
       "      <td>1.328689e-04</td>\n",
       "      <td>-3.822014</td>\n",
       "      <td>0.000915</td>\n",
       "    </tr>\n",
       "    <tr>\n",
       "      <th>15</th>\n",
       "      <td>Pr(login) at 3rd screenshot</td>\n",
       "      <td>Failed within 5 years</td>\n",
       "      <td>-0.021196</td>\n",
       "      <td>2.214670e-03</td>\n",
       "      <td>-3.060321</td>\n",
       "      <td>0.000587</td>\n",
       "    </tr>\n",
       "    <tr>\n",
       "      <th>16</th>\n",
       "      <td>Pr(faq) at 3rd screenshot</td>\n",
       "      <td>Failed within 5 years</td>\n",
       "      <td>-0.017492</td>\n",
       "      <td>3.184092e-02</td>\n",
       "      <td>-2.146591</td>\n",
       "      <td>0.000289</td>\n",
       "    </tr>\n",
       "    <tr>\n",
       "      <th>17</th>\n",
       "      <td>lm(img_count) at 3rd screenshot</td>\n",
       "      <td>Failed within 5 years</td>\n",
       "      <td>-0.014824</td>\n",
       "      <td>1.353833e-12</td>\n",
       "      <td>-7.094391</td>\n",
       "      <td>0.003145</td>\n",
       "    </tr>\n",
       "    <tr>\n",
       "      <th>18</th>\n",
       "      <td>lm(form_count) at 3rd screenshot</td>\n",
       "      <td>Failed within 5 years</td>\n",
       "      <td>-0.008272</td>\n",
       "      <td>3.428369e-01</td>\n",
       "      <td>-0.948603</td>\n",
       "      <td>0.000056</td>\n",
       "    </tr>\n",
       "    <tr>\n",
       "      <th>19</th>\n",
       "      <td>lm(table_count) at 3rd screenshot</td>\n",
       "      <td>Failed within 5 years</td>\n",
       "      <td>0.011416</td>\n",
       "      <td>1.288621e-04</td>\n",
       "      <td>3.829563</td>\n",
       "      <td>0.000918</td>\n",
       "    </tr>\n",
       "  </tbody>\n",
       "</table>\n",
       "</div>"
      ],
      "text/plain": [
       "                                       X                      Y  Coefficient  \\\n",
       "0            Pr(title) at 3rd screenshot  Failed within 5 years    -0.110204   \n",
       "1          Pr(careers) at 3rd screenshot  Failed within 5 years    -0.100055   \n",
       "2             Pr(news) at 3rd screenshot  Failed within 5 years    -0.097510   \n",
       "3          Pr(contact) at 3rd screenshot  Failed within 5 years    -0.086078   \n",
       "4      Pr(testimonial) at 3rd screenshot  Failed within 5 years    -0.080535   \n",
       "5             Pr(team) at 3rd screenshot  Failed within 5 years    -0.076961   \n",
       "6             Pr(blog) at 3rd screenshot  Failed within 5 years    -0.067287   \n",
       "7            Pr(about) at 3rd screenshot  Failed within 5 years    -0.063538   \n",
       "8   Pr(call_to_action) at 3rd screenshot  Failed within 5 years    -0.060007   \n",
       "9     lm(script_count) at 3rd screenshot  Failed within 5 years    -0.049501   \n",
       "10     Pr(description) at 3rd screenshot  Failed within 5 years    -0.043679   \n",
       "11         lm(h_count) at 3rd screenshot  Failed within 5 years    -0.034256   \n",
       "12         lm(p_count) at 3rd screenshot  Failed within 5 years    -0.032523   \n",
       "13         lm(a_count) at 3rd screenshot  Failed within 5 years    -0.030454   \n",
       "14        Pr(keywords) at 3rd screenshot  Failed within 5 years    -0.023968   \n",
       "15           Pr(login) at 3rd screenshot  Failed within 5 years    -0.021196   \n",
       "16             Pr(faq) at 3rd screenshot  Failed within 5 years    -0.017492   \n",
       "17       lm(img_count) at 3rd screenshot  Failed within 5 years    -0.014824   \n",
       "18      lm(form_count) at 3rd screenshot  Failed within 5 years    -0.008272   \n",
       "19     lm(table_count) at 3rd screenshot  Failed within 5 years     0.011416   \n",
       "\n",
       "         P-Value    T-Value  R-Squared  \n",
       "0   1.916661e-11  -6.717082   0.002820  \n",
       "1   2.468024e-64 -17.012041   0.017818  \n",
       "2   1.747282e-59 -16.332972   0.016447  \n",
       "3   1.009831e-44 -14.074435   0.012265  \n",
       "4   5.217305e-14  -7.533168   0.003545  \n",
       "5   1.758600e-18  -8.782508   0.004812  \n",
       "6   2.926790e-26 -10.620546   0.007021  \n",
       "7   1.997960e-27 -10.870047   0.007352  \n",
       "8   2.450920e-23  -9.968465   0.006190  \n",
       "9   2.974360e-43 -13.830262   0.011848  \n",
       "10  9.500076e-14  -7.454269   0.003471  \n",
       "11  2.602882e-45 -14.171152   0.012432  \n",
       "12  7.492116e-44 -13.930280   0.012018  \n",
       "13  1.958514e-53 -15.445914   0.014735  \n",
       "14  1.328689e-04  -3.822014   0.000915  \n",
       "15  2.214670e-03  -3.060321   0.000587  \n",
       "16  3.184092e-02  -2.146591   0.000289  \n",
       "17  1.353833e-12  -7.094391   0.003145  \n",
       "18  3.428369e-01  -0.948603   0.000056  \n",
       "19  1.288621e-04   3.829563   0.000918  "
      ]
     },
     "execution_count": 35,
     "metadata": {},
     "output_type": "execute_result"
    }
   ],
   "source": [
    "f_within_results.sort_values('Coefficient').reset_index(drop=True)"
   ]
  },
  {
   "cell_type": "markdown",
   "id": "466c36e9",
   "metadata": {},
   "source": [
    "**Set 3: Growth**"
   ]
  },
  {
   "cell_type": "markdown",
   "id": "edecf329",
   "metadata": {},
   "source": [
    "**Create % growth columns between snapshots 2-3 and 3-4 (these functions both take minutes each time)**"
   ]
  },
  {
   "cell_type": "code",
   "execution_count": null,
   "id": "90ea93c3",
   "metadata": {},
   "outputs": [],
   "source": [
    "create_growth_cols(2, 3)\n",
    "create_growth_cols(3, 4)"
   ]
  },
  {
   "cell_type": "code",
   "execution_count": 28,
   "id": "edd05f0b",
   "metadata": {
    "collapsed": true
   },
   "outputs": [
    {
     "name": "stdout",
     "output_type": "stream",
     "text": [
      "\"yr_from_start\",\n",
      "\"capture_yr\",\n",
      "\"capture_m\",\n",
      "\"file_path\",\n",
      "\"file_exists\",\n",
      "\"website_size_kb\",\n",
      "\"careers\",\n",
      "\"blog\",\n",
      "\"login\",\n",
      "\"contact\",\n",
      "\"team\",\n",
      "\"about\",\n",
      "\"news\",\n",
      "\"faq\",\n",
      "\"call_to_action\",\n",
      "\"testimonial\",\n",
      "\"title\",\n",
      "\"description\",\n",
      "\"keywords\",\n",
      "\"p_count\",\n",
      "\"h_count\",\n",
      "\"img_count\",\n",
      "\"a_count\",\n",
      "\"table_count\",\n",
      "\"form_count\",\n",
      "\"script_count\",\n",
      "\"entityname\",\n",
      "\"new_industrygroup\",\n",
      "\"state\",\n",
      "\"weburl\",\n",
      "\"pb_companyid\",\n",
      "\"startdate\",\n",
      "\"lastVC\",\n",
      "\"ownershipstatus\",\n",
      "\"exit_date\",\n",
      "\"Failed\",\n",
      "\"has_exit\",\n",
      "\"end_yr\",\n",
      "\"start_yr\",\n",
      "\"lifespan\",\n",
      "\"websize_log\",\n",
      "\"a_log\",\n",
      "\"f_1\",\n",
      "\"f_2\",\n",
      "\"f_3\",\n",
      "\"f_4\",\n",
      "\"f_5\",\n",
      "\"f_6\",\n",
      "\"f_7\",\n",
      "\"f_8\",\n",
      "\"f_9\",\n",
      "\"f_10\",\n",
      "\"s_1\",\n",
      "\"s_2\",\n",
      "\"s_3\",\n",
      "\"s_4\",\n",
      "\"s_5\",\n",
      "\"s_6\",\n",
      "\"s_7\",\n",
      "\"s_8\",\n",
      "\"s_9\",\n",
      "\"s_10\",\n"
     ]
    }
   ],
   "source": [
    "for i in data.columns:\n",
    "    print(f'\"{i}\",')"
   ]
  },
  {
   "cell_type": "code",
   "execution_count": null,
   "id": "5d601bbe",
   "metadata": {},
   "outputs": [],
   "source": [
    "for i in fg_cols:\n",
    "    mod = f_within_reg(data, i, y_col)\n",
    "    f_within_results.loc[len(f_within_results.index)] = \\\n",
    "        [i + \" at 3rd screenshot\", f'Failed within {y_yr} years', \\\n",
    "         mod.params[i], mod.pvalues[i], mod.tvalues[i], mod.rsquared]\n"
   ]
  },
  {
   "cell_type": "code",
   "execution_count": null,
   "id": "e8b912da",
   "metadata": {},
   "outputs": [],
   "source": [
    "f_within_results"
   ]
  },
  {
   "cell_type": "code",
   "execution_count": null,
   "id": "c20a4583",
   "metadata": {},
   "outputs": [],
   "source": []
  }
 ],
 "metadata": {
  "kernelspec": {
   "display_name": "Python 3 (ipykernel)",
   "language": "python",
   "name": "python3"
  },
  "language_info": {
   "codemirror_mode": {
    "name": "ipython",
    "version": 3
   },
   "file_extension": ".py",
   "mimetype": "text/x-python",
   "name": "python",
   "nbconvert_exporter": "python",
   "pygments_lexer": "ipython3",
   "version": "3.9.2"
  }
 },
 "nbformat": 4,
 "nbformat_minor": 5
}
