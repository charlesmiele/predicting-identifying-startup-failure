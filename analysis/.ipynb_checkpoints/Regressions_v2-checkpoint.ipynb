{
 "cells": [
  {
   "cell_type": "code",
   "execution_count": 1,
   "id": "1efc897a",
   "metadata": {},
   "outputs": [],
   "source": [
    "import pandas as pd\n",
    "import seaborn as sns\n",
    "import matplotlib.pyplot as plt\n",
    "import statsmodels.api as sm\n",
    "from statsmodels.formula.api import probit\n",
    "import numpy as np\n",
    "\n",
    "pd.set_option('max_columns', 200)\n",
    "pd.set_option('max_rows', 200)\n",
    "plt.style.use('ggplot')"
   ]
  },
  {
   "cell_type": "markdown",
   "id": "e4715883",
   "metadata": {},
   "source": [
    "# Table of Contents"
   ]
  },
  {
   "cell_type": "markdown",
   "id": "555753a9",
   "metadata": {},
   "source": [
    "1. [Read Data](#Read-Data)\n",
    "2. [Define Supporting Functions](#Define-Supporting-Functions)\n",
    "3. [Cross-Sectional Regressions-Final screenshot](#Cross-Sectional-Regressions-Final-screenshot)\n",
    "    1. [Includes Login](#Includes-Login)\n",
    "    2. [Includes Careers Page](#Includes-Careers-Page)\n",
    "    3. [Webpage Size](#Webpage-Size)\n",
    "    4. [Number of A Tags](#Number-of-A-Tags)\n",
    "4. [Difference in final screenshot and end year](#Difference-in-final-screenshot-and-end-year)\n",
    "5. [Cross-Sectional Regression Table](#Cross-Sectional-Regression-Table)\n",
    "6. [Growth regressions](#Growth-Regressions)\n",
    "7. [Time Between Captures](#Time-Between-Captures)\n"
   ]
  },
  {
   "cell_type": "code",
   "execution_count": 2,
   "id": "0927c8e4",
   "metadata": {},
   "outputs": [],
   "source": [
    "## Read Data\n",
    "html = pd.read_csv('../data/4_final_webpage_metadata.csv')"
   ]
  },
  {
   "cell_type": "code",
   "execution_count": 3,
   "id": "19f2e4e5",
   "metadata": {},
   "outputs": [],
   "source": [
    "# Filter only clear successes and failures\n",
    "html = html[html.ownershipstatus.isin([\"Out of Business\", \"Publicly-held\", \"Acquired/Merged\"])]"
   ]
  },
  {
   "cell_type": "code",
   "execution_count": 4,
   "id": "3224891c",
   "metadata": {},
   "outputs": [],
   "source": [
    "# Remove all webpages with size 0\n",
    "html = html[html['website_size_kb'] != 0]"
   ]
  },
  {
   "cell_type": "code",
   "execution_count": 5,
   "id": "28956cbf",
   "metadata": {},
   "outputs": [
    {
     "name": "stderr",
     "output_type": "stream",
     "text": [
      "/Library/Frameworks/Python.framework/Versions/3.9/lib/python3.9/site-packages/pandas/core/arraylike.py:358: RuntimeWarning: divide by zero encountered in log\n",
      "  result = getattr(ufunc, method)(*inputs, **kwargs)\n"
     ]
    }
   ],
   "source": [
    "html[\"Failed\"] = (html.ownershipstatus == \"Out of Business\").astype(int)\n",
    "html[\"has_exit\"] = (html[\"exit_date\"].isna() == False).astype('int8')\n",
    "html[\"end_yr\"] = html[\"exit_date\"].str.slice(start=0, stop=4).astype('float' ,errors='ignore').fillna(2023)\n",
    "html[\"start_yr\"] = html[\"startdate\"].str.slice(start=0, stop=4).fillna(html[\"lastVC\"].str.slice(start=0, stop=4)).astype('float', errors='ignore')\n",
    "html[\"lifespan\"] = html[\"end_yr\"] - html[\"start_yr\"]\n",
    "# Convert website size and a_count to log format\n",
    "html['websize_log'] = np.log(html['website_size_kb']).replace([-np.inf], 0)\n",
    "html['a_log'] = np.log(html['a_count']).replace([-np.inf], 0)"
   ]
  },
  {
   "cell_type": "code",
   "execution_count": null,
   "id": "393b054b",
   "metadata": {
    "scrolled": true
   },
   "outputs": [],
   "source": [
    "html.head(200)"
   ]
  },
  {
   "cell_type": "markdown",
   "id": "5289ca54",
   "metadata": {},
   "source": [
    "**The main dataset we'll using for regressions (for now):**"
   ]
  },
  {
   "cell_type": "code",
   "execution_count": null,
   "id": "2eb7c0aa",
   "metadata": {},
   "outputs": [],
   "source": [
    "data = html.groupby('entityid').last()"
   ]
  },
  {
   "cell_type": "markdown",
   "id": "9e043473",
   "metadata": {},
   "source": [
    "## Define Supporting Functions"
   ]
  },
  {
   "cell_type": "code",
   "execution_count": 16,
   "id": "25937b4a",
   "metadata": {},
   "outputs": [],
   "source": [
    "# This function plots the regressions for us. Takes in an independent variable of \n",
    "# interest (this will be plotted on the Y axis for better readbility), a control, \n",
    "# and options to plot industry individually and or/save\n",
    "def plot_freg(y, data, control=None, industry=False, save=None):\n",
    "    # Always do most basic OLS\n",
    "    sns.regplot(x='Failed', y=y, data=data, x_estimator=np.mean, color='g', label='Base OLS')\n",
    "    \n",
    "    if not industry:\n",
    "        sns.regplot(x='Failed', y=y, data=data, x_estimator=np.mean, y_partial=control, \\\n",
    "                    color='b', label=f'Controlling for {control}');\n",
    "        plt.legend()\n",
    "    else:\n",
    "        ind_groups = data.groupby('new_industrygroup')\n",
    "        for name, group in ind_groups:\n",
    "            # We're gonna ignore these industries for now\n",
    "            ind_ignore = [\"To Be Assigned\", \"Energy and Utilities\", \"Industrial Goods and Materials\"]\n",
    "            if name not in ind_ignore:\n",
    "                sns.regplot(x='Failed', y=y, data=group, x_estimator=np.mean, y_partial=control, label=name);\n",
    "        if control:\n",
    "            plt.title(f'Predicting failure on {y} by industry, controlling for {control}')\n",
    "        else:\n",
    "            plt.title(f'Predicting failure on {y} by industry')\n",
    "        plt.legend(bbox_to_anchor=(1.05, 1), loc='upper left');\n",
    "    plt.xticks([0,1])\n",
    "    if save:\n",
    "        plt.savefig(save, dpi=200, bbox_inches='tight')"
   ]
  },
  {
   "cell_type": "code",
   "execution_count": 17,
   "id": "e72a548b",
   "metadata": {},
   "outputs": [],
   "source": [
    "def run_model(x, control=[], lifespanControl=None):\n",
    "    if lifespanControl is not None:\n",
    "        data.query('lifespan <= @lifespanControl')\n",
    "    \n",
    "    X = data[x]\n",
    "    \n",
    "    \n",
    "    for y in control:\n",
    "        if data[y].nunique() < 100:\n",
    "            y_dummies = pd.get_dummies(data[y], prefix=y, drop_first=True)\n",
    "            X = pd.concat([X, y_dummies], axis=1)\n",
    "    X = sm.add_constant(X)\n",
    "    mod = sm.OLS(data['Failed'], X).fit()\n",
    "    return mod"
   ]
  },
  {
   "cell_type": "code",
   "execution_count": 18,
   "id": "3993ce13",
   "metadata": {},
   "outputs": [],
   "source": [
    "def run_probit(x, control=[]):\n",
    "    X = data[x]\n",
    "    for y in control:\n",
    "        if data[y].nunique() < 100:\n",
    "            y_dummies = pd.get_dummies(data[y], prefix=y, drop_first=True)\n",
    "            X = pd.concat([X, y_dummies], axis=1)\n",
    "    X = sm.add_constant(X)\n",
    "    mod = sm.Probit(data['Failed'], X).fit()\n",
    "    return mod"
   ]
  },
  {
   "cell_type": "markdown",
   "id": "6599f0a2",
   "metadata": {},
   "source": [
    "## Cross-Sectional Regressions-Final screenshot"
   ]
  },
  {
   "cell_type": "markdown",
   "id": "dc48c064",
   "metadata": {},
   "source": [
    "### Includes Login"
   ]
  },
  {
   "cell_type": "code",
   "execution_count": null,
   "id": "41b82948",
   "metadata": {},
   "outputs": [],
   "source": [
    "run_model('login').summary()"
   ]
  },
  {
   "cell_type": "markdown",
   "id": "1d058838",
   "metadata": {},
   "source": [
    "**Controlling for end year**"
   ]
  },
  {
   "cell_type": "code",
   "execution_count": null,
   "id": "8917f11d",
   "metadata": {},
   "outputs": [],
   "source": [
    "run_model('login', control=['end_yr']).summary()"
   ]
  },
  {
   "cell_type": "code",
   "execution_count": null,
   "id": "815da91d",
   "metadata": {},
   "outputs": [],
   "source": [
    "plot_freg('login', data=data, control='end_yr', save='login_basic.png')"
   ]
  },
  {
   "cell_type": "markdown",
   "id": "9c817d76",
   "metadata": {},
   "source": [
    "**Control for industry _and_ end year**"
   ]
  },
  {
   "cell_type": "code",
   "execution_count": null,
   "id": "ea6620a9",
   "metadata": {
    "scrolled": true
   },
   "outputs": [],
   "source": [
    "run_model('login', control=['end_yr', 'new_industrygroup']).summary()"
   ]
  },
  {
   "cell_type": "code",
   "execution_count": null,
   "id": "574ad2df",
   "metadata": {},
   "outputs": [],
   "source": [
    "plot_freg('login', data=data, control='end_yr', industry=True)"
   ]
  },
  {
   "cell_type": "markdown",
   "id": "5b666eda",
   "metadata": {},
   "source": [
    "### Includes Careers Page"
   ]
  },
  {
   "cell_type": "code",
   "execution_count": null,
   "id": "301f650e",
   "metadata": {},
   "outputs": [],
   "source": [
    "run_model('careers').summary()"
   ]
  },
  {
   "cell_type": "markdown",
   "id": "e58ec137",
   "metadata": {},
   "source": [
    "**Controlling for end year**"
   ]
  },
  {
   "cell_type": "code",
   "execution_count": null,
   "id": "1920df73",
   "metadata": {},
   "outputs": [],
   "source": [
    "run_model('careers', control=['end_yr']).summary()"
   ]
  },
  {
   "cell_type": "markdown",
   "id": "bf15ce0c",
   "metadata": {},
   "source": [
    "**Control for end year and industry**"
   ]
  },
  {
   "cell_type": "code",
   "execution_count": null,
   "id": "da87843c",
   "metadata": {},
   "outputs": [],
   "source": [
    "run_model('careers', control=['end_yr']).rsquared"
   ]
  },
  {
   "cell_type": "code",
   "execution_count": null,
   "id": "6fd4aefe",
   "metadata": {},
   "outputs": [],
   "source": [
    "run_model('careers', control=['new_industrygroup', 'end_yr']).summary()"
   ]
  },
  {
   "cell_type": "markdown",
   "id": "6d5c3f82",
   "metadata": {},
   "source": [
    "**Plot**"
   ]
  },
  {
   "cell_type": "code",
   "execution_count": null,
   "id": "f44591a7",
   "metadata": {},
   "outputs": [],
   "source": [
    "plot_freg('careers', data, 'end_yr')"
   ]
  },
  {
   "cell_type": "markdown",
   "id": "aac37e43",
   "metadata": {},
   "source": [
    "**Plot for industry**"
   ]
  },
  {
   "cell_type": "code",
   "execution_count": null,
   "id": "79dad845",
   "metadata": {},
   "outputs": [],
   "source": [
    "plot_freg('careers', data, industry=True, save='industry_graph_simple.png')"
   ]
  },
  {
   "cell_type": "markdown",
   "id": "de55fb60",
   "metadata": {},
   "source": [
    "**Plot for industry, controlling for end year**"
   ]
  },
  {
   "cell_type": "code",
   "execution_count": null,
   "id": "d248d757",
   "metadata": {},
   "outputs": [],
   "source": [
    "plot_freg('careers', data, control='end_yr', industry=True, save='careers_complex.png')"
   ]
  },
  {
   "cell_type": "markdown",
   "id": "f733cf2c",
   "metadata": {},
   "source": [
    "### Webpage Size"
   ]
  },
  {
   "cell_type": "markdown",
   "id": "d16baf94",
   "metadata": {},
   "source": [
    "Setup"
   ]
  },
  {
   "cell_type": "code",
   "execution_count": null,
   "id": "f8d601b0",
   "metadata": {
    "scrolled": false
   },
   "outputs": [],
   "source": [
    "# Check out distribution\n",
    "sns.kdeplot(data['websize_log'], color='b', fill='b');"
   ]
  },
  {
   "cell_type": "markdown",
   "id": "0883060a",
   "metadata": {},
   "source": [
    "**OLS Regression**"
   ]
  },
  {
   "cell_type": "code",
   "execution_count": null,
   "id": "b43e5ba4",
   "metadata": {},
   "outputs": [],
   "source": [
    "run_model('websize_log').summary()"
   ]
  },
  {
   "cell_type": "markdown",
   "id": "6c1a3f7f",
   "metadata": {},
   "source": [
    "**Control for year**"
   ]
  },
  {
   "cell_type": "code",
   "execution_count": null,
   "id": "92b1998b",
   "metadata": {},
   "outputs": [],
   "source": [
    "run_model('websize_log', control=['capture_yr']).rsquared"
   ]
  },
  {
   "cell_type": "markdown",
   "id": "05780300",
   "metadata": {},
   "source": [
    "**Control for industry**"
   ]
  },
  {
   "cell_type": "code",
   "execution_count": null,
   "id": "2127a982",
   "metadata": {},
   "outputs": [],
   "source": [
    "run_model('websize_log', control=['new_industrygroup']).rsquared"
   ]
  },
  {
   "cell_type": "markdown",
   "id": "4891a4f0",
   "metadata": {},
   "source": [
    "**Plot, controlling for end year**"
   ]
  },
  {
   "cell_type": "code",
   "execution_count": null,
   "id": "bb2b34f7",
   "metadata": {},
   "outputs": [],
   "source": [
    "plot_freg('websize_log', data, control='end_yr')"
   ]
  },
  {
   "cell_type": "markdown",
   "id": "85c0de3e",
   "metadata": {},
   "source": [
    "**Industry Plot**"
   ]
  },
  {
   "cell_type": "code",
   "execution_count": null,
   "id": "71de28bc",
   "metadata": {},
   "outputs": [],
   "source": [
    "plot_freg('websize_log', data, industry=True)"
   ]
  },
  {
   "cell_type": "markdown",
   "id": "48dc660b",
   "metadata": {},
   "source": [
    "**Plot for industry, controlling for capture year**"
   ]
  },
  {
   "cell_type": "code",
   "execution_count": null,
   "id": "ab10b55b",
   "metadata": {},
   "outputs": [],
   "source": [
    "plot_freg('websize_log', data, control='capture_yr', industry=True, save='websize_log_ind_ey.png')"
   ]
  },
  {
   "cell_type": "markdown",
   "id": "5b5957d6",
   "metadata": {},
   "source": [
    "### Number of A Tags"
   ]
  },
  {
   "cell_type": "code",
   "execution_count": null,
   "id": "f86e399e",
   "metadata": {},
   "outputs": [],
   "source": [
    "run_model('a_count', control=['end_yr']).summary()"
   ]
  },
  {
   "cell_type": "markdown",
   "id": "8b08c784",
   "metadata": {},
   "source": [
    "## Difference in final screenshot and end year"
   ]
  },
  {
   "cell_type": "markdown",
   "id": "53697bc6",
   "metadata": {},
   "source": [
    "This is somewhat promising...maybe we couldchange this to a more precise number by including month too?"
   ]
  },
  {
   "cell_type": "code",
   "execution_count": null,
   "id": "4570cf18",
   "metadata": {},
   "outputs": [],
   "source": [
    "data['finalsnap_end_diff'] = data['end_yr'] - data['capture_yr']"
   ]
  },
  {
   "cell_type": "code",
   "execution_count": null,
   "id": "76d84a2b",
   "metadata": {},
   "outputs": [],
   "source": [
    "sns.kdeplot(data=data, x='finalsnap_end_diff', hue='Failed', palette=['b', 'r'], fill=True);"
   ]
  },
  {
   "cell_type": "code",
   "execution_count": null,
   "id": "a2f87320",
   "metadata": {},
   "outputs": [],
   "source": [
    "data[data.Failed == 1].finalsnap_end_diff.describe()"
   ]
  },
  {
   "cell_type": "code",
   "execution_count": null,
   "id": "9917eb52",
   "metadata": {},
   "outputs": [],
   "source": [
    "data[data.Failed == 0].finalsnap_end_diff.describe()"
   ]
  },
  {
   "cell_type": "code",
   "execution_count": null,
   "id": "d2d371ea",
   "metadata": {},
   "outputs": [],
   "source": [
    "run_model('finalsnap_end_diff', control=['new_industrygroup']).pvalues"
   ]
  },
  {
   "cell_type": "code",
   "execution_count": null,
   "id": "9b6afd8a",
   "metadata": {},
   "outputs": [],
   "source": [
    "plot_freg('finalsnap_end_diff', data, industry=True, save='endDiff.png')"
   ]
  },
  {
   "cell_type": "markdown",
   "id": "b8533432",
   "metadata": {},
   "source": [
    "## Cross-Sectional Regression Table"
   ]
  },
  {
   "cell_type": "markdown",
   "id": "74478f21",
   "metadata": {},
   "source": [
    "Create empty DataFrame"
   ]
  },
  {
   "cell_type": "code",
   "execution_count": null,
   "id": "ffe1941d",
   "metadata": {},
   "outputs": [],
   "source": [
    "reg_results = pd.DataFrame(columns=['X', 'Y', 'Coefficient', 'Control', 'T', 'PValue', 'RSquared'])"
   ]
  },
  {
   "cell_type": "code",
   "execution_count": null,
   "id": "d3893674",
   "metadata": {
    "scrolled": false
   },
   "outputs": [],
   "source": [
    "data.columns"
   ]
  },
  {
   "cell_type": "markdown",
   "id": "4ff9357c",
   "metadata": {},
   "source": [
    "Define columns to run regressions on"
   ]
  },
  {
   "cell_type": "code",
   "execution_count": null,
   "id": "29461aa3",
   "metadata": {},
   "outputs": [],
   "source": [
    "cols_of_interest = [i for i in data.select_dtypes(include='number') if i not in ['Failed', 'has_exit']]"
   ]
  },
  {
   "cell_type": "code",
   "execution_count": null,
   "id": "db7ac7a2",
   "metadata": {},
   "outputs": [],
   "source": [
    "data['a_log'].describe()"
   ]
  },
  {
   "cell_type": "code",
   "execution_count": null,
   "id": "3f5bc258",
   "metadata": {
    "scrolled": true
   },
   "outputs": [],
   "source": [
    "for i in cols_of_interest:\n",
    "    print(i)\n",
    "    mod = run_model(i)\n",
    "    results = {\n",
    "        'X': i,\n",
    "        'Y': 'Failed',\n",
    "        'Coefficient': mod.params[i],\n",
    "        'Control': \"\",\n",
    "        'T': mod.tvalues[i],\n",
    "        'PValue': mod.pvalues[i],\n",
    "        'RSquared': mod.rsquared,\n",
    "    }\n",
    "    reg_results = reg_results.append(results, ignore_index=True)\n",
    "    # Control for end year, industry, state, and start year\n",
    "    mod = run_model(i, control=['end_yr', 'new_industrygroup', 'state', 'start_yr'])\n",
    "    results['Coefficient'] = mod.params[i]\n",
    "    results['PValue'] =  mod.pvalues[i]\n",
    "    results['RSquared'] = mod.rsquared\n",
    "    results['Control'] = 'End Year, Industry, State, Year founded'\n",
    "    reg_results = reg_results.append(results, ignore_index=True)"
   ]
  },
  {
   "cell_type": "markdown",
   "id": "18ce21fc",
   "metadata": {},
   "source": [
    "Convert R-Squared out of scientific notation"
   ]
  },
  {
   "cell_type": "code",
   "execution_count": null,
   "id": "7a74e1e0",
   "metadata": {},
   "outputs": [],
   "source": [
    "reg_results['RSquared'] = reg_results['RSquared'].astype('float64')\n",
    "reg_results['RSquared'] = np.round(reg_results['RSquared'], 4)"
   ]
  },
  {
   "cell_type": "code",
   "execution_count": null,
   "id": "f80e7c7a",
   "metadata": {},
   "outputs": [],
   "source": [
    "reg_results.name = 'Last screenshot cross-sectional regressions'"
   ]
  },
  {
   "cell_type": "markdown",
   "id": "936805a9",
   "metadata": {},
   "source": [
    "Sort by R-Squared"
   ]
  },
  {
   "cell_type": "code",
   "execution_count": null,
   "id": "86d3843e",
   "metadata": {
    "scrolled": false
   },
   "outputs": [],
   "source": [
    "reg_results.sort_values('RSquared', ascending=False).reset_index(drop=True).head(15)"
   ]
  },
  {
   "cell_type": "markdown",
   "id": "4bffc657",
   "metadata": {},
   "source": [
    "## Growth Regressions"
   ]
  },
  {
   "cell_type": "markdown",
   "id": "8de0235e",
   "metadata": {},
   "source": [
    "**Setup**"
   ]
  },
  {
   "cell_type": "markdown",
   "id": "9fb3d559",
   "metadata": {},
   "source": [
    "Add these growth columns for every column that we care about"
   ]
  },
  {
   "cell_type": "code",
   "execution_count": 6,
   "id": "b5bee131",
   "metadata": {},
   "outputs": [],
   "source": [
    "g_cols_of_interest = ['website_size_kb', 'careers', 'blog', 'login', 'contact',\n",
    "       'team', 'about', 'news', 'faq', 'call_to_action', 'testimonial',\n",
    "       'title', 'description', 'keywords', 'p_count', 'h_count', 'img_count',\n",
    "       'a_count', 'table_count', 'form_count', 'script_count']\n",
    "binCols =  ['careers', 'blog', 'login', 'contact',\n",
    "       'team', 'about', 'news', 'faq', 'call_to_action', 'testimonial',\n",
    "       'title', 'description', 'keywords']"
   ]
  },
  {
   "cell_type": "markdown",
   "id": "d9a42f27",
   "metadata": {},
   "source": [
    "Calculate Percentage Difference"
   ]
  },
  {
   "cell_type": "code",
   "execution_count": 7,
   "id": "779b85ab",
   "metadata": {},
   "outputs": [],
   "source": [
    "def find_last_diff(x, col, start, end, isBin):\n",
    "    if len(x.index) > end:\n",
    "        start_val = x.iloc[start][col]\n",
    "        end_val = x.iloc[end][col]\n",
    "        diff = end_val - start_val\n",
    "        if isBin and diff == 1:\n",
    "            diff = 100\n",
    "        if start_val == 0:\n",
    "            diff = (((end_val + 1) - (start_val + 1)) / (start_val + 1)) * 100\n",
    "        else:\n",
    "            diff = ((end_val - start_val) / start_val) * 100\n",
    "        return diff\n",
    "    return None"
   ]
  },
  {
   "cell_type": "markdown",
   "id": "4f1d8901",
   "metadata": {},
   "source": [
    "Add the column to the HTML DataFrame"
   ]
  },
  {
   "cell_type": "code",
   "execution_count": 8,
   "id": "aca06ec7",
   "metadata": {},
   "outputs": [],
   "source": [
    "def add_last_growth_col(col, colName, start, end):\n",
    "    s = html.groupby('entityid').apply(lambda x: find_last_diff(x, col, start, end, isBin=(col in binCols)))\n",
    "    s.name = colName\n",
    "    return html.merge(s, on='entityid')"
   ]
  },
  {
   "cell_type": "markdown",
   "id": "f4aede22",
   "metadata": {},
   "source": [
    "Add ALL of the columns to the HTML DataFrame"
   ]
  },
  {
   "cell_type": "code",
   "execution_count": 9,
   "id": "2fe04fb6",
   "metadata": {},
   "outputs": [],
   "source": [
    "def create_growth_cols(start, end):\n",
    "    global html\n",
    "    for i in g_cols_of_interest:\n",
    "        # print(i)\n",
    "        colName = f\"g{start}{end}_{i}\"\n",
    "        html = add_last_growth_col(col=i, colName=colName, start=0, end=3)"
   ]
  },
  {
   "cell_type": "markdown",
   "id": "1c40eac7",
   "metadata": {},
   "source": [
    "Run regressions on the growth columns and return a table containing all the important info about the regressions"
   ]
  },
  {
   "cell_type": "code",
   "execution_count": 10,
   "id": "5f17c8e5",
   "metadata": {},
   "outputs": [],
   "source": [
    "def growth_reg(start, end, lifespanControl=None):\n",
    "    growth_reg_results = pd.DataFrame(columns=['X', 'Y', 'Coefficient', 'Control', 'T', 'PValue', 'RSquared'])    \n",
    "\n",
    "    for i in g_cols_of_interest:\n",
    "        i = f\"g{start}{end}_{i}\"\n",
    "        \n",
    "        # Control for end year, industry, state, and start year\n",
    "        mod = run_model(i, control=['end_yr', 'new_industrygroup', 'state', 'start_yr'], lifespanControl=lifespanControl)\n",
    "        \n",
    "        results = {\n",
    "            'X': i,\n",
    "            'Y': 'Failed',\n",
    "            'Coefficient': mod.params[i],\n",
    "            'Control': 'End Year, Industry, State, Year founded',\n",
    "            'T': mod.tvalues[i],\n",
    "            'PValue': mod.pvalues[i],\n",
    "            'RSquared': mod.rsquared\n",
    "        }\n",
    "        \n",
    "        growth_reg_results = growth_reg_results.append(results, ignore_index=True)\n",
    "        \n",
    "\n",
    "    # Convert Rsquared to float\n",
    "    growth_reg_results['RSquared'] = growth_reg_results['RSquared'].astype('float64')\n",
    "    growth_reg_results['RSquared'] = np.round(growth_reg_results['RSquared'], 4)\n",
    "    \n",
    "    # Set name\n",
    "    growth_reg_results.set_camption = f\"% Growth from years {start} to {end}\"\n",
    "    \n",
    "    return growth_reg_results"
   ]
  },
  {
   "cell_type": "markdown",
   "id": "8d8582b5",
   "metadata": {},
   "source": [
    "Setup"
   ]
  },
  {
   "cell_type": "code",
   "execution_count": 11,
   "id": "513f17de",
   "metadata": {},
   "outputs": [],
   "source": [
    "start = 1\n",
    "end = 3\n",
    "lifespanControl = 5"
   ]
  },
  {
   "cell_type": "code",
   "execution_count": 22,
   "id": "2d34fe0e",
   "metadata": {
    "scrolled": true
   },
   "outputs": [],
   "source": [
    "def master_reg(start, end, lifespanControl):\n",
    "    global data\n",
    "    colPrefix = f\"g{start}{end}_\"\n",
    "    \n",
    "    # See if columns exist\n",
    "    columnsExist = set([colPrefix + i for i in g_cols_of_interest]).issubset(html.columns)\n",
    "\n",
    "    if not columnsExist:\n",
    "        # Create columns (takes ~2 minutes)\n",
    "        create_growth_cols(start, end)\n",
    "\n",
    "    # Redefine regression dataset with new growth columns\n",
    "    data = html.groupby('entityid').last()\n",
    "    colPrefix = f\"g{start}{end}_\"\n",
    "\n",
    "    # Drop any rows with NA values for any of the columns we're running regressions on\n",
    "    data = data.dropna(subset=[colPrefix + i for i in g_cols_of_interest]) # Remove NA\n",
    "\n",
    "    # Create regression DF\n",
    "    gr_results = growth_reg(start, end, lifespanControl=lifespanControl)\n",
    "\n",
    "    # Styling\n",
    "    if lifespanControl is not None:\n",
    "        captionTxt = f\"Exited within {lifespanControl} years, Growth from snapshot {start}-{end}\"\n",
    "    else:\n",
    "        captionTxt = f\"Growth from snapshot {start}-{end}\"\n",
    "    return gr_results"
   ]
  },
  {
   "cell_type": "code",
   "execution_count": 23,
   "id": "32506eea",
   "metadata": {
    "scrolled": false
   },
   "outputs": [
    {
     "data": {
      "text/html": [
       "<div>\n",
       "<style scoped>\n",
       "    .dataframe tbody tr th:only-of-type {\n",
       "        vertical-align: middle;\n",
       "    }\n",
       "\n",
       "    .dataframe tbody tr th {\n",
       "        vertical-align: top;\n",
       "    }\n",
       "\n",
       "    .dataframe thead th {\n",
       "        text-align: right;\n",
       "    }\n",
       "</style>\n",
       "<table border=\"1\" class=\"dataframe\">\n",
       "  <thead>\n",
       "    <tr style=\"text-align: right;\">\n",
       "      <th></th>\n",
       "      <th>X</th>\n",
       "      <th>Y</th>\n",
       "      <th>Coefficient</th>\n",
       "      <th>Control</th>\n",
       "      <th>T</th>\n",
       "      <th>PValue</th>\n",
       "      <th>RSquared</th>\n",
       "    </tr>\n",
       "  </thead>\n",
       "  <tbody>\n",
       "    <tr>\n",
       "      <th>0</th>\n",
       "      <td>g13_website_size_kb</td>\n",
       "      <td>Failed</td>\n",
       "      <td>6.227999e-08</td>\n",
       "      <td>End Year, Industry, State, Year founded</td>\n",
       "      <td>1.285996</td>\n",
       "      <td>0.198463</td>\n",
       "      <td>0.6055</td>\n",
       "    </tr>\n",
       "    <tr>\n",
       "      <th>1</th>\n",
       "      <td>g13_careers</td>\n",
       "      <td>Failed</td>\n",
       "      <td>-2.013333e-05</td>\n",
       "      <td>End Year, Industry, State, Year founded</td>\n",
       "      <td>-0.304000</td>\n",
       "      <td>0.761132</td>\n",
       "      <td>0.6055</td>\n",
       "    </tr>\n",
       "    <tr>\n",
       "      <th>2</th>\n",
       "      <td>g13_blog</td>\n",
       "      <td>Failed</td>\n",
       "      <td>2.681028e-04</td>\n",
       "      <td>End Year, Industry, State, Year founded</td>\n",
       "      <td>3.361418</td>\n",
       "      <td>0.000777</td>\n",
       "      <td>0.6057</td>\n",
       "    </tr>\n",
       "    <tr>\n",
       "      <th>3</th>\n",
       "      <td>g13_login</td>\n",
       "      <td>Failed</td>\n",
       "      <td>2.211280e-04</td>\n",
       "      <td>End Year, Industry, State, Year founded</td>\n",
       "      <td>2.562473</td>\n",
       "      <td>0.010402</td>\n",
       "      <td>0.6056</td>\n",
       "    </tr>\n",
       "    <tr>\n",
       "      <th>4</th>\n",
       "      <td>g13_contact</td>\n",
       "      <td>Failed</td>\n",
       "      <td>9.643578e-05</td>\n",
       "      <td>End Year, Industry, State, Year founded</td>\n",
       "      <td>1.588543</td>\n",
       "      <td>0.112183</td>\n",
       "      <td>0.6055</td>\n",
       "    </tr>\n",
       "    <tr>\n",
       "      <th>5</th>\n",
       "      <td>g13_team</td>\n",
       "      <td>Failed</td>\n",
       "      <td>-1.815571e-04</td>\n",
       "      <td>End Year, Industry, State, Year founded</td>\n",
       "      <td>-1.588539</td>\n",
       "      <td>0.112185</td>\n",
       "      <td>0.6055</td>\n",
       "    </tr>\n",
       "    <tr>\n",
       "      <th>6</th>\n",
       "      <td>g13_about</td>\n",
       "      <td>Failed</td>\n",
       "      <td>4.618625e-05</td>\n",
       "      <td>End Year, Industry, State, Year founded</td>\n",
       "      <td>0.724298</td>\n",
       "      <td>0.468894</td>\n",
       "      <td>0.6055</td>\n",
       "    </tr>\n",
       "    <tr>\n",
       "      <th>7</th>\n",
       "      <td>g13_news</td>\n",
       "      <td>Failed</td>\n",
       "      <td>-3.529256e-05</td>\n",
       "      <td>End Year, Industry, State, Year founded</td>\n",
       "      <td>-0.528406</td>\n",
       "      <td>0.597225</td>\n",
       "      <td>0.6055</td>\n",
       "    </tr>\n",
       "    <tr>\n",
       "      <th>8</th>\n",
       "      <td>g13_faq</td>\n",
       "      <td>Failed</td>\n",
       "      <td>2.512887e-04</td>\n",
       "      <td>End Year, Industry, State, Year founded</td>\n",
       "      <td>2.558701</td>\n",
       "      <td>0.010516</td>\n",
       "      <td>0.6056</td>\n",
       "    </tr>\n",
       "    <tr>\n",
       "      <th>9</th>\n",
       "      <td>g13_call_to_action</td>\n",
       "      <td>Failed</td>\n",
       "      <td>1.769981e-04</td>\n",
       "      <td>End Year, Industry, State, Year founded</td>\n",
       "      <td>2.542449</td>\n",
       "      <td>0.011017</td>\n",
       "      <td>0.6056</td>\n",
       "    </tr>\n",
       "    <tr>\n",
       "      <th>10</th>\n",
       "      <td>g13_testimonial</td>\n",
       "      <td>Failed</td>\n",
       "      <td>-9.076095e-06</td>\n",
       "      <td>End Year, Industry, State, Year founded</td>\n",
       "      <td>-0.066875</td>\n",
       "      <td>0.946682</td>\n",
       "      <td>0.6055</td>\n",
       "    </tr>\n",
       "    <tr>\n",
       "      <th>11</th>\n",
       "      <td>g13_title</td>\n",
       "      <td>Failed</td>\n",
       "      <td>-8.345466e-05</td>\n",
       "      <td>End Year, Industry, State, Year founded</td>\n",
       "      <td>-0.988512</td>\n",
       "      <td>0.322917</td>\n",
       "      <td>0.6055</td>\n",
       "    </tr>\n",
       "    <tr>\n",
       "      <th>12</th>\n",
       "      <td>g13_description</td>\n",
       "      <td>Failed</td>\n",
       "      <td>-4.401959e-05</td>\n",
       "      <td>End Year, Industry, State, Year founded</td>\n",
       "      <td>-1.074192</td>\n",
       "      <td>0.282753</td>\n",
       "      <td>0.6055</td>\n",
       "    </tr>\n",
       "    <tr>\n",
       "      <th>13</th>\n",
       "      <td>g13_keywords</td>\n",
       "      <td>Failed</td>\n",
       "      <td>2.886615e-05</td>\n",
       "      <td>End Year, Industry, State, Year founded</td>\n",
       "      <td>0.658954</td>\n",
       "      <td>0.509935</td>\n",
       "      <td>0.6055</td>\n",
       "    </tr>\n",
       "    <tr>\n",
       "      <th>14</th>\n",
       "      <td>g13_p_count</td>\n",
       "      <td>Failed</td>\n",
       "      <td>-2.816178e-06</td>\n",
       "      <td>End Year, Industry, State, Year founded</td>\n",
       "      <td>-1.198089</td>\n",
       "      <td>0.230900</td>\n",
       "      <td>0.6055</td>\n",
       "    </tr>\n",
       "    <tr>\n",
       "      <th>15</th>\n",
       "      <td>g13_h_count</td>\n",
       "      <td>Failed</td>\n",
       "      <td>-7.285333e-06</td>\n",
       "      <td>End Year, Industry, State, Year founded</td>\n",
       "      <td>-2.239074</td>\n",
       "      <td>0.025165</td>\n",
       "      <td>0.6056</td>\n",
       "    </tr>\n",
       "    <tr>\n",
       "      <th>16</th>\n",
       "      <td>g13_img_count</td>\n",
       "      <td>Failed</td>\n",
       "      <td>-9.636768e-07</td>\n",
       "      <td>End Year, Industry, State, Year founded</td>\n",
       "      <td>-0.644285</td>\n",
       "      <td>0.519400</td>\n",
       "      <td>0.6055</td>\n",
       "    </tr>\n",
       "    <tr>\n",
       "      <th>17</th>\n",
       "      <td>g13_a_count</td>\n",
       "      <td>Failed</td>\n",
       "      <td>3.087227e-07</td>\n",
       "      <td>End Year, Industry, State, Year founded</td>\n",
       "      <td>0.511780</td>\n",
       "      <td>0.608812</td>\n",
       "      <td>0.6055</td>\n",
       "    </tr>\n",
       "    <tr>\n",
       "      <th>18</th>\n",
       "      <td>g13_table_count</td>\n",
       "      <td>Failed</td>\n",
       "      <td>7.438240e-06</td>\n",
       "      <td>End Year, Industry, State, Year founded</td>\n",
       "      <td>1.347209</td>\n",
       "      <td>0.177932</td>\n",
       "      <td>0.6055</td>\n",
       "    </tr>\n",
       "    <tr>\n",
       "      <th>19</th>\n",
       "      <td>g13_form_count</td>\n",
       "      <td>Failed</td>\n",
       "      <td>-1.187690e-06</td>\n",
       "      <td>End Year, Industry, State, Year founded</td>\n",
       "      <td>-0.086760</td>\n",
       "      <td>0.930864</td>\n",
       "      <td>0.6055</td>\n",
       "    </tr>\n",
       "    <tr>\n",
       "      <th>20</th>\n",
       "      <td>g13_script_count</td>\n",
       "      <td>Failed</td>\n",
       "      <td>-1.755352e-05</td>\n",
       "      <td>End Year, Industry, State, Year founded</td>\n",
       "      <td>-1.749840</td>\n",
       "      <td>0.080165</td>\n",
       "      <td>0.6055</td>\n",
       "    </tr>\n",
       "  </tbody>\n",
       "</table>\n",
       "</div>"
      ],
      "text/plain": [
       "                      X       Y   Coefficient  \\\n",
       "0   g13_website_size_kb  Failed  6.227999e-08   \n",
       "1           g13_careers  Failed -2.013333e-05   \n",
       "2              g13_blog  Failed  2.681028e-04   \n",
       "3             g13_login  Failed  2.211280e-04   \n",
       "4           g13_contact  Failed  9.643578e-05   \n",
       "5              g13_team  Failed -1.815571e-04   \n",
       "6             g13_about  Failed  4.618625e-05   \n",
       "7              g13_news  Failed -3.529256e-05   \n",
       "8               g13_faq  Failed  2.512887e-04   \n",
       "9    g13_call_to_action  Failed  1.769981e-04   \n",
       "10      g13_testimonial  Failed -9.076095e-06   \n",
       "11            g13_title  Failed -8.345466e-05   \n",
       "12      g13_description  Failed -4.401959e-05   \n",
       "13         g13_keywords  Failed  2.886615e-05   \n",
       "14          g13_p_count  Failed -2.816178e-06   \n",
       "15          g13_h_count  Failed -7.285333e-06   \n",
       "16        g13_img_count  Failed -9.636768e-07   \n",
       "17          g13_a_count  Failed  3.087227e-07   \n",
       "18      g13_table_count  Failed  7.438240e-06   \n",
       "19       g13_form_count  Failed -1.187690e-06   \n",
       "20     g13_script_count  Failed -1.755352e-05   \n",
       "\n",
       "                                    Control         T    PValue  RSquared  \n",
       "0   End Year, Industry, State, Year founded  1.285996  0.198463    0.6055  \n",
       "1   End Year, Industry, State, Year founded -0.304000  0.761132    0.6055  \n",
       "2   End Year, Industry, State, Year founded  3.361418  0.000777    0.6057  \n",
       "3   End Year, Industry, State, Year founded  2.562473  0.010402    0.6056  \n",
       "4   End Year, Industry, State, Year founded  1.588543  0.112183    0.6055  \n",
       "5   End Year, Industry, State, Year founded -1.588539  0.112185    0.6055  \n",
       "6   End Year, Industry, State, Year founded  0.724298  0.468894    0.6055  \n",
       "7   End Year, Industry, State, Year founded -0.528406  0.597225    0.6055  \n",
       "8   End Year, Industry, State, Year founded  2.558701  0.010516    0.6056  \n",
       "9   End Year, Industry, State, Year founded  2.542449  0.011017    0.6056  \n",
       "10  End Year, Industry, State, Year founded -0.066875  0.946682    0.6055  \n",
       "11  End Year, Industry, State, Year founded -0.988512  0.322917    0.6055  \n",
       "12  End Year, Industry, State, Year founded -1.074192  0.282753    0.6055  \n",
       "13  End Year, Industry, State, Year founded  0.658954  0.509935    0.6055  \n",
       "14  End Year, Industry, State, Year founded -1.198089  0.230900    0.6055  \n",
       "15  End Year, Industry, State, Year founded -2.239074  0.025165    0.6056  \n",
       "16  End Year, Industry, State, Year founded -0.644285  0.519400    0.6055  \n",
       "17  End Year, Industry, State, Year founded  0.511780  0.608812    0.6055  \n",
       "18  End Year, Industry, State, Year founded  1.347209  0.177932    0.6055  \n",
       "19  End Year, Industry, State, Year founded -0.086760  0.930864    0.6055  \n",
       "20  End Year, Industry, State, Year founded -1.749840  0.080165    0.6055  "
      ]
     },
     "execution_count": 23,
     "metadata": {},
     "output_type": "execute_result"
    }
   ],
   "source": [
    "master_reg(start=1, end=3, lifespanControl=5)"
   ]
  },
  {
   "cell_type": "markdown",
   "id": "106bc969",
   "metadata": {},
   "source": [
    "## Time Between Captures"
   ]
  },
  {
   "cell_type": "markdown",
   "id": "0e4418f6",
   "metadata": {},
   "source": [
    "What's the difference in time betweent the last capture and the second-to-last capture?"
   ]
  },
  {
   "cell_type": "code",
   "execution_count": 35,
   "id": "24a33642",
   "metadata": {},
   "outputs": [],
   "source": [
    "html = html.sort_values(['entityid', 'capture_yr', 'capture_m'])"
   ]
  },
  {
   "cell_type": "code",
   "execution_count": 36,
   "id": "a3e4b350",
   "metadata": {},
   "outputs": [
    {
     "data": {
      "text/plain": [
       "Index(['entityid', 'yr_from_start', 'capture_yr', 'capture_m', 'file_path',\n",
       "       'file_exists', 'website_size_kb', 'careers', 'blog', 'login', 'contact',\n",
       "       'team', 'about', 'news', 'faq', 'call_to_action', 'testimonial',\n",
       "       'title', 'description', 'keywords', 'p_count', 'h_count', 'img_count',\n",
       "       'a_count', 'table_count', 'form_count', 'script_count', 'entityname',\n",
       "       'new_industrygroup', 'state', 'weburl', 'pb_companyid', 'startdate',\n",
       "       'lastVC', 'ownershipstatus', 'exit_date', 'Failed', 'has_exit',\n",
       "       'end_yr', 'start_yr', 'lifespan', 'websize_log', 'a_log',\n",
       "       'g13_website_size_kb', 'g13_careers', 'g13_blog', 'g13_login',\n",
       "       'g13_contact', 'g13_team', 'g13_about', 'g13_news', 'g13_faq',\n",
       "       'g13_call_to_action', 'g13_testimonial', 'g13_title', 'g13_description',\n",
       "       'g13_keywords', 'g13_p_count', 'g13_h_count', 'g13_img_count',\n",
       "       'g13_a_count', 'g13_table_count', 'g13_form_count', 'g13_script_count',\n",
       "       'td_01'],\n",
       "      dtype='object')"
      ]
     },
     "execution_count": 36,
     "metadata": {},
     "output_type": "execute_result"
    }
   ],
   "source": [
    "html.columns"
   ]
  },
  {
   "cell_type": "code",
   "execution_count": 37,
   "id": "8f0d8637",
   "metadata": {},
   "outputs": [
    {
     "data": {
      "text/plain": [
       "count    245778.000000\n",
       "mean          5.998779\n",
       "std           3.574068\n",
       "min           1.000000\n",
       "25%           3.000000\n",
       "50%           6.000000\n",
       "75%           9.000000\n",
       "max          12.000000\n",
       "Name: capture_m, dtype: float64"
      ]
     },
     "execution_count": 37,
     "metadata": {},
     "output_type": "execute_result"
    }
   ],
   "source": [
    "html.capture_m.describe()"
   ]
  },
  {
   "cell_type": "code",
   "execution_count": 38,
   "id": "07a9d607",
   "metadata": {},
   "outputs": [],
   "source": [
    "def find_time_diff(x, start, end):\n",
    "    if len(x.index) > end:\n",
    "        start_yr = x.iloc[start]['capture_yr'] * 12 # Convert to months\n",
    "        start_m = x.iloc[start]['capture_m']\n",
    "        start_total = start_yr + start_m\n",
    "        \n",
    "        end_yr = x.iloc[end]['capture_yr'] * 12 # Convert to months\n",
    "        end_m = x.iloc[end]['capture_m']\n",
    "        end_total = end_yr + end_m\n",
    "\n",
    "        total_m_diff = end_total - start_total\n",
    "        \n",
    "        return total_m_diff\n",
    "        "
   ]
  },
  {
   "cell_type": "code",
   "execution_count": 39,
   "id": "0cb678df",
   "metadata": {},
   "outputs": [],
   "source": [
    "html['td_01'] = html.groupby('entityid').apply(lambda x: find_time_diff(x, 0, 1))"
   ]
  },
  {
   "cell_type": "code",
   "execution_count": 40,
   "id": "09561971",
   "metadata": {},
   "outputs": [
    {
     "data": {
      "text/plain": [
       "count    8208.000000\n",
       "mean        5.120127\n",
       "std         6.964999\n",
       "min         1.000000\n",
       "25%         2.000000\n",
       "50%         4.000000\n",
       "75%         6.000000\n",
       "max       162.000000\n",
       "Name: td_01, dtype: float64"
      ]
     },
     "execution_count": 40,
     "metadata": {},
     "output_type": "execute_result"
    }
   ],
   "source": [
    "html['td_01'].describe()"
   ]
  },
  {
   "cell_type": "code",
   "execution_count": 44,
   "id": "fd9d25d5",
   "metadata": {},
   "outputs": [
    {
     "data": {
      "text/plain": [
       "1.0"
      ]
     },
     "execution_count": 44,
     "metadata": {},
     "output_type": "execute_result"
    }
   ],
   "source": [
    "html['td_01'].min()"
   ]
  },
  {
   "cell_type": "code",
   "execution_count": 46,
   "id": "73ff50be",
   "metadata": {},
   "outputs": [],
   "source": [
    "data = html.groupby('entityid').first()"
   ]
  },
  {
   "cell_type": "markdown",
   "id": "e625d695",
   "metadata": {},
   "source": [
    "What's the difference in time between the first capture and the second capture?"
   ]
  },
  {
   "cell_type": "markdown",
   "id": "b86ae0e5",
   "metadata": {},
   "source": [
    "What's the average difference in time between each capture?"
   ]
  },
  {
   "cell_type": "markdown",
   "id": "fbcfc59c",
   "metadata": {},
   "source": [
    "What's the difference in time between the second and third capture?"
   ]
  },
  {
   "cell_type": "markdown",
   "id": "b2b79ae4",
   "metadata": {},
   "source": [
    "Make cols"
   ]
  },
  {
   "cell_type": "markdown",
   "id": "ea0bcedb",
   "metadata": {},
   "source": [
    "## Number of Captures"
   ]
  },
  {
   "cell_type": "code",
   "execution_count": null,
   "id": "be113321",
   "metadata": {},
   "outputs": [],
   "source": []
  },
  {
   "cell_type": "code",
   "execution_count": 66,
   "id": "b4de8e27",
   "metadata": {},
   "outputs": [
    {
     "data": {
      "text/html": [
       "<div>\n",
       "<style scoped>\n",
       "    .dataframe tbody tr th:only-of-type {\n",
       "        vertical-align: middle;\n",
       "    }\n",
       "\n",
       "    .dataframe tbody tr th {\n",
       "        vertical-align: top;\n",
       "    }\n",
       "\n",
       "    .dataframe thead th {\n",
       "        text-align: right;\n",
       "    }\n",
       "</style>\n",
       "<table border=\"1\" class=\"dataframe\">\n",
       "  <thead>\n",
       "    <tr style=\"text-align: right;\">\n",
       "      <th></th>\n",
       "      <th>yr_from_start</th>\n",
       "      <th>capture_yr</th>\n",
       "      <th>capture_m</th>\n",
       "      <th>file_path</th>\n",
       "      <th>file_exists</th>\n",
       "      <th>website_size_kb</th>\n",
       "      <th>careers</th>\n",
       "      <th>blog</th>\n",
       "      <th>login</th>\n",
       "      <th>contact</th>\n",
       "      <th>team</th>\n",
       "      <th>about</th>\n",
       "      <th>news</th>\n",
       "      <th>faq</th>\n",
       "      <th>call_to_action</th>\n",
       "      <th>testimonial</th>\n",
       "      <th>title</th>\n",
       "      <th>description</th>\n",
       "      <th>keywords</th>\n",
       "      <th>p_count</th>\n",
       "      <th>h_count</th>\n",
       "      <th>img_count</th>\n",
       "      <th>a_count</th>\n",
       "      <th>table_count</th>\n",
       "      <th>form_count</th>\n",
       "      <th>script_count</th>\n",
       "      <th>entityname</th>\n",
       "      <th>new_industrygroup</th>\n",
       "      <th>state</th>\n",
       "      <th>weburl</th>\n",
       "      <th>pb_companyid</th>\n",
       "      <th>startdate</th>\n",
       "      <th>lastVC</th>\n",
       "      <th>ownershipstatus</th>\n",
       "      <th>exit_date</th>\n",
       "      <th>Failed</th>\n",
       "      <th>has_exit</th>\n",
       "      <th>end_yr</th>\n",
       "      <th>start_yr</th>\n",
       "      <th>lifespan</th>\n",
       "      <th>websize_log</th>\n",
       "      <th>a_log</th>\n",
       "      <th>g13_website_size_kb</th>\n",
       "      <th>g13_careers</th>\n",
       "      <th>g13_blog</th>\n",
       "      <th>g13_login</th>\n",
       "      <th>g13_contact</th>\n",
       "      <th>g13_team</th>\n",
       "      <th>g13_about</th>\n",
       "      <th>g13_news</th>\n",
       "      <th>g13_faq</th>\n",
       "      <th>g13_call_to_action</th>\n",
       "      <th>g13_testimonial</th>\n",
       "      <th>g13_title</th>\n",
       "      <th>g13_description</th>\n",
       "      <th>g13_keywords</th>\n",
       "      <th>g13_p_count</th>\n",
       "      <th>g13_h_count</th>\n",
       "      <th>g13_img_count</th>\n",
       "      <th>g13_a_count</th>\n",
       "      <th>g13_table_count</th>\n",
       "      <th>g13_form_count</th>\n",
       "      <th>g13_script_count</th>\n",
       "      <th>td_01</th>\n",
       "      <th>num_captures</th>\n",
       "    </tr>\n",
       "    <tr>\n",
       "      <th>entityid</th>\n",
       "      <th></th>\n",
       "      <th></th>\n",
       "      <th></th>\n",
       "      <th></th>\n",
       "      <th></th>\n",
       "      <th></th>\n",
       "      <th></th>\n",
       "      <th></th>\n",
       "      <th></th>\n",
       "      <th></th>\n",
       "      <th></th>\n",
       "      <th></th>\n",
       "      <th></th>\n",
       "      <th></th>\n",
       "      <th></th>\n",
       "      <th></th>\n",
       "      <th></th>\n",
       "      <th></th>\n",
       "      <th></th>\n",
       "      <th></th>\n",
       "      <th></th>\n",
       "      <th></th>\n",
       "      <th></th>\n",
       "      <th></th>\n",
       "      <th></th>\n",
       "      <th></th>\n",
       "      <th></th>\n",
       "      <th></th>\n",
       "      <th></th>\n",
       "      <th></th>\n",
       "      <th></th>\n",
       "      <th></th>\n",
       "      <th></th>\n",
       "      <th></th>\n",
       "      <th></th>\n",
       "      <th></th>\n",
       "      <th></th>\n",
       "      <th></th>\n",
       "      <th></th>\n",
       "      <th></th>\n",
       "      <th></th>\n",
       "      <th></th>\n",
       "      <th></th>\n",
       "      <th></th>\n",
       "      <th></th>\n",
       "      <th></th>\n",
       "      <th></th>\n",
       "      <th></th>\n",
       "      <th></th>\n",
       "      <th></th>\n",
       "      <th></th>\n",
       "      <th></th>\n",
       "      <th></th>\n",
       "      <th></th>\n",
       "      <th></th>\n",
       "      <th></th>\n",
       "      <th></th>\n",
       "      <th></th>\n",
       "      <th></th>\n",
       "      <th></th>\n",
       "      <th></th>\n",
       "      <th></th>\n",
       "      <th></th>\n",
       "      <th></th>\n",
       "      <th></th>\n",
       "    </tr>\n",
       "  </thead>\n",
       "  <tbody>\n",
       "    <tr>\n",
       "      <th>53131</th>\n",
       "      <td>6</td>\n",
       "      <td>6</td>\n",
       "      <td>6</td>\n",
       "      <td>6</td>\n",
       "      <td>6</td>\n",
       "      <td>6</td>\n",
       "      <td>6</td>\n",
       "      <td>6</td>\n",
       "      <td>6</td>\n",
       "      <td>6</td>\n",
       "      <td>6</td>\n",
       "      <td>6</td>\n",
       "      <td>6</td>\n",
       "      <td>6</td>\n",
       "      <td>6</td>\n",
       "      <td>6</td>\n",
       "      <td>6</td>\n",
       "      <td>6</td>\n",
       "      <td>6</td>\n",
       "      <td>6</td>\n",
       "      <td>6</td>\n",
       "      <td>6</td>\n",
       "      <td>6</td>\n",
       "      <td>6</td>\n",
       "      <td>6</td>\n",
       "      <td>6</td>\n",
       "      <td>6</td>\n",
       "      <td>6</td>\n",
       "      <td>6</td>\n",
       "      <td>6</td>\n",
       "      <td>0</td>\n",
       "      <td>6</td>\n",
       "      <td>6</td>\n",
       "      <td>6</td>\n",
       "      <td>6</td>\n",
       "      <td>6</td>\n",
       "      <td>6</td>\n",
       "      <td>6</td>\n",
       "      <td>6</td>\n",
       "      <td>6</td>\n",
       "      <td>6</td>\n",
       "      <td>6</td>\n",
       "      <td>6</td>\n",
       "      <td>6</td>\n",
       "      <td>6</td>\n",
       "      <td>6</td>\n",
       "      <td>6</td>\n",
       "      <td>6</td>\n",
       "      <td>6</td>\n",
       "      <td>6</td>\n",
       "      <td>6</td>\n",
       "      <td>6</td>\n",
       "      <td>6</td>\n",
       "      <td>6</td>\n",
       "      <td>6</td>\n",
       "      <td>6</td>\n",
       "      <td>6</td>\n",
       "      <td>6</td>\n",
       "      <td>6</td>\n",
       "      <td>6</td>\n",
       "      <td>6</td>\n",
       "      <td>6</td>\n",
       "      <td>6</td>\n",
       "      <td>0</td>\n",
       "      <td>0</td>\n",
       "    </tr>\n",
       "    <tr>\n",
       "      <th>53138</th>\n",
       "      <td>13</td>\n",
       "      <td>13</td>\n",
       "      <td>13</td>\n",
       "      <td>13</td>\n",
       "      <td>13</td>\n",
       "      <td>13</td>\n",
       "      <td>13</td>\n",
       "      <td>13</td>\n",
       "      <td>13</td>\n",
       "      <td>13</td>\n",
       "      <td>13</td>\n",
       "      <td>13</td>\n",
       "      <td>13</td>\n",
       "      <td>13</td>\n",
       "      <td>13</td>\n",
       "      <td>13</td>\n",
       "      <td>13</td>\n",
       "      <td>13</td>\n",
       "      <td>13</td>\n",
       "      <td>13</td>\n",
       "      <td>13</td>\n",
       "      <td>13</td>\n",
       "      <td>13</td>\n",
       "      <td>13</td>\n",
       "      <td>13</td>\n",
       "      <td>13</td>\n",
       "      <td>13</td>\n",
       "      <td>13</td>\n",
       "      <td>13</td>\n",
       "      <td>13</td>\n",
       "      <td>0</td>\n",
       "      <td>13</td>\n",
       "      <td>13</td>\n",
       "      <td>13</td>\n",
       "      <td>13</td>\n",
       "      <td>13</td>\n",
       "      <td>13</td>\n",
       "      <td>13</td>\n",
       "      <td>13</td>\n",
       "      <td>13</td>\n",
       "      <td>13</td>\n",
       "      <td>13</td>\n",
       "      <td>13</td>\n",
       "      <td>13</td>\n",
       "      <td>13</td>\n",
       "      <td>13</td>\n",
       "      <td>13</td>\n",
       "      <td>13</td>\n",
       "      <td>13</td>\n",
       "      <td>13</td>\n",
       "      <td>13</td>\n",
       "      <td>13</td>\n",
       "      <td>13</td>\n",
       "      <td>13</td>\n",
       "      <td>13</td>\n",
       "      <td>13</td>\n",
       "      <td>13</td>\n",
       "      <td>13</td>\n",
       "      <td>13</td>\n",
       "      <td>13</td>\n",
       "      <td>13</td>\n",
       "      <td>13</td>\n",
       "      <td>13</td>\n",
       "      <td>0</td>\n",
       "      <td>0</td>\n",
       "    </tr>\n",
       "    <tr>\n",
       "      <th>53139</th>\n",
       "      <td>10</td>\n",
       "      <td>10</td>\n",
       "      <td>10</td>\n",
       "      <td>10</td>\n",
       "      <td>10</td>\n",
       "      <td>10</td>\n",
       "      <td>10</td>\n",
       "      <td>10</td>\n",
       "      <td>10</td>\n",
       "      <td>10</td>\n",
       "      <td>10</td>\n",
       "      <td>10</td>\n",
       "      <td>10</td>\n",
       "      <td>10</td>\n",
       "      <td>10</td>\n",
       "      <td>10</td>\n",
       "      <td>10</td>\n",
       "      <td>10</td>\n",
       "      <td>10</td>\n",
       "      <td>10</td>\n",
       "      <td>10</td>\n",
       "      <td>10</td>\n",
       "      <td>10</td>\n",
       "      <td>10</td>\n",
       "      <td>10</td>\n",
       "      <td>10</td>\n",
       "      <td>10</td>\n",
       "      <td>10</td>\n",
       "      <td>10</td>\n",
       "      <td>10</td>\n",
       "      <td>0</td>\n",
       "      <td>10</td>\n",
       "      <td>10</td>\n",
       "      <td>10</td>\n",
       "      <td>0</td>\n",
       "      <td>10</td>\n",
       "      <td>10</td>\n",
       "      <td>10</td>\n",
       "      <td>10</td>\n",
       "      <td>10</td>\n",
       "      <td>10</td>\n",
       "      <td>10</td>\n",
       "      <td>10</td>\n",
       "      <td>10</td>\n",
       "      <td>10</td>\n",
       "      <td>10</td>\n",
       "      <td>10</td>\n",
       "      <td>10</td>\n",
       "      <td>10</td>\n",
       "      <td>10</td>\n",
       "      <td>10</td>\n",
       "      <td>10</td>\n",
       "      <td>10</td>\n",
       "      <td>10</td>\n",
       "      <td>10</td>\n",
       "      <td>10</td>\n",
       "      <td>10</td>\n",
       "      <td>10</td>\n",
       "      <td>10</td>\n",
       "      <td>10</td>\n",
       "      <td>10</td>\n",
       "      <td>10</td>\n",
       "      <td>10</td>\n",
       "      <td>0</td>\n",
       "      <td>0</td>\n",
       "    </tr>\n",
       "    <tr>\n",
       "      <th>53142</th>\n",
       "      <td>16</td>\n",
       "      <td>16</td>\n",
       "      <td>16</td>\n",
       "      <td>16</td>\n",
       "      <td>16</td>\n",
       "      <td>16</td>\n",
       "      <td>16</td>\n",
       "      <td>16</td>\n",
       "      <td>16</td>\n",
       "      <td>16</td>\n",
       "      <td>16</td>\n",
       "      <td>16</td>\n",
       "      <td>16</td>\n",
       "      <td>16</td>\n",
       "      <td>16</td>\n",
       "      <td>16</td>\n",
       "      <td>16</td>\n",
       "      <td>16</td>\n",
       "      <td>16</td>\n",
       "      <td>16</td>\n",
       "      <td>16</td>\n",
       "      <td>16</td>\n",
       "      <td>16</td>\n",
       "      <td>16</td>\n",
       "      <td>16</td>\n",
       "      <td>16</td>\n",
       "      <td>16</td>\n",
       "      <td>16</td>\n",
       "      <td>16</td>\n",
       "      <td>16</td>\n",
       "      <td>0</td>\n",
       "      <td>16</td>\n",
       "      <td>16</td>\n",
       "      <td>16</td>\n",
       "      <td>16</td>\n",
       "      <td>16</td>\n",
       "      <td>16</td>\n",
       "      <td>16</td>\n",
       "      <td>16</td>\n",
       "      <td>16</td>\n",
       "      <td>16</td>\n",
       "      <td>16</td>\n",
       "      <td>16</td>\n",
       "      <td>16</td>\n",
       "      <td>16</td>\n",
       "      <td>16</td>\n",
       "      <td>16</td>\n",
       "      <td>16</td>\n",
       "      <td>16</td>\n",
       "      <td>16</td>\n",
       "      <td>16</td>\n",
       "      <td>16</td>\n",
       "      <td>16</td>\n",
       "      <td>16</td>\n",
       "      <td>16</td>\n",
       "      <td>16</td>\n",
       "      <td>16</td>\n",
       "      <td>16</td>\n",
       "      <td>16</td>\n",
       "      <td>16</td>\n",
       "      <td>16</td>\n",
       "      <td>16</td>\n",
       "      <td>16</td>\n",
       "      <td>0</td>\n",
       "      <td>0</td>\n",
       "    </tr>\n",
       "    <tr>\n",
       "      <th>53147</th>\n",
       "      <td>12</td>\n",
       "      <td>12</td>\n",
       "      <td>12</td>\n",
       "      <td>12</td>\n",
       "      <td>12</td>\n",
       "      <td>12</td>\n",
       "      <td>12</td>\n",
       "      <td>12</td>\n",
       "      <td>12</td>\n",
       "      <td>12</td>\n",
       "      <td>12</td>\n",
       "      <td>12</td>\n",
       "      <td>12</td>\n",
       "      <td>12</td>\n",
       "      <td>12</td>\n",
       "      <td>12</td>\n",
       "      <td>12</td>\n",
       "      <td>12</td>\n",
       "      <td>12</td>\n",
       "      <td>12</td>\n",
       "      <td>12</td>\n",
       "      <td>12</td>\n",
       "      <td>12</td>\n",
       "      <td>12</td>\n",
       "      <td>12</td>\n",
       "      <td>12</td>\n",
       "      <td>12</td>\n",
       "      <td>12</td>\n",
       "      <td>12</td>\n",
       "      <td>12</td>\n",
       "      <td>0</td>\n",
       "      <td>12</td>\n",
       "      <td>12</td>\n",
       "      <td>12</td>\n",
       "      <td>12</td>\n",
       "      <td>12</td>\n",
       "      <td>12</td>\n",
       "      <td>12</td>\n",
       "      <td>12</td>\n",
       "      <td>12</td>\n",
       "      <td>12</td>\n",
       "      <td>12</td>\n",
       "      <td>12</td>\n",
       "      <td>12</td>\n",
       "      <td>12</td>\n",
       "      <td>12</td>\n",
       "      <td>12</td>\n",
       "      <td>12</td>\n",
       "      <td>12</td>\n",
       "      <td>12</td>\n",
       "      <td>12</td>\n",
       "      <td>12</td>\n",
       "      <td>12</td>\n",
       "      <td>12</td>\n",
       "      <td>12</td>\n",
       "      <td>12</td>\n",
       "      <td>12</td>\n",
       "      <td>12</td>\n",
       "      <td>12</td>\n",
       "      <td>12</td>\n",
       "      <td>12</td>\n",
       "      <td>12</td>\n",
       "      <td>12</td>\n",
       "      <td>0</td>\n",
       "      <td>0</td>\n",
       "    </tr>\n",
       "    <tr>\n",
       "      <th>...</th>\n",
       "      <td>...</td>\n",
       "      <td>...</td>\n",
       "      <td>...</td>\n",
       "      <td>...</td>\n",
       "      <td>...</td>\n",
       "      <td>...</td>\n",
       "      <td>...</td>\n",
       "      <td>...</td>\n",
       "      <td>...</td>\n",
       "      <td>...</td>\n",
       "      <td>...</td>\n",
       "      <td>...</td>\n",
       "      <td>...</td>\n",
       "      <td>...</td>\n",
       "      <td>...</td>\n",
       "      <td>...</td>\n",
       "      <td>...</td>\n",
       "      <td>...</td>\n",
       "      <td>...</td>\n",
       "      <td>...</td>\n",
       "      <td>...</td>\n",
       "      <td>...</td>\n",
       "      <td>...</td>\n",
       "      <td>...</td>\n",
       "      <td>...</td>\n",
       "      <td>...</td>\n",
       "      <td>...</td>\n",
       "      <td>...</td>\n",
       "      <td>...</td>\n",
       "      <td>...</td>\n",
       "      <td>...</td>\n",
       "      <td>...</td>\n",
       "      <td>...</td>\n",
       "      <td>...</td>\n",
       "      <td>...</td>\n",
       "      <td>...</td>\n",
       "      <td>...</td>\n",
       "      <td>...</td>\n",
       "      <td>...</td>\n",
       "      <td>...</td>\n",
       "      <td>...</td>\n",
       "      <td>...</td>\n",
       "      <td>...</td>\n",
       "      <td>...</td>\n",
       "      <td>...</td>\n",
       "      <td>...</td>\n",
       "      <td>...</td>\n",
       "      <td>...</td>\n",
       "      <td>...</td>\n",
       "      <td>...</td>\n",
       "      <td>...</td>\n",
       "      <td>...</td>\n",
       "      <td>...</td>\n",
       "      <td>...</td>\n",
       "      <td>...</td>\n",
       "      <td>...</td>\n",
       "      <td>...</td>\n",
       "      <td>...</td>\n",
       "      <td>...</td>\n",
       "      <td>...</td>\n",
       "      <td>...</td>\n",
       "      <td>...</td>\n",
       "      <td>...</td>\n",
       "      <td>...</td>\n",
       "      <td>...</td>\n",
       "    </tr>\n",
       "    <tr>\n",
       "      <th>1051887269</th>\n",
       "      <td>3</td>\n",
       "      <td>3</td>\n",
       "      <td>3</td>\n",
       "      <td>3</td>\n",
       "      <td>3</td>\n",
       "      <td>3</td>\n",
       "      <td>3</td>\n",
       "      <td>3</td>\n",
       "      <td>3</td>\n",
       "      <td>3</td>\n",
       "      <td>3</td>\n",
       "      <td>3</td>\n",
       "      <td>3</td>\n",
       "      <td>3</td>\n",
       "      <td>3</td>\n",
       "      <td>3</td>\n",
       "      <td>3</td>\n",
       "      <td>3</td>\n",
       "      <td>3</td>\n",
       "      <td>3</td>\n",
       "      <td>3</td>\n",
       "      <td>3</td>\n",
       "      <td>3</td>\n",
       "      <td>3</td>\n",
       "      <td>3</td>\n",
       "      <td>3</td>\n",
       "      <td>3</td>\n",
       "      <td>3</td>\n",
       "      <td>3</td>\n",
       "      <td>3</td>\n",
       "      <td>0</td>\n",
       "      <td>0</td>\n",
       "      <td>3</td>\n",
       "      <td>3</td>\n",
       "      <td>0</td>\n",
       "      <td>3</td>\n",
       "      <td>3</td>\n",
       "      <td>3</td>\n",
       "      <td>3</td>\n",
       "      <td>3</td>\n",
       "      <td>3</td>\n",
       "      <td>3</td>\n",
       "      <td>0</td>\n",
       "      <td>0</td>\n",
       "      <td>0</td>\n",
       "      <td>0</td>\n",
       "      <td>0</td>\n",
       "      <td>0</td>\n",
       "      <td>0</td>\n",
       "      <td>0</td>\n",
       "      <td>0</td>\n",
       "      <td>0</td>\n",
       "      <td>0</td>\n",
       "      <td>0</td>\n",
       "      <td>0</td>\n",
       "      <td>0</td>\n",
       "      <td>0</td>\n",
       "      <td>0</td>\n",
       "      <td>0</td>\n",
       "      <td>0</td>\n",
       "      <td>0</td>\n",
       "      <td>0</td>\n",
       "      <td>0</td>\n",
       "      <td>0</td>\n",
       "      <td>0</td>\n",
       "    </tr>\n",
       "    <tr>\n",
       "      <th>1051920263</th>\n",
       "      <td>8</td>\n",
       "      <td>8</td>\n",
       "      <td>8</td>\n",
       "      <td>8</td>\n",
       "      <td>8</td>\n",
       "      <td>8</td>\n",
       "      <td>8</td>\n",
       "      <td>8</td>\n",
       "      <td>8</td>\n",
       "      <td>8</td>\n",
       "      <td>8</td>\n",
       "      <td>8</td>\n",
       "      <td>8</td>\n",
       "      <td>8</td>\n",
       "      <td>8</td>\n",
       "      <td>8</td>\n",
       "      <td>8</td>\n",
       "      <td>8</td>\n",
       "      <td>8</td>\n",
       "      <td>8</td>\n",
       "      <td>8</td>\n",
       "      <td>8</td>\n",
       "      <td>8</td>\n",
       "      <td>8</td>\n",
       "      <td>8</td>\n",
       "      <td>8</td>\n",
       "      <td>8</td>\n",
       "      <td>8</td>\n",
       "      <td>8</td>\n",
       "      <td>8</td>\n",
       "      <td>0</td>\n",
       "      <td>8</td>\n",
       "      <td>8</td>\n",
       "      <td>8</td>\n",
       "      <td>0</td>\n",
       "      <td>8</td>\n",
       "      <td>8</td>\n",
       "      <td>8</td>\n",
       "      <td>8</td>\n",
       "      <td>8</td>\n",
       "      <td>8</td>\n",
       "      <td>8</td>\n",
       "      <td>8</td>\n",
       "      <td>8</td>\n",
       "      <td>8</td>\n",
       "      <td>8</td>\n",
       "      <td>8</td>\n",
       "      <td>8</td>\n",
       "      <td>8</td>\n",
       "      <td>8</td>\n",
       "      <td>8</td>\n",
       "      <td>8</td>\n",
       "      <td>8</td>\n",
       "      <td>8</td>\n",
       "      <td>8</td>\n",
       "      <td>8</td>\n",
       "      <td>8</td>\n",
       "      <td>8</td>\n",
       "      <td>8</td>\n",
       "      <td>8</td>\n",
       "      <td>8</td>\n",
       "      <td>8</td>\n",
       "      <td>8</td>\n",
       "      <td>1</td>\n",
       "      <td>1</td>\n",
       "    </tr>\n",
       "    <tr>\n",
       "      <th>1052000966</th>\n",
       "      <td>7</td>\n",
       "      <td>7</td>\n",
       "      <td>7</td>\n",
       "      <td>7</td>\n",
       "      <td>7</td>\n",
       "      <td>7</td>\n",
       "      <td>7</td>\n",
       "      <td>7</td>\n",
       "      <td>7</td>\n",
       "      <td>7</td>\n",
       "      <td>7</td>\n",
       "      <td>7</td>\n",
       "      <td>7</td>\n",
       "      <td>7</td>\n",
       "      <td>7</td>\n",
       "      <td>7</td>\n",
       "      <td>7</td>\n",
       "      <td>7</td>\n",
       "      <td>7</td>\n",
       "      <td>7</td>\n",
       "      <td>7</td>\n",
       "      <td>7</td>\n",
       "      <td>7</td>\n",
       "      <td>7</td>\n",
       "      <td>7</td>\n",
       "      <td>7</td>\n",
       "      <td>7</td>\n",
       "      <td>7</td>\n",
       "      <td>7</td>\n",
       "      <td>7</td>\n",
       "      <td>0</td>\n",
       "      <td>7</td>\n",
       "      <td>7</td>\n",
       "      <td>7</td>\n",
       "      <td>0</td>\n",
       "      <td>7</td>\n",
       "      <td>7</td>\n",
       "      <td>7</td>\n",
       "      <td>7</td>\n",
       "      <td>7</td>\n",
       "      <td>7</td>\n",
       "      <td>7</td>\n",
       "      <td>7</td>\n",
       "      <td>7</td>\n",
       "      <td>7</td>\n",
       "      <td>7</td>\n",
       "      <td>7</td>\n",
       "      <td>7</td>\n",
       "      <td>7</td>\n",
       "      <td>7</td>\n",
       "      <td>7</td>\n",
       "      <td>7</td>\n",
       "      <td>7</td>\n",
       "      <td>7</td>\n",
       "      <td>7</td>\n",
       "      <td>7</td>\n",
       "      <td>7</td>\n",
       "      <td>7</td>\n",
       "      <td>7</td>\n",
       "      <td>7</td>\n",
       "      <td>7</td>\n",
       "      <td>7</td>\n",
       "      <td>7</td>\n",
       "      <td>0</td>\n",
       "      <td>0</td>\n",
       "    </tr>\n",
       "    <tr>\n",
       "      <th>1052193170</th>\n",
       "      <td>3</td>\n",
       "      <td>3</td>\n",
       "      <td>3</td>\n",
       "      <td>3</td>\n",
       "      <td>3</td>\n",
       "      <td>3</td>\n",
       "      <td>3</td>\n",
       "      <td>3</td>\n",
       "      <td>3</td>\n",
       "      <td>3</td>\n",
       "      <td>3</td>\n",
       "      <td>3</td>\n",
       "      <td>3</td>\n",
       "      <td>3</td>\n",
       "      <td>3</td>\n",
       "      <td>3</td>\n",
       "      <td>3</td>\n",
       "      <td>3</td>\n",
       "      <td>3</td>\n",
       "      <td>3</td>\n",
       "      <td>3</td>\n",
       "      <td>3</td>\n",
       "      <td>3</td>\n",
       "      <td>3</td>\n",
       "      <td>3</td>\n",
       "      <td>3</td>\n",
       "      <td>3</td>\n",
       "      <td>3</td>\n",
       "      <td>3</td>\n",
       "      <td>3</td>\n",
       "      <td>0</td>\n",
       "      <td>3</td>\n",
       "      <td>3</td>\n",
       "      <td>3</td>\n",
       "      <td>0</td>\n",
       "      <td>3</td>\n",
       "      <td>3</td>\n",
       "      <td>3</td>\n",
       "      <td>3</td>\n",
       "      <td>3</td>\n",
       "      <td>3</td>\n",
       "      <td>3</td>\n",
       "      <td>0</td>\n",
       "      <td>0</td>\n",
       "      <td>0</td>\n",
       "      <td>0</td>\n",
       "      <td>0</td>\n",
       "      <td>0</td>\n",
       "      <td>0</td>\n",
       "      <td>0</td>\n",
       "      <td>0</td>\n",
       "      <td>0</td>\n",
       "      <td>0</td>\n",
       "      <td>0</td>\n",
       "      <td>0</td>\n",
       "      <td>0</td>\n",
       "      <td>0</td>\n",
       "      <td>0</td>\n",
       "      <td>0</td>\n",
       "      <td>0</td>\n",
       "      <td>0</td>\n",
       "      <td>0</td>\n",
       "      <td>0</td>\n",
       "      <td>0</td>\n",
       "      <td>0</td>\n",
       "    </tr>\n",
       "    <tr>\n",
       "      <th>1052206355</th>\n",
       "      <td>12</td>\n",
       "      <td>12</td>\n",
       "      <td>12</td>\n",
       "      <td>12</td>\n",
       "      <td>12</td>\n",
       "      <td>12</td>\n",
       "      <td>12</td>\n",
       "      <td>12</td>\n",
       "      <td>12</td>\n",
       "      <td>12</td>\n",
       "      <td>12</td>\n",
       "      <td>12</td>\n",
       "      <td>12</td>\n",
       "      <td>12</td>\n",
       "      <td>12</td>\n",
       "      <td>12</td>\n",
       "      <td>12</td>\n",
       "      <td>12</td>\n",
       "      <td>12</td>\n",
       "      <td>12</td>\n",
       "      <td>12</td>\n",
       "      <td>12</td>\n",
       "      <td>12</td>\n",
       "      <td>12</td>\n",
       "      <td>12</td>\n",
       "      <td>12</td>\n",
       "      <td>12</td>\n",
       "      <td>12</td>\n",
       "      <td>12</td>\n",
       "      <td>12</td>\n",
       "      <td>0</td>\n",
       "      <td>12</td>\n",
       "      <td>12</td>\n",
       "      <td>12</td>\n",
       "      <td>0</td>\n",
       "      <td>12</td>\n",
       "      <td>12</td>\n",
       "      <td>12</td>\n",
       "      <td>12</td>\n",
       "      <td>12</td>\n",
       "      <td>12</td>\n",
       "      <td>12</td>\n",
       "      <td>12</td>\n",
       "      <td>12</td>\n",
       "      <td>12</td>\n",
       "      <td>12</td>\n",
       "      <td>12</td>\n",
       "      <td>12</td>\n",
       "      <td>12</td>\n",
       "      <td>12</td>\n",
       "      <td>12</td>\n",
       "      <td>12</td>\n",
       "      <td>12</td>\n",
       "      <td>12</td>\n",
       "      <td>12</td>\n",
       "      <td>12</td>\n",
       "      <td>12</td>\n",
       "      <td>12</td>\n",
       "      <td>12</td>\n",
       "      <td>12</td>\n",
       "      <td>12</td>\n",
       "      <td>12</td>\n",
       "      <td>12</td>\n",
       "      <td>0</td>\n",
       "      <td>0</td>\n",
       "    </tr>\n",
       "  </tbody>\n",
       "</table>\n",
       "<p>16795 rows × 65 columns</p>\n",
       "</div>"
      ],
      "text/plain": [
       "            yr_from_start  capture_yr  capture_m  file_path  file_exists  \\\n",
       "entityid                                                                   \n",
       "53131                   6           6          6          6            6   \n",
       "53138                  13          13         13         13           13   \n",
       "53139                  10          10         10         10           10   \n",
       "53142                  16          16         16         16           16   \n",
       "53147                  12          12         12         12           12   \n",
       "...                   ...         ...        ...        ...          ...   \n",
       "1051887269              3           3          3          3            3   \n",
       "1051920263              8           8          8          8            8   \n",
       "1052000966              7           7          7          7            7   \n",
       "1052193170              3           3          3          3            3   \n",
       "1052206355             12          12         12         12           12   \n",
       "\n",
       "            website_size_kb  careers  blog  login  contact  team  about  news  \\\n",
       "entityid                                                                        \n",
       "53131                     6        6     6      6        6     6      6     6   \n",
       "53138                    13       13    13     13       13    13     13    13   \n",
       "53139                    10       10    10     10       10    10     10    10   \n",
       "53142                    16       16    16     16       16    16     16    16   \n",
       "53147                    12       12    12     12       12    12     12    12   \n",
       "...                     ...      ...   ...    ...      ...   ...    ...   ...   \n",
       "1051887269                3        3     3      3        3     3      3     3   \n",
       "1051920263                8        8     8      8        8     8      8     8   \n",
       "1052000966                7        7     7      7        7     7      7     7   \n",
       "1052193170                3        3     3      3        3     3      3     3   \n",
       "1052206355               12       12    12     12       12    12     12    12   \n",
       "\n",
       "            faq  call_to_action  testimonial  title  description  keywords  \\\n",
       "entityid                                                                     \n",
       "53131         6               6            6      6            6         6   \n",
       "53138        13              13           13     13           13        13   \n",
       "53139        10              10           10     10           10        10   \n",
       "53142        16              16           16     16           16        16   \n",
       "53147        12              12           12     12           12        12   \n",
       "...         ...             ...          ...    ...          ...       ...   \n",
       "1051887269    3               3            3      3            3         3   \n",
       "1051920263    8               8            8      8            8         8   \n",
       "1052000966    7               7            7      7            7         7   \n",
       "1052193170    3               3            3      3            3         3   \n",
       "1052206355   12              12           12     12           12        12   \n",
       "\n",
       "            p_count  h_count  img_count  a_count  table_count  form_count  \\\n",
       "entityid                                                                    \n",
       "53131             6        6          6        6            6           6   \n",
       "53138            13       13         13       13           13          13   \n",
       "53139            10       10         10       10           10          10   \n",
       "53142            16       16         16       16           16          16   \n",
       "53147            12       12         12       12           12          12   \n",
       "...             ...      ...        ...      ...          ...         ...   \n",
       "1051887269        3        3          3        3            3           3   \n",
       "1051920263        8        8          8        8            8           8   \n",
       "1052000966        7        7          7        7            7           7   \n",
       "1052193170        3        3          3        3            3           3   \n",
       "1052206355       12       12         12       12           12          12   \n",
       "\n",
       "            script_count  entityname  new_industrygroup  state  weburl  \\\n",
       "entityid                                                                 \n",
       "53131                  6           6                  6      6       6   \n",
       "53138                 13          13                 13     13      13   \n",
       "53139                 10          10                 10     10      10   \n",
       "53142                 16          16                 16     16      16   \n",
       "53147                 12          12                 12     12      12   \n",
       "...                  ...         ...                ...    ...     ...   \n",
       "1051887269             3           3                  3      3       3   \n",
       "1051920263             8           8                  8      8       8   \n",
       "1052000966             7           7                  7      7       7   \n",
       "1052193170             3           3                  3      3       3   \n",
       "1052206355            12          12                 12     12      12   \n",
       "\n",
       "            pb_companyid  startdate  lastVC  ownershipstatus  exit_date  \\\n",
       "entityid                                                                  \n",
       "53131                  0          6       6                6          6   \n",
       "53138                  0         13      13               13         13   \n",
       "53139                  0         10      10               10          0   \n",
       "53142                  0         16      16               16         16   \n",
       "53147                  0         12      12               12         12   \n",
       "...                  ...        ...     ...              ...        ...   \n",
       "1051887269             0          0       3                3          0   \n",
       "1051920263             0          8       8                8          0   \n",
       "1052000966             0          7       7                7          0   \n",
       "1052193170             0          3       3                3          0   \n",
       "1052206355             0         12      12               12          0   \n",
       "\n",
       "            Failed  has_exit  end_yr  start_yr  lifespan  websize_log  a_log  \\\n",
       "entityid                                                                       \n",
       "53131            6         6       6         6         6            6      6   \n",
       "53138           13        13      13        13        13           13     13   \n",
       "53139           10        10      10        10        10           10     10   \n",
       "53142           16        16      16        16        16           16     16   \n",
       "53147           12        12      12        12        12           12     12   \n",
       "...            ...       ...     ...       ...       ...          ...    ...   \n",
       "1051887269       3         3       3         3         3            3      3   \n",
       "1051920263       8         8       8         8         8            8      8   \n",
       "1052000966       7         7       7         7         7            7      7   \n",
       "1052193170       3         3       3         3         3            3      3   \n",
       "1052206355      12        12      12        12        12           12     12   \n",
       "\n",
       "            g13_website_size_kb  g13_careers  g13_blog  g13_login  \\\n",
       "entityid                                                            \n",
       "53131                         6            6         6          6   \n",
       "53138                        13           13        13         13   \n",
       "53139                        10           10        10         10   \n",
       "53142                        16           16        16         16   \n",
       "53147                        12           12        12         12   \n",
       "...                         ...          ...       ...        ...   \n",
       "1051887269                    0            0         0          0   \n",
       "1051920263                    8            8         8          8   \n",
       "1052000966                    7            7         7          7   \n",
       "1052193170                    0            0         0          0   \n",
       "1052206355                   12           12        12         12   \n",
       "\n",
       "            g13_contact  g13_team  g13_about  g13_news  g13_faq  \\\n",
       "entityid                                                          \n",
       "53131                 6         6          6         6        6   \n",
       "53138                13        13         13        13       13   \n",
       "53139                10        10         10        10       10   \n",
       "53142                16        16         16        16       16   \n",
       "53147                12        12         12        12       12   \n",
       "...                 ...       ...        ...       ...      ...   \n",
       "1051887269            0         0          0         0        0   \n",
       "1051920263            8         8          8         8        8   \n",
       "1052000966            7         7          7         7        7   \n",
       "1052193170            0         0          0         0        0   \n",
       "1052206355           12        12         12        12       12   \n",
       "\n",
       "            g13_call_to_action  g13_testimonial  g13_title  g13_description  \\\n",
       "entityid                                                                      \n",
       "53131                        6                6          6                6   \n",
       "53138                       13               13         13               13   \n",
       "53139                       10               10         10               10   \n",
       "53142                       16               16         16               16   \n",
       "53147                       12               12         12               12   \n",
       "...                        ...              ...        ...              ...   \n",
       "1051887269                   0                0          0                0   \n",
       "1051920263                   8                8          8                8   \n",
       "1052000966                   7                7          7                7   \n",
       "1052193170                   0                0          0                0   \n",
       "1052206355                  12               12         12               12   \n",
       "\n",
       "            g13_keywords  g13_p_count  g13_h_count  g13_img_count  \\\n",
       "entityid                                                            \n",
       "53131                  6            6            6              6   \n",
       "53138                 13           13           13             13   \n",
       "53139                 10           10           10             10   \n",
       "53142                 16           16           16             16   \n",
       "53147                 12           12           12             12   \n",
       "...                  ...          ...          ...            ...   \n",
       "1051887269             0            0            0              0   \n",
       "1051920263             8            8            8              8   \n",
       "1052000966             7            7            7              7   \n",
       "1052193170             0            0            0              0   \n",
       "1052206355            12           12           12             12   \n",
       "\n",
       "            g13_a_count  g13_table_count  g13_form_count  g13_script_count  \\\n",
       "entityid                                                                     \n",
       "53131                 6                6               6                 6   \n",
       "53138                13               13              13                13   \n",
       "53139                10               10              10                10   \n",
       "53142                16               16              16                16   \n",
       "53147                12               12              12                12   \n",
       "...                 ...              ...             ...               ...   \n",
       "1051887269            0                0               0                 0   \n",
       "1051920263            8                8               8                 8   \n",
       "1052000966            7                7               7                 7   \n",
       "1052193170            0                0               0                 0   \n",
       "1052206355           12               12              12                12   \n",
       "\n",
       "            td_01  num_captures  \n",
       "entityid                         \n",
       "53131           0             0  \n",
       "53138           0             0  \n",
       "53139           0             0  \n",
       "53142           0             0  \n",
       "53147           0             0  \n",
       "...           ...           ...  \n",
       "1051887269      0             0  \n",
       "1051920263      1             1  \n",
       "1052000966      0             0  \n",
       "1052193170      0             0  \n",
       "1052206355      0             0  \n",
       "\n",
       "[16795 rows x 65 columns]"
      ]
     },
     "execution_count": 66,
     "metadata": {},
     "output_type": "execute_result"
    }
   ],
   "source": [
    "html.groupby('entityid').count()"
   ]
  },
  {
   "cell_type": "code",
   "execution_count": null,
   "id": "ea2caa38",
   "metadata": {},
   "outputs": [],
   "source": []
  },
  {
   "cell_type": "code",
   "execution_count": 65,
   "id": "ad02f054",
   "metadata": {},
   "outputs": [
    {
     "data": {
      "text/plain": [
       "18601    NaN\n",
       "18602    NaN\n",
       "18603    NaN\n",
       "18604    NaN\n",
       "18606    NaN\n",
       "          ..\n",
       "241700   NaN\n",
       "241701   NaN\n",
       "241702   NaN\n",
       "241703   NaN\n",
       "241704   NaN\n",
       "Name: num_captures, Length: 245778, dtype: float64"
      ]
     },
     "execution_count": 65,
     "metadata": {},
     "output_type": "execute_result"
    }
   ],
   "source": [
    "html['num_captures']"
   ]
  },
  {
   "cell_type": "code",
   "execution_count": 61,
   "id": "43c6ae3d",
   "metadata": {},
   "outputs": [
    {
     "data": {
      "text/plain": [
       "18601    NaN\n",
       "18602    NaN\n",
       "18603    NaN\n",
       "18604    NaN\n",
       "18606    NaN\n",
       "          ..\n",
       "241700   NaN\n",
       "241701   NaN\n",
       "241702   NaN\n",
       "241703   NaN\n",
       "241704   NaN\n",
       "Name: num_captures, Length: 245778, dtype: float64"
      ]
     },
     "execution_count": 61,
     "metadata": {},
     "output_type": "execute_result"
    }
   ],
   "source": [
    "html.num_captures"
   ]
  },
  {
   "cell_type": "code",
   "execution_count": null,
   "id": "a287c23a",
   "metadata": {},
   "outputs": [],
   "source": []
  },
  {
   "cell_type": "code",
   "execution_count": 58,
   "id": "876d6d74",
   "metadata": {},
   "outputs": [],
   "source": [
    "data = html.groupby('entityid').first()"
   ]
  },
  {
   "cell_type": "code",
   "execution_count": 60,
   "id": "852b4253",
   "metadata": {},
   "outputs": [
    {
     "data": {
      "text/plain": [
       "<bound method NDFrame.describe of entityid\n",
       "53131         NaN\n",
       "53138         NaN\n",
       "53139         NaN\n",
       "53142         NaN\n",
       "53147         NaN\n",
       "             ... \n",
       "1051887269    NaN\n",
       "1051920263    6.0\n",
       "1052000966    NaN\n",
       "1052193170    NaN\n",
       "1052206355    NaN\n",
       "Name: num_captures, Length: 16795, dtype: float64>"
      ]
     },
     "execution_count": 60,
     "metadata": {},
     "output_type": "execute_result"
    }
   ],
   "source": [
    "data.num_captures.describe"
   ]
  },
  {
   "cell_type": "code",
   "execution_count": 59,
   "id": "cd2bec74",
   "metadata": {},
   "outputs": [
    {
     "ename": "MissingDataError",
     "evalue": "exog contains inf or nans",
     "output_type": "error",
     "traceback": [
      "\u001b[0;31m---------------------------------------------------------------------------\u001b[0m",
      "\u001b[0;31mMissingDataError\u001b[0m                          Traceback (most recent call last)",
      "Cell \u001b[0;32mIn[59], line 1\u001b[0m\n\u001b[0;32m----> 1\u001b[0m \u001b[43mrun_model\u001b[49m\u001b[43m(\u001b[49m\u001b[38;5;124;43m'\u001b[39;49m\u001b[38;5;124;43mnum_captures\u001b[39;49m\u001b[38;5;124;43m'\u001b[39;49m\u001b[43m,\u001b[49m\u001b[43m \u001b[49m\u001b[43mcontrol\u001b[49m\u001b[38;5;241;43m=\u001b[39;49m\u001b[43m[\u001b[49m\u001b[38;5;124;43m'\u001b[39;49m\u001b[38;5;124;43mend_yr\u001b[39;49m\u001b[38;5;124;43m'\u001b[39;49m\u001b[43m,\u001b[49m\u001b[43m \u001b[49m\u001b[38;5;124;43m'\u001b[39;49m\u001b[38;5;124;43mnew_industrygroup\u001b[39;49m\u001b[38;5;124;43m'\u001b[39;49m\u001b[43m,\u001b[49m\u001b[43m \u001b[49m\u001b[38;5;124;43m'\u001b[39;49m\u001b[38;5;124;43mstate\u001b[39;49m\u001b[38;5;124;43m'\u001b[39;49m\u001b[43m,\u001b[49m\u001b[43m \u001b[49m\u001b[38;5;124;43m'\u001b[39;49m\u001b[38;5;124;43mstart_yr\u001b[39;49m\u001b[38;5;124;43m'\u001b[39;49m\u001b[43m]\u001b[49m\u001b[43m)\u001b[49m\n",
      "Cell \u001b[0;32mIn[17], line 13\u001b[0m, in \u001b[0;36mrun_model\u001b[0;34m(x, control, lifespanControl)\u001b[0m\n\u001b[1;32m     11\u001b[0m         X \u001b[38;5;241m=\u001b[39m pd\u001b[38;5;241m.\u001b[39mconcat([X, y_dummies], axis\u001b[38;5;241m=\u001b[39m\u001b[38;5;241m1\u001b[39m)\n\u001b[1;32m     12\u001b[0m X \u001b[38;5;241m=\u001b[39m sm\u001b[38;5;241m.\u001b[39madd_constant(X)\n\u001b[0;32m---> 13\u001b[0m mod \u001b[38;5;241m=\u001b[39m \u001b[43msm\u001b[49m\u001b[38;5;241;43m.\u001b[39;49m\u001b[43mOLS\u001b[49m\u001b[43m(\u001b[49m\u001b[43mdata\u001b[49m\u001b[43m[\u001b[49m\u001b[38;5;124;43m'\u001b[39;49m\u001b[38;5;124;43mFailed\u001b[39;49m\u001b[38;5;124;43m'\u001b[39;49m\u001b[43m]\u001b[49m\u001b[43m,\u001b[49m\u001b[43m \u001b[49m\u001b[43mX\u001b[49m\u001b[43m)\u001b[49m\u001b[38;5;241m.\u001b[39mfit()\n\u001b[1;32m     14\u001b[0m \u001b[38;5;28;01mreturn\u001b[39;00m mod\n",
      "File \u001b[0;32m/Library/Frameworks/Python.framework/Versions/3.9/lib/python3.9/site-packages/statsmodels/regression/linear_model.py:922\u001b[0m, in \u001b[0;36mOLS.__init__\u001b[0;34m(self, endog, exog, missing, hasconst, **kwargs)\u001b[0m\n\u001b[1;32m    919\u001b[0m     msg \u001b[38;5;241m=\u001b[39m (\u001b[38;5;124m\"\u001b[39m\u001b[38;5;124mWeights are not supported in OLS and will be ignored\u001b[39m\u001b[38;5;124m\"\u001b[39m\n\u001b[1;32m    920\u001b[0m            \u001b[38;5;124m\"\u001b[39m\u001b[38;5;124mAn exception will be raised in the next version.\u001b[39m\u001b[38;5;124m\"\u001b[39m)\n\u001b[1;32m    921\u001b[0m     warnings\u001b[38;5;241m.\u001b[39mwarn(msg, ValueWarning)\n\u001b[0;32m--> 922\u001b[0m \u001b[38;5;28;43msuper\u001b[39;49m\u001b[43m(\u001b[49m\u001b[43mOLS\u001b[49m\u001b[43m,\u001b[49m\u001b[43m \u001b[49m\u001b[38;5;28;43mself\u001b[39;49m\u001b[43m)\u001b[49m\u001b[38;5;241;43m.\u001b[39;49m\u001b[38;5;21;43m__init__\u001b[39;49m\u001b[43m(\u001b[49m\u001b[43mendog\u001b[49m\u001b[43m,\u001b[49m\u001b[43m \u001b[49m\u001b[43mexog\u001b[49m\u001b[43m,\u001b[49m\u001b[43m \u001b[49m\u001b[43mmissing\u001b[49m\u001b[38;5;241;43m=\u001b[39;49m\u001b[43mmissing\u001b[49m\u001b[43m,\u001b[49m\n\u001b[1;32m    923\u001b[0m \u001b[43m                          \u001b[49m\u001b[43mhasconst\u001b[49m\u001b[38;5;241;43m=\u001b[39;49m\u001b[43mhasconst\u001b[49m\u001b[43m,\u001b[49m\u001b[43m \u001b[49m\u001b[38;5;241;43m*\u001b[39;49m\u001b[38;5;241;43m*\u001b[39;49m\u001b[43mkwargs\u001b[49m\u001b[43m)\u001b[49m\n\u001b[1;32m    924\u001b[0m \u001b[38;5;28;01mif\u001b[39;00m \u001b[38;5;124m\"\u001b[39m\u001b[38;5;124mweights\u001b[39m\u001b[38;5;124m\"\u001b[39m \u001b[38;5;129;01min\u001b[39;00m \u001b[38;5;28mself\u001b[39m\u001b[38;5;241m.\u001b[39m_init_keys:\n\u001b[1;32m    925\u001b[0m     \u001b[38;5;28mself\u001b[39m\u001b[38;5;241m.\u001b[39m_init_keys\u001b[38;5;241m.\u001b[39mremove(\u001b[38;5;124m\"\u001b[39m\u001b[38;5;124mweights\u001b[39m\u001b[38;5;124m\"\u001b[39m)\n",
      "File \u001b[0;32m/Library/Frameworks/Python.framework/Versions/3.9/lib/python3.9/site-packages/statsmodels/regression/linear_model.py:748\u001b[0m, in \u001b[0;36mWLS.__init__\u001b[0;34m(self, endog, exog, weights, missing, hasconst, **kwargs)\u001b[0m\n\u001b[1;32m    746\u001b[0m \u001b[38;5;28;01melse\u001b[39;00m:\n\u001b[1;32m    747\u001b[0m     weights \u001b[38;5;241m=\u001b[39m weights\u001b[38;5;241m.\u001b[39msqueeze()\n\u001b[0;32m--> 748\u001b[0m \u001b[38;5;28;43msuper\u001b[39;49m\u001b[43m(\u001b[49m\u001b[43mWLS\u001b[49m\u001b[43m,\u001b[49m\u001b[43m \u001b[49m\u001b[38;5;28;43mself\u001b[39;49m\u001b[43m)\u001b[49m\u001b[38;5;241;43m.\u001b[39;49m\u001b[38;5;21;43m__init__\u001b[39;49m\u001b[43m(\u001b[49m\u001b[43mendog\u001b[49m\u001b[43m,\u001b[49m\u001b[43m \u001b[49m\u001b[43mexog\u001b[49m\u001b[43m,\u001b[49m\u001b[43m \u001b[49m\u001b[43mmissing\u001b[49m\u001b[38;5;241;43m=\u001b[39;49m\u001b[43mmissing\u001b[49m\u001b[43m,\u001b[49m\n\u001b[1;32m    749\u001b[0m \u001b[43m                          \u001b[49m\u001b[43mweights\u001b[49m\u001b[38;5;241;43m=\u001b[39;49m\u001b[43mweights\u001b[49m\u001b[43m,\u001b[49m\u001b[43m \u001b[49m\u001b[43mhasconst\u001b[49m\u001b[38;5;241;43m=\u001b[39;49m\u001b[43mhasconst\u001b[49m\u001b[43m,\u001b[49m\u001b[43m \u001b[49m\u001b[38;5;241;43m*\u001b[39;49m\u001b[38;5;241;43m*\u001b[39;49m\u001b[43mkwargs\u001b[49m\u001b[43m)\u001b[49m\n\u001b[1;32m    750\u001b[0m nobs \u001b[38;5;241m=\u001b[39m \u001b[38;5;28mself\u001b[39m\u001b[38;5;241m.\u001b[39mexog\u001b[38;5;241m.\u001b[39mshape[\u001b[38;5;241m0\u001b[39m]\n\u001b[1;32m    751\u001b[0m weights \u001b[38;5;241m=\u001b[39m \u001b[38;5;28mself\u001b[39m\u001b[38;5;241m.\u001b[39mweights\n",
      "File \u001b[0;32m/Library/Frameworks/Python.framework/Versions/3.9/lib/python3.9/site-packages/statsmodels/regression/linear_model.py:202\u001b[0m, in \u001b[0;36mRegressionModel.__init__\u001b[0;34m(self, endog, exog, **kwargs)\u001b[0m\n\u001b[1;32m    201\u001b[0m \u001b[38;5;28;01mdef\u001b[39;00m \u001b[38;5;21m__init__\u001b[39m(\u001b[38;5;28mself\u001b[39m, endog, exog, \u001b[38;5;241m*\u001b[39m\u001b[38;5;241m*\u001b[39mkwargs):\n\u001b[0;32m--> 202\u001b[0m     \u001b[38;5;28;43msuper\u001b[39;49m\u001b[43m(\u001b[49m\u001b[43mRegressionModel\u001b[49m\u001b[43m,\u001b[49m\u001b[43m \u001b[49m\u001b[38;5;28;43mself\u001b[39;49m\u001b[43m)\u001b[49m\u001b[38;5;241;43m.\u001b[39;49m\u001b[38;5;21;43m__init__\u001b[39;49m\u001b[43m(\u001b[49m\u001b[43mendog\u001b[49m\u001b[43m,\u001b[49m\u001b[43m \u001b[49m\u001b[43mexog\u001b[49m\u001b[43m,\u001b[49m\u001b[43m \u001b[49m\u001b[38;5;241;43m*\u001b[39;49m\u001b[38;5;241;43m*\u001b[39;49m\u001b[43mkwargs\u001b[49m\u001b[43m)\u001b[49m\n\u001b[1;32m    203\u001b[0m     \u001b[38;5;28mself\u001b[39m\u001b[38;5;241m.\u001b[39mpinv_wexog: Float64Array \u001b[38;5;241m|\u001b[39m \u001b[38;5;28;01mNone\u001b[39;00m \u001b[38;5;241m=\u001b[39m \u001b[38;5;28;01mNone\u001b[39;00m\n\u001b[1;32m    204\u001b[0m     \u001b[38;5;28mself\u001b[39m\u001b[38;5;241m.\u001b[39m_data_attr\u001b[38;5;241m.\u001b[39mextend([\u001b[38;5;124m'\u001b[39m\u001b[38;5;124mpinv_wexog\u001b[39m\u001b[38;5;124m'\u001b[39m, \u001b[38;5;124m'\u001b[39m\u001b[38;5;124mwendog\u001b[39m\u001b[38;5;124m'\u001b[39m, \u001b[38;5;124m'\u001b[39m\u001b[38;5;124mwexog\u001b[39m\u001b[38;5;124m'\u001b[39m, \u001b[38;5;124m'\u001b[39m\u001b[38;5;124mweights\u001b[39m\u001b[38;5;124m'\u001b[39m])\n",
      "File \u001b[0;32m/Library/Frameworks/Python.framework/Versions/3.9/lib/python3.9/site-packages/statsmodels/base/model.py:270\u001b[0m, in \u001b[0;36mLikelihoodModel.__init__\u001b[0;34m(self, endog, exog, **kwargs)\u001b[0m\n\u001b[1;32m    269\u001b[0m \u001b[38;5;28;01mdef\u001b[39;00m \u001b[38;5;21m__init__\u001b[39m(\u001b[38;5;28mself\u001b[39m, endog, exog\u001b[38;5;241m=\u001b[39m\u001b[38;5;28;01mNone\u001b[39;00m, \u001b[38;5;241m*\u001b[39m\u001b[38;5;241m*\u001b[39mkwargs):\n\u001b[0;32m--> 270\u001b[0m     \u001b[38;5;28;43msuper\u001b[39;49m\u001b[43m(\u001b[49m\u001b[43m)\u001b[49m\u001b[38;5;241;43m.\u001b[39;49m\u001b[38;5;21;43m__init__\u001b[39;49m\u001b[43m(\u001b[49m\u001b[43mendog\u001b[49m\u001b[43m,\u001b[49m\u001b[43m \u001b[49m\u001b[43mexog\u001b[49m\u001b[43m,\u001b[49m\u001b[43m \u001b[49m\u001b[38;5;241;43m*\u001b[39;49m\u001b[38;5;241;43m*\u001b[39;49m\u001b[43mkwargs\u001b[49m\u001b[43m)\u001b[49m\n\u001b[1;32m    271\u001b[0m     \u001b[38;5;28mself\u001b[39m\u001b[38;5;241m.\u001b[39minitialize()\n",
      "File \u001b[0;32m/Library/Frameworks/Python.framework/Versions/3.9/lib/python3.9/site-packages/statsmodels/base/model.py:95\u001b[0m, in \u001b[0;36mModel.__init__\u001b[0;34m(self, endog, exog, **kwargs)\u001b[0m\n\u001b[1;32m     93\u001b[0m missing \u001b[38;5;241m=\u001b[39m kwargs\u001b[38;5;241m.\u001b[39mpop(\u001b[38;5;124m'\u001b[39m\u001b[38;5;124mmissing\u001b[39m\u001b[38;5;124m'\u001b[39m, \u001b[38;5;124m'\u001b[39m\u001b[38;5;124mnone\u001b[39m\u001b[38;5;124m'\u001b[39m)\n\u001b[1;32m     94\u001b[0m hasconst \u001b[38;5;241m=\u001b[39m kwargs\u001b[38;5;241m.\u001b[39mpop(\u001b[38;5;124m'\u001b[39m\u001b[38;5;124mhasconst\u001b[39m\u001b[38;5;124m'\u001b[39m, \u001b[38;5;28;01mNone\u001b[39;00m)\n\u001b[0;32m---> 95\u001b[0m \u001b[38;5;28mself\u001b[39m\u001b[38;5;241m.\u001b[39mdata \u001b[38;5;241m=\u001b[39m \u001b[38;5;28;43mself\u001b[39;49m\u001b[38;5;241;43m.\u001b[39;49m\u001b[43m_handle_data\u001b[49m\u001b[43m(\u001b[49m\u001b[43mendog\u001b[49m\u001b[43m,\u001b[49m\u001b[43m \u001b[49m\u001b[43mexog\u001b[49m\u001b[43m,\u001b[49m\u001b[43m \u001b[49m\u001b[43mmissing\u001b[49m\u001b[43m,\u001b[49m\u001b[43m \u001b[49m\u001b[43mhasconst\u001b[49m\u001b[43m,\u001b[49m\n\u001b[1;32m     96\u001b[0m \u001b[43m                              \u001b[49m\u001b[38;5;241;43m*\u001b[39;49m\u001b[38;5;241;43m*\u001b[39;49m\u001b[43mkwargs\u001b[49m\u001b[43m)\u001b[49m\n\u001b[1;32m     97\u001b[0m \u001b[38;5;28mself\u001b[39m\u001b[38;5;241m.\u001b[39mk_constant \u001b[38;5;241m=\u001b[39m \u001b[38;5;28mself\u001b[39m\u001b[38;5;241m.\u001b[39mdata\u001b[38;5;241m.\u001b[39mk_constant\n\u001b[1;32m     98\u001b[0m \u001b[38;5;28mself\u001b[39m\u001b[38;5;241m.\u001b[39mexog \u001b[38;5;241m=\u001b[39m \u001b[38;5;28mself\u001b[39m\u001b[38;5;241m.\u001b[39mdata\u001b[38;5;241m.\u001b[39mexog\n",
      "File \u001b[0;32m/Library/Frameworks/Python.framework/Versions/3.9/lib/python3.9/site-packages/statsmodels/base/model.py:135\u001b[0m, in \u001b[0;36mModel._handle_data\u001b[0;34m(self, endog, exog, missing, hasconst, **kwargs)\u001b[0m\n\u001b[1;32m    134\u001b[0m \u001b[38;5;28;01mdef\u001b[39;00m \u001b[38;5;21m_handle_data\u001b[39m(\u001b[38;5;28mself\u001b[39m, endog, exog, missing, hasconst, \u001b[38;5;241m*\u001b[39m\u001b[38;5;241m*\u001b[39mkwargs):\n\u001b[0;32m--> 135\u001b[0m     data \u001b[38;5;241m=\u001b[39m \u001b[43mhandle_data\u001b[49m\u001b[43m(\u001b[49m\u001b[43mendog\u001b[49m\u001b[43m,\u001b[49m\u001b[43m \u001b[49m\u001b[43mexog\u001b[49m\u001b[43m,\u001b[49m\u001b[43m \u001b[49m\u001b[43mmissing\u001b[49m\u001b[43m,\u001b[49m\u001b[43m \u001b[49m\u001b[43mhasconst\u001b[49m\u001b[43m,\u001b[49m\u001b[43m \u001b[49m\u001b[38;5;241;43m*\u001b[39;49m\u001b[38;5;241;43m*\u001b[39;49m\u001b[43mkwargs\u001b[49m\u001b[43m)\u001b[49m\n\u001b[1;32m    136\u001b[0m     \u001b[38;5;66;03m# kwargs arrays could have changed, easier to just attach here\u001b[39;00m\n\u001b[1;32m    137\u001b[0m     \u001b[38;5;28;01mfor\u001b[39;00m key \u001b[38;5;129;01min\u001b[39;00m kwargs:\n",
      "File \u001b[0;32m/Library/Frameworks/Python.framework/Versions/3.9/lib/python3.9/site-packages/statsmodels/base/data.py:675\u001b[0m, in \u001b[0;36mhandle_data\u001b[0;34m(endog, exog, missing, hasconst, **kwargs)\u001b[0m\n\u001b[1;32m    672\u001b[0m     exog \u001b[38;5;241m=\u001b[39m np\u001b[38;5;241m.\u001b[39masarray(exog)\n\u001b[1;32m    674\u001b[0m klass \u001b[38;5;241m=\u001b[39m handle_data_class_factory(endog, exog)\n\u001b[0;32m--> 675\u001b[0m \u001b[38;5;28;01mreturn\u001b[39;00m \u001b[43mklass\u001b[49m\u001b[43m(\u001b[49m\u001b[43mendog\u001b[49m\u001b[43m,\u001b[49m\u001b[43m \u001b[49m\u001b[43mexog\u001b[49m\u001b[38;5;241;43m=\u001b[39;49m\u001b[43mexog\u001b[49m\u001b[43m,\u001b[49m\u001b[43m \u001b[49m\u001b[43mmissing\u001b[49m\u001b[38;5;241;43m=\u001b[39;49m\u001b[43mmissing\u001b[49m\u001b[43m,\u001b[49m\u001b[43m \u001b[49m\u001b[43mhasconst\u001b[49m\u001b[38;5;241;43m=\u001b[39;49m\u001b[43mhasconst\u001b[49m\u001b[43m,\u001b[49m\n\u001b[1;32m    676\u001b[0m \u001b[43m             \u001b[49m\u001b[38;5;241;43m*\u001b[39;49m\u001b[38;5;241;43m*\u001b[39;49m\u001b[43mkwargs\u001b[49m\u001b[43m)\u001b[49m\n",
      "File \u001b[0;32m/Library/Frameworks/Python.framework/Versions/3.9/lib/python3.9/site-packages/statsmodels/base/data.py:88\u001b[0m, in \u001b[0;36mModelData.__init__\u001b[0;34m(self, endog, exog, missing, hasconst, **kwargs)\u001b[0m\n\u001b[1;32m     86\u001b[0m \u001b[38;5;28mself\u001b[39m\u001b[38;5;241m.\u001b[39mconst_idx \u001b[38;5;241m=\u001b[39m \u001b[38;5;28;01mNone\u001b[39;00m\n\u001b[1;32m     87\u001b[0m \u001b[38;5;28mself\u001b[39m\u001b[38;5;241m.\u001b[39mk_constant \u001b[38;5;241m=\u001b[39m \u001b[38;5;241m0\u001b[39m\n\u001b[0;32m---> 88\u001b[0m \u001b[38;5;28;43mself\u001b[39;49m\u001b[38;5;241;43m.\u001b[39;49m\u001b[43m_handle_constant\u001b[49m\u001b[43m(\u001b[49m\u001b[43mhasconst\u001b[49m\u001b[43m)\u001b[49m\n\u001b[1;32m     89\u001b[0m \u001b[38;5;28mself\u001b[39m\u001b[38;5;241m.\u001b[39m_check_integrity()\n\u001b[1;32m     90\u001b[0m \u001b[38;5;28mself\u001b[39m\u001b[38;5;241m.\u001b[39m_cache \u001b[38;5;241m=\u001b[39m {}\n",
      "File \u001b[0;32m/Library/Frameworks/Python.framework/Versions/3.9/lib/python3.9/site-packages/statsmodels/base/data.py:134\u001b[0m, in \u001b[0;36mModelData._handle_constant\u001b[0;34m(self, hasconst)\u001b[0m\n\u001b[1;32m    132\u001b[0m exog_max \u001b[38;5;241m=\u001b[39m np\u001b[38;5;241m.\u001b[39mmax(\u001b[38;5;28mself\u001b[39m\u001b[38;5;241m.\u001b[39mexog, axis\u001b[38;5;241m=\u001b[39m\u001b[38;5;241m0\u001b[39m)\n\u001b[1;32m    133\u001b[0m \u001b[38;5;28;01mif\u001b[39;00m \u001b[38;5;129;01mnot\u001b[39;00m np\u001b[38;5;241m.\u001b[39misfinite(exog_max)\u001b[38;5;241m.\u001b[39mall():\n\u001b[0;32m--> 134\u001b[0m     \u001b[38;5;28;01mraise\u001b[39;00m MissingDataError(\u001b[38;5;124m'\u001b[39m\u001b[38;5;124mexog contains inf or nans\u001b[39m\u001b[38;5;124m'\u001b[39m)\n\u001b[1;32m    135\u001b[0m exog_min \u001b[38;5;241m=\u001b[39m np\u001b[38;5;241m.\u001b[39mmin(\u001b[38;5;28mself\u001b[39m\u001b[38;5;241m.\u001b[39mexog, axis\u001b[38;5;241m=\u001b[39m\u001b[38;5;241m0\u001b[39m)\n\u001b[1;32m    136\u001b[0m const_idx \u001b[38;5;241m=\u001b[39m np\u001b[38;5;241m.\u001b[39mwhere(exog_max \u001b[38;5;241m==\u001b[39m exog_min)[\u001b[38;5;241m0\u001b[39m]\u001b[38;5;241m.\u001b[39msqueeze()\n",
      "\u001b[0;31mMissingDataError\u001b[0m: exog contains inf or nans"
     ]
    }
   ],
   "source": [
    "run_model('num_captures', control=['end_yr', 'new_industrygroup', 'state', 'start_yr'])"
   ]
  },
  {
   "cell_type": "code",
   "execution_count": null,
   "id": "f752d3b4",
   "metadata": {},
   "outputs": [],
   "source": []
  },
  {
   "cell_type": "code",
   "execution_count": null,
   "id": "6e7ca474",
   "metadata": {},
   "outputs": [],
   "source": []
  },
  {
   "cell_type": "code",
   "execution_count": null,
   "id": "6da6f6a0",
   "metadata": {},
   "outputs": [],
   "source": []
  },
  {
   "cell_type": "code",
   "execution_count": null,
   "id": "af089d38",
   "metadata": {},
   "outputs": [],
   "source": []
  },
  {
   "cell_type": "code",
   "execution_count": null,
   "id": "652a12cb",
   "metadata": {},
   "outputs": [],
   "source": []
  }
 ],
 "metadata": {
  "kernelspec": {
   "display_name": "Python 3 (ipykernel)",
   "language": "python",
   "name": "python3"
  },
  "language_info": {
   "codemirror_mode": {
    "name": "ipython",
    "version": 3
   },
   "file_extension": ".py",
   "mimetype": "text/x-python",
   "name": "python",
   "nbconvert_exporter": "python",
   "pygments_lexer": "ipython3",
   "version": "3.9.2"
  }
 },
 "nbformat": 4,
 "nbformat_minor": 5
}
