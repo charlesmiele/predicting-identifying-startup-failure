{
 "cells": [
  {
   "cell_type": "code",
   "execution_count": 21,
   "id": "28da4ff0",
   "metadata": {},
   "outputs": [],
   "source": [
    "import pandas as pd\n",
    "import matplotlib.pyplot as plt\n",
    "import ast"
   ]
  },
  {
   "cell_type": "code",
   "execution_count": 22,
   "id": "4356c095",
   "metadata": {},
   "outputs": [
    {
     "name": "stderr",
     "output_type": "stream",
     "text": [
      "/Library/Frameworks/Python.framework/Versions/3.9/lib/python3.9/site-packages/IPython/core/interactiveshell.py:3269: DtypeWarning: Columns (12) have mixed types.Specify dtype option on import or set low_memory=False.\n",
      "  has_raised = await self.run_ast_nodes(code_ast.body, cell_name,\n"
     ]
    }
   ],
   "source": [
    "html_data = pd.read_csv('../data/webpage_metadata.csv')"
   ]
  },
  {
   "cell_type": "markdown",
   "id": "8462b9b3",
   "metadata": {},
   "source": [
    "## Contents\n",
    "\n",
    "1. [Load & Clean Data](#1.-Load-data)\n",
    "2. [How old are companies when we first see their website?](#2.-How-old-are-companies-when-we-first-see-their-website?)\n",
    "3. [Average number of links throughout company life-span](#3.-Average-number-of-links-throughout-company-life-span)\n",
    "    1. [2019 Example](#3.1-2019-Example)\n",
    "    2. [1999 Example](#3.2-1999-Example)\n",
    "4. [Webpage size](#4.-Webpage-size-time-series)\n",
    "    1. [Over year captured](#4.1-Website-size-over-year-captured-(capture_yr)\n",
    "    2. [For companies with >= 5 year lifespan](#4.2-For-companies-that-have-been-around-for-at-least-5-years?)\n",
    "    3. [For companies with >= 10 year lifespan](#4.3-10+-years?)\n",
    "    4. [For companies with first timestamp within 0-2 years of the founding date](#4.4-For-companies-that-got-their-first-their-first-timestamp-within-0-2-years-of-the-founding-date?)\n",
    "5. [Meta Tags](#5.-Meta-tag-time-series)\n",
    "    1. [Description](#5.1-Description)\n",
    "    2. [Keywords](#5.2-Keywords)\n",
    "    3. [Description over capture year](#5.3-Description-Over-Capture-Year)\n",
    "    4. [Keywords over capture year](#5.4-Keywords-Over-Capture-Year)\n",
    "6. [Career/Job Posting Links](#6.-Does-<a>'s-innertext-include-the-words-\"job\"-or-\"careers\")\n",
    "    1. [For companies with first timestamp within 0-2 years of the founding date](#6.1-For-companies-that-got-their-first-their-first-timestamp-within-0-2-years-of-the-founding-date?)\n",
    "    1. [Over year captured](#6.2-Over-year-captured?)\n",
    "    2. [Companies founded after 2010](#6.3-Companies-founded-after-2010?)\n"
   ]
  },
  {
   "cell_type": "markdown",
   "id": "5960cfdc",
   "metadata": {},
   "source": [
    "## 1. Load data"
   ]
  },
  {
   "cell_type": "code",
   "execution_count": 23,
   "id": "4b3eef52",
   "metadata": {},
   "outputs": [
    {
     "data": {
      "text/html": [
       "<div>\n",
       "<style scoped>\n",
       "    .dataframe tbody tr th:only-of-type {\n",
       "        vertical-align: middle;\n",
       "    }\n",
       "\n",
       "    .dataframe tbody tr th {\n",
       "        vertical-align: top;\n",
       "    }\n",
       "\n",
       "    .dataframe thead th {\n",
       "        text-align: right;\n",
       "    }\n",
       "</style>\n",
       "<table border=\"1\" class=\"dataframe\">\n",
       "  <thead>\n",
       "    <tr style=\"text-align: right;\">\n",
       "      <th></th>\n",
       "      <th>entityid</th>\n",
       "      <th>domain</th>\n",
       "      <th>founded_yr</th>\n",
       "      <th>capture_yr</th>\n",
       "      <th>capture_m</th>\n",
       "      <th>time_from_start_m</th>\n",
       "      <th>website_size_kb</th>\n",
       "      <th>title</th>\n",
       "      <th>num_a_tags</th>\n",
       "      <th>a_innertext</th>\n",
       "      <th>meta_description</th>\n",
       "      <th>meta_keywords</th>\n",
       "      <th>pb_companyid</th>\n",
       "      <th>startdate</th>\n",
       "      <th>ownershipstatus</th>\n",
       "      <th>exit_date</th>\n",
       "    </tr>\n",
       "  </thead>\n",
       "  <tbody>\n",
       "    <tr>\n",
       "      <th>0</th>\n",
       "      <td>1001099837</td>\n",
       "      <td>www.related.com</td>\n",
       "      <td>1972</td>\n",
       "      <td>2001</td>\n",
       "      <td>11</td>\n",
       "      <td>358.0</td>\n",
       "      <td>4.750977</td>\n",
       "      <td>Untitled Document</td>\n",
       "      <td>7</td>\n",
       "      <td>['Park Imperial Condominiums', 'Related Rental...</td>\n",
       "      <td>0</td>\n",
       "      <td>0</td>\n",
       "      <td>NaN</td>\n",
       "      <td>1972-01-01</td>\n",
       "      <td>Private &amp; Independent</td>\n",
       "      <td>NaN</td>\n",
       "    </tr>\n",
       "    <tr>\n",
       "      <th>1</th>\n",
       "      <td>1001099837</td>\n",
       "      <td>www.related.com</td>\n",
       "      <td>1972</td>\n",
       "      <td>2008</td>\n",
       "      <td>8</td>\n",
       "      <td>439.0</td>\n",
       "      <td>20.040039</td>\n",
       "      <td>Related Home Page</td>\n",
       "      <td>10</td>\n",
       "      <td>['Search Help', 'About section', 'view article']</td>\n",
       "      <td>0</td>\n",
       "      <td>0</td>\n",
       "      <td>NaN</td>\n",
       "      <td>1972-01-01</td>\n",
       "      <td>Private &amp; Independent</td>\n",
       "      <td>NaN</td>\n",
       "    </tr>\n",
       "    <tr>\n",
       "      <th>2</th>\n",
       "      <td>1001099837</td>\n",
       "      <td>www.related.com</td>\n",
       "      <td>1972</td>\n",
       "      <td>2010</td>\n",
       "      <td>7</td>\n",
       "      <td>462.0</td>\n",
       "      <td>29.330078</td>\n",
       "      <td>\\n\\tRelated Real Estate, Apartments For Rent &amp;...</td>\n",
       "      <td>16</td>\n",
       "      <td>['Forgot Password?', 'here', 'NEWS &amp; PRESS', '...</td>\n",
       "      <td>1</td>\n",
       "      <td>1</td>\n",
       "      <td>NaN</td>\n",
       "      <td>1972-01-01</td>\n",
       "      <td>Private &amp; Independent</td>\n",
       "      <td>NaN</td>\n",
       "    </tr>\n",
       "    <tr>\n",
       "      <th>3</th>\n",
       "      <td>1001099837</td>\n",
       "      <td>www.related.com</td>\n",
       "      <td>1972</td>\n",
       "      <td>2011</td>\n",
       "      <td>1</td>\n",
       "      <td>468.0</td>\n",
       "      <td>30.825195</td>\n",
       "      <td>\\n\\tRelated Real Estate, Apartments For Rent &amp;...</td>\n",
       "      <td>17</td>\n",
       "      <td>['Forgot Password?', 'here', 'NEWS &amp; PRESS', '...</td>\n",
       "      <td>1</td>\n",
       "      <td>1</td>\n",
       "      <td>NaN</td>\n",
       "      <td>1972-01-01</td>\n",
       "      <td>Private &amp; Independent</td>\n",
       "      <td>NaN</td>\n",
       "    </tr>\n",
       "    <tr>\n",
       "      <th>4</th>\n",
       "      <td>1001099837</td>\n",
       "      <td>www.related.com</td>\n",
       "      <td>1972</td>\n",
       "      <td>2011</td>\n",
       "      <td>7</td>\n",
       "      <td>474.0</td>\n",
       "      <td>30.673828</td>\n",
       "      <td>\\n\\tRelated Real Estate, Apartments For Rent &amp;...</td>\n",
       "      <td>16</td>\n",
       "      <td>['Forgot Password?', 'NEWS &amp; PRESS', 'CAREERS'...</td>\n",
       "      <td>1</td>\n",
       "      <td>1</td>\n",
       "      <td>NaN</td>\n",
       "      <td>1972-01-01</td>\n",
       "      <td>Private &amp; Independent</td>\n",
       "      <td>NaN</td>\n",
       "    </tr>\n",
       "  </tbody>\n",
       "</table>\n",
       "</div>"
      ],
      "text/plain": [
       "     entityid           domain  founded_yr  capture_yr  capture_m  \\\n",
       "0  1001099837  www.related.com        1972        2001         11   \n",
       "1  1001099837  www.related.com        1972        2008          8   \n",
       "2  1001099837  www.related.com        1972        2010          7   \n",
       "3  1001099837  www.related.com        1972        2011          1   \n",
       "4  1001099837  www.related.com        1972        2011          7   \n",
       "\n",
       "   time_from_start_m  website_size_kb  \\\n",
       "0              358.0         4.750977   \n",
       "1              439.0        20.040039   \n",
       "2              462.0        29.330078   \n",
       "3              468.0        30.825195   \n",
       "4              474.0        30.673828   \n",
       "\n",
       "                                               title  num_a_tags  \\\n",
       "0                                  Untitled Document           7   \n",
       "1                                  Related Home Page          10   \n",
       "2  \\n\\tRelated Real Estate, Apartments For Rent &...          16   \n",
       "3  \\n\\tRelated Real Estate, Apartments For Rent &...          17   \n",
       "4  \\n\\tRelated Real Estate, Apartments For Rent &...          16   \n",
       "\n",
       "                                         a_innertext  meta_description  \\\n",
       "0  ['Park Imperial Condominiums', 'Related Rental...                 0   \n",
       "1   ['Search Help', 'About section', 'view article']                 0   \n",
       "2  ['Forgot Password?', 'here', 'NEWS & PRESS', '...                 1   \n",
       "3  ['Forgot Password?', 'here', 'NEWS & PRESS', '...                 1   \n",
       "4  ['Forgot Password?', 'NEWS & PRESS', 'CAREERS'...                 1   \n",
       "\n",
       "   meta_keywords pb_companyid   startdate        ownershipstatus exit_date  \n",
       "0              0          NaN  1972-01-01  Private & Independent       NaN  \n",
       "1              0          NaN  1972-01-01  Private & Independent       NaN  \n",
       "2              1          NaN  1972-01-01  Private & Independent       NaN  \n",
       "3              1          NaN  1972-01-01  Private & Independent       NaN  \n",
       "4              1          NaN  1972-01-01  Private & Independent       NaN  "
      ]
     },
     "execution_count": 23,
     "metadata": {},
     "output_type": "execute_result"
    }
   ],
   "source": [
    "html_data.head()"
   ]
  },
  {
   "cell_type": "markdown",
   "id": "b031ea5b",
   "metadata": {},
   "source": [
    "First, let's look at how old some of these companies are, so our data doesn't look skewed. What's the oldest company?"
   ]
  },
  {
   "cell_type": "code",
   "execution_count": 24,
   "id": "666acec1",
   "metadata": {},
   "outputs": [
    {
     "data": {
      "text/html": [
       "<div>\n",
       "<style scoped>\n",
       "    .dataframe tbody tr th:only-of-type {\n",
       "        vertical-align: middle;\n",
       "    }\n",
       "\n",
       "    .dataframe tbody tr th {\n",
       "        vertical-align: top;\n",
       "    }\n",
       "\n",
       "    .dataframe thead th {\n",
       "        text-align: right;\n",
       "    }\n",
       "</style>\n",
       "<table border=\"1\" class=\"dataframe\">\n",
       "  <thead>\n",
       "    <tr style=\"text-align: right;\">\n",
       "      <th></th>\n",
       "      <th>entityid</th>\n",
       "      <th>domain</th>\n",
       "      <th>founded_yr</th>\n",
       "      <th>capture_yr</th>\n",
       "      <th>capture_m</th>\n",
       "      <th>time_from_start_m</th>\n",
       "      <th>website_size_kb</th>\n",
       "      <th>title</th>\n",
       "      <th>num_a_tags</th>\n",
       "      <th>a_innertext</th>\n",
       "      <th>meta_description</th>\n",
       "      <th>meta_keywords</th>\n",
       "      <th>pb_companyid</th>\n",
       "      <th>startdate</th>\n",
       "      <th>ownershipstatus</th>\n",
       "      <th>exit_date</th>\n",
       "    </tr>\n",
       "  </thead>\n",
       "  <tbody>\n",
       "    <tr>\n",
       "      <th>101174</th>\n",
       "      <td>1047067805</td>\n",
       "      <td>www.apexorchards.com</td>\n",
       "      <td>1827</td>\n",
       "      <td>2023</td>\n",
       "      <td>5</td>\n",
       "      <td>2345.0</td>\n",
       "      <td>48.238281</td>\n",
       "      <td>HOME | Apex Orchards</td>\n",
       "      <td>36</td>\n",
       "      <td>['Apex Orchards', 'HOME', 'ABOUT', 'ABOUT', 'H...</td>\n",
       "      <td>0</td>\n",
       "      <td>0</td>\n",
       "      <td>NaN</td>\n",
       "      <td>1827-12-30</td>\n",
       "      <td>Private &amp; Independent</td>\n",
       "      <td>NaN</td>\n",
       "    </tr>\n",
       "  </tbody>\n",
       "</table>\n",
       "</div>"
      ],
      "text/plain": [
       "          entityid                domain  founded_yr  capture_yr  capture_m  \\\n",
       "101174  1047067805  www.apexorchards.com        1827        2023          5   \n",
       "\n",
       "        time_from_start_m  website_size_kb                 title  num_a_tags  \\\n",
       "101174             2345.0        48.238281  HOME | Apex Orchards          36   \n",
       "\n",
       "                                              a_innertext  meta_description  \\\n",
       "101174  ['Apex Orchards', 'HOME', 'ABOUT', 'ABOUT', 'H...                 0   \n",
       "\n",
       "        meta_keywords pb_companyid   startdate        ownershipstatus  \\\n",
       "101174              0          NaN  1827-12-30  Private & Independent   \n",
       "\n",
       "       exit_date  \n",
       "101174       NaN  "
      ]
     },
     "execution_count": 24,
     "metadata": {},
     "output_type": "execute_result"
    }
   ],
   "source": [
    "html_data[html_data.time_from_start_m == html_data.time_from_start_m.max()]"
   ]
  },
  {
   "cell_type": "markdown",
   "id": "715fd248",
   "metadata": {},
   "source": [
    "Also, let's convert our `time_from_start_m` statistic into a yearly unit named `tfs_y`, rounding to the nearest half-year"
   ]
  },
  {
   "cell_type": "code",
   "execution_count": 25,
   "id": "b87217d9",
   "metadata": {},
   "outputs": [],
   "source": [
    "html_data[\"tfs_y\"] = round((html_data.time_from_start_m / 12) * 2) / 2"
   ]
  },
  {
   "cell_type": "markdown",
   "id": "0aa2db11",
   "metadata": {},
   "source": [
    "If we look at the distribution, we see the long tail of data from older companies."
   ]
  },
  {
   "cell_type": "markdown",
   "id": "08956cab",
   "metadata": {},
   "source": [
    "To have our data be more legible, what if we selected only `tfs_y`'s under 27? This means we're looking at companies that are founded at or after 1996."
   ]
  },
  {
   "cell_type": "code",
   "execution_count": 26,
   "id": "f8cb40c5",
   "metadata": {},
   "outputs": [
    {
     "data": {
      "image/png": "[encoded data removed]",
      "text/plain": [
       "<Figure size 2000x1500 with 1 Axes>"
      ]
     },
     "metadata": {},
     "output_type": "display_data"
    }
   ],
   "source": [
    "fig, axs = plt.subplots(figsize=(20, 15));\n",
    "plt.bar(html_data[\"tfs_y\"].value_counts().index, html_data[\"tfs_y\"].value_counts(), width=0.2);"
   ]
  },
  {
   "cell_type": "code",
   "execution_count": 27,
   "id": "cd025dd6",
   "metadata": {},
   "outputs": [],
   "source": [
    "html_data = html_data[html_data[\"founded_yr\"] > 1996]"
   ]
  },
  {
   "cell_type": "code",
   "execution_count": 28,
   "id": "749ec4e4",
   "metadata": {},
   "outputs": [
    {
     "data": {
      "image/png": "[encoded data removed]",
      "text/plain": [
       "<Figure size 2000x1500 with 1 Axes>"
      ]
     },
     "metadata": {},
     "output_type": "display_data"
    }
   ],
   "source": [
    "fig, axs = plt.subplots(figsize=(20, 15));\n",
    "plt.bar(html_data[\"tfs_y\"].value_counts().index, html_data[\"tfs_y\"].value_counts(), width=0.2);"
   ]
  },
  {
   "cell_type": "markdown",
   "id": "642d04be",
   "metadata": {},
   "source": [
    "Data is still right-skewed, but significantly less so than before."
   ]
  },
  {
   "cell_type": "markdown",
   "id": "f70e8399",
   "metadata": {},
   "source": [
    "## 2. How old are companies when we first see their website?\n",
    "\n",
    "_Goal is to be between 1 and 2_"
   ]
  },
  {
   "cell_type": "code",
   "execution_count": 29,
   "id": "faca10cc",
   "metadata": {},
   "outputs": [
    {
     "ename": "NameError",
     "evalue": "name 'grouped_data' is not defined",
     "output_type": "error",
     "traceback": [
      "\u001b[0;31m---------------------------------------------------------------------------\u001b[0m",
      "\u001b[0;31mNameError\u001b[0m                                 Traceback (most recent call last)",
      "Cell \u001b[0;32mIn[29], line 5\u001b[0m\n\u001b[1;32m      3\u001b[0m data \u001b[38;5;241m=\u001b[39m html_data\u001b[38;5;241m.\u001b[39mgroupby(\u001b[38;5;124m'\u001b[39m\u001b[38;5;124mentityid\u001b[39m\u001b[38;5;124m'\u001b[39m)[\u001b[38;5;124m'\u001b[39m\u001b[38;5;124mtfs_y\u001b[39m\u001b[38;5;124m'\u001b[39m]\u001b[38;5;241m.\u001b[39mmin()\u001b[38;5;241m.\u001b[39mvalue_counts()\n\u001b[1;32m      4\u001b[0m plt\u001b[38;5;241m.\u001b[39mbar(data\u001b[38;5;241m.\u001b[39mindex, data, width\u001b[38;5;241m=\u001b[39m\u001b[38;5;241m0.2\u001b[39m);\n\u001b[0;32m----> 5\u001b[0m plt\u001b[38;5;241m.\u001b[39mxticks(\u001b[43mgrouped_data\u001b[49m\u001b[38;5;241m.\u001b[39mindex[::\u001b[38;5;241m7\u001b[39m], fontsize\u001b[38;5;241m=\u001b[39m\u001b[38;5;241m14\u001b[39m);\n",
      "\u001b[0;31mNameError\u001b[0m: name 'grouped_data' is not defined"
     ]
    },
    {
     "data": {
      "image/png": "[encoded data removed]",
      "text/plain": [
       "<Figure size 2000x1500 with 1 Axes>"
      ]
     },
     "metadata": {},
     "output_type": "display_data"
    }
   ],
   "source": [
    "# Group by entityid, select min time_from_start_m\n",
    "fig, axs = plt.subplots(figsize=(20, 15));\n",
    "data = html_data.groupby('entityid')['tfs_y'].min().value_counts()\n",
    "plt.bar(data.index, data, width=0.2);"
   ]
  },
  {
   "cell_type": "code",
   "execution_count": null,
   "id": "74536ba5",
   "metadata": {},
   "outputs": [],
   "source": [
    "data = html_data.groupby('entityid')['tfs_y'].min()\n",
    "data = data[data <= 2]\n",
    "html_data[\"ft_in_2\"] = html_data['entityid'].isin(data.index)"
   ]
  },
  {
   "cell_type": "markdown",
   "id": "37d7557a",
   "metadata": {},
   "source": [
    "## 3. Average number of links throughout company life-span"
   ]
  },
  {
   "cell_type": "code",
   "execution_count": null,
   "id": "01dcfa25",
   "metadata": {},
   "outputs": [],
   "source": [
    "fig, axs = plt.subplots(figsize=(40, 15))\n",
    "\n",
    "grouped_data = html_data.groupby(html_data[\"tfs_y\"])[\"num_a_tags\"].mean()\n",
    "plt.bar(grouped_data.index, grouped_data, width=0.25)\n",
    "plt.xticks(grouped_data.index[::5], fontsize=14)\n",
    "plt.yticks(fontsize=14)\n",
    "plt.xlabel(\"Years since founding\", fontsize=20);\n",
    "plt.ylabel(\"Average number of <a> tags\", fontsize=20);"
   ]
  },
  {
   "cell_type": "markdown",
   "id": "2cf67c39",
   "metadata": {},
   "source": [
    "Speed at which it adds links?\n",
    "\n",
    "Is link growth of 10% a year significant?"
   ]
  },
  {
   "cell_type": "markdown",
   "id": "dfdf43e0",
   "metadata": {},
   "source": [
    "### 3.1 2019 Example"
   ]
  },
  {
   "cell_type": "code",
   "execution_count": null,
   "id": "fd648d96",
   "metadata": {},
   "outputs": [],
   "source": [
    "fig, axs = plt.subplots(figsize=(40, 15))\n",
    "\n",
    "grouped_data = html_data[html_data[\"founded_yr\"] == 2019].groupby(html_data[\"tfs_y\"])[\"num_a_tags\"].mean()\n",
    "plt.bar(grouped_data.index, grouped_data, width=0.25)\n",
    "plt.xticks(grouped_data.index[::5], fontsize=14)\n",
    "plt.yticks(fontsize=14)\n",
    "plt.xlabel(\"Years since founding\", fontsize=20);\n",
    "plt.ylabel(\"Average number of <a> tags\", fontsize=20);"
   ]
  },
  {
   "cell_type": "markdown",
   "id": "bc3b8026",
   "metadata": {},
   "source": [
    "### 3.2 1999 Example"
   ]
  },
  {
   "cell_type": "code",
   "execution_count": null,
   "id": "1f640ba6",
   "metadata": {},
   "outputs": [],
   "source": [
    "fig, axs = plt.subplots(figsize=(40, 15))\n",
    "\n",
    "grouped_data = html_data[html_data[\"founded_yr\"] == 1999].groupby(html_data[\"tfs_y\"])[\"num_a_tags\"].mean()\n",
    "plt.bar(grouped_data.index, grouped_data, width=0.25)\n",
    "plt.xticks(grouped_data.index[::5], fontsize=14)\n",
    "plt.yticks(fontsize=14)\n",
    "plt.xlabel(\"Years since founding\", fontsize=20);\n",
    "plt.ylabel(\"Average number of <a> tags\", fontsize=20);"
   ]
  },
  {
   "cell_type": "markdown",
   "id": "4de64dcb",
   "metadata": {},
   "source": [
    "That one spike at 15.5 years is odd...how many companies are we looking at anyway?"
   ]
  },
  {
   "cell_type": "code",
   "execution_count": null,
   "id": "abf55ad5",
   "metadata": {},
   "outputs": [],
   "source": [
    "pd.unique(html_data[html_data[\"founded_yr\"] == 1999][\"entityid\"]).size"
   ]
  },
  {
   "cell_type": "markdown",
   "id": "c8e4fcdd",
   "metadata": {},
   "source": [
    "## 4. Webpage size time series"
   ]
  },
  {
   "cell_type": "code",
   "execution_count": null,
   "id": "29ee7066",
   "metadata": {
    "scrolled": true
   },
   "outputs": [],
   "source": [
    "fig, axs = plt.subplots(figsize=(40, 15))\n",
    "grouped_data = html_data.groupby(html_data[\"tfs_y\"])[\"website_size_kb\"].mean()\n",
    "plt.bar(grouped_data.index, grouped_data, width=0.25)\n",
    "plt.xticks(grouped_data.index[::5], fontsize=14)\n",
    "plt.yticks(fontsize=14)\n",
    "plt.xlabel(\"Years since founding\", fontsize=20);\n",
    "plt.ylabel(\"Webpage size (kb)\", fontsize=20);"
   ]
  },
  {
   "cell_type": "markdown",
   "id": "a8a05b33",
   "metadata": {},
   "source": [
    "### 4.1 Website size over year captured (`capture_yr`)"
   ]
  },
  {
   "cell_type": "code",
   "execution_count": null,
   "id": "56e7a7d6",
   "metadata": {},
   "outputs": [],
   "source": [
    "fig, axs = plt.subplots(figsize=(40, 15))\n",
    "grouped_data = html_data.groupby(html_data[\"capture_yr\"])[\"website_size_kb\"].mean()\n",
    "plt.bar(grouped_data.index, grouped_data, width=0.5)\n",
    "plt.xticks(grouped_data.index, fontsize=16)\n",
    "plt.yticks(fontsize=16)\n",
    "plt.xlabel(\"Year captured\", fontsize=20);\n",
    "plt.ylabel(\"Webpage size (kb)\", fontsize=20);"
   ]
  },
  {
   "cell_type": "markdown",
   "id": "fb6fa060",
   "metadata": {},
   "source": [
    "**Survivorship problem:**\n",
    "\n",
    "The companies defining the mean are the ones that are alive.\n",
    "\n",
    "*New approach:*\n",
    "For all companies that survived at least five years, what does the size path look like from 0-5\n",
    "\n",
    "Ditto survived 10 years, 0-10.\n",
    "\n",
    "For firms that go public vs acquired, does their website grow in different ways?\n",
    "\n",
    "Look out for cohort effect - all companies that exit in the same years..."
   ]
  },
  {
   "cell_type": "markdown",
   "id": "6a8a2397",
   "metadata": {},
   "source": [
    "### 4.2 For companies that have been around for at least 5 years?"
   ]
  },
  {
   "cell_type": "code",
   "execution_count": null,
   "id": "5bc7886d",
   "metadata": {},
   "outputs": [],
   "source": [
    "# Select companies that have survived at least five years...\n",
    "html_data[\"real_exit\"] = html_data[\"exit_date\"].isna() == False\n",
    "html_data[\"end_yr\"] = html_data[\"exit_date\"].str.slice(start=0, stop=4)\n",
    "html_data[\"end_yr\"] = html_data[\"end_yr\"].fillna(2023)\n",
    "html_data[\"end_yr\"] = html_data[\"end_yr\"].astype(int)"
   ]
  },
  {
   "cell_type": "markdown",
   "id": "b16a207e",
   "metadata": {},
   "source": [
    "That seems like a lot of companies with missing exit dates. How many companies?"
   ]
  },
  {
   "cell_type": "code",
   "execution_count": null,
   "id": "a404c9df",
   "metadata": {},
   "outputs": [],
   "source": [
    "pd.unique(html_data[html_data[\"end_yr\"] == 2023][\"entityid\"]).size"
   ]
  },
  {
   "cell_type": "markdown",
   "id": "80ab6cab",
   "metadata": {},
   "source": [
    "...out of "
   ]
  },
  {
   "cell_type": "code",
   "execution_count": null,
   "id": "273f7fb2",
   "metadata": {},
   "outputs": [],
   "source": [
    "pd.unique(html_data[\"entityid\"]).size"
   ]
  },
  {
   "cell_type": "markdown",
   "id": "d4565731",
   "metadata": {},
   "source": [
    "...moving on..."
   ]
  },
  {
   "cell_type": "code",
   "execution_count": null,
   "id": "876cbb60",
   "metadata": {},
   "outputs": [],
   "source": [
    "html_data[\"life_span_yrs\"] = html_data[\"end_yr\"] - html_data[\"founded_yr\"]"
   ]
  },
  {
   "cell_type": "code",
   "execution_count": null,
   "id": "298a335f",
   "metadata": {},
   "outputs": [],
   "source": [
    "fig, axs = plt.subplots(figsize=(40, 15))\n",
    "html_d_subset = html_data[html_data[\"life_span_yrs\"] >= 5]\n",
    "grouped_data = html_d_subset.groupby(html_d_subset[\"tfs_y\"])[\"website_size_kb\"].mean()\n",
    "plt.bar(grouped_data.index, grouped_data, width=0.25)\n",
    "plt.xticks(grouped_data.index[::5], fontsize=14)\n",
    "plt.yticks(fontsize=14)\n",
    "plt.xlabel(\"Years since founding\", fontsize=20);\n",
    "plt.ylabel(\"Average Webpage size (kb)\", fontsize=20);"
   ]
  },
  {
   "cell_type": "markdown",
   "id": "6e7a25b8",
   "metadata": {},
   "source": [
    "### 4.3 10+ years?"
   ]
  },
  {
   "cell_type": "code",
   "execution_count": null,
   "id": "26955ee2",
   "metadata": {},
   "outputs": [],
   "source": [
    "fig, axs = plt.subplots(figsize=(40, 15))\n",
    "html_d_subset = html_data[html_data[\"life_span_yrs\"] >= 10]\n",
    "grouped_data = html_d_subset.groupby(html_d_subset[\"tfs_y\"])[\"website_size_kb\"].mean()\n",
    "plt.bar(grouped_data.index, grouped_data, width=0.25)\n",
    "plt.xticks(grouped_data.index[::5], fontsize=14)\n",
    "plt.yticks(fontsize=14)\n",
    "plt.xlabel(\"Years since founding\", fontsize=20);\n",
    "plt.ylabel(\"Average Webpage size (kb)\", fontsize=20);"
   ]
  },
  {
   "cell_type": "markdown",
   "id": "a226da29",
   "metadata": {},
   "source": [
    "### 4.4 For companies that got their first their first timestamp within 0-2 years of the founding date?"
   ]
  },
  {
   "cell_type": "code",
   "execution_count": null,
   "id": "56fdf575",
   "metadata": {},
   "outputs": [],
   "source": [
    "fig, axs = plt.subplots(figsize=(40, 15))\n",
    "html_d_subset = html_data[html_data['ft_in_2']]\n",
    "grouped_data = html_d_subset.groupby(html_d_subset[\"tfs_y\"])[\"website_size_kb\"].mean()\n",
    "plt.bar(grouped_data.index, grouped_data, width=0.25)\n",
    "plt.xticks(grouped_data.index[::5], fontsize=14)\n",
    "plt.yticks(fontsize=14)\n",
    "plt.xlabel(\"Years since founding\", fontsize=20);\n",
    "plt.ylabel(\"Average Webpage size (kb)\", fontsize=20);"
   ]
  },
  {
   "cell_type": "markdown",
   "id": "ffe52339",
   "metadata": {},
   "source": [
    "## 5. Meta tag time series"
   ]
  },
  {
   "cell_type": "markdown",
   "id": "5c506c19",
   "metadata": {},
   "source": [
    "### 5.1 Description"
   ]
  },
  {
   "cell_type": "code",
   "execution_count": null,
   "id": "328e0aa0",
   "metadata": {},
   "outputs": [],
   "source": [
    "fig, axs = plt.subplots(figsize=(40, 15))\n",
    "grouped_data = html_data.groupby(html_data[\"tfs_y\"])[\"meta_description\"].mean()\n",
    "plt.bar(grouped_data.index, grouped_data, width=0.25)\n",
    "plt.xticks(grouped_data.index[::5], fontsize=14)\n",
    "plt.yticks(fontsize=14)\n",
    "plt.xlabel(\"Years since founding\", fontsize=20);\n",
    "plt.ylabel(\"Proportion of websites that include meta description\", fontsize=20);"
   ]
  },
  {
   "cell_type": "markdown",
   "id": "f2417252",
   "metadata": {},
   "source": [
    "### 5.2 Keywords"
   ]
  },
  {
   "cell_type": "code",
   "execution_count": null,
   "id": "5d903002",
   "metadata": {
    "scrolled": true
   },
   "outputs": [],
   "source": [
    "fig, axs = plt.subplots(figsize=(40, 15))\n",
    "grouped_data = html_data.groupby(html_data[\"tfs_y\"])[\"meta_keywords\"].mean()\n",
    "plt.bar(grouped_data.index, grouped_data, width=0.25)\n",
    "plt.xticks(grouped_data.index[::5], fontsize=14)\n",
    "plt.yticks(fontsize=14)\n",
    "plt.xlabel(\"Years since founding\", fontsize=20);\n",
    "plt.ylabel(\"Proportion of websites that include meta keywords\", fontsize=20);"
   ]
  },
  {
   "cell_type": "markdown",
   "id": "3255840f",
   "metadata": {},
   "source": [
    "### 5.3 Description Over Capture Year"
   ]
  },
  {
   "cell_type": "code",
   "execution_count": null,
   "id": "36f7d384",
   "metadata": {},
   "outputs": [],
   "source": [
    "fig, axs = plt.subplots(figsize=(40, 15))\n",
    "grouped_data = html_data.groupby(html_data[\"capture_yr\"])[\"meta_description\"].mean()\n",
    "plt.bar(grouped_data.index, grouped_data, width=0.5)\n",
    "plt.xticks(grouped_data.index, fontsize=16)\n",
    "plt.yticks(fontsize=16)\n",
    "plt.xlabel(\"Year captured\", fontsize=20);\n",
    "plt.ylabel(\"Proportion of companies that include Meta description\", fontsize=20);"
   ]
  },
  {
   "cell_type": "markdown",
   "id": "d2707c6b",
   "metadata": {},
   "source": [
    "### 5.3 Keywords Over Capture Year"
   ]
  },
  {
   "cell_type": "code",
   "execution_count": null,
   "id": "da753ce8",
   "metadata": {
    "scrolled": true
   },
   "outputs": [],
   "source": [
    "fig, axs = plt.subplots(figsize=(40, 15))\n",
    "grouped_data = html_data.groupby(html_data[\"capture_yr\"])[\"meta_keywords\"].mean()\n",
    "plt.bar(grouped_data.index, grouped_data, width=0.5)\n",
    "plt.xticks(grouped_data.index, fontsize=16)\n",
    "plt.yticks(fontsize=16)\n",
    "plt.xlabel(\"Year captured\", fontsize=20);\n",
    "plt.ylabel(\"Proportion of companies that include meta tag keywords\", fontsize=20);"
   ]
  },
  {
   "cell_type": "markdown",
   "id": "99e11eae",
   "metadata": {},
   "source": [
    "## 6. Does `<a>`'s `innertext` include the words \"job\" or \"careers\""
   ]
  },
  {
   "cell_type": "markdown",
   "id": "e8e64089",
   "metadata": {},
   "source": [
    "Create function that creates new column"
   ]
  },
  {
   "cell_type": "code",
   "execution_count": null,
   "id": "216eebbb",
   "metadata": {},
   "outputs": [],
   "source": [
    "def find_job_page(x):\n",
    "    x = ast.literal_eval(x)\n",
    "    for word in x:\n",
    "        if word.lower() in [\"job\", \"jobs\", \"careers\", \"career\"]:\n",
    "            return True\n",
    "    return False"
   ]
  },
  {
   "cell_type": "code",
   "execution_count": null,
   "id": "575b3c6f",
   "metadata": {},
   "outputs": [],
   "source": [
    "html_data[\"job_link\"] = html_data[\"a_innertext\"].apply(find_job_page)"
   ]
  },
  {
   "cell_type": "code",
   "execution_count": null,
   "id": "8330a617",
   "metadata": {},
   "outputs": [],
   "source": [
    "html_data[\"job_link\"].value_counts()"
   ]
  },
  {
   "cell_type": "code",
   "execution_count": null,
   "id": "e439d5ee",
   "metadata": {},
   "outputs": [],
   "source": [
    "fig, axs = plt.subplots(figsize=(40, 15))\n",
    "grouped_data = html_data.groupby(html_data[\"tfs_y\"])[\"job_link\"].mean()\n",
    "plt.bar(grouped_data.index, grouped_data, width=0.25)\n",
    "plt.xticks(grouped_data.index[::5], fontsize=14)\n",
    "plt.yticks(fontsize=14)\n",
    "plt.xlabel(\"Years since founding\", fontsize=20);\n",
    "plt.ylabel(\"Proportion of websites that have job/career pages\", fontsize=20);"
   ]
  },
  {
   "cell_type": "markdown",
   "id": "2e744ad0",
   "metadata": {},
   "source": [
    "### 6.1 For companies that got their first their first timestamp within 0-2 years of the founding date?"
   ]
  },
  {
   "cell_type": "code",
   "execution_count": null,
   "id": "82e62ee8",
   "metadata": {},
   "outputs": [],
   "source": [
    "fig, axs = plt.subplots(figsize=(40, 15))\n",
    "html_subset = html_data[html_data['ft_in_2']]\n",
    "grouped_data = html_subset.groupby(html_subset[\"tfs_y\"])[\"job_link\"].mean()\n",
    "plt.bar(grouped_data.index, grouped_data, width=0.25)\n",
    "plt.xticks(grouped_data.index[::5], fontsize=14)\n",
    "plt.yticks(fontsize=14)\n",
    "plt.xlabel(\"Years since founding\", fontsize=20);\n",
    "plt.ylabel(\"Proportion of websites that have job/career pages\", fontsize=20);"
   ]
  },
  {
   "cell_type": "markdown",
   "id": "52f5f8c8",
   "metadata": {},
   "source": [
    "Numbers are a lot higher towards the end..."
   ]
  },
  {
   "cell_type": "markdown",
   "id": "794ae879",
   "metadata": {},
   "source": [
    "### 6.2 Over year captured?"
   ]
  },
  {
   "cell_type": "code",
   "execution_count": null,
   "id": "7743069a",
   "metadata": {},
   "outputs": [],
   "source": [
    "fig, axs = plt.subplots(figsize=(40, 15))\n",
    "grouped_data = html_data.groupby(html_data[\"capture_yr\"])[\"job_link\"].mean()\n",
    "plt.bar(grouped_data.index, grouped_data, width=0.5)\n",
    "plt.xticks(grouped_data.index, fontsize=14)\n",
    "plt.yticks(fontsize=14)\n",
    "plt.xlabel(\"Years since founding\", fontsize=20);\n",
    "plt.ylabel(\"Proportion of websites that have job/career pages\", fontsize=20);"
   ]
  },
  {
   "cell_type": "markdown",
   "id": "30ad9293",
   "metadata": {},
   "source": [
    "_After_ 2010, we can use this as a signal"
   ]
  },
  {
   "cell_type": "markdown",
   "id": "9b98b320",
   "metadata": {},
   "source": [
    "### 6.3 Companies founded after 2010?"
   ]
  },
  {
   "cell_type": "code",
   "execution_count": null,
   "id": "58ce39fd",
   "metadata": {},
   "outputs": [],
   "source": [
    "fig, axs = plt.subplots(figsize=(40, 15))\n",
    "html_d_subset = html_data[html_data[\"founded_yr\"] >= 2010]\n",
    "grouped_data = html_d_subset.groupby(html_d_subset[\"tfs_y\"])[\"job_link\"].mean()\n",
    "plt.bar(grouped_data.index, grouped_data, width=0.25)\n",
    "plt.xticks(grouped_data.index[::5], fontsize=14)\n",
    "plt.yticks(fontsize=14)\n",
    "plt.xlabel(\"Years since founding\", fontsize=20);\n",
    "plt.ylabel(\"Proportion of websites that have job/career pages\", fontsize=20);"
   ]
  }
 ],
 "metadata": {
  "kernelspec": {
   "display_name": "Python 3 (ipykernel)",
   "language": "python",
   "name": "python3"
  },
  "language_info": {
   "codemirror_mode": {
    "name": "ipython",
    "version": 3
   },
   "file_extension": ".py",
   "mimetype": "text/x-python",
   "name": "python",
   "nbconvert_exporter": "python",
   "pygments_lexer": "ipython3",
   "version": "3.9.2"
  }
 },
 "nbformat": 4,
 "nbformat_minor": 5
}
