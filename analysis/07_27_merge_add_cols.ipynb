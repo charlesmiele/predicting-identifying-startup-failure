{
 "cells": [
  {
   "cell_type": "code",
   "execution_count": 147,
   "id": "dfa07dc4",
   "metadata": {},
   "outputs": [],
   "source": [
    "import pandas as pd\n",
    "import numpy as np"
   ]
  },
  {
   "cell_type": "markdown",
   "id": "4a14317f",
   "metadata": {},
   "source": [
    "1. HTML = \"html_analysis.py\" results\n",
    "2. logReport = \"filter_html_download.py\" results\n",
    "3. inFile = 'startup_url_list.csv"
   ]
  },
  {
   "cell_type": "code",
   "execution_count": 156,
   "id": "76f0051a",
   "metadata": {},
   "outputs": [
    {
     "name": "stderr",
     "output_type": "stream",
     "text": [
      "/Library/Frameworks/Python.framework/Versions/3.9/lib/python3.9/site-packages/IPython/core/interactiveshell.py:3269: DtypeWarning: Columns (5) have mixed types.Specify dtype option on import or set low_memory=False.\n",
      "  has_raised = await self.run_ast_nodes(code_ast.body, cell_name,\n"
     ]
    }
   ],
   "source": [
    "html = pd.read_csv('../data/07_27_analysis.csv')\n",
    "logReport = pd.read_csv('../data/HTMLReport.csv')\n",
    "inFile = pd.read_csv('../data/startup_url_list.csv')"
   ]
  },
  {
   "cell_type": "markdown",
   "id": "6bebcc7b",
   "metadata": {},
   "source": [
    "(Temporary) delete: `Unnamed: 0` from `logReport`"
   ]
  },
  {
   "cell_type": "code",
   "execution_count": 157,
   "id": "9ee9c74f",
   "metadata": {},
   "outputs": [],
   "source": [
    "logReport = logReport.drop('Unnamed: 0', axis=1)\n",
    "logReport['capture_yr'] = logReport.timestamp.astype(str).str.slice(start=0, stop=4).astype(int)\n",
    "logReport['capture_m'] = logReport.timestamp.astype(str).str.slice(start=4, stop=6).astype(int)"
   ]
  },
  {
   "cell_type": "markdown",
   "id": "be7d70a1",
   "metadata": {},
   "source": [
    "First, merge HTML with the inFile on entityid, and with the logReport on entityid, capture year, and capture month"
   ]
  },
  {
   "cell_type": "code",
   "execution_count": 158,
   "id": "e7f937af",
   "metadata": {},
   "outputs": [],
   "source": [
    "html = pd.merge(html, logReport, on=['entityid', 'capture_yr', 'capture_m'])\n",
    "html = html.merge(inFile, on='entityid')"
   ]
  },
  {
   "cell_type": "markdown",
   "id": "468186a6",
   "metadata": {},
   "source": [
    "Define companies as failed, not-failed (exited), or unknown"
   ]
  },
  {
   "cell_type": "code",
   "execution_count": 168,
   "id": "979462eb",
   "metadata": {},
   "outputs": [],
   "source": [
    "failedStatus = ['Out of Business', 'In Bankruptcy']\n",
    "exitedStatus = ['Publicly-held', 'Acquired/Merged', 'In IPO Registration']\n",
    "otherStatus = ['Private & Independent', 'Assets Acquired']"
   ]
  },
  {
   "cell_type": "markdown",
   "id": "4e63ac05",
   "metadata": {},
   "source": [
    "Map to Failed: 1, NotFailed: 0, and Unknown: -1"
   ]
  },
  {
   "cell_type": "code",
   "execution_count": 169,
   "id": "9b7c38f0",
   "metadata": {},
   "outputs": [],
   "source": [
    "conditions = [\n",
    "    html.ownershipstatus.isin(failedStatus),\n",
    "    html.ownershipstatus.isin(exitedStatus),\n",
    "    html.ownershipstatus.isin(otherStatus)\n",
    "]\n",
    "values = [1, 0, -1]\n",
    "html['failed'] = np.select(conditions, values)"
   ]
  },
  {
   "cell_type": "markdown",
   "id": "2129ff28",
   "metadata": {},
   "source": [
    "Define the the end year and start year"
   ]
  },
  {
   "cell_type": "code",
   "execution_count": 170,
   "id": "4771a88e",
   "metadata": {},
   "outputs": [],
   "source": [
    "# Define end year of a company `end_yr`\n",
    "html['end_yr'] = html['exit_date'].str.slice(start=0, stop=4) \\\n",
    "    .astype('float', errors='ignore') # This will have NAs\n",
    "\n",
    "# Start yr `start_yr`\n",
    "html['start_yr'] = html['startdate'].str.slice(start=0, stop=4) \\\n",
    "    .fillna(html['lastVC'].str.slice(start=0, stop=4)) \\\n",
    "    .astype('float', errors='ignore')"
   ]
  },
  {
   "cell_type": "markdown",
   "id": "1ac6789d",
   "metadata": {},
   "source": [
    "Many companies (80%) will not have an end year. We are estimating it as their lastVC date + 2 years."
   ]
  },
  {
   "cell_type": "markdown",
   "id": "9bb7c105",
   "metadata": {},
   "source": [
    "Also, define company lifespan"
   ]
  },
  {
   "cell_type": "code",
   "execution_count": 171,
   "id": "60f0a719",
   "metadata": {},
   "outputs": [],
   "source": [
    "html.end_yr = html.end_yr.fillna(html.lastVC.str.slice(start=0, stop=4).astype(int) + 2)\n",
    "\n",
    "# Lifespan (end_yr - start_yr)\n",
    "html['lifespan'] = html['end_yr'] - html['start_yr']"
   ]
  },
  {
   "cell_type": "code",
   "execution_count": 174,
   "id": "beb0349c",
   "metadata": {},
   "outputs": [],
   "source": [
    "html.to_csv('../data/07_28_merged_analysis.csv', index=False)"
   ]
  }
 ],
 "metadata": {
  "kernelspec": {
   "display_name": "Python 3 (ipykernel)",
   "language": "python",
   "name": "python3"
  },
  "language_info": {
   "codemirror_mode": {
    "name": "ipython",
    "version": 3
   },
   "file_extension": ".py",
   "mimetype": "text/x-python",
   "name": "python",
   "nbconvert_exporter": "python",
   "pygments_lexer": "ipython3",
   "version": "3.9.2"
  }
 },
 "nbformat": 4,
 "nbformat_minor": 5
}
