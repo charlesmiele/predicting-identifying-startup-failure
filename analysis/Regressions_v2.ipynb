{
 "cells": [
  {
   "cell_type": "code",
   "execution_count": 1,
   "id": "1efc897a",
   "metadata": {},
   "outputs": [],
   "source": [
    "import pandas as pd\n",
    "import seaborn as sns\n",
    "import matplotlib.pyplot as plt\n",
    "import statsmodels.api as sm\n",
    "from statsmodels.formula.api import probit\n",
    "import numpy as np\n",
    "\n",
    "pd.set_option('max_columns', 200)\n",
    "pd.set_option('max_rows', 200)\n",
    "plt.style.use('ggplot')"
   ]
  },
  {
   "cell_type": "markdown",
   "id": "e4715883",
   "metadata": {},
   "source": [
    "# Table of Contents"
   ]
  },
  {
   "cell_type": "markdown",
   "id": "555753a9",
   "metadata": {},
   "source": [
    "1. [Read Data](#Read-Data)\n",
    "2. [Define Supporting Functions](#Define-Supporting-Functions)\n",
    "3. [Cross-Sectional Regressions-Final screenshot](#Cross-Sectional-Regressions-Final-screenshot)\n",
    "4. [Cross-Sectional Regression Table](#Cross-Sectional-Regression-Table)\n",
    "5. [Growth regressions](#Growth-Regressions)\n",
    "6. [Time Between Captures](#Time-Between-Captures)\n",
    "7. [Y Dummy Variables](#Y-Dummy-Variables)\n"
   ]
  },
  {
   "cell_type": "code",
   "execution_count": 11,
   "id": "0927c8e4",
   "metadata": {},
   "outputs": [],
   "source": [
    "## Read Data\n",
    "html = pd.read_csv('../data/07_28_merged_analysis.csv')"
   ]
  },
  {
   "cell_type": "code",
   "execution_count": 4,
   "id": "b65a5c94",
   "metadata": {},
   "outputs": [],
   "source": [
    "# Filter only clear successed and failures\n",
    "html = html[html.failed.isin([0, 1])]"
   ]
  },
  {
   "cell_type": "code",
   "execution_count": 12,
   "id": "cdf73b79",
   "metadata": {},
   "outputs": [
    {
     "data": {
      "text/plain": [
       "good         739592\n",
       "SmallBody     52421\n",
       "JSHeavy       42209\n",
       "emptyFile      2375\n",
       "Name: notes, dtype: int64"
      ]
     },
     "execution_count": 12,
     "metadata": {},
     "output_type": "execute_result"
    }
   ],
   "source": [
    "html.notes.value_counts()"
   ]
  },
  {
   "cell_type": "markdown",
   "id": "acd69ff5",
   "metadata": {},
   "source": [
    "**This line of code is very important:**\n",
    "\n",
    "We're removing all HTML files that are either (1) empty, (2) not fully loaded in because of the JS error, or (3) have a suspiciously small contents inside of its `<body>`\n",
    "\n",
    "The goal of this is to have less noise in our data, and to make the regressions run better"
   ]
  },
  {
   "cell_type": "code",
   "execution_count": 13,
   "id": "2986e265",
   "metadata": {},
   "outputs": [],
   "source": [
    "html = html[html.notes == 'good']"
   ]
  },
  {
   "cell_type": "code",
   "execution_count": 9,
   "id": "3c91baab",
   "metadata": {},
   "outputs": [
    {
     "data": {
      "text/plain": [
       "213682"
      ]
     },
     "execution_count": 9,
     "metadata": {},
     "output_type": "execute_result"
    }
   ],
   "source": [
    "len(html.index)"
   ]
  },
  {
   "cell_type": "markdown",
   "id": "d3272f9e",
   "metadata": {},
   "source": [
    "Still working with 213,000 HTML files for our training data, not bad..."
   ]
  },
  {
   "cell_type": "markdown",
   "id": "796d284c",
   "metadata": {},
   "source": [
    "#### Add y dummies:"
   ]
  },
  {
   "cell_type": "markdown",
   "id": "bda5ea77",
   "metadata": {},
   "source": [
    "Failed / succeeced *within* year [1-10] columns"
   ]
  },
  {
   "cell_type": "code",
   "execution_count": null,
   "id": "31f0d24c",
   "metadata": {},
   "outputs": [],
   "source": [
    "for i in range(1, 11):\n",
    "    fColName = f\"f_{i}\"\n",
    "    html[fColName] = ((html.lifespan <= i) & (html.Failed == 1)).astype('int')\n",
    "    \n",
    "for i in range(1, 11):\n",
    "    sColName = f\"s_{i}\"\n",
    "    html[sColName] = ((html.lifespan <= i) & (html.Failed == 0)).astype('int')"
   ]
  },
  {
   "cell_type": "markdown",
   "id": "5289ca54",
   "metadata": {},
   "source": [
    "**The main dataset we'll using for regressions (for now):**"
   ]
  },
  {
   "cell_type": "code",
   "execution_count": 16,
   "id": "2eb7c0aa",
   "metadata": {},
   "outputs": [],
   "source": [
    "data = html.groupby('entityid').last()"
   ]
  },
  {
   "cell_type": "markdown",
   "id": "5ca69636",
   "metadata": {},
   "source": [
    "---"
   ]
  },
  {
   "cell_type": "markdown",
   "id": "9e043473",
   "metadata": {},
   "source": [
    "## Define Supporting Functions"
   ]
  },
  {
   "cell_type": "markdown",
   "id": "40cca7ed",
   "metadata": {},
   "source": [
    "This function plots the regressions for us using seaborn and matplotlib.\n",
    "\n",
    "Takes in an independent variable of interest (this will be plotted on the Y axis for better readbility), a control, and options to plot industry individually and or/save\n",
    "\n",
    "Takes in optional fixed effects (maximum of one)\n",
    "\n",
    "`y` and `data` are default arguments"
   ]
  },
  {
   "cell_type": "markdown",
   "id": "b8d29647",
   "metadata": {},
   "source": [
    "TODO: Add option for multiple fixed effects"
   ]
  },
  {
   "cell_type": "code",
   "execution_count": 17,
   "id": "25937b4a",
   "metadata": {},
   "outputs": [],
   "source": [
    "def plot_freg(y, data, control=None, industry=False, save=None):\n",
    "    # Always do most basic OLS\n",
    "    # sns.regplot(x='Failed', y=y, data=data, x_estimator=np.mean, color='g', label='Base OLS')\n",
    "    \n",
    "    if not industry:\n",
    "        sns.regplot(x='Failed', y=y, data=data, x_estimator=np.mean, y_partial=control, \\\n",
    "                    color='b', label=f'Controlling for {control}');\n",
    "        plt.legend()\n",
    "    else:\n",
    "        ind_groups = data.groupby('new_industrygroup')\n",
    "        for name, group in ind_groups:\n",
    "            # We're gonna ignore these industries for now\n",
    "            ind_ignore = [\"To Be Assigned\", \"Energy and Utilities\", \"Industrial Goods and Materials\"]\n",
    "            if name not in ind_ignore:\n",
    "                sns.regplot(x='Failed', y=y, data=group, x_estimator=np.mean, y_partial=control, label=name);\n",
    "        if control:\n",
    "            plt.title(f'Predicting failure on {y} by industry, controlling for {control}')\n",
    "        else:\n",
    "            plt.title(f'Predicting failure on {y} by industry')\n",
    "        plt.legend(bbox_to_anchor=(1.05, 1), loc='upper left');\n",
    "    plt.xticks([0,1])\n",
    "    if save:\n",
    "        plt.savefig(save, dpi=200, bbox_inches='tight')"
   ]
  },
  {
   "cell_type": "markdown",
   "id": "ac934301",
   "metadata": {},
   "source": [
    "This function creates the regression model using the statsmodels library.\n",
    "\n",
    "Y is assumed to be `failed`. Takes in any X variable, it just has to be inside `data`\n",
    "\n",
    "Fixed effects for end year, industry, state, and start year.\n",
    "\n",
    "`data`  and `x` are default arguments."
   ]
  },
  {
   "cell_type": "code",
   "execution_count": 18,
   "id": "e72a548b",
   "metadata": {},
   "outputs": [],
   "source": [
    "def run_model(x, data, y='failed', control=['end_yr', 'new_industrygroup', 'state', 'start_yr'], lifespanControl=None):\n",
    "    \n",
    "    if lifespanControl is not None:\n",
    "        data.query('lifespan <= @lifespanControl')\n",
    "    \n",
    "    X = data[x]\n",
    "    \n",
    "    \n",
    "    for i in control:\n",
    "        i_dummies = pd.get_dummies(data[i], prefix=i, drop_first=True)\n",
    "        X = pd.concat([X, i_dummies], axis=1)\n",
    "    X = sm.add_constant(X)\n",
    "    mod = sm.OLS(data[y], X).fit()\n",
    "    return mod"
   ]
  },
  {
   "cell_type": "markdown",
   "id": "6599f0a2",
   "metadata": {},
   "source": [
    "## Cross-Sectional Regressions-Final screenshot"
   ]
  },
  {
   "cell_type": "markdown",
   "id": "a76afaed",
   "metadata": {},
   "source": [
    "Our most basic regressions.\n",
    "\n",
    "Unit of observation = Final snapshot for each company"
   ]
  },
  {
   "cell_type": "markdown",
   "id": "dc48c064",
   "metadata": {},
   "source": [
    "### Includes Login"
   ]
  },
  {
   "cell_type": "code",
   "execution_count": 20,
   "id": "41b82948",
   "metadata": {},
   "outputs": [
    {
     "data": {
      "text/html": [
       "<table class=\"simpletable\">\n",
       "<caption>OLS Regression Results</caption>\n",
       "<tr>\n",
       "  <th>Dep. Variable:</th>         <td>failed</td>      <th>  R-squared:         </th> <td>   0.405</td> \n",
       "</tr>\n",
       "<tr>\n",
       "  <th>Model:</th>                   <td>OLS</td>       <th>  Adj. R-squared:    </th> <td>   0.403</td> \n",
       "</tr>\n",
       "<tr>\n",
       "  <th>Method:</th>             <td>Least Squares</td>  <th>  F-statistic:       </th> <td>   361.5</td> \n",
       "</tr>\n",
       "<tr>\n",
       "  <th>Date:</th>             <td>Fri, 28 Jul 2023</td> <th>  Prob (F-statistic):</th>  <td>  0.00</td>  \n",
       "</tr>\n",
       "<tr>\n",
       "  <th>Time:</th>                 <td>21:31:55</td>     <th>  Log-Likelihood:    </th> <td> -41436.</td> \n",
       "</tr>\n",
       "<tr>\n",
       "  <th>No. Observations:</th>      <td> 61834</td>      <th>  AIC:               </th> <td>8.311e+04</td>\n",
       "</tr>\n",
       "<tr>\n",
       "  <th>Df Residuals:</th>          <td> 61717</td>      <th>  BIC:               </th> <td>8.416e+04</td>\n",
       "</tr>\n",
       "<tr>\n",
       "  <th>Df Model:</th>              <td>   116</td>      <th>                     </th>     <td> </td>    \n",
       "</tr>\n",
       "<tr>\n",
       "  <th>Covariance Type:</th>      <td>nonrobust</td>    <th>                     </th>     <td> </td>    \n",
       "</tr>\n",
       "</table>\n",
       "<table class=\"simpletable\">\n",
       "<tr>\n",
       "                          <td></td>                            <th>coef</th>     <th>std err</th>      <th>t</th>      <th>P>|t|</th>  <th>[0.025</th>    <th>0.975]</th>  \n",
       "</tr>\n",
       "<tr>\n",
       "  <th>const</th>                                            <td>   -0.0545</td> <td>    0.216</td> <td>   -0.252</td> <td> 0.801</td> <td>   -0.478</td> <td>    0.369</td>\n",
       "</tr>\n",
       "<tr>\n",
       "  <th>login_link</th>                                       <td>   -0.0360</td> <td>    0.004</td> <td>   -8.404</td> <td> 0.000</td> <td>   -0.044</td> <td>   -0.028</td>\n",
       "</tr>\n",
       "<tr>\n",
       "  <th>end_yr_1998.0</th>                                    <td>    0.0137</td> <td>    0.232</td> <td>    0.059</td> <td> 0.953</td> <td>   -0.441</td> <td>    0.469</td>\n",
       "</tr>\n",
       "<tr>\n",
       "  <th>end_yr_1999.0</th>                                    <td>    0.0436</td> <td>    0.216</td> <td>    0.202</td> <td> 0.840</td> <td>   -0.379</td> <td>    0.466</td>\n",
       "</tr>\n",
       "<tr>\n",
       "  <th>end_yr_2000.0</th>                                    <td>    0.0535</td> <td>    0.214</td> <td>    0.250</td> <td> 0.803</td> <td>   -0.366</td> <td>    0.473</td>\n",
       "</tr>\n",
       "<tr>\n",
       "  <th>end_yr_2001.0</th>                                    <td>    0.3085</td> <td>    0.214</td> <td>    1.442</td> <td> 0.149</td> <td>   -0.111</td> <td>    0.728</td>\n",
       "</tr>\n",
       "<tr>\n",
       "  <th>end_yr_2002.0</th>                                    <td>    0.6484</td> <td>    0.213</td> <td>    3.043</td> <td> 0.002</td> <td>    0.231</td> <td>    1.066</td>\n",
       "</tr>\n",
       "<tr>\n",
       "  <th>end_yr_2003.0</th>                                    <td>    0.4010</td> <td>    0.213</td> <td>    1.879</td> <td> 0.060</td> <td>   -0.017</td> <td>    0.819</td>\n",
       "</tr>\n",
       "<tr>\n",
       "  <th>end_yr_2004.0</th>                                    <td>    0.0848</td> <td>    0.213</td> <td>    0.397</td> <td> 0.691</td> <td>   -0.334</td> <td>    0.503</td>\n",
       "</tr>\n",
       "<tr>\n",
       "  <th>end_yr_2005.0</th>                                    <td>    0.0229</td> <td>    0.214</td> <td>    0.107</td> <td> 0.915</td> <td>   -0.396</td> <td>    0.442</td>\n",
       "</tr>\n",
       "<tr>\n",
       "  <th>end_yr_2006.0</th>                                    <td>   -0.0332</td> <td>    0.214</td> <td>   -0.156</td> <td> 0.876</td> <td>   -0.452</td> <td>    0.385</td>\n",
       "</tr>\n",
       "<tr>\n",
       "  <th>end_yr_2007.0</th>                                    <td>   -0.0155</td> <td>    0.213</td> <td>   -0.073</td> <td> 0.942</td> <td>   -0.434</td> <td>    0.403</td>\n",
       "</tr>\n",
       "<tr>\n",
       "  <th>end_yr_2008.0</th>                                    <td>   -0.0257</td> <td>    0.214</td> <td>   -0.120</td> <td> 0.904</td> <td>   -0.444</td> <td>    0.393</td>\n",
       "</tr>\n",
       "<tr>\n",
       "  <th>end_yr_2009.0</th>                                    <td>   -0.0021</td> <td>    0.213</td> <td>   -0.010</td> <td> 0.992</td> <td>   -0.420</td> <td>    0.416</td>\n",
       "</tr>\n",
       "<tr>\n",
       "  <th>end_yr_2010.0</th>                                    <td>   -0.0395</td> <td>    0.213</td> <td>   -0.185</td> <td> 0.853</td> <td>   -0.457</td> <td>    0.378</td>\n",
       "</tr>\n",
       "<tr>\n",
       "  <th>end_yr_2011.0</th>                                    <td>   -0.0495</td> <td>    0.213</td> <td>   -0.232</td> <td> 0.817</td> <td>   -0.467</td> <td>    0.368</td>\n",
       "</tr>\n",
       "<tr>\n",
       "  <th>end_yr_2012.0</th>                                    <td>   -0.0862</td> <td>    0.213</td> <td>   -0.404</td> <td> 0.686</td> <td>   -0.504</td> <td>    0.332</td>\n",
       "</tr>\n",
       "<tr>\n",
       "  <th>end_yr_2013.0</th>                                    <td>   -0.1440</td> <td>    0.213</td> <td>   -0.675</td> <td> 0.499</td> <td>   -0.562</td> <td>    0.274</td>\n",
       "</tr>\n",
       "<tr>\n",
       "  <th>end_yr_2014.0</th>                                    <td>   -0.1555</td> <td>    0.213</td> <td>   -0.730</td> <td> 0.466</td> <td>   -0.573</td> <td>    0.262</td>\n",
       "</tr>\n",
       "<tr>\n",
       "  <th>end_yr_2015.0</th>                                    <td>   -0.2414</td> <td>    0.213</td> <td>   -1.133</td> <td> 0.257</td> <td>   -0.659</td> <td>    0.176</td>\n",
       "</tr>\n",
       "<tr>\n",
       "  <th>end_yr_2016.0</th>                                    <td>   -0.3383</td> <td>    0.213</td> <td>   -1.588</td> <td> 0.112</td> <td>   -0.756</td> <td>    0.079</td>\n",
       "</tr>\n",
       "<tr>\n",
       "  <th>end_yr_2017.0</th>                                    <td>   -0.3425</td> <td>    0.213</td> <td>   -1.608</td> <td> 0.108</td> <td>   -0.760</td> <td>    0.075</td>\n",
       "</tr>\n",
       "<tr>\n",
       "  <th>end_yr_2018.0</th>                                    <td>   -0.3581</td> <td>    0.213</td> <td>   -1.681</td> <td> 0.093</td> <td>   -0.776</td> <td>    0.059</td>\n",
       "</tr>\n",
       "<tr>\n",
       "  <th>end_yr_2019.0</th>                                    <td>   -0.4995</td> <td>    0.213</td> <td>   -2.346</td> <td> 0.019</td> <td>   -0.917</td> <td>   -0.082</td>\n",
       "</tr>\n",
       "<tr>\n",
       "  <th>end_yr_2020.0</th>                                    <td>   -0.8590</td> <td>    0.213</td> <td>   -4.034</td> <td> 0.000</td> <td>   -1.276</td> <td>   -0.442</td>\n",
       "</tr>\n",
       "<tr>\n",
       "  <th>end_yr_2021.0</th>                                    <td>   -0.7948</td> <td>    0.213</td> <td>   -3.733</td> <td> 0.000</td> <td>   -1.212</td> <td>   -0.378</td>\n",
       "</tr>\n",
       "<tr>\n",
       "  <th>end_yr_2022.0</th>                                    <td>   -0.6468</td> <td>    0.213</td> <td>   -3.040</td> <td> 0.002</td> <td>   -1.064</td> <td>   -0.230</td>\n",
       "</tr>\n",
       "<tr>\n",
       "  <th>end_yr_2023.0</th>                                    <td>   -0.7663</td> <td>    0.213</td> <td>   -3.602</td> <td> 0.000</td> <td>   -1.183</td> <td>   -0.349</td>\n",
       "</tr>\n",
       "<tr>\n",
       "  <th>end_yr_2024.0</th>                                    <td>   -0.8222</td> <td>    0.213</td> <td>   -3.865</td> <td> 0.000</td> <td>   -1.239</td> <td>   -0.405</td>\n",
       "</tr>\n",
       "<tr>\n",
       "  <th>end_yr_2025.0</th>                                    <td>   -0.8045</td> <td>    0.213</td> <td>   -3.778</td> <td> 0.000</td> <td>   -1.222</td> <td>   -0.387</td>\n",
       "</tr>\n",
       "<tr>\n",
       "  <th>new_industrygroup_Consumer Goods</th>                 <td>   -0.0155</td> <td>    0.009</td> <td>   -1.793</td> <td> 0.073</td> <td>   -0.033</td> <td>    0.001</td>\n",
       "</tr>\n",
       "<tr>\n",
       "  <th>new_industrygroup_Consumer Services</th>              <td>    0.0220</td> <td>    0.007</td> <td>    3.239</td> <td> 0.001</td> <td>    0.009</td> <td>    0.035</td>\n",
       "</tr>\n",
       "<tr>\n",
       "  <th>new_industrygroup_Energy and Utilities</th>           <td>   -0.0281</td> <td>    0.015</td> <td>   -1.820</td> <td> 0.069</td> <td>   -0.058</td> <td>    0.002</td>\n",
       "</tr>\n",
       "<tr>\n",
       "  <th>new_industrygroup_Healthcare</th>                     <td>   -0.0006</td> <td>    0.006</td> <td>   -0.095</td> <td> 0.924</td> <td>   -0.013</td> <td>    0.012</td>\n",
       "</tr>\n",
       "<tr>\n",
       "  <th>new_industrygroup_Industrial Goods and Materials</th> <td>   -0.0115</td> <td>    0.011</td> <td>   -1.056</td> <td> 0.291</td> <td>   -0.033</td> <td>    0.010</td>\n",
       "</tr>\n",
       "<tr>\n",
       "  <th>new_industrygroup_Information Technology</th>         <td>    0.0315</td> <td>    0.005</td> <td>    5.792</td> <td> 0.000</td> <td>    0.021</td> <td>    0.042</td>\n",
       "</tr>\n",
       "<tr>\n",
       "  <th>new_industrygroup_To Be Assigned</th>                 <td>   -0.3454</td> <td>    0.055</td> <td>   -6.261</td> <td> 0.000</td> <td>   -0.454</td> <td>   -0.237</td>\n",
       "</tr>\n",
       "<tr>\n",
       "  <th>state_AL</th>                                         <td>   -0.0013</td> <td>    0.053</td> <td>   -0.025</td> <td> 0.980</td> <td>   -0.104</td> <td>    0.102</td>\n",
       "</tr>\n",
       "<tr>\n",
       "  <th>state_AR</th>                                         <td>    0.0098</td> <td>    0.063</td> <td>    0.155</td> <td> 0.877</td> <td>   -0.114</td> <td>    0.133</td>\n",
       "</tr>\n",
       "<tr>\n",
       "  <th>state_AZ</th>                                         <td>    0.0116</td> <td>    0.046</td> <td>    0.250</td> <td> 0.802</td> <td>   -0.079</td> <td>    0.102</td>\n",
       "</tr>\n",
       "<tr>\n",
       "  <th>state_CA</th>                                         <td>    0.0489</td> <td>    0.042</td> <td>    1.165</td> <td> 0.244</td> <td>   -0.033</td> <td>    0.131</td>\n",
       "</tr>\n",
       "<tr>\n",
       "  <th>state_CO</th>                                         <td>    0.0275</td> <td>    0.043</td> <td>    0.632</td> <td> 0.528</td> <td>   -0.058</td> <td>    0.113</td>\n",
       "</tr>\n",
       "<tr>\n",
       "  <th>state_CT</th>                                         <td>   -0.0159</td> <td>    0.046</td> <td>   -0.347</td> <td> 0.728</td> <td>   -0.106</td> <td>    0.074</td>\n",
       "</tr>\n",
       "<tr>\n",
       "  <th>state_Ca</th>                                         <td>    0.3215</td> <td>    0.476</td> <td>    0.676</td> <td> 0.499</td> <td>   -0.610</td> <td>    1.254</td>\n",
       "</tr>\n",
       "<tr>\n",
       "  <th>state_DC</th>                                         <td>    0.0214</td> <td>    0.048</td> <td>    0.446</td> <td> 0.656</td> <td>   -0.073</td> <td>    0.115</td>\n",
       "</tr>\n",
       "<tr>\n",
       "  <th>state_DE</th>                                         <td>    0.0330</td> <td>    0.045</td> <td>    0.740</td> <td> 0.460</td> <td>   -0.054</td> <td>    0.120</td>\n",
       "</tr>\n",
       "<tr>\n",
       "  <th>state_FL</th>                                         <td>    0.0194</td> <td>    0.043</td> <td>    0.449</td> <td> 0.653</td> <td>   -0.065</td> <td>    0.104</td>\n",
       "</tr>\n",
       "<tr>\n",
       "  <th>state_GA</th>                                         <td>    0.0143</td> <td>    0.044</td> <td>    0.325</td> <td> 0.745</td> <td>   -0.072</td> <td>    0.101</td>\n",
       "</tr>\n",
       "<tr>\n",
       "  <th>state_HI</th>                                         <td>    0.0145</td> <td>    0.064</td> <td>    0.226</td> <td> 0.821</td> <td>   -0.112</td> <td>    0.141</td>\n",
       "</tr>\n",
       "<tr>\n",
       "  <th>state_IA</th>                                         <td>    0.0278</td> <td>    0.057</td> <td>    0.491</td> <td> 0.624</td> <td>   -0.083</td> <td>    0.139</td>\n",
       "</tr>\n",
       "<tr>\n",
       "  <th>state_ID</th>                                         <td>   -0.0470</td> <td>    0.059</td> <td>   -0.799</td> <td> 0.424</td> <td>   -0.162</td> <td>    0.068</td>\n",
       "</tr>\n",
       "<tr>\n",
       "  <th>state_IL</th>                                         <td>   -0.0114</td> <td>    0.043</td> <td>   -0.263</td> <td> 0.793</td> <td>   -0.097</td> <td>    0.074</td>\n",
       "</tr>\n",
       "<tr>\n",
       "  <th>state_IN</th>                                         <td>    0.0616</td> <td>    0.047</td> <td>    1.309</td> <td> 0.191</td> <td>   -0.031</td> <td>    0.154</td>\n",
       "</tr>\n",
       "<tr>\n",
       "  <th>state_KS</th>                                         <td>    0.0254</td> <td>    0.055</td> <td>    0.460</td> <td> 0.646</td> <td>   -0.083</td> <td>    0.134</td>\n",
       "</tr>\n",
       "<tr>\n",
       "  <th>state_KY</th>                                         <td>    0.0411</td> <td>    0.052</td> <td>    0.787</td> <td> 0.431</td> <td>   -0.061</td> <td>    0.143</td>\n",
       "</tr>\n",
       "<tr>\n",
       "  <th>state_LA</th>                                         <td>    0.0265</td> <td>    0.057</td> <td>    0.466</td> <td> 0.641</td> <td>   -0.085</td> <td>    0.138</td>\n",
       "</tr>\n",
       "<tr>\n",
       "  <th>state_MA</th>                                         <td>    0.0468</td> <td>    0.043</td> <td>    1.100</td> <td> 0.271</td> <td>   -0.037</td> <td>    0.130</td>\n",
       "</tr>\n",
       "<tr>\n",
       "  <th>state_MD</th>                                         <td>   -0.0142</td> <td>    0.045</td> <td>   -0.317</td> <td> 0.751</td> <td>   -0.102</td> <td>    0.073</td>\n",
       "</tr>\n",
       "<tr>\n",
       "  <th>state_ME</th>                                         <td>    0.0316</td> <td>    0.062</td> <td>    0.507</td> <td> 0.612</td> <td>   -0.091</td> <td>    0.154</td>\n",
       "</tr>\n",
       "<tr>\n",
       "  <th>state_MI</th>                                         <td>   -0.0011</td> <td>    0.046</td> <td>   -0.023</td> <td> 0.981</td> <td>   -0.090</td> <td>    0.088</td>\n",
       "</tr>\n",
       "<tr>\n",
       "  <th>state_MN</th>                                         <td>    0.0075</td> <td>    0.046</td> <td>    0.163</td> <td> 0.871</td> <td>   -0.082</td> <td>    0.097</td>\n",
       "</tr>\n",
       "<tr>\n",
       "  <th>state_MO</th>                                         <td>    0.0115</td> <td>    0.047</td> <td>    0.244</td> <td> 0.808</td> <td>   -0.081</td> <td>    0.104</td>\n",
       "</tr>\n",
       "<tr>\n",
       "  <th>state_MS</th>                                         <td>   -0.0493</td> <td>    0.088</td> <td>   -0.557</td> <td> 0.577</td> <td>   -0.223</td> <td>    0.124</td>\n",
       "</tr>\n",
       "<tr>\n",
       "  <th>state_MT</th>                                         <td>   -0.0581</td> <td>    0.066</td> <td>   -0.881</td> <td> 0.378</td> <td>   -0.188</td> <td>    0.071</td>\n",
       "</tr>\n",
       "<tr>\n",
       "  <th>state_NC</th>                                         <td>    0.0337</td> <td>    0.044</td> <td>    0.763</td> <td> 0.445</td> <td>   -0.053</td> <td>    0.120</td>\n",
       "</tr>\n",
       "<tr>\n",
       "  <th>state_ND</th>                                         <td>   -0.1095</td> <td>    0.095</td> <td>   -1.155</td> <td> 0.248</td> <td>   -0.295</td> <td>    0.076</td>\n",
       "</tr>\n",
       "<tr>\n",
       "  <th>state_NE</th>                                         <td>    0.0221</td> <td>    0.058</td> <td>    0.382</td> <td> 0.702</td> <td>   -0.091</td> <td>    0.135</td>\n",
       "</tr>\n",
       "<tr>\n",
       "  <th>state_NH</th>                                         <td>   -0.0194</td> <td>    0.055</td> <td>   -0.355</td> <td> 0.723</td> <td>   -0.126</td> <td>    0.087</td>\n",
       "</tr>\n",
       "<tr>\n",
       "  <th>state_NJ</th>                                         <td>    0.0327</td> <td>    0.044</td> <td>    0.737</td> <td> 0.461</td> <td>   -0.054</td> <td>    0.120</td>\n",
       "</tr>\n",
       "<tr>\n",
       "  <th>state_NM</th>                                         <td>   -0.0448</td> <td>    0.062</td> <td>   -0.726</td> <td> 0.468</td> <td>   -0.166</td> <td>    0.076</td>\n",
       "</tr>\n",
       "<tr>\n",
       "  <th>state_NV</th>                                         <td>    0.0527</td> <td>    0.050</td> <td>    1.064</td> <td> 0.287</td> <td>   -0.044</td> <td>    0.150</td>\n",
       "</tr>\n",
       "<tr>\n",
       "  <th>state_NY</th>                                         <td>    0.0322</td> <td>    0.042</td> <td>    0.763</td> <td> 0.446</td> <td>   -0.051</td> <td>    0.115</td>\n",
       "</tr>\n",
       "<tr>\n",
       "  <th>state_OH</th>                                         <td>   -0.0445</td> <td>    0.045</td> <td>   -0.989</td> <td> 0.323</td> <td>   -0.133</td> <td>    0.044</td>\n",
       "</tr>\n",
       "<tr>\n",
       "  <th>state_OK</th>                                         <td>   -0.0564</td> <td>    0.059</td> <td>   -0.958</td> <td> 0.338</td> <td>   -0.172</td> <td>    0.059</td>\n",
       "</tr>\n",
       "<tr>\n",
       "  <th>state_OR</th>                                         <td>    0.0334</td> <td>    0.046</td> <td>    0.726</td> <td> 0.468</td> <td>   -0.057</td> <td>    0.124</td>\n",
       "</tr>\n",
       "<tr>\n",
       "  <th>state_PA</th>                                         <td>   -0.0244</td> <td>    0.043</td> <td>   -0.562</td> <td> 0.574</td> <td>   -0.110</td> <td>    0.061</td>\n",
       "</tr>\n",
       "<tr>\n",
       "  <th>state_PR</th>                                         <td>    0.0081</td> <td>    0.072</td> <td>    0.111</td> <td> 0.911</td> <td>   -0.134</td> <td>    0.150</td>\n",
       "</tr>\n",
       "<tr>\n",
       "  <th>state_RI</th>                                         <td>    0.0193</td> <td>    0.059</td> <td>    0.328</td> <td> 0.743</td> <td>   -0.096</td> <td>    0.134</td>\n",
       "</tr>\n",
       "<tr>\n",
       "  <th>state_SC</th>                                         <td>   -0.0357</td> <td>    0.052</td> <td>   -0.689</td> <td> 0.491</td> <td>   -0.137</td> <td>    0.066</td>\n",
       "</tr>\n",
       "<tr>\n",
       "  <th>state_SD</th>                                         <td>   -0.0601</td> <td>    0.102</td> <td>   -0.590</td> <td> 0.555</td> <td>   -0.260</td> <td>    0.140</td>\n",
       "</tr>\n",
       "<tr>\n",
       "  <th>state_TN</th>                                         <td>   -0.0344</td> <td>    0.046</td> <td>   -0.741</td> <td> 0.458</td> <td>   -0.125</td> <td>    0.057</td>\n",
       "</tr>\n",
       "<tr>\n",
       "  <th>state_TX</th>                                         <td>    0.0298</td> <td>    0.043</td> <td>    0.700</td> <td> 0.484</td> <td>   -0.054</td> <td>    0.113</td>\n",
       "</tr>\n",
       "<tr>\n",
       "  <th>state_UT</th>                                         <td>    0.0242</td> <td>    0.045</td> <td>    0.537</td> <td> 0.591</td> <td>   -0.064</td> <td>    0.113</td>\n",
       "</tr>\n",
       "<tr>\n",
       "  <th>state_VA</th>                                         <td>   -0.0055</td> <td>    0.044</td> <td>   -0.124</td> <td> 0.901</td> <td>   -0.092</td> <td>    0.081</td>\n",
       "</tr>\n",
       "<tr>\n",
       "  <th>state_VI</th>                                         <td>    0.2038</td> <td>    0.155</td> <td>    1.311</td> <td> 0.190</td> <td>   -0.101</td> <td>    0.509</td>\n",
       "</tr>\n",
       "<tr>\n",
       "  <th>state_VT</th>                                         <td>    0.0478</td> <td>    0.061</td> <td>    0.787</td> <td> 0.431</td> <td>   -0.071</td> <td>    0.167</td>\n",
       "</tr>\n",
       "<tr>\n",
       "  <th>state_WA</th>                                         <td>    0.0418</td> <td>    0.043</td> <td>    0.969</td> <td> 0.333</td> <td>   -0.043</td> <td>    0.127</td>\n",
       "</tr>\n",
       "<tr>\n",
       "  <th>state_WI</th>                                         <td>    0.0032</td> <td>    0.048</td> <td>    0.066</td> <td> 0.947</td> <td>   -0.091</td> <td>    0.097</td>\n",
       "</tr>\n",
       "<tr>\n",
       "  <th>state_WV</th>                                         <td>   -0.0449</td> <td>    0.095</td> <td>   -0.474</td> <td> 0.636</td> <td>   -0.231</td> <td>    0.141</td>\n",
       "</tr>\n",
       "<tr>\n",
       "  <th>state_WY</th>                                         <td>   -0.0757</td> <td>    0.067</td> <td>   -1.131</td> <td> 0.258</td> <td>   -0.207</td> <td>    0.056</td>\n",
       "</tr>\n",
       "<tr>\n",
       "  <th>start_yr_1997.0</th>                                  <td>   -0.0023</td> <td>    0.022</td> <td>   -0.105</td> <td> 0.916</td> <td>   -0.046</td> <td>    0.042</td>\n",
       "</tr>\n",
       "<tr>\n",
       "  <th>start_yr_1998.0</th>                                  <td>    0.0295</td> <td>    0.021</td> <td>    1.407</td> <td> 0.159</td> <td>   -0.012</td> <td>    0.071</td>\n",
       "</tr>\n",
       "<tr>\n",
       "  <th>start_yr_1999.0</th>                                  <td>    0.0531</td> <td>    0.019</td> <td>    2.730</td> <td> 0.006</td> <td>    0.015</td> <td>    0.091</td>\n",
       "</tr>\n",
       "<tr>\n",
       "  <th>start_yr_2000.0</th>                                  <td>    0.0399</td> <td>    0.020</td> <td>    1.960</td> <td> 0.050</td> <td> 7.97e-06</td> <td>    0.080</td>\n",
       "</tr>\n",
       "<tr>\n",
       "  <th>start_yr_2001.0</th>                                  <td>    0.0606</td> <td>    0.023</td> <td>    2.647</td> <td> 0.008</td> <td>    0.016</td> <td>    0.105</td>\n",
       "</tr>\n",
       "<tr>\n",
       "  <th>start_yr_2002.0</th>                                  <td>    0.0568</td> <td>    0.023</td> <td>    2.468</td> <td> 0.014</td> <td>    0.012</td> <td>    0.102</td>\n",
       "</tr>\n",
       "<tr>\n",
       "  <th>start_yr_2003.0</th>                                  <td>    0.0415</td> <td>    0.023</td> <td>    1.820</td> <td> 0.069</td> <td>   -0.003</td> <td>    0.086</td>\n",
       "</tr>\n",
       "<tr>\n",
       "  <th>start_yr_2004.0</th>                                  <td>    0.0404</td> <td>    0.022</td> <td>    1.803</td> <td> 0.071</td> <td>   -0.004</td> <td>    0.084</td>\n",
       "</tr>\n",
       "<tr>\n",
       "  <th>start_yr_2005.0</th>                                  <td>    0.0261</td> <td>    0.022</td> <td>    1.189</td> <td> 0.234</td> <td>   -0.017</td> <td>    0.069</td>\n",
       "</tr>\n",
       "<tr>\n",
       "  <th>start_yr_2006.0</th>                                  <td>    0.0125</td> <td>    0.022</td> <td>    0.579</td> <td> 0.563</td> <td>   -0.030</td> <td>    0.055</td>\n",
       "</tr>\n",
       "<tr>\n",
       "  <th>start_yr_2007.0</th>                                  <td>    0.0007</td> <td>    0.021</td> <td>    0.033</td> <td> 0.974</td> <td>   -0.041</td> <td>    0.042</td>\n",
       "</tr>\n",
       "<tr>\n",
       "  <th>start_yr_2008.0</th>                                  <td>   -0.0382</td> <td>    0.021</td> <td>   -1.803</td> <td> 0.071</td> <td>   -0.080</td> <td>    0.003</td>\n",
       "</tr>\n",
       "<tr>\n",
       "  <th>start_yr_2009.0</th>                                  <td>   -0.0473</td> <td>    0.021</td> <td>   -2.265</td> <td> 0.024</td> <td>   -0.088</td> <td>   -0.006</td>\n",
       "</tr>\n",
       "<tr>\n",
       "  <th>start_yr_2010.0</th>                                  <td>   -0.0108</td> <td>    0.021</td> <td>   -0.528</td> <td> 0.598</td> <td>   -0.051</td> <td>    0.029</td>\n",
       "</tr>\n",
       "<tr>\n",
       "  <th>start_yr_2011.0</th>                                  <td>   -0.0539</td> <td>    0.020</td> <td>   -2.690</td> <td> 0.007</td> <td>   -0.093</td> <td>   -0.015</td>\n",
       "</tr>\n",
       "<tr>\n",
       "  <th>start_yr_2012.0</th>                                  <td>   -0.0400</td> <td>    0.020</td> <td>   -2.014</td> <td> 0.044</td> <td>   -0.079</td> <td>   -0.001</td>\n",
       "</tr>\n",
       "<tr>\n",
       "  <th>start_yr_2013.0</th>                                  <td>   -0.0721</td> <td>    0.020</td> <td>   -3.654</td> <td> 0.000</td> <td>   -0.111</td> <td>   -0.033</td>\n",
       "</tr>\n",
       "<tr>\n",
       "  <th>start_yr_2014.0</th>                                  <td>   -0.0563</td> <td>    0.020</td> <td>   -2.873</td> <td> 0.004</td> <td>   -0.095</td> <td>   -0.018</td>\n",
       "</tr>\n",
       "<tr>\n",
       "  <th>start_yr_2015.0</th>                                  <td>   -0.0812</td> <td>    0.020</td> <td>   -4.166</td> <td> 0.000</td> <td>   -0.119</td> <td>   -0.043</td>\n",
       "</tr>\n",
       "<tr>\n",
       "  <th>start_yr_2016.0</th>                                  <td>   -0.1168</td> <td>    0.020</td> <td>   -5.975</td> <td> 0.000</td> <td>   -0.155</td> <td>   -0.078</td>\n",
       "</tr>\n",
       "<tr>\n",
       "  <th>start_yr_2017.0</th>                                  <td>   -0.0988</td> <td>    0.019</td> <td>   -5.075</td> <td> 0.000</td> <td>   -0.137</td> <td>   -0.061</td>\n",
       "</tr>\n",
       "<tr>\n",
       "  <th>start_yr_2018.0</th>                                  <td>   -0.0883</td> <td>    0.020</td> <td>   -4.519</td> <td> 0.000</td> <td>   -0.127</td> <td>   -0.050</td>\n",
       "</tr>\n",
       "<tr>\n",
       "  <th>start_yr_2019.0</th>                                  <td>   -0.1063</td> <td>    0.020</td> <td>   -5.409</td> <td> 0.000</td> <td>   -0.145</td> <td>   -0.068</td>\n",
       "</tr>\n",
       "<tr>\n",
       "  <th>start_yr_2020.0</th>                                  <td>   -0.1231</td> <td>    0.020</td> <td>   -6.290</td> <td> 0.000</td> <td>   -0.162</td> <td>   -0.085</td>\n",
       "</tr>\n",
       "<tr>\n",
       "  <th>start_yr_2021.0</th>                                  <td>   -0.1344</td> <td>    0.020</td> <td>   -6.704</td> <td> 0.000</td> <td>   -0.174</td> <td>   -0.095</td>\n",
       "</tr>\n",
       "<tr>\n",
       "  <th>start_yr_2022.0</th>                                  <td>   -0.1389</td> <td>    0.022</td> <td>   -6.183</td> <td> 0.000</td> <td>   -0.183</td> <td>   -0.095</td>\n",
       "</tr>\n",
       "<tr>\n",
       "  <th>start_yr_2023.0</th>                                  <td>   -0.1117</td> <td>    0.052</td> <td>   -2.133</td> <td> 0.033</td> <td>   -0.214</td> <td>   -0.009</td>\n",
       "</tr>\n",
       "</table>\n",
       "<table class=\"simpletable\">\n",
       "<tr>\n",
       "  <th>Omnibus:</th>       <td>19055.881</td> <th>  Durbin-Watson:     </th> <td>   1.930</td> \n",
       "</tr>\n",
       "<tr>\n",
       "  <th>Prob(Omnibus):</th>  <td> 0.000</td>   <th>  Jarque-Bera (JB):  </th> <td>71796.228</td>\n",
       "</tr>\n",
       "<tr>\n",
       "  <th>Skew:</th>           <td> 1.514</td>   <th>  Prob(JB):          </th> <td>    0.00</td> \n",
       "</tr>\n",
       "<tr>\n",
       "  <th>Kurtosis:</th>       <td> 7.324</td>   <th>  Cond. No.          </th> <td>    777.</td> \n",
       "</tr>\n",
       "</table><br/><br/>Notes:<br/>[1] Standard Errors assume that the covariance matrix of the errors is correctly specified."
      ],
      "text/latex": [
       "\\begin{center}\n",
       "\\begin{tabular}{lclc}\n",
       "\\toprule\n",
       "\\textbf{Dep. Variable:}                                     &      failed      & \\textbf{  R-squared:         } &     0.405   \\\\\n",
       "\\textbf{Model:}                                             &       OLS        & \\textbf{  Adj. R-squared:    } &     0.403   \\\\\n",
       "\\textbf{Method:}                                            &  Least Squares   & \\textbf{  F-statistic:       } &     361.5   \\\\\n",
       "\\textbf{Date:}                                              & Fri, 28 Jul 2023 & \\textbf{  Prob (F-statistic):} &     0.00    \\\\\n",
       "\\textbf{Time:}                                              &     21:31:55     & \\textbf{  Log-Likelihood:    } &   -41436.   \\\\\n",
       "\\textbf{No. Observations:}                                  &       61834      & \\textbf{  AIC:               } & 8.311e+04   \\\\\n",
       "\\textbf{Df Residuals:}                                      &       61717      & \\textbf{  BIC:               } & 8.416e+04   \\\\\n",
       "\\textbf{Df Model:}                                          &         116      & \\textbf{                     } &             \\\\\n",
       "\\textbf{Covariance Type:}                                   &    nonrobust     & \\textbf{                     } &             \\\\\n",
       "\\bottomrule\n",
       "\\end{tabular}\n",
       "\\begin{tabular}{lcccccc}\n",
       "                                                            & \\textbf{coef} & \\textbf{std err} & \\textbf{t} & \\textbf{P$> |$t$|$} & \\textbf{[0.025} & \\textbf{0.975]}  \\\\\n",
       "\\midrule\n",
       "\\textbf{const}                                              &      -0.0545  &        0.216     &    -0.252  &         0.801        &       -0.478    &        0.369     \\\\\n",
       "\\textbf{login\\_link}                                        &      -0.0360  &        0.004     &    -8.404  &         0.000        &       -0.044    &       -0.028     \\\\\n",
       "\\textbf{end\\_yr\\_1998.0}                                    &       0.0137  &        0.232     &     0.059  &         0.953        &       -0.441    &        0.469     \\\\\n",
       "\\textbf{end\\_yr\\_1999.0}                                    &       0.0436  &        0.216     &     0.202  &         0.840        &       -0.379    &        0.466     \\\\\n",
       "\\textbf{end\\_yr\\_2000.0}                                    &       0.0535  &        0.214     &     0.250  &         0.803        &       -0.366    &        0.473     \\\\\n",
       "\\textbf{end\\_yr\\_2001.0}                                    &       0.3085  &        0.214     &     1.442  &         0.149        &       -0.111    &        0.728     \\\\\n",
       "\\textbf{end\\_yr\\_2002.0}                                    &       0.6484  &        0.213     &     3.043  &         0.002        &        0.231    &        1.066     \\\\\n",
       "\\textbf{end\\_yr\\_2003.0}                                    &       0.4010  &        0.213     &     1.879  &         0.060        &       -0.017    &        0.819     \\\\\n",
       "\\textbf{end\\_yr\\_2004.0}                                    &       0.0848  &        0.213     &     0.397  &         0.691        &       -0.334    &        0.503     \\\\\n",
       "\\textbf{end\\_yr\\_2005.0}                                    &       0.0229  &        0.214     &     0.107  &         0.915        &       -0.396    &        0.442     \\\\\n",
       "\\textbf{end\\_yr\\_2006.0}                                    &      -0.0332  &        0.214     &    -0.156  &         0.876        &       -0.452    &        0.385     \\\\\n",
       "\\textbf{end\\_yr\\_2007.0}                                    &      -0.0155  &        0.213     &    -0.073  &         0.942        &       -0.434    &        0.403     \\\\\n",
       "\\textbf{end\\_yr\\_2008.0}                                    &      -0.0257  &        0.214     &    -0.120  &         0.904        &       -0.444    &        0.393     \\\\\n",
       "\\textbf{end\\_yr\\_2009.0}                                    &      -0.0021  &        0.213     &    -0.010  &         0.992        &       -0.420    &        0.416     \\\\\n",
       "\\textbf{end\\_yr\\_2010.0}                                    &      -0.0395  &        0.213     &    -0.185  &         0.853        &       -0.457    &        0.378     \\\\\n",
       "\\textbf{end\\_yr\\_2011.0}                                    &      -0.0495  &        0.213     &    -0.232  &         0.817        &       -0.467    &        0.368     \\\\\n",
       "\\textbf{end\\_yr\\_2012.0}                                    &      -0.0862  &        0.213     &    -0.404  &         0.686        &       -0.504    &        0.332     \\\\\n",
       "\\textbf{end\\_yr\\_2013.0}                                    &      -0.1440  &        0.213     &    -0.675  &         0.499        &       -0.562    &        0.274     \\\\\n",
       "\\textbf{end\\_yr\\_2014.0}                                    &      -0.1555  &        0.213     &    -0.730  &         0.466        &       -0.573    &        0.262     \\\\\n",
       "\\textbf{end\\_yr\\_2015.0}                                    &      -0.2414  &        0.213     &    -1.133  &         0.257        &       -0.659    &        0.176     \\\\\n",
       "\\textbf{end\\_yr\\_2016.0}                                    &      -0.3383  &        0.213     &    -1.588  &         0.112        &       -0.756    &        0.079     \\\\\n",
       "\\textbf{end\\_yr\\_2017.0}                                    &      -0.3425  &        0.213     &    -1.608  &         0.108        &       -0.760    &        0.075     \\\\\n",
       "\\textbf{end\\_yr\\_2018.0}                                    &      -0.3581  &        0.213     &    -1.681  &         0.093        &       -0.776    &        0.059     \\\\\n",
       "\\textbf{end\\_yr\\_2019.0}                                    &      -0.4995  &        0.213     &    -2.346  &         0.019        &       -0.917    &       -0.082     \\\\\n",
       "\\textbf{end\\_yr\\_2020.0}                                    &      -0.8590  &        0.213     &    -4.034  &         0.000        &       -1.276    &       -0.442     \\\\\n",
       "\\textbf{end\\_yr\\_2021.0}                                    &      -0.7948  &        0.213     &    -3.733  &         0.000        &       -1.212    &       -0.378     \\\\\n",
       "\\textbf{end\\_yr\\_2022.0}                                    &      -0.6468  &        0.213     &    -3.040  &         0.002        &       -1.064    &       -0.230     \\\\\n",
       "\\textbf{end\\_yr\\_2023.0}                                    &      -0.7663  &        0.213     &    -3.602  &         0.000        &       -1.183    &       -0.349     \\\\\n",
       "\\textbf{end\\_yr\\_2024.0}                                    &      -0.8222  &        0.213     &    -3.865  &         0.000        &       -1.239    &       -0.405     \\\\\n",
       "\\textbf{end\\_yr\\_2025.0}                                    &      -0.8045  &        0.213     &    -3.778  &         0.000        &       -1.222    &       -0.387     \\\\\n",
       "\\textbf{new\\_industrygroup\\_Consumer Goods}                 &      -0.0155  &        0.009     &    -1.793  &         0.073        &       -0.033    &        0.001     \\\\\n",
       "\\textbf{new\\_industrygroup\\_Consumer Services}              &       0.0220  &        0.007     &     3.239  &         0.001        &        0.009    &        0.035     \\\\\n",
       "\\textbf{new\\_industrygroup\\_Energy and Utilities}           &      -0.0281  &        0.015     &    -1.820  &         0.069        &       -0.058    &        0.002     \\\\\n",
       "\\textbf{new\\_industrygroup\\_Healthcare}                     &      -0.0006  &        0.006     &    -0.095  &         0.924        &       -0.013    &        0.012     \\\\\n",
       "\\textbf{new\\_industrygroup\\_Industrial Goods and Materials} &      -0.0115  &        0.011     &    -1.056  &         0.291        &       -0.033    &        0.010     \\\\\n",
       "\\textbf{new\\_industrygroup\\_Information Technology}         &       0.0315  &        0.005     &     5.792  &         0.000        &        0.021    &        0.042     \\\\\n",
       "\\textbf{new\\_industrygroup\\_To Be Assigned}                 &      -0.3454  &        0.055     &    -6.261  &         0.000        &       -0.454    &       -0.237     \\\\\n",
       "\\textbf{state\\_AL}                                          &      -0.0013  &        0.053     &    -0.025  &         0.980        &       -0.104    &        0.102     \\\\\n",
       "\\textbf{state\\_AR}                                          &       0.0098  &        0.063     &     0.155  &         0.877        &       -0.114    &        0.133     \\\\\n",
       "\\textbf{state\\_AZ}                                          &       0.0116  &        0.046     &     0.250  &         0.802        &       -0.079    &        0.102     \\\\\n",
       "\\textbf{state\\_CA}                                          &       0.0489  &        0.042     &     1.165  &         0.244        &       -0.033    &        0.131     \\\\\n",
       "\\textbf{state\\_CO}                                          &       0.0275  &        0.043     &     0.632  &         0.528        &       -0.058    &        0.113     \\\\\n",
       "\\textbf{state\\_CT}                                          &      -0.0159  &        0.046     &    -0.347  &         0.728        &       -0.106    &        0.074     \\\\\n",
       "\\textbf{state\\_Ca}                                          &       0.3215  &        0.476     &     0.676  &         0.499        &       -0.610    &        1.254     \\\\\n",
       "\\textbf{state\\_DC}                                          &       0.0214  &        0.048     &     0.446  &         0.656        &       -0.073    &        0.115     \\\\\n",
       "\\textbf{state\\_DE}                                          &       0.0330  &        0.045     &     0.740  &         0.460        &       -0.054    &        0.120     \\\\\n",
       "\\textbf{state\\_FL}                                          &       0.0194  &        0.043     &     0.449  &         0.653        &       -0.065    &        0.104     \\\\\n",
       "\\textbf{state\\_GA}                                          &       0.0143  &        0.044     &     0.325  &         0.745        &       -0.072    &        0.101     \\\\\n",
       "\\textbf{state\\_HI}                                          &       0.0145  &        0.064     &     0.226  &         0.821        &       -0.112    &        0.141     \\\\\n",
       "\\textbf{state\\_IA}                                          &       0.0278  &        0.057     &     0.491  &         0.624        &       -0.083    &        0.139     \\\\\n",
       "\\textbf{state\\_ID}                                          &      -0.0470  &        0.059     &    -0.799  &         0.424        &       -0.162    &        0.068     \\\\\n",
       "\\textbf{state\\_IL}                                          &      -0.0114  &        0.043     &    -0.263  &         0.793        &       -0.097    &        0.074     \\\\\n",
       "\\textbf{state\\_IN}                                          &       0.0616  &        0.047     &     1.309  &         0.191        &       -0.031    &        0.154     \\\\\n",
       "\\textbf{state\\_KS}                                          &       0.0254  &        0.055     &     0.460  &         0.646        &       -0.083    &        0.134     \\\\\n",
       "\\textbf{state\\_KY}                                          &       0.0411  &        0.052     &     0.787  &         0.431        &       -0.061    &        0.143     \\\\\n",
       "\\textbf{state\\_LA}                                          &       0.0265  &        0.057     &     0.466  &         0.641        &       -0.085    &        0.138     \\\\\n",
       "\\textbf{state\\_MA}                                          &       0.0468  &        0.043     &     1.100  &         0.271        &       -0.037    &        0.130     \\\\\n",
       "\\textbf{state\\_MD}                                          &      -0.0142  &        0.045     &    -0.317  &         0.751        &       -0.102    &        0.073     \\\\\n",
       "\\textbf{state\\_ME}                                          &       0.0316  &        0.062     &     0.507  &         0.612        &       -0.091    &        0.154     \\\\\n",
       "\\textbf{state\\_MI}                                          &      -0.0011  &        0.046     &    -0.023  &         0.981        &       -0.090    &        0.088     \\\\\n",
       "\\textbf{state\\_MN}                                          &       0.0075  &        0.046     &     0.163  &         0.871        &       -0.082    &        0.097     \\\\\n",
       "\\textbf{state\\_MO}                                          &       0.0115  &        0.047     &     0.244  &         0.808        &       -0.081    &        0.104     \\\\\n",
       "\\textbf{state\\_MS}                                          &      -0.0493  &        0.088     &    -0.557  &         0.577        &       -0.223    &        0.124     \\\\\n",
       "\\textbf{state\\_MT}                                          &      -0.0581  &        0.066     &    -0.881  &         0.378        &       -0.188    &        0.071     \\\\\n",
       "\\textbf{state\\_NC}                                          &       0.0337  &        0.044     &     0.763  &         0.445        &       -0.053    &        0.120     \\\\\n",
       "\\textbf{state\\_ND}                                          &      -0.1095  &        0.095     &    -1.155  &         0.248        &       -0.295    &        0.076     \\\\\n",
       "\\textbf{state\\_NE}                                          &       0.0221  &        0.058     &     0.382  &         0.702        &       -0.091    &        0.135     \\\\\n",
       "\\textbf{state\\_NH}                                          &      -0.0194  &        0.055     &    -0.355  &         0.723        &       -0.126    &        0.087     \\\\\n",
       "\\textbf{state\\_NJ}                                          &       0.0327  &        0.044     &     0.737  &         0.461        &       -0.054    &        0.120     \\\\\n",
       "\\textbf{state\\_NM}                                          &      -0.0448  &        0.062     &    -0.726  &         0.468        &       -0.166    &        0.076     \\\\\n",
       "\\textbf{state\\_NV}                                          &       0.0527  &        0.050     &     1.064  &         0.287        &       -0.044    &        0.150     \\\\\n",
       "\\textbf{state\\_NY}                                          &       0.0322  &        0.042     &     0.763  &         0.446        &       -0.051    &        0.115     \\\\\n",
       "\\textbf{state\\_OH}                                          &      -0.0445  &        0.045     &    -0.989  &         0.323        &       -0.133    &        0.044     \\\\\n",
       "\\textbf{state\\_OK}                                          &      -0.0564  &        0.059     &    -0.958  &         0.338        &       -0.172    &        0.059     \\\\\n",
       "\\textbf{state\\_OR}                                          &       0.0334  &        0.046     &     0.726  &         0.468        &       -0.057    &        0.124     \\\\\n",
       "\\textbf{state\\_PA}                                          &      -0.0244  &        0.043     &    -0.562  &         0.574        &       -0.110    &        0.061     \\\\\n",
       "\\textbf{state\\_PR}                                          &       0.0081  &        0.072     &     0.111  &         0.911        &       -0.134    &        0.150     \\\\\n",
       "\\textbf{state\\_RI}                                          &       0.0193  &        0.059     &     0.328  &         0.743        &       -0.096    &        0.134     \\\\\n",
       "\\textbf{state\\_SC}                                          &      -0.0357  &        0.052     &    -0.689  &         0.491        &       -0.137    &        0.066     \\\\\n",
       "\\textbf{state\\_SD}                                          &      -0.0601  &        0.102     &    -0.590  &         0.555        &       -0.260    &        0.140     \\\\\n",
       "\\textbf{state\\_TN}                                          &      -0.0344  &        0.046     &    -0.741  &         0.458        &       -0.125    &        0.057     \\\\\n",
       "\\textbf{state\\_TX}                                          &       0.0298  &        0.043     &     0.700  &         0.484        &       -0.054    &        0.113     \\\\\n",
       "\\textbf{state\\_UT}                                          &       0.0242  &        0.045     &     0.537  &         0.591        &       -0.064    &        0.113     \\\\\n",
       "\\textbf{state\\_VA}                                          &      -0.0055  &        0.044     &    -0.124  &         0.901        &       -0.092    &        0.081     \\\\\n",
       "\\textbf{state\\_VI}                                          &       0.2038  &        0.155     &     1.311  &         0.190        &       -0.101    &        0.509     \\\\\n",
       "\\textbf{state\\_VT}                                          &       0.0478  &        0.061     &     0.787  &         0.431        &       -0.071    &        0.167     \\\\\n",
       "\\textbf{state\\_WA}                                          &       0.0418  &        0.043     &     0.969  &         0.333        &       -0.043    &        0.127     \\\\\n",
       "\\textbf{state\\_WI}                                          &       0.0032  &        0.048     &     0.066  &         0.947        &       -0.091    &        0.097     \\\\\n",
       "\\textbf{state\\_WV}                                          &      -0.0449  &        0.095     &    -0.474  &         0.636        &       -0.231    &        0.141     \\\\\n",
       "\\textbf{state\\_WY}                                          &      -0.0757  &        0.067     &    -1.131  &         0.258        &       -0.207    &        0.056     \\\\\n",
       "\\textbf{start\\_yr\\_1997.0}                                  &      -0.0023  &        0.022     &    -0.105  &         0.916        &       -0.046    &        0.042     \\\\\n",
       "\\textbf{start\\_yr\\_1998.0}                                  &       0.0295  &        0.021     &     1.407  &         0.159        &       -0.012    &        0.071     \\\\\n",
       "\\textbf{start\\_yr\\_1999.0}                                  &       0.0531  &        0.019     &     2.730  &         0.006        &        0.015    &        0.091     \\\\\n",
       "\\textbf{start\\_yr\\_2000.0}                                  &       0.0399  &        0.020     &     1.960  &         0.050        &     7.97e-06    &        0.080     \\\\\n",
       "\\textbf{start\\_yr\\_2001.0}                                  &       0.0606  &        0.023     &     2.647  &         0.008        &        0.016    &        0.105     \\\\\n",
       "\\textbf{start\\_yr\\_2002.0}                                  &       0.0568  &        0.023     &     2.468  &         0.014        &        0.012    &        0.102     \\\\\n",
       "\\textbf{start\\_yr\\_2003.0}                                  &       0.0415  &        0.023     &     1.820  &         0.069        &       -0.003    &        0.086     \\\\\n",
       "\\textbf{start\\_yr\\_2004.0}                                  &       0.0404  &        0.022     &     1.803  &         0.071        &       -0.004    &        0.084     \\\\\n",
       "\\textbf{start\\_yr\\_2005.0}                                  &       0.0261  &        0.022     &     1.189  &         0.234        &       -0.017    &        0.069     \\\\\n",
       "\\textbf{start\\_yr\\_2006.0}                                  &       0.0125  &        0.022     &     0.579  &         0.563        &       -0.030    &        0.055     \\\\\n",
       "\\textbf{start\\_yr\\_2007.0}                                  &       0.0007  &        0.021     &     0.033  &         0.974        &       -0.041    &        0.042     \\\\\n",
       "\\textbf{start\\_yr\\_2008.0}                                  &      -0.0382  &        0.021     &    -1.803  &         0.071        &       -0.080    &        0.003     \\\\\n",
       "\\textbf{start\\_yr\\_2009.0}                                  &      -0.0473  &        0.021     &    -2.265  &         0.024        &       -0.088    &       -0.006     \\\\\n",
       "\\textbf{start\\_yr\\_2010.0}                                  &      -0.0108  &        0.021     &    -0.528  &         0.598        &       -0.051    &        0.029     \\\\\n",
       "\\textbf{start\\_yr\\_2011.0}                                  &      -0.0539  &        0.020     &    -2.690  &         0.007        &       -0.093    &       -0.015     \\\\\n",
       "\\textbf{start\\_yr\\_2012.0}                                  &      -0.0400  &        0.020     &    -2.014  &         0.044        &       -0.079    &       -0.001     \\\\\n",
       "\\textbf{start\\_yr\\_2013.0}                                  &      -0.0721  &        0.020     &    -3.654  &         0.000        &       -0.111    &       -0.033     \\\\\n",
       "\\textbf{start\\_yr\\_2014.0}                                  &      -0.0563  &        0.020     &    -2.873  &         0.004        &       -0.095    &       -0.018     \\\\\n",
       "\\textbf{start\\_yr\\_2015.0}                                  &      -0.0812  &        0.020     &    -4.166  &         0.000        &       -0.119    &       -0.043     \\\\\n",
       "\\textbf{start\\_yr\\_2016.0}                                  &      -0.1168  &        0.020     &    -5.975  &         0.000        &       -0.155    &       -0.078     \\\\\n",
       "\\textbf{start\\_yr\\_2017.0}                                  &      -0.0988  &        0.019     &    -5.075  &         0.000        &       -0.137    &       -0.061     \\\\\n",
       "\\textbf{start\\_yr\\_2018.0}                                  &      -0.0883  &        0.020     &    -4.519  &         0.000        &       -0.127    &       -0.050     \\\\\n",
       "\\textbf{start\\_yr\\_2019.0}                                  &      -0.1063  &        0.020     &    -5.409  &         0.000        &       -0.145    &       -0.068     \\\\\n",
       "\\textbf{start\\_yr\\_2020.0}                                  &      -0.1231  &        0.020     &    -6.290  &         0.000        &       -0.162    &       -0.085     \\\\\n",
       "\\textbf{start\\_yr\\_2021.0}                                  &      -0.1344  &        0.020     &    -6.704  &         0.000        &       -0.174    &       -0.095     \\\\\n",
       "\\textbf{start\\_yr\\_2022.0}                                  &      -0.1389  &        0.022     &    -6.183  &         0.000        &       -0.183    &       -0.095     \\\\\n",
       "\\textbf{start\\_yr\\_2023.0}                                  &      -0.1117  &        0.052     &    -2.133  &         0.033        &       -0.214    &       -0.009     \\\\\n",
       "\\bottomrule\n",
       "\\end{tabular}\n",
       "\\begin{tabular}{lclc}\n",
       "\\textbf{Omnibus:}       & 19055.881 & \\textbf{  Durbin-Watson:     } &     1.930  \\\\\n",
       "\\textbf{Prob(Omnibus):} &    0.000  & \\textbf{  Jarque-Bera (JB):  } & 71796.228  \\\\\n",
       "\\textbf{Skew:}          &    1.514  & \\textbf{  Prob(JB):          } &      0.00  \\\\\n",
       "\\textbf{Kurtosis:}      &    7.324  & \\textbf{  Cond. No.          } &      777.  \\\\\n",
       "\\bottomrule\n",
       "\\end{tabular}\n",
       "%\\caption{OLS Regression Results}\n",
       "\\end{center}\n",
       "\n",
       "Notes: \\newline\n",
       " [1] Standard Errors assume that the covariance matrix of the errors is correctly specified."
      ],
      "text/plain": [
       "<class 'statsmodels.iolib.summary.Summary'>\n",
       "\"\"\"\n",
       "                            OLS Regression Results                            \n",
       "==============================================================================\n",
       "Dep. Variable:                 failed   R-squared:                       0.405\n",
       "Model:                            OLS   Adj. R-squared:                  0.403\n",
       "Method:                 Least Squares   F-statistic:                     361.5\n",
       "Date:                Fri, 28 Jul 2023   Prob (F-statistic):               0.00\n",
       "Time:                        21:31:55   Log-Likelihood:                -41436.\n",
       "No. Observations:               61834   AIC:                         8.311e+04\n",
       "Df Residuals:                   61717   BIC:                         8.416e+04\n",
       "Df Model:                         116                                         \n",
       "Covariance Type:            nonrobust                                         \n",
       "====================================================================================================================\n",
       "                                                       coef    std err          t      P>|t|      [0.025      0.975]\n",
       "--------------------------------------------------------------------------------------------------------------------\n",
       "const                                               -0.0545      0.216     -0.252      0.801      -0.478       0.369\n",
       "login_link                                          -0.0360      0.004     -8.404      0.000      -0.044      -0.028\n",
       "end_yr_1998.0                                        0.0137      0.232      0.059      0.953      -0.441       0.469\n",
       "end_yr_1999.0                                        0.0436      0.216      0.202      0.840      -0.379       0.466\n",
       "end_yr_2000.0                                        0.0535      0.214      0.250      0.803      -0.366       0.473\n",
       "end_yr_2001.0                                        0.3085      0.214      1.442      0.149      -0.111       0.728\n",
       "end_yr_2002.0                                        0.6484      0.213      3.043      0.002       0.231       1.066\n",
       "end_yr_2003.0                                        0.4010      0.213      1.879      0.060      -0.017       0.819\n",
       "end_yr_2004.0                                        0.0848      0.213      0.397      0.691      -0.334       0.503\n",
       "end_yr_2005.0                                        0.0229      0.214      0.107      0.915      -0.396       0.442\n",
       "end_yr_2006.0                                       -0.0332      0.214     -0.156      0.876      -0.452       0.385\n",
       "end_yr_2007.0                                       -0.0155      0.213     -0.073      0.942      -0.434       0.403\n",
       "end_yr_2008.0                                       -0.0257      0.214     -0.120      0.904      -0.444       0.393\n",
       "end_yr_2009.0                                       -0.0021      0.213     -0.010      0.992      -0.420       0.416\n",
       "end_yr_2010.0                                       -0.0395      0.213     -0.185      0.853      -0.457       0.378\n",
       "end_yr_2011.0                                       -0.0495      0.213     -0.232      0.817      -0.467       0.368\n",
       "end_yr_2012.0                                       -0.0862      0.213     -0.404      0.686      -0.504       0.332\n",
       "end_yr_2013.0                                       -0.1440      0.213     -0.675      0.499      -0.562       0.274\n",
       "end_yr_2014.0                                       -0.1555      0.213     -0.730      0.466      -0.573       0.262\n",
       "end_yr_2015.0                                       -0.2414      0.213     -1.133      0.257      -0.659       0.176\n",
       "end_yr_2016.0                                       -0.3383      0.213     -1.588      0.112      -0.756       0.079\n",
       "end_yr_2017.0                                       -0.3425      0.213     -1.608      0.108      -0.760       0.075\n",
       "end_yr_2018.0                                       -0.3581      0.213     -1.681      0.093      -0.776       0.059\n",
       "end_yr_2019.0                                       -0.4995      0.213     -2.346      0.019      -0.917      -0.082\n",
       "end_yr_2020.0                                       -0.8590      0.213     -4.034      0.000      -1.276      -0.442\n",
       "end_yr_2021.0                                       -0.7948      0.213     -3.733      0.000      -1.212      -0.378\n",
       "end_yr_2022.0                                       -0.6468      0.213     -3.040      0.002      -1.064      -0.230\n",
       "end_yr_2023.0                                       -0.7663      0.213     -3.602      0.000      -1.183      -0.349\n",
       "end_yr_2024.0                                       -0.8222      0.213     -3.865      0.000      -1.239      -0.405\n",
       "end_yr_2025.0                                       -0.8045      0.213     -3.778      0.000      -1.222      -0.387\n",
       "new_industrygroup_Consumer Goods                    -0.0155      0.009     -1.793      0.073      -0.033       0.001\n",
       "new_industrygroup_Consumer Services                  0.0220      0.007      3.239      0.001       0.009       0.035\n",
       "new_industrygroup_Energy and Utilities              -0.0281      0.015     -1.820      0.069      -0.058       0.002\n",
       "new_industrygroup_Healthcare                        -0.0006      0.006     -0.095      0.924      -0.013       0.012\n",
       "new_industrygroup_Industrial Goods and Materials    -0.0115      0.011     -1.056      0.291      -0.033       0.010\n",
       "new_industrygroup_Information Technology             0.0315      0.005      5.792      0.000       0.021       0.042\n",
       "new_industrygroup_To Be Assigned                    -0.3454      0.055     -6.261      0.000      -0.454      -0.237\n",
       "state_AL                                            -0.0013      0.053     -0.025      0.980      -0.104       0.102\n",
       "state_AR                                             0.0098      0.063      0.155      0.877      -0.114       0.133\n",
       "state_AZ                                             0.0116      0.046      0.250      0.802      -0.079       0.102\n",
       "state_CA                                             0.0489      0.042      1.165      0.244      -0.033       0.131\n",
       "state_CO                                             0.0275      0.043      0.632      0.528      -0.058       0.113\n",
       "state_CT                                            -0.0159      0.046     -0.347      0.728      -0.106       0.074\n",
       "state_Ca                                             0.3215      0.476      0.676      0.499      -0.610       1.254\n",
       "state_DC                                             0.0214      0.048      0.446      0.656      -0.073       0.115\n",
       "state_DE                                             0.0330      0.045      0.740      0.460      -0.054       0.120\n",
       "state_FL                                             0.0194      0.043      0.449      0.653      -0.065       0.104\n",
       "state_GA                                             0.0143      0.044      0.325      0.745      -0.072       0.101\n",
       "state_HI                                             0.0145      0.064      0.226      0.821      -0.112       0.141\n",
       "state_IA                                             0.0278      0.057      0.491      0.624      -0.083       0.139\n",
       "state_ID                                            -0.0470      0.059     -0.799      0.424      -0.162       0.068\n",
       "state_IL                                            -0.0114      0.043     -0.263      0.793      -0.097       0.074\n",
       "state_IN                                             0.0616      0.047      1.309      0.191      -0.031       0.154\n",
       "state_KS                                             0.0254      0.055      0.460      0.646      -0.083       0.134\n",
       "state_KY                                             0.0411      0.052      0.787      0.431      -0.061       0.143\n",
       "state_LA                                             0.0265      0.057      0.466      0.641      -0.085       0.138\n",
       "state_MA                                             0.0468      0.043      1.100      0.271      -0.037       0.130\n",
       "state_MD                                            -0.0142      0.045     -0.317      0.751      -0.102       0.073\n",
       "state_ME                                             0.0316      0.062      0.507      0.612      -0.091       0.154\n",
       "state_MI                                            -0.0011      0.046     -0.023      0.981      -0.090       0.088\n",
       "state_MN                                             0.0075      0.046      0.163      0.871      -0.082       0.097\n",
       "state_MO                                             0.0115      0.047      0.244      0.808      -0.081       0.104\n",
       "state_MS                                            -0.0493      0.088     -0.557      0.577      -0.223       0.124\n",
       "state_MT                                            -0.0581      0.066     -0.881      0.378      -0.188       0.071\n",
       "state_NC                                             0.0337      0.044      0.763      0.445      -0.053       0.120\n",
       "state_ND                                            -0.1095      0.095     -1.155      0.248      -0.295       0.076\n",
       "state_NE                                             0.0221      0.058      0.382      0.702      -0.091       0.135\n",
       "state_NH                                            -0.0194      0.055     -0.355      0.723      -0.126       0.087\n",
       "state_NJ                                             0.0327      0.044      0.737      0.461      -0.054       0.120\n",
       "state_NM                                            -0.0448      0.062     -0.726      0.468      -0.166       0.076\n",
       "state_NV                                             0.0527      0.050      1.064      0.287      -0.044       0.150\n",
       "state_NY                                             0.0322      0.042      0.763      0.446      -0.051       0.115\n",
       "state_OH                                            -0.0445      0.045     -0.989      0.323      -0.133       0.044\n",
       "state_OK                                            -0.0564      0.059     -0.958      0.338      -0.172       0.059\n",
       "state_OR                                             0.0334      0.046      0.726      0.468      -0.057       0.124\n",
       "state_PA                                            -0.0244      0.043     -0.562      0.574      -0.110       0.061\n",
       "state_PR                                             0.0081      0.072      0.111      0.911      -0.134       0.150\n",
       "state_RI                                             0.0193      0.059      0.328      0.743      -0.096       0.134\n",
       "state_SC                                            -0.0357      0.052     -0.689      0.491      -0.137       0.066\n",
       "state_SD                                            -0.0601      0.102     -0.590      0.555      -0.260       0.140\n",
       "state_TN                                            -0.0344      0.046     -0.741      0.458      -0.125       0.057\n",
       "state_TX                                             0.0298      0.043      0.700      0.484      -0.054       0.113\n",
       "state_UT                                             0.0242      0.045      0.537      0.591      -0.064       0.113\n",
       "state_VA                                            -0.0055      0.044     -0.124      0.901      -0.092       0.081\n",
       "state_VI                                             0.2038      0.155      1.311      0.190      -0.101       0.509\n",
       "state_VT                                             0.0478      0.061      0.787      0.431      -0.071       0.167\n",
       "state_WA                                             0.0418      0.043      0.969      0.333      -0.043       0.127\n",
       "state_WI                                             0.0032      0.048      0.066      0.947      -0.091       0.097\n",
       "state_WV                                            -0.0449      0.095     -0.474      0.636      -0.231       0.141\n",
       "state_WY                                            -0.0757      0.067     -1.131      0.258      -0.207       0.056\n",
       "start_yr_1997.0                                     -0.0023      0.022     -0.105      0.916      -0.046       0.042\n",
       "start_yr_1998.0                                      0.0295      0.021      1.407      0.159      -0.012       0.071\n",
       "start_yr_1999.0                                      0.0531      0.019      2.730      0.006       0.015       0.091\n",
       "start_yr_2000.0                                      0.0399      0.020      1.960      0.050    7.97e-06       0.080\n",
       "start_yr_2001.0                                      0.0606      0.023      2.647      0.008       0.016       0.105\n",
       "start_yr_2002.0                                      0.0568      0.023      2.468      0.014       0.012       0.102\n",
       "start_yr_2003.0                                      0.0415      0.023      1.820      0.069      -0.003       0.086\n",
       "start_yr_2004.0                                      0.0404      0.022      1.803      0.071      -0.004       0.084\n",
       "start_yr_2005.0                                      0.0261      0.022      1.189      0.234      -0.017       0.069\n",
       "start_yr_2006.0                                      0.0125      0.022      0.579      0.563      -0.030       0.055\n",
       "start_yr_2007.0                                      0.0007      0.021      0.033      0.974      -0.041       0.042\n",
       "start_yr_2008.0                                     -0.0382      0.021     -1.803      0.071      -0.080       0.003\n",
       "start_yr_2009.0                                     -0.0473      0.021     -2.265      0.024      -0.088      -0.006\n",
       "start_yr_2010.0                                     -0.0108      0.021     -0.528      0.598      -0.051       0.029\n",
       "start_yr_2011.0                                     -0.0539      0.020     -2.690      0.007      -0.093      -0.015\n",
       "start_yr_2012.0                                     -0.0400      0.020     -2.014      0.044      -0.079      -0.001\n",
       "start_yr_2013.0                                     -0.0721      0.020     -3.654      0.000      -0.111      -0.033\n",
       "start_yr_2014.0                                     -0.0563      0.020     -2.873      0.004      -0.095      -0.018\n",
       "start_yr_2015.0                                     -0.0812      0.020     -4.166      0.000      -0.119      -0.043\n",
       "start_yr_2016.0                                     -0.1168      0.020     -5.975      0.000      -0.155      -0.078\n",
       "start_yr_2017.0                                     -0.0988      0.019     -5.075      0.000      -0.137      -0.061\n",
       "start_yr_2018.0                                     -0.0883      0.020     -4.519      0.000      -0.127      -0.050\n",
       "start_yr_2019.0                                     -0.1063      0.020     -5.409      0.000      -0.145      -0.068\n",
       "start_yr_2020.0                                     -0.1231      0.020     -6.290      0.000      -0.162      -0.085\n",
       "start_yr_2021.0                                     -0.1344      0.020     -6.704      0.000      -0.174      -0.095\n",
       "start_yr_2022.0                                     -0.1389      0.022     -6.183      0.000      -0.183      -0.095\n",
       "start_yr_2023.0                                     -0.1117      0.052     -2.133      0.033      -0.214      -0.009\n",
       "==============================================================================\n",
       "Omnibus:                    19055.881   Durbin-Watson:                   1.930\n",
       "Prob(Omnibus):                  0.000   Jarque-Bera (JB):            71796.228\n",
       "Skew:                           1.514   Prob(JB):                         0.00\n",
       "Kurtosis:                       7.324   Cond. No.                         777.\n",
       "==============================================================================\n",
       "\n",
       "Notes:\n",
       "[1] Standard Errors assume that the covariance matrix of the errors is correctly specified.\n",
       "\"\"\""
      ]
     },
     "execution_count": 20,
     "metadata": {},
     "output_type": "execute_result"
    }
   ],
   "source": [
    "run_model('login_link', data).summary()"
   ]
  },
  {
   "cell_type": "code",
   "execution_count": null,
   "id": "f12e12d1",
   "metadata": {},
   "outputs": [],
   "source": [
    "sns.regplot(x='Failed', y='login', data=data, x_estimator=np.mean, color='b')\n",
    "plt.ylabel('Has a login')\n",
    "plt.ylim([0.1, 0.4])\n",
    "plt.xticks([0, 1])"
   ]
  },
  {
   "cell_type": "code",
   "execution_count": null,
   "id": "815da91d",
   "metadata": {},
   "outputs": [],
   "source": [
    "plot_freg('login', data=data, control='start_yr', industry=True, save='login_industry.png')"
   ]
  },
  {
   "cell_type": "code",
   "execution_count": null,
   "id": "42c9e848",
   "metadata": {},
   "outputs": [],
   "source": [
    "data[data.Failed == 0].login.mean()"
   ]
  },
  {
   "cell_type": "markdown",
   "id": "f733cf2c",
   "metadata": {},
   "source": [
    "### Webpage Size"
   ]
  },
  {
   "cell_type": "markdown",
   "id": "d16baf94",
   "metadata": {},
   "source": [
    "Setup"
   ]
  },
  {
   "cell_type": "code",
   "execution_count": 22,
   "id": "f8d601b0",
   "metadata": {
    "scrolled": false
   },
   "outputs": [
    {
     "data": {
      "image/png": "[encoded data removed]",
      "text/plain": [
       "<Figure size 640x480 with 1 Axes>"
      ]
     },
     "metadata": {},
     "output_type": "display_data"
    }
   ],
   "source": [
    "# Check out distribution\n",
    "sns.kdeplot(data['website_size_kb'], color='b', fill='b');"
   ]
  },
  {
   "cell_type": "markdown",
   "id": "0883060a",
   "metadata": {},
   "source": [
    "**OLS Regression**"
   ]
  },
  {
   "cell_type": "code",
   "execution_count": null,
   "id": "b43e5ba4",
   "metadata": {},
   "outputs": [],
   "source": [
    "run_model('websize_log').summary()"
   ]
  },
  {
   "cell_type": "markdown",
   "id": "6c1a3f7f",
   "metadata": {},
   "source": [
    "**Control for year**"
   ]
  },
  {
   "cell_type": "code",
   "execution_count": null,
   "id": "92b1998b",
   "metadata": {},
   "outputs": [],
   "source": [
    "run_model('websize_log', control=['capture_yr']).rsquared"
   ]
  },
  {
   "cell_type": "markdown",
   "id": "05780300",
   "metadata": {},
   "source": [
    "**Control for industry**"
   ]
  },
  {
   "cell_type": "code",
   "execution_count": null,
   "id": "2127a982",
   "metadata": {},
   "outputs": [],
   "source": [
    "run_model('websize_log', control=['new_industrygroup']).rsquared"
   ]
  },
  {
   "cell_type": "markdown",
   "id": "4891a4f0",
   "metadata": {},
   "source": [
    "**Plot, controlling for end year**"
   ]
  },
  {
   "cell_type": "code",
   "execution_count": null,
   "id": "bb2b34f7",
   "metadata": {},
   "outputs": [],
   "source": [
    "plot_freg('careers', data, control='end_yr')"
   ]
  },
  {
   "cell_type": "markdown",
   "id": "85c0de3e",
   "metadata": {},
   "source": [
    "**Industry Plot**"
   ]
  },
  {
   "cell_type": "code",
   "execution_count": null,
   "id": "71de28bc",
   "metadata": {},
   "outputs": [],
   "source": [
    "plot_freg('websize_log', data, industry=True)"
   ]
  },
  {
   "cell_type": "markdown",
   "id": "48dc660b",
   "metadata": {},
   "source": [
    "**Plot for industry, controlling for capture year**"
   ]
  },
  {
   "cell_type": "code",
   "execution_count": null,
   "id": "ab10b55b",
   "metadata": {},
   "outputs": [],
   "source": [
    "plot_freg('websize_log', data, control='capture_yr', industry=True, save='websize_log_ind_ey.png')"
   ]
  },
  {
   "cell_type": "markdown",
   "id": "b8533432",
   "metadata": {},
   "source": [
    "## Cross-Sectional Regression Table"
   ]
  },
  {
   "cell_type": "markdown",
   "id": "74478f21",
   "metadata": {},
   "source": [
    "Create empty DataFrame"
   ]
  },
  {
   "cell_type": "code",
   "execution_count": 23,
   "id": "ffe1941d",
   "metadata": {},
   "outputs": [],
   "source": [
    "reg_results = pd.DataFrame(columns=['X', 'Y', 'Coefficient', 'Control', 'T', 'PValue', 'RSquared'])"
   ]
  },
  {
   "cell_type": "code",
   "execution_count": 24,
   "id": "d3893674",
   "metadata": {
    "scrolled": false
   },
   "outputs": [
    {
     "data": {
      "text/plain": [
       "Index(['capture_yr', 'capture_m', 'file_path', 'file_exists',\n",
       "       'website_size_kb', 'careers_link', 'blog_link', 'login_link',\n",
       "       'contact_link', 'team_link', 'about_link', 'news_link', 'faq_link',\n",
       "       'call_to_action_link', 'testimonial_link', 'careers_text', 'blog_text',\n",
       "       'login_text', 'contact_text', 'team_text', 'about_text', 'news_text',\n",
       "       'faq_text', 'call_to_action_text', 'testimonial_text', 'title',\n",
       "       'description', 'keywords', 'p_count', 'h_count', 'img_count', 'a_count',\n",
       "       'table_count', 'form_count', 'script_count', 'timestamp', 'notes',\n",
       "       'entityname', 'new_industrygroup', 'state', 'weburl', 'pb_companyid',\n",
       "       'startdate', 'lastVC', 'ownershipstatus', 'exit_date', 'failed',\n",
       "       'end_yr', 'start_yr', 'lifespan'],\n",
       "      dtype='object')"
      ]
     },
     "execution_count": 24,
     "metadata": {},
     "output_type": "execute_result"
    }
   ],
   "source": [
    "data.columns"
   ]
  },
  {
   "cell_type": "markdown",
   "id": "4ff9357c",
   "metadata": {},
   "source": [
    "Define columns to run regressions on"
   ]
  },
  {
   "cell_type": "code",
   "execution_count": 26,
   "id": "29461aa3",
   "metadata": {},
   "outputs": [],
   "source": [
    "cols_of_interest = [i for i in data.select_dtypes(include='number') if i not in ['failed']]"
   ]
  },
  {
   "cell_type": "code",
   "execution_count": 30,
   "id": "3f5bc258",
   "metadata": {
    "collapsed": true
   },
   "outputs": [
    {
     "name": "stdout",
     "output_type": "stream",
     "text": [
      "capture_yr\n",
      "capture_m\n",
      "file_exists\n",
      "website_size_kb\n",
      "careers_link\n",
      "blog_link\n",
      "login_link\n",
      "contact_link\n",
      "team_link\n",
      "about_link\n",
      "news_link\n",
      "faq_link\n",
      "call_to_action_link\n",
      "testimonial_link\n",
      "careers_text\n",
      "blog_text\n",
      "login_text\n",
      "contact_text\n",
      "team_text\n",
      "about_text\n",
      "news_text\n",
      "faq_text\n",
      "call_to_action_text\n",
      "testimonial_text\n",
      "title\n",
      "description\n",
      "keywords\n",
      "p_count\n",
      "h_count\n",
      "img_count\n",
      "a_count\n",
      "table_count\n",
      "form_count\n",
      "script_count\n",
      "timestamp\n",
      "end_yr\n",
      "start_yr\n",
      "lifespan\n"
     ]
    }
   ],
   "source": [
    "for i in cols_of_interest:\n",
    "    print(i)\n",
    "    mod = run_model(i, data)\n",
    "    results = {\n",
    "        'X': i,\n",
    "        'Y': 'Failed',\n",
    "        'Coefficient': mod.params[i],\n",
    "        'Control': \"\",\n",
    "        'T': mod.tvalues[i],\n",
    "        'PValue': mod.pvalues[i],\n",
    "        'RSquared': mod.rsquared,\n",
    "    }\n",
    "    reg_results = reg_results.append(results, ignore_index=True)\n",
    "    # Control for end year, industry, state, and start year\n",
    "    mod = run_model(i, data, control=['end_yr', 'new_industrygroup', 'state', 'start_yr'])\n",
    "    results['Coefficient'] = mod.params[i]\n",
    "    results['PValue'] =  mod.pvalues[i]\n",
    "    results['RSquared'] = mod.rsquared\n",
    "    results['Control'] = 'End Year, Industry, State, Year founded'\n",
    "    reg_results = reg_results.append(results, ignore_index=True)"
   ]
  },
  {
   "cell_type": "markdown",
   "id": "18ce21fc",
   "metadata": {},
   "source": [
    "Convert R-Squared out of scientific notation"
   ]
  },
  {
   "cell_type": "code",
   "execution_count": 34,
   "id": "7a74e1e0",
   "metadata": {},
   "outputs": [],
   "source": [
    "reg_results['RSquared'] = reg_results['RSquared'].astype('float64')\n",
    "reg_results['RSquared'] = np.round(reg_results['RSquared'], 4)"
   ]
  },
  {
   "cell_type": "code",
   "execution_count": 35,
   "id": "f80e7c7a",
   "metadata": {},
   "outputs": [],
   "source": [
    "reg_results.name = 'Last screenshot cross-sectional regressions'"
   ]
  },
  {
   "cell_type": "markdown",
   "id": "936805a9",
   "metadata": {},
   "source": [
    "Sort by R-Squared"
   ]
  },
  {
   "cell_type": "code",
   "execution_count": 36,
   "id": "86d3843e",
   "metadata": {
    "scrolled": false
   },
   "outputs": [
    {
     "data": {
      "text/html": [
       "<div>\n",
       "<style scoped>\n",
       "    .dataframe tbody tr th:only-of-type {\n",
       "        vertical-align: middle;\n",
       "    }\n",
       "\n",
       "    .dataframe tbody tr th {\n",
       "        vertical-align: top;\n",
       "    }\n",
       "\n",
       "    .dataframe thead th {\n",
       "        text-align: right;\n",
       "    }\n",
       "</style>\n",
       "<table border=\"1\" class=\"dataframe\">\n",
       "  <thead>\n",
       "    <tr style=\"text-align: right;\">\n",
       "      <th></th>\n",
       "      <th>X</th>\n",
       "      <th>Y</th>\n",
       "      <th>Coefficient</th>\n",
       "      <th>Control</th>\n",
       "      <th>T</th>\n",
       "      <th>PValue</th>\n",
       "      <th>RSquared</th>\n",
       "    </tr>\n",
       "  </thead>\n",
       "  <tbody>\n",
       "    <tr>\n",
       "      <th>0</th>\n",
       "      <td>script_count</td>\n",
       "      <td>Failed</td>\n",
       "      <td>-0.001338</td>\n",
       "      <td>End Year, Industry, State, Year founded</td>\n",
       "      <td>-14.600392</td>\n",
       "      <td>3.361050e-48</td>\n",
       "      <td>0.4060</td>\n",
       "    </tr>\n",
       "    <tr>\n",
       "      <th>1</th>\n",
       "      <td>script_count</td>\n",
       "      <td>Failed</td>\n",
       "      <td>-0.001338</td>\n",
       "      <td></td>\n",
       "      <td>-14.600392</td>\n",
       "      <td>3.361050e-48</td>\n",
       "      <td>0.4060</td>\n",
       "    </tr>\n",
       "    <tr>\n",
       "      <th>2</th>\n",
       "      <td>capture_yr</td>\n",
       "      <td>Failed</td>\n",
       "      <td>-0.008790</td>\n",
       "      <td></td>\n",
       "      <td>-13.576058</td>\n",
       "      <td>6.380591e-42</td>\n",
       "      <td>0.4057</td>\n",
       "    </tr>\n",
       "    <tr>\n",
       "      <th>3</th>\n",
       "      <td>img_count</td>\n",
       "      <td>Failed</td>\n",
       "      <td>-0.000594</td>\n",
       "      <td>End Year, Industry, State, Year founded</td>\n",
       "      <td>-13.848375</td>\n",
       "      <td>1.512148e-43</td>\n",
       "      <td>0.4057</td>\n",
       "    </tr>\n",
       "    <tr>\n",
       "      <th>4</th>\n",
       "      <td>img_count</td>\n",
       "      <td>Failed</td>\n",
       "      <td>-0.000594</td>\n",
       "      <td></td>\n",
       "      <td>-13.848375</td>\n",
       "      <td>1.512148e-43</td>\n",
       "      <td>0.4057</td>\n",
       "    </tr>\n",
       "    <tr>\n",
       "      <th>5</th>\n",
       "      <td>capture_yr</td>\n",
       "      <td>Failed</td>\n",
       "      <td>-0.008790</td>\n",
       "      <td>End Year, Industry, State, Year founded</td>\n",
       "      <td>-13.576058</td>\n",
       "      <td>6.380591e-42</td>\n",
       "      <td>0.4057</td>\n",
       "    </tr>\n",
       "    <tr>\n",
       "      <th>6</th>\n",
       "      <td>website_size_kb</td>\n",
       "      <td>Failed</td>\n",
       "      <td>-0.000104</td>\n",
       "      <td></td>\n",
       "      <td>-12.709596</td>\n",
       "      <td>5.820046e-37</td>\n",
       "      <td>0.4055</td>\n",
       "    </tr>\n",
       "    <tr>\n",
       "      <th>7</th>\n",
       "      <td>website_size_kb</td>\n",
       "      <td>Failed</td>\n",
       "      <td>-0.000104</td>\n",
       "      <td>End Year, Industry, State, Year founded</td>\n",
       "      <td>-12.709596</td>\n",
       "      <td>5.820046e-37</td>\n",
       "      <td>0.4055</td>\n",
       "    </tr>\n",
       "    <tr>\n",
       "      <th>8</th>\n",
       "      <td>about_link</td>\n",
       "      <td>Failed</td>\n",
       "      <td>-0.054165</td>\n",
       "      <td></td>\n",
       "      <td>-12.336921</td>\n",
       "      <td>6.301124e-35</td>\n",
       "      <td>0.4054</td>\n",
       "    </tr>\n",
       "    <tr>\n",
       "      <th>9</th>\n",
       "      <td>about_text</td>\n",
       "      <td>Failed</td>\n",
       "      <td>-0.054165</td>\n",
       "      <td>End Year, Industry, State, Year founded</td>\n",
       "      <td>-12.336921</td>\n",
       "      <td>6.301124e-35</td>\n",
       "      <td>0.4054</td>\n",
       "    </tr>\n",
       "    <tr>\n",
       "      <th>10</th>\n",
       "      <td>about_link</td>\n",
       "      <td>Failed</td>\n",
       "      <td>-0.054165</td>\n",
       "      <td>End Year, Industry, State, Year founded</td>\n",
       "      <td>-12.336921</td>\n",
       "      <td>6.301124e-35</td>\n",
       "      <td>0.4054</td>\n",
       "    </tr>\n",
       "    <tr>\n",
       "      <th>11</th>\n",
       "      <td>about_text</td>\n",
       "      <td>Failed</td>\n",
       "      <td>-0.054165</td>\n",
       "      <td></td>\n",
       "      <td>-12.336921</td>\n",
       "      <td>6.301124e-35</td>\n",
       "      <td>0.4054</td>\n",
       "    </tr>\n",
       "    <tr>\n",
       "      <th>12</th>\n",
       "      <td>call_to_action_text</td>\n",
       "      <td>Failed</td>\n",
       "      <td>-0.049967</td>\n",
       "      <td></td>\n",
       "      <td>-12.239055</td>\n",
       "      <td>2.107742e-34</td>\n",
       "      <td>0.4053</td>\n",
       "    </tr>\n",
       "    <tr>\n",
       "      <th>13</th>\n",
       "      <td>call_to_action_link</td>\n",
       "      <td>Failed</td>\n",
       "      <td>-0.049967</td>\n",
       "      <td>End Year, Industry, State, Year founded</td>\n",
       "      <td>-12.239055</td>\n",
       "      <td>2.107742e-34</td>\n",
       "      <td>0.4053</td>\n",
       "    </tr>\n",
       "    <tr>\n",
       "      <th>14</th>\n",
       "      <td>news_text</td>\n",
       "      <td>Failed</td>\n",
       "      <td>-0.048679</td>\n",
       "      <td>End Year, Industry, State, Year founded</td>\n",
       "      <td>-12.032597</td>\n",
       "      <td>2.610017e-33</td>\n",
       "      <td>0.4053</td>\n",
       "    </tr>\n",
       "  </tbody>\n",
       "</table>\n",
       "</div>"
      ],
      "text/plain": [
       "                      X       Y  Coefficient  \\\n",
       "0          script_count  Failed    -0.001338   \n",
       "1          script_count  Failed    -0.001338   \n",
       "2            capture_yr  Failed    -0.008790   \n",
       "3             img_count  Failed    -0.000594   \n",
       "4             img_count  Failed    -0.000594   \n",
       "5            capture_yr  Failed    -0.008790   \n",
       "6       website_size_kb  Failed    -0.000104   \n",
       "7       website_size_kb  Failed    -0.000104   \n",
       "8            about_link  Failed    -0.054165   \n",
       "9            about_text  Failed    -0.054165   \n",
       "10           about_link  Failed    -0.054165   \n",
       "11           about_text  Failed    -0.054165   \n",
       "12  call_to_action_text  Failed    -0.049967   \n",
       "13  call_to_action_link  Failed    -0.049967   \n",
       "14            news_text  Failed    -0.048679   \n",
       "\n",
       "                                    Control          T        PValue  RSquared  \n",
       "0   End Year, Industry, State, Year founded -14.600392  3.361050e-48    0.4060  \n",
       "1                                           -14.600392  3.361050e-48    0.4060  \n",
       "2                                           -13.576058  6.380591e-42    0.4057  \n",
       "3   End Year, Industry, State, Year founded -13.848375  1.512148e-43    0.4057  \n",
       "4                                           -13.848375  1.512148e-43    0.4057  \n",
       "5   End Year, Industry, State, Year founded -13.576058  6.380591e-42    0.4057  \n",
       "6                                           -12.709596  5.820046e-37    0.4055  \n",
       "7   End Year, Industry, State, Year founded -12.709596  5.820046e-37    0.4055  \n",
       "8                                           -12.336921  6.301124e-35    0.4054  \n",
       "9   End Year, Industry, State, Year founded -12.336921  6.301124e-35    0.4054  \n",
       "10  End Year, Industry, State, Year founded -12.336921  6.301124e-35    0.4054  \n",
       "11                                          -12.336921  6.301124e-35    0.4054  \n",
       "12                                          -12.239055  2.107742e-34    0.4053  \n",
       "13  End Year, Industry, State, Year founded -12.239055  2.107742e-34    0.4053  \n",
       "14  End Year, Industry, State, Year founded -12.032597  2.610017e-33    0.4053  "
      ]
     },
     "execution_count": 36,
     "metadata": {},
     "output_type": "execute_result"
    }
   ],
   "source": [
    "reg_results.sort_values('RSquared', ascending=False).reset_index(drop=True).head(15)"
   ]
  },
  {
   "cell_type": "markdown",
   "id": "4bffc657",
   "metadata": {},
   "source": [
    "## Growth Regressions"
   ]
  },
  {
   "cell_type": "markdown",
   "id": "8de0235e",
   "metadata": {},
   "source": [
    "**Setup**"
   ]
  },
  {
   "cell_type": "markdown",
   "id": "9fb3d559",
   "metadata": {},
   "source": [
    "Add these growth columns for every column that we care about"
   ]
  },
  {
   "cell_type": "code",
   "execution_count": 37,
   "id": "b5bee131",
   "metadata": {},
   "outputs": [],
   "source": [
    "g_cols_of_interest = ['website_size_kb', 'careers', 'blog', 'login', 'contact',\n",
    "       'team', 'about', 'news', 'faq', 'call_to_action', 'testimonial',\n",
    "       'title', 'description', 'keywords', 'p_count', 'h_count', 'img_count',\n",
    "       'a_count', 'table_count', 'form_count', 'script_count']\n",
    "binCols =  ['careers', 'blog', 'login', 'contact',\n",
    "       'team', 'about', 'news', 'faq', 'call_to_action', 'testimonial',\n",
    "       'title', 'description', 'keywords']"
   ]
  },
  {
   "cell_type": "markdown",
   "id": "d9a42f27",
   "metadata": {},
   "source": [
    "Calculate Percentage Difference"
   ]
  },
  {
   "cell_type": "code",
   "execution_count": 38,
   "id": "779b85ab",
   "metadata": {},
   "outputs": [],
   "source": [
    "def find_last_diff(x, col, start, end, isBin):\n",
    "    if len(x.index) > end:\n",
    "        start_val = x.iloc[start][col]\n",
    "        end_val = x.iloc[end][col]\n",
    "        diff = end_val - start_val\n",
    "        if isBin and diff == 1:\n",
    "            diff = 100\n",
    "        if start_val == 0:\n",
    "            diff = (((end_val + 1) - (start_val + 1)) / (start_val + 1)) * 100\n",
    "        else:\n",
    "            diff = ((end_val - start_val) / start_val) * 100\n",
    "        return diff\n",
    "    return None"
   ]
  },
  {
   "cell_type": "markdown",
   "id": "4f1d8901",
   "metadata": {},
   "source": [
    "Add the column to the HTML DataFrame"
   ]
  },
  {
   "cell_type": "code",
   "execution_count": 39,
   "id": "aca06ec7",
   "metadata": {},
   "outputs": [],
   "source": [
    "def add_last_growth_col(col, colName, start, end):\n",
    "    s = html.groupby('entityid').apply(lambda x: find_last_diff(x, col, start, end, isBin=(col in binCols)))\n",
    "    s.name = colName\n",
    "    return html.merge(s, on='entityid')"
   ]
  },
  {
   "cell_type": "markdown",
   "id": "f4aede22",
   "metadata": {},
   "source": [
    "Add ALL of the columns to the HTML DataFrame"
   ]
  },
  {
   "cell_type": "code",
   "execution_count": 40,
   "id": "2fe04fb6",
   "metadata": {},
   "outputs": [],
   "source": [
    "def create_growth_cols(start, end):\n",
    "    global html\n",
    "    for i in g_cols_of_interest:\n",
    "        colName = f\"g{start}{end}_{i}\"\n",
    "        html = add_last_growth_col(col=i, colName=colName, start=0, end=3)"
   ]
  },
  {
   "cell_type": "markdown",
   "id": "1c40eac7",
   "metadata": {},
   "source": [
    "Run regressions on the growth columns and return a table containing all the important info about the regressions"
   ]
  },
  {
   "cell_type": "code",
   "execution_count": 41,
   "id": "5f17c8e5",
   "metadata": {},
   "outputs": [],
   "source": [
    "def growth_reg(start, end, lifespanControl=None):\n",
    "    growth_reg_results = pd.DataFrame(columns=['X', 'Y', 'Coefficient', 'Control', 'T', 'PValue', 'RSquared'])    \n",
    "\n",
    "    for i in g_cols_of_interest:\n",
    "        i = f\"g{start}{end}_{i}\"\n",
    "        \n",
    "        # Control for end year, industry, state, and start year\n",
    "        mod = run_model(i, control=['end_yr', 'new_industrygroup', 'state', 'start_yr'], lifespanControl=lifespanControl)\n",
    "        \n",
    "        results = {\n",
    "            'X': i,\n",
    "            'Y': 'Failed',\n",
    "            'Coefficient': mod.params[i],\n",
    "            'Control': 'End Year, Industry, State, Year founded',\n",
    "            'T': mod.tvalues[i],\n",
    "            'PValue': mod.pvalues[i],\n",
    "            'RSquared': mod.rsquared\n",
    "        }\n",
    "        \n",
    "        growth_reg_results = growth_reg_results.append(results, ignore_index=True)\n",
    "        \n",
    "\n",
    "    # Convert Rsquared to float\n",
    "    growth_reg_results['RSquared'] = growth_reg_results['RSquared'].astype('float64')\n",
    "    growth_reg_results['RSquared'] = np.round(growth_reg_results['RSquared'], 4)\n",
    "    \n",
    "    # Set name\n",
    "    growth_reg_results.set_camption = f\"% Growth from years {start} to {end}\"\n",
    "    \n",
    "    return growth_reg_results"
   ]
  },
  {
   "cell_type": "markdown",
   "id": "dd177b3f",
   "metadata": {},
   "source": [
    "Combine the functions above, return a DF that acts as a table for ..\n",
    "\n",
    "\n",
    "TODO: Understand this function more lol"
   ]
  },
  {
   "cell_type": "code",
   "execution_count": 42,
   "id": "2d34fe0e",
   "metadata": {
    "scrolled": true
   },
   "outputs": [],
   "source": [
    "def master_reg(data, start, end, lifespanControl):\n",
    "    colPrefix = f\"g{start}{end}_\"\n",
    "    \n",
    "    # See if columns exist\n",
    "    columnsExist = set([colPrefix + i for i in g_cols_of_interest]).issubset(html.columns)\n",
    "\n",
    "    if not columnsExist:\n",
    "        # Create columns (takes ~2 minutes)\n",
    "        create_growth_cols(start, end)\n",
    "\n",
    "    # Redefine regression dataset with new growth columns\n",
    "    data = html.groupby('entityid').last()\n",
    "    colPrefix = f\"g{start}{end}_\"\n",
    "\n",
    "    # Drop any rows with NA values for any of the columns we're running regressions on\n",
    "    data = data.dropna(subset=[colPrefix + i for i in g_cols_of_interest]) # Remove NA\n",
    "\n",
    "    # Create regression DF\n",
    "    gr_results = growth_reg(start, end, lifespanControl=lifespanControl)\n",
    "\n",
    "    # Styling\n",
    "    if lifespanControl is not None:\n",
    "        captionTxt = f\"Exited within {lifespanControl} years, Growth from snapshot {start}-{end}\"\n",
    "    else:\n",
    "        captionTxt = f\"Growth from snapshot {start}-{end}\"\n",
    "    return gr_results"
   ]
  },
  {
   "cell_type": "markdown",
   "id": "8d8582b5",
   "metadata": {},
   "source": [
    "Setup"
   ]
  },
  {
   "cell_type": "code",
   "execution_count": 43,
   "id": "513f17de",
   "metadata": {},
   "outputs": [],
   "source": [
    "start = 1\n",
    "end = 3\n",
    "lifespanControl = 5"
   ]
  },
  {
   "cell_type": "markdown",
   "id": "7c2828c5",
   "metadata": {},
   "source": [
    "Control:\n",
    "    Every company that lasted 3 years the same amount of time for the outcome variable to be 1\n",
    "    "
   ]
  },
  {
   "cell_type": "code",
   "execution_count": 45,
   "id": "32506eea",
   "metadata": {
    "collapsed": true
   },
   "outputs": [
    {
     "ename": "KeyboardInterrupt",
     "evalue": "",
     "output_type": "error",
     "traceback": [
      "\u001b[0;31m---------------------------------------------------------------------------\u001b[0m",
      "\u001b[0;31mKeyboardInterrupt\u001b[0m                         Traceback (most recent call last)",
      "Cell \u001b[0;32mIn[45], line 1\u001b[0m\n\u001b[0;32m----> 1\u001b[0m \u001b[43mmaster_reg\u001b[49m\u001b[43m(\u001b[49m\u001b[43mdata\u001b[49m\u001b[38;5;241;43m=\u001b[39;49m\u001b[43mdata\u001b[49m\u001b[43m,\u001b[49m\u001b[43m \u001b[49m\u001b[43mstart\u001b[49m\u001b[38;5;241;43m=\u001b[39;49m\u001b[43mstart\u001b[49m\u001b[43m,\u001b[49m\u001b[43m \u001b[49m\u001b[43mend\u001b[49m\u001b[38;5;241;43m=\u001b[39;49m\u001b[43mend\u001b[49m\u001b[43m,\u001b[49m\u001b[43m \u001b[49m\u001b[43mlifespanControl\u001b[49m\u001b[38;5;241;43m=\u001b[39;49m\u001b[43mlifespanControl\u001b[49m\u001b[43m)\u001b[49m\n",
      "Cell \u001b[0;32mIn[42], line 9\u001b[0m, in \u001b[0;36mmaster_reg\u001b[0;34m(start, data, end, lifespanControl)\u001b[0m\n\u001b[1;32m      5\u001b[0m columnsExist \u001b[38;5;241m=\u001b[39m \u001b[38;5;28mset\u001b[39m([colPrefix \u001b[38;5;241m+\u001b[39m i \u001b[38;5;28;01mfor\u001b[39;00m i \u001b[38;5;129;01min\u001b[39;00m g_cols_of_interest])\u001b[38;5;241m.\u001b[39missubset(html\u001b[38;5;241m.\u001b[39mcolumns)\n\u001b[1;32m      7\u001b[0m \u001b[38;5;28;01mif\u001b[39;00m \u001b[38;5;129;01mnot\u001b[39;00m columnsExist:\n\u001b[1;32m      8\u001b[0m     \u001b[38;5;66;03m# Create columns (takes ~2 minutes)\u001b[39;00m\n\u001b[0;32m----> 9\u001b[0m     \u001b[43mcreate_growth_cols\u001b[49m\u001b[43m(\u001b[49m\u001b[43mstart\u001b[49m\u001b[43m,\u001b[49m\u001b[43m \u001b[49m\u001b[43mend\u001b[49m\u001b[43m)\u001b[49m\n\u001b[1;32m     11\u001b[0m \u001b[38;5;66;03m# Redefine regression dataset with new growth columns\u001b[39;00m\n\u001b[1;32m     12\u001b[0m data \u001b[38;5;241m=\u001b[39m html\u001b[38;5;241m.\u001b[39mgroupby(\u001b[38;5;124m'\u001b[39m\u001b[38;5;124mentityid\u001b[39m\u001b[38;5;124m'\u001b[39m)\u001b[38;5;241m.\u001b[39mlast()\n",
      "Cell \u001b[0;32mIn[40], line 5\u001b[0m, in \u001b[0;36mcreate_growth_cols\u001b[0;34m(start, end)\u001b[0m\n\u001b[1;32m      3\u001b[0m \u001b[38;5;28;01mfor\u001b[39;00m i \u001b[38;5;129;01min\u001b[39;00m g_cols_of_interest:\n\u001b[1;32m      4\u001b[0m     colName \u001b[38;5;241m=\u001b[39m \u001b[38;5;124mf\u001b[39m\u001b[38;5;124m\"\u001b[39m\u001b[38;5;124mg\u001b[39m\u001b[38;5;132;01m{\u001b[39;00mstart\u001b[38;5;132;01m}\u001b[39;00m\u001b[38;5;132;01m{\u001b[39;00mend\u001b[38;5;132;01m}\u001b[39;00m\u001b[38;5;124m_\u001b[39m\u001b[38;5;132;01m{\u001b[39;00mi\u001b[38;5;132;01m}\u001b[39;00m\u001b[38;5;124m\"\u001b[39m\n\u001b[0;32m----> 5\u001b[0m     html \u001b[38;5;241m=\u001b[39m \u001b[43madd_last_growth_col\u001b[49m\u001b[43m(\u001b[49m\u001b[43mcol\u001b[49m\u001b[38;5;241;43m=\u001b[39;49m\u001b[43mi\u001b[49m\u001b[43m,\u001b[49m\u001b[43m \u001b[49m\u001b[43mcolName\u001b[49m\u001b[38;5;241;43m=\u001b[39;49m\u001b[43mcolName\u001b[49m\u001b[43m,\u001b[49m\u001b[43m \u001b[49m\u001b[43mstart\u001b[49m\u001b[38;5;241;43m=\u001b[39;49m\u001b[38;5;241;43m0\u001b[39;49m\u001b[43m,\u001b[49m\u001b[43m \u001b[49m\u001b[43mend\u001b[49m\u001b[38;5;241;43m=\u001b[39;49m\u001b[38;5;241;43m3\u001b[39;49m\u001b[43m)\u001b[49m\n",
      "Cell \u001b[0;32mIn[39], line 2\u001b[0m, in \u001b[0;36madd_last_growth_col\u001b[0;34m(col, colName, start, end)\u001b[0m\n\u001b[1;32m      1\u001b[0m \u001b[38;5;28;01mdef\u001b[39;00m \u001b[38;5;21madd_last_growth_col\u001b[39m(col, colName, start, end):\n\u001b[0;32m----> 2\u001b[0m     s \u001b[38;5;241m=\u001b[39m \u001b[43mhtml\u001b[49m\u001b[38;5;241;43m.\u001b[39;49m\u001b[43mgroupby\u001b[49m\u001b[43m(\u001b[49m\u001b[38;5;124;43m'\u001b[39;49m\u001b[38;5;124;43mentityid\u001b[39;49m\u001b[38;5;124;43m'\u001b[39;49m\u001b[43m)\u001b[49m\u001b[38;5;241;43m.\u001b[39;49m\u001b[43mapply\u001b[49m\u001b[43m(\u001b[49m\u001b[38;5;28;43;01mlambda\u001b[39;49;00m\u001b[43m \u001b[49m\u001b[43mx\u001b[49m\u001b[43m:\u001b[49m\u001b[43m \u001b[49m\u001b[43mfind_last_diff\u001b[49m\u001b[43m(\u001b[49m\u001b[43mx\u001b[49m\u001b[43m,\u001b[49m\u001b[43m \u001b[49m\u001b[43mcol\u001b[49m\u001b[43m,\u001b[49m\u001b[43m \u001b[49m\u001b[43mstart\u001b[49m\u001b[43m,\u001b[49m\u001b[43m \u001b[49m\u001b[43mend\u001b[49m\u001b[43m,\u001b[49m\u001b[43m \u001b[49m\u001b[43misBin\u001b[49m\u001b[38;5;241;43m=\u001b[39;49m\u001b[43m(\u001b[49m\u001b[43mcol\u001b[49m\u001b[43m \u001b[49m\u001b[38;5;129;43;01min\u001b[39;49;00m\u001b[43m \u001b[49m\u001b[43mbinCols\u001b[49m\u001b[43m)\u001b[49m\u001b[43m)\u001b[49m\u001b[43m)\u001b[49m\n\u001b[1;32m      3\u001b[0m     s\u001b[38;5;241m.\u001b[39mname \u001b[38;5;241m=\u001b[39m colName\n\u001b[1;32m      4\u001b[0m     \u001b[38;5;28;01mreturn\u001b[39;00m html\u001b[38;5;241m.\u001b[39mmerge(s, on\u001b[38;5;241m=\u001b[39m\u001b[38;5;124m'\u001b[39m\u001b[38;5;124mentityid\u001b[39m\u001b[38;5;124m'\u001b[39m)\n",
      "File \u001b[0;32m/Library/Frameworks/Python.framework/Versions/3.9/lib/python3.9/site-packages/pandas/core/groupby/groupby.py:894\u001b[0m, in \u001b[0;36mBaseGroupBy.apply\u001b[0;34m(self, func, *args, **kwargs)\u001b[0m\n\u001b[1;32m    892\u001b[0m \u001b[38;5;28;01mwith\u001b[39;00m option_context(\u001b[38;5;124m\"\u001b[39m\u001b[38;5;124mmode.chained_assignment\u001b[39m\u001b[38;5;124m\"\u001b[39m, \u001b[38;5;28;01mNone\u001b[39;00m):\n\u001b[1;32m    893\u001b[0m     \u001b[38;5;28;01mtry\u001b[39;00m:\n\u001b[0;32m--> 894\u001b[0m         result \u001b[38;5;241m=\u001b[39m \u001b[38;5;28;43mself\u001b[39;49m\u001b[38;5;241;43m.\u001b[39;49m\u001b[43m_python_apply_general\u001b[49m\u001b[43m(\u001b[49m\u001b[43mf\u001b[49m\u001b[43m,\u001b[49m\u001b[43m \u001b[49m\u001b[38;5;28;43mself\u001b[39;49m\u001b[38;5;241;43m.\u001b[39;49m\u001b[43m_selected_obj\u001b[49m\u001b[43m)\u001b[49m\n\u001b[1;32m    895\u001b[0m     \u001b[38;5;28;01mexcept\u001b[39;00m \u001b[38;5;167;01mTypeError\u001b[39;00m:\n\u001b[1;32m    896\u001b[0m         \u001b[38;5;66;03m# gh-20949\u001b[39;00m\n\u001b[1;32m    897\u001b[0m         \u001b[38;5;66;03m# try again, with .apply acting as a filtering\u001b[39;00m\n\u001b[0;32m   (...)\u001b[0m\n\u001b[1;32m    901\u001b[0m         \u001b[38;5;66;03m# fails on *some* columns, e.g. a numeric operation\u001b[39;00m\n\u001b[1;32m    902\u001b[0m         \u001b[38;5;66;03m# on a string grouper column\u001b[39;00m\n\u001b[1;32m    904\u001b[0m         \u001b[38;5;28;01mwith\u001b[39;00m group_selection_context(\u001b[38;5;28mself\u001b[39m):\n",
      "File \u001b[0;32m/Library/Frameworks/Python.framework/Versions/3.9/lib/python3.9/site-packages/pandas/core/groupby/groupby.py:928\u001b[0m, in \u001b[0;36mBaseGroupBy._python_apply_general\u001b[0;34m(self, f, data)\u001b[0m\n\u001b[1;32m    909\u001b[0m \u001b[38;5;129m@final\u001b[39m\n\u001b[1;32m    910\u001b[0m \u001b[38;5;28;01mdef\u001b[39;00m \u001b[38;5;21m_python_apply_general\u001b[39m(\n\u001b[1;32m    911\u001b[0m     \u001b[38;5;28mself\u001b[39m, f: F, data: FrameOrSeriesUnion\n\u001b[1;32m    912\u001b[0m ) \u001b[38;5;241m-\u001b[39m\u001b[38;5;241m>\u001b[39m FrameOrSeriesUnion:\n\u001b[1;32m    913\u001b[0m \u001b[38;5;250m    \u001b[39m\u001b[38;5;124;03m\"\"\"\u001b[39;00m\n\u001b[1;32m    914\u001b[0m \u001b[38;5;124;03m    Apply function f in python space\u001b[39;00m\n\u001b[1;32m    915\u001b[0m \n\u001b[0;32m   (...)\u001b[0m\n\u001b[1;32m    926\u001b[0m \u001b[38;5;124;03m        data after applying f\u001b[39;00m\n\u001b[1;32m    927\u001b[0m \u001b[38;5;124;03m    \"\"\"\u001b[39;00m\n\u001b[0;32m--> 928\u001b[0m     keys, values, mutated \u001b[38;5;241m=\u001b[39m \u001b[38;5;28;43mself\u001b[39;49m\u001b[38;5;241;43m.\u001b[39;49m\u001b[43mgrouper\u001b[49m\u001b[38;5;241;43m.\u001b[39;49m\u001b[43mapply\u001b[49m\u001b[43m(\u001b[49m\u001b[43mf\u001b[49m\u001b[43m,\u001b[49m\u001b[43m \u001b[49m\u001b[43mdata\u001b[49m\u001b[43m,\u001b[49m\u001b[43m \u001b[49m\u001b[38;5;28;43mself\u001b[39;49m\u001b[38;5;241;43m.\u001b[39;49m\u001b[43maxis\u001b[49m\u001b[43m)\u001b[49m\n\u001b[1;32m    930\u001b[0m     \u001b[38;5;28;01mreturn\u001b[39;00m \u001b[38;5;28mself\u001b[39m\u001b[38;5;241m.\u001b[39m_wrap_applied_output(\n\u001b[1;32m    931\u001b[0m         keys, values, not_indexed_same\u001b[38;5;241m=\u001b[39mmutated \u001b[38;5;129;01mor\u001b[39;00m \u001b[38;5;28mself\u001b[39m\u001b[38;5;241m.\u001b[39mmutated\n\u001b[1;32m    932\u001b[0m     )\n",
      "File \u001b[0;32m/Library/Frameworks/Python.framework/Versions/3.9/lib/python3.9/site-packages/pandas/core/groupby/ops.py:204\u001b[0m, in \u001b[0;36mBaseGrouper.apply\u001b[0;34m(self, f, data, axis)\u001b[0m\n\u001b[1;32m    196\u001b[0m \u001b[38;5;28;01melif\u001b[39;00m (\n\u001b[1;32m    197\u001b[0m     com\u001b[38;5;241m.\u001b[39mget_callable_name(f) \u001b[38;5;129;01mnot\u001b[39;00m \u001b[38;5;129;01min\u001b[39;00m base\u001b[38;5;241m.\u001b[39mplotting_methods\n\u001b[1;32m    198\u001b[0m     \u001b[38;5;129;01mand\u001b[39;00m \u001b[38;5;28misinstance\u001b[39m(splitter, FrameSplitter)\n\u001b[0;32m   (...)\u001b[0m\n\u001b[1;32m    201\u001b[0m     \u001b[38;5;129;01mand\u001b[39;00m \u001b[38;5;129;01mnot\u001b[39;00m sdata\u001b[38;5;241m.\u001b[39mindex\u001b[38;5;241m.\u001b[39m_has_complex_internals\n\u001b[1;32m    202\u001b[0m ):\n\u001b[1;32m    203\u001b[0m     \u001b[38;5;28;01mtry\u001b[39;00m:\n\u001b[0;32m--> 204\u001b[0m         result_values, mutated \u001b[38;5;241m=\u001b[39m \u001b[43msplitter\u001b[49m\u001b[38;5;241;43m.\u001b[39;49m\u001b[43mfast_apply\u001b[49m\u001b[43m(\u001b[49m\u001b[43mf\u001b[49m\u001b[43m,\u001b[49m\u001b[43m \u001b[49m\u001b[43msdata\u001b[49m\u001b[43m,\u001b[49m\u001b[43m \u001b[49m\u001b[43mgroup_keys\u001b[49m\u001b[43m)\u001b[49m\n\u001b[1;32m    206\u001b[0m     \u001b[38;5;28;01mexcept\u001b[39;00m libreduction\u001b[38;5;241m.\u001b[39mInvalidApply \u001b[38;5;28;01mas\u001b[39;00m err:\n\u001b[1;32m    207\u001b[0m         \u001b[38;5;66;03m# This Exception is raised if `f` triggers an exception\u001b[39;00m\n\u001b[1;32m    208\u001b[0m         \u001b[38;5;66;03m# but it is preferable to raise the exception in Python.\u001b[39;00m\n\u001b[1;32m    209\u001b[0m         \u001b[38;5;28;01mif\u001b[39;00m \u001b[38;5;124m\"\u001b[39m\u001b[38;5;124mLet this error raise above us\u001b[39m\u001b[38;5;124m\"\u001b[39m \u001b[38;5;129;01mnot\u001b[39;00m \u001b[38;5;129;01min\u001b[39;00m \u001b[38;5;28mstr\u001b[39m(err):\n\u001b[1;32m    210\u001b[0m             \u001b[38;5;66;03m# TODO: can we infer anything about whether this is\u001b[39;00m\n\u001b[1;32m    211\u001b[0m             \u001b[38;5;66;03m#  worth-retrying in pure-python?\u001b[39;00m\n",
      "File \u001b[0;32m/Library/Frameworks/Python.framework/Versions/3.9/lib/python3.9/site-packages/pandas/core/groupby/ops.py:1001\u001b[0m, in \u001b[0;36mFrameSplitter.fast_apply\u001b[0;34m(self, f, sdata, names)\u001b[0m\n\u001b[1;32m    998\u001b[0m \u001b[38;5;28;01mdef\u001b[39;00m \u001b[38;5;21mfast_apply\u001b[39m(\u001b[38;5;28mself\u001b[39m, f: F, sdata: FrameOrSeries, names):\n\u001b[1;32m    999\u001b[0m     \u001b[38;5;66;03m# must return keys::list, values::list, mutated::bool\u001b[39;00m\n\u001b[1;32m   1000\u001b[0m     starts, ends \u001b[38;5;241m=\u001b[39m lib\u001b[38;5;241m.\u001b[39mgenerate_slices(\u001b[38;5;28mself\u001b[39m\u001b[38;5;241m.\u001b[39mslabels, \u001b[38;5;28mself\u001b[39m\u001b[38;5;241m.\u001b[39mngroups)\n\u001b[0;32m-> 1001\u001b[0m     \u001b[38;5;28;01mreturn\u001b[39;00m \u001b[43mlibreduction\u001b[49m\u001b[38;5;241;43m.\u001b[39;49m\u001b[43mapply_frame_axis0\u001b[49m\u001b[43m(\u001b[49m\u001b[43msdata\u001b[49m\u001b[43m,\u001b[49m\u001b[43m \u001b[49m\u001b[43mf\u001b[49m\u001b[43m,\u001b[49m\u001b[43m \u001b[49m\u001b[43mnames\u001b[49m\u001b[43m,\u001b[49m\u001b[43m \u001b[49m\u001b[43mstarts\u001b[49m\u001b[43m,\u001b[49m\u001b[43m \u001b[49m\u001b[43mends\u001b[49m\u001b[43m)\u001b[49m\n",
      "File \u001b[0;32mpandas/_libs/reduction.pyx:369\u001b[0m, in \u001b[0;36mpandas._libs.reduction.apply_frame_axis0\u001b[0;34m()\u001b[0m\n",
      "Cell \u001b[0;32mIn[39], line 2\u001b[0m, in \u001b[0;36madd_last_growth_col.<locals>.<lambda>\u001b[0;34m(x)\u001b[0m\n\u001b[1;32m      1\u001b[0m \u001b[38;5;28;01mdef\u001b[39;00m \u001b[38;5;21madd_last_growth_col\u001b[39m(col, colName, start, end):\n\u001b[0;32m----> 2\u001b[0m     s \u001b[38;5;241m=\u001b[39m html\u001b[38;5;241m.\u001b[39mgroupby(\u001b[38;5;124m'\u001b[39m\u001b[38;5;124mentityid\u001b[39m\u001b[38;5;124m'\u001b[39m)\u001b[38;5;241m.\u001b[39mapply(\u001b[38;5;28;01mlambda\u001b[39;00m x: \u001b[43mfind_last_diff\u001b[49m\u001b[43m(\u001b[49m\u001b[43mx\u001b[49m\u001b[43m,\u001b[49m\u001b[43m \u001b[49m\u001b[43mcol\u001b[49m\u001b[43m,\u001b[49m\u001b[43m \u001b[49m\u001b[43mstart\u001b[49m\u001b[43m,\u001b[49m\u001b[43m \u001b[49m\u001b[43mend\u001b[49m\u001b[43m,\u001b[49m\u001b[43m \u001b[49m\u001b[43misBin\u001b[49m\u001b[38;5;241;43m=\u001b[39;49m\u001b[43m(\u001b[49m\u001b[43mcol\u001b[49m\u001b[43m \u001b[49m\u001b[38;5;129;43;01min\u001b[39;49;00m\u001b[43m \u001b[49m\u001b[43mbinCols\u001b[49m\u001b[43m)\u001b[49m\u001b[43m)\u001b[49m)\n\u001b[1;32m      3\u001b[0m     s\u001b[38;5;241m.\u001b[39mname \u001b[38;5;241m=\u001b[39m colName\n\u001b[1;32m      4\u001b[0m     \u001b[38;5;28;01mreturn\u001b[39;00m html\u001b[38;5;241m.\u001b[39mmerge(s, on\u001b[38;5;241m=\u001b[39m\u001b[38;5;124m'\u001b[39m\u001b[38;5;124mentityid\u001b[39m\u001b[38;5;124m'\u001b[39m)\n",
      "Cell \u001b[0;32mIn[38], line 2\u001b[0m, in \u001b[0;36mfind_last_diff\u001b[0;34m(x, col, start, end, isBin)\u001b[0m\n\u001b[1;32m      1\u001b[0m \u001b[38;5;28;01mdef\u001b[39;00m \u001b[38;5;21mfind_last_diff\u001b[39m(x, col, start, end, isBin):\n\u001b[0;32m----> 2\u001b[0m     \u001b[38;5;28;01mif\u001b[39;00m \u001b[38;5;28;43mlen\u001b[39;49m(x\u001b[38;5;241m.\u001b[39mindex) \u001b[38;5;241m>\u001b[39m end:\n\u001b[1;32m      3\u001b[0m         start_val \u001b[38;5;241m=\u001b[39m x\u001b[38;5;241m.\u001b[39miloc[start][col]\n\u001b[1;32m      4\u001b[0m         end_val \u001b[38;5;241m=\u001b[39m x\u001b[38;5;241m.\u001b[39miloc[end][col]\n",
      "\u001b[0;31mKeyboardInterrupt\u001b[0m: "
     ]
    }
   ],
   "source": [
    "master_reg(data=data, start=start, end=end, lifespanControl=lifespanControl)"
   ]
  },
  {
   "cell_type": "markdown",
   "id": "e7e53191",
   "metadata": {},
   "source": [
    "---"
   ]
  },
  {
   "cell_type": "markdown",
   "id": "aa4bc595",
   "metadata": {},
   "source": [
    "## Time Between Captures"
   ]
  },
  {
   "cell_type": "markdown",
   "id": "3479eca6",
   "metadata": {},
   "source": [
    "The distance in time between captures may be indicative of many things about the website...\n",
    "\n",
    "1. How much traffic is the website getting?\n",
    "    - Hypothesis: websites with less web traffic are less likely to be crawled.\n",
    "2. How much is the website actually changing?\n",
    "    - Hypothesis: websites with minimal changes to their website will not get crawled.\n",
    "    \n",
    "If both hypotheses are true, the less snapshots a website has, the more likely it is a website that is unchanging and not receiving much web traffic.\n",
    "- Does this sound like a good signal for failure? In some industries, certainly. In an industry like healthcare, less so."
   ]
  },
  {
   "cell_type": "markdown",
   "id": "b7fc3523",
   "metadata": {},
   "source": [
    "What's the most robust way of measuring this? Getting a list of **all** the snapshots we have for each company. With some time constraints of-course (-2 years before start date, +5 years after exit_date/lastVC).\n",
    "- Essentially, we'd just have a list of timestamps per company. Let's make a script for that..."
   ]
  },
  {
   "cell_type": "markdown",
   "id": "9aa6a5c0",
   "metadata": {},
   "source": [
    "### Read data"
   ]
  },
  {
   "cell_type": "code",
   "execution_count": null,
   "id": "a9db7633",
   "metadata": {},
   "outputs": [],
   "source": [
    "pd.read_csv('../data/simple_jsons')"
   ]
  },
  {
   "cell_type": "markdown",
   "id": "e584d1c3",
   "metadata": {},
   "source": [
    "Time between snapshots may be a signal that we can free-ride"
   ]
  },
  {
   "cell_type": "markdown",
   "id": "b2cc49ac",
   "metadata": {},
   "source": [
    "Create empty DataFrame"
   ]
  },
  {
   "cell_type": "code",
   "execution_count": null,
   "id": "fcb031d6",
   "metadata": {},
   "outputs": [],
   "source": [
    "reg_results = pd.DataFrame(columns=['X', 'Y', 'Coefficient', 'Control', 'T', 'PValue', 'RSquared'])"
   ]
  },
  {
   "cell_type": "markdown",
   "id": "48a6689e",
   "metadata": {},
   "source": [
    "Define columns to run regressions on"
   ]
  },
  {
   "cell_type": "code",
   "execution_count": null,
   "id": "c4f3f3d1",
   "metadata": {},
   "outputs": [],
   "source": [
    "cols_of_interest = [i for i in data.select_dtypes(include='number') if i not in ['Failed']]"
   ]
  },
  {
   "cell_type": "code",
   "execution_count": null,
   "id": "273dfe18",
   "metadata": {},
   "outputs": [],
   "source": [
    "data['a_log'].describe()"
   ]
  },
  {
   "cell_type": "code",
   "execution_count": null,
   "id": "815f2deb",
   "metadata": {
    "scrolled": true
   },
   "outputs": [],
   "source": [
    "for i in cols_of_interest:\n",
    "    print(i)\n",
    "    mod = run_model(i)\n",
    "    results = {\n",
    "        'X': i,\n",
    "        'Y': 'Failed',\n",
    "        'Coefficient': mod.params[i],\n",
    "        'Control': \"\",\n",
    "        'T': mod.tvalues[i],\n",
    "        'PValue': mod.pvalues[i],\n",
    "        'RSquared': mod.rsquared,\n",
    "    }\n",
    "    reg_results = reg_results.append(results, ignore_index=True)\n",
    "    # Control for end year, industry, state, and start year\n",
    "    mod = run_model(i, control=['end_yr', 'new_industrygroup', 'state', 'start_yr'])\n",
    "    results['Coefficient'] = mod.params[i]\n",
    "    results['PValue'] =  mod.pvalues[i]\n",
    "    results['RSquared'] = mod.rsquared\n",
    "    results['Control'] = 'End Year, Industry, State, Year founded'\n",
    "    reg_results = reg_results.append(results, ignore_index=True)"
   ]
  },
  {
   "cell_type": "markdown",
   "id": "8ae77fea",
   "metadata": {},
   "source": [
    "Convert R-Squared out of scientific notation"
   ]
  },
  {
   "cell_type": "code",
   "execution_count": null,
   "id": "2524766e",
   "metadata": {},
   "outputs": [],
   "source": [
    "reg_results['RSquared'] = reg_results['RSquared'].astype('float64')\n",
    "reg_results['RSquared'] = np.round(reg_results['RSquared'], 4)"
   ]
  },
  {
   "cell_type": "code",
   "execution_count": null,
   "id": "502c875e",
   "metadata": {},
   "outputs": [],
   "source": [
    "reg_results.name = 'Last screenshot cross-sectional regressions'"
   ]
  },
  {
   "cell_type": "markdown",
   "id": "9c6fe2b8",
   "metadata": {},
   "source": [
    "Sort by R-Squared"
   ]
  },
  {
   "cell_type": "code",
   "execution_count": null,
   "id": "69db42fb",
   "metadata": {
    "scrolled": false
   },
   "outputs": [],
   "source": [
    "reg_results.sort_values('RSquared', ascending=False).reset_index(drop=True).head(15)"
   ]
  },
  {
   "cell_type": "markdown",
   "id": "f83792f1",
   "metadata": {},
   "source": [
    "**Setup**"
   ]
  },
  {
   "cell_type": "code",
   "execution_count": null,
   "id": "dc4d5a4a",
   "metadata": {},
   "outputs": [],
   "source": [
    "html = html.sort_values(['entityid', 'capture_yr', 'capture_m'])"
   ]
  },
  {
   "cell_type": "code",
   "execution_count": null,
   "id": "35df2456",
   "metadata": {},
   "outputs": [],
   "source": [
    "def find_time_diff(x, start, end):\n",
    "    if len(x.index) > max(abs(start), abs(end)):\n",
    "        start_yr = x.iloc[start]['capture_yr'] * 12 # Convert to months\n",
    "        start_m = x.iloc[start]['capture_m']\n",
    "        start_total = start_yr + start_m\n",
    "        \n",
    "        end_yr = x.iloc[end]['capture_yr'] * 12 # Convert to months\n",
    "        end_m = x.iloc[end]['capture_m']\n",
    "        end_total = end_yr + end_m\n",
    "\n",
    "        total_m_diff = end_total - start_total\n",
    "        \n",
    "        return total_m_diff\n",
    "    else:\n",
    "        return None\n",
    "        "
   ]
  },
  {
   "cell_type": "markdown",
   "id": "f55fd258",
   "metadata": {},
   "source": [
    "**What's the difference in time between the first capture and the second capture?**"
   ]
  },
  {
   "cell_type": "markdown",
   "id": "542a8130",
   "metadata": {},
   "source": [
    "Create column"
   ]
  },
  {
   "cell_type": "code",
   "execution_count": null,
   "id": "6cdf86e9",
   "metadata": {},
   "outputs": [],
   "source": [
    "def add_td_col(start, end):\n",
    "    new_td = html.groupby('entityid').apply(lambda x: find_time_diff(x, start, end))\n",
    "    new_td.name = f\"td_{start}{end}\"\n",
    "    return html.merge(new_td, left_on='entityid', right_index=True)"
   ]
  },
  {
   "cell_type": "code",
   "execution_count": null,
   "id": "0afdf1c8",
   "metadata": {},
   "outputs": [],
   "source": [
    "html = add_td_col(4, 5)"
   ]
  },
  {
   "cell_type": "markdown",
   "id": "9a70d1d8",
   "metadata": {},
   "source": [
    "**What's the difference in time betweent the last capture and the second-to-last capture?**"
   ]
  },
  {
   "cell_type": "markdown",
   "id": "a3d906d7",
   "metadata": {},
   "source": [
    "Create column"
   ]
  },
  {
   "cell_type": "code",
   "execution_count": null,
   "id": "befeba38",
   "metadata": {
    "scrolled": true
   },
   "outputs": [],
   "source": [
    "td_last2 = html.groupby('entityid').apply(lambda x: find_time_diff(x, -2, -1))"
   ]
  },
  {
   "cell_type": "code",
   "execution_count": null,
   "id": "f67b58f1",
   "metadata": {},
   "outputs": [],
   "source": [
    "td_last2.name = 'td_last2'\n",
    "html = html.merge(td_last2, left_on='entityid', right_index=True)"
   ]
  },
  {
   "cell_type": "markdown",
   "id": "b9feebcb",
   "metadata": {},
   "source": [
    "**What's the average difference in time (months) between each capture?**"
   ]
  },
  {
   "cell_type": "markdown",
   "id": "ea3f2a5e",
   "metadata": {},
   "source": [
    "Create column. Calculating standard deviation could work here"
   ]
  },
  {
   "cell_type": "code",
   "execution_count": null,
   "id": "a47cafe7",
   "metadata": {},
   "outputs": [],
   "source": [
    "html['total_capture_m'] = html['capture_yr'] * 12 + html['capture_m']\n",
    "td_stdev = html.groupby('entityid')['total_capture_m'].std()"
   ]
  },
  {
   "cell_type": "code",
   "execution_count": null,
   "id": "c346599b",
   "metadata": {},
   "outputs": [],
   "source": [
    "td_stdev.name = 'td_stdev'\n",
    "html = html.merge(td_stdev, left_on='entityid', right_index=True)"
   ]
  },
  {
   "cell_type": "markdown",
   "id": "3a59d9ac",
   "metadata": {},
   "source": [
    "What's the difference in time between the second and third capture?"
   ]
  },
  {
   "cell_type": "code",
   "execution_count": null,
   "id": "35b893b9",
   "metadata": {
    "scrolled": true
   },
   "outputs": [],
   "source": [
    "td_12 = html.groupby('entityid').apply(lambda x: find_time_diff(x, 1, 3))"
   ]
  },
  {
   "cell_type": "code",
   "execution_count": null,
   "id": "c9d69426",
   "metadata": {},
   "outputs": [],
   "source": [
    "td_12.name = 'td_12'\n",
    "html = html.merge(td_12, left_on='entityid', right_index=True)"
   ]
  },
  {
   "cell_type": "code",
   "execution_count": null,
   "id": "fc1b2ba3",
   "metadata": {},
   "outputs": [],
   "source": [
    "data.td_12.describe()"
   ]
  },
  {
   "cell_type": "markdown",
   "id": "4ab2bdf9",
   "metadata": {},
   "source": [
    "**Run regressions**"
   ]
  },
  {
   "cell_type": "code",
   "execution_count": null,
   "id": "a88ac925",
   "metadata": {},
   "outputs": [],
   "source": [
    "cols = ['td_01', 'td_12', 'td_last2', 'td_stdev']"
   ]
  },
  {
   "cell_type": "code",
   "execution_count": null,
   "id": "7f214886",
   "metadata": {},
   "outputs": [],
   "source": [
    "data = html.groupby('entityid').first()\n",
    "data = data.dropna(subset=cols) # Remove NA"
   ]
  },
  {
   "cell_type": "markdown",
   "id": "43f68e6b",
   "metadata": {},
   "source": [
    "Create empty DataFrame"
   ]
  },
  {
   "cell_type": "code",
   "execution_count": null,
   "id": "e0388d21",
   "metadata": {},
   "outputs": [],
   "source": [
    "reg_results = pd.DataFrame(columns=['X', 'Y', 'Coefficient', 'Control', 'T', 'PValue', 'RSquared'])"
   ]
  },
  {
   "cell_type": "code",
   "execution_count": null,
   "id": "724a3ced",
   "metadata": {},
   "outputs": [],
   "source": [
    "for c in cols:\n",
    "    mod = run_model(c, control=['end_yr', 'new_industrygroup', 'state', 'start_yr'])\n",
    "    results = {\n",
    "        'X': c,\n",
    "        'Y': 'Failed',\n",
    "        'Coefficient': mod.params[c],\n",
    "        'Control': 'End year, industry, state, start year',\n",
    "        'T': mod.tvalues[c],\n",
    "        'PValue': mod.pvalues[c],\n",
    "        'RSquared': mod.rsquared,\n",
    "    }\n",
    "    reg_results = reg_results.append(results, ignore_index=True)\n"
   ]
  },
  {
   "cell_type": "code",
   "execution_count": null,
   "id": "52d92cfc",
   "metadata": {
    "scrolled": true
   },
   "outputs": [],
   "source": [
    "reg_results"
   ]
  },
  {
   "cell_type": "markdown",
   "id": "0132f208",
   "metadata": {},
   "source": [
    "## Number of Captures downloaded"
   ]
  },
  {
   "cell_type": "code",
   "execution_count": null,
   "id": "28f160d5",
   "metadata": {},
   "outputs": [],
   "source": [
    "# TODO: Fix the _x thing"
   ]
  },
  {
   "cell_type": "code",
   "execution_count": null,
   "id": "905e41b3",
   "metadata": {},
   "outputs": [],
   "source": [
    "html.groupby('entityid').file_exists.sum()"
   ]
  },
  {
   "cell_type": "code",
   "execution_count": null,
   "id": "8098f477",
   "metadata": {},
   "outputs": [],
   "source": [
    "data = html.groupby('entityid').first()"
   ]
  },
  {
   "cell_type": "code",
   "execution_count": null,
   "id": "b7b82b87",
   "metadata": {},
   "outputs": [],
   "source": [
    "run_model('num_captures', control=['end_yr', 'new_industrygroup', 'state', 'start_yr']).summary()"
   ]
  },
  {
   "cell_type": "code",
   "execution_count": null,
   "id": "07f08fcc",
   "metadata": {},
   "outputs": [],
   "source": [
    "html = html.merge(td_last2, left_on='entityid', right_index=True)"
   ]
  },
  {
   "cell_type": "markdown",
   "id": "4b6bcb3a",
   "metadata": {},
   "source": [
    "---"
   ]
  },
  {
   "cell_type": "markdown",
   "id": "4106fd8f",
   "metadata": {},
   "source": [
    "## Y Dummy Variables"
   ]
  },
  {
   "cell_type": "markdown",
   "id": "319390d6",
   "metadata": {},
   "source": [
    "This is sort-of like a hazard model"
   ]
  },
  {
   "cell_type": "markdown",
   "id": "944f74a2",
   "metadata": {},
   "source": [
    "The columns were added in the setup section [here](#Add-y-dummies:)"
   ]
  },
  {
   "cell_type": "markdown",
   "id": "bf4d4f75",
   "metadata": {},
   "source": [
    "First, let's look at a density plot of the Failed companies, comparing their last VC time and their start date"
   ]
  },
  {
   "cell_type": "code",
   "execution_count": null,
   "id": "ce2a981a",
   "metadata": {},
   "outputs": [],
   "source": [
    "sns.kdeplot(pd.to_datetime(data.query('Failed == 1').lastVC) \\\n",
    "    .dt.year, \\\n",
    "    color='b', fill='b', label='last vc (year)');\n",
    "sns.kdeplot(data.query('Failed == 1').start_yr, color='r', fill='b', label='start date(year)');\n",
    "plt.xlabel('Year')\n",
    "plt.legend();"
   ]
  },
  {
   "cell_type": "code",
   "execution_count": null,
   "id": "cdfa679c",
   "metadata": {},
   "outputs": [],
   "source": [
    "data.loc[data['Failed'] == 1, 'lifespan'].describe()"
   ]
  },
  {
   "cell_type": "markdown",
   "id": "5081be28",
   "metadata": {},
   "source": [
    "**First example:** What predicts whether a company will be failed within in 5 years?\n",
    "\n",
    "*Caveat: many of these predictors require a company to exist for some minimum amount of time (e.g. if we're looking at the third screnshot as a predictor, the company must have been around for at least a year...)*"
   ]
  },
  {
   "cell_type": "markdown",
   "id": "16d30733",
   "metadata": {},
   "source": [
    "**1.1:** Number of images in the third screenshot"
   ]
  },
  {
   "cell_type": "markdown",
   "id": "9db35f6a",
   "metadata": {},
   "source": [
    "*For every additional `<img>` tag, a websites probaility that it has failed or succeeded within `[1-10]` years goes up or decreases by some amount...*"
   ]
  },
  {
   "cell_type": "code",
   "execution_count": null,
   "id": "7b0a9905",
   "metadata": {},
   "outputs": [],
   "source": [
    "Define the "
   ]
  },
  {
   "cell_type": "code",
   "execution_count": null,
   "id": "f4da059c",
   "metadata": {},
   "outputs": [],
   "source": [
    "data = html.groupby('entityid').nth(3) # Create new dataset"
   ]
  },
  {
   "cell_type": "code",
   "execution_count": null,
   "id": "594b9b84",
   "metadata": {},
   "outputs": [],
   "source": [
    "control=['new_industrygroup', 'state'] # Controls"
   ]
  },
  {
   "cell_type": "markdown",
   "id": "745ac55f",
   "metadata": {},
   "source": [
    "Define independent variable and covariates:"
   ]
  },
  {
   "cell_type": "code",
   "execution_count": null,
   "id": "b5c08e91",
   "metadata": {},
   "outputs": [],
   "source": [
    "sns.kdeplot(np.log(data['img_count']).replace([-np.inf], 0), color='b', fill='b');\n",
    "plt.xlabel('lm(img_count)')"
   ]
  },
  {
   "cell_type": "code",
   "execution_count": null,
   "id": "c822578d",
   "metadata": {},
   "outputs": [],
   "source": [
    "def f_within_reg(data, colName, y, log=False, control=['new_industrygroup', 'state', 'start_yr']):\n",
    "    # Define ind. var.    \n",
    "    if log:\n",
    "        X = np.log(data[colName]).replace([-np.inf], 0);\n",
    "    else:\n",
    "        X = data[colName]\n",
    "        \n",
    "    # Define covariates\n",
    "    for i in control:\n",
    "        i_dummies = pd.get_dummies(data[i], prefix=i, drop_first=True)\n",
    "    X = sm.add_constant(X)\n",
    "    \n",
    "    # Run regression\n",
    "    mod = sm.OLS(data[y], X).fit()\n",
    "    return mod"
   ]
  },
  {
   "cell_type": "markdown",
   "id": "ed31d865",
   "metadata": {},
   "source": [
    "---"
   ]
  },
  {
   "cell_type": "code",
   "execution_count": null,
   "id": "5f653db4",
   "metadata": {},
   "outputs": [],
   "source": [
    "f_within_results = pd.DataFrame(columns=['X', 'Y', 'Coefficient', 'P-Value', 'T-Value', 'R-Squared', 'Note'])"
   ]
  },
  {
   "cell_type": "markdown",
   "id": "07a39826",
   "metadata": {},
   "source": [
    "What are we predicting at this time? Failed within 5 years, so:"
   ]
  },
  {
   "cell_type": "code",
   "execution_count": null,
   "id": "8860292c",
   "metadata": {},
   "outputs": [],
   "source": [
    "y_col = 'f_5'\n",
    "y_yr = 5"
   ]
  },
  {
   "cell_type": "markdown",
   "id": "6f09f57b",
   "metadata": {},
   "source": [
    "Now, we want to exclude any companies that didn't have enough time to fail/survive within {y_yr} years...\n",
    "\n",
    "**Note:** This should only matter for companies we are *testing* (i.e. we don't know the outcome of already...) because for exited / failed companies, they've basically been given enough time, as shown by their outcome?"
   ]
  },
  {
   "cell_type": "markdown",
   "id": "4d30ac6a",
   "metadata": {},
   "source": [
    "Let's just look at a kdeplot of the start years for these companies"
   ]
  },
  {
   "cell_type": "code",
   "execution_count": null,
   "id": "dd7ec892",
   "metadata": {},
   "outputs": [],
   "source": [
    "sns.kdeplot(data.query('Failed == 1').start_yr, color='r', fill='b', label='Failed');\n",
    "sns.kdeplot(data.query('Failed == 0').start_yr, color='b', fill='b', label='Exited');\n",
    "plt.ylim([0, 0.1]);\n",
    "plt.legend();"
   ]
  },
  {
   "cell_type": "markdown",
   "id": "d2496e30",
   "metadata": {},
   "source": [
    "List the columns we want to get data for..."
   ]
  },
  {
   "cell_type": "markdown",
   "id": "4560ef44",
   "metadata": {},
   "source": [
    "**Set 1: Binaries**"
   ]
  },
  {
   "cell_type": "code",
   "execution_count": null,
   "id": "13f1b6a7",
   "metadata": {},
   "outputs": [],
   "source": [
    "fg_cols = [\n",
    "        \"careers\",\n",
    "        \"blog\",\n",
    "        \"login\",\n",
    "        \"contact\",\n",
    "        \"team\",\n",
    "        \"about\",\n",
    "        \"news\",\n",
    "        \"faq\",\n",
    "        \"call_to_action\",\n",
    "        \"testimonial\",\n",
    "        \"title\",\n",
    "        \"description\",\n",
    "        \"keywords\"\n",
    "    ]"
   ]
  },
  {
   "cell_type": "code",
   "execution_count": null,
   "id": "345eb777",
   "metadata": {},
   "outputs": [],
   "source": [
    "for i in fg_cols:\n",
    "    mod = f_within_reg(data, i, y_col)\n",
    "    ratio_val = np.round(data[i].mean(), 3)\n",
    "    ratio = f\"{ratio_val} of firms in the data have {i}\"\n",
    "    f_within_results.loc[len(f_within_results.index)] = \\\n",
    "        [\"Pr(\" + i + \") at 3rd screenshot\", f'Failed within {y_yr} years', \\\n",
    "         mod.params[i], mod.pvalues[i], mod.tvalues[i], mod.rsquared, ratio]\n",
    "    \n",
    "    "
   ]
  },
  {
   "cell_type": "code",
   "execution_count": null,
   "id": "0af9aa9e",
   "metadata": {},
   "outputs": [],
   "source": [
    "f_within_results"
   ]
  },
  {
   "cell_type": "markdown",
   "id": "b4d762cf",
   "metadata": {},
   "source": [
    "**Set 2: Tag counts (log)**"
   ]
  },
  {
   "cell_type": "code",
   "execution_count": null,
   "id": "241a61a3",
   "metadata": {},
   "outputs": [],
   "source": [
    "log_cols = [\"p_count\",\n",
    "\"h_count\",\n",
    "\"img_count\",\n",
    "\"a_count\",\n",
    "\"table_count\",\n",
    "\"form_count\",\n",
    "\"script_count\"]"
   ]
  },
  {
   "cell_type": "code",
   "execution_count": null,
   "id": "ac55de46",
   "metadata": {},
   "outputs": [],
   "source": [
    "for i in log_cols:\n",
    "    mod = f_within_reg(data, i, y_col, log=True);\n",
    "    f_within_results.loc[len(f_within_results.index)] = \\\n",
    "        [\"lm(\" + i + \") at 3rd screenshot\", f'Failed within {y_yr} years', \\\n",
    "         mod.params[i], mod.pvalues[i], mod.tvalues[i], mod.rsquared, \"\"]\n",
    "    \n",
    "    "
   ]
  },
  {
   "cell_type": "code",
   "execution_count": null,
   "id": "02b24a03",
   "metadata": {},
   "outputs": [],
   "source": [
    "f_within_results.sample(10)"
   ]
  },
  {
   "cell_type": "markdown",
   "id": "466c36e9",
   "metadata": {},
   "source": [
    "**Set 3: Growth**"
   ]
  },
  {
   "cell_type": "markdown",
   "id": "edecf329",
   "metadata": {},
   "source": [
    "**Create % growth columns between snapshots 2-3 and 3-4 (these functions both take minutes each time)**"
   ]
  },
  {
   "cell_type": "code",
   "execution_count": null,
   "id": "90ea93c3",
   "metadata": {},
   "outputs": [],
   "source": [
    "create_growth_cols(2, 3)\n",
    "create_growth_cols(3, 4)"
   ]
  },
  {
   "cell_type": "code",
   "execution_count": null,
   "id": "444c01dc",
   "metadata": {},
   "outputs": [],
   "source": [
    "html.columns"
   ]
  },
  {
   "cell_type": "code",
   "execution_count": null,
   "id": "958a6086",
   "metadata": {},
   "outputs": [],
   "source": [
    "data = html.groupby('entityid').last()"
   ]
  },
  {
   "cell_type": "code",
   "execution_count": null,
   "id": "6e905b8e",
   "metadata": {},
   "outputs": [],
   "source": [
    "for i in data.columns:\n",
    "    print('\"' + i + '\",')"
   ]
  },
  {
   "cell_type": "code",
   "execution_count": null,
   "id": "0ab36a53",
   "metadata": {},
   "outputs": [],
   "source": [
    "g_cols = [\n",
    "\"g23_website_size_kb\",\n",
    "\"g23_careers\",\n",
    "\"g23_blog\",\n",
    "\"g23_login\",\n",
    "\"g23_contact\",\n",
    "\"g23_team\",\n",
    "\"g23_about\",\n",
    "\"g23_news\",\n",
    "\"g23_faq\",\n",
    "\"g23_call_to_action\",\n",
    "\"g23_testimonial\",\n",
    "\"g23_title\",\n",
    "\"g23_description\",\n",
    "\"g23_keywords\",\n",
    "\"g23_p_count\",\n",
    "\"g23_h_count\",\n",
    "\"g23_img_count\",\n",
    "\"g23_a_count\",\n",
    "\"g23_table_count\",\n",
    "\"g23_form_count\",\n",
    "\"g23_script_count\",\n",
    "\"g34_website_size_kb\",\n",
    "\"g34_careers\",\n",
    "\"g34_blog\",\n",
    "\"g34_login\",\n",
    "\"g34_contact\",\n",
    "\"g34_team\",\n",
    "\"g34_about\",\n",
    "\"g34_news\",\n",
    "\"g34_faq\",\n",
    "\"g34_call_to_action\",\n",
    "\"g34_testimonial\",\n",
    "\"g34_title\",\n",
    "\"g34_description\",\n",
    "\"g34_keywords\",\n",
    "\"g34_p_count\",\n",
    "\"g34_h_count\",\n",
    "\"g34_img_count\",\n",
    "\"g34_a_count\",\n",
    "\"g34_table_count\",\n",
    "\"g34_form_count\",\n",
    "\"g34_script_count\"]"
   ]
  },
  {
   "cell_type": "code",
   "execution_count": null,
   "id": "2b85b0a5",
   "metadata": {},
   "outputs": [],
   "source": [
    "data = data.dropna(subset=g_cols, axis=0)"
   ]
  },
  {
   "cell_type": "code",
   "execution_count": null,
   "id": "02446b3f",
   "metadata": {},
   "outputs": [],
   "source": [
    "data"
   ]
  },
  {
   "cell_type": "code",
   "execution_count": null,
   "id": "5d601bbe",
   "metadata": {},
   "outputs": [],
   "source": [
    "for i in g_cols:\n",
    "    mod = f_within_reg(data, i, y_col)\n",
    "    f_within_results.loc[len(f_within_results.index)] = \\\n",
    "        [i + \" at 3rd screenshot\", f'Failed within {y_yr} years', \\\n",
    "         mod.params[i], mod.pvalues[i], mod.tvalues[i], mod.rsquared, \"\"]\n"
   ]
  },
  {
   "cell_type": "code",
   "execution_count": null,
   "id": "e8b912da",
   "metadata": {},
   "outputs": [],
   "source": [
    "f_within_results.tail(10)"
   ]
  },
  {
   "cell_type": "code",
   "execution_count": null,
   "id": "c20a4583",
   "metadata": {},
   "outputs": [],
   "source": []
  }
 ],
 "metadata": {
  "kernelspec": {
   "display_name": "Python 3 (ipykernel)",
   "language": "python",
   "name": "python3"
  },
  "language_info": {
   "codemirror_mode": {
    "name": "ipython",
    "version": 3
   },
   "file_extension": ".py",
   "mimetype": "text/x-python",
   "name": "python",
   "nbconvert_exporter": "python",
   "pygments_lexer": "ipython3",
   "version": "3.9.2"
  }
 },
 "nbformat": 4,
 "nbformat_minor": 5
}
