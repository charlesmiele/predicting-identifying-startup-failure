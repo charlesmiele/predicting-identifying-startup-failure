{
 "cells": [
  {
   "cell_type": "code",
   "execution_count": 121,
   "id": "1efc897a",
   "metadata": {},
   "outputs": [],
   "source": [
    "import pandas as pd\n",
    "import seaborn as sns\n",
    "import matplotlib.pyplot as plt\n",
    "import statsmodels.api as sm\n",
    "from statsmodels.formula.api import probit\n",
    "import numpy as np\n",
    "\n",
    "pd.set_option('max_columns', 200)\n",
    "pd.set_option('max_rows', 200)\n",
    "plt.style.use('ggplot')"
   ]
  },
  {
   "cell_type": "markdown",
   "id": "e4715883",
   "metadata": {},
   "source": [
    "# Table of Contents"
   ]
  },
  {
   "cell_type": "markdown",
   "id": "555753a9",
   "metadata": {},
   "source": [
    "1. [Read Data](#Read-Data)\n",
    "2. [Define Supporting Functions](#Define-Supporting-Functions)\n",
    "3. [Cross-Sectional Regressions-Final screenshot](#Cross-Sectional-Regressions-Final-screenshot)\n",
    "    1. [Includes Login](#Includes-Login)\n",
    "    2. [Includes Careers Page](#Includes-Careers-Page)\n",
    "    3. [Webpage Size](#Webpage-Size)\n",
    "    4. [Number of A Tags](#Number-of-A-Tags)\n",
    "4. [Difference in final screenshot and end year](#Difference-in-final-screenshot-and-end-year)\n",
    "5. [Cross-Sectional Regression Table](#Cross-Sectional-Regression-Table)\n",
    "6. [Growth regressions](#Growth-Regressions)\n",
    "7. [Time Between Captures](#Time-Between-Captures)\n"
   ]
  },
  {
   "cell_type": "code",
   "execution_count": 122,
   "id": "0927c8e4",
   "metadata": {},
   "outputs": [],
   "source": [
    "## Read Data\n",
    "html = pd.read_csv('../data/4_final_webpage_metadata.csv')"
   ]
  },
  {
   "cell_type": "code",
   "execution_count": 123,
   "id": "19f2e4e5",
   "metadata": {},
   "outputs": [],
   "source": [
    "# Filter only clear successes and failures\n",
    "html = html[html.ownershipstatus.isin([\"Out of Business\", \"Publicly-held\", \"Acquired/Merged\"])]"
   ]
  },
  {
   "cell_type": "code",
   "execution_count": 124,
   "id": "3224891c",
   "metadata": {},
   "outputs": [],
   "source": [
    "# Remove all webpages with size 0\n",
    "html = html[html['website_size_kb'] != 0]"
   ]
  },
  {
   "cell_type": "code",
   "execution_count": 125,
   "id": "28956cbf",
   "metadata": {},
   "outputs": [
    {
     "name": "stderr",
     "output_type": "stream",
     "text": [
      "/Library/Frameworks/Python.framework/Versions/3.9/lib/python3.9/site-packages/pandas/core/arraylike.py:358: RuntimeWarning: divide by zero encountered in log\n",
      "  result = getattr(ufunc, method)(*inputs, **kwargs)\n"
     ]
    }
   ],
   "source": [
    "html[\"Failed\"] = (html.ownershipstatus == \"Out of Business\").astype(int)\n",
    "\n",
    "html[\"has_exit\"] = (html[\"exit_date\"].isna() == False).astype('int8')\n",
    "\n",
    "html[\"end_yr\"] = html[\"exit_date\"].str.slice(start=0, stop=4) \\\n",
    "    .astype('float' ,errors='ignore') # This will have NAs\n",
    "\n",
    "html[\"start_yr\"] = html[\"startdate\"].str.slice(start=0, stop=4). \\\n",
    "    fillna(html[\"lastVC\"].str.slice(start=0, stop=4)) \\\n",
    "    .astype('float', errors='ignore')\n",
    "\n",
    "\n",
    "html[\"lifespan\"] = html[\"end_yr\"] - html[\"start_yr\"]\n",
    "html.loc[html['Failed'] == 1, 'lifespan'] = pd.to_datetime(html.query('Failed == 1').lastVC).dt.year \\\n",
    "                                            - html.query('Failed == 1').start_yr + 2\n",
    "# Convert website size and a_count to log format\n",
    "html['websize_log'] = np.log(html['website_size_kb']).replace([-np.inf], 0)\n",
    "html['a_log'] = np.log(html['a_count']).replace([-np.inf], 0)"
   ]
  },
  {
   "cell_type": "code",
   "execution_count": 126,
   "id": "31f0d24c",
   "metadata": {},
   "outputs": [],
   "source": [
    "for i in range(1, 11):\n",
    "    fColName = f\"f_{i}\"\n",
    "    html[fColName] = ((html.lifespan <= i) & (html.Failed == 1)).astype('int')\n",
    "    \n",
    "for i in range(1, 11):\n",
    "    sColName = f\"s_{i}\"\n",
    "    html[sColName] = ((html.lifespan <= i) & (html.Failed == 0)).astype('int')"
   ]
  },
  {
   "cell_type": "markdown",
   "id": "5289ca54",
   "metadata": {},
   "source": [
    "**The main dataset we'll using for regressions (for now):**"
   ]
  },
  {
   "cell_type": "code",
   "execution_count": 8,
   "id": "2eb7c0aa",
   "metadata": {},
   "outputs": [],
   "source": [
    "data = html.groupby('entityid').last()"
   ]
  },
  {
   "cell_type": "markdown",
   "id": "9e043473",
   "metadata": {},
   "source": [
    "## Define Supporting Functions"
   ]
  },
  {
   "cell_type": "code",
   "execution_count": 16,
   "id": "25937b4a",
   "metadata": {},
   "outputs": [],
   "source": [
    "# This function plots the regressions for us. Takes in an independent variable of \n",
    "# interest (this will be plotted on the Y axis for better readbility), a control, \n",
    "# and options to plot industry individually and or/save\n",
    "def plot_freg(y, data, control=None, industry=False, save=None):\n",
    "    # Always do most basic OLS\n",
    "    sns.regplot(x='Failed', y=y, data=data, x_estimator=np.mean, color='g', label='Base OLS')\n",
    "    \n",
    "    if not industry:\n",
    "        sns.regplot(x='Failed', y=y, data=data, x_estimator=np.mean, y_partial=control, \\\n",
    "                    color='b', label=f'Controlling for {control}');\n",
    "        plt.legend()\n",
    "    else:\n",
    "        ind_groups = data.groupby('new_industrygroup')\n",
    "        for name, group in ind_groups:\n",
    "            # We're gonna ignore these industries for now\n",
    "            ind_ignore = [\"To Be Assigned\", \"Energy and Utilities\", \"Industrial Goods and Materials\"]\n",
    "            if name not in ind_ignore:\n",
    "                sns.regplot(x='Failed', y=y, data=group, x_estimator=np.mean, y_partial=control, label=name);\n",
    "        if control:\n",
    "            plt.title(f'Predicting failure on {y} by industry, controlling for {control}')\n",
    "        else:\n",
    "            plt.title(f'Predicting failure on {y} by industry')\n",
    "        plt.legend(bbox_to_anchor=(1.05, 1), loc='upper left');\n",
    "    plt.xticks([0,1])\n",
    "    if save:\n",
    "        plt.savefig(save, dpi=200, bbox_inches='tight')"
   ]
  },
  {
   "cell_type": "code",
   "execution_count": 152,
   "id": "e72a548b",
   "metadata": {},
   "outputs": [],
   "source": [
    "def run_model(x, control=['end_yr', 'new_industrygroup', 'state', 'start_yr'], lifespanControl=None, data=data):\n",
    "    \n",
    "    if lifespanControl is not None:\n",
    "        data.query('lifespan <= @lifespanControl')\n",
    "    \n",
    "    X = data[x]\n",
    "    \n",
    "    \n",
    "    for i in control:\n",
    "        if data[i].nunique() < 100:\n",
    "            i_dummies = pd.get_dummies(data[i], prefix=i, drop_first=True)\n",
    "            X = pd.concat([X, i_dummies], axis=1)\n",
    "    X = sm.add_constant(X)\n",
    "    mod = sm.OLS(data['Failed'], X).fit()\n",
    "    return mod"
   ]
  },
  {
   "cell_type": "markdown",
   "id": "6599f0a2",
   "metadata": {},
   "source": [
    "## Cross-Sectional Regressions-Final screenshot"
   ]
  },
  {
   "cell_type": "markdown",
   "id": "dc48c064",
   "metadata": {},
   "source": [
    "### Includes Login"
   ]
  },
  {
   "cell_type": "code",
   "execution_count": null,
   "id": "41b82948",
   "metadata": {},
   "outputs": [],
   "source": [
    "run_model('login').summary()"
   ]
  },
  {
   "cell_type": "markdown",
   "id": "1d058838",
   "metadata": {},
   "source": [
    "**Controlling for end year**"
   ]
  },
  {
   "cell_type": "code",
   "execution_count": null,
   "id": "8917f11d",
   "metadata": {},
   "outputs": [],
   "source": [
    "run_model('login', control=['end_yr']).summary()"
   ]
  },
  {
   "cell_type": "code",
   "execution_count": null,
   "id": "815da91d",
   "metadata": {},
   "outputs": [],
   "source": [
    "plot_freg('login', data=data, control='end_yr', save='login_basic.png')"
   ]
  },
  {
   "cell_type": "markdown",
   "id": "9c817d76",
   "metadata": {},
   "source": [
    "**Control for industry _and_ end year**"
   ]
  },
  {
   "cell_type": "code",
   "execution_count": null,
   "id": "ea6620a9",
   "metadata": {
    "scrolled": true
   },
   "outputs": [],
   "source": [
    "run_model('login', control=['end_yr', 'new_industrygroup']).summary()"
   ]
  },
  {
   "cell_type": "code",
   "execution_count": null,
   "id": "574ad2df",
   "metadata": {},
   "outputs": [],
   "source": [
    "plot_freg('login', data=data, control='end_yr', industry=True)"
   ]
  },
  {
   "cell_type": "markdown",
   "id": "5b666eda",
   "metadata": {},
   "source": [
    "### Includes Careers Page"
   ]
  },
  {
   "cell_type": "code",
   "execution_count": null,
   "id": "301f650e",
   "metadata": {},
   "outputs": [],
   "source": [
    "run_model('careers').summary()"
   ]
  },
  {
   "cell_type": "markdown",
   "id": "e58ec137",
   "metadata": {},
   "source": [
    "**Controlling for end year**"
   ]
  },
  {
   "cell_type": "code",
   "execution_count": null,
   "id": "1920df73",
   "metadata": {},
   "outputs": [],
   "source": [
    "run_model('careers', control=['end_yr']).summary()"
   ]
  },
  {
   "cell_type": "markdown",
   "id": "bf15ce0c",
   "metadata": {},
   "source": [
    "**Control for end year and industry**"
   ]
  },
  {
   "cell_type": "code",
   "execution_count": null,
   "id": "da87843c",
   "metadata": {},
   "outputs": [],
   "source": [
    "run_model('careers', control=['end_yr']).rsquared"
   ]
  },
  {
   "cell_type": "code",
   "execution_count": null,
   "id": "6fd4aefe",
   "metadata": {},
   "outputs": [],
   "source": [
    "run_model('careers', control=['new_industrygroup', 'end_yr']).summary()"
   ]
  },
  {
   "cell_type": "markdown",
   "id": "6d5c3f82",
   "metadata": {},
   "source": [
    "**Plot**"
   ]
  },
  {
   "cell_type": "code",
   "execution_count": null,
   "id": "f44591a7",
   "metadata": {},
   "outputs": [],
   "source": [
    "plot_freg('careers', data, 'end_yr')"
   ]
  },
  {
   "cell_type": "markdown",
   "id": "aac37e43",
   "metadata": {},
   "source": [
    "**Plot for industry**"
   ]
  },
  {
   "cell_type": "code",
   "execution_count": null,
   "id": "79dad845",
   "metadata": {},
   "outputs": [],
   "source": [
    "plot_freg('careers', data, industry=True, save='industry_graph_simple.png')"
   ]
  },
  {
   "cell_type": "markdown",
   "id": "de55fb60",
   "metadata": {},
   "source": [
    "**Plot for industry, controlling for end year**"
   ]
  },
  {
   "cell_type": "code",
   "execution_count": null,
   "id": "d248d757",
   "metadata": {},
   "outputs": [],
   "source": [
    "plot_freg('careers', data, control='end_yr', industry=True, save='careers_complex.png')"
   ]
  },
  {
   "cell_type": "markdown",
   "id": "f733cf2c",
   "metadata": {},
   "source": [
    "### Webpage Size"
   ]
  },
  {
   "cell_type": "markdown",
   "id": "d16baf94",
   "metadata": {},
   "source": [
    "Setup"
   ]
  },
  {
   "cell_type": "code",
   "execution_count": null,
   "id": "f8d601b0",
   "metadata": {
    "scrolled": false
   },
   "outputs": [],
   "source": [
    "# Check out distribution\n",
    "sns.kdeplot(data['websize_log'], color='b', fill='b');"
   ]
  },
  {
   "cell_type": "markdown",
   "id": "0883060a",
   "metadata": {},
   "source": [
    "**OLS Regression**"
   ]
  },
  {
   "cell_type": "code",
   "execution_count": null,
   "id": "b43e5ba4",
   "metadata": {},
   "outputs": [],
   "source": [
    "run_model('websize_log').summary()"
   ]
  },
  {
   "cell_type": "markdown",
   "id": "6c1a3f7f",
   "metadata": {},
   "source": [
    "**Control for year**"
   ]
  },
  {
   "cell_type": "code",
   "execution_count": null,
   "id": "92b1998b",
   "metadata": {},
   "outputs": [],
   "source": [
    "run_model('websize_log', control=['capture_yr']).rsquared"
   ]
  },
  {
   "cell_type": "markdown",
   "id": "05780300",
   "metadata": {},
   "source": [
    "**Control for industry**"
   ]
  },
  {
   "cell_type": "code",
   "execution_count": null,
   "id": "2127a982",
   "metadata": {},
   "outputs": [],
   "source": [
    "run_model('websize_log', control=['new_industrygroup']).rsquared"
   ]
  },
  {
   "cell_type": "markdown",
   "id": "4891a4f0",
   "metadata": {},
   "source": [
    "**Plot, controlling for end year**"
   ]
  },
  {
   "cell_type": "code",
   "execution_count": null,
   "id": "bb2b34f7",
   "metadata": {},
   "outputs": [],
   "source": [
    "plot_freg('websize_log', data, control='end_yr')"
   ]
  },
  {
   "cell_type": "markdown",
   "id": "85c0de3e",
   "metadata": {},
   "source": [
    "**Industry Plot**"
   ]
  },
  {
   "cell_type": "code",
   "execution_count": null,
   "id": "71de28bc",
   "metadata": {},
   "outputs": [],
   "source": [
    "plot_freg('websize_log', data, industry=True)"
   ]
  },
  {
   "cell_type": "markdown",
   "id": "48dc660b",
   "metadata": {},
   "source": [
    "**Plot for industry, controlling for capture year**"
   ]
  },
  {
   "cell_type": "code",
   "execution_count": null,
   "id": "ab10b55b",
   "metadata": {},
   "outputs": [],
   "source": [
    "plot_freg('websize_log', data, control='capture_yr', industry=True, save='websize_log_ind_ey.png')"
   ]
  },
  {
   "cell_type": "markdown",
   "id": "5b5957d6",
   "metadata": {},
   "source": [
    "### Number of A Tags"
   ]
  },
  {
   "cell_type": "code",
   "execution_count": null,
   "id": "f86e399e",
   "metadata": {},
   "outputs": [],
   "source": [
    "run_model('a_count', control=['end_yr']).summary()"
   ]
  },
  {
   "cell_type": "markdown",
   "id": "8b08c784",
   "metadata": {},
   "source": [
    "## Difference in final screenshot and end year"
   ]
  },
  {
   "cell_type": "markdown",
   "id": "53697bc6",
   "metadata": {},
   "source": [
    "This is somewhat promising...maybe we couldchange this to a more precise number by including month too?"
   ]
  },
  {
   "cell_type": "code",
   "execution_count": null,
   "id": "4570cf18",
   "metadata": {},
   "outputs": [],
   "source": [
    "data['finalsnap_end_diff'] = data['end_yr'] - data['capture_yr']"
   ]
  },
  {
   "cell_type": "code",
   "execution_count": null,
   "id": "76d84a2b",
   "metadata": {},
   "outputs": [],
   "source": [
    "sns.kdeplot(data=data, x='finalsnap_end_diff', hue='Failed', palette=['b', 'r'], fill=True);"
   ]
  },
  {
   "cell_type": "code",
   "execution_count": null,
   "id": "a2f87320",
   "metadata": {},
   "outputs": [],
   "source": [
    "data[data.Failed == 1].finalsnap_end_diff.describe()"
   ]
  },
  {
   "cell_type": "code",
   "execution_count": null,
   "id": "9917eb52",
   "metadata": {},
   "outputs": [],
   "source": [
    "data[data.Failed == 0].finalsnap_end_diff.describe()"
   ]
  },
  {
   "cell_type": "code",
   "execution_count": null,
   "id": "d2d371ea",
   "metadata": {},
   "outputs": [],
   "source": [
    "run_model('finalsnap_end_diff', control=['new_industrygroup']).pvalues"
   ]
  },
  {
   "cell_type": "code",
   "execution_count": null,
   "id": "9b6afd8a",
   "metadata": {},
   "outputs": [],
   "source": [
    "plot_freg('finalsnap_end_diff', data, industry=True, save='endDiff.png')"
   ]
  },
  {
   "cell_type": "markdown",
   "id": "b8533432",
   "metadata": {},
   "source": [
    "## Cross-Sectional Regression Table"
   ]
  },
  {
   "cell_type": "markdown",
   "id": "74478f21",
   "metadata": {},
   "source": [
    "Create empty DataFrame"
   ]
  },
  {
   "cell_type": "code",
   "execution_count": null,
   "id": "ffe1941d",
   "metadata": {},
   "outputs": [],
   "source": [
    "reg_results = pd.DataFrame(columns=['X', 'Y', 'Coefficient', 'Control', 'T', 'PValue', 'RSquared'])"
   ]
  },
  {
   "cell_type": "code",
   "execution_count": null,
   "id": "d3893674",
   "metadata": {
    "scrolled": false
   },
   "outputs": [],
   "source": [
    "data.columns"
   ]
  },
  {
   "cell_type": "markdown",
   "id": "4ff9357c",
   "metadata": {},
   "source": [
    "Define columns to run regressions on"
   ]
  },
  {
   "cell_type": "code",
   "execution_count": null,
   "id": "29461aa3",
   "metadata": {},
   "outputs": [],
   "source": [
    "cols_of_interest = [i for i in data.select_dtypes(include='number') if i not in ['Failed', 'has_exit']]"
   ]
  },
  {
   "cell_type": "code",
   "execution_count": null,
   "id": "db7ac7a2",
   "metadata": {},
   "outputs": [],
   "source": [
    "data['a_log'].describe()"
   ]
  },
  {
   "cell_type": "code",
   "execution_count": null,
   "id": "3f5bc258",
   "metadata": {
    "scrolled": true
   },
   "outputs": [],
   "source": [
    "for i in cols_of_interest:\n",
    "    print(i)\n",
    "    mod = run_model(i)\n",
    "    results = {\n",
    "        'X': i,\n",
    "        'Y': 'Failed',\n",
    "        'Coefficient': mod.params[i],\n",
    "        'Control': \"\",\n",
    "        'T': mod.tvalues[i],\n",
    "        'PValue': mod.pvalues[i],\n",
    "        'RSquared': mod.rsquared,\n",
    "    }\n",
    "    reg_results = reg_results.append(results, ignore_index=True)\n",
    "    # Control for end year, industry, state, and start year\n",
    "    mod = run_model(i, control=['end_yr', 'new_industrygroup', 'state', 'start_yr'])\n",
    "    results['Coefficient'] = mod.params[i]\n",
    "    results['PValue'] =  mod.pvalues[i]\n",
    "    results['RSquared'] = mod.rsquared\n",
    "    results['Control'] = 'End Year, Industry, State, Year founded'\n",
    "    reg_results = reg_results.append(results, ignore_index=True)"
   ]
  },
  {
   "cell_type": "markdown",
   "id": "18ce21fc",
   "metadata": {},
   "source": [
    "Convert R-Squared out of scientific notation"
   ]
  },
  {
   "cell_type": "code",
   "execution_count": null,
   "id": "7a74e1e0",
   "metadata": {},
   "outputs": [],
   "source": [
    "reg_results['RSquared'] = reg_results['RSquared'].astype('float64')\n",
    "reg_results['RSquared'] = np.round(reg_results['RSquared'], 4)"
   ]
  },
  {
   "cell_type": "code",
   "execution_count": null,
   "id": "f80e7c7a",
   "metadata": {},
   "outputs": [],
   "source": [
    "reg_results.name = 'Last screenshot cross-sectional regressions'"
   ]
  },
  {
   "cell_type": "markdown",
   "id": "936805a9",
   "metadata": {},
   "source": [
    "Sort by R-Squared"
   ]
  },
  {
   "cell_type": "code",
   "execution_count": null,
   "id": "86d3843e",
   "metadata": {
    "scrolled": false
   },
   "outputs": [],
   "source": [
    "reg_results.sort_values('RSquared', ascending=False).reset_index(drop=True).head(15)"
   ]
  },
  {
   "cell_type": "markdown",
   "id": "4bffc657",
   "metadata": {},
   "source": [
    "## Growth Regressions"
   ]
  },
  {
   "cell_type": "markdown",
   "id": "8de0235e",
   "metadata": {},
   "source": [
    "**Setup**"
   ]
  },
  {
   "cell_type": "markdown",
   "id": "9fb3d559",
   "metadata": {},
   "source": [
    "Add these growth columns for every column that we care about"
   ]
  },
  {
   "cell_type": "code",
   "execution_count": 6,
   "id": "b5bee131",
   "metadata": {},
   "outputs": [],
   "source": [
    "g_cols_of_interest = ['website_size_kb', 'careers', 'blog', 'login', 'contact',\n",
    "       'team', 'about', 'news', 'faq', 'call_to_action', 'testimonial',\n",
    "       'title', 'description', 'keywords', 'p_count', 'h_count', 'img_count',\n",
    "       'a_count', 'table_count', 'form_count', 'script_count']\n",
    "binCols =  ['careers', 'blog', 'login', 'contact',\n",
    "       'team', 'about', 'news', 'faq', 'call_to_action', 'testimonial',\n",
    "       'title', 'description', 'keywords']"
   ]
  },
  {
   "cell_type": "markdown",
   "id": "d9a42f27",
   "metadata": {},
   "source": [
    "Calculate Percentage Difference"
   ]
  },
  {
   "cell_type": "code",
   "execution_count": 7,
   "id": "779b85ab",
   "metadata": {},
   "outputs": [],
   "source": [
    "def find_last_diff(x, col, start, end, isBin):\n",
    "    if len(x.index) > end:\n",
    "        start_val = x.iloc[start][col]\n",
    "        end_val = x.iloc[end][col]\n",
    "        diff = end_val - start_val\n",
    "        if isBin and diff == 1:\n",
    "            diff = 100\n",
    "        if start_val == 0:\n",
    "            diff = (((end_val + 1) - (start_val + 1)) / (start_val + 1)) * 100\n",
    "        else:\n",
    "            diff = ((end_val - start_val) / start_val) * 100\n",
    "        return diff\n",
    "    return None"
   ]
  },
  {
   "cell_type": "markdown",
   "id": "4f1d8901",
   "metadata": {},
   "source": [
    "Add the column to the HTML DataFrame"
   ]
  },
  {
   "cell_type": "code",
   "execution_count": 8,
   "id": "aca06ec7",
   "metadata": {},
   "outputs": [],
   "source": [
    "def add_last_growth_col(col, colName, start, end):\n",
    "    s = html.groupby('entityid').apply(lambda x: find_last_diff(x, col, start, end, isBin=(col in binCols)))\n",
    "    s.name = colName\n",
    "    return html.merge(s, on='entityid')"
   ]
  },
  {
   "cell_type": "markdown",
   "id": "f4aede22",
   "metadata": {},
   "source": [
    "Add ALL of the columns to the HTML DataFrame"
   ]
  },
  {
   "cell_type": "code",
   "execution_count": 146,
   "id": "2fe04fb6",
   "metadata": {},
   "outputs": [],
   "source": [
    "def create_growth_cols(start, end):\n",
    "    global html\n",
    "    for i in g_cols_of_interest:\n",
    "        print(i)\n",
    "        colName = f\"g{start}{end}_{i}\"\n",
    "        html = add_last_growth_col(col=i, colName=colName, start=0, end=3)"
   ]
  },
  {
   "cell_type": "markdown",
   "id": "1c40eac7",
   "metadata": {},
   "source": [
    "Run regressions on the growth columns and return a table containing all the important info about the regressions"
   ]
  },
  {
   "cell_type": "code",
   "execution_count": 143,
   "id": "5f17c8e5",
   "metadata": {},
   "outputs": [],
   "source": [
    "def growth_reg(start, end, lifespanControl=None):\n",
    "    growth_reg_results = pd.DataFrame(columns=['X', 'Y', 'Coefficient', 'Control', 'T', 'PValue', 'RSquared'])    \n",
    "\n",
    "    for i in g_cols_of_interest:\n",
    "        i = f\"g{start}{end}_{i}\"\n",
    "        \n",
    "        # Control for end year, industry, state, and start year\n",
    "        mod = run_model(i, control=['end_yr', 'new_industrygroup', 'state', 'start_yr'], lifespanControl=lifespanControl)\n",
    "        \n",
    "        results = {\n",
    "            'X': i,\n",
    "            'Y': 'Failed',\n",
    "            'Coefficient': mod.params[i],\n",
    "            'Control': 'End Year, Industry, State, Year founded',\n",
    "            'T': mod.tvalues[i],\n",
    "            'PValue': mod.pvalues[i],\n",
    "            'RSquared': mod.rsquared\n",
    "        }\n",
    "        \n",
    "        growth_reg_results = growth_reg_results.append(results, ignore_index=True)\n",
    "        \n",
    "\n",
    "    # Convert Rsquared to float\n",
    "    growth_reg_results['RSquared'] = growth_reg_results['RSquared'].astype('float64')\n",
    "    growth_reg_results['RSquared'] = np.round(growth_reg_results['RSquared'], 4)\n",
    "    \n",
    "    # Set name\n",
    "    growth_reg_results.set_camption = f\"% Growth from years {start} to {end}\"\n",
    "    \n",
    "    return growth_reg_results"
   ]
  },
  {
   "cell_type": "markdown",
   "id": "8d8582b5",
   "metadata": {},
   "source": [
    "Setup"
   ]
  },
  {
   "cell_type": "code",
   "execution_count": 11,
   "id": "513f17de",
   "metadata": {},
   "outputs": [],
   "source": [
    "start = 1\n",
    "end = 3\n",
    "lifespanControl = 5"
   ]
  },
  {
   "cell_type": "markdown",
   "id": "4106fd8f",
   "metadata": {},
   "source": [
    "**Example doing the y dummy variables**"
   ]
  },
  {
   "cell_type": "markdown",
   "id": "dfb89f31",
   "metadata": {},
   "source": [
    "Note: end_yr isn't accurate (for what we want to be)...\n",
    "Therefore, \"lifespan\", for what we measure it as (end_yr - start_yr), is not accurate\n",
    "\n",
    "Let's try doing it with lastVC"
   ]
  },
  {
   "cell_type": "markdown",
   "id": "5744296e",
   "metadata": {},
   "source": [
    "This is why it's so innacurate:"
   ]
  },
  {
   "cell_type": "markdown",
   "id": "3ce16e20",
   "metadata": {},
   "source": [
    "Let's also compare it with their start dates"
   ]
  },
  {
   "cell_type": "markdown",
   "id": "a1de032a",
   "metadata": {},
   "source": [
    "New problem found: We don't have a precise \"failed\" date for failed companies"
   ]
  },
  {
   "cell_type": "markdown",
   "id": "9587fdc7",
   "metadata": {},
   "source": [
    "Reset lifespan for Failed"
   ]
  },
  {
   "cell_type": "code",
   "execution_count": 111,
   "id": "ce2a981a",
   "metadata": {},
   "outputs": [
    {
     "data": {
      "image/png": "[encoded data removed]",
      "text/plain": [
       "<Figure size 640x480 with 1 Axes>"
      ]
     },
     "metadata": {},
     "output_type": "display_data"
    }
   ],
   "source": [
    "sns.kdeplot(pd.to_datetime(data.query('Failed == 1').lastVC) \\\n",
    "    .dt.year, \\\n",
    "    color='b', fill='b', label='last vc (year)');\n",
    "sns.kdeplot(data.query('Failed == 1').start_yr, color='r', fill='b', label='start date(year)');\n",
    "plt.xlabel('Year')\n",
    "plt.legend();"
   ]
  },
  {
   "cell_type": "code",
   "execution_count": 94,
   "id": "cdfa679c",
   "metadata": {},
   "outputs": [
    {
     "data": {
      "text/plain": [
       "count    4687.000000\n",
       "mean        5.946661\n",
       "std         4.104292\n",
       "min         2.000000\n",
       "25%         3.000000\n",
       "50%         5.000000\n",
       "75%         8.000000\n",
       "max        27.000000\n",
       "Name: lifespan, dtype: float64"
      ]
     },
     "execution_count": 94,
     "metadata": {},
     "output_type": "execute_result"
    }
   ],
   "source": [
    "data.loc[data['Failed'] == 1, 'lifespan'].describe()"
   ]
  },
  {
   "cell_type": "markdown",
   "id": "bd717d3d",
   "metadata": {},
   "source": [
    "Now, run the regressions. First, create the y-variable, which is failed within 5 years of the founding date."
   ]
  },
  {
   "cell_type": "markdown",
   "id": "9db35f6a",
   "metadata": {},
   "source": [
    "Let's just test this out by predicting on whether the *third* screenshot has an image or not...\n",
    "\n",
    "So, interpreting this would mean...\n",
    "for every additional `<img>` tag, a websites probaility that it has failed or succeeded within `[1-10]` years goes up or decreases by some amount..."
   ]
  },
  {
   "cell_type": "code",
   "execution_count": 151,
   "id": "f4da059c",
   "metadata": {},
   "outputs": [],
   "source": [
    "data = html.groupby('entityid').nth(3)"
   ]
  },
  {
   "cell_type": "code",
   "execution_count": 133,
   "id": "2ed3c26a",
   "metadata": {},
   "outputs": [
    {
     "data": {
      "text/plain": [
       "Index(['yr_from_start', 'capture_yr', 'capture_m', 'file_path', 'file_exists',\n",
       "       'website_size_kb', 'careers', 'blog', 'login', 'contact', 'team',\n",
       "       'about', 'news', 'faq', 'call_to_action', 'testimonial', 'title',\n",
       "       'description', 'keywords', 'p_count', 'h_count', 'img_count', 'a_count',\n",
       "       'table_count', 'form_count', 'script_count', 'entityname',\n",
       "       'new_industrygroup', 'state', 'weburl', 'pb_companyid', 'startdate',\n",
       "       'lastVC', 'ownershipstatus', 'exit_date', 'Failed', 'has_exit',\n",
       "       'end_yr', 'start_yr', 'lifespan', 'websize_log', 'a_log', 'f_1', 'f_2',\n",
       "       'f_3', 'f_4', 'f_5', 'f_6', 'f_7', 'f_8', 'f_9', 'f_10', 's_1', 's_2',\n",
       "       's_3', 's_4', 's_5', 's_6', 's_7', 's_8', 's_9', 's_10'],\n",
       "      dtype='object')"
      ]
     },
     "execution_count": 133,
     "metadata": {},
     "output_type": "execute_result"
    }
   ],
   "source": [
    "data.columns"
   ]
  },
  {
   "cell_type": "code",
   "execution_count": 157,
   "id": "594b9b84",
   "metadata": {},
   "outputs": [],
   "source": [
    "control=['new_industrygroup', 'state']"
   ]
  },
  {
   "cell_type": "code",
   "execution_count": 158,
   "id": "13528c18",
   "metadata": {},
   "outputs": [],
   "source": [
    "X = data['img_count']\n",
    "for i in control:\n",
    "    if data[i].nunique() < 100:\n",
    "        i_dummies = pd.get_dummies(data[i], prefix=i, drop_first=True)\n",
    "        X = pd.concat([X, i_dummies], axis=1)\n",
    "X = sm.add_constant(X)\n",
    "mod = sm.OLS(data['f_5'], X).fit()"
   ]
  },
  {
   "cell_type": "code",
   "execution_count": 159,
   "id": "c47ca87f",
   "metadata": {
    "scrolled": true
   },
   "outputs": [
    {
     "data": {
      "text/html": [
       "<table class=\"simpletable\">\n",
       "<caption>OLS Regression Results</caption>\n",
       "<tr>\n",
       "  <th>Dep. Variable:</th>           <td>f_5</td>       <th>  R-squared:         </th> <td>   0.030</td> \n",
       "</tr>\n",
       "<tr>\n",
       "  <th>Model:</th>                   <td>OLS</td>       <th>  Adj. R-squared:    </th> <td>   0.026</td> \n",
       "</tr>\n",
       "<tr>\n",
       "  <th>Method:</th>             <td>Least Squares</td>  <th>  F-statistic:       </th> <td>   7.977</td> \n",
       "</tr>\n",
       "<tr>\n",
       "  <th>Date:</th>             <td>Mon, 24 Jul 2023</td> <th>  Prob (F-statistic):</th> <td>2.11e-66</td> \n",
       "</tr>\n",
       "<tr>\n",
       "  <th>Time:</th>                 <td>20:41:27</td>     <th>  Log-Likelihood:    </th> <td> -6543.2</td> \n",
       "</tr>\n",
       "<tr>\n",
       "  <th>No. Observations:</th>      <td> 15955</td>      <th>  AIC:               </th> <td>1.321e+04</td>\n",
       "</tr>\n",
       "<tr>\n",
       "  <th>Df Residuals:</th>          <td> 15893</td>      <th>  BIC:               </th> <td>1.369e+04</td>\n",
       "</tr>\n",
       "<tr>\n",
       "  <th>Df Model:</th>              <td>    61</td>      <th>                     </th>     <td> </td>    \n",
       "</tr>\n",
       "<tr>\n",
       "  <th>Covariance Type:</th>      <td>nonrobust</td>    <th>                     </th>     <td> </td>    \n",
       "</tr>\n",
       "</table>\n",
       "<table class=\"simpletable\">\n",
       "<tr>\n",
       "                          <td></td>                            <th>coef</th>     <th>std err</th>      <th>t</th>      <th>P>|t|</th>  <th>[0.025</th>    <th>0.975]</th>  \n",
       "</tr>\n",
       "<tr>\n",
       "  <th>const</th>                                            <td>    0.6394</td> <td>    0.102</td> <td>    6.294</td> <td> 0.000</td> <td>    0.440</td> <td>    0.839</td>\n",
       "</tr>\n",
       "<tr>\n",
       "  <th>img_count</th>                                        <td>   -0.0005</td> <td>    0.000</td> <td>   -3.877</td> <td> 0.000</td> <td>   -0.001</td> <td>   -0.000</td>\n",
       "</tr>\n",
       "<tr>\n",
       "  <th>new_industrygroup_Consumer Goods</th>                 <td>   -0.0415</td> <td>    0.018</td> <td>   -2.332</td> <td> 0.020</td> <td>   -0.076</td> <td>   -0.007</td>\n",
       "</tr>\n",
       "<tr>\n",
       "  <th>new_industrygroup_Consumer Services</th>              <td>    0.0740</td> <td>    0.010</td> <td>    7.589</td> <td> 0.000</td> <td>    0.055</td> <td>    0.093</td>\n",
       "</tr>\n",
       "<tr>\n",
       "  <th>new_industrygroup_Energy and Utilities</th>           <td>   -0.0751</td> <td>    0.025</td> <td>   -2.984</td> <td> 0.003</td> <td>   -0.124</td> <td>   -0.026</td>\n",
       "</tr>\n",
       "<tr>\n",
       "  <th>new_industrygroup_Healthcare</th>                     <td>   -0.1132</td> <td>    0.010</td> <td>  -11.559</td> <td> 0.000</td> <td>   -0.132</td> <td>   -0.094</td>\n",
       "</tr>\n",
       "<tr>\n",
       "  <th>new_industrygroup_Industrial Goods and Materials</th> <td>   -0.1080</td> <td>    0.021</td> <td>   -5.208</td> <td> 0.000</td> <td>   -0.149</td> <td>   -0.067</td>\n",
       "</tr>\n",
       "<tr>\n",
       "  <th>new_industrygroup_Information Technology</th>         <td>   -0.0262</td> <td>    0.008</td> <td>   -3.318</td> <td> 0.001</td> <td>   -0.042</td> <td>   -0.011</td>\n",
       "</tr>\n",
       "<tr>\n",
       "  <th>new_industrygroup_To Be Assigned</th>                 <td>    0.7990</td> <td>    0.365</td> <td>    2.187</td> <td> 0.029</td> <td>    0.083</td> <td>    1.515</td>\n",
       "</tr>\n",
       "<tr>\n",
       "  <th>state_AL</th>                                         <td>   -0.4739</td> <td>    0.114</td> <td>   -4.146</td> <td> 0.000</td> <td>   -0.698</td> <td>   -0.250</td>\n",
       "</tr>\n",
       "<tr>\n",
       "  <th>state_AR</th>                                         <td>   -0.5036</td> <td>    0.146</td> <td>   -3.443</td> <td> 0.001</td> <td>   -0.790</td> <td>   -0.217</td>\n",
       "</tr>\n",
       "<tr>\n",
       "  <th>state_AZ</th>                                         <td>   -0.4384</td> <td>    0.107</td> <td>   -4.104</td> <td> 0.000</td> <td>   -0.648</td> <td>   -0.229</td>\n",
       "</tr>\n",
       "<tr>\n",
       "  <th>state_CA</th>                                         <td>   -0.4311</td> <td>    0.101</td> <td>   -4.249</td> <td> 0.000</td> <td>   -0.630</td> <td>   -0.232</td>\n",
       "</tr>\n",
       "<tr>\n",
       "  <th>state_CO</th>                                         <td>   -0.4739</td> <td>    0.103</td> <td>   -4.601</td> <td> 0.000</td> <td>   -0.676</td> <td>   -0.272</td>\n",
       "</tr>\n",
       "<tr>\n",
       "  <th>state_CT</th>                                         <td>   -0.4000</td> <td>    0.106</td> <td>   -3.791</td> <td> 0.000</td> <td>   -0.607</td> <td>   -0.193</td>\n",
       "</tr>\n",
       "<tr>\n",
       "  <th>state_Ca</th>                                         <td>    0.3900</td> <td>    0.379</td> <td>    1.029</td> <td> 0.304</td> <td>   -0.353</td> <td>    1.133</td>\n",
       "</tr>\n",
       "<tr>\n",
       "  <th>state_DC</th>                                         <td>   -0.4281</td> <td>    0.109</td> <td>   -3.926</td> <td> 0.000</td> <td>   -0.642</td> <td>   -0.214</td>\n",
       "</tr>\n",
       "<tr>\n",
       "  <th>state_DE</th>                                         <td>   -0.3801</td> <td>    0.110</td> <td>   -3.452</td> <td> 0.001</td> <td>   -0.596</td> <td>   -0.164</td>\n",
       "</tr>\n",
       "<tr>\n",
       "  <th>state_FL</th>                                         <td>   -0.4611</td> <td>    0.103</td> <td>   -4.469</td> <td> 0.000</td> <td>   -0.663</td> <td>   -0.259</td>\n",
       "</tr>\n",
       "<tr>\n",
       "  <th>state_GA</th>                                         <td>   -0.4426</td> <td>    0.103</td> <td>   -4.280</td> <td> 0.000</td> <td>   -0.645</td> <td>   -0.240</td>\n",
       "</tr>\n",
       "<tr>\n",
       "  <th>state_HI</th>                                         <td>   -0.4860</td> <td>    0.130</td> <td>   -3.732</td> <td> 0.000</td> <td>   -0.741</td> <td>   -0.231</td>\n",
       "</tr>\n",
       "<tr>\n",
       "  <th>state_IA</th>                                         <td>   -0.5059</td> <td>    0.124</td> <td>   -4.075</td> <td> 0.000</td> <td>   -0.749</td> <td>   -0.263</td>\n",
       "</tr>\n",
       "<tr>\n",
       "  <th>state_ID</th>                                         <td>   -0.4212</td> <td>    0.135</td> <td>   -3.128</td> <td> 0.002</td> <td>   -0.685</td> <td>   -0.157</td>\n",
       "</tr>\n",
       "<tr>\n",
       "  <th>state_IL</th>                                         <td>   -0.4719</td> <td>    0.103</td> <td>   -4.572</td> <td> 0.000</td> <td>   -0.674</td> <td>   -0.270</td>\n",
       "</tr>\n",
       "<tr>\n",
       "  <th>state_IN</th>                                         <td>   -0.4290</td> <td>    0.108</td> <td>   -3.956</td> <td> 0.000</td> <td>   -0.642</td> <td>   -0.216</td>\n",
       "</tr>\n",
       "<tr>\n",
       "  <th>state_KS</th>                                         <td>   -0.3746</td> <td>    0.119</td> <td>   -3.156</td> <td> 0.002</td> <td>   -0.607</td> <td>   -0.142</td>\n",
       "</tr>\n",
       "<tr>\n",
       "  <th>state_KY</th>                                         <td>   -0.4584</td> <td>    0.115</td> <td>   -3.983</td> <td> 0.000</td> <td>   -0.684</td> <td>   -0.233</td>\n",
       "</tr>\n",
       "<tr>\n",
       "  <th>state_LA</th>                                         <td>   -0.4813</td> <td>    0.129</td> <td>   -3.732</td> <td> 0.000</td> <td>   -0.734</td> <td>   -0.229</td>\n",
       "</tr>\n",
       "<tr>\n",
       "  <th>state_MA</th>                                         <td>   -0.4519</td> <td>    0.102</td> <td>   -4.436</td> <td> 0.000</td> <td>   -0.652</td> <td>   -0.252</td>\n",
       "</tr>\n",
       "<tr>\n",
       "  <th>state_MD</th>                                         <td>   -0.4555</td> <td>    0.104</td> <td>   -4.369</td> <td> 0.000</td> <td>   -0.660</td> <td>   -0.251</td>\n",
       "</tr>\n",
       "<tr>\n",
       "  <th>state_ME</th>                                         <td>   -0.3718</td> <td>    0.128</td> <td>   -2.908</td> <td> 0.004</td> <td>   -0.622</td> <td>   -0.121</td>\n",
       "</tr>\n",
       "<tr>\n",
       "  <th>state_MI</th>                                         <td>   -0.4751</td> <td>    0.106</td> <td>   -4.471</td> <td> 0.000</td> <td>   -0.683</td> <td>   -0.267</td>\n",
       "</tr>\n",
       "<tr>\n",
       "  <th>state_MN</th>                                         <td>   -0.4387</td> <td>    0.105</td> <td>   -4.165</td> <td> 0.000</td> <td>   -0.645</td> <td>   -0.232</td>\n",
       "</tr>\n",
       "<tr>\n",
       "  <th>state_MO</th>                                         <td>   -0.5040</td> <td>    0.109</td> <td>   -4.615</td> <td> 0.000</td> <td>   -0.718</td> <td>   -0.290</td>\n",
       "</tr>\n",
       "<tr>\n",
       "  <th>state_MS</th>                                         <td>   -0.4139</td> <td>    0.180</td> <td>   -2.295</td> <td> 0.022</td> <td>   -0.767</td> <td>   -0.060</td>\n",
       "</tr>\n",
       "<tr>\n",
       "  <th>state_MT</th>                                         <td>   -0.3143</td> <td>    0.171</td> <td>   -1.835</td> <td> 0.067</td> <td>   -0.650</td> <td>    0.022</td>\n",
       "</tr>\n",
       "<tr>\n",
       "  <th>state_NC</th>                                         <td>   -0.4387</td> <td>    0.104</td> <td>   -4.223</td> <td> 0.000</td> <td>   -0.642</td> <td>   -0.235</td>\n",
       "</tr>\n",
       "<tr>\n",
       "  <th>state_ND</th>                                         <td>   -0.6153</td> <td>    0.278</td> <td>   -2.217</td> <td> 0.027</td> <td>   -1.159</td> <td>   -0.071</td>\n",
       "</tr>\n",
       "<tr>\n",
       "  <th>state_NE</th>                                         <td>   -0.5538</td> <td>    0.125</td> <td>   -4.431</td> <td> 0.000</td> <td>   -0.799</td> <td>   -0.309</td>\n",
       "</tr>\n",
       "<tr>\n",
       "  <th>state_NH</th>                                         <td>   -0.4523</td> <td>    0.112</td> <td>   -4.021</td> <td> 0.000</td> <td>   -0.673</td> <td>   -0.232</td>\n",
       "</tr>\n",
       "<tr>\n",
       "  <th>state_NJ</th>                                         <td>   -0.4561</td> <td>    0.104</td> <td>   -4.402</td> <td> 0.000</td> <td>   -0.659</td> <td>   -0.253</td>\n",
       "</tr>\n",
       "<tr>\n",
       "  <th>state_NM</th>                                         <td>   -0.4422</td> <td>    0.128</td> <td>   -3.459</td> <td> 0.001</td> <td>   -0.693</td> <td>   -0.192</td>\n",
       "</tr>\n",
       "<tr>\n",
       "  <th>state_NV</th>                                         <td>   -0.5120</td> <td>    0.112</td> <td>   -4.565</td> <td> 0.000</td> <td>   -0.732</td> <td>   -0.292</td>\n",
       "</tr>\n",
       "<tr>\n",
       "  <th>state_NY</th>                                         <td>   -0.4508</td> <td>    0.102</td> <td>   -4.428</td> <td> 0.000</td> <td>   -0.650</td> <td>   -0.251</td>\n",
       "</tr>\n",
       "<tr>\n",
       "  <th>state_OH</th>                                         <td>   -0.4648</td> <td>    0.105</td> <td>   -4.412</td> <td> 0.000</td> <td>   -0.671</td> <td>   -0.258</td>\n",
       "</tr>\n",
       "<tr>\n",
       "  <th>state_OK</th>                                         <td>   -0.5422</td> <td>    0.130</td> <td>   -4.164</td> <td> 0.000</td> <td>   -0.797</td> <td>   -0.287</td>\n",
       "</tr>\n",
       "<tr>\n",
       "  <th>state_OR</th>                                         <td>   -0.5005</td> <td>    0.105</td> <td>   -4.751</td> <td> 0.000</td> <td>   -0.707</td> <td>   -0.294</td>\n",
       "</tr>\n",
       "<tr>\n",
       "  <th>state_PA</th>                                         <td>   -0.4230</td> <td>    0.103</td> <td>   -4.111</td> <td> 0.000</td> <td>   -0.625</td> <td>   -0.221</td>\n",
       "</tr>\n",
       "<tr>\n",
       "  <th>state_PR</th>                                         <td>   -0.4406</td> <td>    0.180</td> <td>   -2.443</td> <td> 0.015</td> <td>   -0.794</td> <td>   -0.087</td>\n",
       "</tr>\n",
       "<tr>\n",
       "  <th>state_RI</th>                                         <td>   -0.4821</td> <td>    0.121</td> <td>   -3.992</td> <td> 0.000</td> <td>   -0.719</td> <td>   -0.245</td>\n",
       "</tr>\n",
       "<tr>\n",
       "  <th>state_SC</th>                                         <td>   -0.5074</td> <td>    0.119</td> <td>   -4.274</td> <td> 0.000</td> <td>   -0.740</td> <td>   -0.275</td>\n",
       "</tr>\n",
       "<tr>\n",
       "  <th>state_SD</th>                                         <td>   -0.3696</td> <td>    0.209</td> <td>   -1.769</td> <td> 0.077</td> <td>   -0.779</td> <td>    0.040</td>\n",
       "</tr>\n",
       "<tr>\n",
       "  <th>state_TN</th>                                         <td>   -0.5002</td> <td>    0.107</td> <td>   -4.673</td> <td> 0.000</td> <td>   -0.710</td> <td>   -0.290</td>\n",
       "</tr>\n",
       "<tr>\n",
       "  <th>state_TX</th>                                         <td>   -0.4687</td> <td>    0.102</td> <td>   -4.589</td> <td> 0.000</td> <td>   -0.669</td> <td>   -0.269</td>\n",
       "</tr>\n",
       "<tr>\n",
       "  <th>state_UT</th>                                         <td>   -0.5442</td> <td>    0.105</td> <td>   -5.188</td> <td> 0.000</td> <td>   -0.750</td> <td>   -0.339</td>\n",
       "</tr>\n",
       "<tr>\n",
       "  <th>state_VA</th>                                         <td>   -0.4645</td> <td>    0.103</td> <td>   -4.491</td> <td> 0.000</td> <td>   -0.667</td> <td>   -0.262</td>\n",
       "</tr>\n",
       "<tr>\n",
       "  <th>state_VI</th>                                         <td>   -0.6127</td> <td>    0.379</td> <td>   -1.616</td> <td> 0.106</td> <td>   -1.356</td> <td>    0.130</td>\n",
       "</tr>\n",
       "<tr>\n",
       "  <th>state_VT</th>                                         <td>   -0.4321</td> <td>    0.127</td> <td>   -3.407</td> <td> 0.001</td> <td>   -0.681</td> <td>   -0.184</td>\n",
       "</tr>\n",
       "<tr>\n",
       "  <th>state_WA</th>                                         <td>   -0.4355</td> <td>    0.102</td> <td>   -4.250</td> <td> 0.000</td> <td>   -0.636</td> <td>   -0.235</td>\n",
       "</tr>\n",
       "<tr>\n",
       "  <th>state_WI</th>                                         <td>   -0.4967</td> <td>    0.109</td> <td>   -4.559</td> <td> 0.000</td> <td>   -0.710</td> <td>   -0.283</td>\n",
       "</tr>\n",
       "<tr>\n",
       "  <th>state_WV</th>                                         <td>   -0.5766</td> <td>    0.154</td> <td>   -3.751</td> <td> 0.000</td> <td>   -0.878</td> <td>   -0.275</td>\n",
       "</tr>\n",
       "<tr>\n",
       "  <th>state_WY</th>                                         <td>   -0.6222</td> <td>    0.278</td> <td>   -2.242</td> <td> 0.025</td> <td>   -1.166</td> <td>   -0.078</td>\n",
       "</tr>\n",
       "</table>\n",
       "<table class=\"simpletable\">\n",
       "<tr>\n",
       "  <th>Omnibus:</th>       <td>4399.709</td> <th>  Durbin-Watson:     </th> <td>   1.900</td>\n",
       "</tr>\n",
       "<tr>\n",
       "  <th>Prob(Omnibus):</th>  <td> 0.000</td>  <th>  Jarque-Bera (JB):  </th> <td>9026.159</td>\n",
       "</tr>\n",
       "<tr>\n",
       "  <th>Skew:</th>           <td> 1.738</td>  <th>  Prob(JB):          </th> <td>    0.00</td>\n",
       "</tr>\n",
       "<tr>\n",
       "  <th>Kurtosis:</th>       <td> 4.225</td>  <th>  Cond. No.          </th> <td>7.82e+03</td>\n",
       "</tr>\n",
       "</table><br/><br/>Notes:<br/>[1] Standard Errors assume that the covariance matrix of the errors is correctly specified.<br/>[2] The condition number is large, 7.82e+03. This might indicate that there are<br/>strong multicollinearity or other numerical problems."
      ],
      "text/latex": [
       "\\begin{center}\n",
       "\\begin{tabular}{lclc}\n",
       "\\toprule\n",
       "\\textbf{Dep. Variable:}                                     &       f\\_5       & \\textbf{  R-squared:         } &     0.030   \\\\\n",
       "\\textbf{Model:}                                             &       OLS        & \\textbf{  Adj. R-squared:    } &     0.026   \\\\\n",
       "\\textbf{Method:}                                            &  Least Squares   & \\textbf{  F-statistic:       } &     7.977   \\\\\n",
       "\\textbf{Date:}                                              & Mon, 24 Jul 2023 & \\textbf{  Prob (F-statistic):} &  2.11e-66   \\\\\n",
       "\\textbf{Time:}                                              &     20:41:27     & \\textbf{  Log-Likelihood:    } &   -6543.2   \\\\\n",
       "\\textbf{No. Observations:}                                  &       15955      & \\textbf{  AIC:               } & 1.321e+04   \\\\\n",
       "\\textbf{Df Residuals:}                                      &       15893      & \\textbf{  BIC:               } & 1.369e+04   \\\\\n",
       "\\textbf{Df Model:}                                          &          61      & \\textbf{                     } &             \\\\\n",
       "\\textbf{Covariance Type:}                                   &    nonrobust     & \\textbf{                     } &             \\\\\n",
       "\\bottomrule\n",
       "\\end{tabular}\n",
       "\\begin{tabular}{lcccccc}\n",
       "                                                            & \\textbf{coef} & \\textbf{std err} & \\textbf{t} & \\textbf{P$> |$t$|$} & \\textbf{[0.025} & \\textbf{0.975]}  \\\\\n",
       "\\midrule\n",
       "\\textbf{const}                                              &       0.6394  &        0.102     &     6.294  &         0.000        &        0.440    &        0.839     \\\\\n",
       "\\textbf{img\\_count}                                         &      -0.0005  &        0.000     &    -3.877  &         0.000        &       -0.001    &       -0.000     \\\\\n",
       "\\textbf{new\\_industrygroup\\_Consumer Goods}                 &      -0.0415  &        0.018     &    -2.332  &         0.020        &       -0.076    &       -0.007     \\\\\n",
       "\\textbf{new\\_industrygroup\\_Consumer Services}              &       0.0740  &        0.010     &     7.589  &         0.000        &        0.055    &        0.093     \\\\\n",
       "\\textbf{new\\_industrygroup\\_Energy and Utilities}           &      -0.0751  &        0.025     &    -2.984  &         0.003        &       -0.124    &       -0.026     \\\\\n",
       "\\textbf{new\\_industrygroup\\_Healthcare}                     &      -0.1132  &        0.010     &   -11.559  &         0.000        &       -0.132    &       -0.094     \\\\\n",
       "\\textbf{new\\_industrygroup\\_Industrial Goods and Materials} &      -0.1080  &        0.021     &    -5.208  &         0.000        &       -0.149    &       -0.067     \\\\\n",
       "\\textbf{new\\_industrygroup\\_Information Technology}         &      -0.0262  &        0.008     &    -3.318  &         0.001        &       -0.042    &       -0.011     \\\\\n",
       "\\textbf{new\\_industrygroup\\_To Be Assigned}                 &       0.7990  &        0.365     &     2.187  &         0.029        &        0.083    &        1.515     \\\\\n",
       "\\textbf{state\\_AL}                                          &      -0.4739  &        0.114     &    -4.146  &         0.000        &       -0.698    &       -0.250     \\\\\n",
       "\\textbf{state\\_AR}                                          &      -0.5036  &        0.146     &    -3.443  &         0.001        &       -0.790    &       -0.217     \\\\\n",
       "\\textbf{state\\_AZ}                                          &      -0.4384  &        0.107     &    -4.104  &         0.000        &       -0.648    &       -0.229     \\\\\n",
       "\\textbf{state\\_CA}                                          &      -0.4311  &        0.101     &    -4.249  &         0.000        &       -0.630    &       -0.232     \\\\\n",
       "\\textbf{state\\_CO}                                          &      -0.4739  &        0.103     &    -4.601  &         0.000        &       -0.676    &       -0.272     \\\\\n",
       "\\textbf{state\\_CT}                                          &      -0.4000  &        0.106     &    -3.791  &         0.000        &       -0.607    &       -0.193     \\\\\n",
       "\\textbf{state\\_Ca}                                          &       0.3900  &        0.379     &     1.029  &         0.304        &       -0.353    &        1.133     \\\\\n",
       "\\textbf{state\\_DC}                                          &      -0.4281  &        0.109     &    -3.926  &         0.000        &       -0.642    &       -0.214     \\\\\n",
       "\\textbf{state\\_DE}                                          &      -0.3801  &        0.110     &    -3.452  &         0.001        &       -0.596    &       -0.164     \\\\\n",
       "\\textbf{state\\_FL}                                          &      -0.4611  &        0.103     &    -4.469  &         0.000        &       -0.663    &       -0.259     \\\\\n",
       "\\textbf{state\\_GA}                                          &      -0.4426  &        0.103     &    -4.280  &         0.000        &       -0.645    &       -0.240     \\\\\n",
       "\\textbf{state\\_HI}                                          &      -0.4860  &        0.130     &    -3.732  &         0.000        &       -0.741    &       -0.231     \\\\\n",
       "\\textbf{state\\_IA}                                          &      -0.5059  &        0.124     &    -4.075  &         0.000        &       -0.749    &       -0.263     \\\\\n",
       "\\textbf{state\\_ID}                                          &      -0.4212  &        0.135     &    -3.128  &         0.002        &       -0.685    &       -0.157     \\\\\n",
       "\\textbf{state\\_IL}                                          &      -0.4719  &        0.103     &    -4.572  &         0.000        &       -0.674    &       -0.270     \\\\\n",
       "\\textbf{state\\_IN}                                          &      -0.4290  &        0.108     &    -3.956  &         0.000        &       -0.642    &       -0.216     \\\\\n",
       "\\textbf{state\\_KS}                                          &      -0.3746  &        0.119     &    -3.156  &         0.002        &       -0.607    &       -0.142     \\\\\n",
       "\\textbf{state\\_KY}                                          &      -0.4584  &        0.115     &    -3.983  &         0.000        &       -0.684    &       -0.233     \\\\\n",
       "\\textbf{state\\_LA}                                          &      -0.4813  &        0.129     &    -3.732  &         0.000        &       -0.734    &       -0.229     \\\\\n",
       "\\textbf{state\\_MA}                                          &      -0.4519  &        0.102     &    -4.436  &         0.000        &       -0.652    &       -0.252     \\\\\n",
       "\\textbf{state\\_MD}                                          &      -0.4555  &        0.104     &    -4.369  &         0.000        &       -0.660    &       -0.251     \\\\\n",
       "\\textbf{state\\_ME}                                          &      -0.3718  &        0.128     &    -2.908  &         0.004        &       -0.622    &       -0.121     \\\\\n",
       "\\textbf{state\\_MI}                                          &      -0.4751  &        0.106     &    -4.471  &         0.000        &       -0.683    &       -0.267     \\\\\n",
       "\\textbf{state\\_MN}                                          &      -0.4387  &        0.105     &    -4.165  &         0.000        &       -0.645    &       -0.232     \\\\\n",
       "\\textbf{state\\_MO}                                          &      -0.5040  &        0.109     &    -4.615  &         0.000        &       -0.718    &       -0.290     \\\\\n",
       "\\textbf{state\\_MS}                                          &      -0.4139  &        0.180     &    -2.295  &         0.022        &       -0.767    &       -0.060     \\\\\n",
       "\\textbf{state\\_MT}                                          &      -0.3143  &        0.171     &    -1.835  &         0.067        &       -0.650    &        0.022     \\\\\n",
       "\\textbf{state\\_NC}                                          &      -0.4387  &        0.104     &    -4.223  &         0.000        &       -0.642    &       -0.235     \\\\\n",
       "\\textbf{state\\_ND}                                          &      -0.6153  &        0.278     &    -2.217  &         0.027        &       -1.159    &       -0.071     \\\\\n",
       "\\textbf{state\\_NE}                                          &      -0.5538  &        0.125     &    -4.431  &         0.000        &       -0.799    &       -0.309     \\\\\n",
       "\\textbf{state\\_NH}                                          &      -0.4523  &        0.112     &    -4.021  &         0.000        &       -0.673    &       -0.232     \\\\\n",
       "\\textbf{state\\_NJ}                                          &      -0.4561  &        0.104     &    -4.402  &         0.000        &       -0.659    &       -0.253     \\\\\n",
       "\\textbf{state\\_NM}                                          &      -0.4422  &        0.128     &    -3.459  &         0.001        &       -0.693    &       -0.192     \\\\\n",
       "\\textbf{state\\_NV}                                          &      -0.5120  &        0.112     &    -4.565  &         0.000        &       -0.732    &       -0.292     \\\\\n",
       "\\textbf{state\\_NY}                                          &      -0.4508  &        0.102     &    -4.428  &         0.000        &       -0.650    &       -0.251     \\\\\n",
       "\\textbf{state\\_OH}                                          &      -0.4648  &        0.105     &    -4.412  &         0.000        &       -0.671    &       -0.258     \\\\\n",
       "\\textbf{state\\_OK}                                          &      -0.5422  &        0.130     &    -4.164  &         0.000        &       -0.797    &       -0.287     \\\\\n",
       "\\textbf{state\\_OR}                                          &      -0.5005  &        0.105     &    -4.751  &         0.000        &       -0.707    &       -0.294     \\\\\n",
       "\\textbf{state\\_PA}                                          &      -0.4230  &        0.103     &    -4.111  &         0.000        &       -0.625    &       -0.221     \\\\\n",
       "\\textbf{state\\_PR}                                          &      -0.4406  &        0.180     &    -2.443  &         0.015        &       -0.794    &       -0.087     \\\\\n",
       "\\textbf{state\\_RI}                                          &      -0.4821  &        0.121     &    -3.992  &         0.000        &       -0.719    &       -0.245     \\\\\n",
       "\\textbf{state\\_SC}                                          &      -0.5074  &        0.119     &    -4.274  &         0.000        &       -0.740    &       -0.275     \\\\\n",
       "\\textbf{state\\_SD}                                          &      -0.3696  &        0.209     &    -1.769  &         0.077        &       -0.779    &        0.040     \\\\\n",
       "\\textbf{state\\_TN}                                          &      -0.5002  &        0.107     &    -4.673  &         0.000        &       -0.710    &       -0.290     \\\\\n",
       "\\textbf{state\\_TX}                                          &      -0.4687  &        0.102     &    -4.589  &         0.000        &       -0.669    &       -0.269     \\\\\n",
       "\\textbf{state\\_UT}                                          &      -0.5442  &        0.105     &    -5.188  &         0.000        &       -0.750    &       -0.339     \\\\\n",
       "\\textbf{state\\_VA}                                          &      -0.4645  &        0.103     &    -4.491  &         0.000        &       -0.667    &       -0.262     \\\\\n",
       "\\textbf{state\\_VI}                                          &      -0.6127  &        0.379     &    -1.616  &         0.106        &       -1.356    &        0.130     \\\\\n",
       "\\textbf{state\\_VT}                                          &      -0.4321  &        0.127     &    -3.407  &         0.001        &       -0.681    &       -0.184     \\\\\n",
       "\\textbf{state\\_WA}                                          &      -0.4355  &        0.102     &    -4.250  &         0.000        &       -0.636    &       -0.235     \\\\\n",
       "\\textbf{state\\_WI}                                          &      -0.4967  &        0.109     &    -4.559  &         0.000        &       -0.710    &       -0.283     \\\\\n",
       "\\textbf{state\\_WV}                                          &      -0.5766  &        0.154     &    -3.751  &         0.000        &       -0.878    &       -0.275     \\\\\n",
       "\\textbf{state\\_WY}                                          &      -0.6222  &        0.278     &    -2.242  &         0.025        &       -1.166    &       -0.078     \\\\\n",
       "\\bottomrule\n",
       "\\end{tabular}\n",
       "\\begin{tabular}{lclc}\n",
       "\\textbf{Omnibus:}       & 4399.709 & \\textbf{  Durbin-Watson:     } &    1.900  \\\\\n",
       "\\textbf{Prob(Omnibus):} &   0.000  & \\textbf{  Jarque-Bera (JB):  } & 9026.159  \\\\\n",
       "\\textbf{Skew:}          &   1.738  & \\textbf{  Prob(JB):          } &     0.00  \\\\\n",
       "\\textbf{Kurtosis:}      &   4.225  & \\textbf{  Cond. No.          } & 7.82e+03  \\\\\n",
       "\\bottomrule\n",
       "\\end{tabular}\n",
       "%\\caption{OLS Regression Results}\n",
       "\\end{center}\n",
       "\n",
       "Notes: \\newline\n",
       " [1] Standard Errors assume that the covariance matrix of the errors is correctly specified. \\newline\n",
       " [2] The condition number is large, 7.82e+03. This might indicate that there are \\newline\n",
       " strong multicollinearity or other numerical problems."
      ],
      "text/plain": [
       "<class 'statsmodels.iolib.summary.Summary'>\n",
       "\"\"\"\n",
       "                            OLS Regression Results                            \n",
       "==============================================================================\n",
       "Dep. Variable:                    f_5   R-squared:                       0.030\n",
       "Model:                            OLS   Adj. R-squared:                  0.026\n",
       "Method:                 Least Squares   F-statistic:                     7.977\n",
       "Date:                Mon, 24 Jul 2023   Prob (F-statistic):           2.11e-66\n",
       "Time:                        20:41:27   Log-Likelihood:                -6543.2\n",
       "No. Observations:               15955   AIC:                         1.321e+04\n",
       "Df Residuals:                   15893   BIC:                         1.369e+04\n",
       "Df Model:                          61                                         \n",
       "Covariance Type:            nonrobust                                         \n",
       "====================================================================================================================\n",
       "                                                       coef    std err          t      P>|t|      [0.025      0.975]\n",
       "--------------------------------------------------------------------------------------------------------------------\n",
       "const                                                0.6394      0.102      6.294      0.000       0.440       0.839\n",
       "img_count                                           -0.0005      0.000     -3.877      0.000      -0.001      -0.000\n",
       "new_industrygroup_Consumer Goods                    -0.0415      0.018     -2.332      0.020      -0.076      -0.007\n",
       "new_industrygroup_Consumer Services                  0.0740      0.010      7.589      0.000       0.055       0.093\n",
       "new_industrygroup_Energy and Utilities              -0.0751      0.025     -2.984      0.003      -0.124      -0.026\n",
       "new_industrygroup_Healthcare                        -0.1132      0.010    -11.559      0.000      -0.132      -0.094\n",
       "new_industrygroup_Industrial Goods and Materials    -0.1080      0.021     -5.208      0.000      -0.149      -0.067\n",
       "new_industrygroup_Information Technology            -0.0262      0.008     -3.318      0.001      -0.042      -0.011\n",
       "new_industrygroup_To Be Assigned                     0.7990      0.365      2.187      0.029       0.083       1.515\n",
       "state_AL                                            -0.4739      0.114     -4.146      0.000      -0.698      -0.250\n",
       "state_AR                                            -0.5036      0.146     -3.443      0.001      -0.790      -0.217\n",
       "state_AZ                                            -0.4384      0.107     -4.104      0.000      -0.648      -0.229\n",
       "state_CA                                            -0.4311      0.101     -4.249      0.000      -0.630      -0.232\n",
       "state_CO                                            -0.4739      0.103     -4.601      0.000      -0.676      -0.272\n",
       "state_CT                                            -0.4000      0.106     -3.791      0.000      -0.607      -0.193\n",
       "state_Ca                                             0.3900      0.379      1.029      0.304      -0.353       1.133\n",
       "state_DC                                            -0.4281      0.109     -3.926      0.000      -0.642      -0.214\n",
       "state_DE                                            -0.3801      0.110     -3.452      0.001      -0.596      -0.164\n",
       "state_FL                                            -0.4611      0.103     -4.469      0.000      -0.663      -0.259\n",
       "state_GA                                            -0.4426      0.103     -4.280      0.000      -0.645      -0.240\n",
       "state_HI                                            -0.4860      0.130     -3.732      0.000      -0.741      -0.231\n",
       "state_IA                                            -0.5059      0.124     -4.075      0.000      -0.749      -0.263\n",
       "state_ID                                            -0.4212      0.135     -3.128      0.002      -0.685      -0.157\n",
       "state_IL                                            -0.4719      0.103     -4.572      0.000      -0.674      -0.270\n",
       "state_IN                                            -0.4290      0.108     -3.956      0.000      -0.642      -0.216\n",
       "state_KS                                            -0.3746      0.119     -3.156      0.002      -0.607      -0.142\n",
       "state_KY                                            -0.4584      0.115     -3.983      0.000      -0.684      -0.233\n",
       "state_LA                                            -0.4813      0.129     -3.732      0.000      -0.734      -0.229\n",
       "state_MA                                            -0.4519      0.102     -4.436      0.000      -0.652      -0.252\n",
       "state_MD                                            -0.4555      0.104     -4.369      0.000      -0.660      -0.251\n",
       "state_ME                                            -0.3718      0.128     -2.908      0.004      -0.622      -0.121\n",
       "state_MI                                            -0.4751      0.106     -4.471      0.000      -0.683      -0.267\n",
       "state_MN                                            -0.4387      0.105     -4.165      0.000      -0.645      -0.232\n",
       "state_MO                                            -0.5040      0.109     -4.615      0.000      -0.718      -0.290\n",
       "state_MS                                            -0.4139      0.180     -2.295      0.022      -0.767      -0.060\n",
       "state_MT                                            -0.3143      0.171     -1.835      0.067      -0.650       0.022\n",
       "state_NC                                            -0.4387      0.104     -4.223      0.000      -0.642      -0.235\n",
       "state_ND                                            -0.6153      0.278     -2.217      0.027      -1.159      -0.071\n",
       "state_NE                                            -0.5538      0.125     -4.431      0.000      -0.799      -0.309\n",
       "state_NH                                            -0.4523      0.112     -4.021      0.000      -0.673      -0.232\n",
       "state_NJ                                            -0.4561      0.104     -4.402      0.000      -0.659      -0.253\n",
       "state_NM                                            -0.4422      0.128     -3.459      0.001      -0.693      -0.192\n",
       "state_NV                                            -0.5120      0.112     -4.565      0.000      -0.732      -0.292\n",
       "state_NY                                            -0.4508      0.102     -4.428      0.000      -0.650      -0.251\n",
       "state_OH                                            -0.4648      0.105     -4.412      0.000      -0.671      -0.258\n",
       "state_OK                                            -0.5422      0.130     -4.164      0.000      -0.797      -0.287\n",
       "state_OR                                            -0.5005      0.105     -4.751      0.000      -0.707      -0.294\n",
       "state_PA                                            -0.4230      0.103     -4.111      0.000      -0.625      -0.221\n",
       "state_PR                                            -0.4406      0.180     -2.443      0.015      -0.794      -0.087\n",
       "state_RI                                            -0.4821      0.121     -3.992      0.000      -0.719      -0.245\n",
       "state_SC                                            -0.5074      0.119     -4.274      0.000      -0.740      -0.275\n",
       "state_SD                                            -0.3696      0.209     -1.769      0.077      -0.779       0.040\n",
       "state_TN                                            -0.5002      0.107     -4.673      0.000      -0.710      -0.290\n",
       "state_TX                                            -0.4687      0.102     -4.589      0.000      -0.669      -0.269\n",
       "state_UT                                            -0.5442      0.105     -5.188      0.000      -0.750      -0.339\n",
       "state_VA                                            -0.4645      0.103     -4.491      0.000      -0.667      -0.262\n",
       "state_VI                                            -0.6127      0.379     -1.616      0.106      -1.356       0.130\n",
       "state_VT                                            -0.4321      0.127     -3.407      0.001      -0.681      -0.184\n",
       "state_WA                                            -0.4355      0.102     -4.250      0.000      -0.636      -0.235\n",
       "state_WI                                            -0.4967      0.109     -4.559      0.000      -0.710      -0.283\n",
       "state_WV                                            -0.5766      0.154     -3.751      0.000      -0.878      -0.275\n",
       "state_WY                                            -0.6222      0.278     -2.242      0.025      -1.166      -0.078\n",
       "==============================================================================\n",
       "Omnibus:                     4399.709   Durbin-Watson:                   1.900\n",
       "Prob(Omnibus):                  0.000   Jarque-Bera (JB):             9026.159\n",
       "Skew:                           1.738   Prob(JB):                         0.00\n",
       "Kurtosis:                       4.225   Cond. No.                     7.82e+03\n",
       "==============================================================================\n",
       "\n",
       "Notes:\n",
       "[1] Standard Errors assume that the covariance matrix of the errors is correctly specified.\n",
       "[2] The condition number is large, 7.82e+03. This might indicate that there are\n",
       "strong multicollinearity or other numerical problems.\n",
       "\"\"\""
      ]
     },
     "execution_count": 159,
     "metadata": {},
     "output_type": "execute_result"
    }
   ],
   "source": [
    "mod.summary()"
   ]
  },
  {
   "cell_type": "code",
   "execution_count": 145,
   "id": "f5aa9073",
   "metadata": {
    "scrolled": true
   },
   "outputs": [],
   "source": [
    "def run_model_y_vars(x, y, control=[], lifespanControl=None, data=data):\n",
    "    \n",
    "    if lifespanControl is not None:\n",
    "        data.query('lifespan <= @lifespanControl')\n",
    "    \n",
    "    X = data[x]\n",
    "    \n",
    "    \n",
    "    for i in control:\n",
    "        if data[i].nunique() < 100:\n",
    "            i_dummies = pd.get_dummies(data[i], prefix=y, drop_first=True)\n",
    "            X = pd.concat([X, i_dummies], axis=1)\n",
    "    X = sm.add_constant(X)\n",
    "    mod = sm.OLS(data[y], X).fit()\n",
    "    return mod"
   ]
  },
  {
   "cell_type": "code",
   "execution_count": 150,
   "id": "bdd15ed8",
   "metadata": {},
   "outputs": [
    {
     "data": {
      "text/html": [
       "<table class=\"simpletable\">\n",
       "<caption>OLS Regression Results</caption>\n",
       "<tr>\n",
       "  <th>Dep. Variable:</th>           <td>f_9</td>       <th>  R-squared:         </th> <td>   0.004</td> \n",
       "</tr>\n",
       "<tr>\n",
       "  <th>Model:</th>                   <td>OLS</td>       <th>  Adj. R-squared:    </th> <td>   0.004</td> \n",
       "</tr>\n",
       "<tr>\n",
       "  <th>Method:</th>             <td>Least Squares</td>  <th>  F-statistic:       </th> <td>   59.93</td> \n",
       "</tr>\n",
       "<tr>\n",
       "  <th>Date:</th>             <td>Mon, 24 Jul 2023</td> <th>  Prob (F-statistic):</th> <td>1.05e-14</td> \n",
       "</tr>\n",
       "<tr>\n",
       "  <th>Time:</th>                 <td>20:36:25</td>     <th>  Log-Likelihood:    </th> <td> -8159.2</td> \n",
       "</tr>\n",
       "<tr>\n",
       "  <th>No. Observations:</th>      <td> 14453</td>      <th>  AIC:               </th> <td>1.632e+04</td>\n",
       "</tr>\n",
       "<tr>\n",
       "  <th>Df Residuals:</th>          <td> 14451</td>      <th>  BIC:               </th> <td>1.634e+04</td>\n",
       "</tr>\n",
       "<tr>\n",
       "  <th>Df Model:</th>              <td>     1</td>      <th>                     </th>     <td> </td>    \n",
       "</tr>\n",
       "<tr>\n",
       "  <th>Covariance Type:</th>      <td>nonrobust</td>    <th>                     </th>     <td> </td>    \n",
       "</tr>\n",
       "</table>\n",
       "<table class=\"simpletable\">\n",
       "<tr>\n",
       "      <td></td>         <th>coef</th>     <th>std err</th>      <th>t</th>      <th>P>|t|</th>  <th>[0.025</th>    <th>0.975]</th>  \n",
       "</tr>\n",
       "<tr>\n",
       "  <th>const</th>     <td>    0.2580</td> <td>    0.004</td> <td>   59.832</td> <td> 0.000</td> <td>    0.250</td> <td>    0.266</td>\n",
       "</tr>\n",
       "<tr>\n",
       "  <th>img_count</th> <td>   -0.0010</td> <td>    0.000</td> <td>   -7.741</td> <td> 0.000</td> <td>   -0.001</td> <td>   -0.001</td>\n",
       "</tr>\n",
       "</table>\n",
       "<table class=\"simpletable\">\n",
       "<tr>\n",
       "  <th>Omnibus:</th>       <td>2544.104</td> <th>  Durbin-Watson:     </th> <td>   1.900</td>\n",
       "</tr>\n",
       "<tr>\n",
       "  <th>Prob(Omnibus):</th>  <td> 0.000</td>  <th>  Jarque-Bera (JB):  </th> <td>3725.080</td>\n",
       "</tr>\n",
       "<tr>\n",
       "  <th>Skew:</th>           <td> 1.219</td>  <th>  Prob(JB):          </th> <td>    0.00</td>\n",
       "</tr>\n",
       "<tr>\n",
       "  <th>Kurtosis:</th>       <td> 2.509</td>  <th>  Cond. No.          </th> <td>    40.0</td>\n",
       "</tr>\n",
       "</table><br/><br/>Notes:<br/>[1] Standard Errors assume that the covariance matrix of the errors is correctly specified."
      ],
      "text/latex": [
       "\\begin{center}\n",
       "\\begin{tabular}{lclc}\n",
       "\\toprule\n",
       "\\textbf{Dep. Variable:}    &       f\\_9       & \\textbf{  R-squared:         } &     0.004   \\\\\n",
       "\\textbf{Model:}            &       OLS        & \\textbf{  Adj. R-squared:    } &     0.004   \\\\\n",
       "\\textbf{Method:}           &  Least Squares   & \\textbf{  F-statistic:       } &     59.93   \\\\\n",
       "\\textbf{Date:}             & Mon, 24 Jul 2023 & \\textbf{  Prob (F-statistic):} &  1.05e-14   \\\\\n",
       "\\textbf{Time:}             &     20:36:25     & \\textbf{  Log-Likelihood:    } &   -8159.2   \\\\\n",
       "\\textbf{No. Observations:} &       14453      & \\textbf{  AIC:               } & 1.632e+04   \\\\\n",
       "\\textbf{Df Residuals:}     &       14451      & \\textbf{  BIC:               } & 1.634e+04   \\\\\n",
       "\\textbf{Df Model:}         &           1      & \\textbf{                     } &             \\\\\n",
       "\\textbf{Covariance Type:}  &    nonrobust     & \\textbf{                     } &             \\\\\n",
       "\\bottomrule\n",
       "\\end{tabular}\n",
       "\\begin{tabular}{lcccccc}\n",
       "                    & \\textbf{coef} & \\textbf{std err} & \\textbf{t} & \\textbf{P$> |$t$|$} & \\textbf{[0.025} & \\textbf{0.975]}  \\\\\n",
       "\\midrule\n",
       "\\textbf{const}      &       0.2580  &        0.004     &    59.832  &         0.000        &        0.250    &        0.266     \\\\\n",
       "\\textbf{img\\_count} &      -0.0010  &        0.000     &    -7.741  &         0.000        &       -0.001    &       -0.001     \\\\\n",
       "\\bottomrule\n",
       "\\end{tabular}\n",
       "\\begin{tabular}{lclc}\n",
       "\\textbf{Omnibus:}       & 2544.104 & \\textbf{  Durbin-Watson:     } &    1.900  \\\\\n",
       "\\textbf{Prob(Omnibus):} &   0.000  & \\textbf{  Jarque-Bera (JB):  } & 3725.080  \\\\\n",
       "\\textbf{Skew:}          &   1.219  & \\textbf{  Prob(JB):          } &     0.00  \\\\\n",
       "\\textbf{Kurtosis:}      &   2.509  & \\textbf{  Cond. No.          } &     40.0  \\\\\n",
       "\\bottomrule\n",
       "\\end{tabular}\n",
       "%\\caption{OLS Regression Results}\n",
       "\\end{center}\n",
       "\n",
       "Notes: \\newline\n",
       " [1] Standard Errors assume that the covariance matrix of the errors is correctly specified."
      ],
      "text/plain": [
       "<class 'statsmodels.iolib.summary.Summary'>\n",
       "\"\"\"\n",
       "                            OLS Regression Results                            \n",
       "==============================================================================\n",
       "Dep. Variable:                    f_9   R-squared:                       0.004\n",
       "Model:                            OLS   Adj. R-squared:                  0.004\n",
       "Method:                 Least Squares   F-statistic:                     59.93\n",
       "Date:                Mon, 24 Jul 2023   Prob (F-statistic):           1.05e-14\n",
       "Time:                        20:36:25   Log-Likelihood:                -8159.2\n",
       "No. Observations:               14453   AIC:                         1.632e+04\n",
       "Df Residuals:                   14451   BIC:                         1.634e+04\n",
       "Df Model:                           1                                         \n",
       "Covariance Type:            nonrobust                                         \n",
       "==============================================================================\n",
       "                 coef    std err          t      P>|t|      [0.025      0.975]\n",
       "------------------------------------------------------------------------------\n",
       "const          0.2580      0.004     59.832      0.000       0.250       0.266\n",
       "img_count     -0.0010      0.000     -7.741      0.000      -0.001      -0.001\n",
       "==============================================================================\n",
       "Omnibus:                     2544.104   Durbin-Watson:                   1.900\n",
       "Prob(Omnibus):                  0.000   Jarque-Bera (JB):             3725.080\n",
       "Skew:                           1.219   Prob(JB):                         0.00\n",
       "Kurtosis:                       2.509   Cond. No.                         40.0\n",
       "==============================================================================\n",
       "\n",
       "Notes:\n",
       "[1] Standard Errors assume that the covariance matrix of the errors is correctly specified.\n",
       "\"\"\""
      ]
     },
     "execution_count": 150,
     "metadata": {},
     "output_type": "execute_result"
    }
   ],
   "source": [
    "run_model_y_vars('img_count', 'f_9').summary()"
   ]
  },
  {
   "cell_type": "code",
   "execution_count": null,
   "id": "c1b73d33",
   "metadata": {},
   "outputs": [],
   "source": [
    "for i in range(1, 11):\n",
    "    print(i)\n",
    "    mod = run_model(i)\n",
    "    results = {\n",
    "        'X': i,\n",
    "        'Y': 'Failed',\n",
    "        'Coefficient': mod.params[i],\n",
    "        'Control': \"\",\n",
    "        'T': mod.tvalues[i],\n",
    "        'PValue': mod.pvalues[i],\n",
    "        'RSquared': mod.rsquared,\n",
    "    }\n",
    "    reg_results = reg_results.append(results, ignore_index=True)\n",
    "    # Control for end year, industry, state, and start year\n",
    "    mod = run_model(i, control=['end_yr', 'new_industrygroup', 'state', 'start_yr'])\n",
    "    results['Coefficient'] = mod.params[i]\n",
    "    results['PValue'] =  mod.pvalues[i]\n",
    "    results['RSquared'] = mod.rsquared\n",
    "    results['Control'] = 'End Year, Industry, State, Year founded'\n",
    "    reg_results = reg_results.append(results, ignore_index=True)"
   ]
  },
  {
   "cell_type": "markdown",
   "id": "e7e53191",
   "metadata": {},
   "source": [
    "---"
   ]
  },
  {
   "cell_type": "code",
   "execution_count": 148,
   "id": "2d34fe0e",
   "metadata": {
    "scrolled": true
   },
   "outputs": [],
   "source": [
    "def master_reg(start, end, lifespanControl):\n",
    "    global data\n",
    "    colPrefix = f\"g{start}{end}_\"\n",
    "    \n",
    "    # See if columns exist\n",
    "    columnsExist = set([colPrefix + i for i in g_cols_of_interest]).issubset(html.columns)\n",
    "\n",
    "    if not columnsExist:\n",
    "        # Create columns (takes ~2 minutes)\n",
    "        create_growth_cols(start, end)\n",
    "\n",
    "    # Redefine regression dataset with new growth columns\n",
    "    data = html.groupby('entityid').last()\n",
    "    colPrefix = f\"g{start}{end}_\"\n",
    "\n",
    "    # Drop any rows with NA values for any of the columns we're running regressions on\n",
    "    data = data.dropna(subset=[colPrefix + i for i in g_cols_of_interest]) # Remove NA\n",
    "\n",
    "    # Create regression DF\n",
    "    gr_results = growth_reg(start, end, lifespanControl=lifespanControl)\n",
    "\n",
    "    # Styling\n",
    "    if lifespanControl is not None:\n",
    "        captionTxt = f\"Exited within {lifespanControl} years, Growth from snapshot {start}-{end}\"\n",
    "    else:\n",
    "        captionTxt = f\"Growth from snapshot {start}-{end}\"\n",
    "    return gr_results"
   ]
  },
  {
   "cell_type": "markdown",
   "id": "7c2828c5",
   "metadata": {},
   "source": [
    "Control:\n",
    "    Every company that lasted 3 years the same amount of time for the outcome variable to be 1\n",
    "    "
   ]
  },
  {
   "cell_type": "code",
   "execution_count": 149,
   "id": "32506eea",
   "metadata": {
    "scrolled": false
   },
   "outputs": [
    {
     "data": {
      "text/html": [
       "<div>\n",
       "<style scoped>\n",
       "    .dataframe tbody tr th:only-of-type {\n",
       "        vertical-align: middle;\n",
       "    }\n",
       "\n",
       "    .dataframe tbody tr th {\n",
       "        vertical-align: top;\n",
       "    }\n",
       "\n",
       "    .dataframe thead th {\n",
       "        text-align: right;\n",
       "    }\n",
       "</style>\n",
       "<table border=\"1\" class=\"dataframe\">\n",
       "  <thead>\n",
       "    <tr style=\"text-align: right;\">\n",
       "      <th></th>\n",
       "      <th>X</th>\n",
       "      <th>Y</th>\n",
       "      <th>Coefficient</th>\n",
       "      <th>Control</th>\n",
       "      <th>T</th>\n",
       "      <th>PValue</th>\n",
       "      <th>RSquared</th>\n",
       "    </tr>\n",
       "  </thead>\n",
       "  <tbody>\n",
       "    <tr>\n",
       "      <th>0</th>\n",
       "      <td>g13_website_size_kb</td>\n",
       "      <td>Failed</td>\n",
       "      <td>6.991600e-08</td>\n",
       "      <td>End Year, Industry, State, Year founded</td>\n",
       "      <td>1.509346</td>\n",
       "      <td>0.131230</td>\n",
       "      <td>0.6055</td>\n",
       "    </tr>\n",
       "    <tr>\n",
       "      <th>1</th>\n",
       "      <td>g13_careers</td>\n",
       "      <td>Failed</td>\n",
       "      <td>-2.473974e-05</td>\n",
       "      <td>End Year, Industry, State, Year founded</td>\n",
       "      <td>-0.373964</td>\n",
       "      <td>0.708436</td>\n",
       "      <td>0.6055</td>\n",
       "    </tr>\n",
       "    <tr>\n",
       "      <th>2</th>\n",
       "      <td>g13_blog</td>\n",
       "      <td>Failed</td>\n",
       "      <td>2.882126e-04</td>\n",
       "      <td>End Year, Industry, State, Year founded</td>\n",
       "      <td>3.657898</td>\n",
       "      <td>0.000255</td>\n",
       "      <td>0.6058</td>\n",
       "    </tr>\n",
       "    <tr>\n",
       "      <th>3</th>\n",
       "      <td>g13_login</td>\n",
       "      <td>Failed</td>\n",
       "      <td>2.141385e-04</td>\n",
       "      <td>End Year, Industry, State, Year founded</td>\n",
       "      <td>2.507213</td>\n",
       "      <td>0.012179</td>\n",
       "      <td>0.6056</td>\n",
       "    </tr>\n",
       "    <tr>\n",
       "      <th>4</th>\n",
       "      <td>g13_contact</td>\n",
       "      <td>Failed</td>\n",
       "      <td>1.193145e-04</td>\n",
       "      <td>End Year, Industry, State, Year founded</td>\n",
       "      <td>1.962686</td>\n",
       "      <td>0.049700</td>\n",
       "      <td>0.6056</td>\n",
       "    </tr>\n",
       "    <tr>\n",
       "      <th>5</th>\n",
       "      <td>g13_team</td>\n",
       "      <td>Failed</td>\n",
       "      <td>-9.026096e-05</td>\n",
       "      <td>End Year, Industry, State, Year founded</td>\n",
       "      <td>-0.807919</td>\n",
       "      <td>0.419149</td>\n",
       "      <td>0.6055</td>\n",
       "    </tr>\n",
       "    <tr>\n",
       "      <th>6</th>\n",
       "      <td>g13_about</td>\n",
       "      <td>Failed</td>\n",
       "      <td>1.167403e-04</td>\n",
       "      <td>End Year, Industry, State, Year founded</td>\n",
       "      <td>1.836802</td>\n",
       "      <td>0.066258</td>\n",
       "      <td>0.6055</td>\n",
       "    </tr>\n",
       "    <tr>\n",
       "      <th>7</th>\n",
       "      <td>g13_news</td>\n",
       "      <td>Failed</td>\n",
       "      <td>-3.556637e-05</td>\n",
       "      <td>End Year, Industry, State, Year founded</td>\n",
       "      <td>-0.534991</td>\n",
       "      <td>0.592663</td>\n",
       "      <td>0.6055</td>\n",
       "    </tr>\n",
       "    <tr>\n",
       "      <th>8</th>\n",
       "      <td>g13_faq</td>\n",
       "      <td>Failed</td>\n",
       "      <td>2.256713e-04</td>\n",
       "      <td>End Year, Industry, State, Year founded</td>\n",
       "      <td>2.335591</td>\n",
       "      <td>0.019525</td>\n",
       "      <td>0.6056</td>\n",
       "    </tr>\n",
       "    <tr>\n",
       "      <th>9</th>\n",
       "      <td>g13_call_to_action</td>\n",
       "      <td>Failed</td>\n",
       "      <td>1.625178e-04</td>\n",
       "      <td>End Year, Industry, State, Year founded</td>\n",
       "      <td>2.367216</td>\n",
       "      <td>0.017934</td>\n",
       "      <td>0.6056</td>\n",
       "    </tr>\n",
       "    <tr>\n",
       "      <th>10</th>\n",
       "      <td>g13_testimonial</td>\n",
       "      <td>Failed</td>\n",
       "      <td>1.119908e-04</td>\n",
       "      <td>End Year, Industry, State, Year founded</td>\n",
       "      <td>0.845370</td>\n",
       "      <td>0.397917</td>\n",
       "      <td>0.6055</td>\n",
       "    </tr>\n",
       "    <tr>\n",
       "      <th>11</th>\n",
       "      <td>g13_title</td>\n",
       "      <td>Failed</td>\n",
       "      <td>-1.116950e-04</td>\n",
       "      <td>End Year, Industry, State, Year founded</td>\n",
       "      <td>-1.343773</td>\n",
       "      <td>0.179041</td>\n",
       "      <td>0.6055</td>\n",
       "    </tr>\n",
       "    <tr>\n",
       "      <th>12</th>\n",
       "      <td>g13_description</td>\n",
       "      <td>Failed</td>\n",
       "      <td>-5.521009e-05</td>\n",
       "      <td>End Year, Industry, State, Year founded</td>\n",
       "      <td>-1.368463</td>\n",
       "      <td>0.171187</td>\n",
       "      <td>0.6055</td>\n",
       "    </tr>\n",
       "    <tr>\n",
       "      <th>13</th>\n",
       "      <td>g13_keywords</td>\n",
       "      <td>Failed</td>\n",
       "      <td>8.950147e-06</td>\n",
       "      <td>End Year, Industry, State, Year founded</td>\n",
       "      <td>0.207866</td>\n",
       "      <td>0.835336</td>\n",
       "      <td>0.6055</td>\n",
       "    </tr>\n",
       "    <tr>\n",
       "      <th>14</th>\n",
       "      <td>g13_p_count</td>\n",
       "      <td>Failed</td>\n",
       "      <td>-7.079259e-07</td>\n",
       "      <td>End Year, Industry, State, Year founded</td>\n",
       "      <td>-0.318666</td>\n",
       "      <td>0.749984</td>\n",
       "      <td>0.6055</td>\n",
       "    </tr>\n",
       "    <tr>\n",
       "      <th>15</th>\n",
       "      <td>g13_h_count</td>\n",
       "      <td>Failed</td>\n",
       "      <td>-4.913499e-06</td>\n",
       "      <td>End Year, Industry, State, Year founded</td>\n",
       "      <td>-1.548039</td>\n",
       "      <td>0.121633</td>\n",
       "      <td>0.6055</td>\n",
       "    </tr>\n",
       "    <tr>\n",
       "      <th>16</th>\n",
       "      <td>g13_img_count</td>\n",
       "      <td>Failed</td>\n",
       "      <td>-3.778029e-07</td>\n",
       "      <td>End Year, Industry, State, Year founded</td>\n",
       "      <td>-0.257197</td>\n",
       "      <td>0.797030</td>\n",
       "      <td>0.6055</td>\n",
       "    </tr>\n",
       "    <tr>\n",
       "      <th>17</th>\n",
       "      <td>g13_a_count</td>\n",
       "      <td>Failed</td>\n",
       "      <td>5.179863e-07</td>\n",
       "      <td>End Year, Industry, State, Year founded</td>\n",
       "      <td>0.820950</td>\n",
       "      <td>0.411687</td>\n",
       "      <td>0.6055</td>\n",
       "    </tr>\n",
       "    <tr>\n",
       "      <th>18</th>\n",
       "      <td>g13_table_count</td>\n",
       "      <td>Failed</td>\n",
       "      <td>7.654411e-06</td>\n",
       "      <td>End Year, Industry, State, Year founded</td>\n",
       "      <td>1.522969</td>\n",
       "      <td>0.127786</td>\n",
       "      <td>0.6055</td>\n",
       "    </tr>\n",
       "    <tr>\n",
       "      <th>19</th>\n",
       "      <td>g13_form_count</td>\n",
       "      <td>Failed</td>\n",
       "      <td>7.361662e-06</td>\n",
       "      <td>End Year, Industry, State, Year founded</td>\n",
       "      <td>0.537842</td>\n",
       "      <td>0.590694</td>\n",
       "      <td>0.6055</td>\n",
       "    </tr>\n",
       "    <tr>\n",
       "      <th>20</th>\n",
       "      <td>g13_script_count</td>\n",
       "      <td>Failed</td>\n",
       "      <td>-2.367888e-05</td>\n",
       "      <td>End Year, Industry, State, Year founded</td>\n",
       "      <td>-2.417104</td>\n",
       "      <td>0.015656</td>\n",
       "      <td>0.6056</td>\n",
       "    </tr>\n",
       "  </tbody>\n",
       "</table>\n",
       "</div>"
      ],
      "text/plain": [
       "                      X       Y   Coefficient  \\\n",
       "0   g13_website_size_kb  Failed  6.991600e-08   \n",
       "1           g13_careers  Failed -2.473974e-05   \n",
       "2              g13_blog  Failed  2.882126e-04   \n",
       "3             g13_login  Failed  2.141385e-04   \n",
       "4           g13_contact  Failed  1.193145e-04   \n",
       "5              g13_team  Failed -9.026096e-05   \n",
       "6             g13_about  Failed  1.167403e-04   \n",
       "7              g13_news  Failed -3.556637e-05   \n",
       "8               g13_faq  Failed  2.256713e-04   \n",
       "9    g13_call_to_action  Failed  1.625178e-04   \n",
       "10      g13_testimonial  Failed  1.119908e-04   \n",
       "11            g13_title  Failed -1.116950e-04   \n",
       "12      g13_description  Failed -5.521009e-05   \n",
       "13         g13_keywords  Failed  8.950147e-06   \n",
       "14          g13_p_count  Failed -7.079259e-07   \n",
       "15          g13_h_count  Failed -4.913499e-06   \n",
       "16        g13_img_count  Failed -3.778029e-07   \n",
       "17          g13_a_count  Failed  5.179863e-07   \n",
       "18      g13_table_count  Failed  7.654411e-06   \n",
       "19       g13_form_count  Failed  7.361662e-06   \n",
       "20     g13_script_count  Failed -2.367888e-05   \n",
       "\n",
       "                                    Control         T    PValue  RSquared  \n",
       "0   End Year, Industry, State, Year founded  1.509346  0.131230    0.6055  \n",
       "1   End Year, Industry, State, Year founded -0.373964  0.708436    0.6055  \n",
       "2   End Year, Industry, State, Year founded  3.657898  0.000255    0.6058  \n",
       "3   End Year, Industry, State, Year founded  2.507213  0.012179    0.6056  \n",
       "4   End Year, Industry, State, Year founded  1.962686  0.049700    0.6056  \n",
       "5   End Year, Industry, State, Year founded -0.807919  0.419149    0.6055  \n",
       "6   End Year, Industry, State, Year founded  1.836802  0.066258    0.6055  \n",
       "7   End Year, Industry, State, Year founded -0.534991  0.592663    0.6055  \n",
       "8   End Year, Industry, State, Year founded  2.335591  0.019525    0.6056  \n",
       "9   End Year, Industry, State, Year founded  2.367216  0.017934    0.6056  \n",
       "10  End Year, Industry, State, Year founded  0.845370  0.397917    0.6055  \n",
       "11  End Year, Industry, State, Year founded -1.343773  0.179041    0.6055  \n",
       "12  End Year, Industry, State, Year founded -1.368463  0.171187    0.6055  \n",
       "13  End Year, Industry, State, Year founded  0.207866  0.835336    0.6055  \n",
       "14  End Year, Industry, State, Year founded -0.318666  0.749984    0.6055  \n",
       "15  End Year, Industry, State, Year founded -1.548039  0.121633    0.6055  \n",
       "16  End Year, Industry, State, Year founded -0.257197  0.797030    0.6055  \n",
       "17  End Year, Industry, State, Year founded  0.820950  0.411687    0.6055  \n",
       "18  End Year, Industry, State, Year founded  1.522969  0.127786    0.6055  \n",
       "19  End Year, Industry, State, Year founded  0.537842  0.590694    0.6055  \n",
       "20  End Year, Industry, State, Year founded -2.417104  0.015656    0.6056  "
      ]
     },
     "execution_count": 149,
     "metadata": {},
     "output_type": "execute_result"
    }
   ],
   "source": [
    "master_reg(start=1, end=3, lifespanControl=5)"
   ]
  },
  {
   "cell_type": "markdown",
   "id": "aa4bc595",
   "metadata": {},
   "source": [
    "## Time Between Captures"
   ]
  },
  {
   "cell_type": "markdown",
   "id": "3479eca6",
   "metadata": {},
   "source": [
    "TODO: Why does this matter?"
   ]
  },
  {
   "cell_type": "markdown",
   "id": "e584d1c3",
   "metadata": {},
   "source": [
    "Time b/w snapshots may be a signal that we can free-ride"
   ]
  },
  {
   "cell_type": "markdown",
   "id": "a38b36f6",
   "metadata": {},
   "source": [
    "TODO: Refine this more"
   ]
  },
  {
   "cell_type": "markdown",
   "id": "b2cc49ac",
   "metadata": {},
   "source": [
    "Create empty DataFrame"
   ]
  },
  {
   "cell_type": "code",
   "execution_count": null,
   "id": "fcb031d6",
   "metadata": {},
   "outputs": [],
   "source": [
    "reg_results = pd.DataFrame(columns=['X', 'Y', 'Coefficient', 'Control', 'T', 'PValue', 'RSquared'])"
   ]
  },
  {
   "cell_type": "code",
   "execution_count": null,
   "id": "1388250f",
   "metadata": {
    "scrolled": false
   },
   "outputs": [],
   "source": [
    "data.columns"
   ]
  },
  {
   "cell_type": "markdown",
   "id": "48a6689e",
   "metadata": {},
   "source": [
    "Define columns to run regressions on"
   ]
  },
  {
   "cell_type": "code",
   "execution_count": null,
   "id": "c4f3f3d1",
   "metadata": {},
   "outputs": [],
   "source": [
    "cols_of_interest = [i for i in data.select_dtypes(include='number') if i not in ['Failed', 'has_exit']]"
   ]
  },
  {
   "cell_type": "code",
   "execution_count": null,
   "id": "273dfe18",
   "metadata": {},
   "outputs": [],
   "source": [
    "data['a_log'].describe()"
   ]
  },
  {
   "cell_type": "code",
   "execution_count": null,
   "id": "815f2deb",
   "metadata": {
    "scrolled": true
   },
   "outputs": [],
   "source": [
    "for i in cols_of_interest:\n",
    "    print(i)\n",
    "    mod = run_model(i)\n",
    "    results = {\n",
    "        'X': i,\n",
    "        'Y': 'Failed',\n",
    "        'Coefficient': mod.params[i],\n",
    "        'Control': \"\",\n",
    "        'T': mod.tvalues[i],\n",
    "        'PValue': mod.pvalues[i],\n",
    "        'RSquared': mod.rsquared,\n",
    "    }\n",
    "    reg_results = reg_results.append(results, ignore_index=True)\n",
    "    # Control for end year, industry, state, and start year\n",
    "    mod = run_model(i, control=['end_yr', 'new_industrygroup', 'state', 'start_yr'])\n",
    "    results['Coefficient'] = mod.params[i]\n",
    "    results['PValue'] =  mod.pvalues[i]\n",
    "    results['RSquared'] = mod.rsquared\n",
    "    results['Control'] = 'End Year, Industry, State, Year founded'\n",
    "    reg_results = reg_results.append(results, ignore_index=True)"
   ]
  },
  {
   "cell_type": "markdown",
   "id": "8ae77fea",
   "metadata": {},
   "source": [
    "Convert R-Squared out of scientific notation"
   ]
  },
  {
   "cell_type": "code",
   "execution_count": null,
   "id": "2524766e",
   "metadata": {},
   "outputs": [],
   "source": [
    "reg_results['RSquared'] = reg_results['RSquared'].astype('float64')\n",
    "reg_results['RSquared'] = np.round(reg_results['RSquared'], 4)"
   ]
  },
  {
   "cell_type": "code",
   "execution_count": null,
   "id": "502c875e",
   "metadata": {},
   "outputs": [],
   "source": [
    "reg_results.name = 'Last screenshot cross-sectional regressions'"
   ]
  },
  {
   "cell_type": "markdown",
   "id": "9c6fe2b8",
   "metadata": {},
   "source": [
    "Sort by R-Squared"
   ]
  },
  {
   "cell_type": "code",
   "execution_count": null,
   "id": "69db42fb",
   "metadata": {
    "scrolled": false
   },
   "outputs": [],
   "source": [
    "reg_results.sort_values('RSquared', ascending=False).reset_index(drop=True).head(15)"
   ]
  },
  {
   "cell_type": "markdown",
   "id": "f83792f1",
   "metadata": {},
   "source": [
    "**Setup**"
   ]
  },
  {
   "cell_type": "code",
   "execution_count": 184,
   "id": "dc4d5a4a",
   "metadata": {},
   "outputs": [],
   "source": [
    "html = html.sort_values(['entityid', 'capture_yr', 'capture_m'])"
   ]
  },
  {
   "cell_type": "code",
   "execution_count": 151,
   "id": "35df2456",
   "metadata": {},
   "outputs": [],
   "source": [
    "def find_time_diff(x, start, end):\n",
    "    if len(x.index) > max(abs(start), abs(end)):\n",
    "        start_yr = x.iloc[start]['capture_yr'] * 12 # Convert to months\n",
    "        start_m = x.iloc[start]['capture_m']\n",
    "        start_total = start_yr + start_m\n",
    "        \n",
    "        end_yr = x.iloc[end]['capture_yr'] * 12 # Convert to months\n",
    "        end_m = x.iloc[end]['capture_m']\n",
    "        end_total = end_yr + end_m\n",
    "\n",
    "        total_m_diff = end_total - start_total\n",
    "        \n",
    "        return total_m_diff\n",
    "    else:\n",
    "        return None\n",
    "        "
   ]
  },
  {
   "cell_type": "markdown",
   "id": "f55fd258",
   "metadata": {},
   "source": [
    "**What's the difference in time between the first capture and the second capture?**"
   ]
  },
  {
   "cell_type": "markdown",
   "id": "542a8130",
   "metadata": {},
   "source": [
    "Create column"
   ]
  },
  {
   "cell_type": "code",
   "execution_count": 185,
   "id": "cc1d9d67",
   "metadata": {},
   "outputs": [],
   "source": [
    "td_01 = html.groupby('entityid').apply(lambda x: find_time_diff(x, 0, 1))"
   ]
  },
  {
   "cell_type": "code",
   "execution_count": null,
   "id": "b73e7779",
   "metadata": {},
   "outputs": [],
   "source": [
    "td_0"
   ]
  },
  {
   "cell_type": "code",
   "execution_count": 167,
   "id": "89aec8ca",
   "metadata": {},
   "outputs": [],
   "source": [
    "td_01.name = 'td_01'\n",
    "html = html.merge(td_01, left_on='entityid', right_index=True)"
   ]
  },
  {
   "cell_type": "markdown",
   "id": "9a70d1d8",
   "metadata": {},
   "source": [
    "**What's the difference in time betweent the last capture and the second-to-last capture?**"
   ]
  },
  {
   "cell_type": "markdown",
   "id": "a3d906d7",
   "metadata": {},
   "source": [
    "Create column"
   ]
  },
  {
   "cell_type": "code",
   "execution_count": 168,
   "id": "befeba38",
   "metadata": {
    "scrolled": true
   },
   "outputs": [],
   "source": [
    "td_last2 = html.groupby('entityid').apply(lambda x: find_time_diff(x, -2, -1))"
   ]
  },
  {
   "cell_type": "code",
   "execution_count": 169,
   "id": "f67b58f1",
   "metadata": {},
   "outputs": [],
   "source": [
    "td_last2.name = 'td_last2'\n",
    "html = html.merge(td_last2, left_on='entityid', right_index=True)"
   ]
  },
  {
   "cell_type": "markdown",
   "id": "b9feebcb",
   "metadata": {},
   "source": [
    "**What's the average difference in time (months) between each capture?**"
   ]
  },
  {
   "cell_type": "markdown",
   "id": "ea3f2a5e",
   "metadata": {},
   "source": [
    "Create column. Calculating standard deviation could work here"
   ]
  },
  {
   "cell_type": "code",
   "execution_count": 170,
   "id": "a47cafe7",
   "metadata": {},
   "outputs": [],
   "source": [
    "html['total_capture_m'] = html['capture_yr'] * 12 + html['capture_m']\n",
    "td_stdev = html.groupby('entityid')['total_capture_m'].std()"
   ]
  },
  {
   "cell_type": "code",
   "execution_count": 171,
   "id": "c346599b",
   "metadata": {},
   "outputs": [],
   "source": [
    "td_stdev.name = 'td_stdev'\n",
    "html = html.merge(td_stdev, left_on='entityid', right_index=True)"
   ]
  },
  {
   "cell_type": "markdown",
   "id": "3a59d9ac",
   "metadata": {},
   "source": [
    "What's the difference in time between the second and third capture?"
   ]
  },
  {
   "cell_type": "code",
   "execution_count": 172,
   "id": "35b893b9",
   "metadata": {
    "scrolled": true
   },
   "outputs": [],
   "source": [
    "td_12 = html.groupby('entityid').apply(lambda x: find_time_diff(x, 1, 3))"
   ]
  },
  {
   "cell_type": "code",
   "execution_count": 173,
   "id": "c9d69426",
   "metadata": {},
   "outputs": [],
   "source": [
    "td_12.name = 'td_12'\n",
    "html = html.merge(td_12, left_on='entityid', right_index=True)"
   ]
  },
  {
   "cell_type": "code",
   "execution_count": 183,
   "id": "fc1b2ba3",
   "metadata": {},
   "outputs": [
    {
     "data": {
      "text/plain": [
       "count    15955.000000\n",
       "mean        15.237167\n",
       "std         12.085444\n",
       "min        -12.000000\n",
       "25%         11.000000\n",
       "50%         13.000000\n",
       "75%         17.000000\n",
       "max        256.000000\n",
       "Name: td_12, dtype: float64"
      ]
     },
     "execution_count": 183,
     "metadata": {},
     "output_type": "execute_result"
    }
   ],
   "source": [
    "data.td_12.describe()"
   ]
  },
  {
   "cell_type": "markdown",
   "id": "4ab2bdf9",
   "metadata": {},
   "source": [
    "**Run regressions**"
   ]
  },
  {
   "cell_type": "code",
   "execution_count": 174,
   "id": "a88ac925",
   "metadata": {},
   "outputs": [],
   "source": [
    "cols = ['td_01', 'td_12', 'td_last2', 'td_stdev']"
   ]
  },
  {
   "cell_type": "code",
   "execution_count": 175,
   "id": "7f214886",
   "metadata": {},
   "outputs": [],
   "source": [
    "data = html.groupby('entityid').first()\n",
    "data = data.dropna(subset=cols) # Remove NA"
   ]
  },
  {
   "cell_type": "markdown",
   "id": "43f68e6b",
   "metadata": {},
   "source": [
    "Create empty DataFrame"
   ]
  },
  {
   "cell_type": "code",
   "execution_count": 176,
   "id": "e0388d21",
   "metadata": {},
   "outputs": [],
   "source": [
    "reg_results = pd.DataFrame(columns=['X', 'Y', 'Coefficient', 'Control', 'T', 'PValue', 'RSquared'])"
   ]
  },
  {
   "cell_type": "code",
   "execution_count": 177,
   "id": "724a3ced",
   "metadata": {},
   "outputs": [],
   "source": [
    "for c in cols:\n",
    "    mod = run_model(c, control=['end_yr', 'new_industrygroup', 'state', 'start_yr'])\n",
    "    results = {\n",
    "        'X': c,\n",
    "        'Y': 'Failed',\n",
    "        'Coefficient': mod.params[c],\n",
    "        'Control': 'End year, industry, state, start year',\n",
    "        'T': mod.tvalues[c],\n",
    "        'PValue': mod.pvalues[c],\n",
    "        'RSquared': mod.rsquared,\n",
    "    }\n",
    "    reg_results = reg_results.append(results, ignore_index=True)\n"
   ]
  },
  {
   "cell_type": "code",
   "execution_count": 178,
   "id": "52d92cfc",
   "metadata": {
    "scrolled": true
   },
   "outputs": [
    {
     "data": {
      "text/html": [
       "<div>\n",
       "<style scoped>\n",
       "    .dataframe tbody tr th:only-of-type {\n",
       "        vertical-align: middle;\n",
       "    }\n",
       "\n",
       "    .dataframe tbody tr th {\n",
       "        vertical-align: top;\n",
       "    }\n",
       "\n",
       "    .dataframe thead th {\n",
       "        text-align: right;\n",
       "    }\n",
       "</style>\n",
       "<table border=\"1\" class=\"dataframe\">\n",
       "  <thead>\n",
       "    <tr style=\"text-align: right;\">\n",
       "      <th></th>\n",
       "      <th>X</th>\n",
       "      <th>Y</th>\n",
       "      <th>Coefficient</th>\n",
       "      <th>Control</th>\n",
       "      <th>T</th>\n",
       "      <th>PValue</th>\n",
       "      <th>RSquared</th>\n",
       "    </tr>\n",
       "  </thead>\n",
       "  <tbody>\n",
       "    <tr>\n",
       "      <th>0</th>\n",
       "      <td>td_01</td>\n",
       "      <td>Failed</td>\n",
       "      <td>-0.000906</td>\n",
       "      <td>End year, industry, state, start year</td>\n",
       "      <td>-3.377347</td>\n",
       "      <td>7.336483e-04</td>\n",
       "      <td>0.605740</td>\n",
       "    </tr>\n",
       "    <tr>\n",
       "      <th>1</th>\n",
       "      <td>td_12</td>\n",
       "      <td>Failed</td>\n",
       "      <td>0.000050</td>\n",
       "      <td>End year, industry, state, start year</td>\n",
       "      <td>0.268044</td>\n",
       "      <td>7.886692e-01</td>\n",
       "      <td>0.605458</td>\n",
       "    </tr>\n",
       "    <tr>\n",
       "      <th>2</th>\n",
       "      <td>td_last2</td>\n",
       "      <td>Failed</td>\n",
       "      <td>0.002806</td>\n",
       "      <td>End year, industry, state, start year</td>\n",
       "      <td>15.338562</td>\n",
       "      <td>1.010683e-52</td>\n",
       "      <td>0.611230</td>\n",
       "    </tr>\n",
       "    <tr>\n",
       "      <th>3</th>\n",
       "      <td>td_stdev</td>\n",
       "      <td>Failed</td>\n",
       "      <td>0.000772</td>\n",
       "      <td>End year, industry, state, start year</td>\n",
       "      <td>3.710273</td>\n",
       "      <td>2.077436e-04</td>\n",
       "      <td>0.605799</td>\n",
       "    </tr>\n",
       "  </tbody>\n",
       "</table>\n",
       "</div>"
      ],
      "text/plain": [
       "          X       Y  Coefficient                                Control  \\\n",
       "0     td_01  Failed    -0.000906  End year, industry, state, start year   \n",
       "1     td_12  Failed     0.000050  End year, industry, state, start year   \n",
       "2  td_last2  Failed     0.002806  End year, industry, state, start year   \n",
       "3  td_stdev  Failed     0.000772  End year, industry, state, start year   \n",
       "\n",
       "           T        PValue  RSquared  \n",
       "0  -3.377347  7.336483e-04  0.605740  \n",
       "1   0.268044  7.886692e-01  0.605458  \n",
       "2  15.338562  1.010683e-52  0.611230  \n",
       "3   3.710273  2.077436e-04  0.605799  "
      ]
     },
     "execution_count": 178,
     "metadata": {},
     "output_type": "execute_result"
    }
   ],
   "source": [
    "reg_results"
   ]
  },
  {
   "cell_type": "markdown",
   "id": "0132f208",
   "metadata": {},
   "source": [
    "## Number of Captures downloaded"
   ]
  },
  {
   "cell_type": "code",
   "execution_count": 135,
   "id": "28f160d5",
   "metadata": {},
   "outputs": [],
   "source": [
    "# TODO: Fix the _x thing"
   ]
  },
  {
   "cell_type": "code",
   "execution_count": 141,
   "id": "905e41b3",
   "metadata": {},
   "outputs": [
    {
     "data": {
      "text/plain": [
       "entityid\n",
       "53131          6\n",
       "53138         13\n",
       "53139         10\n",
       "53142         16\n",
       "53147         12\n",
       "              ..\n",
       "1051887269     3\n",
       "1051920263     8\n",
       "1052000966     7\n",
       "1052193170     3\n",
       "1052206355    12\n",
       "Name: file_exists, Length: 16795, dtype: int64"
      ]
     },
     "execution_count": 141,
     "metadata": {},
     "output_type": "execute_result"
    }
   ],
   "source": [
    "html.groupby('entityid').file_exists.sum()"
   ]
  },
  {
   "cell_type": "code",
   "execution_count": 85,
   "id": "8098f477",
   "metadata": {},
   "outputs": [],
   "source": [
    "data = html.groupby('entityid').first()"
   ]
  },
  {
   "cell_type": "code",
   "execution_count": 88,
   "id": "b7b82b87",
   "metadata": {
    "collapsed": true
   },
   "outputs": [
    {
     "data": {
      "text/html": [
       "<table class=\"simpletable\">\n",
       "<caption>OLS Regression Results</caption>\n",
       "<tr>\n",
       "  <th>Dep. Variable:</th>         <td>Failed</td>      <th>  R-squared:         </th> <td>   0.674</td>\n",
       "</tr>\n",
       "<tr>\n",
       "  <th>Model:</th>                   <td>OLS</td>       <th>  Adj. R-squared:    </th> <td>   0.672</td>\n",
       "</tr>\n",
       "<tr>\n",
       "  <th>Method:</th>             <td>Least Squares</td>  <th>  F-statistic:       </th> <td>   302.3</td>\n",
       "</tr>\n",
       "<tr>\n",
       "  <th>Date:</th>             <td>Fri, 21 Jul 2023</td> <th>  Prob (F-statistic):</th>  <td>  0.00</td> \n",
       "</tr>\n",
       "<tr>\n",
       "  <th>Time:</th>                 <td>11:49:57</td>     <th>  Log-Likelihood:    </th> <td> -956.55</td>\n",
       "</tr>\n",
       "<tr>\n",
       "  <th>No. Observations:</th>      <td> 16795</td>      <th>  AIC:               </th> <td>   2143.</td>\n",
       "</tr>\n",
       "<tr>\n",
       "  <th>Df Residuals:</th>          <td> 16680</td>      <th>  BIC:               </th> <td>   3032.</td>\n",
       "</tr>\n",
       "<tr>\n",
       "  <th>Df Model:</th>              <td>   114</td>      <th>                     </th>     <td> </td>   \n",
       "</tr>\n",
       "<tr>\n",
       "  <th>Covariance Type:</th>      <td>nonrobust</td>    <th>                     </th>     <td> </td>   \n",
       "</tr>\n",
       "</table>\n",
       "<table class=\"simpletable\">\n",
       "<tr>\n",
       "                          <td></td>                            <th>coef</th>     <th>std err</th>      <th>t</th>      <th>P>|t|</th>  <th>[0.025</th>    <th>0.975]</th>  \n",
       "</tr>\n",
       "<tr>\n",
       "  <th>const</th>                                            <td>    0.2193</td> <td>    0.132</td> <td>    1.667</td> <td> 0.096</td> <td>   -0.039</td> <td>    0.477</td>\n",
       "</tr>\n",
       "<tr>\n",
       "  <th>num_captures</th>                                     <td>-4.601e-10</td> <td> 7.66e-12</td> <td>  -60.045</td> <td> 0.000</td> <td>-4.75e-10</td> <td>-4.45e-10</td>\n",
       "</tr>\n",
       "<tr>\n",
       "  <th>end_yr_1998.0</th>                                    <td>    0.0124</td> <td>    0.130</td> <td>    0.096</td> <td> 0.924</td> <td>   -0.242</td> <td>    0.267</td>\n",
       "</tr>\n",
       "<tr>\n",
       "  <th>end_yr_1999.0</th>                                    <td>   -0.0015</td> <td>    0.118</td> <td>   -0.013</td> <td> 0.990</td> <td>   -0.232</td> <td>    0.229</td>\n",
       "</tr>\n",
       "<tr>\n",
       "  <th>end_yr_2000.0</th>                                    <td>   -0.0006</td> <td>    0.117</td> <td>   -0.005</td> <td> 0.996</td> <td>   -0.230</td> <td>    0.229</td>\n",
       "</tr>\n",
       "<tr>\n",
       "  <th>end_yr_2001.0</th>                                    <td>    0.0026</td> <td>    0.117</td> <td>    0.022</td> <td> 0.982</td> <td>   -0.227</td> <td>    0.232</td>\n",
       "</tr>\n",
       "<tr>\n",
       "  <th>end_yr_2002.0</th>                                    <td>    0.0073</td> <td>    0.117</td> <td>    0.062</td> <td> 0.950</td> <td>   -0.222</td> <td>    0.237</td>\n",
       "</tr>\n",
       "<tr>\n",
       "  <th>end_yr_2003.0</th>                                    <td>    0.0113</td> <td>    0.117</td> <td>    0.096</td> <td> 0.923</td> <td>   -0.219</td> <td>    0.241</td>\n",
       "</tr>\n",
       "<tr>\n",
       "  <th>end_yr_2004.0</th>                                    <td>    0.0099</td> <td>    0.117</td> <td>    0.085</td> <td> 0.932</td> <td>   -0.219</td> <td>    0.239</td>\n",
       "</tr>\n",
       "<tr>\n",
       "  <th>end_yr_2005.0</th>                                    <td>    0.0184</td> <td>    0.117</td> <td>    0.158</td> <td> 0.875</td> <td>   -0.211</td> <td>    0.248</td>\n",
       "</tr>\n",
       "<tr>\n",
       "  <th>end_yr_2006.0</th>                                    <td>    0.0170</td> <td>    0.117</td> <td>    0.146</td> <td> 0.884</td> <td>   -0.212</td> <td>    0.246</td>\n",
       "</tr>\n",
       "<tr>\n",
       "  <th>end_yr_2007.0</th>                                    <td>    0.0239</td> <td>    0.117</td> <td>    0.205</td> <td> 0.838</td> <td>   -0.205</td> <td>    0.253</td>\n",
       "</tr>\n",
       "<tr>\n",
       "  <th>end_yr_2008.0</th>                                    <td>    0.0366</td> <td>    0.117</td> <td>    0.313</td> <td> 0.754</td> <td>   -0.193</td> <td>    0.266</td>\n",
       "</tr>\n",
       "<tr>\n",
       "  <th>end_yr_2009.0</th>                                    <td>    0.0311</td> <td>    0.117</td> <td>    0.266</td> <td> 0.790</td> <td>   -0.198</td> <td>    0.260</td>\n",
       "</tr>\n",
       "<tr>\n",
       "  <th>end_yr_2010.0</th>                                    <td>    0.0340</td> <td>    0.117</td> <td>    0.292</td> <td> 0.770</td> <td>   -0.195</td> <td>    0.263</td>\n",
       "</tr>\n",
       "<tr>\n",
       "  <th>end_yr_2011.0</th>                                    <td>    0.0380</td> <td>    0.117</td> <td>    0.326</td> <td> 0.745</td> <td>   -0.191</td> <td>    0.266</td>\n",
       "</tr>\n",
       "<tr>\n",
       "  <th>end_yr_2012.0</th>                                    <td>    0.0346</td> <td>    0.117</td> <td>    0.297</td> <td> 0.766</td> <td>   -0.194</td> <td>    0.263</td>\n",
       "</tr>\n",
       "<tr>\n",
       "  <th>end_yr_2013.0</th>                                    <td>    0.0393</td> <td>    0.117</td> <td>    0.337</td> <td> 0.736</td> <td>   -0.189</td> <td>    0.268</td>\n",
       "</tr>\n",
       "<tr>\n",
       "  <th>end_yr_2014.0</th>                                    <td>    0.0396</td> <td>    0.116</td> <td>    0.340</td> <td> 0.734</td> <td>   -0.189</td> <td>    0.268</td>\n",
       "</tr>\n",
       "<tr>\n",
       "  <th>end_yr_2015.0</th>                                    <td>    0.0440</td> <td>    0.117</td> <td>    0.377</td> <td> 0.706</td> <td>   -0.184</td> <td>    0.272</td>\n",
       "</tr>\n",
       "<tr>\n",
       "  <th>end_yr_2016.0</th>                                    <td>    0.0431</td> <td>    0.117</td> <td>    0.370</td> <td> 0.712</td> <td>   -0.185</td> <td>    0.272</td>\n",
       "</tr>\n",
       "<tr>\n",
       "  <th>end_yr_2017.0</th>                                    <td>    0.0409</td> <td>    0.116</td> <td>    0.351</td> <td> 0.725</td> <td>   -0.187</td> <td>    0.269</td>\n",
       "</tr>\n",
       "<tr>\n",
       "  <th>end_yr_2018.0</th>                                    <td>    0.0435</td> <td>    0.116</td> <td>    0.374</td> <td> 0.709</td> <td>   -0.185</td> <td>    0.272</td>\n",
       "</tr>\n",
       "<tr>\n",
       "  <th>end_yr_2019.0</th>                                    <td>    0.0430</td> <td>    0.116</td> <td>    0.369</td> <td> 0.712</td> <td>   -0.185</td> <td>    0.271</td>\n",
       "</tr>\n",
       "<tr>\n",
       "  <th>end_yr_2020.0</th>                                    <td>    0.4745</td> <td>    0.122</td> <td>    3.875</td> <td> 0.000</td> <td>    0.234</td> <td>    0.715</td>\n",
       "</tr>\n",
       "<tr>\n",
       "  <th>end_yr_2021.0</th>                                    <td>    0.4378</td> <td>    0.117</td> <td>    3.734</td> <td> 0.000</td> <td>    0.208</td> <td>    0.668</td>\n",
       "</tr>\n",
       "<tr>\n",
       "  <th>end_yr_2022.0</th>                                    <td>    0.4444</td> <td>    0.117</td> <td>    3.795</td> <td> 0.000</td> <td>    0.215</td> <td>    0.674</td>\n",
       "</tr>\n",
       "<tr>\n",
       "  <th>end_yr_2023.0</th>                                    <td>    0.9085</td> <td>    0.116</td> <td>    7.827</td> <td> 0.000</td> <td>    0.681</td> <td>    1.136</td>\n",
       "</tr>\n",
       "<tr>\n",
       "  <th>new_industrygroup_Consumer Goods</th>                 <td>    0.0445</td> <td>    0.012</td> <td>    3.573</td> <td> 0.000</td> <td>    0.020</td> <td>    0.069</td>\n",
       "</tr>\n",
       "<tr>\n",
       "  <th>new_industrygroup_Consumer Services</th>              <td>    0.0427</td> <td>    0.007</td> <td>    6.310</td> <td> 0.000</td> <td>    0.029</td> <td>    0.056</td>\n",
       "</tr>\n",
       "<tr>\n",
       "  <th>new_industrygroup_Energy and Utilities</th>           <td>    0.0119</td> <td>    0.018</td> <td>    0.676</td> <td> 0.499</td> <td>   -0.023</td> <td>    0.046</td>\n",
       "</tr>\n",
       "<tr>\n",
       "  <th>new_industrygroup_Healthcare</th>                     <td>    0.0100</td> <td>    0.007</td> <td>    1.485</td> <td> 0.137</td> <td>   -0.003</td> <td>    0.023</td>\n",
       "</tr>\n",
       "<tr>\n",
       "  <th>new_industrygroup_Industrial Goods and Materials</th> <td>   -0.0009</td> <td>    0.014</td> <td>   -0.063</td> <td> 0.950</td> <td>   -0.029</td> <td>    0.027</td>\n",
       "</tr>\n",
       "<tr>\n",
       "  <th>new_industrygroup_Information Technology</th>         <td>    0.0245</td> <td>    0.005</td> <td>    4.457</td> <td> 0.000</td> <td>    0.014</td> <td>    0.035</td>\n",
       "</tr>\n",
       "<tr>\n",
       "  <th>new_industrygroup_To Be Assigned</th>                 <td>    0.1115</td> <td>    0.257</td> <td>    0.433</td> <td> 0.665</td> <td>   -0.393</td> <td>    0.616</td>\n",
       "</tr>\n",
       "<tr>\n",
       "  <th>state_AL</th>                                         <td>   -0.2475</td> <td>    0.072</td> <td>   -3.424</td> <td> 0.001</td> <td>   -0.389</td> <td>   -0.106</td>\n",
       "</tr>\n",
       "<tr>\n",
       "  <th>state_AR</th>                                         <td>   -0.3334</td> <td>    0.093</td> <td>   -3.584</td> <td> 0.000</td> <td>   -0.516</td> <td>   -0.151</td>\n",
       "</tr>\n",
       "<tr>\n",
       "  <th>state_AZ</th>                                         <td>   -0.2420</td> <td>    0.067</td> <td>   -3.614</td> <td> 0.000</td> <td>   -0.373</td> <td>   -0.111</td>\n",
       "</tr>\n",
       "<tr>\n",
       "  <th>state_CA</th>                                         <td>   -0.2356</td> <td>    0.063</td> <td>   -3.758</td> <td> 0.000</td> <td>   -0.359</td> <td>   -0.113</td>\n",
       "</tr>\n",
       "<tr>\n",
       "  <th>state_CO</th>                                         <td>   -0.2607</td> <td>    0.064</td> <td>   -4.081</td> <td> 0.000</td> <td>   -0.386</td> <td>   -0.136</td>\n",
       "</tr>\n",
       "<tr>\n",
       "  <th>state_CT</th>                                         <td>   -0.2453</td> <td>    0.066</td> <td>   -3.732</td> <td> 0.000</td> <td>   -0.374</td> <td>   -0.116</td>\n",
       "</tr>\n",
       "<tr>\n",
       "  <th>state_Ca</th>                                         <td>   -0.1663</td> <td>    0.265</td> <td>   -0.628</td> <td> 0.530</td> <td>   -0.685</td> <td>    0.352</td>\n",
       "</tr>\n",
       "<tr>\n",
       "  <th>state_DC</th>                                         <td>   -0.2607</td> <td>    0.068</td> <td>   -3.821</td> <td> 0.000</td> <td>   -0.394</td> <td>   -0.127</td>\n",
       "</tr>\n",
       "<tr>\n",
       "  <th>state_DE</th>                                         <td>   -0.1809</td> <td>    0.068</td> <td>   -2.645</td> <td> 0.008</td> <td>   -0.315</td> <td>   -0.047</td>\n",
       "</tr>\n",
       "<tr>\n",
       "  <th>state_FL</th>                                         <td>   -0.2659</td> <td>    0.064</td> <td>   -4.156</td> <td> 0.000</td> <td>   -0.391</td> <td>   -0.140</td>\n",
       "</tr>\n",
       "<tr>\n",
       "  <th>state_GA</th>                                         <td>   -0.2558</td> <td>    0.064</td> <td>   -3.984</td> <td> 0.000</td> <td>   -0.382</td> <td>   -0.130</td>\n",
       "</tr>\n",
       "<tr>\n",
       "  <th>state_HI</th>                                         <td>   -0.1554</td> <td>    0.085</td> <td>   -1.826</td> <td> 0.068</td> <td>   -0.322</td> <td>    0.011</td>\n",
       "</tr>\n",
       "<tr>\n",
       "  <th>state_IA</th>                                         <td>   -0.3168</td> <td>    0.079</td> <td>   -3.996</td> <td> 0.000</td> <td>   -0.472</td> <td>   -0.161</td>\n",
       "</tr>\n",
       "<tr>\n",
       "  <th>state_ID</th>                                         <td>   -0.3009</td> <td>    0.087</td> <td>   -3.449</td> <td> 0.001</td> <td>   -0.472</td> <td>   -0.130</td>\n",
       "</tr>\n",
       "<tr>\n",
       "  <th>state_IL</th>                                         <td>   -0.2795</td> <td>    0.064</td> <td>   -4.363</td> <td> 0.000</td> <td>   -0.405</td> <td>   -0.154</td>\n",
       "</tr>\n",
       "<tr>\n",
       "  <th>state_IN</th>                                         <td>   -0.2293</td> <td>    0.068</td> <td>   -3.385</td> <td> 0.001</td> <td>   -0.362</td> <td>   -0.097</td>\n",
       "</tr>\n",
       "<tr>\n",
       "  <th>state_KS</th>                                         <td>   -0.2228</td> <td>    0.076</td> <td>   -2.947</td> <td> 0.003</td> <td>   -0.371</td> <td>   -0.075</td>\n",
       "</tr>\n",
       "<tr>\n",
       "  <th>state_KY</th>                                         <td>   -0.1819</td> <td>    0.073</td> <td>   -2.503</td> <td> 0.012</td> <td>   -0.324</td> <td>   -0.039</td>\n",
       "</tr>\n",
       "<tr>\n",
       "  <th>state_LA</th>                                         <td>   -0.0031</td> <td>    0.083</td> <td>   -0.037</td> <td> 0.970</td> <td>   -0.166</td> <td>    0.160</td>\n",
       "</tr>\n",
       "<tr>\n",
       "  <th>state_MA</th>                                         <td>   -0.2474</td> <td>    0.063</td> <td>   -3.926</td> <td> 0.000</td> <td>   -0.371</td> <td>   -0.124</td>\n",
       "</tr>\n",
       "<tr>\n",
       "  <th>state_MD</th>                                         <td>   -0.2466</td> <td>    0.065</td> <td>   -3.806</td> <td> 0.000</td> <td>   -0.374</td> <td>   -0.120</td>\n",
       "</tr>\n",
       "<tr>\n",
       "  <th>state_ME</th>                                         <td>   -0.2399</td> <td>    0.082</td> <td>   -2.928</td> <td> 0.003</td> <td>   -0.400</td> <td>   -0.079</td>\n",
       "</tr>\n",
       "<tr>\n",
       "  <th>state_MI</th>                                         <td>   -0.2471</td> <td>    0.066</td> <td>   -3.723</td> <td> 0.000</td> <td>   -0.377</td> <td>   -0.117</td>\n",
       "</tr>\n",
       "<tr>\n",
       "  <th>state_MN</th>                                         <td>   -0.2862</td> <td>    0.066</td> <td>   -4.361</td> <td> 0.000</td> <td>   -0.415</td> <td>   -0.158</td>\n",
       "</tr>\n",
       "<tr>\n",
       "  <th>state_MO</th>                                         <td>   -0.2470</td> <td>    0.069</td> <td>   -3.592</td> <td> 0.000</td> <td>   -0.382</td> <td>   -0.112</td>\n",
       "</tr>\n",
       "<tr>\n",
       "  <th>state_MS</th>                                         <td>   -0.1069</td> <td>    0.122</td> <td>   -0.874</td> <td> 0.382</td> <td>   -0.347</td> <td>    0.133</td>\n",
       "</tr>\n",
       "<tr>\n",
       "  <th>state_MT</th>                                         <td>   -0.0674</td> <td>    0.116</td> <td>   -0.583</td> <td> 0.560</td> <td>   -0.294</td> <td>    0.159</td>\n",
       "</tr>\n",
       "<tr>\n",
       "  <th>state_NC</th>                                         <td>   -0.2473</td> <td>    0.064</td> <td>   -3.836</td> <td> 0.000</td> <td>   -0.374</td> <td>   -0.121</td>\n",
       "</tr>\n",
       "<tr>\n",
       "  <th>state_ND</th>                                         <td>   -0.2002</td> <td>    0.193</td> <td>   -1.039</td> <td> 0.299</td> <td>   -0.578</td> <td>    0.177</td>\n",
       "</tr>\n",
       "<tr>\n",
       "  <th>state_NE</th>                                         <td>   -0.2792</td> <td>    0.081</td> <td>   -3.445</td> <td> 0.001</td> <td>   -0.438</td> <td>   -0.120</td>\n",
       "</tr>\n",
       "<tr>\n",
       "  <th>state_NH</th>                                         <td>   -0.2989</td> <td>    0.071</td> <td>   -4.207</td> <td> 0.000</td> <td>   -0.438</td> <td>   -0.160</td>\n",
       "</tr>\n",
       "<tr>\n",
       "  <th>state_NJ</th>                                         <td>   -0.2599</td> <td>    0.064</td> <td>   -4.039</td> <td> 0.000</td> <td>   -0.386</td> <td>   -0.134</td>\n",
       "</tr>\n",
       "<tr>\n",
       "  <th>state_NM</th>                                         <td>   -0.2318</td> <td>    0.083</td> <td>   -2.809</td> <td> 0.005</td> <td>   -0.394</td> <td>   -0.070</td>\n",
       "</tr>\n",
       "<tr>\n",
       "  <th>state_NV</th>                                         <td>   -0.2589</td> <td>    0.071</td> <td>   -3.664</td> <td> 0.000</td> <td>   -0.397</td> <td>   -0.120</td>\n",
       "</tr>\n",
       "<tr>\n",
       "  <th>state_NY</th>                                         <td>   -0.2613</td> <td>    0.063</td> <td>   -4.151</td> <td> 0.000</td> <td>   -0.385</td> <td>   -0.138</td>\n",
       "</tr>\n",
       "<tr>\n",
       "  <th>state_OH</th>                                         <td>   -0.2910</td> <td>    0.066</td> <td>   -4.426</td> <td> 0.000</td> <td>   -0.420</td> <td>   -0.162</td>\n",
       "</tr>\n",
       "<tr>\n",
       "  <th>state_OK</th>                                         <td>   -0.2501</td> <td>    0.083</td> <td>   -3.031</td> <td> 0.002</td> <td>   -0.412</td> <td>   -0.088</td>\n",
       "</tr>\n",
       "<tr>\n",
       "  <th>state_OR</th>                                         <td>   -0.2584</td> <td>    0.066</td> <td>   -3.934</td> <td> 0.000</td> <td>   -0.387</td> <td>   -0.130</td>\n",
       "</tr>\n",
       "<tr>\n",
       "  <th>state_PA</th>                                         <td>   -0.2680</td> <td>    0.064</td> <td>   -4.201</td> <td> 0.000</td> <td>   -0.393</td> <td>   -0.143</td>\n",
       "</tr>\n",
       "<tr>\n",
       "  <th>state_PR</th>                                         <td>   -0.4435</td> <td>    0.122</td> <td>   -3.625</td> <td> 0.000</td> <td>   -0.683</td> <td>   -0.204</td>\n",
       "</tr>\n",
       "<tr>\n",
       "  <th>state_RI</th>                                         <td>   -0.2559</td> <td>    0.077</td> <td>   -3.341</td> <td> 0.001</td> <td>   -0.406</td> <td>   -0.106</td>\n",
       "</tr>\n",
       "<tr>\n",
       "  <th>state_SC</th>                                         <td>   -0.1913</td> <td>    0.076</td> <td>   -2.519</td> <td> 0.012</td> <td>   -0.340</td> <td>   -0.042</td>\n",
       "</tr>\n",
       "<tr>\n",
       "  <th>state_SD</th>                                         <td>   -0.3229</td> <td>    0.143</td> <td>   -2.256</td> <td> 0.024</td> <td>   -0.604</td> <td>   -0.042</td>\n",
       "</tr>\n",
       "<tr>\n",
       "  <th>state_TN</th>                                         <td>   -0.3139</td> <td>    0.067</td> <td>   -4.690</td> <td> 0.000</td> <td>   -0.445</td> <td>   -0.183</td>\n",
       "</tr>\n",
       "<tr>\n",
       "  <th>state_TX</th>                                         <td>   -0.2749</td> <td>    0.063</td> <td>   -4.348</td> <td> 0.000</td> <td>   -0.399</td> <td>   -0.151</td>\n",
       "</tr>\n",
       "<tr>\n",
       "  <th>state_UT</th>                                         <td>   -0.3045</td> <td>    0.065</td> <td>   -4.660</td> <td> 0.000</td> <td>   -0.433</td> <td>   -0.176</td>\n",
       "</tr>\n",
       "<tr>\n",
       "  <th>state_VA</th>                                         <td>   -0.2629</td> <td>    0.064</td> <td>   -4.094</td> <td> 0.000</td> <td>   -0.389</td> <td>   -0.137</td>\n",
       "</tr>\n",
       "<tr>\n",
       "  <th>state_VI</th>                                         <td>   -0.2005</td> <td>    0.192</td> <td>   -1.042</td> <td> 0.298</td> <td>   -0.578</td> <td>    0.177</td>\n",
       "</tr>\n",
       "<tr>\n",
       "  <th>state_VT</th>                                         <td>   -0.2024</td> <td>    0.082</td> <td>   -2.475</td> <td> 0.013</td> <td>   -0.363</td> <td>   -0.042</td>\n",
       "</tr>\n",
       "<tr>\n",
       "  <th>state_WA</th>                                         <td>   -0.2390</td> <td>    0.063</td> <td>   -3.764</td> <td> 0.000</td> <td>   -0.363</td> <td>   -0.115</td>\n",
       "</tr>\n",
       "<tr>\n",
       "  <th>state_WI</th>                                         <td>   -0.2539</td> <td>    0.068</td> <td>   -3.709</td> <td> 0.000</td> <td>   -0.388</td> <td>   -0.120</td>\n",
       "</tr>\n",
       "<tr>\n",
       "  <th>state_WV</th>                                         <td>   -0.4480</td> <td>    0.103</td> <td>   -4.359</td> <td> 0.000</td> <td>   -0.649</td> <td>   -0.247</td>\n",
       "</tr>\n",
       "<tr>\n",
       "  <th>state_WY</th>                                         <td>   -0.3900</td> <td>    0.192</td> <td>   -2.028</td> <td> 0.043</td> <td>   -0.767</td> <td>   -0.013</td>\n",
       "</tr>\n",
       "<tr>\n",
       "  <th>start_yr_1997.0</th>                                  <td>    0.0032</td> <td>    0.014</td> <td>    0.228</td> <td> 0.820</td> <td>   -0.024</td> <td>    0.030</td>\n",
       "</tr>\n",
       "<tr>\n",
       "  <th>start_yr_1998.0</th>                                  <td>    0.0028</td> <td>    0.013</td> <td>    0.219</td> <td> 0.826</td> <td>   -0.023</td> <td>    0.028</td>\n",
       "</tr>\n",
       "<tr>\n",
       "  <th>start_yr_1999.0</th>                                  <td>    0.0142</td> <td>    0.012</td> <td>    1.181</td> <td> 0.238</td> <td>   -0.009</td> <td>    0.038</td>\n",
       "</tr>\n",
       "<tr>\n",
       "  <th>start_yr_2000.0</th>                                  <td>   -0.0035</td> <td>    0.013</td> <td>   -0.278</td> <td> 0.781</td> <td>   -0.028</td> <td>    0.021</td>\n",
       "</tr>\n",
       "<tr>\n",
       "  <th>start_yr_2001.0</th>                                  <td>   -0.0246</td> <td>    0.015</td> <td>   -1.646</td> <td> 0.100</td> <td>   -0.054</td> <td>    0.005</td>\n",
       "</tr>\n",
       "<tr>\n",
       "  <th>start_yr_2002.0</th>                                  <td>   -0.0283</td> <td>    0.015</td> <td>   -1.849</td> <td> 0.064</td> <td>   -0.058</td> <td>    0.002</td>\n",
       "</tr>\n",
       "<tr>\n",
       "  <th>start_yr_2003.0</th>                                  <td>   -0.0310</td> <td>    0.015</td> <td>   -2.045</td> <td> 0.041</td> <td>   -0.061</td> <td>   -0.001</td>\n",
       "</tr>\n",
       "<tr>\n",
       "  <th>start_yr_2004.0</th>                                  <td>   -0.0387</td> <td>    0.015</td> <td>   -2.581</td> <td> 0.010</td> <td>   -0.068</td> <td>   -0.009</td>\n",
       "</tr>\n",
       "<tr>\n",
       "  <th>start_yr_2005.0</th>                                  <td>   -0.0362</td> <td>    0.015</td> <td>   -2.450</td> <td> 0.014</td> <td>   -0.065</td> <td>   -0.007</td>\n",
       "</tr>\n",
       "<tr>\n",
       "  <th>start_yr_2006.0</th>                                  <td>   -0.0371</td> <td>    0.015</td> <td>   -2.550</td> <td> 0.011</td> <td>   -0.066</td> <td>   -0.009</td>\n",
       "</tr>\n",
       "<tr>\n",
       "  <th>start_yr_2007.0</th>                                  <td>   -0.0391</td> <td>    0.014</td> <td>   -2.703</td> <td> 0.007</td> <td>   -0.067</td> <td>   -0.011</td>\n",
       "</tr>\n",
       "<tr>\n",
       "  <th>start_yr_2008.0</th>                                  <td>   -0.0460</td> <td>    0.015</td> <td>   -3.066</td> <td> 0.002</td> <td>   -0.075</td> <td>   -0.017</td>\n",
       "</tr>\n",
       "<tr>\n",
       "  <th>start_yr_2009.0</th>                                  <td>   -0.0452</td> <td>    0.015</td> <td>   -2.982</td> <td> 0.003</td> <td>   -0.075</td> <td>   -0.015</td>\n",
       "</tr>\n",
       "<tr>\n",
       "  <th>start_yr_2010.0</th>                                  <td>   -0.0291</td> <td>    0.015</td> <td>   -1.992</td> <td> 0.046</td> <td>   -0.058</td> <td>   -0.000</td>\n",
       "</tr>\n",
       "<tr>\n",
       "  <th>start_yr_2011.0</th>                                  <td>   -0.0419</td> <td>    0.014</td> <td>   -2.918</td> <td> 0.004</td> <td>   -0.070</td> <td>   -0.014</td>\n",
       "</tr>\n",
       "<tr>\n",
       "  <th>start_yr_2012.0</th>                                  <td>   -0.0302</td> <td>    0.014</td> <td>   -2.093</td> <td> 0.036</td> <td>   -0.058</td> <td>   -0.002</td>\n",
       "</tr>\n",
       "<tr>\n",
       "  <th>start_yr_2013.0</th>                                  <td>   -0.0204</td> <td>    0.015</td> <td>   -1.362</td> <td> 0.173</td> <td>   -0.050</td> <td>    0.009</td>\n",
       "</tr>\n",
       "<tr>\n",
       "  <th>start_yr_2014.0</th>                                  <td>   -0.0290</td> <td>    0.015</td> <td>   -1.914</td> <td> 0.056</td> <td>   -0.059</td> <td>    0.001</td>\n",
       "</tr>\n",
       "<tr>\n",
       "  <th>start_yr_2015.0</th>                                  <td>   -0.0325</td> <td>    0.016</td> <td>   -2.008</td> <td> 0.045</td> <td>   -0.064</td> <td>   -0.001</td>\n",
       "</tr>\n",
       "<tr>\n",
       "  <th>start_yr_2016.0</th>                                  <td>   -0.0674</td> <td>    0.018</td> <td>   -3.736</td> <td> 0.000</td> <td>   -0.103</td> <td>   -0.032</td>\n",
       "</tr>\n",
       "<tr>\n",
       "  <th>start_yr_2017.0</th>                                  <td>    0.0182</td> <td>    0.018</td> <td>    1.003</td> <td> 0.316</td> <td>   -0.017</td> <td>    0.054</td>\n",
       "</tr>\n",
       "<tr>\n",
       "  <th>start_yr_2018.0</th>                                  <td>    0.0609</td> <td>    0.019</td> <td>    3.225</td> <td> 0.001</td> <td>    0.024</td> <td>    0.098</td>\n",
       "</tr>\n",
       "<tr>\n",
       "  <th>start_yr_2019.0</th>                                  <td>    0.0723</td> <td>    0.020</td> <td>    3.622</td> <td> 0.000</td> <td>    0.033</td> <td>    0.111</td>\n",
       "</tr>\n",
       "<tr>\n",
       "  <th>start_yr_2020.0</th>                                  <td>    0.1013</td> <td>    0.021</td> <td>    4.821</td> <td> 0.000</td> <td>    0.060</td> <td>    0.143</td>\n",
       "</tr>\n",
       "<tr>\n",
       "  <th>start_yr_2021.0</th>                                  <td>    0.1735</td> <td>    0.027</td> <td>    6.405</td> <td> 0.000</td> <td>    0.120</td> <td>    0.227</td>\n",
       "</tr>\n",
       "<tr>\n",
       "  <th>start_yr_2022.0</th>                                  <td>    0.0994</td> <td>    0.051</td> <td>    1.943</td> <td> 0.052</td> <td>   -0.001</td> <td>    0.200</td>\n",
       "</tr>\n",
       "<tr>\n",
       "  <th>start_yr_2023.0</th>                                  <td>   -0.0378</td> <td>    0.116</td> <td>   -0.326</td> <td> 0.744</td> <td>   -0.265</td> <td>    0.189</td>\n",
       "</tr>\n",
       "</table>\n",
       "<table class=\"simpletable\">\n",
       "<tr>\n",
       "  <th>Omnibus:</th>       <td>2107.793</td> <th>  Durbin-Watson:     </th> <td>   1.899</td>\n",
       "</tr>\n",
       "<tr>\n",
       "  <th>Prob(Omnibus):</th>  <td> 0.000</td>  <th>  Jarque-Bera (JB):  </th> <td>8467.514</td>\n",
       "</tr>\n",
       "<tr>\n",
       "  <th>Skew:</th>           <td>-0.580</td>  <th>  Prob(JB):          </th> <td>    0.00</td>\n",
       "</tr>\n",
       "<tr>\n",
       "  <th>Kurtosis:</th>       <td> 6.279</td>  <th>  Cond. No.          </th> <td>1.43e+11</td>\n",
       "</tr>\n",
       "</table><br/><br/>Notes:<br/>[1] Standard Errors assume that the covariance matrix of the errors is correctly specified.<br/>[2] The condition number is large, 1.43e+11. This might indicate that there are<br/>strong multicollinearity or other numerical problems."
      ],
      "text/latex": [
       "\\begin{center}\n",
       "\\begin{tabular}{lclc}\n",
       "\\toprule\n",
       "\\textbf{Dep. Variable:}                                     &      Failed      & \\textbf{  R-squared:         } &     0.674   \\\\\n",
       "\\textbf{Model:}                                             &       OLS        & \\textbf{  Adj. R-squared:    } &     0.672   \\\\\n",
       "\\textbf{Method:}                                            &  Least Squares   & \\textbf{  F-statistic:       } &     302.3   \\\\\n",
       "\\textbf{Date:}                                              & Fri, 21 Jul 2023 & \\textbf{  Prob (F-statistic):} &     0.00    \\\\\n",
       "\\textbf{Time:}                                              &     11:49:57     & \\textbf{  Log-Likelihood:    } &   -956.55   \\\\\n",
       "\\textbf{No. Observations:}                                  &       16795      & \\textbf{  AIC:               } &     2143.   \\\\\n",
       "\\textbf{Df Residuals:}                                      &       16680      & \\textbf{  BIC:               } &     3032.   \\\\\n",
       "\\textbf{Df Model:}                                          &         114      & \\textbf{                     } &             \\\\\n",
       "\\textbf{Covariance Type:}                                   &    nonrobust     & \\textbf{                     } &             \\\\\n",
       "\\bottomrule\n",
       "\\end{tabular}\n",
       "\\begin{tabular}{lcccccc}\n",
       "                                                            & \\textbf{coef} & \\textbf{std err} & \\textbf{t} & \\textbf{P$> |$t$|$} & \\textbf{[0.025} & \\textbf{0.975]}  \\\\\n",
       "\\midrule\n",
       "\\textbf{const}                                              &       0.2193  &        0.132     &     1.667  &         0.096        &       -0.039    &        0.477     \\\\\n",
       "\\textbf{num\\_captures}                                      &   -4.601e-10  &     7.66e-12     &   -60.045  &         0.000        &    -4.75e-10    &    -4.45e-10     \\\\\n",
       "\\textbf{end\\_yr\\_1998.0}                                    &       0.0124  &        0.130     &     0.096  &         0.924        &       -0.242    &        0.267     \\\\\n",
       "\\textbf{end\\_yr\\_1999.0}                                    &      -0.0015  &        0.118     &    -0.013  &         0.990        &       -0.232    &        0.229     \\\\\n",
       "\\textbf{end\\_yr\\_2000.0}                                    &      -0.0006  &        0.117     &    -0.005  &         0.996        &       -0.230    &        0.229     \\\\\n",
       "\\textbf{end\\_yr\\_2001.0}                                    &       0.0026  &        0.117     &     0.022  &         0.982        &       -0.227    &        0.232     \\\\\n",
       "\\textbf{end\\_yr\\_2002.0}                                    &       0.0073  &        0.117     &     0.062  &         0.950        &       -0.222    &        0.237     \\\\\n",
       "\\textbf{end\\_yr\\_2003.0}                                    &       0.0113  &        0.117     &     0.096  &         0.923        &       -0.219    &        0.241     \\\\\n",
       "\\textbf{end\\_yr\\_2004.0}                                    &       0.0099  &        0.117     &     0.085  &         0.932        &       -0.219    &        0.239     \\\\\n",
       "\\textbf{end\\_yr\\_2005.0}                                    &       0.0184  &        0.117     &     0.158  &         0.875        &       -0.211    &        0.248     \\\\\n",
       "\\textbf{end\\_yr\\_2006.0}                                    &       0.0170  &        0.117     &     0.146  &         0.884        &       -0.212    &        0.246     \\\\\n",
       "\\textbf{end\\_yr\\_2007.0}                                    &       0.0239  &        0.117     &     0.205  &         0.838        &       -0.205    &        0.253     \\\\\n",
       "\\textbf{end\\_yr\\_2008.0}                                    &       0.0366  &        0.117     &     0.313  &         0.754        &       -0.193    &        0.266     \\\\\n",
       "\\textbf{end\\_yr\\_2009.0}                                    &       0.0311  &        0.117     &     0.266  &         0.790        &       -0.198    &        0.260     \\\\\n",
       "\\textbf{end\\_yr\\_2010.0}                                    &       0.0340  &        0.117     &     0.292  &         0.770        &       -0.195    &        0.263     \\\\\n",
       "\\textbf{end\\_yr\\_2011.0}                                    &       0.0380  &        0.117     &     0.326  &         0.745        &       -0.191    &        0.266     \\\\\n",
       "\\textbf{end\\_yr\\_2012.0}                                    &       0.0346  &        0.117     &     0.297  &         0.766        &       -0.194    &        0.263     \\\\\n",
       "\\textbf{end\\_yr\\_2013.0}                                    &       0.0393  &        0.117     &     0.337  &         0.736        &       -0.189    &        0.268     \\\\\n",
       "\\textbf{end\\_yr\\_2014.0}                                    &       0.0396  &        0.116     &     0.340  &         0.734        &       -0.189    &        0.268     \\\\\n",
       "\\textbf{end\\_yr\\_2015.0}                                    &       0.0440  &        0.117     &     0.377  &         0.706        &       -0.184    &        0.272     \\\\\n",
       "\\textbf{end\\_yr\\_2016.0}                                    &       0.0431  &        0.117     &     0.370  &         0.712        &       -0.185    &        0.272     \\\\\n",
       "\\textbf{end\\_yr\\_2017.0}                                    &       0.0409  &        0.116     &     0.351  &         0.725        &       -0.187    &        0.269     \\\\\n",
       "\\textbf{end\\_yr\\_2018.0}                                    &       0.0435  &        0.116     &     0.374  &         0.709        &       -0.185    &        0.272     \\\\\n",
       "\\textbf{end\\_yr\\_2019.0}                                    &       0.0430  &        0.116     &     0.369  &         0.712        &       -0.185    &        0.271     \\\\\n",
       "\\textbf{end\\_yr\\_2020.0}                                    &       0.4745  &        0.122     &     3.875  &         0.000        &        0.234    &        0.715     \\\\\n",
       "\\textbf{end\\_yr\\_2021.0}                                    &       0.4378  &        0.117     &     3.734  &         0.000        &        0.208    &        0.668     \\\\\n",
       "\\textbf{end\\_yr\\_2022.0}                                    &       0.4444  &        0.117     &     3.795  &         0.000        &        0.215    &        0.674     \\\\\n",
       "\\textbf{end\\_yr\\_2023.0}                                    &       0.9085  &        0.116     &     7.827  &         0.000        &        0.681    &        1.136     \\\\\n",
       "\\textbf{new\\_industrygroup\\_Consumer Goods}                 &       0.0445  &        0.012     &     3.573  &         0.000        &        0.020    &        0.069     \\\\\n",
       "\\textbf{new\\_industrygroup\\_Consumer Services}              &       0.0427  &        0.007     &     6.310  &         0.000        &        0.029    &        0.056     \\\\\n",
       "\\textbf{new\\_industrygroup\\_Energy and Utilities}           &       0.0119  &        0.018     &     0.676  &         0.499        &       -0.023    &        0.046     \\\\\n",
       "\\textbf{new\\_industrygroup\\_Healthcare}                     &       0.0100  &        0.007     &     1.485  &         0.137        &       -0.003    &        0.023     \\\\\n",
       "\\textbf{new\\_industrygroup\\_Industrial Goods and Materials} &      -0.0009  &        0.014     &    -0.063  &         0.950        &       -0.029    &        0.027     \\\\\n",
       "\\textbf{new\\_industrygroup\\_Information Technology}         &       0.0245  &        0.005     &     4.457  &         0.000        &        0.014    &        0.035     \\\\\n",
       "\\textbf{new\\_industrygroup\\_To Be Assigned}                 &       0.1115  &        0.257     &     0.433  &         0.665        &       -0.393    &        0.616     \\\\\n",
       "\\textbf{state\\_AL}                                          &      -0.2475  &        0.072     &    -3.424  &         0.001        &       -0.389    &       -0.106     \\\\\n",
       "\\textbf{state\\_AR}                                          &      -0.3334  &        0.093     &    -3.584  &         0.000        &       -0.516    &       -0.151     \\\\\n",
       "\\textbf{state\\_AZ}                                          &      -0.2420  &        0.067     &    -3.614  &         0.000        &       -0.373    &       -0.111     \\\\\n",
       "\\textbf{state\\_CA}                                          &      -0.2356  &        0.063     &    -3.758  &         0.000        &       -0.359    &       -0.113     \\\\\n",
       "\\textbf{state\\_CO}                                          &      -0.2607  &        0.064     &    -4.081  &         0.000        &       -0.386    &       -0.136     \\\\\n",
       "\\textbf{state\\_CT}                                          &      -0.2453  &        0.066     &    -3.732  &         0.000        &       -0.374    &       -0.116     \\\\\n",
       "\\textbf{state\\_Ca}                                          &      -0.1663  &        0.265     &    -0.628  &         0.530        &       -0.685    &        0.352     \\\\\n",
       "\\textbf{state\\_DC}                                          &      -0.2607  &        0.068     &    -3.821  &         0.000        &       -0.394    &       -0.127     \\\\\n",
       "\\textbf{state\\_DE}                                          &      -0.1809  &        0.068     &    -2.645  &         0.008        &       -0.315    &       -0.047     \\\\\n",
       "\\textbf{state\\_FL}                                          &      -0.2659  &        0.064     &    -4.156  &         0.000        &       -0.391    &       -0.140     \\\\\n",
       "\\textbf{state\\_GA}                                          &      -0.2558  &        0.064     &    -3.984  &         0.000        &       -0.382    &       -0.130     \\\\\n",
       "\\textbf{state\\_HI}                                          &      -0.1554  &        0.085     &    -1.826  &         0.068        &       -0.322    &        0.011     \\\\\n",
       "\\textbf{state\\_IA}                                          &      -0.3168  &        0.079     &    -3.996  &         0.000        &       -0.472    &       -0.161     \\\\\n",
       "\\textbf{state\\_ID}                                          &      -0.3009  &        0.087     &    -3.449  &         0.001        &       -0.472    &       -0.130     \\\\\n",
       "\\textbf{state\\_IL}                                          &      -0.2795  &        0.064     &    -4.363  &         0.000        &       -0.405    &       -0.154     \\\\\n",
       "\\textbf{state\\_IN}                                          &      -0.2293  &        0.068     &    -3.385  &         0.001        &       -0.362    &       -0.097     \\\\\n",
       "\\textbf{state\\_KS}                                          &      -0.2228  &        0.076     &    -2.947  &         0.003        &       -0.371    &       -0.075     \\\\\n",
       "\\textbf{state\\_KY}                                          &      -0.1819  &        0.073     &    -2.503  &         0.012        &       -0.324    &       -0.039     \\\\\n",
       "\\textbf{state\\_LA}                                          &      -0.0031  &        0.083     &    -0.037  &         0.970        &       -0.166    &        0.160     \\\\\n",
       "\\textbf{state\\_MA}                                          &      -0.2474  &        0.063     &    -3.926  &         0.000        &       -0.371    &       -0.124     \\\\\n",
       "\\textbf{state\\_MD}                                          &      -0.2466  &        0.065     &    -3.806  &         0.000        &       -0.374    &       -0.120     \\\\\n",
       "\\textbf{state\\_ME}                                          &      -0.2399  &        0.082     &    -2.928  &         0.003        &       -0.400    &       -0.079     \\\\\n",
       "\\textbf{state\\_MI}                                          &      -0.2471  &        0.066     &    -3.723  &         0.000        &       -0.377    &       -0.117     \\\\\n",
       "\\textbf{state\\_MN}                                          &      -0.2862  &        0.066     &    -4.361  &         0.000        &       -0.415    &       -0.158     \\\\\n",
       "\\textbf{state\\_MO}                                          &      -0.2470  &        0.069     &    -3.592  &         0.000        &       -0.382    &       -0.112     \\\\\n",
       "\\textbf{state\\_MS}                                          &      -0.1069  &        0.122     &    -0.874  &         0.382        &       -0.347    &        0.133     \\\\\n",
       "\\textbf{state\\_MT}                                          &      -0.0674  &        0.116     &    -0.583  &         0.560        &       -0.294    &        0.159     \\\\\n",
       "\\textbf{state\\_NC}                                          &      -0.2473  &        0.064     &    -3.836  &         0.000        &       -0.374    &       -0.121     \\\\\n",
       "\\textbf{state\\_ND}                                          &      -0.2002  &        0.193     &    -1.039  &         0.299        &       -0.578    &        0.177     \\\\\n",
       "\\textbf{state\\_NE}                                          &      -0.2792  &        0.081     &    -3.445  &         0.001        &       -0.438    &       -0.120     \\\\\n",
       "\\textbf{state\\_NH}                                          &      -0.2989  &        0.071     &    -4.207  &         0.000        &       -0.438    &       -0.160     \\\\\n",
       "\\textbf{state\\_NJ}                                          &      -0.2599  &        0.064     &    -4.039  &         0.000        &       -0.386    &       -0.134     \\\\\n",
       "\\textbf{state\\_NM}                                          &      -0.2318  &        0.083     &    -2.809  &         0.005        &       -0.394    &       -0.070     \\\\\n",
       "\\textbf{state\\_NV}                                          &      -0.2589  &        0.071     &    -3.664  &         0.000        &       -0.397    &       -0.120     \\\\\n",
       "\\textbf{state\\_NY}                                          &      -0.2613  &        0.063     &    -4.151  &         0.000        &       -0.385    &       -0.138     \\\\\n",
       "\\textbf{state\\_OH}                                          &      -0.2910  &        0.066     &    -4.426  &         0.000        &       -0.420    &       -0.162     \\\\\n",
       "\\textbf{state\\_OK}                                          &      -0.2501  &        0.083     &    -3.031  &         0.002        &       -0.412    &       -0.088     \\\\\n",
       "\\textbf{state\\_OR}                                          &      -0.2584  &        0.066     &    -3.934  &         0.000        &       -0.387    &       -0.130     \\\\\n",
       "\\textbf{state\\_PA}                                          &      -0.2680  &        0.064     &    -4.201  &         0.000        &       -0.393    &       -0.143     \\\\\n",
       "\\textbf{state\\_PR}                                          &      -0.4435  &        0.122     &    -3.625  &         0.000        &       -0.683    &       -0.204     \\\\\n",
       "\\textbf{state\\_RI}                                          &      -0.2559  &        0.077     &    -3.341  &         0.001        &       -0.406    &       -0.106     \\\\\n",
       "\\textbf{state\\_SC}                                          &      -0.1913  &        0.076     &    -2.519  &         0.012        &       -0.340    &       -0.042     \\\\\n",
       "\\textbf{state\\_SD}                                          &      -0.3229  &        0.143     &    -2.256  &         0.024        &       -0.604    &       -0.042     \\\\\n",
       "\\textbf{state\\_TN}                                          &      -0.3139  &        0.067     &    -4.690  &         0.000        &       -0.445    &       -0.183     \\\\\n",
       "\\textbf{state\\_TX}                                          &      -0.2749  &        0.063     &    -4.348  &         0.000        &       -0.399    &       -0.151     \\\\\n",
       "\\textbf{state\\_UT}                                          &      -0.3045  &        0.065     &    -4.660  &         0.000        &       -0.433    &       -0.176     \\\\\n",
       "\\textbf{state\\_VA}                                          &      -0.2629  &        0.064     &    -4.094  &         0.000        &       -0.389    &       -0.137     \\\\\n",
       "\\textbf{state\\_VI}                                          &      -0.2005  &        0.192     &    -1.042  &         0.298        &       -0.578    &        0.177     \\\\\n",
       "\\textbf{state\\_VT}                                          &      -0.2024  &        0.082     &    -2.475  &         0.013        &       -0.363    &       -0.042     \\\\\n",
       "\\textbf{state\\_WA}                                          &      -0.2390  &        0.063     &    -3.764  &         0.000        &       -0.363    &       -0.115     \\\\\n",
       "\\textbf{state\\_WI}                                          &      -0.2539  &        0.068     &    -3.709  &         0.000        &       -0.388    &       -0.120     \\\\\n",
       "\\textbf{state\\_WV}                                          &      -0.4480  &        0.103     &    -4.359  &         0.000        &       -0.649    &       -0.247     \\\\\n",
       "\\textbf{state\\_WY}                                          &      -0.3900  &        0.192     &    -2.028  &         0.043        &       -0.767    &       -0.013     \\\\\n",
       "\\textbf{start\\_yr\\_1997.0}                                  &       0.0032  &        0.014     &     0.228  &         0.820        &       -0.024    &        0.030     \\\\\n",
       "\\textbf{start\\_yr\\_1998.0}                                  &       0.0028  &        0.013     &     0.219  &         0.826        &       -0.023    &        0.028     \\\\\n",
       "\\textbf{start\\_yr\\_1999.0}                                  &       0.0142  &        0.012     &     1.181  &         0.238        &       -0.009    &        0.038     \\\\\n",
       "\\textbf{start\\_yr\\_2000.0}                                  &      -0.0035  &        0.013     &    -0.278  &         0.781        &       -0.028    &        0.021     \\\\\n",
       "\\textbf{start\\_yr\\_2001.0}                                  &      -0.0246  &        0.015     &    -1.646  &         0.100        &       -0.054    &        0.005     \\\\\n",
       "\\textbf{start\\_yr\\_2002.0}                                  &      -0.0283  &        0.015     &    -1.849  &         0.064        &       -0.058    &        0.002     \\\\\n",
       "\\textbf{start\\_yr\\_2003.0}                                  &      -0.0310  &        0.015     &    -2.045  &         0.041        &       -0.061    &       -0.001     \\\\\n",
       "\\textbf{start\\_yr\\_2004.0}                                  &      -0.0387  &        0.015     &    -2.581  &         0.010        &       -0.068    &       -0.009     \\\\\n",
       "\\textbf{start\\_yr\\_2005.0}                                  &      -0.0362  &        0.015     &    -2.450  &         0.014        &       -0.065    &       -0.007     \\\\\n",
       "\\textbf{start\\_yr\\_2006.0}                                  &      -0.0371  &        0.015     &    -2.550  &         0.011        &       -0.066    &       -0.009     \\\\\n",
       "\\textbf{start\\_yr\\_2007.0}                                  &      -0.0391  &        0.014     &    -2.703  &         0.007        &       -0.067    &       -0.011     \\\\\n",
       "\\textbf{start\\_yr\\_2008.0}                                  &      -0.0460  &        0.015     &    -3.066  &         0.002        &       -0.075    &       -0.017     \\\\\n",
       "\\textbf{start\\_yr\\_2009.0}                                  &      -0.0452  &        0.015     &    -2.982  &         0.003        &       -0.075    &       -0.015     \\\\\n",
       "\\textbf{start\\_yr\\_2010.0}                                  &      -0.0291  &        0.015     &    -1.992  &         0.046        &       -0.058    &       -0.000     \\\\\n",
       "\\textbf{start\\_yr\\_2011.0}                                  &      -0.0419  &        0.014     &    -2.918  &         0.004        &       -0.070    &       -0.014     \\\\\n",
       "\\textbf{start\\_yr\\_2012.0}                                  &      -0.0302  &        0.014     &    -2.093  &         0.036        &       -0.058    &       -0.002     \\\\\n",
       "\\textbf{start\\_yr\\_2013.0}                                  &      -0.0204  &        0.015     &    -1.362  &         0.173        &       -0.050    &        0.009     \\\\\n",
       "\\textbf{start\\_yr\\_2014.0}                                  &      -0.0290  &        0.015     &    -1.914  &         0.056        &       -0.059    &        0.001     \\\\\n",
       "\\textbf{start\\_yr\\_2015.0}                                  &      -0.0325  &        0.016     &    -2.008  &         0.045        &       -0.064    &       -0.001     \\\\\n",
       "\\textbf{start\\_yr\\_2016.0}                                  &      -0.0674  &        0.018     &    -3.736  &         0.000        &       -0.103    &       -0.032     \\\\\n",
       "\\textbf{start\\_yr\\_2017.0}                                  &       0.0182  &        0.018     &     1.003  &         0.316        &       -0.017    &        0.054     \\\\\n",
       "\\textbf{start\\_yr\\_2018.0}                                  &       0.0609  &        0.019     &     3.225  &         0.001        &        0.024    &        0.098     \\\\\n",
       "\\textbf{start\\_yr\\_2019.0}                                  &       0.0723  &        0.020     &     3.622  &         0.000        &        0.033    &        0.111     \\\\\n",
       "\\textbf{start\\_yr\\_2020.0}                                  &       0.1013  &        0.021     &     4.821  &         0.000        &        0.060    &        0.143     \\\\\n",
       "\\textbf{start\\_yr\\_2021.0}                                  &       0.1735  &        0.027     &     6.405  &         0.000        &        0.120    &        0.227     \\\\\n",
       "\\textbf{start\\_yr\\_2022.0}                                  &       0.0994  &        0.051     &     1.943  &         0.052        &       -0.001    &        0.200     \\\\\n",
       "\\textbf{start\\_yr\\_2023.0}                                  &      -0.0378  &        0.116     &    -0.326  &         0.744        &       -0.265    &        0.189     \\\\\n",
       "\\bottomrule\n",
       "\\end{tabular}\n",
       "\\begin{tabular}{lclc}\n",
       "\\textbf{Omnibus:}       & 2107.793 & \\textbf{  Durbin-Watson:     } &    1.899  \\\\\n",
       "\\textbf{Prob(Omnibus):} &   0.000  & \\textbf{  Jarque-Bera (JB):  } & 8467.514  \\\\\n",
       "\\textbf{Skew:}          &  -0.580  & \\textbf{  Prob(JB):          } &     0.00  \\\\\n",
       "\\textbf{Kurtosis:}      &   6.279  & \\textbf{  Cond. No.          } & 1.43e+11  \\\\\n",
       "\\bottomrule\n",
       "\\end{tabular}\n",
       "%\\caption{OLS Regression Results}\n",
       "\\end{center}\n",
       "\n",
       "Notes: \\newline\n",
       " [1] Standard Errors assume that the covariance matrix of the errors is correctly specified. \\newline\n",
       " [2] The condition number is large, 1.43e+11. This might indicate that there are \\newline\n",
       " strong multicollinearity or other numerical problems."
      ],
      "text/plain": [
       "<class 'statsmodels.iolib.summary.Summary'>\n",
       "\"\"\"\n",
       "                            OLS Regression Results                            \n",
       "==============================================================================\n",
       "Dep. Variable:                 Failed   R-squared:                       0.674\n",
       "Model:                            OLS   Adj. R-squared:                  0.672\n",
       "Method:                 Least Squares   F-statistic:                     302.3\n",
       "Date:                Fri, 21 Jul 2023   Prob (F-statistic):               0.00\n",
       "Time:                        11:49:57   Log-Likelihood:                -956.55\n",
       "No. Observations:               16795   AIC:                             2143.\n",
       "Df Residuals:                   16680   BIC:                             3032.\n",
       "Df Model:                         114                                         \n",
       "Covariance Type:            nonrobust                                         \n",
       "====================================================================================================================\n",
       "                                                       coef    std err          t      P>|t|      [0.025      0.975]\n",
       "--------------------------------------------------------------------------------------------------------------------\n",
       "const                                                0.2193      0.132      1.667      0.096      -0.039       0.477\n",
       "num_captures                                     -4.601e-10   7.66e-12    -60.045      0.000   -4.75e-10   -4.45e-10\n",
       "end_yr_1998.0                                        0.0124      0.130      0.096      0.924      -0.242       0.267\n",
       "end_yr_1999.0                                       -0.0015      0.118     -0.013      0.990      -0.232       0.229\n",
       "end_yr_2000.0                                       -0.0006      0.117     -0.005      0.996      -0.230       0.229\n",
       "end_yr_2001.0                                        0.0026      0.117      0.022      0.982      -0.227       0.232\n",
       "end_yr_2002.0                                        0.0073      0.117      0.062      0.950      -0.222       0.237\n",
       "end_yr_2003.0                                        0.0113      0.117      0.096      0.923      -0.219       0.241\n",
       "end_yr_2004.0                                        0.0099      0.117      0.085      0.932      -0.219       0.239\n",
       "end_yr_2005.0                                        0.0184      0.117      0.158      0.875      -0.211       0.248\n",
       "end_yr_2006.0                                        0.0170      0.117      0.146      0.884      -0.212       0.246\n",
       "end_yr_2007.0                                        0.0239      0.117      0.205      0.838      -0.205       0.253\n",
       "end_yr_2008.0                                        0.0366      0.117      0.313      0.754      -0.193       0.266\n",
       "end_yr_2009.0                                        0.0311      0.117      0.266      0.790      -0.198       0.260\n",
       "end_yr_2010.0                                        0.0340      0.117      0.292      0.770      -0.195       0.263\n",
       "end_yr_2011.0                                        0.0380      0.117      0.326      0.745      -0.191       0.266\n",
       "end_yr_2012.0                                        0.0346      0.117      0.297      0.766      -0.194       0.263\n",
       "end_yr_2013.0                                        0.0393      0.117      0.337      0.736      -0.189       0.268\n",
       "end_yr_2014.0                                        0.0396      0.116      0.340      0.734      -0.189       0.268\n",
       "end_yr_2015.0                                        0.0440      0.117      0.377      0.706      -0.184       0.272\n",
       "end_yr_2016.0                                        0.0431      0.117      0.370      0.712      -0.185       0.272\n",
       "end_yr_2017.0                                        0.0409      0.116      0.351      0.725      -0.187       0.269\n",
       "end_yr_2018.0                                        0.0435      0.116      0.374      0.709      -0.185       0.272\n",
       "end_yr_2019.0                                        0.0430      0.116      0.369      0.712      -0.185       0.271\n",
       "end_yr_2020.0                                        0.4745      0.122      3.875      0.000       0.234       0.715\n",
       "end_yr_2021.0                                        0.4378      0.117      3.734      0.000       0.208       0.668\n",
       "end_yr_2022.0                                        0.4444      0.117      3.795      0.000       0.215       0.674\n",
       "end_yr_2023.0                                        0.9085      0.116      7.827      0.000       0.681       1.136\n",
       "new_industrygroup_Consumer Goods                     0.0445      0.012      3.573      0.000       0.020       0.069\n",
       "new_industrygroup_Consumer Services                  0.0427      0.007      6.310      0.000       0.029       0.056\n",
       "new_industrygroup_Energy and Utilities               0.0119      0.018      0.676      0.499      -0.023       0.046\n",
       "new_industrygroup_Healthcare                         0.0100      0.007      1.485      0.137      -0.003       0.023\n",
       "new_industrygroup_Industrial Goods and Materials    -0.0009      0.014     -0.063      0.950      -0.029       0.027\n",
       "new_industrygroup_Information Technology             0.0245      0.005      4.457      0.000       0.014       0.035\n",
       "new_industrygroup_To Be Assigned                     0.1115      0.257      0.433      0.665      -0.393       0.616\n",
       "state_AL                                            -0.2475      0.072     -3.424      0.001      -0.389      -0.106\n",
       "state_AR                                            -0.3334      0.093     -3.584      0.000      -0.516      -0.151\n",
       "state_AZ                                            -0.2420      0.067     -3.614      0.000      -0.373      -0.111\n",
       "state_CA                                            -0.2356      0.063     -3.758      0.000      -0.359      -0.113\n",
       "state_CO                                            -0.2607      0.064     -4.081      0.000      -0.386      -0.136\n",
       "state_CT                                            -0.2453      0.066     -3.732      0.000      -0.374      -0.116\n",
       "state_Ca                                            -0.1663      0.265     -0.628      0.530      -0.685       0.352\n",
       "state_DC                                            -0.2607      0.068     -3.821      0.000      -0.394      -0.127\n",
       "state_DE                                            -0.1809      0.068     -2.645      0.008      -0.315      -0.047\n",
       "state_FL                                            -0.2659      0.064     -4.156      0.000      -0.391      -0.140\n",
       "state_GA                                            -0.2558      0.064     -3.984      0.000      -0.382      -0.130\n",
       "state_HI                                            -0.1554      0.085     -1.826      0.068      -0.322       0.011\n",
       "state_IA                                            -0.3168      0.079     -3.996      0.000      -0.472      -0.161\n",
       "state_ID                                            -0.3009      0.087     -3.449      0.001      -0.472      -0.130\n",
       "state_IL                                            -0.2795      0.064     -4.363      0.000      -0.405      -0.154\n",
       "state_IN                                            -0.2293      0.068     -3.385      0.001      -0.362      -0.097\n",
       "state_KS                                            -0.2228      0.076     -2.947      0.003      -0.371      -0.075\n",
       "state_KY                                            -0.1819      0.073     -2.503      0.012      -0.324      -0.039\n",
       "state_LA                                            -0.0031      0.083     -0.037      0.970      -0.166       0.160\n",
       "state_MA                                            -0.2474      0.063     -3.926      0.000      -0.371      -0.124\n",
       "state_MD                                            -0.2466      0.065     -3.806      0.000      -0.374      -0.120\n",
       "state_ME                                            -0.2399      0.082     -2.928      0.003      -0.400      -0.079\n",
       "state_MI                                            -0.2471      0.066     -3.723      0.000      -0.377      -0.117\n",
       "state_MN                                            -0.2862      0.066     -4.361      0.000      -0.415      -0.158\n",
       "state_MO                                            -0.2470      0.069     -3.592      0.000      -0.382      -0.112\n",
       "state_MS                                            -0.1069      0.122     -0.874      0.382      -0.347       0.133\n",
       "state_MT                                            -0.0674      0.116     -0.583      0.560      -0.294       0.159\n",
       "state_NC                                            -0.2473      0.064     -3.836      0.000      -0.374      -0.121\n",
       "state_ND                                            -0.2002      0.193     -1.039      0.299      -0.578       0.177\n",
       "state_NE                                            -0.2792      0.081     -3.445      0.001      -0.438      -0.120\n",
       "state_NH                                            -0.2989      0.071     -4.207      0.000      -0.438      -0.160\n",
       "state_NJ                                            -0.2599      0.064     -4.039      0.000      -0.386      -0.134\n",
       "state_NM                                            -0.2318      0.083     -2.809      0.005      -0.394      -0.070\n",
       "state_NV                                            -0.2589      0.071     -3.664      0.000      -0.397      -0.120\n",
       "state_NY                                            -0.2613      0.063     -4.151      0.000      -0.385      -0.138\n",
       "state_OH                                            -0.2910      0.066     -4.426      0.000      -0.420      -0.162\n",
       "state_OK                                            -0.2501      0.083     -3.031      0.002      -0.412      -0.088\n",
       "state_OR                                            -0.2584      0.066     -3.934      0.000      -0.387      -0.130\n",
       "state_PA                                            -0.2680      0.064     -4.201      0.000      -0.393      -0.143\n",
       "state_PR                                            -0.4435      0.122     -3.625      0.000      -0.683      -0.204\n",
       "state_RI                                            -0.2559      0.077     -3.341      0.001      -0.406      -0.106\n",
       "state_SC                                            -0.1913      0.076     -2.519      0.012      -0.340      -0.042\n",
       "state_SD                                            -0.3229      0.143     -2.256      0.024      -0.604      -0.042\n",
       "state_TN                                            -0.3139      0.067     -4.690      0.000      -0.445      -0.183\n",
       "state_TX                                            -0.2749      0.063     -4.348      0.000      -0.399      -0.151\n",
       "state_UT                                            -0.3045      0.065     -4.660      0.000      -0.433      -0.176\n",
       "state_VA                                            -0.2629      0.064     -4.094      0.000      -0.389      -0.137\n",
       "state_VI                                            -0.2005      0.192     -1.042      0.298      -0.578       0.177\n",
       "state_VT                                            -0.2024      0.082     -2.475      0.013      -0.363      -0.042\n",
       "state_WA                                            -0.2390      0.063     -3.764      0.000      -0.363      -0.115\n",
       "state_WI                                            -0.2539      0.068     -3.709      0.000      -0.388      -0.120\n",
       "state_WV                                            -0.4480      0.103     -4.359      0.000      -0.649      -0.247\n",
       "state_WY                                            -0.3900      0.192     -2.028      0.043      -0.767      -0.013\n",
       "start_yr_1997.0                                      0.0032      0.014      0.228      0.820      -0.024       0.030\n",
       "start_yr_1998.0                                      0.0028      0.013      0.219      0.826      -0.023       0.028\n",
       "start_yr_1999.0                                      0.0142      0.012      1.181      0.238      -0.009       0.038\n",
       "start_yr_2000.0                                     -0.0035      0.013     -0.278      0.781      -0.028       0.021\n",
       "start_yr_2001.0                                     -0.0246      0.015     -1.646      0.100      -0.054       0.005\n",
       "start_yr_2002.0                                     -0.0283      0.015     -1.849      0.064      -0.058       0.002\n",
       "start_yr_2003.0                                     -0.0310      0.015     -2.045      0.041      -0.061      -0.001\n",
       "start_yr_2004.0                                     -0.0387      0.015     -2.581      0.010      -0.068      -0.009\n",
       "start_yr_2005.0                                     -0.0362      0.015     -2.450      0.014      -0.065      -0.007\n",
       "start_yr_2006.0                                     -0.0371      0.015     -2.550      0.011      -0.066      -0.009\n",
       "start_yr_2007.0                                     -0.0391      0.014     -2.703      0.007      -0.067      -0.011\n",
       "start_yr_2008.0                                     -0.0460      0.015     -3.066      0.002      -0.075      -0.017\n",
       "start_yr_2009.0                                     -0.0452      0.015     -2.982      0.003      -0.075      -0.015\n",
       "start_yr_2010.0                                     -0.0291      0.015     -1.992      0.046      -0.058      -0.000\n",
       "start_yr_2011.0                                     -0.0419      0.014     -2.918      0.004      -0.070      -0.014\n",
       "start_yr_2012.0                                     -0.0302      0.014     -2.093      0.036      -0.058      -0.002\n",
       "start_yr_2013.0                                     -0.0204      0.015     -1.362      0.173      -0.050       0.009\n",
       "start_yr_2014.0                                     -0.0290      0.015     -1.914      0.056      -0.059       0.001\n",
       "start_yr_2015.0                                     -0.0325      0.016     -2.008      0.045      -0.064      -0.001\n",
       "start_yr_2016.0                                     -0.0674      0.018     -3.736      0.000      -0.103      -0.032\n",
       "start_yr_2017.0                                      0.0182      0.018      1.003      0.316      -0.017       0.054\n",
       "start_yr_2018.0                                      0.0609      0.019      3.225      0.001       0.024       0.098\n",
       "start_yr_2019.0                                      0.0723      0.020      3.622      0.000       0.033       0.111\n",
       "start_yr_2020.0                                      0.1013      0.021      4.821      0.000       0.060       0.143\n",
       "start_yr_2021.0                                      0.1735      0.027      6.405      0.000       0.120       0.227\n",
       "start_yr_2022.0                                      0.0994      0.051      1.943      0.052      -0.001       0.200\n",
       "start_yr_2023.0                                     -0.0378      0.116     -0.326      0.744      -0.265       0.189\n",
       "==============================================================================\n",
       "Omnibus:                     2107.793   Durbin-Watson:                   1.899\n",
       "Prob(Omnibus):                  0.000   Jarque-Bera (JB):             8467.514\n",
       "Skew:                          -0.580   Prob(JB):                         0.00\n",
       "Kurtosis:                       6.279   Cond. No.                     1.43e+11\n",
       "==============================================================================\n",
       "\n",
       "Notes:\n",
       "[1] Standard Errors assume that the covariance matrix of the errors is correctly specified.\n",
       "[2] The condition number is large, 1.43e+11. This might indicate that there are\n",
       "strong multicollinearity or other numerical problems.\n",
       "\"\"\""
      ]
     },
     "execution_count": 88,
     "metadata": {},
     "output_type": "execute_result"
    }
   ],
   "source": [
    "run_model('num_captures', control=['end_yr', 'new_industrygroup', 'state', 'start_yr']).summary()"
   ]
  },
  {
   "cell_type": "code",
   "execution_count": null,
   "id": "07f08fcc",
   "metadata": {},
   "outputs": [],
   "source": [
    "html = html.merge(td_last2, left_on='entityid', right_index=True)"
   ]
  }
 ],
 "metadata": {
  "kernelspec": {
   "display_name": "Python 3 (ipykernel)",
   "language": "python",
   "name": "python3"
  },
  "language_info": {
   "codemirror_mode": {
    "name": "ipython",
    "version": 3
   },
   "file_extension": ".py",
   "mimetype": "text/x-python",
   "name": "python",
   "nbconvert_exporter": "python",
   "pygments_lexer": "ipython3",
   "version": "3.9.2"
  }
 },
 "nbformat": 4,
 "nbformat_minor": 5
}
