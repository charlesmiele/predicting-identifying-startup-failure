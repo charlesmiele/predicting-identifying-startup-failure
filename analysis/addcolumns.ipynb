{
 "cells": [
  {
   "cell_type": "markdown",
   "id": "fd7cd5c9",
   "metadata": {},
   "source": [
    "This script reads in the script from the last run of `html_analysis.py`. It adds a bunch more relevant columns that will be used for regressions later."
   ]
  },
  {
   "cell_type": "code",
   "execution_count": 49,
   "id": "58ac337e",
   "metadata": {},
   "outputs": [],
   "source": [
    "import pandas as pd\n",
    "import numpy as np\n",
    "import seaborn as sns\n",
    "import matplotlib.pyplot as plt"
   ]
  },
  {
   "cell_type": "markdown",
   "id": "03fa8835",
   "metadata": {},
   "source": [
    "Read data"
   ]
  },
  {
   "cell_type": "code",
   "execution_count": 9,
   "id": "bc9725c4",
   "metadata": {},
   "outputs": [
    {
     "name": "stderr",
     "output_type": "stream",
     "text": [
      "/Library/Frameworks/Python.framework/Versions/3.9/lib/python3.9/site-packages/IPython/core/interactiveshell.py:3269: DtypeWarning: Columns (5) have mixed types.Specify dtype option on import or set low_memory=False.\n",
      "  has_raised = await self.run_ast_nodes(code_ast.body, cell_name,\n"
     ]
    }
   ],
   "source": [
    "html = pd.read_csv('../data/3_final_webpage_metadata.csv')\n",
    "inFile = pd.read_csv('../data/startup_url_list.csv')"
   ]
  },
  {
   "cell_type": "markdown",
   "id": "f0b4d7f0",
   "metadata": {},
   "source": [
    "(Temporary) delete:\n",
    "\n",
    "1. `Unnamed: 0` - accidentally exported to csv including index\n",
    "2. `yr_from_start` - not an accurate measurement\n",
    "\n",
    "These columns shouldn't be here next time we run analysis"
   ]
  },
  {
   "cell_type": "code",
   "execution_count": 32,
   "id": "79c67d6e",
   "metadata": {},
   "outputs": [],
   "source": [
    "html = html.drop(['Unnamed: 0'], axis=1)"
   ]
  },
  {
   "cell_type": "markdown",
   "id": "88eb6d47",
   "metadata": {},
   "source": [
    "Merge html with the infile on entityid"
   ]
  },
  {
   "cell_type": "code",
   "execution_count": 12,
   "id": "6f681de7",
   "metadata": {},
   "outputs": [],
   "source": [
    "html = html.merge(inFile, on='entityid')"
   ]
  },
  {
   "cell_type": "markdown",
   "id": "ad2e578c",
   "metadata": {},
   "source": [
    "Define companies as failed, not-failed (exited), or unknown"
   ]
  },
  {
   "cell_type": "code",
   "execution_count": 22,
   "id": "834067b3",
   "metadata": {},
   "outputs": [],
   "source": [
    "failedStatus = ['Out of Business', 'In Bankruptcy']\n",
    "exitedStatus = ['Publicly-held', 'Acquired/Merged', 'In IPO Registration']\n",
    "otherStatus = ['Private & Independent', 'Assets Acquired']"
   ]
  },
  {
   "cell_type": "markdown",
   "id": "2cd4af7e",
   "metadata": {},
   "source": [
    "If ownership status is in failed, give it a 1, if its in exitedstatus, give it a 0, if its in neither, -1"
   ]
  },
  {
   "cell_type": "code",
   "execution_count": 24,
   "id": "34e9cc6b",
   "metadata": {},
   "outputs": [],
   "source": [
    "conditions = [\n",
    "    html.ownershipstatus.isin(failedStatus),\n",
    "    html.ownershipstatus.isin(exitedStatus),\n",
    "    html.ownershipstatus.isin(otherStatus)\n",
    "]\n",
    "values = [1, 0, -1]\n",
    "html['failed'] = np.select(conditions, values)"
   ]
  },
  {
   "cell_type": "code",
   "execution_count": 38,
   "id": "a4e210e0",
   "metadata": {},
   "outputs": [],
   "source": [
    "# Define end year of a company `end_yr`\n",
    "html['end_yr'] = html['exit_date'].str.slice(start=0, stop=4) \\\n",
    "    .astype('float', errors='ignore') # This will have NAs\n",
    "# Start yr `start_yr`\n",
    "html['start_yr'] = html['startdate'].str.slice(start=0, stop=4) \\\n",
    "    .fillna(html['lastVC'].str.slice(start=0, stop=4)) \\\n",
    "    .astype('float', errors='ignore')\n",
    "# Lifespan (end_yr - start_yr)\n",
    "html['lifespan'] = html['end_yr'] - html['start_yr']"
   ]
  },
  {
   "cell_type": "markdown",
   "id": "ce5e5b93",
   "metadata": {},
   "source": [
    "Fix NA values for lifespan. The problem here is that we're missing exit dates (and in turn `end_yr`) for these companies, so we have to make a prediction"
   ]
  },
  {
   "cell_type": "markdown",
   "id": "207d6a3b",
   "metadata": {},
   "source": [
    "This is a pretty serious problem...we're missing end years for ~80% of our companies:"
   ]
  },
  {
   "cell_type": "code",
   "execution_count": 46,
   "id": "14c0365a",
   "metadata": {},
   "outputs": [
    {
     "data": {
      "text/plain": [
       "0.796298643681075"
      ]
     },
     "execution_count": 46,
     "metadata": {},
     "output_type": "execute_result"
    }
   ],
   "source": [
    "html.groupby('entityid').first().end_yr.isna().sum() \\\n",
    "    / html.entityid.nunique()"
   ]
  },
  {
   "cell_type": "markdown",
   "id": "1647d370",
   "metadata": {},
   "source": [
    "How is lastVC + some time as a prediction? For companies *with* an end year, how far is that from their lastVC?"
   ]
  },
  {
   "cell_type": "code",
   "execution_count": 72,
   "id": "bbe4963f",
   "metadata": {},
   "outputs": [],
   "source": [
    "groups = html.groupby('entityid').first()\n",
    "groups = groups.query('end_yr.isna() == False')\n",
    "groups['lastVCYear'] = pd.to_datetime(groups.lastVC).dt.year\n",
    "groups['endVCdiff'] = groups.end_yr - groups.lastVCYear"
   ]
  },
  {
   "cell_type": "code",
   "execution_count": 73,
   "id": "1b504173",
   "metadata": {},
   "outputs": [
    {
     "data": {
      "text/plain": [
       "Acquired/Merged          204\n",
       "Publicly-held             63\n",
       "Private & Independent     57\n",
       "Assets Acquired            9\n",
       "Name: ownershipstatus, dtype: int64"
      ]
     },
     "execution_count": 73,
     "metadata": {},
     "output_type": "execute_result"
    }
   ],
   "source": [
    "groups[groups.endVCdiff < 0].ownershipstatus.value_counts()"
   ]
  },
  {
   "cell_type": "code",
   "execution_count": 77,
   "id": "7bc950a7",
   "metadata": {},
   "outputs": [
    {
     "data": {
      "text/plain": [
       "0               Tesaria\n",
       "1               Tesaria\n",
       "2               Tesaria\n",
       "3               Tesaria\n",
       "4               Tesaria\n",
       "              ...      \n",
       "830492    Truthset Inc.\n",
       "830493    Truthset Inc.\n",
       "830494    Truthset Inc.\n",
       "830495    Truthset Inc.\n",
       "830496    Truthset Inc.\n",
       "Name: entityname, Length: 830497, dtype: object"
      ]
     },
     "execution_count": 77,
     "metadata": {},
     "output_type": "execute_result"
    }
   ],
   "source": []
  },
  {
   "cell_type": "code",
   "execution_count": 51,
   "id": "3e15d045",
   "metadata": {},
   "outputs": [
    {
     "data": {
      "image/png": "[encoded data removed]",
      "text/plain": [
       "<Figure size 640x480 with 1 Axes>"
      ]
     },
     "metadata": {},
     "output_type": "display_data"
    }
   ],
   "source": [
    "sns.kdeplot(groups.end_yr, color='b', fill='b');\n",
    "sns.kdeplot(pd.to_datetime(groups.lastVC).dt.year, color='r', fill='b');\n"
   ]
  },
  {
   "cell_type": "code",
   "execution_count": null,
   "id": "78bf2cd1",
   "metadata": {},
   "outputs": [],
   "source": [
    "# Convert website size to log\n",
    "html['websize_log'] = np.log(html['website_size_kb']).replace([-np.inf], 0);\n",
    "\n"
   ]
  },
  {
   "cell_type": "code",
   "execution_count": 33,
   "id": "258617de",
   "metadata": {},
   "outputs": [
    {
     "name": "stdout",
     "output_type": "stream",
     "text": [
      "entityid\n",
      "yr_from_start\n",
      "capture_yr\n",
      "capture_m\n",
      "file_path\n",
      "file_exists\n",
      "website_size_kb\n",
      "careers\n",
      "blog\n",
      "login\n",
      "contact\n",
      "team\n",
      "about\n",
      "news\n",
      "faq\n",
      "call_to_action\n",
      "testimonial\n",
      "title\n",
      "description\n",
      "keywords\n",
      "p_count\n",
      "h_count\n",
      "img_count\n",
      "a_count\n",
      "table_count\n",
      "form_count\n",
      "script_count\n",
      "entityname\n",
      "new_industrygroup\n",
      "state\n",
      "weburl\n",
      "pb_companyid\n",
      "startdate\n",
      "lastVC\n",
      "ownershipstatus\n",
      "exit_date\n",
      "failed\n"
     ]
    }
   ],
   "source": [
    "for i in html.columns:\n",
    "    print(i)"
   ]
  }
 ],
 "metadata": {
  "kernelspec": {
   "display_name": "Python 3 (ipykernel)",
   "language": "python",
   "name": "python3"
  },
  "language_info": {
   "codemirror_mode": {
    "name": "ipython",
    "version": 3
   },
   "file_extension": ".py",
   "mimetype": "text/x-python",
   "name": "python",
   "nbconvert_exporter": "python",
   "pygments_lexer": "ipython3",
   "version": "3.9.2"
  }
 },
 "nbformat": 4,
 "nbformat_minor": 5
}
