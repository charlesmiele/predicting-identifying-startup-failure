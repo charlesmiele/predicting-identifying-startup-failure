{
 "cells": [
  {
   "cell_type": "code",
   "execution_count": 200,
   "id": "a4b44bb3",
   "metadata": {},
   "outputs": [],
   "source": [
    "import pandas as pd\n",
    "import os\n",
    "import matplotlib.pyplot as plt"
   ]
  },
  {
   "cell_type": "markdown",
   "id": "4eba5126",
   "metadata": {},
   "source": [
    "# Table of Contents"
   ]
  },
  {
   "cell_type": "markdown",
   "id": "4ec166d3",
   "metadata": {},
   "source": [
    "1. [Load data](#Load-data)\n",
    "2. [Sample Selection Summary](#Summary-of-the-\"sample-selection\")\n",
    "3. [Subdivisions](#Subdivisions)"
   ]
  },
  {
   "cell_type": "markdown",
   "id": "1e77e983",
   "metadata": {},
   "source": [
    "## Load data"
   ]
  },
  {
   "cell_type": "code",
   "execution_count": 201,
   "id": "e2cec60e",
   "metadata": {},
   "outputs": [],
   "source": [
    "html = pd.read_csv('../data/2_final_webpage_metadata.csv')"
   ]
  },
  {
   "cell_type": "markdown",
   "id": "3b7a6460",
   "metadata": {},
   "source": [
    "How many HTMLs have we successfully parsed? Filter out all the ones we couldn't"
   ]
  },
  {
   "cell_type": "code",
   "execution_count": 202,
   "id": "a2b2cbf2",
   "metadata": {
    "scrolled": true
   },
   "outputs": [
    {
     "name": "stdout",
     "output_type": "stream",
     "text": [
      "644439\n"
     ]
    }
   ],
   "source": [
    "html = html[(html['is_429'] == 0) & (html['is_parsable'] == 1) & (html['file_exists'] == 1)]\n",
    "print(len(html.index))"
   ]
  },
  {
   "cell_type": "markdown",
   "id": "7d0d7d86",
   "metadata": {},
   "source": [
    "Drop those columns now..."
   ]
  },
  {
   "cell_type": "code",
   "execution_count": 203,
   "id": "fe527d55",
   "metadata": {},
   "outputs": [],
   "source": [
    "html = html.drop(['is_429', 'is_parsable', 'file_exists'], axis=1)"
   ]
  },
  {
   "cell_type": "code",
   "execution_count": 204,
   "id": "c565d390",
   "metadata": {},
   "outputs": [],
   "source": [
    "html = html.drop(columns=['Unnamed: 0'])"
   ]
  },
  {
   "cell_type": "markdown",
   "id": "98c233da",
   "metadata": {},
   "source": [
    "How many companies are we working with?"
   ]
  },
  {
   "cell_type": "code",
   "execution_count": 205,
   "id": "101d175b",
   "metadata": {},
   "outputs": [
    {
     "name": "stdout",
     "output_type": "stream",
     "text": [
      "44110\n"
     ]
    }
   ],
   "source": [
    "print(html['entityid'].nunique())"
   ]
  },
  {
   "cell_type": "markdown",
   "id": "0a87e035",
   "metadata": {},
   "source": [
    "Combine data with the input file"
   ]
  },
  {
   "cell_type": "code",
   "execution_count": 206,
   "id": "521a9048",
   "metadata": {},
   "outputs": [],
   "source": [
    "in_file = pd.read_csv('../data/startup_url_list.csv')\n",
    "html = html.merge(in_file, on='entityid')"
   ]
  },
  {
   "cell_type": "code",
   "execution_count": 208,
   "id": "67c3ecb0",
   "metadata": {},
   "outputs": [
    {
     "data": {
      "text/html": [
       "<div>\n",
       "<style scoped>\n",
       "    .dataframe tbody tr th:only-of-type {\n",
       "        vertical-align: middle;\n",
       "    }\n",
       "\n",
       "    .dataframe tbody tr th {\n",
       "        vertical-align: top;\n",
       "    }\n",
       "\n",
       "    .dataframe thead th {\n",
       "        text-align: right;\n",
       "    }\n",
       "</style>\n",
       "<table border=\"1\" class=\"dataframe\">\n",
       "  <thead>\n",
       "    <tr style=\"text-align: right;\">\n",
       "      <th></th>\n",
       "      <th>entityid</th>\n",
       "      <th>capture_yr</th>\n",
       "      <th>capture_m</th>\n",
       "      <th>file_path</th>\n",
       "      <th>website_size_kb</th>\n",
       "      <th>careers</th>\n",
       "      <th>blog</th>\n",
       "      <th>login</th>\n",
       "      <th>contact</th>\n",
       "      <th>team</th>\n",
       "      <th>...</th>\n",
       "      <th>form_count</th>\n",
       "      <th>script_count</th>\n",
       "      <th>embedded_js</th>\n",
       "      <th>external_js</th>\n",
       "      <th>weburl</th>\n",
       "      <th>pb_companyid</th>\n",
       "      <th>startdate</th>\n",
       "      <th>lastVC</th>\n",
       "      <th>ownershipstatus</th>\n",
       "      <th>exit_date</th>\n",
       "    </tr>\n",
       "  </thead>\n",
       "  <tbody>\n",
       "    <tr>\n",
       "      <th>0</th>\n",
       "      <td>1006526630</td>\n",
       "      <td>2001</td>\n",
       "      <td>3</td>\n",
       "      <td>data/html/1006526630/2001/03/index.html</td>\n",
       "      <td>4.592773</td>\n",
       "      <td>0</td>\n",
       "      <td>0</td>\n",
       "      <td>0</td>\n",
       "      <td>0</td>\n",
       "      <td>0</td>\n",
       "      <td>...</td>\n",
       "      <td>1</td>\n",
       "      <td>3</td>\n",
       "      <td>True</td>\n",
       "      <td>True</td>\n",
       "      <td>www.usclaims.com</td>\n",
       "      <td>NaN</td>\n",
       "      <td>1996-06-01</td>\n",
       "      <td>2020-01-01</td>\n",
       "      <td>Acquired/Merged</td>\n",
       "      <td>NaN</td>\n",
       "    </tr>\n",
       "    <tr>\n",
       "      <th>1</th>\n",
       "      <td>1006526630</td>\n",
       "      <td>2001</td>\n",
       "      <td>5</td>\n",
       "      <td>data/html/1006526630/2001/05/index.html</td>\n",
       "      <td>4.822266</td>\n",
       "      <td>0</td>\n",
       "      <td>0</td>\n",
       "      <td>0</td>\n",
       "      <td>0</td>\n",
       "      <td>0</td>\n",
       "      <td>...</td>\n",
       "      <td>1</td>\n",
       "      <td>3</td>\n",
       "      <td>True</td>\n",
       "      <td>True</td>\n",
       "      <td>www.usclaims.com</td>\n",
       "      <td>NaN</td>\n",
       "      <td>1996-06-01</td>\n",
       "      <td>2020-01-01</td>\n",
       "      <td>Acquired/Merged</td>\n",
       "      <td>NaN</td>\n",
       "    </tr>\n",
       "    <tr>\n",
       "      <th>2</th>\n",
       "      <td>1006526630</td>\n",
       "      <td>2002</td>\n",
       "      <td>5</td>\n",
       "      <td>data/html/1006526630/2002/05/index.html</td>\n",
       "      <td>2.606445</td>\n",
       "      <td>0</td>\n",
       "      <td>0</td>\n",
       "      <td>0</td>\n",
       "      <td>0</td>\n",
       "      <td>0</td>\n",
       "      <td>...</td>\n",
       "      <td>0</td>\n",
       "      <td>3</td>\n",
       "      <td>True</td>\n",
       "      <td>True</td>\n",
       "      <td>www.usclaims.com</td>\n",
       "      <td>NaN</td>\n",
       "      <td>1996-06-01</td>\n",
       "      <td>2020-01-01</td>\n",
       "      <td>Acquired/Merged</td>\n",
       "      <td>NaN</td>\n",
       "    </tr>\n",
       "    <tr>\n",
       "      <th>3</th>\n",
       "      <td>1006526630</td>\n",
       "      <td>2002</td>\n",
       "      <td>11</td>\n",
       "      <td>data/html/1006526630/2002/11/index.html</td>\n",
       "      <td>2.604492</td>\n",
       "      <td>0</td>\n",
       "      <td>0</td>\n",
       "      <td>0</td>\n",
       "      <td>0</td>\n",
       "      <td>0</td>\n",
       "      <td>...</td>\n",
       "      <td>0</td>\n",
       "      <td>3</td>\n",
       "      <td>True</td>\n",
       "      <td>True</td>\n",
       "      <td>www.usclaims.com</td>\n",
       "      <td>NaN</td>\n",
       "      <td>1996-06-01</td>\n",
       "      <td>2020-01-01</td>\n",
       "      <td>Acquired/Merged</td>\n",
       "      <td>NaN</td>\n",
       "    </tr>\n",
       "    <tr>\n",
       "      <th>4</th>\n",
       "      <td>1006526630</td>\n",
       "      <td>2003</td>\n",
       "      <td>6</td>\n",
       "      <td>data/html/1006526630/2003/06/index.html</td>\n",
       "      <td>2.595703</td>\n",
       "      <td>0</td>\n",
       "      <td>0</td>\n",
       "      <td>0</td>\n",
       "      <td>0</td>\n",
       "      <td>0</td>\n",
       "      <td>...</td>\n",
       "      <td>0</td>\n",
       "      <td>3</td>\n",
       "      <td>True</td>\n",
       "      <td>True</td>\n",
       "      <td>www.usclaims.com</td>\n",
       "      <td>NaN</td>\n",
       "      <td>1996-06-01</td>\n",
       "      <td>2020-01-01</td>\n",
       "      <td>Acquired/Merged</td>\n",
       "      <td>NaN</td>\n",
       "    </tr>\n",
       "  </tbody>\n",
       "</table>\n",
       "<p>5 rows × 35 columns</p>\n",
       "</div>"
      ],
      "text/plain": [
       "     entityid  capture_yr  capture_m                                file_path  \\\n",
       "0  1006526630        2001          3  data/html/1006526630/2001/03/index.html   \n",
       "1  1006526630        2001          5  data/html/1006526630/2001/05/index.html   \n",
       "2  1006526630        2002          5  data/html/1006526630/2002/05/index.html   \n",
       "3  1006526630        2002         11  data/html/1006526630/2002/11/index.html   \n",
       "4  1006526630        2003          6  data/html/1006526630/2003/06/index.html   \n",
       "\n",
       "   website_size_kb  careers  blog  login  contact  team  ...  form_count  \\\n",
       "0         4.592773        0     0      0        0     0  ...           1   \n",
       "1         4.822266        0     0      0        0     0  ...           1   \n",
       "2         2.606445        0     0      0        0     0  ...           0   \n",
       "3         2.604492        0     0      0        0     0  ...           0   \n",
       "4         2.595703        0     0      0        0     0  ...           0   \n",
       "\n",
       "   script_count  embedded_js  external_js            weburl pb_companyid  \\\n",
       "0             3         True         True  www.usclaims.com          NaN   \n",
       "1             3         True         True  www.usclaims.com          NaN   \n",
       "2             3         True         True  www.usclaims.com          NaN   \n",
       "3             3         True         True  www.usclaims.com          NaN   \n",
       "4             3         True         True  www.usclaims.com          NaN   \n",
       "\n",
       "    startdate      lastVC  ownershipstatus exit_date  \n",
       "0  1996-06-01  2020-01-01  Acquired/Merged       NaN  \n",
       "1  1996-06-01  2020-01-01  Acquired/Merged       NaN  \n",
       "2  1996-06-01  2020-01-01  Acquired/Merged       NaN  \n",
       "3  1996-06-01  2020-01-01  Acquired/Merged       NaN  \n",
       "4  1996-06-01  2020-01-01  Acquired/Merged       NaN  \n",
       "\n",
       "[5 rows x 35 columns]"
      ]
     },
     "execution_count": 208,
     "metadata": {},
     "output_type": "execute_result"
    }
   ],
   "source": [
    "html.head()"
   ]
  },
  {
   "cell_type": "code",
   "execution_count": 209,
   "id": "4e0b9e51",
   "metadata": {},
   "outputs": [
    {
     "data": {
      "text/plain": [
       "{'entityid': dtype('int64'),\n",
       " 'capture_yr': dtype('int64'),\n",
       " 'capture_m': dtype('int64'),\n",
       " 'file_path': dtype('O'),\n",
       " 'website_size_kb': dtype('float64'),\n",
       " 'careers': dtype('int64'),\n",
       " 'blog': dtype('int64'),\n",
       " 'login': dtype('int64'),\n",
       " 'contact': dtype('int64'),\n",
       " 'team': dtype('int64'),\n",
       " 'about': dtype('int64'),\n",
       " 'news': dtype('int64'),\n",
       " 'faq': dtype('int64'),\n",
       " 'call_to_action': dtype('int64'),\n",
       " 'testimonial': dtype('int64'),\n",
       " 'title': dtype('O'),\n",
       " 'description': dtype('O'),\n",
       " 'keywords': dtype('O'),\n",
       " 'author': dtype('O'),\n",
       " 'language': dtype('O'),\n",
       " 'p_count': dtype('int64'),\n",
       " 'h_count': dtype('int64'),\n",
       " 'img_count': dtype('int64'),\n",
       " 'a_count': dtype('int64'),\n",
       " 'table_count': dtype('int64'),\n",
       " 'form_count': dtype('int64'),\n",
       " 'script_count': dtype('int64'),\n",
       " 'embedded_js': dtype('O'),\n",
       " 'external_js': dtype('O'),\n",
       " 'weburl': dtype('O'),\n",
       " 'pb_companyid': dtype('O'),\n",
       " 'startdate': dtype('O'),\n",
       " 'lastVC': dtype('O'),\n",
       " 'ownershipstatus': dtype('O'),\n",
       " 'exit_date': dtype('O')}"
      ]
     },
     "execution_count": 209,
     "metadata": {},
     "output_type": "execute_result"
    }
   ],
   "source": [
    "html.dtypes.to_dict()"
   ]
  },
  {
   "cell_type": "markdown",
   "id": "37380279",
   "metadata": {},
   "source": [
    "## Summary of the \"sample selection\""
   ]
  },
  {
   "cell_type": "code",
   "execution_count": null,
   "id": "356dea80",
   "metadata": {},
   "outputs": [],
   "source": []
  },
  {
   "cell_type": "markdown",
   "id": "9609e3a6",
   "metadata": {},
   "source": [
    "## Subdivisions"
   ]
  },
  {
   "cell_type": "markdown",
   "id": "d453002c",
   "metadata": {},
   "source": [
    "For all companies that have survived at least *n* years, divide that into exited and non-exited companies..."
   ]
  },
  {
   "cell_type": "markdown",
   "id": "5a8e1554",
   "metadata": {},
   "source": [
    "Let's start with 5. And then move to 10"
   ]
  },
  {
   "cell_type": "markdown",
   "id": "a80a693e",
   "metadata": {},
   "source": [
    "Let's add some columns that will enable us to do this easier"
   ]
  },
  {
   "cell_type": "code",
   "execution_count": 211,
   "id": "0b24f17d",
   "metadata": {},
   "outputs": [],
   "source": [
    "html[\"has_exit\"] = (html[\"exit_date\"].isna() == False).astype('int8')\n",
    "html[\"end_yr\"] = html[\"exit_date\"].str.slice(start=0, stop=4).astype('float' ,errors='ignore').fillna(2023)\n",
    "html[\"start_yr\"] = html[\"startdate\"].str.slice(start=0, stop=4).fillna(html[\"lastVC\"].str.slice(start=0, stop=4)).astype('float', errors='ignore')\n",
    "html[\"lifespan\"] = html[\"end_yr\"] - html[\"start_yr\"]"
   ]
  },
  {
   "cell_type": "markdown",
   "id": "6753bbcc",
   "metadata": {},
   "source": [
    "Create a new DF that contains companies that were founded in 2012 and survived at least 5 years"
   ]
  },
  {
   "cell_type": "code",
   "execution_count": 226,
   "id": "1bfe0892",
   "metadata": {},
   "outputs": [],
   "source": [
    "survived_5 = html[(html[\"lifespan\"] > 5) & (html[\"start_yr\"] == 2012)]"
   ]
  },
  {
   "cell_type": "markdown",
   "id": "ab08aefa",
   "metadata": {},
   "source": [
    "Of the companies that survived at least five years, how *many* had an exit? How many didn't?"
   ]
  },
  {
   "cell_type": "code",
   "execution_count": 227,
   "id": "40633ff3",
   "metadata": {},
   "outputs": [
    {
     "name": "stdout",
     "output_type": "stream",
     "text": [
      "297\n",
      "1655\n"
     ]
    }
   ],
   "source": [
    "print(survived_5[survived_5[\"has_exit\"] == 1]['entityid'].nunique())\n",
    "print(survived_5[survived_5[\"has_exit\"] == 0]['entityid'].nunique())"
   ]
  },
  {
   "cell_type": "markdown",
   "id": "76b13f8d",
   "metadata": {},
   "source": [
    "Divide these into two seperate DFs - \"exited\" and \"alive\""
   ]
  },
  {
   "cell_type": "code",
   "execution_count": 229,
   "id": "0a8add47",
   "metadata": {},
   "outputs": [],
   "source": [
    "s5_exit = survived_5[survived_5[\"has_exit\"] == 1]\n",
    "s5_alive = survived_5[survived_5[\"has_exit\"] == 0]"
   ]
  },
  {
   "cell_type": "markdown",
   "id": "42951bda",
   "metadata": {},
   "source": [
    "Do these companies begin to go in different directions, after, say, year 2?"
   ]
  },
  {
   "cell_type": "markdown",
   "id": "3fe98837",
   "metadata": {},
   "source": [
    "Am I trying to measure the change in companies *in aggregate* or on a company-by-company basis (i.e. bootstrap)?"
   ]
  },
  {
   "cell_type": "markdown",
   "id": "1dd9f2dc",
   "metadata": {},
   "source": [
    "Let's just start with \"in aggregate\", so essentially measuring averages"
   ]
  },
  {
   "cell_type": "code",
   "execution_count": null,
   "id": "8bc8633c",
   "metadata": {},
   "outputs": [],
   "source": []
  }
 ],
 "metadata": {
  "kernelspec": {
   "display_name": "Python 3 (ipykernel)",
   "language": "python",
   "name": "python3"
  },
  "language_info": {
   "codemirror_mode": {
    "name": "ipython",
    "version": 3
   },
   "file_extension": ".py",
   "mimetype": "text/x-python",
   "name": "python",
   "nbconvert_exporter": "python",
   "pygments_lexer": "ipython3",
   "version": "3.9.2"
  }
 },
 "nbformat": 4,
 "nbformat_minor": 5
}
